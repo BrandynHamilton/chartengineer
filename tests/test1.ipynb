{
 "cells": [
  {
   "cell_type": "code",
   "execution_count": 1,
   "id": "3f519d12",
   "metadata": {},
   "outputs": [],
   "source": [
    "import pandas as pd\n",
    "from dfcleaner import DFCleaner\n",
    "from chartengineer import ChartMaker\n",
    "import os"
   ]
  },
  {
   "cell_type": "code",
   "execution_count": 2,
   "id": "202fc5ea",
   "metadata": {},
   "outputs": [],
   "source": [
    "# os.chdir('..')"
   ]
  },
  {
   "cell_type": "code",
   "execution_count": 3,
   "id": "1d6132e6",
   "metadata": {},
   "outputs": [
    {
     "data": {
      "text/plain": [
       "'e:\\\\Projects\\\\chartengineer\\\\tests'"
      ]
     },
     "execution_count": 3,
     "metadata": {},
     "output_type": "execute_result"
    }
   ],
   "source": [
    "os.getcwd()"
   ]
  },
  {
   "cell_type": "code",
   "execution_count": 4,
   "id": "de4f4ca5",
   "metadata": {},
   "outputs": [],
   "source": [
    "test_cleaner = DFCleaner()"
   ]
  },
  {
   "cell_type": "markdown",
   "id": "83ab0a8d",
   "metadata": {},
   "source": [
    "# Line, Bar, Line and Bar"
   ]
  },
  {
   "cell_type": "code",
   "execution_count": 5,
   "id": "a016df75",
   "metadata": {},
   "outputs": [
    {
     "data": {
      "text/html": [
       "<div>\n",
       "<style scoped>\n",
       "    .dataframe tbody tr th:only-of-type {\n",
       "        vertical-align: middle;\n",
       "    }\n",
       "\n",
       "    .dataframe tbody tr th {\n",
       "        vertical-align: top;\n",
       "    }\n",
       "\n",
       "    .dataframe thead th {\n",
       "        text-align: right;\n",
       "    }\n",
       "</style>\n",
       "<table border=\"1\" class=\"dataframe\">\n",
       "  <thead>\n",
       "    <tr style=\"text-align: right;\">\n",
       "      <th></th>\n",
       "      <th>ray_bought</th>\n",
       "      <th>cumulative_ray_bought</th>\n",
       "      <th>usdc_amount</th>\n",
       "      <th>cumulative_usdc_spent</th>\n",
       "    </tr>\n",
       "    <tr>\n",
       "      <th>block_date</th>\n",
       "      <th></th>\n",
       "      <th></th>\n",
       "      <th></th>\n",
       "      <th></th>\n",
       "    </tr>\n",
       "  </thead>\n",
       "  <tbody>\n",
       "    <tr>\n",
       "      <th>2024-09-23</th>\n",
       "      <td>4.658846e+04</td>\n",
       "      <td>3.460436e+07</td>\n",
       "      <td>7.131984e+04</td>\n",
       "      <td>4.478479e+07</td>\n",
       "    </tr>\n",
       "    <tr>\n",
       "      <th>2024-09-16</th>\n",
       "      <td>2.940036e+05</td>\n",
       "      <td>3.455777e+07</td>\n",
       "      <td>4.459475e+05</td>\n",
       "      <td>4.471347e+07</td>\n",
       "    </tr>\n",
       "    <tr>\n",
       "      <th>2024-09-09</th>\n",
       "      <td>2.598019e+05</td>\n",
       "      <td>3.426377e+07</td>\n",
       "      <td>3.821256e+05</td>\n",
       "      <td>4.426752e+07</td>\n",
       "    </tr>\n",
       "    <tr>\n",
       "      <th>2024-09-02</th>\n",
       "      <td>2.512750e+05</td>\n",
       "      <td>3.400397e+07</td>\n",
       "      <td>3.667050e+05</td>\n",
       "      <td>4.388540e+07</td>\n",
       "    </tr>\n",
       "    <tr>\n",
       "      <th>2024-08-26</th>\n",
       "      <td>3.166041e+05</td>\n",
       "      <td>3.375269e+07</td>\n",
       "      <td>5.184075e+05</td>\n",
       "      <td>4.351869e+07</td>\n",
       "    </tr>\n",
       "    <tr>\n",
       "      <th>...</th>\n",
       "      <td>...</td>\n",
       "      <td>...</td>\n",
       "      <td>...</td>\n",
       "      <td>...</td>\n",
       "    </tr>\n",
       "    <tr>\n",
       "      <th>2022-05-23</th>\n",
       "      <td>1.275352e+06</td>\n",
       "      <td>2.564530e+06</td>\n",
       "      <td>1.212400e+06</td>\n",
       "      <td>3.320540e+06</td>\n",
       "    </tr>\n",
       "    <tr>\n",
       "      <th>2022-05-16</th>\n",
       "      <td>4.668794e+05</td>\n",
       "      <td>1.289177e+06</td>\n",
       "      <td>5.917632e+05</td>\n",
       "      <td>2.108140e+06</td>\n",
       "    </tr>\n",
       "    <tr>\n",
       "      <th>2022-05-09</th>\n",
       "      <td>4.758494e+05</td>\n",
       "      <td>8.222981e+05</td>\n",
       "      <td>6.308727e+05</td>\n",
       "      <td>1.516377e+06</td>\n",
       "    </tr>\n",
       "    <tr>\n",
       "      <th>2022-04-25</th>\n",
       "      <td>1.905987e+05</td>\n",
       "      <td>3.464487e+05</td>\n",
       "      <td>4.819738e+05</td>\n",
       "      <td>8.855044e+05</td>\n",
       "    </tr>\n",
       "    <tr>\n",
       "      <th>2022-04-18</th>\n",
       "      <td>1.558500e+05</td>\n",
       "      <td>1.558500e+05</td>\n",
       "      <td>4.035305e+05</td>\n",
       "      <td>4.035305e+05</td>\n",
       "    </tr>\n",
       "  </tbody>\n",
       "</table>\n",
       "<p>105 rows × 4 columns</p>\n",
       "</div>"
      ],
      "text/plain": [
       "              ray_bought  cumulative_ray_bought   usdc_amount  \\\n",
       "block_date                                                      \n",
       "2024-09-23  4.658846e+04           3.460436e+07  7.131984e+04   \n",
       "2024-09-16  2.940036e+05           3.455777e+07  4.459475e+05   \n",
       "2024-09-09  2.598019e+05           3.426377e+07  3.821256e+05   \n",
       "2024-09-02  2.512750e+05           3.400397e+07  3.667050e+05   \n",
       "2024-08-26  3.166041e+05           3.375269e+07  5.184075e+05   \n",
       "...                  ...                    ...           ...   \n",
       "2022-05-23  1.275352e+06           2.564530e+06  1.212400e+06   \n",
       "2022-05-16  4.668794e+05           1.289177e+06  5.917632e+05   \n",
       "2022-05-09  4.758494e+05           8.222981e+05  6.308727e+05   \n",
       "2022-04-25  1.905987e+05           3.464487e+05  4.819738e+05   \n",
       "2022-04-18  1.558500e+05           1.558500e+05  4.035305e+05   \n",
       "\n",
       "            cumulative_usdc_spent  \n",
       "block_date                         \n",
       "2024-09-23           4.478479e+07  \n",
       "2024-09-16           4.471347e+07  \n",
       "2024-09-09           4.426752e+07  \n",
       "2024-09-02           4.388540e+07  \n",
       "2024-08-26           4.351869e+07  \n",
       "...                           ...  \n",
       "2022-05-23           3.320540e+06  \n",
       "2022-05-16           2.108140e+06  \n",
       "2022-05-09           1.516377e+06  \n",
       "2022-04-25           8.855044e+05  \n",
       "2022-04-18           4.035305e+05  \n",
       "\n",
       "[105 rows x 4 columns]"
      ]
     },
     "execution_count": 5,
     "metadata": {},
     "output_type": "execute_result"
    }
   ],
   "source": [
    "test_df1 = test_cleaner.to_df(r'data/$RAY_Buyback_2024_09_25.csv')\n",
    "test_df1, time_freq =  test_cleaner.to_time(test_df1)\n",
    "test_df1"
   ]
  },
  {
   "cell_type": "code",
   "execution_count": 6,
   "id": "0f082d0b",
   "metadata": {},
   "outputs": [
    {
     "name": "stdout",
     "output_type": "stream",
     "text": [
      "kind: None\n",
      "chart_type: {'y1': 'line', 'y2': 'bar'}\n"
     ]
    },
    {
     "data": {
      "application/vnd.plotly.v1+json": {
       "config": {
        "linkText": "Export to plot.ly",
        "plotlyServerURL": "https://plot.ly",
        "showLink": false
       },
       "data": [
        {
         "line": {
          "color": "#1f3400",
          "width": 4
         },
         "mode": "lines",
         "name": "CUMULATIVE RAY BOUGHT (155.8K)     ",
         "showlegend": true,
         "type": "scatter",
         "x": [
          "2024-09-23T00:00:00.000000000",
          "2024-09-16T00:00:00.000000000",
          "2024-09-09T00:00:00.000000000",
          "2024-09-02T00:00:00.000000000",
          "2024-08-26T00:00:00.000000000",
          "2024-08-19T00:00:00.000000000",
          "2024-08-12T00:00:00.000000000",
          "2024-08-05T00:00:00.000000000",
          "2024-07-29T00:00:00.000000000",
          "2024-07-22T00:00:00.000000000",
          "2024-07-15T00:00:00.000000000",
          "2024-07-08T00:00:00.000000000",
          "2024-07-01T00:00:00.000000000",
          "2024-06-24T00:00:00.000000000",
          "2024-06-17T00:00:00.000000000",
          "2024-06-10T00:00:00.000000000",
          "2024-06-03T00:00:00.000000000",
          "2024-05-27T00:00:00.000000000",
          "2024-05-20T00:00:00.000000000",
          "2024-05-13T00:00:00.000000000",
          "2024-05-06T00:00:00.000000000",
          "2024-04-29T00:00:00.000000000",
          "2024-04-22T00:00:00.000000000",
          "2024-04-15T00:00:00.000000000",
          "2024-04-08T00:00:00.000000000",
          "2024-04-01T00:00:00.000000000",
          "2024-03-25T00:00:00.000000000",
          "2024-03-18T00:00:00.000000000",
          "2024-03-11T00:00:00.000000000",
          "2024-03-04T00:00:00.000000000",
          "2024-02-26T00:00:00.000000000",
          "2024-02-19T00:00:00.000000000",
          "2024-02-12T00:00:00.000000000",
          "2024-02-05T00:00:00.000000000",
          "2024-01-29T00:00:00.000000000",
          "2024-01-22T00:00:00.000000000",
          "2024-01-15T00:00:00.000000000",
          "2024-01-08T00:00:00.000000000",
          "2024-01-01T00:00:00.000000000",
          "2023-12-25T00:00:00.000000000",
          "2023-12-18T00:00:00.000000000",
          "2023-12-11T00:00:00.000000000",
          "2023-12-04T00:00:00.000000000",
          "2023-11-27T00:00:00.000000000",
          "2023-11-20T00:00:00.000000000",
          "2023-11-13T00:00:00.000000000",
          "2023-11-06T00:00:00.000000000",
          "2023-10-30T00:00:00.000000000",
          "2023-10-23T00:00:00.000000000",
          "2023-10-16T00:00:00.000000000",
          "2023-10-09T00:00:00.000000000",
          "2023-10-02T00:00:00.000000000",
          "2023-09-25T00:00:00.000000000",
          "2023-09-18T00:00:00.000000000",
          "2023-09-11T00:00:00.000000000",
          "2023-09-04T00:00:00.000000000",
          "2023-08-28T00:00:00.000000000",
          "2023-08-21T00:00:00.000000000",
          "2023-08-14T00:00:00.000000000",
          "2023-08-07T00:00:00.000000000",
          "2023-07-31T00:00:00.000000000",
          "2023-07-24T00:00:00.000000000",
          "2023-07-17T00:00:00.000000000",
          "2023-07-10T00:00:00.000000000",
          "2023-07-03T00:00:00.000000000",
          "2023-06-26T00:00:00.000000000",
          "2023-06-19T00:00:00.000000000",
          "2023-06-12T00:00:00.000000000",
          "2023-06-05T00:00:00.000000000",
          "2023-05-29T00:00:00.000000000",
          "2023-05-22T00:00:00.000000000",
          "2023-05-15T00:00:00.000000000",
          "2023-05-08T00:00:00.000000000",
          "2023-05-01T00:00:00.000000000",
          "2023-04-24T00:00:00.000000000",
          "2023-04-17T00:00:00.000000000",
          "2023-04-10T00:00:00.000000000",
          "2023-04-03T00:00:00.000000000",
          "2023-03-27T00:00:00.000000000",
          "2023-03-20T00:00:00.000000000",
          "2023-03-13T00:00:00.000000000",
          "2023-03-06T00:00:00.000000000",
          "2023-02-27T00:00:00.000000000",
          "2023-02-20T00:00:00.000000000",
          "2023-01-02T00:00:00.000000000",
          "2022-11-07T00:00:00.000000000",
          "2022-10-24T00:00:00.000000000",
          "2022-10-17T00:00:00.000000000",
          "2022-10-10T00:00:00.000000000",
          "2022-10-03T00:00:00.000000000",
          "2022-09-26T00:00:00.000000000",
          "2022-09-19T00:00:00.000000000",
          "2022-09-05T00:00:00.000000000",
          "2022-07-18T00:00:00.000000000",
          "2022-07-11T00:00:00.000000000",
          "2022-07-04T00:00:00.000000000",
          "2022-06-27T00:00:00.000000000",
          "2022-06-13T00:00:00.000000000",
          "2022-06-06T00:00:00.000000000",
          "2022-05-30T00:00:00.000000000",
          "2022-05-23T00:00:00.000000000",
          "2022-05-16T00:00:00.000000000",
          "2022-05-09T00:00:00.000000000",
          "2022-04-25T00:00:00.000000000",
          "2022-04-18T00:00:00.000000000"
         ],
         "xaxis": "x",
         "y": {
          "bdata": "uO5GSSqAgEFxfZhlenqAQf+6k8iWVoBBbuZQ+d82gEHUL5GhMxiAQSP8C4Ib439Bfxsi+HWVf0H78VczSi1/QVfXYbyyxH1Bmp0FMCE6fUEac5d467J8QervpSMe23tBnB6Ukd4MekGLhzdtNxt5Qb08XWRT2HhBmBvM6NDsdkF7GvAIPEl2QZV/7eTgP3ZBgNa8qpI6dkFUbqJ6bDh2QRC1bU8MM3ZBEcaP50todUHxocQ7shh0QVdFeJBNiXJBENGoFV75cEFI4I9nr2hwQZT6sp7uMXBBj4mU1cFpb0Ebpja2ECpvQRkuq1XCt25BzH7d1X35bUEVA6QUy2ptQdJzC1Ub/WxBAFcyBLyHbEGTeeS5FPNrQfUR+DegXGtBAMTd+befakFZMPGQb9hpQZFVSnlk8GhBrtnK9JaDaEHWbrsONolnQTqUIR4HCmdBjuVdxVKEZkHMngSDd/RlQequbAq/kWVB3CkdMYIjZUEaMEheb9JkQXTzjV2zjWRBFQDjNoBLZEGnKBfvkitkQfwXiECiFmRBtuEwud4HZEHoHDxadfBjQXhKB2pv5mNBXYor1l3aY0EeozxH8s1jQSNJkNyHxGNBdCdYu0W2Y0Hmdi8VF6djQarXLV60mWNB5tROw6CBY0E9gTALqHpjQZDAH73Xb2NBmzg5gV5cY0EXm1bLfkljQUjF/wOmQWNBuoUu6yo7Y0EorXieATFjQbIS8y3vMGNBjnQG3PoqY0H9iN+MgCJjQUd6Ub7oD2NBLYJ/psgFY0FXP7aDVuViQe1O9wfsz2JBEOdhf6nKYkH9wNXZQcViQYdu9qw3vmJBKqe94/y4YkGKJWULYbViQftzUXlVr2JBVcITUfGjYkGMoLGiZ5tiQVzrC+UPlmJBflJty6QxYkG/cyjk6gliQdMV7GU382FBxTj/0wlzYUHO4zBSb6BbQUQ2kO9qpFZBLSgMrEPEVUGpTDGF079UQf9fdaclcFJBtoe9d7WMUUGgw3z99FFRQTF72doEEVFBOtBDVG/KUEEzMzOqhSBQQWcN3sczeEpBEK/rDd0zR0EyPPbp2JBDQUrXTGrZqzNBLnqnGjQYKUFMF2KlQiUVQVRvDaxPBgNB",
          "dtype": "f8"
         },
         "yaxis": "y"
        },
        {
         "marker": {
          "color": "#2db152"
         },
         "name": "CUMULATIVE USDC SPENT ($403.5K)     ",
         "showlegend": true,
         "type": "bar",
         "x": [
          "2024-09-23T00:00:00.000000000",
          "2024-09-16T00:00:00.000000000",
          "2024-09-09T00:00:00.000000000",
          "2024-09-02T00:00:00.000000000",
          "2024-08-26T00:00:00.000000000",
          "2024-08-19T00:00:00.000000000",
          "2024-08-12T00:00:00.000000000",
          "2024-08-05T00:00:00.000000000",
          "2024-07-29T00:00:00.000000000",
          "2024-07-22T00:00:00.000000000",
          "2024-07-15T00:00:00.000000000",
          "2024-07-08T00:00:00.000000000",
          "2024-07-01T00:00:00.000000000",
          "2024-06-24T00:00:00.000000000",
          "2024-06-17T00:00:00.000000000",
          "2024-06-10T00:00:00.000000000",
          "2024-06-03T00:00:00.000000000",
          "2024-05-27T00:00:00.000000000",
          "2024-05-20T00:00:00.000000000",
          "2024-05-13T00:00:00.000000000",
          "2024-05-06T00:00:00.000000000",
          "2024-04-29T00:00:00.000000000",
          "2024-04-22T00:00:00.000000000",
          "2024-04-15T00:00:00.000000000",
          "2024-04-08T00:00:00.000000000",
          "2024-04-01T00:00:00.000000000",
          "2024-03-25T00:00:00.000000000",
          "2024-03-18T00:00:00.000000000",
          "2024-03-11T00:00:00.000000000",
          "2024-03-04T00:00:00.000000000",
          "2024-02-26T00:00:00.000000000",
          "2024-02-19T00:00:00.000000000",
          "2024-02-12T00:00:00.000000000",
          "2024-02-05T00:00:00.000000000",
          "2024-01-29T00:00:00.000000000",
          "2024-01-22T00:00:00.000000000",
          "2024-01-15T00:00:00.000000000",
          "2024-01-08T00:00:00.000000000",
          "2024-01-01T00:00:00.000000000",
          "2023-12-25T00:00:00.000000000",
          "2023-12-18T00:00:00.000000000",
          "2023-12-11T00:00:00.000000000",
          "2023-12-04T00:00:00.000000000",
          "2023-11-27T00:00:00.000000000",
          "2023-11-20T00:00:00.000000000",
          "2023-11-13T00:00:00.000000000",
          "2023-11-06T00:00:00.000000000",
          "2023-10-30T00:00:00.000000000",
          "2023-10-23T00:00:00.000000000",
          "2023-10-16T00:00:00.000000000",
          "2023-10-09T00:00:00.000000000",
          "2023-10-02T00:00:00.000000000",
          "2023-09-25T00:00:00.000000000",
          "2023-09-18T00:00:00.000000000",
          "2023-09-11T00:00:00.000000000",
          "2023-09-04T00:00:00.000000000",
          "2023-08-28T00:00:00.000000000",
          "2023-08-21T00:00:00.000000000",
          "2023-08-14T00:00:00.000000000",
          "2023-08-07T00:00:00.000000000",
          "2023-07-31T00:00:00.000000000",
          "2023-07-24T00:00:00.000000000",
          "2023-07-17T00:00:00.000000000",
          "2023-07-10T00:00:00.000000000",
          "2023-07-03T00:00:00.000000000",
          "2023-06-26T00:00:00.000000000",
          "2023-06-19T00:00:00.000000000",
          "2023-06-12T00:00:00.000000000",
          "2023-06-05T00:00:00.000000000",
          "2023-05-29T00:00:00.000000000",
          "2023-05-22T00:00:00.000000000",
          "2023-05-15T00:00:00.000000000",
          "2023-05-08T00:00:00.000000000",
          "2023-05-01T00:00:00.000000000",
          "2023-04-24T00:00:00.000000000",
          "2023-04-17T00:00:00.000000000",
          "2023-04-10T00:00:00.000000000",
          "2023-04-03T00:00:00.000000000",
          "2023-03-27T00:00:00.000000000",
          "2023-03-20T00:00:00.000000000",
          "2023-03-13T00:00:00.000000000",
          "2023-03-06T00:00:00.000000000",
          "2023-02-27T00:00:00.000000000",
          "2023-02-20T00:00:00.000000000",
          "2023-01-02T00:00:00.000000000",
          "2022-11-07T00:00:00.000000000",
          "2022-10-24T00:00:00.000000000",
          "2022-10-17T00:00:00.000000000",
          "2022-10-10T00:00:00.000000000",
          "2022-10-03T00:00:00.000000000",
          "2022-09-26T00:00:00.000000000",
          "2022-09-19T00:00:00.000000000",
          "2022-09-05T00:00:00.000000000",
          "2022-07-18T00:00:00.000000000",
          "2022-07-11T00:00:00.000000000",
          "2022-07-04T00:00:00.000000000",
          "2022-06-27T00:00:00.000000000",
          "2022-06-13T00:00:00.000000000",
          "2022-06-06T00:00:00.000000000",
          "2022-05-30T00:00:00.000000000",
          "2022-05-23T00:00:00.000000000",
          "2022-05-16T00:00:00.000000000",
          "2022-05-09T00:00:00.000000000",
          "2022-04-25T00:00:00.000000000",
          "2022-04-18T00:00:00.000000000"
         ],
         "xaxis": "x",
         "y": {
          "bdata": "WwJ+u+RahUGAI8D8L1KFQfG/uiDAG4VB0H0QtBrthEGfa8orV8CEQUkQdO8OgYRB5y8UpDA+hEHxyqlTnuGDQfd2m1sXo4JBw9134QkMgkE3p5TgU2yBQRjevnbrj4BBvE8LWKACfkGrbFF4bmR8QUjh1zhH/HtBmWMiszjneEEj7QfsZOB3Qdpsk7tb0HdBr3DoY3rHd0ETTeoto8N3QXR800xTundBijm8e9FmdkErwHl6uGt0QQhd0Znm3XFB0rjCn04Ab0H9rO1EqiBtQetRbNEaK2xBwIL93bsxakH2yINXO5hpQcPkhAZz82hBplJiKOD+Z0Fer3BltV5nQW2ZHpln82ZB1VbvOrJ1ZkH/81KrCdZlQfkZk8nrJWVBrROuczdTZEEZ6Ud/w2NjQf2FBXIbXWJBWggW2f3HYUFfNRuXQ1pgQZo3FzFar19BGLrtPdPeXkFi23Gmr1BeQTkg5FcEAV5B7gfX+vqtXUGAW+lcVG9dQT6mjF64QF1BlEwJfBIdXUG5VxzUoRBdQXx7c0j+CF1BCtxh5rkDXUE/q5yaU/pcQUrUAjXl9lxB7BU4/6ryXEFdozOdau5cQQvCF8L36lxB3mvQm8XlXEHDc6gsKeBcQY5IeQbX2lxBt/RfdpfQXEEb2VkPuM1cQTaYUHoGyVxB/DvBx5i/XEFn46Qe0rdcQS9GO96KtFxBVhkhs+GxXEHFOUut7q1cQYFMKF3orVxBXiN/7n6rXEHtYh+JwqdcQc+lAIw8oFxB162BOAycXEGl+deFyo5cQcY4qD4ThVxBLhP5nY+CXEFEukABtX9cQdKSnOT3e1xBy1xt9295XEF0lOUPvXdcQRRMGpCvdFxBf+SOn9tuXEGvd+jabmpcQRxkk8MyZ1xBTkejucMqXEG16BxxbR5cQQOIRGaCElxBjN0onFeRW0Hzo94pkvNXQcnho6lyd1VBpFpvDjP2VEGpD6DNx2FUQaUMqNF9GVNBI6vIu6GMUkF+rJUd5VVSQTlejbzzIFJB5377Uv3vUUEnYr9Gb4RRQW5nucdESk9BlnLgR1eqTEHYJXgCblVJQcpBLSZ2FUBBy05BIFkjN0H7B9PAAAYrQSxi1SIqoRhB",
          "dtype": "f8"
         },
         "yaxis": "y2"
        }
       ],
       "layout": {
        "autosize": true,
        "barmode": "stack",
        "font": {
         "color": "black",
         "family": "Cardo"
        },
        "height": 400,
        "hovermode": "x unified",
        "legend": {
         "bgcolor": "rgba(0,0,0,0)",
         "bordercolor": "rgba(0,0,0,0)",
         "borderwidth": 1,
         "orientation": "v",
         "traceorder": "normal",
         "x": 0.01,
         "xanchor": "left",
         "y": 1.05,
         "yanchor": "top"
        },
        "margin": {
         "t": 100
        },
        "template": {
         "data": {
          "bar": [
           {
            "error_x": {
             "color": "#2a3f5f"
            },
            "error_y": {
             "color": "#2a3f5f"
            },
            "marker": {
             "line": {
              "color": "white",
              "width": 0.5
             },
             "pattern": {
              "fillmode": "overlay",
              "size": 10,
              "solidity": 0.2
             }
            },
            "type": "bar"
           }
          ],
          "barpolar": [
           {
            "marker": {
             "line": {
              "color": "white",
              "width": 0.5
             },
             "pattern": {
              "fillmode": "overlay",
              "size": 10,
              "solidity": 0.2
             }
            },
            "type": "barpolar"
           }
          ],
          "carpet": [
           {
            "aaxis": {
             "endlinecolor": "#2a3f5f",
             "gridcolor": "#C8D4E3",
             "linecolor": "#C8D4E3",
             "minorgridcolor": "#C8D4E3",
             "startlinecolor": "#2a3f5f"
            },
            "baxis": {
             "endlinecolor": "#2a3f5f",
             "gridcolor": "#C8D4E3",
             "linecolor": "#C8D4E3",
             "minorgridcolor": "#C8D4E3",
             "startlinecolor": "#2a3f5f"
            },
            "type": "carpet"
           }
          ],
          "choropleth": [
           {
            "colorbar": {
             "outlinewidth": 0,
             "ticks": ""
            },
            "type": "choropleth"
           }
          ],
          "contour": [
           {
            "colorbar": {
             "outlinewidth": 0,
             "ticks": ""
            },
            "colorscale": [
             [
              0,
              "#0d0887"
             ],
             [
              0.1111111111111111,
              "#46039f"
             ],
             [
              0.2222222222222222,
              "#7201a8"
             ],
             [
              0.3333333333333333,
              "#9c179e"
             ],
             [
              0.4444444444444444,
              "#bd3786"
             ],
             [
              0.5555555555555556,
              "#d8576b"
             ],
             [
              0.6666666666666666,
              "#ed7953"
             ],
             [
              0.7777777777777778,
              "#fb9f3a"
             ],
             [
              0.8888888888888888,
              "#fdca26"
             ],
             [
              1,
              "#f0f921"
             ]
            ],
            "type": "contour"
           }
          ],
          "contourcarpet": [
           {
            "colorbar": {
             "outlinewidth": 0,
             "ticks": ""
            },
            "type": "contourcarpet"
           }
          ],
          "heatmap": [
           {
            "colorbar": {
             "outlinewidth": 0,
             "ticks": ""
            },
            "colorscale": [
             [
              0,
              "#0d0887"
             ],
             [
              0.1111111111111111,
              "#46039f"
             ],
             [
              0.2222222222222222,
              "#7201a8"
             ],
             [
              0.3333333333333333,
              "#9c179e"
             ],
             [
              0.4444444444444444,
              "#bd3786"
             ],
             [
              0.5555555555555556,
              "#d8576b"
             ],
             [
              0.6666666666666666,
              "#ed7953"
             ],
             [
              0.7777777777777778,
              "#fb9f3a"
             ],
             [
              0.8888888888888888,
              "#fdca26"
             ],
             [
              1,
              "#f0f921"
             ]
            ],
            "type": "heatmap"
           }
          ],
          "histogram": [
           {
            "marker": {
             "pattern": {
              "fillmode": "overlay",
              "size": 10,
              "solidity": 0.2
             }
            },
            "type": "histogram"
           }
          ],
          "histogram2d": [
           {
            "colorbar": {
             "outlinewidth": 0,
             "ticks": ""
            },
            "colorscale": [
             [
              0,
              "#0d0887"
             ],
             [
              0.1111111111111111,
              "#46039f"
             ],
             [
              0.2222222222222222,
              "#7201a8"
             ],
             [
              0.3333333333333333,
              "#9c179e"
             ],
             [
              0.4444444444444444,
              "#bd3786"
             ],
             [
              0.5555555555555556,
              "#d8576b"
             ],
             [
              0.6666666666666666,
              "#ed7953"
             ],
             [
              0.7777777777777778,
              "#fb9f3a"
             ],
             [
              0.8888888888888888,
              "#fdca26"
             ],
             [
              1,
              "#f0f921"
             ]
            ],
            "type": "histogram2d"
           }
          ],
          "histogram2dcontour": [
           {
            "colorbar": {
             "outlinewidth": 0,
             "ticks": ""
            },
            "colorscale": [
             [
              0,
              "#0d0887"
             ],
             [
              0.1111111111111111,
              "#46039f"
             ],
             [
              0.2222222222222222,
              "#7201a8"
             ],
             [
              0.3333333333333333,
              "#9c179e"
             ],
             [
              0.4444444444444444,
              "#bd3786"
             ],
             [
              0.5555555555555556,
              "#d8576b"
             ],
             [
              0.6666666666666666,
              "#ed7953"
             ],
             [
              0.7777777777777778,
              "#fb9f3a"
             ],
             [
              0.8888888888888888,
              "#fdca26"
             ],
             [
              1,
              "#f0f921"
             ]
            ],
            "type": "histogram2dcontour"
           }
          ],
          "mesh3d": [
           {
            "colorbar": {
             "outlinewidth": 0,
             "ticks": ""
            },
            "type": "mesh3d"
           }
          ],
          "parcoords": [
           {
            "line": {
             "colorbar": {
              "outlinewidth": 0,
              "ticks": ""
             }
            },
            "type": "parcoords"
           }
          ],
          "pie": [
           {
            "automargin": true,
            "type": "pie"
           }
          ],
          "scatter": [
           {
            "fillpattern": {
             "fillmode": "overlay",
             "size": 10,
             "solidity": 0.2
            },
            "type": "scatter"
           }
          ],
          "scatter3d": [
           {
            "line": {
             "colorbar": {
              "outlinewidth": 0,
              "ticks": ""
             }
            },
            "marker": {
             "colorbar": {
              "outlinewidth": 0,
              "ticks": ""
             }
            },
            "type": "scatter3d"
           }
          ],
          "scattercarpet": [
           {
            "marker": {
             "colorbar": {
              "outlinewidth": 0,
              "ticks": ""
             }
            },
            "type": "scattercarpet"
           }
          ],
          "scattergeo": [
           {
            "marker": {
             "colorbar": {
              "outlinewidth": 0,
              "ticks": ""
             }
            },
            "type": "scattergeo"
           }
          ],
          "scattergl": [
           {
            "marker": {
             "colorbar": {
              "outlinewidth": 0,
              "ticks": ""
             }
            },
            "type": "scattergl"
           }
          ],
          "scattermap": [
           {
            "marker": {
             "colorbar": {
              "outlinewidth": 0,
              "ticks": ""
             }
            },
            "type": "scattermap"
           }
          ],
          "scattermapbox": [
           {
            "marker": {
             "colorbar": {
              "outlinewidth": 0,
              "ticks": ""
             }
            },
            "type": "scattermapbox"
           }
          ],
          "scatterpolar": [
           {
            "marker": {
             "colorbar": {
              "outlinewidth": 0,
              "ticks": ""
             }
            },
            "type": "scatterpolar"
           }
          ],
          "scatterpolargl": [
           {
            "marker": {
             "colorbar": {
              "outlinewidth": 0,
              "ticks": ""
             }
            },
            "type": "scatterpolargl"
           }
          ],
          "scatterternary": [
           {
            "marker": {
             "colorbar": {
              "outlinewidth": 0,
              "ticks": ""
             }
            },
            "type": "scatterternary"
           }
          ],
          "surface": [
           {
            "colorbar": {
             "outlinewidth": 0,
             "ticks": ""
            },
            "colorscale": [
             [
              0,
              "#0d0887"
             ],
             [
              0.1111111111111111,
              "#46039f"
             ],
             [
              0.2222222222222222,
              "#7201a8"
             ],
             [
              0.3333333333333333,
              "#9c179e"
             ],
             [
              0.4444444444444444,
              "#bd3786"
             ],
             [
              0.5555555555555556,
              "#d8576b"
             ],
             [
              0.6666666666666666,
              "#ed7953"
             ],
             [
              0.7777777777777778,
              "#fb9f3a"
             ],
             [
              0.8888888888888888,
              "#fdca26"
             ],
             [
              1,
              "#f0f921"
             ]
            ],
            "type": "surface"
           }
          ],
          "table": [
           {
            "cells": {
             "fill": {
              "color": "#EBF0F8"
             },
             "line": {
              "color": "white"
             }
            },
            "header": {
             "fill": {
              "color": "#C8D4E3"
             },
             "line": {
              "color": "white"
             }
            },
            "type": "table"
           }
          ]
         },
         "layout": {
          "annotationdefaults": {
           "arrowcolor": "#2a3f5f",
           "arrowhead": 0,
           "arrowwidth": 1
          },
          "autotypenumbers": "strict",
          "coloraxis": {
           "colorbar": {
            "outlinewidth": 0,
            "ticks": ""
           }
          },
          "colorscale": {
           "diverging": [
            [
             0,
             "#8e0152"
            ],
            [
             0.1,
             "#c51b7d"
            ],
            [
             0.2,
             "#de77ae"
            ],
            [
             0.3,
             "#f1b6da"
            ],
            [
             0.4,
             "#fde0ef"
            ],
            [
             0.5,
             "#f7f7f7"
            ],
            [
             0.6,
             "#e6f5d0"
            ],
            [
             0.7,
             "#b8e186"
            ],
            [
             0.8,
             "#7fbc41"
            ],
            [
             0.9,
             "#4d9221"
            ],
            [
             1,
             "#276419"
            ]
           ],
           "sequential": [
            [
             0,
             "#0d0887"
            ],
            [
             0.1111111111111111,
             "#46039f"
            ],
            [
             0.2222222222222222,
             "#7201a8"
            ],
            [
             0.3333333333333333,
             "#9c179e"
            ],
            [
             0.4444444444444444,
             "#bd3786"
            ],
            [
             0.5555555555555556,
             "#d8576b"
            ],
            [
             0.6666666666666666,
             "#ed7953"
            ],
            [
             0.7777777777777778,
             "#fb9f3a"
            ],
            [
             0.8888888888888888,
             "#fdca26"
            ],
            [
             1,
             "#f0f921"
            ]
           ],
           "sequentialminus": [
            [
             0,
             "#0d0887"
            ],
            [
             0.1111111111111111,
             "#46039f"
            ],
            [
             0.2222222222222222,
             "#7201a8"
            ],
            [
             0.3333333333333333,
             "#9c179e"
            ],
            [
             0.4444444444444444,
             "#bd3786"
            ],
            [
             0.5555555555555556,
             "#d8576b"
            ],
            [
             0.6666666666666666,
             "#ed7953"
            ],
            [
             0.7777777777777778,
             "#fb9f3a"
            ],
            [
             0.8888888888888888,
             "#fdca26"
            ],
            [
             1,
             "#f0f921"
            ]
           ]
          },
          "colorway": [
           "#636efa",
           "#EF553B",
           "#00cc96",
           "#ab63fa",
           "#FFA15A",
           "#19d3f3",
           "#FF6692",
           "#B6E880",
           "#FF97FF",
           "#FECB52"
          ],
          "font": {
           "color": "#2a3f5f"
          },
          "geo": {
           "bgcolor": "white",
           "lakecolor": "white",
           "landcolor": "white",
           "showlakes": true,
           "showland": true,
           "subunitcolor": "#C8D4E3"
          },
          "hoverlabel": {
           "align": "left"
          },
          "hovermode": "closest",
          "mapbox": {
           "style": "light"
          },
          "paper_bgcolor": "white",
          "plot_bgcolor": "white",
          "polar": {
           "angularaxis": {
            "gridcolor": "#EBF0F8",
            "linecolor": "#EBF0F8",
            "ticks": ""
           },
           "bgcolor": "white",
           "radialaxis": {
            "gridcolor": "#EBF0F8",
            "linecolor": "#EBF0F8",
            "ticks": ""
           }
          },
          "scene": {
           "xaxis": {
            "backgroundcolor": "white",
            "gridcolor": "#DFE8F3",
            "gridwidth": 2,
            "linecolor": "#EBF0F8",
            "showbackground": true,
            "ticks": "",
            "zerolinecolor": "#EBF0F8"
           },
           "yaxis": {
            "backgroundcolor": "white",
            "gridcolor": "#DFE8F3",
            "gridwidth": 2,
            "linecolor": "#EBF0F8",
            "showbackground": true,
            "ticks": "",
            "zerolinecolor": "#EBF0F8"
           },
           "zaxis": {
            "backgroundcolor": "white",
            "gridcolor": "#DFE8F3",
            "gridwidth": 2,
            "linecolor": "#EBF0F8",
            "showbackground": true,
            "ticks": "",
            "zerolinecolor": "#EBF0F8"
           }
          },
          "shapedefaults": {
           "line": {
            "color": "#2a3f5f"
           }
          },
          "ternary": {
           "aaxis": {
            "gridcolor": "#DFE8F3",
            "linecolor": "#A2B1C6",
            "ticks": ""
           },
           "baxis": {
            "gridcolor": "#DFE8F3",
            "linecolor": "#A2B1C6",
            "ticks": ""
           },
           "bgcolor": "white",
           "caxis": {
            "gridcolor": "#DFE8F3",
            "linecolor": "#A2B1C6",
            "ticks": ""
           }
          },
          "title": {
           "x": 0.05
          },
          "xaxis": {
           "automargin": true,
           "gridcolor": "#EBF0F8",
           "linecolor": "#EBF0F8",
           "ticks": "",
           "title": {
            "standoff": 15
           },
           "zerolinecolor": "#EBF0F8",
           "zerolinewidth": 2
          },
          "yaxis": {
           "automargin": true,
           "gridcolor": "#EBF0F8",
           "linecolor": "#EBF0F8",
           "ticks": "",
           "title": {
            "standoff": 15
           },
           "zerolinecolor": "#EBF0F8",
           "zerolinewidth": 2
          }
         }
        },
        "title": {
         "font": {
          "color": "black",
          "family": "Cardo",
          "size": 27
         },
         "text": "<span style='color: black; font-weight: normal;'>$RAY Buybacks Over Time</span><br><sub style='font-size: 18px; color: black; font-weight: normal;'>Daily through 2024-09-23 00:00:00</sub>",
         "x": 0.5,
         "xanchor": "left",
         "y": 0.9,
         "yanchor": "top"
        },
        "width": 730,
        "xaxis": {
         "anchor": "y",
         "domain": [
          0,
          0.94
         ],
         "tickfont": {
          "color": "black"
         }
        },
        "yaxis": {
         "anchor": "x",
         "color": "#1f3400",
         "domain": [
          0,
          1
         ],
         "tickprefix": "",
         "title": {
          "text": "CUMULATIVE RAY BOUGHT"
         }
        },
        "yaxis2": {
         "anchor": "x",
         "color": "#2db152",
         "overlaying": "y",
         "side": "right",
         "tickprefix": "$",
         "title": {
          "text": "CUMULATIVE USDC SPENT"
         }
        }
       }
      }
     },
     "metadata": {},
     "output_type": "display_data"
    },
    {
     "name": "stdout",
     "output_type": "stream",
     "text": [
      "Saving figure to: img\\$RAY Buybacks Over Time.png\n"
     ]
    }
   ],
   "source": [
    "cm = ChartMaker(shuffle_colors=True)\n",
    "cm.build(\n",
    "    df = test_df1,\n",
    "    axes_data=dict(y1=['cumulative_ray_bought'],\n",
    "                    y2=['cumulative_usdc_spent']),\n",
    "    title='$RAY Buybacks Over Time',\n",
    "    chart_type={'y1':'line','y2':'bar'},\n",
    "    options = {'margin':dict(t=100),'annotations':True,\n",
    "                'tickprefix':{'y2':'$'},'auto_title':True,\n",
    "                'show_legend':True,'legend_placement':{'x':0.01,'y':1.05}},\n",
    ")\n",
    "cm.add_title(\n",
    "    title='$RAY Buybacks Over Time',\n",
    "    subtitle=f'Daily through {test_df1.index.max()}',\n",
    "    x=0.5,\n",
    "    y=0.9\n",
    ")\n",
    "cm.add_annotations()\n",
    "cm.show_fig()\n",
    "cm.save_fig(save_directory='img')"
   ]
  },
  {
   "cell_type": "code",
   "execution_count": 7,
   "id": "7f447528",
   "metadata": {},
   "outputs": [
    {
     "name": "stdout",
     "output_type": "stream",
     "text": [
      "kind: None\n",
      "chart_type: {'y1': 'line', 'y2': 'bar'}\n"
     ]
    },
    {
     "data": {
      "application/vnd.plotly.v1+json": {
       "config": {
        "linkText": "Export to plot.ly",
        "plotlyServerURL": "https://plot.ly",
        "showLink": false
       },
       "data": [
        {
         "line": {
          "color": "#118e54",
          "width": 4
         },
         "mode": "lines",
         "name": "CUMULATIVE RAY BOUGHT (155.8K)     ",
         "showlegend": true,
         "type": "scatter",
         "x": [
          "2024-09-23T00:00:00.000000000",
          "2024-09-16T00:00:00.000000000",
          "2024-09-09T00:00:00.000000000",
          "2024-09-02T00:00:00.000000000",
          "2024-08-26T00:00:00.000000000",
          "2024-08-19T00:00:00.000000000",
          "2024-08-12T00:00:00.000000000",
          "2024-08-05T00:00:00.000000000",
          "2024-07-29T00:00:00.000000000",
          "2024-07-22T00:00:00.000000000",
          "2024-07-15T00:00:00.000000000",
          "2024-07-08T00:00:00.000000000",
          "2024-07-01T00:00:00.000000000",
          "2024-06-24T00:00:00.000000000",
          "2024-06-17T00:00:00.000000000",
          "2024-06-10T00:00:00.000000000",
          "2024-06-03T00:00:00.000000000",
          "2024-05-27T00:00:00.000000000",
          "2024-05-20T00:00:00.000000000",
          "2024-05-13T00:00:00.000000000",
          "2024-05-06T00:00:00.000000000",
          "2024-04-29T00:00:00.000000000",
          "2024-04-22T00:00:00.000000000",
          "2024-04-15T00:00:00.000000000",
          "2024-04-08T00:00:00.000000000",
          "2024-04-01T00:00:00.000000000",
          "2024-03-25T00:00:00.000000000",
          "2024-03-18T00:00:00.000000000",
          "2024-03-11T00:00:00.000000000",
          "2024-03-04T00:00:00.000000000",
          "2024-02-26T00:00:00.000000000",
          "2024-02-19T00:00:00.000000000",
          "2024-02-12T00:00:00.000000000",
          "2024-02-05T00:00:00.000000000",
          "2024-01-29T00:00:00.000000000",
          "2024-01-22T00:00:00.000000000",
          "2024-01-15T00:00:00.000000000",
          "2024-01-08T00:00:00.000000000",
          "2024-01-01T00:00:00.000000000",
          "2023-12-25T00:00:00.000000000",
          "2023-12-18T00:00:00.000000000",
          "2023-12-11T00:00:00.000000000",
          "2023-12-04T00:00:00.000000000",
          "2023-11-27T00:00:00.000000000",
          "2023-11-20T00:00:00.000000000",
          "2023-11-13T00:00:00.000000000",
          "2023-11-06T00:00:00.000000000",
          "2023-10-30T00:00:00.000000000",
          "2023-10-23T00:00:00.000000000",
          "2023-10-16T00:00:00.000000000",
          "2023-10-09T00:00:00.000000000",
          "2023-10-02T00:00:00.000000000",
          "2023-09-25T00:00:00.000000000",
          "2023-09-18T00:00:00.000000000",
          "2023-09-11T00:00:00.000000000",
          "2023-09-04T00:00:00.000000000",
          "2023-08-28T00:00:00.000000000",
          "2023-08-21T00:00:00.000000000",
          "2023-08-14T00:00:00.000000000",
          "2023-08-07T00:00:00.000000000",
          "2023-07-31T00:00:00.000000000",
          "2023-07-24T00:00:00.000000000",
          "2023-07-17T00:00:00.000000000",
          "2023-07-10T00:00:00.000000000",
          "2023-07-03T00:00:00.000000000",
          "2023-06-26T00:00:00.000000000",
          "2023-06-19T00:00:00.000000000",
          "2023-06-12T00:00:00.000000000",
          "2023-06-05T00:00:00.000000000",
          "2023-05-29T00:00:00.000000000",
          "2023-05-22T00:00:00.000000000",
          "2023-05-15T00:00:00.000000000",
          "2023-05-08T00:00:00.000000000",
          "2023-05-01T00:00:00.000000000",
          "2023-04-24T00:00:00.000000000",
          "2023-04-17T00:00:00.000000000",
          "2023-04-10T00:00:00.000000000",
          "2023-04-03T00:00:00.000000000",
          "2023-03-27T00:00:00.000000000",
          "2023-03-20T00:00:00.000000000",
          "2023-03-13T00:00:00.000000000",
          "2023-03-06T00:00:00.000000000",
          "2023-02-27T00:00:00.000000000",
          "2023-02-20T00:00:00.000000000",
          "2023-01-02T00:00:00.000000000",
          "2022-11-07T00:00:00.000000000",
          "2022-10-24T00:00:00.000000000",
          "2022-10-17T00:00:00.000000000",
          "2022-10-10T00:00:00.000000000",
          "2022-10-03T00:00:00.000000000",
          "2022-09-26T00:00:00.000000000",
          "2022-09-19T00:00:00.000000000",
          "2022-09-05T00:00:00.000000000",
          "2022-07-18T00:00:00.000000000",
          "2022-07-11T00:00:00.000000000",
          "2022-07-04T00:00:00.000000000",
          "2022-06-27T00:00:00.000000000",
          "2022-06-13T00:00:00.000000000",
          "2022-06-06T00:00:00.000000000",
          "2022-05-30T00:00:00.000000000",
          "2022-05-23T00:00:00.000000000",
          "2022-05-16T00:00:00.000000000",
          "2022-05-09T00:00:00.000000000",
          "2022-04-25T00:00:00.000000000",
          "2022-04-18T00:00:00.000000000"
         ],
         "xaxis": "x",
         "y": {
          "bdata": "uO5GSSqAgEFxfZhlenqAQf+6k8iWVoBBbuZQ+d82gEHUL5GhMxiAQSP8C4Ib439Bfxsi+HWVf0H78VczSi1/QVfXYbyyxH1Bmp0FMCE6fUEac5d467J8QervpSMe23tBnB6Ukd4MekGLhzdtNxt5Qb08XWRT2HhBmBvM6NDsdkF7GvAIPEl2QZV/7eTgP3ZBgNa8qpI6dkFUbqJ6bDh2QRC1bU8MM3ZBEcaP50todUHxocQ7shh0QVdFeJBNiXJBENGoFV75cEFI4I9nr2hwQZT6sp7uMXBBj4mU1cFpb0Ebpja2ECpvQRkuq1XCt25BzH7d1X35bUEVA6QUy2ptQdJzC1Ub/WxBAFcyBLyHbEGTeeS5FPNrQfUR+DegXGtBAMTd+befakFZMPGQb9hpQZFVSnlk8GhBrtnK9JaDaEHWbrsONolnQTqUIR4HCmdBjuVdxVKEZkHMngSDd/RlQequbAq/kWVB3CkdMYIjZUEaMEheb9JkQXTzjV2zjWRBFQDjNoBLZEGnKBfvkitkQfwXiECiFmRBtuEwud4HZEHoHDxadfBjQXhKB2pv5mNBXYor1l3aY0EeozxH8s1jQSNJkNyHxGNBdCdYu0W2Y0Hmdi8VF6djQarXLV60mWNB5tROw6CBY0E9gTALqHpjQZDAH73Xb2NBmzg5gV5cY0EXm1bLfkljQUjF/wOmQWNBuoUu6yo7Y0EorXieATFjQbIS8y3vMGNBjnQG3PoqY0H9iN+MgCJjQUd6Ub7oD2NBLYJ/psgFY0FXP7aDVuViQe1O9wfsz2JBEOdhf6nKYkH9wNXZQcViQYdu9qw3vmJBKqe94/y4YkGKJWULYbViQftzUXlVr2JBVcITUfGjYkGMoLGiZ5tiQVzrC+UPlmJBflJty6QxYkG/cyjk6gliQdMV7GU382FBxTj/0wlzYUHO4zBSb6BbQUQ2kO9qpFZBLSgMrEPEVUGpTDGF079UQf9fdaclcFJBtoe9d7WMUUGgw3z99FFRQTF72doEEVFBOtBDVG/KUEEzMzOqhSBQQWcN3sczeEpBEK/rDd0zR0EyPPbp2JBDQUrXTGrZqzNBLnqnGjQYKUFMF2KlQiUVQVRvDaxPBgNB",
          "dtype": "f8"
         },
         "yaxis": "y"
        },
        {
         "marker": {
          "color": "#a55949"
         },
         "name": "CUMULATIVE USDC SPENT ($403.5K)     ",
         "showlegend": true,
         "type": "bar",
         "x": [
          "2024-09-23T00:00:00.000000000",
          "2024-09-16T00:00:00.000000000",
          "2024-09-09T00:00:00.000000000",
          "2024-09-02T00:00:00.000000000",
          "2024-08-26T00:00:00.000000000",
          "2024-08-19T00:00:00.000000000",
          "2024-08-12T00:00:00.000000000",
          "2024-08-05T00:00:00.000000000",
          "2024-07-29T00:00:00.000000000",
          "2024-07-22T00:00:00.000000000",
          "2024-07-15T00:00:00.000000000",
          "2024-07-08T00:00:00.000000000",
          "2024-07-01T00:00:00.000000000",
          "2024-06-24T00:00:00.000000000",
          "2024-06-17T00:00:00.000000000",
          "2024-06-10T00:00:00.000000000",
          "2024-06-03T00:00:00.000000000",
          "2024-05-27T00:00:00.000000000",
          "2024-05-20T00:00:00.000000000",
          "2024-05-13T00:00:00.000000000",
          "2024-05-06T00:00:00.000000000",
          "2024-04-29T00:00:00.000000000",
          "2024-04-22T00:00:00.000000000",
          "2024-04-15T00:00:00.000000000",
          "2024-04-08T00:00:00.000000000",
          "2024-04-01T00:00:00.000000000",
          "2024-03-25T00:00:00.000000000",
          "2024-03-18T00:00:00.000000000",
          "2024-03-11T00:00:00.000000000",
          "2024-03-04T00:00:00.000000000",
          "2024-02-26T00:00:00.000000000",
          "2024-02-19T00:00:00.000000000",
          "2024-02-12T00:00:00.000000000",
          "2024-02-05T00:00:00.000000000",
          "2024-01-29T00:00:00.000000000",
          "2024-01-22T00:00:00.000000000",
          "2024-01-15T00:00:00.000000000",
          "2024-01-08T00:00:00.000000000",
          "2024-01-01T00:00:00.000000000",
          "2023-12-25T00:00:00.000000000",
          "2023-12-18T00:00:00.000000000",
          "2023-12-11T00:00:00.000000000",
          "2023-12-04T00:00:00.000000000",
          "2023-11-27T00:00:00.000000000",
          "2023-11-20T00:00:00.000000000",
          "2023-11-13T00:00:00.000000000",
          "2023-11-06T00:00:00.000000000",
          "2023-10-30T00:00:00.000000000",
          "2023-10-23T00:00:00.000000000",
          "2023-10-16T00:00:00.000000000",
          "2023-10-09T00:00:00.000000000",
          "2023-10-02T00:00:00.000000000",
          "2023-09-25T00:00:00.000000000",
          "2023-09-18T00:00:00.000000000",
          "2023-09-11T00:00:00.000000000",
          "2023-09-04T00:00:00.000000000",
          "2023-08-28T00:00:00.000000000",
          "2023-08-21T00:00:00.000000000",
          "2023-08-14T00:00:00.000000000",
          "2023-08-07T00:00:00.000000000",
          "2023-07-31T00:00:00.000000000",
          "2023-07-24T00:00:00.000000000",
          "2023-07-17T00:00:00.000000000",
          "2023-07-10T00:00:00.000000000",
          "2023-07-03T00:00:00.000000000",
          "2023-06-26T00:00:00.000000000",
          "2023-06-19T00:00:00.000000000",
          "2023-06-12T00:00:00.000000000",
          "2023-06-05T00:00:00.000000000",
          "2023-05-29T00:00:00.000000000",
          "2023-05-22T00:00:00.000000000",
          "2023-05-15T00:00:00.000000000",
          "2023-05-08T00:00:00.000000000",
          "2023-05-01T00:00:00.000000000",
          "2023-04-24T00:00:00.000000000",
          "2023-04-17T00:00:00.000000000",
          "2023-04-10T00:00:00.000000000",
          "2023-04-03T00:00:00.000000000",
          "2023-03-27T00:00:00.000000000",
          "2023-03-20T00:00:00.000000000",
          "2023-03-13T00:00:00.000000000",
          "2023-03-06T00:00:00.000000000",
          "2023-02-27T00:00:00.000000000",
          "2023-02-20T00:00:00.000000000",
          "2023-01-02T00:00:00.000000000",
          "2022-11-07T00:00:00.000000000",
          "2022-10-24T00:00:00.000000000",
          "2022-10-17T00:00:00.000000000",
          "2022-10-10T00:00:00.000000000",
          "2022-10-03T00:00:00.000000000",
          "2022-09-26T00:00:00.000000000",
          "2022-09-19T00:00:00.000000000",
          "2022-09-05T00:00:00.000000000",
          "2022-07-18T00:00:00.000000000",
          "2022-07-11T00:00:00.000000000",
          "2022-07-04T00:00:00.000000000",
          "2022-06-27T00:00:00.000000000",
          "2022-06-13T00:00:00.000000000",
          "2022-06-06T00:00:00.000000000",
          "2022-05-30T00:00:00.000000000",
          "2022-05-23T00:00:00.000000000",
          "2022-05-16T00:00:00.000000000",
          "2022-05-09T00:00:00.000000000",
          "2022-04-25T00:00:00.000000000",
          "2022-04-18T00:00:00.000000000"
         ],
         "xaxis": "x",
         "y": {
          "bdata": "WwJ+u+RahUGAI8D8L1KFQfG/uiDAG4VB0H0QtBrthEGfa8orV8CEQUkQdO8OgYRB5y8UpDA+hEHxyqlTnuGDQfd2m1sXo4JBw9134QkMgkE3p5TgU2yBQRjevnbrj4BBvE8LWKACfkGrbFF4bmR8QUjh1zhH/HtBmWMiszjneEEj7QfsZOB3Qdpsk7tb0HdBr3DoY3rHd0ETTeoto8N3QXR800xTundBijm8e9FmdkErwHl6uGt0QQhd0Znm3XFB0rjCn04Ab0H9rO1EqiBtQetRbNEaK2xBwIL93bsxakH2yINXO5hpQcPkhAZz82hBplJiKOD+Z0Fer3BltV5nQW2ZHpln82ZB1VbvOrJ1ZkH/81KrCdZlQfkZk8nrJWVBrROuczdTZEEZ6Ud/w2NjQf2FBXIbXWJBWggW2f3HYUFfNRuXQ1pgQZo3FzFar19BGLrtPdPeXkFi23Gmr1BeQTkg5FcEAV5B7gfX+vqtXUGAW+lcVG9dQT6mjF64QF1BlEwJfBIdXUG5VxzUoRBdQXx7c0j+CF1BCtxh5rkDXUE/q5yaU/pcQUrUAjXl9lxB7BU4/6ryXEFdozOdau5cQQvCF8L36lxB3mvQm8XlXEHDc6gsKeBcQY5IeQbX2lxBt/RfdpfQXEEb2VkPuM1cQTaYUHoGyVxB/DvBx5i/XEFn46Qe0rdcQS9GO96KtFxBVhkhs+GxXEHFOUut7q1cQYFMKF3orVxBXiN/7n6rXEHtYh+JwqdcQc+lAIw8oFxB162BOAycXEGl+deFyo5cQcY4qD4ThVxBLhP5nY+CXEFEukABtX9cQdKSnOT3e1xBy1xt9295XEF0lOUPvXdcQRRMGpCvdFxBf+SOn9tuXEGvd+jabmpcQRxkk8MyZ1xBTkejucMqXEG16BxxbR5cQQOIRGaCElxBjN0onFeRW0Hzo94pkvNXQcnho6lyd1VBpFpvDjP2VEGpD6DNx2FUQaUMqNF9GVNBI6vIu6GMUkF+rJUd5VVSQTlejbzzIFJB5377Uv3vUUEnYr9Gb4RRQW5nucdESk9BlnLgR1eqTEHYJXgCblVJQcpBLSZ2FUBBy05BIFkjN0H7B9PAAAYrQSxi1SIqoRhB",
          "dtype": "f8"
         },
         "yaxis": "y2"
        }
       ],
       "layout": {
        "autosize": true,
        "barmode": "stack",
        "font": {
         "color": "black",
         "family": "Cardo"
        },
        "height": 400,
        "hovermode": "x unified",
        "legend": {
         "bgcolor": "rgba(0,0,0,0)",
         "bordercolor": "rgba(0,0,0,0)",
         "borderwidth": 1,
         "orientation": "v",
         "traceorder": "normal",
         "x": 1.1,
         "xanchor": "left",
         "y": 1,
         "yanchor": "top"
        },
        "margin": {
         "t": 100
        },
        "template": {
         "data": {
          "bar": [
           {
            "error_x": {
             "color": "#2a3f5f"
            },
            "error_y": {
             "color": "#2a3f5f"
            },
            "marker": {
             "line": {
              "color": "white",
              "width": 0.5
             },
             "pattern": {
              "fillmode": "overlay",
              "size": 10,
              "solidity": 0.2
             }
            },
            "type": "bar"
           }
          ],
          "barpolar": [
           {
            "marker": {
             "line": {
              "color": "white",
              "width": 0.5
             },
             "pattern": {
              "fillmode": "overlay",
              "size": 10,
              "solidity": 0.2
             }
            },
            "type": "barpolar"
           }
          ],
          "carpet": [
           {
            "aaxis": {
             "endlinecolor": "#2a3f5f",
             "gridcolor": "#C8D4E3",
             "linecolor": "#C8D4E3",
             "minorgridcolor": "#C8D4E3",
             "startlinecolor": "#2a3f5f"
            },
            "baxis": {
             "endlinecolor": "#2a3f5f",
             "gridcolor": "#C8D4E3",
             "linecolor": "#C8D4E3",
             "minorgridcolor": "#C8D4E3",
             "startlinecolor": "#2a3f5f"
            },
            "type": "carpet"
           }
          ],
          "choropleth": [
           {
            "colorbar": {
             "outlinewidth": 0,
             "ticks": ""
            },
            "type": "choropleth"
           }
          ],
          "contour": [
           {
            "colorbar": {
             "outlinewidth": 0,
             "ticks": ""
            },
            "colorscale": [
             [
              0,
              "#0d0887"
             ],
             [
              0.1111111111111111,
              "#46039f"
             ],
             [
              0.2222222222222222,
              "#7201a8"
             ],
             [
              0.3333333333333333,
              "#9c179e"
             ],
             [
              0.4444444444444444,
              "#bd3786"
             ],
             [
              0.5555555555555556,
              "#d8576b"
             ],
             [
              0.6666666666666666,
              "#ed7953"
             ],
             [
              0.7777777777777778,
              "#fb9f3a"
             ],
             [
              0.8888888888888888,
              "#fdca26"
             ],
             [
              1,
              "#f0f921"
             ]
            ],
            "type": "contour"
           }
          ],
          "contourcarpet": [
           {
            "colorbar": {
             "outlinewidth": 0,
             "ticks": ""
            },
            "type": "contourcarpet"
           }
          ],
          "heatmap": [
           {
            "colorbar": {
             "outlinewidth": 0,
             "ticks": ""
            },
            "colorscale": [
             [
              0,
              "#0d0887"
             ],
             [
              0.1111111111111111,
              "#46039f"
             ],
             [
              0.2222222222222222,
              "#7201a8"
             ],
             [
              0.3333333333333333,
              "#9c179e"
             ],
             [
              0.4444444444444444,
              "#bd3786"
             ],
             [
              0.5555555555555556,
              "#d8576b"
             ],
             [
              0.6666666666666666,
              "#ed7953"
             ],
             [
              0.7777777777777778,
              "#fb9f3a"
             ],
             [
              0.8888888888888888,
              "#fdca26"
             ],
             [
              1,
              "#f0f921"
             ]
            ],
            "type": "heatmap"
           }
          ],
          "histogram": [
           {
            "marker": {
             "pattern": {
              "fillmode": "overlay",
              "size": 10,
              "solidity": 0.2
             }
            },
            "type": "histogram"
           }
          ],
          "histogram2d": [
           {
            "colorbar": {
             "outlinewidth": 0,
             "ticks": ""
            },
            "colorscale": [
             [
              0,
              "#0d0887"
             ],
             [
              0.1111111111111111,
              "#46039f"
             ],
             [
              0.2222222222222222,
              "#7201a8"
             ],
             [
              0.3333333333333333,
              "#9c179e"
             ],
             [
              0.4444444444444444,
              "#bd3786"
             ],
             [
              0.5555555555555556,
              "#d8576b"
             ],
             [
              0.6666666666666666,
              "#ed7953"
             ],
             [
              0.7777777777777778,
              "#fb9f3a"
             ],
             [
              0.8888888888888888,
              "#fdca26"
             ],
             [
              1,
              "#f0f921"
             ]
            ],
            "type": "histogram2d"
           }
          ],
          "histogram2dcontour": [
           {
            "colorbar": {
             "outlinewidth": 0,
             "ticks": ""
            },
            "colorscale": [
             [
              0,
              "#0d0887"
             ],
             [
              0.1111111111111111,
              "#46039f"
             ],
             [
              0.2222222222222222,
              "#7201a8"
             ],
             [
              0.3333333333333333,
              "#9c179e"
             ],
             [
              0.4444444444444444,
              "#bd3786"
             ],
             [
              0.5555555555555556,
              "#d8576b"
             ],
             [
              0.6666666666666666,
              "#ed7953"
             ],
             [
              0.7777777777777778,
              "#fb9f3a"
             ],
             [
              0.8888888888888888,
              "#fdca26"
             ],
             [
              1,
              "#f0f921"
             ]
            ],
            "type": "histogram2dcontour"
           }
          ],
          "mesh3d": [
           {
            "colorbar": {
             "outlinewidth": 0,
             "ticks": ""
            },
            "type": "mesh3d"
           }
          ],
          "parcoords": [
           {
            "line": {
             "colorbar": {
              "outlinewidth": 0,
              "ticks": ""
             }
            },
            "type": "parcoords"
           }
          ],
          "pie": [
           {
            "automargin": true,
            "type": "pie"
           }
          ],
          "scatter": [
           {
            "fillpattern": {
             "fillmode": "overlay",
             "size": 10,
             "solidity": 0.2
            },
            "type": "scatter"
           }
          ],
          "scatter3d": [
           {
            "line": {
             "colorbar": {
              "outlinewidth": 0,
              "ticks": ""
             }
            },
            "marker": {
             "colorbar": {
              "outlinewidth": 0,
              "ticks": ""
             }
            },
            "type": "scatter3d"
           }
          ],
          "scattercarpet": [
           {
            "marker": {
             "colorbar": {
              "outlinewidth": 0,
              "ticks": ""
             }
            },
            "type": "scattercarpet"
           }
          ],
          "scattergeo": [
           {
            "marker": {
             "colorbar": {
              "outlinewidth": 0,
              "ticks": ""
             }
            },
            "type": "scattergeo"
           }
          ],
          "scattergl": [
           {
            "marker": {
             "colorbar": {
              "outlinewidth": 0,
              "ticks": ""
             }
            },
            "type": "scattergl"
           }
          ],
          "scattermap": [
           {
            "marker": {
             "colorbar": {
              "outlinewidth": 0,
              "ticks": ""
             }
            },
            "type": "scattermap"
           }
          ],
          "scattermapbox": [
           {
            "marker": {
             "colorbar": {
              "outlinewidth": 0,
              "ticks": ""
             }
            },
            "type": "scattermapbox"
           }
          ],
          "scatterpolar": [
           {
            "marker": {
             "colorbar": {
              "outlinewidth": 0,
              "ticks": ""
             }
            },
            "type": "scatterpolar"
           }
          ],
          "scatterpolargl": [
           {
            "marker": {
             "colorbar": {
              "outlinewidth": 0,
              "ticks": ""
             }
            },
            "type": "scatterpolargl"
           }
          ],
          "scatterternary": [
           {
            "marker": {
             "colorbar": {
              "outlinewidth": 0,
              "ticks": ""
             }
            },
            "type": "scatterternary"
           }
          ],
          "surface": [
           {
            "colorbar": {
             "outlinewidth": 0,
             "ticks": ""
            },
            "colorscale": [
             [
              0,
              "#0d0887"
             ],
             [
              0.1111111111111111,
              "#46039f"
             ],
             [
              0.2222222222222222,
              "#7201a8"
             ],
             [
              0.3333333333333333,
              "#9c179e"
             ],
             [
              0.4444444444444444,
              "#bd3786"
             ],
             [
              0.5555555555555556,
              "#d8576b"
             ],
             [
              0.6666666666666666,
              "#ed7953"
             ],
             [
              0.7777777777777778,
              "#fb9f3a"
             ],
             [
              0.8888888888888888,
              "#fdca26"
             ],
             [
              1,
              "#f0f921"
             ]
            ],
            "type": "surface"
           }
          ],
          "table": [
           {
            "cells": {
             "fill": {
              "color": "#EBF0F8"
             },
             "line": {
              "color": "white"
             }
            },
            "header": {
             "fill": {
              "color": "#C8D4E3"
             },
             "line": {
              "color": "white"
             }
            },
            "type": "table"
           }
          ]
         },
         "layout": {
          "annotationdefaults": {
           "arrowcolor": "#2a3f5f",
           "arrowhead": 0,
           "arrowwidth": 1
          },
          "autotypenumbers": "strict",
          "coloraxis": {
           "colorbar": {
            "outlinewidth": 0,
            "ticks": ""
           }
          },
          "colorscale": {
           "diverging": [
            [
             0,
             "#8e0152"
            ],
            [
             0.1,
             "#c51b7d"
            ],
            [
             0.2,
             "#de77ae"
            ],
            [
             0.3,
             "#f1b6da"
            ],
            [
             0.4,
             "#fde0ef"
            ],
            [
             0.5,
             "#f7f7f7"
            ],
            [
             0.6,
             "#e6f5d0"
            ],
            [
             0.7,
             "#b8e186"
            ],
            [
             0.8,
             "#7fbc41"
            ],
            [
             0.9,
             "#4d9221"
            ],
            [
             1,
             "#276419"
            ]
           ],
           "sequential": [
            [
             0,
             "#0d0887"
            ],
            [
             0.1111111111111111,
             "#46039f"
            ],
            [
             0.2222222222222222,
             "#7201a8"
            ],
            [
             0.3333333333333333,
             "#9c179e"
            ],
            [
             0.4444444444444444,
             "#bd3786"
            ],
            [
             0.5555555555555556,
             "#d8576b"
            ],
            [
             0.6666666666666666,
             "#ed7953"
            ],
            [
             0.7777777777777778,
             "#fb9f3a"
            ],
            [
             0.8888888888888888,
             "#fdca26"
            ],
            [
             1,
             "#f0f921"
            ]
           ],
           "sequentialminus": [
            [
             0,
             "#0d0887"
            ],
            [
             0.1111111111111111,
             "#46039f"
            ],
            [
             0.2222222222222222,
             "#7201a8"
            ],
            [
             0.3333333333333333,
             "#9c179e"
            ],
            [
             0.4444444444444444,
             "#bd3786"
            ],
            [
             0.5555555555555556,
             "#d8576b"
            ],
            [
             0.6666666666666666,
             "#ed7953"
            ],
            [
             0.7777777777777778,
             "#fb9f3a"
            ],
            [
             0.8888888888888888,
             "#fdca26"
            ],
            [
             1,
             "#f0f921"
            ]
           ]
          },
          "colorway": [
           "#636efa",
           "#EF553B",
           "#00cc96",
           "#ab63fa",
           "#FFA15A",
           "#19d3f3",
           "#FF6692",
           "#B6E880",
           "#FF97FF",
           "#FECB52"
          ],
          "font": {
           "color": "#2a3f5f"
          },
          "geo": {
           "bgcolor": "white",
           "lakecolor": "white",
           "landcolor": "white",
           "showlakes": true,
           "showland": true,
           "subunitcolor": "#C8D4E3"
          },
          "hoverlabel": {
           "align": "left"
          },
          "hovermode": "closest",
          "mapbox": {
           "style": "light"
          },
          "paper_bgcolor": "white",
          "plot_bgcolor": "white",
          "polar": {
           "angularaxis": {
            "gridcolor": "#EBF0F8",
            "linecolor": "#EBF0F8",
            "ticks": ""
           },
           "bgcolor": "white",
           "radialaxis": {
            "gridcolor": "#EBF0F8",
            "linecolor": "#EBF0F8",
            "ticks": ""
           }
          },
          "scene": {
           "xaxis": {
            "backgroundcolor": "white",
            "gridcolor": "#DFE8F3",
            "gridwidth": 2,
            "linecolor": "#EBF0F8",
            "showbackground": true,
            "ticks": "",
            "zerolinecolor": "#EBF0F8"
           },
           "yaxis": {
            "backgroundcolor": "white",
            "gridcolor": "#DFE8F3",
            "gridwidth": 2,
            "linecolor": "#EBF0F8",
            "showbackground": true,
            "ticks": "",
            "zerolinecolor": "#EBF0F8"
           },
           "zaxis": {
            "backgroundcolor": "white",
            "gridcolor": "#DFE8F3",
            "gridwidth": 2,
            "linecolor": "#EBF0F8",
            "showbackground": true,
            "ticks": "",
            "zerolinecolor": "#EBF0F8"
           }
          },
          "shapedefaults": {
           "line": {
            "color": "#2a3f5f"
           }
          },
          "ternary": {
           "aaxis": {
            "gridcolor": "#DFE8F3",
            "linecolor": "#A2B1C6",
            "ticks": ""
           },
           "baxis": {
            "gridcolor": "#DFE8F3",
            "linecolor": "#A2B1C6",
            "ticks": ""
           },
           "bgcolor": "white",
           "caxis": {
            "gridcolor": "#DFE8F3",
            "linecolor": "#A2B1C6",
            "ticks": ""
           }
          },
          "title": {
           "x": 0.05
          },
          "xaxis": {
           "automargin": true,
           "gridcolor": "#EBF0F8",
           "linecolor": "#EBF0F8",
           "ticks": "",
           "title": {
            "standoff": 15
           },
           "zerolinecolor": "#EBF0F8",
           "zerolinewidth": 2
          },
          "yaxis": {
           "automargin": true,
           "gridcolor": "#EBF0F8",
           "linecolor": "#EBF0F8",
           "ticks": "",
           "title": {
            "standoff": 15
           },
           "zerolinecolor": "#EBF0F8",
           "zerolinewidth": 2
          }
         }
        },
        "title": {
         "font": {
          "color": "black",
          "family": "Cardo",
          "size": 27
         },
         "text": "<span style='color: black; font-weight: normal;'>$RAY Buybacks Over Time</span><br><sub style='font-size: 18px; color: black; font-weight: normal;'>Daily through 2024-09-23 00:00:00</sub>",
         "x": 0.1,
         "xanchor": "left",
         "y": 0.9,
         "yanchor": "top"
        },
        "width": 730,
        "xaxis": {
         "anchor": "y",
         "domain": [
          0,
          0.94
         ],
         "tickfont": {
          "color": "black"
         }
        },
        "yaxis": {
         "anchor": "x",
         "color": "#118e54",
         "domain": [
          0,
          1
         ],
         "tickprefix": "",
         "title": {
          "text": "CUMULATIVE RAY BOUGHT"
         }
        },
        "yaxis2": {
         "anchor": "x",
         "color": "#a55949",
         "overlaying": "y",
         "side": "right",
         "tickprefix": "$",
         "title": {
          "text": "CUMULATIVE USDC SPENT"
         }
        }
       }
      }
     },
     "metadata": {},
     "output_type": "display_data"
    },
    {
     "name": "stdout",
     "output_type": "stream",
     "text": [
      "Saving figure to: img\\$RAY Buybacks Over Time.png\n"
     ]
    }
   ],
   "source": [
    "cm = ChartMaker(shuffle_colors=True)\n",
    "cm.build(\n",
    "    df = test_df1,\n",
    "    axes_data=dict(y1=['cumulative_ray_bought'],\n",
    "                    y2=['cumulative_usdc_spent']),\n",
    "    title='$RAY Buybacks Over Time',\n",
    "    chart_type={'y1':'line','y2':'bar'},\n",
    "    options = {'margin':dict(t=100),'annotations':True,\n",
    "                'tickprefix':{'y2':'$'},'auto_title':True,\n",
    "                'show_legend':True,'legend_placement':{'x':1.1,'y':1}},\n",
    ")\n",
    "cm.add_title(\n",
    "    title='$RAY Buybacks Over Time',\n",
    "    subtitle=f'Daily through {test_df1.index.max()}',\n",
    "    x=0.1,\n",
    "    y=0.9\n",
    ")\n",
    "cm.add_annotations()\n",
    "cm.show_fig()\n",
    "cm.save_fig(save_directory='img')"
   ]
  },
  {
   "cell_type": "code",
   "execution_count": 8,
   "id": "64d67743",
   "metadata": {},
   "outputs": [
    {
     "data": {
      "text/html": [
       "<div>\n",
       "<style scoped>\n",
       "    .dataframe tbody tr th:only-of-type {\n",
       "        vertical-align: middle;\n",
       "    }\n",
       "\n",
       "    .dataframe tbody tr th {\n",
       "        vertical-align: top;\n",
       "    }\n",
       "\n",
       "    .dataframe thead th {\n",
       "        text-align: right;\n",
       "    }\n",
       "</style>\n",
       "<table border=\"1\" class=\"dataframe\">\n",
       "  <thead>\n",
       "    <tr style=\"text-align: right;\">\n",
       "      <th></th>\n",
       "      <th>chain</th>\n",
       "      <th>netflows - YTD</th>\n",
       "    </tr>\n",
       "  </thead>\n",
       "  <tbody>\n",
       "    <tr>\n",
       "      <th>0</th>\n",
       "      <td>Base</td>\n",
       "      <td>3000000000</td>\n",
       "    </tr>\n",
       "    <tr>\n",
       "      <th>1</th>\n",
       "      <td>Berachain</td>\n",
       "      <td>1300000000</td>\n",
       "    </tr>\n",
       "    <tr>\n",
       "      <th>2</th>\n",
       "      <td>Sonic</td>\n",
       "      <td>1200000000</td>\n",
       "    </tr>\n",
       "    <tr>\n",
       "      <th>3</th>\n",
       "      <td>Solana</td>\n",
       "      <td>440200000</td>\n",
       "    </tr>\n",
       "    <tr>\n",
       "      <th>4</th>\n",
       "      <td>Avalanche</td>\n",
       "      <td>-128100000</td>\n",
       "    </tr>\n",
       "    <tr>\n",
       "      <th>5</th>\n",
       "      <td>zkSync Era</td>\n",
       "      <td>-216100000</td>\n",
       "    </tr>\n",
       "    <tr>\n",
       "      <th>6</th>\n",
       "      <td>OP Mainnnet</td>\n",
       "      <td>-384900000</td>\n",
       "    </tr>\n",
       "    <tr>\n",
       "      <th>7</th>\n",
       "      <td>Blast</td>\n",
       "      <td>-448600000</td>\n",
       "    </tr>\n",
       "    <tr>\n",
       "      <th>8</th>\n",
       "      <td>Ethereum</td>\n",
       "      <td>-1400000000</td>\n",
       "    </tr>\n",
       "    <tr>\n",
       "      <th>9</th>\n",
       "      <td>Arbitrum</td>\n",
       "      <td>-3000000000</td>\n",
       "    </tr>\n",
       "  </tbody>\n",
       "</table>\n",
       "</div>"
      ],
      "text/plain": [
       "         chain  netflows - YTD\n",
       "0         Base      3000000000\n",
       "1    Berachain      1300000000\n",
       "2        Sonic      1200000000\n",
       "3       Solana       440200000\n",
       "4    Avalanche      -128100000\n",
       "5   zkSync Era      -216100000\n",
       "6  OP Mainnnet      -384900000\n",
       "7        Blast      -448600000\n",
       "8     Ethereum     -1400000000\n",
       "9     Arbitrum     -3000000000"
      ]
     },
     "execution_count": 8,
     "metadata": {},
     "output_type": "execute_result"
    }
   ],
   "source": [
    "test_dfbar = test_cleaner.to_df(r'data/flows_by_chain.csv')\n",
    "test_dfbar, time_freq =  test_cleaner.to_time(test_dfbar)\n",
    "test_dfbar"
   ]
  },
  {
   "cell_type": "code",
   "execution_count": 9,
   "id": "f1183d67",
   "metadata": {},
   "outputs": [
    {
     "name": "stdout",
     "output_type": "stream",
     "text": [
      "kind: None\n",
      "chart_type: {'y1': 'bar', 'y2': 'bar'}\n",
      "groupby and numcol passed\n"
     ]
    },
    {
     "data": {
      "application/vnd.plotly.v1+json": {
       "config": {
        "linkText": "Export to plot.ly",
        "plotlyServerURL": "https://plot.ly",
        "showLink": false
       },
       "data": [
        {
         "marker": {
          "color": "#00753f"
         },
         "name": "Base ($3.0B)",
         "showlegend": true,
         "type": "bar",
         "x": [
          "Base"
         ],
         "xaxis": "x",
         "y": [
          3000000000
         ],
         "yaxis": "y"
        },
        {
         "marker": {
          "color": "#018700"
         },
         "name": "Berachain ($1.3B)",
         "showlegend": true,
         "type": "bar",
         "x": [
          "Berachain"
         ],
         "xaxis": "x",
         "y": [
          1300000000
         ],
         "yaxis": "y"
        },
        {
         "marker": {
          "color": "#72b8ff"
         },
         "name": "Sonic ($1.2B)",
         "showlegend": true,
         "type": "bar",
         "x": [
          "Sonic"
         ],
         "xaxis": "x",
         "y": [
          1200000000
         ],
         "yaxis": "y"
        },
        {
         "marker": {
          "color": "#d14867"
         },
         "name": "Solana ($440.2M)",
         "showlegend": true,
         "type": "bar",
         "x": [
          "Solana"
         ],
         "xaxis": "x",
         "y": [
          440200000
         ],
         "yaxis": "y"
        },
        {
         "marker": {
          "color": "#ff548e"
         },
         "name": "Avalanche ($-128.1M)",
         "showlegend": true,
         "type": "bar",
         "x": [
          "Avalanche"
         ],
         "xaxis": "x",
         "y": [
          -128100000
         ],
         "yaxis": "y"
        },
        {
         "marker": {
          "color": "#4801cc"
         },
         "name": "zkSync Era ($-216.1M)",
         "showlegend": true,
         "type": "bar",
         "x": [
          "zkSync Era"
         ],
         "xaxis": "x",
         "y": [
          -216100000
         ],
         "yaxis": "y"
        },
        {
         "marker": {
          "color": "#d1afef"
         },
         "name": "OP Mainnnet ($-384.9M)",
         "showlegend": true,
         "type": "bar",
         "x": [
          "OP Mainnnet"
         ],
         "xaxis": "x",
         "y": [
          -384900000
         ],
         "yaxis": "y"
        },
        {
         "marker": {
          "color": "#ff7752"
         },
         "name": "Blast ($-448.6M)",
         "showlegend": true,
         "type": "bar",
         "x": [
          "Blast"
         ],
         "xaxis": "x",
         "y": [
          -448600000
         ],
         "yaxis": "y"
        },
        {
         "marker": {
          "color": "#FC0080"
         },
         "name": "Ethereum ($-1.4B)",
         "showlegend": true,
         "type": "bar",
         "x": [
          "Ethereum"
         ],
         "xaxis": "x",
         "y": [
          -1400000000
         ],
         "yaxis": "y"
        },
        {
         "marker": {
          "color": "#acaac8"
         },
         "name": "Arbitrum ($-3.0B)",
         "showlegend": true,
         "type": "bar",
         "x": [
          "Arbitrum"
         ],
         "xaxis": "x",
         "y": [
          -3000000000
         ],
         "yaxis": "y"
        }
       ],
       "layout": {
        "autosize": true,
        "barmode": "stack",
        "font": {
         "color": "black",
         "family": "Cardo"
        },
        "height": 400,
        "hovermode": "x unified",
        "legend": {
         "bgcolor": "rgba(0,0,0,0)",
         "bordercolor": "rgba(0,0,0,0)",
         "borderwidth": 1,
         "orientation": "v",
         "traceorder": "normal",
         "x": 1.1,
         "xanchor": "left",
         "y": 1,
         "yanchor": "top"
        },
        "margin": {
         "t": 100
        },
        "template": {
         "data": {
          "bar": [
           {
            "error_x": {
             "color": "#2a3f5f"
            },
            "error_y": {
             "color": "#2a3f5f"
            },
            "marker": {
             "line": {
              "color": "white",
              "width": 0.5
             },
             "pattern": {
              "fillmode": "overlay",
              "size": 10,
              "solidity": 0.2
             }
            },
            "type": "bar"
           }
          ],
          "barpolar": [
           {
            "marker": {
             "line": {
              "color": "white",
              "width": 0.5
             },
             "pattern": {
              "fillmode": "overlay",
              "size": 10,
              "solidity": 0.2
             }
            },
            "type": "barpolar"
           }
          ],
          "carpet": [
           {
            "aaxis": {
             "endlinecolor": "#2a3f5f",
             "gridcolor": "#C8D4E3",
             "linecolor": "#C8D4E3",
             "minorgridcolor": "#C8D4E3",
             "startlinecolor": "#2a3f5f"
            },
            "baxis": {
             "endlinecolor": "#2a3f5f",
             "gridcolor": "#C8D4E3",
             "linecolor": "#C8D4E3",
             "minorgridcolor": "#C8D4E3",
             "startlinecolor": "#2a3f5f"
            },
            "type": "carpet"
           }
          ],
          "choropleth": [
           {
            "colorbar": {
             "outlinewidth": 0,
             "ticks": ""
            },
            "type": "choropleth"
           }
          ],
          "contour": [
           {
            "colorbar": {
             "outlinewidth": 0,
             "ticks": ""
            },
            "colorscale": [
             [
              0,
              "#0d0887"
             ],
             [
              0.1111111111111111,
              "#46039f"
             ],
             [
              0.2222222222222222,
              "#7201a8"
             ],
             [
              0.3333333333333333,
              "#9c179e"
             ],
             [
              0.4444444444444444,
              "#bd3786"
             ],
             [
              0.5555555555555556,
              "#d8576b"
             ],
             [
              0.6666666666666666,
              "#ed7953"
             ],
             [
              0.7777777777777778,
              "#fb9f3a"
             ],
             [
              0.8888888888888888,
              "#fdca26"
             ],
             [
              1,
              "#f0f921"
             ]
            ],
            "type": "contour"
           }
          ],
          "contourcarpet": [
           {
            "colorbar": {
             "outlinewidth": 0,
             "ticks": ""
            },
            "type": "contourcarpet"
           }
          ],
          "heatmap": [
           {
            "colorbar": {
             "outlinewidth": 0,
             "ticks": ""
            },
            "colorscale": [
             [
              0,
              "#0d0887"
             ],
             [
              0.1111111111111111,
              "#46039f"
             ],
             [
              0.2222222222222222,
              "#7201a8"
             ],
             [
              0.3333333333333333,
              "#9c179e"
             ],
             [
              0.4444444444444444,
              "#bd3786"
             ],
             [
              0.5555555555555556,
              "#d8576b"
             ],
             [
              0.6666666666666666,
              "#ed7953"
             ],
             [
              0.7777777777777778,
              "#fb9f3a"
             ],
             [
              0.8888888888888888,
              "#fdca26"
             ],
             [
              1,
              "#f0f921"
             ]
            ],
            "type": "heatmap"
           }
          ],
          "histogram": [
           {
            "marker": {
             "pattern": {
              "fillmode": "overlay",
              "size": 10,
              "solidity": 0.2
             }
            },
            "type": "histogram"
           }
          ],
          "histogram2d": [
           {
            "colorbar": {
             "outlinewidth": 0,
             "ticks": ""
            },
            "colorscale": [
             [
              0,
              "#0d0887"
             ],
             [
              0.1111111111111111,
              "#46039f"
             ],
             [
              0.2222222222222222,
              "#7201a8"
             ],
             [
              0.3333333333333333,
              "#9c179e"
             ],
             [
              0.4444444444444444,
              "#bd3786"
             ],
             [
              0.5555555555555556,
              "#d8576b"
             ],
             [
              0.6666666666666666,
              "#ed7953"
             ],
             [
              0.7777777777777778,
              "#fb9f3a"
             ],
             [
              0.8888888888888888,
              "#fdca26"
             ],
             [
              1,
              "#f0f921"
             ]
            ],
            "type": "histogram2d"
           }
          ],
          "histogram2dcontour": [
           {
            "colorbar": {
             "outlinewidth": 0,
             "ticks": ""
            },
            "colorscale": [
             [
              0,
              "#0d0887"
             ],
             [
              0.1111111111111111,
              "#46039f"
             ],
             [
              0.2222222222222222,
              "#7201a8"
             ],
             [
              0.3333333333333333,
              "#9c179e"
             ],
             [
              0.4444444444444444,
              "#bd3786"
             ],
             [
              0.5555555555555556,
              "#d8576b"
             ],
             [
              0.6666666666666666,
              "#ed7953"
             ],
             [
              0.7777777777777778,
              "#fb9f3a"
             ],
             [
              0.8888888888888888,
              "#fdca26"
             ],
             [
              1,
              "#f0f921"
             ]
            ],
            "type": "histogram2dcontour"
           }
          ],
          "mesh3d": [
           {
            "colorbar": {
             "outlinewidth": 0,
             "ticks": ""
            },
            "type": "mesh3d"
           }
          ],
          "parcoords": [
           {
            "line": {
             "colorbar": {
              "outlinewidth": 0,
              "ticks": ""
             }
            },
            "type": "parcoords"
           }
          ],
          "pie": [
           {
            "automargin": true,
            "type": "pie"
           }
          ],
          "scatter": [
           {
            "fillpattern": {
             "fillmode": "overlay",
             "size": 10,
             "solidity": 0.2
            },
            "type": "scatter"
           }
          ],
          "scatter3d": [
           {
            "line": {
             "colorbar": {
              "outlinewidth": 0,
              "ticks": ""
             }
            },
            "marker": {
             "colorbar": {
              "outlinewidth": 0,
              "ticks": ""
             }
            },
            "type": "scatter3d"
           }
          ],
          "scattercarpet": [
           {
            "marker": {
             "colorbar": {
              "outlinewidth": 0,
              "ticks": ""
             }
            },
            "type": "scattercarpet"
           }
          ],
          "scattergeo": [
           {
            "marker": {
             "colorbar": {
              "outlinewidth": 0,
              "ticks": ""
             }
            },
            "type": "scattergeo"
           }
          ],
          "scattergl": [
           {
            "marker": {
             "colorbar": {
              "outlinewidth": 0,
              "ticks": ""
             }
            },
            "type": "scattergl"
           }
          ],
          "scattermap": [
           {
            "marker": {
             "colorbar": {
              "outlinewidth": 0,
              "ticks": ""
             }
            },
            "type": "scattermap"
           }
          ],
          "scattermapbox": [
           {
            "marker": {
             "colorbar": {
              "outlinewidth": 0,
              "ticks": ""
             }
            },
            "type": "scattermapbox"
           }
          ],
          "scatterpolar": [
           {
            "marker": {
             "colorbar": {
              "outlinewidth": 0,
              "ticks": ""
             }
            },
            "type": "scatterpolar"
           }
          ],
          "scatterpolargl": [
           {
            "marker": {
             "colorbar": {
              "outlinewidth": 0,
              "ticks": ""
             }
            },
            "type": "scatterpolargl"
           }
          ],
          "scatterternary": [
           {
            "marker": {
             "colorbar": {
              "outlinewidth": 0,
              "ticks": ""
             }
            },
            "type": "scatterternary"
           }
          ],
          "surface": [
           {
            "colorbar": {
             "outlinewidth": 0,
             "ticks": ""
            },
            "colorscale": [
             [
              0,
              "#0d0887"
             ],
             [
              0.1111111111111111,
              "#46039f"
             ],
             [
              0.2222222222222222,
              "#7201a8"
             ],
             [
              0.3333333333333333,
              "#9c179e"
             ],
             [
              0.4444444444444444,
              "#bd3786"
             ],
             [
              0.5555555555555556,
              "#d8576b"
             ],
             [
              0.6666666666666666,
              "#ed7953"
             ],
             [
              0.7777777777777778,
              "#fb9f3a"
             ],
             [
              0.8888888888888888,
              "#fdca26"
             ],
             [
              1,
              "#f0f921"
             ]
            ],
            "type": "surface"
           }
          ],
          "table": [
           {
            "cells": {
             "fill": {
              "color": "#EBF0F8"
             },
             "line": {
              "color": "white"
             }
            },
            "header": {
             "fill": {
              "color": "#C8D4E3"
             },
             "line": {
              "color": "white"
             }
            },
            "type": "table"
           }
          ]
         },
         "layout": {
          "annotationdefaults": {
           "arrowcolor": "#2a3f5f",
           "arrowhead": 0,
           "arrowwidth": 1
          },
          "autotypenumbers": "strict",
          "coloraxis": {
           "colorbar": {
            "outlinewidth": 0,
            "ticks": ""
           }
          },
          "colorscale": {
           "diverging": [
            [
             0,
             "#8e0152"
            ],
            [
             0.1,
             "#c51b7d"
            ],
            [
             0.2,
             "#de77ae"
            ],
            [
             0.3,
             "#f1b6da"
            ],
            [
             0.4,
             "#fde0ef"
            ],
            [
             0.5,
             "#f7f7f7"
            ],
            [
             0.6,
             "#e6f5d0"
            ],
            [
             0.7,
             "#b8e186"
            ],
            [
             0.8,
             "#7fbc41"
            ],
            [
             0.9,
             "#4d9221"
            ],
            [
             1,
             "#276419"
            ]
           ],
           "sequential": [
            [
             0,
             "#0d0887"
            ],
            [
             0.1111111111111111,
             "#46039f"
            ],
            [
             0.2222222222222222,
             "#7201a8"
            ],
            [
             0.3333333333333333,
             "#9c179e"
            ],
            [
             0.4444444444444444,
             "#bd3786"
            ],
            [
             0.5555555555555556,
             "#d8576b"
            ],
            [
             0.6666666666666666,
             "#ed7953"
            ],
            [
             0.7777777777777778,
             "#fb9f3a"
            ],
            [
             0.8888888888888888,
             "#fdca26"
            ],
            [
             1,
             "#f0f921"
            ]
           ],
           "sequentialminus": [
            [
             0,
             "#0d0887"
            ],
            [
             0.1111111111111111,
             "#46039f"
            ],
            [
             0.2222222222222222,
             "#7201a8"
            ],
            [
             0.3333333333333333,
             "#9c179e"
            ],
            [
             0.4444444444444444,
             "#bd3786"
            ],
            [
             0.5555555555555556,
             "#d8576b"
            ],
            [
             0.6666666666666666,
             "#ed7953"
            ],
            [
             0.7777777777777778,
             "#fb9f3a"
            ],
            [
             0.8888888888888888,
             "#fdca26"
            ],
            [
             1,
             "#f0f921"
            ]
           ]
          },
          "colorway": [
           "#636efa",
           "#EF553B",
           "#00cc96",
           "#ab63fa",
           "#FFA15A",
           "#19d3f3",
           "#FF6692",
           "#B6E880",
           "#FF97FF",
           "#FECB52"
          ],
          "font": {
           "color": "#2a3f5f"
          },
          "geo": {
           "bgcolor": "white",
           "lakecolor": "white",
           "landcolor": "white",
           "showlakes": true,
           "showland": true,
           "subunitcolor": "#C8D4E3"
          },
          "hoverlabel": {
           "align": "left"
          },
          "hovermode": "closest",
          "mapbox": {
           "style": "light"
          },
          "paper_bgcolor": "white",
          "plot_bgcolor": "white",
          "polar": {
           "angularaxis": {
            "gridcolor": "#EBF0F8",
            "linecolor": "#EBF0F8",
            "ticks": ""
           },
           "bgcolor": "white",
           "radialaxis": {
            "gridcolor": "#EBF0F8",
            "linecolor": "#EBF0F8",
            "ticks": ""
           }
          },
          "scene": {
           "xaxis": {
            "backgroundcolor": "white",
            "gridcolor": "#DFE8F3",
            "gridwidth": 2,
            "linecolor": "#EBF0F8",
            "showbackground": true,
            "ticks": "",
            "zerolinecolor": "#EBF0F8"
           },
           "yaxis": {
            "backgroundcolor": "white",
            "gridcolor": "#DFE8F3",
            "gridwidth": 2,
            "linecolor": "#EBF0F8",
            "showbackground": true,
            "ticks": "",
            "zerolinecolor": "#EBF0F8"
           },
           "zaxis": {
            "backgroundcolor": "white",
            "gridcolor": "#DFE8F3",
            "gridwidth": 2,
            "linecolor": "#EBF0F8",
            "showbackground": true,
            "ticks": "",
            "zerolinecolor": "#EBF0F8"
           }
          },
          "shapedefaults": {
           "line": {
            "color": "#2a3f5f"
           }
          },
          "ternary": {
           "aaxis": {
            "gridcolor": "#DFE8F3",
            "linecolor": "#A2B1C6",
            "ticks": ""
           },
           "baxis": {
            "gridcolor": "#DFE8F3",
            "linecolor": "#A2B1C6",
            "ticks": ""
           },
           "bgcolor": "white",
           "caxis": {
            "gridcolor": "#DFE8F3",
            "linecolor": "#A2B1C6",
            "ticks": ""
           }
          },
          "title": {
           "x": 0.05
          },
          "xaxis": {
           "automargin": true,
           "gridcolor": "#EBF0F8",
           "linecolor": "#EBF0F8",
           "ticks": "",
           "title": {
            "standoff": 15
           },
           "zerolinecolor": "#EBF0F8",
           "zerolinewidth": 2
          },
          "yaxis": {
           "automargin": true,
           "gridcolor": "#EBF0F8",
           "linecolor": "#EBF0F8",
           "ticks": "",
           "title": {
            "standoff": 15
           },
           "zerolinecolor": "#EBF0F8",
           "zerolinewidth": 2
          }
         }
        },
        "title": {
         "font": {
          "color": "black",
          "family": "Cardo",
          "size": 27
         },
         "text": "<span style='color: black; font-weight: normal;'>YTD Bridge Flows by Chain</span><br><sub style='font-size: 18px; color: black; font-weight: normal;'></sub>",
         "x": 0.1,
         "xanchor": "left",
         "y": 0.9,
         "yanchor": "top"
        },
        "width": 730,
        "xaxis": {
         "anchor": "y",
         "domain": [
          0,
          0.94
         ],
         "tickfont": {
          "color": "black"
         }
        },
        "yaxis": {
         "anchor": "x",
         "color": "black",
         "domain": [
          0,
          1
         ],
         "tickprefix": "$"
        },
        "yaxis2": {
         "anchor": "x",
         "color": "black",
         "overlaying": "y",
         "side": "right",
         "tickprefix": ""
        }
       }
      }
     },
     "metadata": {},
     "output_type": "display_data"
    }
   ],
   "source": [
    "cm = ChartMaker(shuffle_colors=True)\n",
    "cm.build(\n",
    "    df=test_dfbar,\n",
    "    groupby_col='chain', \n",
    "    num_col='netflows - YTD',\n",
    "    title='YTD Bridge Flows by Chain',\n",
    "    chart_type='bar',\n",
    "    options={\n",
    "        'margin': dict(t=100),\n",
    "        'annotations': True,\n",
    "        'tickprefix': {'y1': '$'},\n",
    "        'auto_title': True,\n",
    "        'show_legend': True,\n",
    "        'legend_placement': {'x': 1.1, 'y': 1}\n",
    "    }\n",
    ")\n",
    "cm.add_title(\n",
    "    x=0.1,\n",
    "    y=0.9\n",
    ")\n",
    "\n",
    "cm.show_fig()"
   ]
  },
  {
   "cell_type": "markdown",
   "id": "8e0000a3",
   "metadata": {},
   "source": [
    "# Pie"
   ]
  },
  {
   "cell_type": "code",
   "execution_count": 10,
   "id": "b5800ced",
   "metadata": {},
   "outputs": [
    {
     "data": {
      "text/html": [
       "<div>\n",
       "<style scoped>\n",
       "    .dataframe tbody tr th:only-of-type {\n",
       "        vertical-align: middle;\n",
       "    }\n",
       "\n",
       "    .dataframe tbody tr th {\n",
       "        vertical-align: top;\n",
       "    }\n",
       "\n",
       "    .dataframe thead th {\n",
       "        text-align: right;\n",
       "    }\n",
       "</style>\n",
       "<table border=\"1\" class=\"dataframe\">\n",
       "  <thead>\n",
       "    <tr style=\"text-align: right;\">\n",
       "      <th></th>\n",
       "      <th>CHAIN</th>\n",
       "      <th>TOTAL_VOLUME_BRIDGED</th>\n",
       "    </tr>\n",
       "  </thead>\n",
       "  <tbody>\n",
       "    <tr>\n",
       "      <th>0</th>\n",
       "      <td>Arbitrum</td>\n",
       "      <td>5.724014e+08</td>\n",
       "    </tr>\n",
       "    <tr>\n",
       "      <th>1</th>\n",
       "      <td>Ethereum</td>\n",
       "      <td>3.858281e+08</td>\n",
       "    </tr>\n",
       "    <tr>\n",
       "      <th>2</th>\n",
       "      <td>Avalanche</td>\n",
       "      <td>3.648964e+08</td>\n",
       "    </tr>\n",
       "    <tr>\n",
       "      <th>3</th>\n",
       "      <td>Polygon</td>\n",
       "      <td>3.231033e+08</td>\n",
       "    </tr>\n",
       "    <tr>\n",
       "      <th>4</th>\n",
       "      <td>Optimism</td>\n",
       "      <td>2.751040e+08</td>\n",
       "    </tr>\n",
       "    <tr>\n",
       "      <th>5</th>\n",
       "      <td>Base</td>\n",
       "      <td>2.330525e+08</td>\n",
       "    </tr>\n",
       "    <tr>\n",
       "      <th>6</th>\n",
       "      <td>BSC</td>\n",
       "      <td>4.250442e+05</td>\n",
       "    </tr>\n",
       "  </tbody>\n",
       "</table>\n",
       "</div>"
      ],
      "text/plain": [
       "       CHAIN  TOTAL_VOLUME_BRIDGED\n",
       "0   Arbitrum          5.724014e+08\n",
       "1   Ethereum          3.858281e+08\n",
       "2  Avalanche          3.648964e+08\n",
       "3    Polygon          3.231033e+08\n",
       "4   Optimism          2.751040e+08\n",
       "5       Base          2.330525e+08\n",
       "6        BSC          4.250442e+05"
      ]
     },
     "execution_count": 10,
     "metadata": {},
     "output_type": "execute_result"
    }
   ],
   "source": [
    "test_df2 = test_cleaner.to_df(r'data/stargate_1.csv')\n",
    "test_df2, time_freq =  test_cleaner.to_time(test_df2)\n",
    "test_df2.dropna(inplace=True)\n",
    "test_df2"
   ]
  },
  {
   "cell_type": "code",
   "execution_count": 11,
   "id": "7f06d616",
   "metadata": {},
   "outputs": [
    {
     "name": "stdout",
     "output_type": "stream",
     "text": [
      "df_copy:            TOTAL_VOLUME_BRIDGED\n",
      "CHAIN                          \n",
      "Arbitrum           5.724014e+08\n",
      "Avalanche          3.648964e+08\n",
      "BSC                4.250442e+05\n",
      "Base               2.330525e+08\n",
      "Ethereum           3.858281e+08\n",
      "Optimism           2.751040e+08\n",
      "Polygon            3.231033e+08\n"
     ]
    },
    {
     "data": {
      "application/vnd.plotly.v1+json": {
       "config": {
        "linkText": "Export to plot.ly",
        "plotlyServerURL": "https://plot.ly",
        "showLink": false
       },
       "data": [
        {
         "hole": 0,
         "labels": [
          "Arbitrum    ",
          "Ethereum    ",
          "Avalanche    ",
          "Polygon    ",
          "Optimism    ",
          "Base    ",
          "BSC    "
         ],
         "marker": {
          "colors": [
           "#086b83",
           "#ac8399",
           "#4d4d79",
           "#6d6942",
           "#e252ff",
           "#ffc38e",
           "#7bacb5",
           "#bc9157",
           "#eb01c3",
           "#d6e8ff",
           "#eb0552",
           "#6b9700",
           "#3b6d01",
           "#b87500",
           "#ff3464",
           "#7cc6d8",
           "#e299b3",
           "#6d7400",
           "#855b89",
           "#9eafc4",
           "#cfff9e",
           "#826e8c",
           "#a34d95",
           "#44d457",
           "#ff7f00",
           "#e100e8",
           "#d1b1eb",
           "#b6cd72",
           "#366962",
           "#caaa5e",
           "#DA16FF",
           "#ed67ff",
           "#8c9ab1",
           "#bf03b8",
           "#6e56ca",
           "#c6a5c1",
           "#9e698c",
           "#e8013a",
           "#596d00",
           "#377eb8",
           "#2db152",
           "#ca0044",
           "#9387a7",
           "#620042",
           "#0087b1",
           "#afa501",
           "#db9036",
           "#7ecaff",
           "#A777F1",
           "#60383b",
           "#018700",
           "#FF6692",
           "#fb7c00",
           "#636EFA",
           "#755900",
           "#c1a3c3",
           "#b3bfda",
           "#31d400",
           "#bcb6ff",
           "#87004f",
           "#85c39a",
           "#ff6989",
           "#ae083f",
           "#59e2ff",
           "#f2db8a",
           "#77975b",
           "#00bda3",
           "#ba6efd",
           "#8287ff",
           "#573b00",
           "#7e2a8e",
           "rgb(252,205,229)",
           "#873472",
           "#FB00D1",
           "#dfcf5b",
           "#9467bd",
           "#d3c37c",
           "#d60000",
           "#01baf6",
           "#724967",
           "#729a7c",
           "#9946ae",
           "#d14867",
           "#9cfb75",
           "#36429e",
           "#bf6d82",
           "#93ac83",
           "#f781bf",
           "#0054c1",
           "#EF553B",
           "#b53a85",
           "#64b6ba",
           "#f90087",
           "#546744",
           "rgb(217,217,217)",
           "#904f00",
           "#6466ef",
           "#698cbd",
           "#b8009e",
           "#316200",
           "#caff4f",
           "#004b00",
           "#d442fd",
           "#95aa2a",
           "#c46970",
           "#9cffff",
           "#dbbc95",
           "#c38285",
           "#56831a",
           "#ffaaf6",
           "#ba5e21",
           "#bcbd22",
           "#80fb9a",
           "#acaa59",
           "#d48580",
           "#79893b",
           "#1f77b4",
           "#e16e31",
           "#a877ac",
           "#00d6a7",
           "#ff548e",
           "#91d370",
           "#380000",
           "#e47ba7",
           "#d6fbff",
           "#382d00",
           "#862A16",
           "#5e7b87",
           "#9900c4",
           "#EB663B",
           "#6C7C32",
           "#e82fa0",
           "#2d9ed3",
           "#590f00",
           "#5d7e69",
           "#00b800",
           "#e205e2",
           "#a75423",
           "#c86e66",
           "#80d3dd",
           "#c14103",
           "#b33b01",
           "#645472",
           "#afa5ff",
           "#9c60a5",
           "#8956af",
           "#FFA15A",
           "#4b9077",
           "#7242a3",
           "#526077",
           "#c1bdfd",
           "#21d3ff",
           "#fd77ff",
           "#c8c33f",
           "#b89028",
           "#b800d4",
           "#599000",
           "#1ca1ff",
           "#ffbad6",
           "#ff3146",
           "#7ecdf2",
           "#da5480",
           "#5e1123",
           "#f2007b",
           "#e1b669",
           "#ffb500",
           "#3abdc1",
           "#6b004f",
           "#dbafc8",
           "#ff7752",
           "#1859ff",
           "#89e4d8",
           "#984ea3",
           "#60006e",
           "#8c4470",
           "#7b2f4f",
           "#97626b",
           "#60345b",
           "#cd83bc",
           "#aa80cd",
           "#a65628",
           "#829026",
           "#6e0099",
           "#89dbb3",
           "#a19564",
           "#c35dba",
           "#15e18c",
           "#59502a",
           "#a793e1",
           "#bfedbc",
           "#bd6ea1",
           "#511CFB",
           "#cae256",
           "#7cb569",
           "rgb(190,186,218)",
           "#38c1a1",
           "rgb(179,222,105)",
           "#f7807c",
           "#acaac8",
           "#778AAE",
           "#a17569",
           "#a3bff6",
           "#705470",
           "#c144bc",
           "#a3832f",
           "#0000dd",
           "#50807c",
           "#ac8ca8",
           "#B6E880",
           "#17becf",
           "#56642a",
           "#6b8567",
           "#009e7c",
           "#009744",
           "#9affc3",
           "#c85748",
           "#ff9703",
           "#ff7f0e",
           "#54823b",
           "#959167",
           "#b58346",
           "#ff82ed",
           "#ffa52f",
           "#6e70aa",
           "#b55662",
           "#4985ff",
           "#ef52a3",
           "#c67ee8",
           "#a56b97",
           "#5d95aa",
           "#ba91cf",
           "#bceddb",
           "#db7e01",
           "#59b5df",
           "#91b5b6",
           "#6baf36",
           "#529e93",
           "#f4bfb1",
           "#f2cdff",
           "#d1afef",
           "#8c3bff",
           "#d89c89",
           "#05acc6",
           "#7b4600",
           "#cc7407",
           "#bac1df",
           "#00d493",
           "#222A2A",
           "#ff49b1",
           "#fd1500",
           "#919eb6",
           "#8abf5d",
           "#fb9ca7",
           "#4b9793",
           "#B68100",
           "#49a150",
           "#eb5ed4",
           "rgb(251,128,114)",
           "#af6dff",
           "#8c6677",
           "#64c674",
           "#e377c2",
           "#839564",
           "#a0e491",
           "#2b8ad4",
           "#d62728",
           "#00ba69",
           "#ff8ec8",
           "#13cad1",
           "#335769",
           "#a33b74",
           "rgb(188,128,189)",
           "#a1216b",
           "#ff7ed1",
           "#90318e",
           "#ff5238",
           "#aa3b36",
           "#dd662d",
           "#f64470",
           "#4d33ff",
           "#c15603",
           "#647748",
           "#87a8eb",
           "#dfacb6",
           "#e6a872",
           "#ff00cd",
           "#8e7b01",
           "#ff97b1",
           "#af5dd1",
           "#01824d",
           "#903400",
           "#c6002d",
           "#e29ccf",
           "#a1c8c8",
           "#ff59da",
           "#5979c8",
           "#ef72aa",
           "#ff8734",
           "#8cc68e",
           "#00ebed",
           "#B2828D",
           "#ffcd03",
           "#7b4b85",
           "#d154a5",
           "#d88052",
           "#11421c",
           "#d195aa",
           "#aad4c1",
           "#80793d",
           "#364424",
           "#828056",
           "#aa5dca",
           "#c395a5",
           "#487031",
           "#9aaa85",
           "#916e56",
           "#DA60CA",
           "#8eba00",
           "#ffa056",
           "#9e6e31",
           "#915280",
           "#9cdb5d",
           "#9c5642",
           "#d8b391",
           "#ff9c87",
           "#773416",
           "#006d2d",
           "rgb(141,211,199)",
           "#93a14f",
           "#a55b6b",
           "#5d8c90",
           "#00a316",
           "#8c564b",
           "#909101",
           "#b500ff",
           "#4f6e52",
           "#da015d",
           "#6d5b95",
           "#5949a3",
           "#d4e29e",
           "#8e6097",
           "#c68ecd",
           "#0D2A63",
           "#547c72",
           "#fde1b1",
           "#b3e8ef",
           "#826723",
           "#c3774f",
           "#a7423b",
           "#AB63FA",
           "#4d230c",
           "#b3cd00",
           "#e9ff79",
           "#a390af",
           "#85d401",
           "#AF0038",
           "#2E91E5",
           "#00cff9",
           "#7e0175",
           "#c69eff",
           "#019e70",
           "#8a85ae",
           "#790000",
           "#6dd4c1",
           "#00ff75",
           "#7ea59a",
           "#72b8ff",
           "#72af9e",
           "#70cf4f",
           "#6e00eb",
           "#1626ff",
           "#00c182",
           "#baaa80",
           "#eda5da",
           "#5d213d",
           "#2f5282",
           "#a55949",
           "#db72c8",
           "#b1e400",
           "#dbb333",
           "#97bca8",
           "#b15093",
           "#a0ba52",
           "#905b01",
           "#aa6e66",
           "rgb(255,237,111)",
           "#a34ba8",
           "#f9ff00",
           "#d69a36",
           "#77563b",
           "#ffc862",
           "#aa002d",
           "#ac1a13",
           "#2ca02c",
           "#a1cdff",
           "#95fde2",
           "#ac567c",
           "#755726",
           "rgb(204,235,197)",
           "#00e400",
           "#0774d8",
           "#e41a1c",
           "#e2857e",
           "#d8cf00",
           "#b6cfaa",
           "#9738db",
           "#9e4b00",
           "#c84248",
           "#aed1d4",
           "#FF97FF",
           "#446966",
           "#4daf4a",
           "#95622f",
           "#db03b3",
           "#dfbcda",
           "#ffd4ef",
           "#8300cf",
           "#e28c62",
           "#b8ac7e",
           "#bac389",
           "#b5005e",
           "#00A08B",
           "#727790",
           "#00f4a1",
           "#fdf490",
           "#97833d",
           "#ff3628",
           "#FB0D0D",
           "#0064a3",
           "#00753f",
           "#335726",
           "#7f7f7f",
           "#97ff00",
           "#cdbfe4",
           "#60b385",
           "#6e6e31",
           "#b8ba01",
           "#00c846",
           "#a57bb8",
           "#4d60b5",
           "#e48eff",
           "#00CC96",
           "#f9eb4d",
           "#f26952",
           "#5b3a7c",
           "#eda590",
           "#89ba00",
           "#ac7700",
           "#c89a69",
           "#ffff33",
           "#ba8c7c",
           "#d84621",
           "#df4dcd",
           "#4801cc",
           "#b3723b",
           "#528549",
           "#79ae6b",
           "#97414d",
           "#897490",
           "#1f3400",
           "#a77b87",
           "#c4668e",
           "#a32818",
           "#34bf00",
           "#eb4d00",
           "#d182a3",
           "#5901a3",
           "#eb605d",
           "#19D3F3",
           "#9ee2ff",
           "#856277",
           "#805059",
           "#623f28",
           "#4b4f01",
           "#8c7700",
           "#05b3aa",
           "#876bd8",
           "#FECB52",
           "#34574d",
           "#e25660",
           "#798a9e",
           "#9e0174",
           "#669c4d",
           "#bf90f2",
           "#48ffef",
           "#bfbc4d",
           "#89bacf",
           "#FC0080",
           "#a101c3",
           "#a03a52",
           "#ff9070",
           "rgb(253,180,98)",
           "#70aacf",
           "#16a300",
           "#6e5d00",
           "rgb(128,177,211)",
           "#b89500",
           "#46709e",
           "#e2afaf",
           "#ff6200",
           "#b1826d",
           "#59aa75",
           "#8a0031",
           "#c63189",
           "#750D86",
           "#015438",
           "#9e0399",
           "#00acc6",
           "#c35b3d",
           "#247c2a",
           "#009aa0",
           "#d60000",
           "#70a3af",
           "#a08052",
           "#bc66b8",
           "#bcac52",
           "#00dfc3",
           "#bc006b",
           "#07ef00",
           "#2b7e60",
           "#008069",
           "#642821",
           "#cc9790",
           "#8a6d4f",
           "rgb(255,255,179)",
           "#03dae6",
           "#00fdcf",
           "#a795c6",
           "#568e5b",
           "#2d6b4d",
           "#0a8289",
           "#99acdd",
           "#6ee956",
           "#87d82f",
           "#9a6900",
           "#b6d4eb",
           "#629a7b",
           "#e6a500",
           "#953f1f",
           "#77a342",
           "#e14231",
           "#c136d6",
           "#ba00fd",
           "#018700",
           "#ddd3a5",
           "#979548",
           "#d19570",
           "#79525e",
           "#ff28fd",
           "#005659",
           "#1CA71C",
           "#999999",
           "#f77589",
           "#67aa00",
           "#56dd77",
           "#e49cff",
           "#6C4516",
           "#118e54",
           "#E15F99",
           "#aea8d1",
           "#ebffd4",
           "#008579",
           "#832f33",
           "#8970b1",
           "#1616A7",
           "#006e70",
           "#77c6ba",
           "#c33431",
           "#804f3d",
           "#c672dd",
           "#afbc82",
           "#824638",
           "#878ed1",
           "#5db54b",
           "#dad4ff",
           "#b63862",
           "#d3008c"
          ],
          "line": {
           "color": "white",
           "width": 4
          }
         },
         "showlegend": false,
         "textfont": {
          "color": "black",
          "family": "Cardo",
          "size": 12
         },
         "textinfo": "percent+label",
         "texttemplate": "%{label}<br>%{percent}",
         "type": "pie",
         "values": {
          "bdata": "7FG4bhMPwUGkcD3wRP+2QQrXY4Lgv7VBPQoXLypCs0GPwvUuwWWwQT0K164yyKtB4XoUrlDxGUE=",
          "dtype": "f8"
         }
        }
       ],
       "layout": {
        "annotations": [
         {
          "align": "center",
          "font": {
           "color": "black",
           "family": "Cardo",
           "size": 25
          },
          "showarrow": false,
          "text": "Total: $2.2B",
          "x": 0.5,
          "xref": "paper",
          "y": 0.5,
          "yref": "paper"
         }
        ],
        "font": {
         "family": "Cardo",
         "size": 16
        },
        "height": 400,
        "legend": {
         "bgcolor": "rgba(0,0,0,0)",
         "font": {
          "color": "black",
          "family": "Cardo",
          "size": 12
         },
         "itemsizing": "constant",
         "orientation": "v",
         "x": 1.1,
         "xanchor": "left",
         "y": 1,
         "yanchor": "top"
        },
        "margin": {
         "t": 100
        },
        "paper_bgcolor": "rgba(0,0,0,0)",
        "plot_bgcolor": "rgba(0,0,0,0)",
        "template": {
         "data": {
          "bar": [
           {
            "error_x": {
             "color": "#2a3f5f"
            },
            "error_y": {
             "color": "#2a3f5f"
            },
            "marker": {
             "line": {
              "color": "white",
              "width": 0.5
             },
             "pattern": {
              "fillmode": "overlay",
              "size": 10,
              "solidity": 0.2
             }
            },
            "type": "bar"
           }
          ],
          "barpolar": [
           {
            "marker": {
             "line": {
              "color": "white",
              "width": 0.5
             },
             "pattern": {
              "fillmode": "overlay",
              "size": 10,
              "solidity": 0.2
             }
            },
            "type": "barpolar"
           }
          ],
          "carpet": [
           {
            "aaxis": {
             "endlinecolor": "#2a3f5f",
             "gridcolor": "#C8D4E3",
             "linecolor": "#C8D4E3",
             "minorgridcolor": "#C8D4E3",
             "startlinecolor": "#2a3f5f"
            },
            "baxis": {
             "endlinecolor": "#2a3f5f",
             "gridcolor": "#C8D4E3",
             "linecolor": "#C8D4E3",
             "minorgridcolor": "#C8D4E3",
             "startlinecolor": "#2a3f5f"
            },
            "type": "carpet"
           }
          ],
          "choropleth": [
           {
            "colorbar": {
             "outlinewidth": 0,
             "ticks": ""
            },
            "type": "choropleth"
           }
          ],
          "contour": [
           {
            "colorbar": {
             "outlinewidth": 0,
             "ticks": ""
            },
            "colorscale": [
             [
              0,
              "#0d0887"
             ],
             [
              0.1111111111111111,
              "#46039f"
             ],
             [
              0.2222222222222222,
              "#7201a8"
             ],
             [
              0.3333333333333333,
              "#9c179e"
             ],
             [
              0.4444444444444444,
              "#bd3786"
             ],
             [
              0.5555555555555556,
              "#d8576b"
             ],
             [
              0.6666666666666666,
              "#ed7953"
             ],
             [
              0.7777777777777778,
              "#fb9f3a"
             ],
             [
              0.8888888888888888,
              "#fdca26"
             ],
             [
              1,
              "#f0f921"
             ]
            ],
            "type": "contour"
           }
          ],
          "contourcarpet": [
           {
            "colorbar": {
             "outlinewidth": 0,
             "ticks": ""
            },
            "type": "contourcarpet"
           }
          ],
          "heatmap": [
           {
            "colorbar": {
             "outlinewidth": 0,
             "ticks": ""
            },
            "colorscale": [
             [
              0,
              "#0d0887"
             ],
             [
              0.1111111111111111,
              "#46039f"
             ],
             [
              0.2222222222222222,
              "#7201a8"
             ],
             [
              0.3333333333333333,
              "#9c179e"
             ],
             [
              0.4444444444444444,
              "#bd3786"
             ],
             [
              0.5555555555555556,
              "#d8576b"
             ],
             [
              0.6666666666666666,
              "#ed7953"
             ],
             [
              0.7777777777777778,
              "#fb9f3a"
             ],
             [
              0.8888888888888888,
              "#fdca26"
             ],
             [
              1,
              "#f0f921"
             ]
            ],
            "type": "heatmap"
           }
          ],
          "histogram": [
           {
            "marker": {
             "pattern": {
              "fillmode": "overlay",
              "size": 10,
              "solidity": 0.2
             }
            },
            "type": "histogram"
           }
          ],
          "histogram2d": [
           {
            "colorbar": {
             "outlinewidth": 0,
             "ticks": ""
            },
            "colorscale": [
             [
              0,
              "#0d0887"
             ],
             [
              0.1111111111111111,
              "#46039f"
             ],
             [
              0.2222222222222222,
              "#7201a8"
             ],
             [
              0.3333333333333333,
              "#9c179e"
             ],
             [
              0.4444444444444444,
              "#bd3786"
             ],
             [
              0.5555555555555556,
              "#d8576b"
             ],
             [
              0.6666666666666666,
              "#ed7953"
             ],
             [
              0.7777777777777778,
              "#fb9f3a"
             ],
             [
              0.8888888888888888,
              "#fdca26"
             ],
             [
              1,
              "#f0f921"
             ]
            ],
            "type": "histogram2d"
           }
          ],
          "histogram2dcontour": [
           {
            "colorbar": {
             "outlinewidth": 0,
             "ticks": ""
            },
            "colorscale": [
             [
              0,
              "#0d0887"
             ],
             [
              0.1111111111111111,
              "#46039f"
             ],
             [
              0.2222222222222222,
              "#7201a8"
             ],
             [
              0.3333333333333333,
              "#9c179e"
             ],
             [
              0.4444444444444444,
              "#bd3786"
             ],
             [
              0.5555555555555556,
              "#d8576b"
             ],
             [
              0.6666666666666666,
              "#ed7953"
             ],
             [
              0.7777777777777778,
              "#fb9f3a"
             ],
             [
              0.8888888888888888,
              "#fdca26"
             ],
             [
              1,
              "#f0f921"
             ]
            ],
            "type": "histogram2dcontour"
           }
          ],
          "mesh3d": [
           {
            "colorbar": {
             "outlinewidth": 0,
             "ticks": ""
            },
            "type": "mesh3d"
           }
          ],
          "parcoords": [
           {
            "line": {
             "colorbar": {
              "outlinewidth": 0,
              "ticks": ""
             }
            },
            "type": "parcoords"
           }
          ],
          "pie": [
           {
            "automargin": true,
            "type": "pie"
           }
          ],
          "scatter": [
           {
            "fillpattern": {
             "fillmode": "overlay",
             "size": 10,
             "solidity": 0.2
            },
            "type": "scatter"
           }
          ],
          "scatter3d": [
           {
            "line": {
             "colorbar": {
              "outlinewidth": 0,
              "ticks": ""
             }
            },
            "marker": {
             "colorbar": {
              "outlinewidth": 0,
              "ticks": ""
             }
            },
            "type": "scatter3d"
           }
          ],
          "scattercarpet": [
           {
            "marker": {
             "colorbar": {
              "outlinewidth": 0,
              "ticks": ""
             }
            },
            "type": "scattercarpet"
           }
          ],
          "scattergeo": [
           {
            "marker": {
             "colorbar": {
              "outlinewidth": 0,
              "ticks": ""
             }
            },
            "type": "scattergeo"
           }
          ],
          "scattergl": [
           {
            "marker": {
             "colorbar": {
              "outlinewidth": 0,
              "ticks": ""
             }
            },
            "type": "scattergl"
           }
          ],
          "scattermap": [
           {
            "marker": {
             "colorbar": {
              "outlinewidth": 0,
              "ticks": ""
             }
            },
            "type": "scattermap"
           }
          ],
          "scattermapbox": [
           {
            "marker": {
             "colorbar": {
              "outlinewidth": 0,
              "ticks": ""
             }
            },
            "type": "scattermapbox"
           }
          ],
          "scatterpolar": [
           {
            "marker": {
             "colorbar": {
              "outlinewidth": 0,
              "ticks": ""
             }
            },
            "type": "scatterpolar"
           }
          ],
          "scatterpolargl": [
           {
            "marker": {
             "colorbar": {
              "outlinewidth": 0,
              "ticks": ""
             }
            },
            "type": "scatterpolargl"
           }
          ],
          "scatterternary": [
           {
            "marker": {
             "colorbar": {
              "outlinewidth": 0,
              "ticks": ""
             }
            },
            "type": "scatterternary"
           }
          ],
          "surface": [
           {
            "colorbar": {
             "outlinewidth": 0,
             "ticks": ""
            },
            "colorscale": [
             [
              0,
              "#0d0887"
             ],
             [
              0.1111111111111111,
              "#46039f"
             ],
             [
              0.2222222222222222,
              "#7201a8"
             ],
             [
              0.3333333333333333,
              "#9c179e"
             ],
             [
              0.4444444444444444,
              "#bd3786"
             ],
             [
              0.5555555555555556,
              "#d8576b"
             ],
             [
              0.6666666666666666,
              "#ed7953"
             ],
             [
              0.7777777777777778,
              "#fb9f3a"
             ],
             [
              0.8888888888888888,
              "#fdca26"
             ],
             [
              1,
              "#f0f921"
             ]
            ],
            "type": "surface"
           }
          ],
          "table": [
           {
            "cells": {
             "fill": {
              "color": "#EBF0F8"
             },
             "line": {
              "color": "white"
             }
            },
            "header": {
             "fill": {
              "color": "#C8D4E3"
             },
             "line": {
              "color": "white"
             }
            },
            "type": "table"
           }
          ]
         },
         "layout": {
          "annotationdefaults": {
           "arrowcolor": "#2a3f5f",
           "arrowhead": 0,
           "arrowwidth": 1
          },
          "autotypenumbers": "strict",
          "coloraxis": {
           "colorbar": {
            "outlinewidth": 0,
            "ticks": ""
           }
          },
          "colorscale": {
           "diverging": [
            [
             0,
             "#8e0152"
            ],
            [
             0.1,
             "#c51b7d"
            ],
            [
             0.2,
             "#de77ae"
            ],
            [
             0.3,
             "#f1b6da"
            ],
            [
             0.4,
             "#fde0ef"
            ],
            [
             0.5,
             "#f7f7f7"
            ],
            [
             0.6,
             "#e6f5d0"
            ],
            [
             0.7,
             "#b8e186"
            ],
            [
             0.8,
             "#7fbc41"
            ],
            [
             0.9,
             "#4d9221"
            ],
            [
             1,
             "#276419"
            ]
           ],
           "sequential": [
            [
             0,
             "#0d0887"
            ],
            [
             0.1111111111111111,
             "#46039f"
            ],
            [
             0.2222222222222222,
             "#7201a8"
            ],
            [
             0.3333333333333333,
             "#9c179e"
            ],
            [
             0.4444444444444444,
             "#bd3786"
            ],
            [
             0.5555555555555556,
             "#d8576b"
            ],
            [
             0.6666666666666666,
             "#ed7953"
            ],
            [
             0.7777777777777778,
             "#fb9f3a"
            ],
            [
             0.8888888888888888,
             "#fdca26"
            ],
            [
             1,
             "#f0f921"
            ]
           ],
           "sequentialminus": [
            [
             0,
             "#0d0887"
            ],
            [
             0.1111111111111111,
             "#46039f"
            ],
            [
             0.2222222222222222,
             "#7201a8"
            ],
            [
             0.3333333333333333,
             "#9c179e"
            ],
            [
             0.4444444444444444,
             "#bd3786"
            ],
            [
             0.5555555555555556,
             "#d8576b"
            ],
            [
             0.6666666666666666,
             "#ed7953"
            ],
            [
             0.7777777777777778,
             "#fb9f3a"
            ],
            [
             0.8888888888888888,
             "#fdca26"
            ],
            [
             1,
             "#f0f921"
            ]
           ]
          },
          "colorway": [
           "#636efa",
           "#EF553B",
           "#00cc96",
           "#ab63fa",
           "#FFA15A",
           "#19d3f3",
           "#FF6692",
           "#B6E880",
           "#FF97FF",
           "#FECB52"
          ],
          "font": {
           "color": "#2a3f5f"
          },
          "geo": {
           "bgcolor": "white",
           "lakecolor": "white",
           "landcolor": "white",
           "showlakes": true,
           "showland": true,
           "subunitcolor": "#C8D4E3"
          },
          "hoverlabel": {
           "align": "left"
          },
          "hovermode": "closest",
          "mapbox": {
           "style": "light"
          },
          "paper_bgcolor": "white",
          "plot_bgcolor": "white",
          "polar": {
           "angularaxis": {
            "gridcolor": "#EBF0F8",
            "linecolor": "#EBF0F8",
            "ticks": ""
           },
           "bgcolor": "white",
           "radialaxis": {
            "gridcolor": "#EBF0F8",
            "linecolor": "#EBF0F8",
            "ticks": ""
           }
          },
          "scene": {
           "xaxis": {
            "backgroundcolor": "white",
            "gridcolor": "#DFE8F3",
            "gridwidth": 2,
            "linecolor": "#EBF0F8",
            "showbackground": true,
            "ticks": "",
            "zerolinecolor": "#EBF0F8"
           },
           "yaxis": {
            "backgroundcolor": "white",
            "gridcolor": "#DFE8F3",
            "gridwidth": 2,
            "linecolor": "#EBF0F8",
            "showbackground": true,
            "ticks": "",
            "zerolinecolor": "#EBF0F8"
           },
           "zaxis": {
            "backgroundcolor": "white",
            "gridcolor": "#DFE8F3",
            "gridwidth": 2,
            "linecolor": "#EBF0F8",
            "showbackground": true,
            "ticks": "",
            "zerolinecolor": "#EBF0F8"
           }
          },
          "shapedefaults": {
           "line": {
            "color": "#2a3f5f"
           }
          },
          "ternary": {
           "aaxis": {
            "gridcolor": "#DFE8F3",
            "linecolor": "#A2B1C6",
            "ticks": ""
           },
           "baxis": {
            "gridcolor": "#DFE8F3",
            "linecolor": "#A2B1C6",
            "ticks": ""
           },
           "bgcolor": "white",
           "caxis": {
            "gridcolor": "#DFE8F3",
            "linecolor": "#A2B1C6",
            "ticks": ""
           }
          },
          "title": {
           "x": 0.05
          },
          "xaxis": {
           "automargin": true,
           "gridcolor": "#EBF0F8",
           "linecolor": "#EBF0F8",
           "ticks": "",
           "title": {
            "standoff": 15
           },
           "zerolinecolor": "#EBF0F8",
           "zerolinewidth": 2
          },
          "yaxis": {
           "automargin": true,
           "gridcolor": "#EBF0F8",
           "linecolor": "#EBF0F8",
           "ticks": "",
           "title": {
            "standoff": 15
           },
           "zerolinecolor": "#EBF0F8",
           "zerolinewidth": 2
          }
         }
        },
        "title": {
         "font": {
          "color": "black",
          "family": "Cardo",
          "size": 27
         },
         "text": "<span style='color: black; font-weight: normal;'>Stargate Bridge Vol by Chain</span><br><sub style='font-size: 18px; color: black; font-weight: normal;'>Volume through 2025-04-01</sub>",
         "x": 0.1,
         "xanchor": "left",
         "y": 0.9,
         "yanchor": "top"
        },
        "width": 730
       }
      }
     },
     "metadata": {},
     "output_type": "display_data"
    }
   ],
   "source": [
    "cm = ChartMaker(shuffle_colors=True)\n",
    "cm.build(\n",
    "    df = test_df2,\n",
    "    # axes_data = {'x':'CHAIN','y1':['TOTAL_VOLUME_BRIDGED']},\n",
    "    groupby_col='CHAIN',\n",
    "    num_col='TOTAL_VOLUME_BRIDGED',\n",
    "    title='Stargate Bridge Vol by Chain',\n",
    "    chart_type='pie',\n",
    "    options = {\n",
    "        'margin':dict(t=100),'annotations':True,\n",
    "        'tickprefix':{'y1':'$'},'hole_size':0,\n",
    "        'texttemplate':'%{label}<br>%{percent}',\n",
    "        'show_legend':False,'legend_placement':{'x':1.1,'y':1},\n",
    "        'textinfo':'percent+label'\n",
    "    }\n",
    ")\n",
    "cm.add_title(\n",
    "    subtitle=f'Volume through 2025-04-01',\n",
    "    x=0.1,\n",
    "    y=0.9\n",
    ")\n",
    "cm.show_fig()"
   ]
  },
  {
   "cell_type": "code",
   "execution_count": 12,
   "id": "c2447491",
   "metadata": {},
   "outputs": [
    {
     "data": {
      "application/vnd.plotly.v1+json": {
       "config": {
        "linkText": "Export to plot.ly",
        "plotlyServerURL": "https://plot.ly",
        "showLink": false
       },
       "data": [
        {
         "hole": 0,
         "labels": [
          "Arbitrum    ",
          "Ethereum    ",
          "Avalanche    ",
          "Polygon    ",
          "Optimism    ",
          "Base    ",
          "BSC    "
         ],
         "marker": {
          "colors": [
           "#086b83",
           "#ac8399",
           "#4d4d79",
           "#6d6942",
           "#e252ff",
           "#ffc38e",
           "#7bacb5",
           "#bc9157",
           "#eb01c3",
           "#d6e8ff",
           "#eb0552",
           "#6b9700",
           "#3b6d01",
           "#b87500",
           "#ff3464",
           "#7cc6d8",
           "#e299b3",
           "#6d7400",
           "#855b89",
           "#9eafc4",
           "#cfff9e",
           "#826e8c",
           "#a34d95",
           "#44d457",
           "#ff7f00",
           "#e100e8",
           "#d1b1eb",
           "#b6cd72",
           "#366962",
           "#caaa5e",
           "#DA16FF",
           "#ed67ff",
           "#8c9ab1",
           "#bf03b8",
           "#6e56ca",
           "#c6a5c1",
           "#9e698c",
           "#e8013a",
           "#596d00",
           "#377eb8",
           "#2db152",
           "#ca0044",
           "#9387a7",
           "#620042",
           "#0087b1",
           "#afa501",
           "#db9036",
           "#7ecaff",
           "#A777F1",
           "#60383b",
           "#018700",
           "#FF6692",
           "#fb7c00",
           "#636EFA",
           "#755900",
           "#c1a3c3",
           "#b3bfda",
           "#31d400",
           "#bcb6ff",
           "#87004f",
           "#85c39a",
           "#ff6989",
           "#ae083f",
           "#59e2ff",
           "#f2db8a",
           "#77975b",
           "#00bda3",
           "#ba6efd",
           "#8287ff",
           "#573b00",
           "#7e2a8e",
           "rgb(252,205,229)",
           "#873472",
           "#FB00D1",
           "#dfcf5b",
           "#9467bd",
           "#d3c37c",
           "#d60000",
           "#01baf6",
           "#724967",
           "#729a7c",
           "#9946ae",
           "#d14867",
           "#9cfb75",
           "#36429e",
           "#bf6d82",
           "#93ac83",
           "#f781bf",
           "#0054c1",
           "#EF553B",
           "#b53a85",
           "#64b6ba",
           "#f90087",
           "#546744",
           "rgb(217,217,217)",
           "#904f00",
           "#6466ef",
           "#698cbd",
           "#b8009e",
           "#316200",
           "#caff4f",
           "#004b00",
           "#d442fd",
           "#95aa2a",
           "#c46970",
           "#9cffff",
           "#dbbc95",
           "#c38285",
           "#56831a",
           "#ffaaf6",
           "#ba5e21",
           "#bcbd22",
           "#80fb9a",
           "#acaa59",
           "#d48580",
           "#79893b",
           "#1f77b4",
           "#e16e31",
           "#a877ac",
           "#00d6a7",
           "#ff548e",
           "#91d370",
           "#380000",
           "#e47ba7",
           "#d6fbff",
           "#382d00",
           "#862A16",
           "#5e7b87",
           "#9900c4",
           "#EB663B",
           "#6C7C32",
           "#e82fa0",
           "#2d9ed3",
           "#590f00",
           "#5d7e69",
           "#00b800",
           "#e205e2",
           "#a75423",
           "#c86e66",
           "#80d3dd",
           "#c14103",
           "#b33b01",
           "#645472",
           "#afa5ff",
           "#9c60a5",
           "#8956af",
           "#FFA15A",
           "#4b9077",
           "#7242a3",
           "#526077",
           "#c1bdfd",
           "#21d3ff",
           "#fd77ff",
           "#c8c33f",
           "#b89028",
           "#b800d4",
           "#599000",
           "#1ca1ff",
           "#ffbad6",
           "#ff3146",
           "#7ecdf2",
           "#da5480",
           "#5e1123",
           "#f2007b",
           "#e1b669",
           "#ffb500",
           "#3abdc1",
           "#6b004f",
           "#dbafc8",
           "#ff7752",
           "#1859ff",
           "#89e4d8",
           "#984ea3",
           "#60006e",
           "#8c4470",
           "#7b2f4f",
           "#97626b",
           "#60345b",
           "#cd83bc",
           "#aa80cd",
           "#a65628",
           "#829026",
           "#6e0099",
           "#89dbb3",
           "#a19564",
           "#c35dba",
           "#15e18c",
           "#59502a",
           "#a793e1",
           "#bfedbc",
           "#bd6ea1",
           "#511CFB",
           "#cae256",
           "#7cb569",
           "rgb(190,186,218)",
           "#38c1a1",
           "rgb(179,222,105)",
           "#f7807c",
           "#acaac8",
           "#778AAE",
           "#a17569",
           "#a3bff6",
           "#705470",
           "#c144bc",
           "#a3832f",
           "#0000dd",
           "#50807c",
           "#ac8ca8",
           "#B6E880",
           "#17becf",
           "#56642a",
           "#6b8567",
           "#009e7c",
           "#009744",
           "#9affc3",
           "#c85748",
           "#ff9703",
           "#ff7f0e",
           "#54823b",
           "#959167",
           "#b58346",
           "#ff82ed",
           "#ffa52f",
           "#6e70aa",
           "#b55662",
           "#4985ff",
           "#ef52a3",
           "#c67ee8",
           "#a56b97",
           "#5d95aa",
           "#ba91cf",
           "#bceddb",
           "#db7e01",
           "#59b5df",
           "#91b5b6",
           "#6baf36",
           "#529e93",
           "#f4bfb1",
           "#f2cdff",
           "#d1afef",
           "#8c3bff",
           "#d89c89",
           "#05acc6",
           "#7b4600",
           "#cc7407",
           "#bac1df",
           "#00d493",
           "#222A2A",
           "#ff49b1",
           "#fd1500",
           "#919eb6",
           "#8abf5d",
           "#fb9ca7",
           "#4b9793",
           "#B68100",
           "#49a150",
           "#eb5ed4",
           "rgb(251,128,114)",
           "#af6dff",
           "#8c6677",
           "#64c674",
           "#e377c2",
           "#839564",
           "#a0e491",
           "#2b8ad4",
           "#d62728",
           "#00ba69",
           "#ff8ec8",
           "#13cad1",
           "#335769",
           "#a33b74",
           "rgb(188,128,189)",
           "#a1216b",
           "#ff7ed1",
           "#90318e",
           "#ff5238",
           "#aa3b36",
           "#dd662d",
           "#f64470",
           "#4d33ff",
           "#c15603",
           "#647748",
           "#87a8eb",
           "#dfacb6",
           "#e6a872",
           "#ff00cd",
           "#8e7b01",
           "#ff97b1",
           "#af5dd1",
           "#01824d",
           "#903400",
           "#c6002d",
           "#e29ccf",
           "#a1c8c8",
           "#ff59da",
           "#5979c8",
           "#ef72aa",
           "#ff8734",
           "#8cc68e",
           "#00ebed",
           "#B2828D",
           "#ffcd03",
           "#7b4b85",
           "#d154a5",
           "#d88052",
           "#11421c",
           "#d195aa",
           "#aad4c1",
           "#80793d",
           "#364424",
           "#828056",
           "#aa5dca",
           "#c395a5",
           "#487031",
           "#9aaa85",
           "#916e56",
           "#DA60CA",
           "#8eba00",
           "#ffa056",
           "#9e6e31",
           "#915280",
           "#9cdb5d",
           "#9c5642",
           "#d8b391",
           "#ff9c87",
           "#773416",
           "#006d2d",
           "rgb(141,211,199)",
           "#93a14f",
           "#a55b6b",
           "#5d8c90",
           "#00a316",
           "#8c564b",
           "#909101",
           "#b500ff",
           "#4f6e52",
           "#da015d",
           "#6d5b95",
           "#5949a3",
           "#d4e29e",
           "#8e6097",
           "#c68ecd",
           "#0D2A63",
           "#547c72",
           "#fde1b1",
           "#b3e8ef",
           "#826723",
           "#c3774f",
           "#a7423b",
           "#AB63FA",
           "#4d230c",
           "#b3cd00",
           "#e9ff79",
           "#a390af",
           "#85d401",
           "#AF0038",
           "#2E91E5",
           "#00cff9",
           "#7e0175",
           "#c69eff",
           "#019e70",
           "#8a85ae",
           "#790000",
           "#6dd4c1",
           "#00ff75",
           "#7ea59a",
           "#72b8ff",
           "#72af9e",
           "#70cf4f",
           "#6e00eb",
           "#1626ff",
           "#00c182",
           "#baaa80",
           "#eda5da",
           "#5d213d",
           "#2f5282",
           "#a55949",
           "#db72c8",
           "#b1e400",
           "#dbb333",
           "#97bca8",
           "#b15093",
           "#a0ba52",
           "#905b01",
           "#aa6e66",
           "rgb(255,237,111)",
           "#a34ba8",
           "#f9ff00",
           "#d69a36",
           "#77563b",
           "#ffc862",
           "#aa002d",
           "#ac1a13",
           "#2ca02c",
           "#a1cdff",
           "#95fde2",
           "#ac567c",
           "#755726",
           "rgb(204,235,197)",
           "#00e400",
           "#0774d8",
           "#e41a1c",
           "#e2857e",
           "#d8cf00",
           "#b6cfaa",
           "#9738db",
           "#9e4b00",
           "#c84248",
           "#aed1d4",
           "#FF97FF",
           "#446966",
           "#4daf4a",
           "#95622f",
           "#db03b3",
           "#dfbcda",
           "#ffd4ef",
           "#8300cf",
           "#e28c62",
           "#b8ac7e",
           "#bac389",
           "#b5005e",
           "#00A08B",
           "#727790",
           "#00f4a1",
           "#fdf490",
           "#97833d",
           "#ff3628",
           "#FB0D0D",
           "#0064a3",
           "#00753f",
           "#335726",
           "#7f7f7f",
           "#97ff00",
           "#cdbfe4",
           "#60b385",
           "#6e6e31",
           "#b8ba01",
           "#00c846",
           "#a57bb8",
           "#4d60b5",
           "#e48eff",
           "#00CC96",
           "#f9eb4d",
           "#f26952",
           "#5b3a7c",
           "#eda590",
           "#89ba00",
           "#ac7700",
           "#c89a69",
           "#ffff33",
           "#ba8c7c",
           "#d84621",
           "#df4dcd",
           "#4801cc",
           "#b3723b",
           "#528549",
           "#79ae6b",
           "#97414d",
           "#897490",
           "#1f3400",
           "#a77b87",
           "#c4668e",
           "#a32818",
           "#34bf00",
           "#eb4d00",
           "#d182a3",
           "#5901a3",
           "#eb605d",
           "#19D3F3",
           "#9ee2ff",
           "#856277",
           "#805059",
           "#623f28",
           "#4b4f01",
           "#8c7700",
           "#05b3aa",
           "#876bd8",
           "#FECB52",
           "#34574d",
           "#e25660",
           "#798a9e",
           "#9e0174",
           "#669c4d",
           "#bf90f2",
           "#48ffef",
           "#bfbc4d",
           "#89bacf",
           "#FC0080",
           "#a101c3",
           "#a03a52",
           "#ff9070",
           "rgb(253,180,98)",
           "#70aacf",
           "#16a300",
           "#6e5d00",
           "rgb(128,177,211)",
           "#b89500",
           "#46709e",
           "#e2afaf",
           "#ff6200",
           "#b1826d",
           "#59aa75",
           "#8a0031",
           "#c63189",
           "#750D86",
           "#015438",
           "#9e0399",
           "#00acc6",
           "#c35b3d",
           "#247c2a",
           "#009aa0",
           "#d60000",
           "#70a3af",
           "#a08052",
           "#bc66b8",
           "#bcac52",
           "#00dfc3",
           "#bc006b",
           "#07ef00",
           "#2b7e60",
           "#008069",
           "#642821",
           "#cc9790",
           "#8a6d4f",
           "rgb(255,255,179)",
           "#03dae6",
           "#00fdcf",
           "#a795c6",
           "#568e5b",
           "#2d6b4d",
           "#0a8289",
           "#99acdd",
           "#6ee956",
           "#87d82f",
           "#9a6900",
           "#b6d4eb",
           "#629a7b",
           "#e6a500",
           "#953f1f",
           "#77a342",
           "#e14231",
           "#c136d6",
           "#ba00fd",
           "#018700",
           "#ddd3a5",
           "#979548",
           "#d19570",
           "#79525e",
           "#ff28fd",
           "#005659",
           "#1CA71C",
           "#999999",
           "#f77589",
           "#67aa00",
           "#56dd77",
           "#e49cff",
           "#6C4516",
           "#118e54",
           "#E15F99",
           "#aea8d1",
           "#ebffd4",
           "#008579",
           "#832f33",
           "#8970b1",
           "#1616A7",
           "#006e70",
           "#77c6ba",
           "#c33431",
           "#804f3d",
           "#c672dd",
           "#afbc82",
           "#824638",
           "#878ed1",
           "#5db54b",
           "#dad4ff",
           "#b63862",
           "#d3008c"
          ],
          "line": {
           "color": "white",
           "width": 4
          }
         },
         "showlegend": false,
         "textfont": {
          "color": "black",
          "family": "Cardo",
          "size": 12
         },
         "textinfo": "percent+label",
         "texttemplate": "%{label}<br>%{percent}",
         "type": "pie",
         "values": {
          "bdata": "7FG4bhMPwUGkcD3wRP+2QQrXY4Lgv7VBPQoXLypCs0GPwvUuwWWwQT0K164yyKtB4XoUrlDxGUE=",
          "dtype": "f8"
         }
        }
       ],
       "layout": {
        "annotations": [
         {
          "align": "center",
          "font": {
           "color": "black",
           "family": "Cardo",
           "size": 25
          },
          "showarrow": false,
          "text": "Total: $2.2B",
          "x": 0.5,
          "xref": "paper",
          "y": 0.5,
          "yref": "paper"
         }
        ],
        "font": {
         "family": "Cardo",
         "size": 16
        },
        "height": 400,
        "legend": {
         "bgcolor": "rgba(0,0,0,0)",
         "font": {
          "color": "black",
          "family": "Cardo",
          "size": 12
         },
         "itemsizing": "constant",
         "orientation": "v",
         "x": 1.1,
         "xanchor": "left",
         "y": 1,
         "yanchor": "top"
        },
        "margin": {
         "t": 100
        },
        "paper_bgcolor": "rgba(0,0,0,0)",
        "plot_bgcolor": "rgba(0,0,0,0)",
        "template": {
         "data": {
          "bar": [
           {
            "error_x": {
             "color": "#2a3f5f"
            },
            "error_y": {
             "color": "#2a3f5f"
            },
            "marker": {
             "line": {
              "color": "white",
              "width": 0.5
             },
             "pattern": {
              "fillmode": "overlay",
              "size": 10,
              "solidity": 0.2
             }
            },
            "type": "bar"
           }
          ],
          "barpolar": [
           {
            "marker": {
             "line": {
              "color": "white",
              "width": 0.5
             },
             "pattern": {
              "fillmode": "overlay",
              "size": 10,
              "solidity": 0.2
             }
            },
            "type": "barpolar"
           }
          ],
          "carpet": [
           {
            "aaxis": {
             "endlinecolor": "#2a3f5f",
             "gridcolor": "#C8D4E3",
             "linecolor": "#C8D4E3",
             "minorgridcolor": "#C8D4E3",
             "startlinecolor": "#2a3f5f"
            },
            "baxis": {
             "endlinecolor": "#2a3f5f",
             "gridcolor": "#C8D4E3",
             "linecolor": "#C8D4E3",
             "minorgridcolor": "#C8D4E3",
             "startlinecolor": "#2a3f5f"
            },
            "type": "carpet"
           }
          ],
          "choropleth": [
           {
            "colorbar": {
             "outlinewidth": 0,
             "ticks": ""
            },
            "type": "choropleth"
           }
          ],
          "contour": [
           {
            "colorbar": {
             "outlinewidth": 0,
             "ticks": ""
            },
            "colorscale": [
             [
              0,
              "#0d0887"
             ],
             [
              0.1111111111111111,
              "#46039f"
             ],
             [
              0.2222222222222222,
              "#7201a8"
             ],
             [
              0.3333333333333333,
              "#9c179e"
             ],
             [
              0.4444444444444444,
              "#bd3786"
             ],
             [
              0.5555555555555556,
              "#d8576b"
             ],
             [
              0.6666666666666666,
              "#ed7953"
             ],
             [
              0.7777777777777778,
              "#fb9f3a"
             ],
             [
              0.8888888888888888,
              "#fdca26"
             ],
             [
              1,
              "#f0f921"
             ]
            ],
            "type": "contour"
           }
          ],
          "contourcarpet": [
           {
            "colorbar": {
             "outlinewidth": 0,
             "ticks": ""
            },
            "type": "contourcarpet"
           }
          ],
          "heatmap": [
           {
            "colorbar": {
             "outlinewidth": 0,
             "ticks": ""
            },
            "colorscale": [
             [
              0,
              "#0d0887"
             ],
             [
              0.1111111111111111,
              "#46039f"
             ],
             [
              0.2222222222222222,
              "#7201a8"
             ],
             [
              0.3333333333333333,
              "#9c179e"
             ],
             [
              0.4444444444444444,
              "#bd3786"
             ],
             [
              0.5555555555555556,
              "#d8576b"
             ],
             [
              0.6666666666666666,
              "#ed7953"
             ],
             [
              0.7777777777777778,
              "#fb9f3a"
             ],
             [
              0.8888888888888888,
              "#fdca26"
             ],
             [
              1,
              "#f0f921"
             ]
            ],
            "type": "heatmap"
           }
          ],
          "histogram": [
           {
            "marker": {
             "pattern": {
              "fillmode": "overlay",
              "size": 10,
              "solidity": 0.2
             }
            },
            "type": "histogram"
           }
          ],
          "histogram2d": [
           {
            "colorbar": {
             "outlinewidth": 0,
             "ticks": ""
            },
            "colorscale": [
             [
              0,
              "#0d0887"
             ],
             [
              0.1111111111111111,
              "#46039f"
             ],
             [
              0.2222222222222222,
              "#7201a8"
             ],
             [
              0.3333333333333333,
              "#9c179e"
             ],
             [
              0.4444444444444444,
              "#bd3786"
             ],
             [
              0.5555555555555556,
              "#d8576b"
             ],
             [
              0.6666666666666666,
              "#ed7953"
             ],
             [
              0.7777777777777778,
              "#fb9f3a"
             ],
             [
              0.8888888888888888,
              "#fdca26"
             ],
             [
              1,
              "#f0f921"
             ]
            ],
            "type": "histogram2d"
           }
          ],
          "histogram2dcontour": [
           {
            "colorbar": {
             "outlinewidth": 0,
             "ticks": ""
            },
            "colorscale": [
             [
              0,
              "#0d0887"
             ],
             [
              0.1111111111111111,
              "#46039f"
             ],
             [
              0.2222222222222222,
              "#7201a8"
             ],
             [
              0.3333333333333333,
              "#9c179e"
             ],
             [
              0.4444444444444444,
              "#bd3786"
             ],
             [
              0.5555555555555556,
              "#d8576b"
             ],
             [
              0.6666666666666666,
              "#ed7953"
             ],
             [
              0.7777777777777778,
              "#fb9f3a"
             ],
             [
              0.8888888888888888,
              "#fdca26"
             ],
             [
              1,
              "#f0f921"
             ]
            ],
            "type": "histogram2dcontour"
           }
          ],
          "mesh3d": [
           {
            "colorbar": {
             "outlinewidth": 0,
             "ticks": ""
            },
            "type": "mesh3d"
           }
          ],
          "parcoords": [
           {
            "line": {
             "colorbar": {
              "outlinewidth": 0,
              "ticks": ""
             }
            },
            "type": "parcoords"
           }
          ],
          "pie": [
           {
            "automargin": true,
            "type": "pie"
           }
          ],
          "scatter": [
           {
            "fillpattern": {
             "fillmode": "overlay",
             "size": 10,
             "solidity": 0.2
            },
            "type": "scatter"
           }
          ],
          "scatter3d": [
           {
            "line": {
             "colorbar": {
              "outlinewidth": 0,
              "ticks": ""
             }
            },
            "marker": {
             "colorbar": {
              "outlinewidth": 0,
              "ticks": ""
             }
            },
            "type": "scatter3d"
           }
          ],
          "scattercarpet": [
           {
            "marker": {
             "colorbar": {
              "outlinewidth": 0,
              "ticks": ""
             }
            },
            "type": "scattercarpet"
           }
          ],
          "scattergeo": [
           {
            "marker": {
             "colorbar": {
              "outlinewidth": 0,
              "ticks": ""
             }
            },
            "type": "scattergeo"
           }
          ],
          "scattergl": [
           {
            "marker": {
             "colorbar": {
              "outlinewidth": 0,
              "ticks": ""
             }
            },
            "type": "scattergl"
           }
          ],
          "scattermap": [
           {
            "marker": {
             "colorbar": {
              "outlinewidth": 0,
              "ticks": ""
             }
            },
            "type": "scattermap"
           }
          ],
          "scattermapbox": [
           {
            "marker": {
             "colorbar": {
              "outlinewidth": 0,
              "ticks": ""
             }
            },
            "type": "scattermapbox"
           }
          ],
          "scatterpolar": [
           {
            "marker": {
             "colorbar": {
              "outlinewidth": 0,
              "ticks": ""
             }
            },
            "type": "scatterpolar"
           }
          ],
          "scatterpolargl": [
           {
            "marker": {
             "colorbar": {
              "outlinewidth": 0,
              "ticks": ""
             }
            },
            "type": "scatterpolargl"
           }
          ],
          "scatterternary": [
           {
            "marker": {
             "colorbar": {
              "outlinewidth": 0,
              "ticks": ""
             }
            },
            "type": "scatterternary"
           }
          ],
          "surface": [
           {
            "colorbar": {
             "outlinewidth": 0,
             "ticks": ""
            },
            "colorscale": [
             [
              0,
              "#0d0887"
             ],
             [
              0.1111111111111111,
              "#46039f"
             ],
             [
              0.2222222222222222,
              "#7201a8"
             ],
             [
              0.3333333333333333,
              "#9c179e"
             ],
             [
              0.4444444444444444,
              "#bd3786"
             ],
             [
              0.5555555555555556,
              "#d8576b"
             ],
             [
              0.6666666666666666,
              "#ed7953"
             ],
             [
              0.7777777777777778,
              "#fb9f3a"
             ],
             [
              0.8888888888888888,
              "#fdca26"
             ],
             [
              1,
              "#f0f921"
             ]
            ],
            "type": "surface"
           }
          ],
          "table": [
           {
            "cells": {
             "fill": {
              "color": "#EBF0F8"
             },
             "line": {
              "color": "white"
             }
            },
            "header": {
             "fill": {
              "color": "#C8D4E3"
             },
             "line": {
              "color": "white"
             }
            },
            "type": "table"
           }
          ]
         },
         "layout": {
          "annotationdefaults": {
           "arrowcolor": "#2a3f5f",
           "arrowhead": 0,
           "arrowwidth": 1
          },
          "autotypenumbers": "strict",
          "coloraxis": {
           "colorbar": {
            "outlinewidth": 0,
            "ticks": ""
           }
          },
          "colorscale": {
           "diverging": [
            [
             0,
             "#8e0152"
            ],
            [
             0.1,
             "#c51b7d"
            ],
            [
             0.2,
             "#de77ae"
            ],
            [
             0.3,
             "#f1b6da"
            ],
            [
             0.4,
             "#fde0ef"
            ],
            [
             0.5,
             "#f7f7f7"
            ],
            [
             0.6,
             "#e6f5d0"
            ],
            [
             0.7,
             "#b8e186"
            ],
            [
             0.8,
             "#7fbc41"
            ],
            [
             0.9,
             "#4d9221"
            ],
            [
             1,
             "#276419"
            ]
           ],
           "sequential": [
            [
             0,
             "#0d0887"
            ],
            [
             0.1111111111111111,
             "#46039f"
            ],
            [
             0.2222222222222222,
             "#7201a8"
            ],
            [
             0.3333333333333333,
             "#9c179e"
            ],
            [
             0.4444444444444444,
             "#bd3786"
            ],
            [
             0.5555555555555556,
             "#d8576b"
            ],
            [
             0.6666666666666666,
             "#ed7953"
            ],
            [
             0.7777777777777778,
             "#fb9f3a"
            ],
            [
             0.8888888888888888,
             "#fdca26"
            ],
            [
             1,
             "#f0f921"
            ]
           ],
           "sequentialminus": [
            [
             0,
             "#0d0887"
            ],
            [
             0.1111111111111111,
             "#46039f"
            ],
            [
             0.2222222222222222,
             "#7201a8"
            ],
            [
             0.3333333333333333,
             "#9c179e"
            ],
            [
             0.4444444444444444,
             "#bd3786"
            ],
            [
             0.5555555555555556,
             "#d8576b"
            ],
            [
             0.6666666666666666,
             "#ed7953"
            ],
            [
             0.7777777777777778,
             "#fb9f3a"
            ],
            [
             0.8888888888888888,
             "#fdca26"
            ],
            [
             1,
             "#f0f921"
            ]
           ]
          },
          "colorway": [
           "#636efa",
           "#EF553B",
           "#00cc96",
           "#ab63fa",
           "#FFA15A",
           "#19d3f3",
           "#FF6692",
           "#B6E880",
           "#FF97FF",
           "#FECB52"
          ],
          "font": {
           "color": "#2a3f5f"
          },
          "geo": {
           "bgcolor": "white",
           "lakecolor": "white",
           "landcolor": "white",
           "showlakes": true,
           "showland": true,
           "subunitcolor": "#C8D4E3"
          },
          "hoverlabel": {
           "align": "left"
          },
          "hovermode": "closest",
          "mapbox": {
           "style": "light"
          },
          "paper_bgcolor": "white",
          "plot_bgcolor": "white",
          "polar": {
           "angularaxis": {
            "gridcolor": "#EBF0F8",
            "linecolor": "#EBF0F8",
            "ticks": ""
           },
           "bgcolor": "white",
           "radialaxis": {
            "gridcolor": "#EBF0F8",
            "linecolor": "#EBF0F8",
            "ticks": ""
           }
          },
          "scene": {
           "xaxis": {
            "backgroundcolor": "white",
            "gridcolor": "#DFE8F3",
            "gridwidth": 2,
            "linecolor": "#EBF0F8",
            "showbackground": true,
            "ticks": "",
            "zerolinecolor": "#EBF0F8"
           },
           "yaxis": {
            "backgroundcolor": "white",
            "gridcolor": "#DFE8F3",
            "gridwidth": 2,
            "linecolor": "#EBF0F8",
            "showbackground": true,
            "ticks": "",
            "zerolinecolor": "#EBF0F8"
           },
           "zaxis": {
            "backgroundcolor": "white",
            "gridcolor": "#DFE8F3",
            "gridwidth": 2,
            "linecolor": "#EBF0F8",
            "showbackground": true,
            "ticks": "",
            "zerolinecolor": "#EBF0F8"
           }
          },
          "shapedefaults": {
           "line": {
            "color": "#2a3f5f"
           }
          },
          "ternary": {
           "aaxis": {
            "gridcolor": "#DFE8F3",
            "linecolor": "#A2B1C6",
            "ticks": ""
           },
           "baxis": {
            "gridcolor": "#DFE8F3",
            "linecolor": "#A2B1C6",
            "ticks": ""
           },
           "bgcolor": "white",
           "caxis": {
            "gridcolor": "#DFE8F3",
            "linecolor": "#A2B1C6",
            "ticks": ""
           }
          },
          "title": {
           "x": 0.05
          },
          "xaxis": {
           "automargin": true,
           "gridcolor": "#EBF0F8",
           "linecolor": "#EBF0F8",
           "ticks": "",
           "title": {
            "standoff": 15
           },
           "zerolinecolor": "#EBF0F8",
           "zerolinewidth": 2
          },
          "yaxis": {
           "automargin": true,
           "gridcolor": "#EBF0F8",
           "linecolor": "#EBF0F8",
           "ticks": "",
           "title": {
            "standoff": 15
           },
           "zerolinecolor": "#EBF0F8",
           "zerolinewidth": 2
          }
         }
        },
        "title": {
         "font": {
          "color": "black",
          "family": "Cardo",
          "size": 27
         },
         "text": "<span style='color: black; font-weight: normal;'>Stargate Bridge Vol by Chain</span><br><sub style='font-size: 18px; color: black; font-weight: normal;'>Volume through 2025-04-01</sub>",
         "x": 0.1,
         "xanchor": "left",
         "y": 0.9,
         "yanchor": "top"
        },
        "width": 730
       }
      }
     },
     "metadata": {},
     "output_type": "display_data"
    },
    {
     "name": "stdout",
     "output_type": "stream",
     "text": [
      "Saving figure to: img\\Stargate Bridge Vol by Chain.png\n"
     ]
    }
   ],
   "source": [
    "cm.add_title(\n",
    "    subtitle=f'Volume through 2025-04-01',\n",
    "    x=0.1,\n",
    "    y=0.9\n",
    ")\n",
    "cm.show_fig()\n",
    "cm.save_fig(save_directory='img')"
   ]
  },
  {
   "cell_type": "markdown",
   "id": "e7a5d0dc",
   "metadata": {},
   "source": [
    "# Heatmap"
   ]
  },
  {
   "cell_type": "markdown",
   "id": "aec1bf17",
   "metadata": {},
   "source": [
    "create_heatmap(\n",
    "    df=heatmap_data.reset_index(),\n",
    "    x_col='DIFFERENCE',\n",
    "    y_col='EARLIEST_DATE',\n",
    "    z_col='RETENTION_RATE',\n",
    "    width=730,\n",
    "    height=351,\n",
    "    title=None,\n",
    "    color_base=combined_colors[0],  # bright orange\n",
    "    font_size=14,\n",
    "    legend_font_size=12,\n",
    "    tick_font_color=\"#000\",\n",
    "    tick_suffix=\"%\",\n",
    "    margins=dict(l=0, r=0, t=25, b=0),\n",
    "    plot_bgcolor='rgba(0,0,0,0)',\n",
    "    paper_bgcolor='rgba(0,0,0,0)'\n",
    ")\n"
   ]
  },
  {
   "cell_type": "code",
   "execution_count": 13,
   "id": "d2aabae2",
   "metadata": {},
   "outputs": [
    {
     "data": {
      "text/html": [
       "<div>\n",
       "<style scoped>\n",
       "    .dataframe tbody tr th:only-of-type {\n",
       "        vertical-align: middle;\n",
       "    }\n",
       "\n",
       "    .dataframe tbody tr th {\n",
       "        vertical-align: top;\n",
       "    }\n",
       "\n",
       "    .dataframe thead th {\n",
       "        text-align: right;\n",
       "    }\n",
       "</style>\n",
       "<table border=\"1\" class=\"dataframe\">\n",
       "  <thead>\n",
       "    <tr style=\"text-align: right;\">\n",
       "      <th></th>\n",
       "      <th>EARLIEST_DATE</th>\n",
       "      <th>DIFFERENCE</th>\n",
       "      <th>NEW_USER</th>\n",
       "      <th>EXISTING_USER</th>\n",
       "      <th>RETENTION_RATE</th>\n",
       "    </tr>\n",
       "  </thead>\n",
       "  <tbody>\n",
       "    <tr>\n",
       "      <th>0</th>\n",
       "      <td>2024-03-01 00:00:00.000</td>\n",
       "      <td>1.0</td>\n",
       "      <td>843476.0</td>\n",
       "      <td>274611.0</td>\n",
       "      <td>0.33</td>\n",
       "    </tr>\n",
       "    <tr>\n",
       "      <th>1</th>\n",
       "      <td>2024-03-01 00:00:00.000</td>\n",
       "      <td>2.0</td>\n",
       "      <td>843476.0</td>\n",
       "      <td>151950.0</td>\n",
       "      <td>0.18</td>\n",
       "    </tr>\n",
       "    <tr>\n",
       "      <th>2</th>\n",
       "      <td>2024-03-01 00:00:00.000</td>\n",
       "      <td>3.0</td>\n",
       "      <td>843476.0</td>\n",
       "      <td>109154.0</td>\n",
       "      <td>0.13</td>\n",
       "    </tr>\n",
       "    <tr>\n",
       "      <th>3</th>\n",
       "      <td>2024-03-01 00:00:00.000</td>\n",
       "      <td>4.0</td>\n",
       "      <td>843476.0</td>\n",
       "      <td>83953.0</td>\n",
       "      <td>0.10</td>\n",
       "    </tr>\n",
       "    <tr>\n",
       "      <th>4</th>\n",
       "      <td>2024-03-01 00:00:00.000</td>\n",
       "      <td>5.0</td>\n",
       "      <td>843476.0</td>\n",
       "      <td>55130.0</td>\n",
       "      <td>0.07</td>\n",
       "    </tr>\n",
       "    <tr>\n",
       "      <th>...</th>\n",
       "      <td>...</td>\n",
       "      <td>...</td>\n",
       "      <td>...</td>\n",
       "      <td>...</td>\n",
       "      <td>...</td>\n",
       "    </tr>\n",
       "    <tr>\n",
       "      <th>61</th>\n",
       "      <td>2024-11-01 00:00:00.000</td>\n",
       "      <td>2.0</td>\n",
       "      <td>249898.0</td>\n",
       "      <td>26928.0</td>\n",
       "      <td>0.11</td>\n",
       "    </tr>\n",
       "    <tr>\n",
       "      <th>62</th>\n",
       "      <td>2024-11-01 00:00:00.000</td>\n",
       "      <td>3.0</td>\n",
       "      <td>249898.0</td>\n",
       "      <td>16600.0</td>\n",
       "      <td>0.07</td>\n",
       "    </tr>\n",
       "    <tr>\n",
       "      <th>63</th>\n",
       "      <td>2024-12-01 00:00:00.000</td>\n",
       "      <td>1.0</td>\n",
       "      <td>374656.0</td>\n",
       "      <td>60645.0</td>\n",
       "      <td>0.16</td>\n",
       "    </tr>\n",
       "    <tr>\n",
       "      <th>64</th>\n",
       "      <td>2024-12-01 00:00:00.000</td>\n",
       "      <td>2.0</td>\n",
       "      <td>374656.0</td>\n",
       "      <td>33138.0</td>\n",
       "      <td>0.09</td>\n",
       "    </tr>\n",
       "    <tr>\n",
       "      <th>65</th>\n",
       "      <td>2025-01-01 00:00:00.000</td>\n",
       "      <td>1.0</td>\n",
       "      <td>384440.0</td>\n",
       "      <td>47336.0</td>\n",
       "      <td>0.12</td>\n",
       "    </tr>\n",
       "  </tbody>\n",
       "</table>\n",
       "<p>66 rows × 5 columns</p>\n",
       "</div>"
      ],
      "text/plain": [
       "              EARLIEST_DATE  DIFFERENCE  NEW_USER  EXISTING_USER  \\\n",
       "0   2024-03-01 00:00:00.000         1.0  843476.0       274611.0   \n",
       "1   2024-03-01 00:00:00.000         2.0  843476.0       151950.0   \n",
       "2   2024-03-01 00:00:00.000         3.0  843476.0       109154.0   \n",
       "3   2024-03-01 00:00:00.000         4.0  843476.0        83953.0   \n",
       "4   2024-03-01 00:00:00.000         5.0  843476.0        55130.0   \n",
       "..                      ...         ...       ...            ...   \n",
       "61  2024-11-01 00:00:00.000         2.0  249898.0        26928.0   \n",
       "62  2024-11-01 00:00:00.000         3.0  249898.0        16600.0   \n",
       "63  2024-12-01 00:00:00.000         1.0  374656.0        60645.0   \n",
       "64  2024-12-01 00:00:00.000         2.0  374656.0        33138.0   \n",
       "65  2025-01-01 00:00:00.000         1.0  384440.0        47336.0   \n",
       "\n",
       "    RETENTION_RATE  \n",
       "0             0.33  \n",
       "1             0.18  \n",
       "2             0.13  \n",
       "3             0.10  \n",
       "4             0.07  \n",
       "..             ...  \n",
       "61            0.11  \n",
       "62            0.07  \n",
       "63            0.16  \n",
       "64            0.09  \n",
       "65            0.12  \n",
       "\n",
       "[66 rows x 5 columns]"
      ]
     },
     "execution_count": 13,
     "metadata": {},
     "output_type": "execute_result"
    }
   ],
   "source": [
    "test_df3 = test_cleaner.to_df(r'data/stargate_2.csv')\n",
    "test_df3, time_freq =  test_cleaner.to_time(test_df3)\n",
    "test_df3 = test_df3.dropna()\n",
    "test_df3"
   ]
  },
  {
   "cell_type": "code",
   "execution_count": 14,
   "id": "7db8cc1b",
   "metadata": {},
   "outputs": [
    {
     "name": "stdout",
     "output_type": "stream",
     "text": [
      "kind: heatmap\n",
      "chart_type: heatmap\n",
      "kind: heatmap\n"
     ]
    },
    {
     "data": {
      "application/vnd.plotly.v1+json": {
       "config": {
        "linkText": "Export to plot.ly",
        "plotlyServerURL": "https://plot.ly",
        "showLink": false
       },
       "data": [
        {
         "colorbar": {
          "tickfont": {
           "color": "black",
           "size": 12
          },
          "title": {
           "font": {
            "color": "black",
            "size": 12
           },
           "text": "Retention Rate"
          }
         },
         "colorscale": [
          [
           0,
           "white"
          ],
          [
           1,
           "#1f77b4"
          ]
         ],
         "type": "heatmap",
         "x": {
          "bdata": "AAAAAAAA8D8AAAAAAAAAQAAAAAAAAAhAAAAAAAAAEEAAAAAAAAAUQAAAAAAAABhAAAAAAAAAHEAAAAAAAAAgQAAAAAAAACJAAAAAAAAAJEAAAAAAAAAmQAAAAAAAAPA/AAAAAAAAAEAAAAAAAAAIQAAAAAAAABBAAAAAAAAAFEAAAAAAAAAYQAAAAAAAABxAAAAAAAAAIEAAAAAAAAAiQAAAAAAAACRAAAAAAAAA8D8AAAAAAAAAQAAAAAAAAAhAAAAAAAAAEEAAAAAAAAAUQAAAAAAAABhAAAAAAAAAHEAAAAAAAAAgQAAAAAAAACJAAAAAAAAA8D8AAAAAAAAAQAAAAAAAAAhAAAAAAAAAEEAAAAAAAAAUQAAAAAAAABhAAAAAAAAAHEAAAAAAAAAgQAAAAAAAAPA/AAAAAAAAAEAAAAAAAAAIQAAAAAAAABBAAAAAAAAAFEAAAAAAAAAYQAAAAAAAABxAAAAAAAAA8D8AAAAAAAAAQAAAAAAAAAhAAAAAAAAAEEAAAAAAAAAUQAAAAAAAABhAAAAAAAAA8D8AAAAAAAAAQAAAAAAAAAhAAAAAAAAAEEAAAAAAAAAUQAAAAAAAAPA/AAAAAAAAAEAAAAAAAAAIQAAAAAAAABBAAAAAAAAA8D8AAAAAAAAAQAAAAAAAAAhAAAAAAAAA8D8AAAAAAAAAQAAAAAAAAPA/",
          "dtype": "f8"
         },
         "y": [
          "2024-03-01 00:00:00.000",
          "2024-03-01 00:00:00.000",
          "2024-03-01 00:00:00.000",
          "2024-03-01 00:00:00.000",
          "2024-03-01 00:00:00.000",
          "2024-03-01 00:00:00.000",
          "2024-03-01 00:00:00.000",
          "2024-03-01 00:00:00.000",
          "2024-03-01 00:00:00.000",
          "2024-03-01 00:00:00.000",
          "2024-03-01 00:00:00.000",
          "2024-04-01 00:00:00.000",
          "2024-04-01 00:00:00.000",
          "2024-04-01 00:00:00.000",
          "2024-04-01 00:00:00.000",
          "2024-04-01 00:00:00.000",
          "2024-04-01 00:00:00.000",
          "2024-04-01 00:00:00.000",
          "2024-04-01 00:00:00.000",
          "2024-04-01 00:00:00.000",
          "2024-04-01 00:00:00.000",
          "2024-05-01 00:00:00.000",
          "2024-05-01 00:00:00.000",
          "2024-05-01 00:00:00.000",
          "2024-05-01 00:00:00.000",
          "2024-05-01 00:00:00.000",
          "2024-05-01 00:00:00.000",
          "2024-05-01 00:00:00.000",
          "2024-05-01 00:00:00.000",
          "2024-05-01 00:00:00.000",
          "2024-06-01 00:00:00.000",
          "2024-06-01 00:00:00.000",
          "2024-06-01 00:00:00.000",
          "2024-06-01 00:00:00.000",
          "2024-06-01 00:00:00.000",
          "2024-06-01 00:00:00.000",
          "2024-06-01 00:00:00.000",
          "2024-06-01 00:00:00.000",
          "2024-07-01 00:00:00.000",
          "2024-07-01 00:00:00.000",
          "2024-07-01 00:00:00.000",
          "2024-07-01 00:00:00.000",
          "2024-07-01 00:00:00.000",
          "2024-07-01 00:00:00.000",
          "2024-07-01 00:00:00.000",
          "2024-08-01 00:00:00.000",
          "2024-08-01 00:00:00.000",
          "2024-08-01 00:00:00.000",
          "2024-08-01 00:00:00.000",
          "2024-08-01 00:00:00.000",
          "2024-08-01 00:00:00.000",
          "2024-09-01 00:00:00.000",
          "2024-09-01 00:00:00.000",
          "2024-09-01 00:00:00.000",
          "2024-09-01 00:00:00.000",
          "2024-09-01 00:00:00.000",
          "2024-10-01 00:00:00.000",
          "2024-10-01 00:00:00.000",
          "2024-10-01 00:00:00.000",
          "2024-10-01 00:00:00.000",
          "2024-11-01 00:00:00.000",
          "2024-11-01 00:00:00.000",
          "2024-11-01 00:00:00.000",
          "2024-12-01 00:00:00.000",
          "2024-12-01 00:00:00.000",
          "2025-01-01 00:00:00.000"
         ],
         "z": {
          "bdata": "H4XrUbge1T8K16NwPQrHP6RwPQrXo8A/mpmZmZmZuT/sUbgeheuxP7gehetRuK4/7FG4HoXrsT+4HoXrUbiuPwrXo3A9Crc/exSuR+F6tD+4HoXrUbiuP8P1KFyPwsU/KVyPwvUovD97FK5H4Xq0P5qZmZmZmak/exSuR+F6pD+amZmZmZmpP5qZmZmZmak/uB6F61G4rj+4HoXrUbiuP5qZmZmZmak/MzMzMzMzwz+amZmZmZm5P7gehetRuK4/mpmZmZmZqT+4HoXrUbiuP5qZmZmZmak/uB6F61G4rj+4HoXrUbiuP5qZmZmZmak/uB6F61G4vj/sUbgeheuxP5qZmZmZmak/uB6F61G4rj+amZmZmZmpP+xRuB6F67E/uB6F61G4rj+amZmZmZmpP5qZmZmZmbk/uB6F61G4rj/sUbgeheuxP7gehetRuK4/7FG4HoXrsT+4HoXrUbiuP7gehetRuK4/mpmZmZmZuT97FK5H4Xq0P+xRuB6F67E/7FG4HoXrsT+4HoXrUbiuP5qZmZmZmak/pHA9CtejwD8K16NwPQq3P5qZmZmZmbk/exSuR+F6tD/sUbgeheuxP8P1KFyPwsU/7FG4HoXrwT+4HoXrUbi+PwrXo3A9Crc/w/UoXI/CxT8pXI/C9Si8P+xRuB6F67E/exSuR+F6xD8K16NwPQq3P7gehetRuL4/",
          "dtype": "f8"
         }
        }
       ],
       "layout": {
        "font": {
         "color": "black",
         "size": 16
        },
        "height": 400,
        "margin": {
         "t": 100
        },
        "paper_bgcolor": "rgba(0,0,0,0)",
        "plot_bgcolor": "rgba(0,0,0,0)",
        "template": {
         "data": {
          "bar": [
           {
            "error_x": {
             "color": "#2a3f5f"
            },
            "error_y": {
             "color": "#2a3f5f"
            },
            "marker": {
             "line": {
              "color": "#E5ECF6",
              "width": 0.5
             },
             "pattern": {
              "fillmode": "overlay",
              "size": 10,
              "solidity": 0.2
             }
            },
            "type": "bar"
           }
          ],
          "barpolar": [
           {
            "marker": {
             "line": {
              "color": "#E5ECF6",
              "width": 0.5
             },
             "pattern": {
              "fillmode": "overlay",
              "size": 10,
              "solidity": 0.2
             }
            },
            "type": "barpolar"
           }
          ],
          "carpet": [
           {
            "aaxis": {
             "endlinecolor": "#2a3f5f",
             "gridcolor": "white",
             "linecolor": "white",
             "minorgridcolor": "white",
             "startlinecolor": "#2a3f5f"
            },
            "baxis": {
             "endlinecolor": "#2a3f5f",
             "gridcolor": "white",
             "linecolor": "white",
             "minorgridcolor": "white",
             "startlinecolor": "#2a3f5f"
            },
            "type": "carpet"
           }
          ],
          "choropleth": [
           {
            "colorbar": {
             "outlinewidth": 0,
             "ticks": ""
            },
            "type": "choropleth"
           }
          ],
          "contour": [
           {
            "colorbar": {
             "outlinewidth": 0,
             "ticks": ""
            },
            "colorscale": [
             [
              0,
              "#0d0887"
             ],
             [
              0.1111111111111111,
              "#46039f"
             ],
             [
              0.2222222222222222,
              "#7201a8"
             ],
             [
              0.3333333333333333,
              "#9c179e"
             ],
             [
              0.4444444444444444,
              "#bd3786"
             ],
             [
              0.5555555555555556,
              "#d8576b"
             ],
             [
              0.6666666666666666,
              "#ed7953"
             ],
             [
              0.7777777777777778,
              "#fb9f3a"
             ],
             [
              0.8888888888888888,
              "#fdca26"
             ],
             [
              1,
              "#f0f921"
             ]
            ],
            "type": "contour"
           }
          ],
          "contourcarpet": [
           {
            "colorbar": {
             "outlinewidth": 0,
             "ticks": ""
            },
            "type": "contourcarpet"
           }
          ],
          "heatmap": [
           {
            "colorbar": {
             "outlinewidth": 0,
             "ticks": ""
            },
            "colorscale": [
             [
              0,
              "#0d0887"
             ],
             [
              0.1111111111111111,
              "#46039f"
             ],
             [
              0.2222222222222222,
              "#7201a8"
             ],
             [
              0.3333333333333333,
              "#9c179e"
             ],
             [
              0.4444444444444444,
              "#bd3786"
             ],
             [
              0.5555555555555556,
              "#d8576b"
             ],
             [
              0.6666666666666666,
              "#ed7953"
             ],
             [
              0.7777777777777778,
              "#fb9f3a"
             ],
             [
              0.8888888888888888,
              "#fdca26"
             ],
             [
              1,
              "#f0f921"
             ]
            ],
            "type": "heatmap"
           }
          ],
          "histogram": [
           {
            "marker": {
             "pattern": {
              "fillmode": "overlay",
              "size": 10,
              "solidity": 0.2
             }
            },
            "type": "histogram"
           }
          ],
          "histogram2d": [
           {
            "colorbar": {
             "outlinewidth": 0,
             "ticks": ""
            },
            "colorscale": [
             [
              0,
              "#0d0887"
             ],
             [
              0.1111111111111111,
              "#46039f"
             ],
             [
              0.2222222222222222,
              "#7201a8"
             ],
             [
              0.3333333333333333,
              "#9c179e"
             ],
             [
              0.4444444444444444,
              "#bd3786"
             ],
             [
              0.5555555555555556,
              "#d8576b"
             ],
             [
              0.6666666666666666,
              "#ed7953"
             ],
             [
              0.7777777777777778,
              "#fb9f3a"
             ],
             [
              0.8888888888888888,
              "#fdca26"
             ],
             [
              1,
              "#f0f921"
             ]
            ],
            "type": "histogram2d"
           }
          ],
          "histogram2dcontour": [
           {
            "colorbar": {
             "outlinewidth": 0,
             "ticks": ""
            },
            "colorscale": [
             [
              0,
              "#0d0887"
             ],
             [
              0.1111111111111111,
              "#46039f"
             ],
             [
              0.2222222222222222,
              "#7201a8"
             ],
             [
              0.3333333333333333,
              "#9c179e"
             ],
             [
              0.4444444444444444,
              "#bd3786"
             ],
             [
              0.5555555555555556,
              "#d8576b"
             ],
             [
              0.6666666666666666,
              "#ed7953"
             ],
             [
              0.7777777777777778,
              "#fb9f3a"
             ],
             [
              0.8888888888888888,
              "#fdca26"
             ],
             [
              1,
              "#f0f921"
             ]
            ],
            "type": "histogram2dcontour"
           }
          ],
          "mesh3d": [
           {
            "colorbar": {
             "outlinewidth": 0,
             "ticks": ""
            },
            "type": "mesh3d"
           }
          ],
          "parcoords": [
           {
            "line": {
             "colorbar": {
              "outlinewidth": 0,
              "ticks": ""
             }
            },
            "type": "parcoords"
           }
          ],
          "pie": [
           {
            "automargin": true,
            "type": "pie"
           }
          ],
          "scatter": [
           {
            "fillpattern": {
             "fillmode": "overlay",
             "size": 10,
             "solidity": 0.2
            },
            "type": "scatter"
           }
          ],
          "scatter3d": [
           {
            "line": {
             "colorbar": {
              "outlinewidth": 0,
              "ticks": ""
             }
            },
            "marker": {
             "colorbar": {
              "outlinewidth": 0,
              "ticks": ""
             }
            },
            "type": "scatter3d"
           }
          ],
          "scattercarpet": [
           {
            "marker": {
             "colorbar": {
              "outlinewidth": 0,
              "ticks": ""
             }
            },
            "type": "scattercarpet"
           }
          ],
          "scattergeo": [
           {
            "marker": {
             "colorbar": {
              "outlinewidth": 0,
              "ticks": ""
             }
            },
            "type": "scattergeo"
           }
          ],
          "scattergl": [
           {
            "marker": {
             "colorbar": {
              "outlinewidth": 0,
              "ticks": ""
             }
            },
            "type": "scattergl"
           }
          ],
          "scattermap": [
           {
            "marker": {
             "colorbar": {
              "outlinewidth": 0,
              "ticks": ""
             }
            },
            "type": "scattermap"
           }
          ],
          "scattermapbox": [
           {
            "marker": {
             "colorbar": {
              "outlinewidth": 0,
              "ticks": ""
             }
            },
            "type": "scattermapbox"
           }
          ],
          "scatterpolar": [
           {
            "marker": {
             "colorbar": {
              "outlinewidth": 0,
              "ticks": ""
             }
            },
            "type": "scatterpolar"
           }
          ],
          "scatterpolargl": [
           {
            "marker": {
             "colorbar": {
              "outlinewidth": 0,
              "ticks": ""
             }
            },
            "type": "scatterpolargl"
           }
          ],
          "scatterternary": [
           {
            "marker": {
             "colorbar": {
              "outlinewidth": 0,
              "ticks": ""
             }
            },
            "type": "scatterternary"
           }
          ],
          "surface": [
           {
            "colorbar": {
             "outlinewidth": 0,
             "ticks": ""
            },
            "colorscale": [
             [
              0,
              "#0d0887"
             ],
             [
              0.1111111111111111,
              "#46039f"
             ],
             [
              0.2222222222222222,
              "#7201a8"
             ],
             [
              0.3333333333333333,
              "#9c179e"
             ],
             [
              0.4444444444444444,
              "#bd3786"
             ],
             [
              0.5555555555555556,
              "#d8576b"
             ],
             [
              0.6666666666666666,
              "#ed7953"
             ],
             [
              0.7777777777777778,
              "#fb9f3a"
             ],
             [
              0.8888888888888888,
              "#fdca26"
             ],
             [
              1,
              "#f0f921"
             ]
            ],
            "type": "surface"
           }
          ],
          "table": [
           {
            "cells": {
             "fill": {
              "color": "#EBF0F8"
             },
             "line": {
              "color": "white"
             }
            },
            "header": {
             "fill": {
              "color": "#C8D4E3"
             },
             "line": {
              "color": "white"
             }
            },
            "type": "table"
           }
          ]
         },
         "layout": {
          "annotationdefaults": {
           "arrowcolor": "#2a3f5f",
           "arrowhead": 0,
           "arrowwidth": 1
          },
          "autotypenumbers": "strict",
          "coloraxis": {
           "colorbar": {
            "outlinewidth": 0,
            "ticks": ""
           }
          },
          "colorscale": {
           "diverging": [
            [
             0,
             "#8e0152"
            ],
            [
             0.1,
             "#c51b7d"
            ],
            [
             0.2,
             "#de77ae"
            ],
            [
             0.3,
             "#f1b6da"
            ],
            [
             0.4,
             "#fde0ef"
            ],
            [
             0.5,
             "#f7f7f7"
            ],
            [
             0.6,
             "#e6f5d0"
            ],
            [
             0.7,
             "#b8e186"
            ],
            [
             0.8,
             "#7fbc41"
            ],
            [
             0.9,
             "#4d9221"
            ],
            [
             1,
             "#276419"
            ]
           ],
           "sequential": [
            [
             0,
             "#0d0887"
            ],
            [
             0.1111111111111111,
             "#46039f"
            ],
            [
             0.2222222222222222,
             "#7201a8"
            ],
            [
             0.3333333333333333,
             "#9c179e"
            ],
            [
             0.4444444444444444,
             "#bd3786"
            ],
            [
             0.5555555555555556,
             "#d8576b"
            ],
            [
             0.6666666666666666,
             "#ed7953"
            ],
            [
             0.7777777777777778,
             "#fb9f3a"
            ],
            [
             0.8888888888888888,
             "#fdca26"
            ],
            [
             1,
             "#f0f921"
            ]
           ],
           "sequentialminus": [
            [
             0,
             "#0d0887"
            ],
            [
             0.1111111111111111,
             "#46039f"
            ],
            [
             0.2222222222222222,
             "#7201a8"
            ],
            [
             0.3333333333333333,
             "#9c179e"
            ],
            [
             0.4444444444444444,
             "#bd3786"
            ],
            [
             0.5555555555555556,
             "#d8576b"
            ],
            [
             0.6666666666666666,
             "#ed7953"
            ],
            [
             0.7777777777777778,
             "#fb9f3a"
            ],
            [
             0.8888888888888888,
             "#fdca26"
            ],
            [
             1,
             "#f0f921"
            ]
           ]
          },
          "colorway": [
           "#636efa",
           "#EF553B",
           "#00cc96",
           "#ab63fa",
           "#FFA15A",
           "#19d3f3",
           "#FF6692",
           "#B6E880",
           "#FF97FF",
           "#FECB52"
          ],
          "font": {
           "color": "#2a3f5f"
          },
          "geo": {
           "bgcolor": "white",
           "lakecolor": "white",
           "landcolor": "#E5ECF6",
           "showlakes": true,
           "showland": true,
           "subunitcolor": "white"
          },
          "hoverlabel": {
           "align": "left"
          },
          "hovermode": "closest",
          "mapbox": {
           "style": "light"
          },
          "paper_bgcolor": "white",
          "plot_bgcolor": "#E5ECF6",
          "polar": {
           "angularaxis": {
            "gridcolor": "white",
            "linecolor": "white",
            "ticks": ""
           },
           "bgcolor": "#E5ECF6",
           "radialaxis": {
            "gridcolor": "white",
            "linecolor": "white",
            "ticks": ""
           }
          },
          "scene": {
           "xaxis": {
            "backgroundcolor": "#E5ECF6",
            "gridcolor": "white",
            "gridwidth": 2,
            "linecolor": "white",
            "showbackground": true,
            "ticks": "",
            "zerolinecolor": "white"
           },
           "yaxis": {
            "backgroundcolor": "#E5ECF6",
            "gridcolor": "white",
            "gridwidth": 2,
            "linecolor": "white",
            "showbackground": true,
            "ticks": "",
            "zerolinecolor": "white"
           },
           "zaxis": {
            "backgroundcolor": "#E5ECF6",
            "gridcolor": "white",
            "gridwidth": 2,
            "linecolor": "white",
            "showbackground": true,
            "ticks": "",
            "zerolinecolor": "white"
           }
          },
          "shapedefaults": {
           "line": {
            "color": "#2a3f5f"
           }
          },
          "ternary": {
           "aaxis": {
            "gridcolor": "white",
            "linecolor": "white",
            "ticks": ""
           },
           "baxis": {
            "gridcolor": "white",
            "linecolor": "white",
            "ticks": ""
           },
           "bgcolor": "#E5ECF6",
           "caxis": {
            "gridcolor": "white",
            "linecolor": "white",
            "ticks": ""
           }
          },
          "title": {
           "x": 0.05
          },
          "xaxis": {
           "automargin": true,
           "gridcolor": "white",
           "linecolor": "white",
           "ticks": "",
           "title": {
            "standoff": 15
           },
           "zerolinecolor": "white",
           "zerolinewidth": 2
          },
          "yaxis": {
           "automargin": true,
           "gridcolor": "white",
           "linecolor": "white",
           "ticks": "",
           "title": {
            "standoff": 15
           },
           "zerolinecolor": "white",
           "zerolinewidth": 2
          }
         }
        },
        "title": {
         "font": {
          "color": "black",
          "family": "Cardo",
          "size": 27
         },
         "text": "<span style='color: black; font-weight: normal;'>Stargate User Retention Over Time</span><br><sub style='font-size: 18px; color: black; font-weight: normal;'>Though 2025-01-01 00:00:00.000</sub>",
         "x": 0.1,
         "xanchor": "left",
         "y": 0.9,
         "yanchor": "top"
        },
        "width": 730,
        "xaxis": {
         "ticksuffix": "%",
         "title": {
          "text": "Difference"
         }
        },
        "yaxis": {
         "title": {
          "text": "Earliest Date"
         }
        }
       }
      }
     },
     "metadata": {},
     "output_type": "display_data"
    }
   ],
   "source": [
    "cm = ChartMaker(shuffle_colors=True)\n",
    "cm.build(\n",
    "    df = test_df3,\n",
    "    axes_data={'x': 'DIFFERENCE', 'y1': ['EARLIEST_DATE']},\n",
    "    num_col='RETENTION_RATE',\n",
    "    title='Stargate User Retention Over Time',\n",
    "    chart_type='heatmap',\n",
    "    options = {\n",
    "        'margin':dict(t=100),\n",
    "        'ticksuffix':{'y1':'%'},\n",
    "        'show_legend':True,'legend_placement':{'x':1.1,'y':1},\n",
    "    }\n",
    ")\n",
    "cm.add_title(\n",
    "    subtitle=f\"Though {test_df3['EARLIEST_DATE'].max()}\",\n",
    "    x=0.1,\n",
    "    y=0.9\n",
    ")\n",
    "cm.show_fig()"
   ]
  },
  {
   "cell_type": "code",
   "execution_count": null,
   "id": "d1e2ec9e",
   "metadata": {},
   "outputs": [],
   "source": []
  }
 ],
 "metadata": {
  "kernelspec": {
   "display_name": "test_env",
   "language": "python",
   "name": "python3"
  },
  "language_info": {
   "codemirror_mode": {
    "name": "ipython",
    "version": 3
   },
   "file_extension": ".py",
   "mimetype": "text/x-python",
   "name": "python",
   "nbconvert_exporter": "python",
   "pygments_lexer": "ipython3",
   "version": "3.11.9"
  }
 },
 "nbformat": 4,
 "nbformat_minor": 5
}
