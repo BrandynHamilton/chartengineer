{
 "cells": [
  {
   "cell_type": "markdown",
   "id": "07a8d03b",
   "metadata": {},
   "source": [
    "# Imports"
   ]
  },
  {
   "cell_type": "code",
   "execution_count": null,
   "id": "3f519d12",
   "metadata": {},
   "outputs": [],
   "source": [
    "import pandas as pd\n",
    "from dfcleaner import DFCleaner  # Makes data cleaning easier/quicker\n",
    "from chartengineer import ChartMaker\n",
    "import os"
   ]
  },
  {
   "cell_type": "code",
   "execution_count": null,
   "id": "de4f4ca5",
   "metadata": {},
   "outputs": [],
   "source": [
    "test_cleaner = DFCleaner()"
   ]
  },
  {
   "cell_type": "markdown",
   "id": "83ab0a8d",
   "metadata": {},
   "source": [
    "# Line"
   ]
  },
  {
   "cell_type": "code",
   "execution_count": null,
   "id": "a016df75",
   "metadata": {},
   "outputs": [],
   "source": [
    "test_df1 = test_cleaner.to_df(r'data/$RAY_Buyback_2024_09_25.csv')\n",
    "test_df1, time_freq =  test_cleaner.to_time(test_df1)\n",
    "test_df1"
   ]
  },
  {
   "cell_type": "code",
   "execution_count": null,
   "id": "0f082d0b",
   "metadata": {},
   "outputs": [],
   "source": [
    "cm = ChartMaker(shuffle_colors=True)\n",
    "cm.build(\n",
    "    df = test_df1,\n",
    "    axes_data=dict(y1=['cumulative_usdc_spent']),\n",
    "    title='$USDC Spent Over Time_Line',\n",
    "    chart_type={'y1':'line'},\n",
    "    options = {'margin':dict(t=100),'annotations':True,\n",
    "                'tickprefix':{'y1':'$'},'auto_title':False,\n",
    "                'show_legend':True,'legend_placement':{'x':0.01,'y':1.05}},\n",
    ")\n",
    "cm.add_title(\n",
    "    title='$USDC Spent Over Time',\n",
    "    subtitle=f'Daily through {test_df1.index.max()}',\n",
    "    x=0.5,\n",
    "    y=0.9\n",
    ")\n",
    "cm.add_annotations()\n",
    "cm.show_fig()\n",
    "cm.save_fig(save_directory='img')"
   ]
  },
  {
   "cell_type": "markdown",
   "id": "d0af21c7",
   "metadata": {},
   "source": [
    "# Area"
   ]
  },
  {
   "cell_type": "code",
   "execution_count": null,
   "id": "e449cbac",
   "metadata": {},
   "outputs": [],
   "source": [
    "cm = ChartMaker(shuffle_colors=True)\n",
    "cm.build(\n",
    "    df = test_df1,\n",
    "    axes_data=dict(y1=['cumulative_usdc_spent']),\n",
    "    title='$USDC Spent Over Time_Area',\n",
    "    chart_type={'y1':'area'},\n",
    "    options = {'margin':dict(t=100),'annotations':True,\n",
    "                'tickprefix':{'y1':'$'},'auto_title':False,'dashed_line_factor':1.5,\n",
    "                'show_legend':False,'legend_placement':{'x':0.01,'y':1.05}},\n",
    ")\n",
    "cm.add_title(\n",
    "    title='$USDC Spent Over Time',\n",
    "    subtitle=f'Daily through {test_df1.index.max()}',\n",
    "    x=0.5,\n",
    "    y=0.9\n",
    ")\n",
    "cm.add_annotations()\n",
    "cm.add_dashed_line(date='2024-01-01',annotation_text='Test Text')\n",
    "cm.show_fig()\n",
    "cm.save_fig(save_directory='img')"
   ]
  },
  {
   "cell_type": "code",
   "execution_count": null,
   "id": "8c794ac3",
   "metadata": {},
   "outputs": [],
   "source": [
    "cm = ChartMaker(shuffle_colors=True)\n",
    "cm.build(\n",
    "    df = test_df1,\n",
    "    axes_data=dict(y1=['cumulative_ray_bought']),\n",
    "    title='$RAY Buybacks Over Time_Area_Horizontal',\n",
    "    chart_type={'y1':'area'},\n",
    "    options = {'margin':dict(t=100),'annotations':True,'orientation':'h',\n",
    "                'auto_title':False,'dashed_line_factor':1.5,\"dimensions\": {\"width\": 600, \"height\": 800},\n",
    "                'show_legend':False,'legend_placement':{'x':0.1,'y':1.05}}          \n",
    "    )\n",
    "cm.add_title(\n",
    "    title='$RAY Buybacks Over Time',\n",
    "    subtitle=f'Daily through {test_df1.index.max()}',\n",
    "    x=0.2,\n",
    "    y=0.9\n",
    ")\n",
    "cm.add_annotations(custom_annotations={pd.to_datetime('2024-01-01'):'Test Text'})\n",
    "cm.show_fig()\n",
    "cm.save_fig(save_directory='img')"
   ]
  },
  {
   "cell_type": "markdown",
   "id": "767826f5",
   "metadata": {},
   "source": [
    "# Bar"
   ]
  },
  {
   "cell_type": "code",
   "execution_count": null,
   "id": "2b3aaa1f",
   "metadata": {},
   "outputs": [],
   "source": [
    "rlusd_addresses_data = pd.read_csv('data/rlusd_active_addresses.csv')\n",
    "rlusd_addresses_data, freq = test_cleaner.to_time(rlusd_addresses_data)\n",
    "rlusd_addresses_data = test_cleaner.clean_dates(rlusd_addresses_data,freq)"
   ]
  },
  {
   "cell_type": "code",
   "execution_count": null,
   "id": "ffbec0dd",
   "metadata": {},
   "outputs": [],
   "source": [
    "cm = ChartMaker(shuffle_colors=True)\n",
    "cm.build(\n",
    "    df = rlusd_addresses_data,\n",
    "    axes_data=dict(y1=['active_addresses']),\n",
    "    title='$RLUSD Ethereum Active Addresses<br>Over Time',\n",
    "    chart_type={'y1':'bar'},\n",
    "    options = {\n",
    "        'margin':dict(t=125),\n",
    "        'annotations':False,\n",
    "        'show_text':True,\n",
    "        'textposition':'outside',\n",
    "        'tickformat': dict(x='%b<br>`%y'),\n",
    "        'decimals': False\n",
    "    },\n",
    ")\n",
    "cm.add_title(\n",
    "    subtitle=f'Monthly through {rlusd_addresses_data.index.max()}',\n",
    "    x=0.2,\n",
    "    y=0.9\n",
    ")\n",
    "cm.add_annotations()\n",
    "cm.show_fig()"
   ]
  },
  {
   "cell_type": "code",
   "execution_count": null,
   "id": "f867e2f0",
   "metadata": {},
   "outputs": [],
   "source": [
    "crosschain_dex_stats = pd.read_csv('data/dex_stats.csv').dropna()\n",
    "crosschain_dex_stats,freq = test_cleaner.to_time(crosschain_dex_stats)\n",
    "crosschain_dex_stats = test_cleaner.clean_dates(crosschain_dex_stats,freq)\n",
    "crosschain_dex_stats = crosschain_dex_stats[~crosschain_dex_stats['BLOCKCHAIN'].isin(['osmosis','solana'])]"
   ]
  },
  {
   "cell_type": "code",
   "execution_count": null,
   "id": "37e83100",
   "metadata": {},
   "outputs": [],
   "source": [
    "cm = ChartMaker(shuffle_colors=True)\n",
    "cm.build(\n",
    "    df = crosschain_dex_stats,\n",
    "    groupby_col='BLOCKCHAIN',\n",
    "    num_col='VOLUME',\n",
    "    title='DEX Volume by Blockchain',\n",
    "    chart_type={'y1':'bar'},\n",
    "    options = {\n",
    "        'margin':dict(t=125),\n",
    "        'annotations':False,\n",
    "        'tickformat': dict(x='%b<br>%y'),\n",
    "        'tickprefix':{'y1':'$'},\n",
    "        'decimals': True,\n",
    "        'barmode':'relative',\n",
    "        'legend_placement':dict(x=0.1,y=0.95),\n",
    "        \"dimensions\": dict(width=1000, height=600),\n",
    "        'axes_titles':{'y1':'DEX Volume'}\n",
    "    },\n",
    ")\n",
    "cm.add_title(\n",
    "    subtitle=f'Daily through {crosschain_dex_stats.index.max()}',\n",
    "    x=0.2,\n",
    "    y=0.9\n",
    ")\n",
    "# cm.add_annotations()\n",
    "cm.show_fig()"
   ]
  },
  {
   "cell_type": "code",
   "execution_count": null,
   "id": "64d67743",
   "metadata": {},
   "outputs": [],
   "source": [
    "test_dfbar = test_cleaner.to_df(r'data/flows_by_chain.csv')\n",
    "test_dfbar, time_freq =  test_cleaner.to_time(test_dfbar)\n",
    "test_dfbar"
   ]
  },
  {
   "cell_type": "code",
   "execution_count": null,
   "id": "f1183d67",
   "metadata": {},
   "outputs": [],
   "source": [
    "cm = ChartMaker(shuffle_colors=True)\n",
    "cm.build(\n",
    "    df=test_dfbar,\n",
    "    groupby_col='chain', \n",
    "    num_col='netflows - YTD',\n",
    "    title='YTD Bridge Flows by Chain',\n",
    "    chart_type='bar',\n",
    "    options={\n",
    "        'margin': dict(t=100),\n",
    "        'annotations': True,\n",
    "        'tickprefix': {'y1': '$'},\n",
    "        'orientation': 'h',\n",
    "        'barmode':'relative',\n",
    "        'auto_title': True,\n",
    "        'show_legend': False,\n",
    "        'show_text':True,\n",
    "        'font_size':{'axes': 18},\n",
    "        'textposition':'outside',\n",
    "        'legend_placement': {'x': 1.1, 'y': 1}\n",
    "    }\n",
    ")\n",
    "cm.add_title(\n",
    "    x=0.1,\n",
    "    y=0.9\n",
    ")\n",
    "\n",
    "cm.show_fig()"
   ]
  },
  {
   "cell_type": "markdown",
   "id": "409595c6",
   "metadata": {},
   "source": [
    "# Line and Bar"
   ]
  },
  {
   "cell_type": "code",
   "execution_count": null,
   "id": "76d038ee",
   "metadata": {},
   "outputs": [],
   "source": [
    "cm = ChartMaker(shuffle_colors=True)\n",
    "cm.build(\n",
    "    df = test_df1,\n",
    "    axes_data=dict(y1=['cumulative_ray_bought'],\n",
    "                    y2=['cumulative_usdc_spent']),\n",
    "    title='$RAY Buybacks Over Time',\n",
    "    chart_type={'y1':'bar','y2':'line'},\n",
    "    options = {'margin':dict(t=100),'annotations':True,\n",
    "                'tickprefix':{'y2':'$'},'auto_title':True,\n",
    "                'show_legend':True,'legend_placement':{'x':1.15,'y':1}},\n",
    ")\n",
    "cm.add_title(\n",
    "    title='$RAY Buybacks Over Time',\n",
    "    subtitle=f'Daily through {test_df1.index.max()}',\n",
    "    x=0.1,\n",
    "    y=0.9\n",
    ")\n",
    "cm.add_annotations()\n",
    "cm.show_fig()\n",
    "cm.save_fig(save_directory='img')"
   ]
  },
  {
   "cell_type": "code",
   "execution_count": null,
   "id": "c2704570",
   "metadata": {},
   "outputs": [],
   "source": [
    "cm = ChartMaker(shuffle_colors=True)\n",
    "cm.build(\n",
    "    df = test_df1,\n",
    "    axes_data=dict(y1=['cumulative_ray_bought'],\n",
    "                    y2=['cumulative_usdc_spent']),\n",
    "    title='$RAY Buybacks Over Time_Horizontal',\n",
    "    chart_type={'y1':'bar','y2':'line'},\n",
    "    options = {'margin':dict(t=100),'annotations':True,'orientation':'h',\n",
    "                'tickprefix':{'y2':'$'},'auto_title':True,\n",
    "                'show_legend':True,'legend_placement':{'x':1.15,'y':1}},\n",
    ")\n",
    "cm.add_title(\n",
    "    title='$RAY Buybacks Over Time',\n",
    "    subtitle=f'Daily through {test_df1.index.max()}',\n",
    "    x=0.1,\n",
    "    y=0.9\n",
    ")\n",
    "cm.add_annotations()\n",
    "cm.show_fig()\n",
    "cm.save_fig(save_directory='img')"
   ]
  },
  {
   "cell_type": "markdown",
   "id": "8e0000a3",
   "metadata": {},
   "source": [
    "# Pie"
   ]
  },
  {
   "cell_type": "code",
   "execution_count": null,
   "id": "b5800ced",
   "metadata": {},
   "outputs": [],
   "source": [
    "test_df2 = test_cleaner.to_df(r'data/stargate_1.csv')\n",
    "test_df2, time_freq =  test_cleaner.to_time(test_df2)\n",
    "test_df2.dropna(inplace=True)\n",
    "test_df2"
   ]
  },
  {
   "cell_type": "code",
   "execution_count": null,
   "id": "7f06d616",
   "metadata": {},
   "outputs": [],
   "source": [
    "cm = ChartMaker(shuffle_colors=True)\n",
    "cm.build(\n",
    "    df = test_df2,\n",
    "    # axes_data = {'x':'CHAIN','y1':['TOTAL_VOLUME_BRIDGED']},\n",
    "    groupby_col='CHAIN',\n",
    "    num_col='TOTAL_VOLUME_BRIDGED',\n",
    "    title='Stargate Bridge Vol by Chain',\n",
    "    chart_type='pie',\n",
    "    options = {\n",
    "        'margin':dict(t=100),'annotations':True,\n",
    "        'tickprefix':{'y1':'$'},'hole_size':0.5,\n",
    "        'line_width':0,\n",
    "        'texttemplate':'%{label}<br>%{percent}',\n",
    "        'show_legend':False,'legend_placement':{'x':1.1,'y':1},\n",
    "        'textinfo':'percent+label'\n",
    "    }\n",
    ")\n",
    "cm.add_title(\n",
    "    subtitle=f'Volume through 2025-04-01',\n",
    "    x=0.1,\n",
    "    y=0.9\n",
    ")\n",
    "cm.show_fig()"
   ]
  },
  {
   "cell_type": "markdown",
   "id": "e7a5d0dc",
   "metadata": {},
   "source": [
    "# Heatmap"
   ]
  },
  {
   "cell_type": "code",
   "execution_count": null,
   "id": "d2aabae2",
   "metadata": {},
   "outputs": [],
   "source": [
    "test_df3 = test_cleaner.to_df(r'data/stargate_2.csv')\n",
    "test_df3, time_freq =  test_cleaner.to_time(test_df3)\n",
    "test_df3 = test_df3.dropna()\n",
    "test_df3"
   ]
  },
  {
   "cell_type": "code",
   "execution_count": null,
   "id": "7db8cc1b",
   "metadata": {},
   "outputs": [],
   "source": [
    "cm = ChartMaker(shuffle_colors=True)\n",
    "cm.build(\n",
    "    df = test_df3,\n",
    "    axes_data={'x': 'DIFFERENCE', 'y1': ['EARLIEST_DATE']},\n",
    "    num_col='RETENTION_RATE',\n",
    "    title='Stargate User Retention Over Time',\n",
    "    chart_type='heatmap',\n",
    "    options = {\n",
    "        'margin':dict(t=100),\n",
    "        'ticksuffix':{'y1':'%'},\n",
    "        'show_legend':True,'legend_placement':{'x':1.1,'y':1},\n",
    "    }\n",
    ")\n",
    "cm.add_title(\n",
    "    subtitle=f\"Though {test_df3['EARLIEST_DATE'].max()}\",\n",
    "    x=0.1,\n",
    "    y=0.9\n",
    ")\n",
    "cm.show_fig()"
   ]
  }
 ],
 "metadata": {
  "kernelspec": {
   "display_name": "rando_env",
   "language": "python",
   "name": "rando_env"
  },
  "language_info": {
   "codemirror_mode": {
    "name": "ipython",
    "version": 3
   },
   "file_extension": ".py",
   "mimetype": "text/x-python",
   "name": "python",
   "nbconvert_exporter": "python",
   "pygments_lexer": "ipython3",
   "version": "3.12.4"
  }
 },
 "nbformat": 4,
 "nbformat_minor": 5
}
