{
 "cells": [
  {
   "cell_type": "code",
   "execution_count": 1,
   "id": "3f519d12",
   "metadata": {},
   "outputs": [],
   "source": [
    "import pandas as pd\n",
    "from dfcleaner import DFCleaner\n",
    "from chartengineer import ChartMaker\n",
    "import os"
   ]
  },
  {
   "cell_type": "code",
   "execution_count": 3,
   "id": "1d6132e6",
   "metadata": {},
   "outputs": [
    {
     "data": {
      "text/plain": [
       "'c:\\\\Users\\\\Brandyn\\\\projects\\\\chartengineer\\\\tests'"
      ]
     },
     "execution_count": 3,
     "metadata": {},
     "output_type": "execute_result"
    }
   ],
   "source": [
    "os.getcwd()"
   ]
  },
  {
   "cell_type": "code",
   "execution_count": 4,
   "id": "de4f4ca5",
   "metadata": {},
   "outputs": [],
   "source": [
    "test_cleaner = DFCleaner()"
   ]
  },
  {
   "cell_type": "markdown",
   "id": "83ab0a8d",
   "metadata": {},
   "source": [
    "# Line, Bar, Line and Bar"
   ]
  },
  {
   "cell_type": "code",
   "execution_count": 5,
   "id": "a016df75",
   "metadata": {},
   "outputs": [
    {
     "data": {
      "text/html": [
       "<div>\n",
       "<style scoped>\n",
       "    .dataframe tbody tr th:only-of-type {\n",
       "        vertical-align: middle;\n",
       "    }\n",
       "\n",
       "    .dataframe tbody tr th {\n",
       "        vertical-align: top;\n",
       "    }\n",
       "\n",
       "    .dataframe thead th {\n",
       "        text-align: right;\n",
       "    }\n",
       "</style>\n",
       "<table border=\"1\" class=\"dataframe\">\n",
       "  <thead>\n",
       "    <tr style=\"text-align: right;\">\n",
       "      <th></th>\n",
       "      <th>ray_bought</th>\n",
       "      <th>cumulative_ray_bought</th>\n",
       "      <th>usdc_amount</th>\n",
       "      <th>cumulative_usdc_spent</th>\n",
       "    </tr>\n",
       "    <tr>\n",
       "      <th>block_date</th>\n",
       "      <th></th>\n",
       "      <th></th>\n",
       "      <th></th>\n",
       "      <th></th>\n",
       "    </tr>\n",
       "  </thead>\n",
       "  <tbody>\n",
       "    <tr>\n",
       "      <th>2024-09-23</th>\n",
       "      <td>4.658846e+04</td>\n",
       "      <td>3.460436e+07</td>\n",
       "      <td>7.131984e+04</td>\n",
       "      <td>4.478479e+07</td>\n",
       "    </tr>\n",
       "    <tr>\n",
       "      <th>2024-09-16</th>\n",
       "      <td>2.940036e+05</td>\n",
       "      <td>3.455777e+07</td>\n",
       "      <td>4.459475e+05</td>\n",
       "      <td>4.471347e+07</td>\n",
       "    </tr>\n",
       "    <tr>\n",
       "      <th>2024-09-09</th>\n",
       "      <td>2.598019e+05</td>\n",
       "      <td>3.426377e+07</td>\n",
       "      <td>3.821256e+05</td>\n",
       "      <td>4.426752e+07</td>\n",
       "    </tr>\n",
       "    <tr>\n",
       "      <th>2024-09-02</th>\n",
       "      <td>2.512750e+05</td>\n",
       "      <td>3.400397e+07</td>\n",
       "      <td>3.667050e+05</td>\n",
       "      <td>4.388540e+07</td>\n",
       "    </tr>\n",
       "    <tr>\n",
       "      <th>2024-08-26</th>\n",
       "      <td>3.166041e+05</td>\n",
       "      <td>3.375269e+07</td>\n",
       "      <td>5.184075e+05</td>\n",
       "      <td>4.351869e+07</td>\n",
       "    </tr>\n",
       "    <tr>\n",
       "      <th>...</th>\n",
       "      <td>...</td>\n",
       "      <td>...</td>\n",
       "      <td>...</td>\n",
       "      <td>...</td>\n",
       "    </tr>\n",
       "    <tr>\n",
       "      <th>2022-05-23</th>\n",
       "      <td>1.275352e+06</td>\n",
       "      <td>2.564530e+06</td>\n",
       "      <td>1.212400e+06</td>\n",
       "      <td>3.320540e+06</td>\n",
       "    </tr>\n",
       "    <tr>\n",
       "      <th>2022-05-16</th>\n",
       "      <td>4.668794e+05</td>\n",
       "      <td>1.289177e+06</td>\n",
       "      <td>5.917632e+05</td>\n",
       "      <td>2.108140e+06</td>\n",
       "    </tr>\n",
       "    <tr>\n",
       "      <th>2022-05-09</th>\n",
       "      <td>4.758494e+05</td>\n",
       "      <td>8.222981e+05</td>\n",
       "      <td>6.308727e+05</td>\n",
       "      <td>1.516377e+06</td>\n",
       "    </tr>\n",
       "    <tr>\n",
       "      <th>2022-04-25</th>\n",
       "      <td>1.905987e+05</td>\n",
       "      <td>3.464487e+05</td>\n",
       "      <td>4.819738e+05</td>\n",
       "      <td>8.855044e+05</td>\n",
       "    </tr>\n",
       "    <tr>\n",
       "      <th>2022-04-18</th>\n",
       "      <td>1.558500e+05</td>\n",
       "      <td>1.558500e+05</td>\n",
       "      <td>4.035305e+05</td>\n",
       "      <td>4.035305e+05</td>\n",
       "    </tr>\n",
       "  </tbody>\n",
       "</table>\n",
       "<p>105 rows × 4 columns</p>\n",
       "</div>"
      ],
      "text/plain": [
       "              ray_bought  cumulative_ray_bought   usdc_amount  \\\n",
       "block_date                                                      \n",
       "2024-09-23  4.658846e+04           3.460436e+07  7.131984e+04   \n",
       "2024-09-16  2.940036e+05           3.455777e+07  4.459475e+05   \n",
       "2024-09-09  2.598019e+05           3.426377e+07  3.821256e+05   \n",
       "2024-09-02  2.512750e+05           3.400397e+07  3.667050e+05   \n",
       "2024-08-26  3.166041e+05           3.375269e+07  5.184075e+05   \n",
       "...                  ...                    ...           ...   \n",
       "2022-05-23  1.275352e+06           2.564530e+06  1.212400e+06   \n",
       "2022-05-16  4.668794e+05           1.289177e+06  5.917632e+05   \n",
       "2022-05-09  4.758494e+05           8.222981e+05  6.308727e+05   \n",
       "2022-04-25  1.905987e+05           3.464487e+05  4.819738e+05   \n",
       "2022-04-18  1.558500e+05           1.558500e+05  4.035305e+05   \n",
       "\n",
       "            cumulative_usdc_spent  \n",
       "block_date                         \n",
       "2024-09-23           4.478479e+07  \n",
       "2024-09-16           4.471347e+07  \n",
       "2024-09-09           4.426752e+07  \n",
       "2024-09-02           4.388540e+07  \n",
       "2024-08-26           4.351869e+07  \n",
       "...                           ...  \n",
       "2022-05-23           3.320540e+06  \n",
       "2022-05-16           2.108140e+06  \n",
       "2022-05-09           1.516377e+06  \n",
       "2022-04-25           8.855044e+05  \n",
       "2022-04-18           4.035305e+05  \n",
       "\n",
       "[105 rows x 4 columns]"
      ]
     },
     "execution_count": 5,
     "metadata": {},
     "output_type": "execute_result"
    }
   ],
   "source": [
    "test_df1 = test_cleaner.to_df(r'data/$RAY_Buyback_2024_09_25.csv')\n",
    "test_df1, time_freq =  test_cleaner.to_time(test_df1)\n",
    "test_df1"
   ]
  },
  {
   "cell_type": "code",
   "execution_count": 6,
   "id": "0f082d0b",
   "metadata": {},
   "outputs": [
    {
     "name": "stdout",
     "output_type": "stream",
     "text": [
      "kind: None\n",
      "chart_type: {'y1': 'line', 'y2': 'bar'}\n"
     ]
    },
    {
     "data": {
      "application/vnd.plotly.v1+json": {
       "config": {
        "linkText": "Export to plot.ly",
        "plotlyServerURL": "https://plot.ly",
        "showLink": false
       },
       "data": [
        {
         "line": {
          "color": "#B6E880",
          "width": 4
         },
         "mode": "lines",
         "name": "CUMULATIVE RAY BOUGHT (155.8K)     ",
         "showlegend": true,
         "type": "scatter",
         "x": [
          "2024-09-23T00:00:00.000000000",
          "2024-09-16T00:00:00.000000000",
          "2024-09-09T00:00:00.000000000",
          "2024-09-02T00:00:00.000000000",
          "2024-08-26T00:00:00.000000000",
          "2024-08-19T00:00:00.000000000",
          "2024-08-12T00:00:00.000000000",
          "2024-08-05T00:00:00.000000000",
          "2024-07-29T00:00:00.000000000",
          "2024-07-22T00:00:00.000000000",
          "2024-07-15T00:00:00.000000000",
          "2024-07-08T00:00:00.000000000",
          "2024-07-01T00:00:00.000000000",
          "2024-06-24T00:00:00.000000000",
          "2024-06-17T00:00:00.000000000",
          "2024-06-10T00:00:00.000000000",
          "2024-06-03T00:00:00.000000000",
          "2024-05-27T00:00:00.000000000",
          "2024-05-20T00:00:00.000000000",
          "2024-05-13T00:00:00.000000000",
          "2024-05-06T00:00:00.000000000",
          "2024-04-29T00:00:00.000000000",
          "2024-04-22T00:00:00.000000000",
          "2024-04-15T00:00:00.000000000",
          "2024-04-08T00:00:00.000000000",
          "2024-04-01T00:00:00.000000000",
          "2024-03-25T00:00:00.000000000",
          "2024-03-18T00:00:00.000000000",
          "2024-03-11T00:00:00.000000000",
          "2024-03-04T00:00:00.000000000",
          "2024-02-26T00:00:00.000000000",
          "2024-02-19T00:00:00.000000000",
          "2024-02-12T00:00:00.000000000",
          "2024-02-05T00:00:00.000000000",
          "2024-01-29T00:00:00.000000000",
          "2024-01-22T00:00:00.000000000",
          "2024-01-15T00:00:00.000000000",
          "2024-01-08T00:00:00.000000000",
          "2024-01-01T00:00:00.000000000",
          "2023-12-25T00:00:00.000000000",
          "2023-12-18T00:00:00.000000000",
          "2023-12-11T00:00:00.000000000",
          "2023-12-04T00:00:00.000000000",
          "2023-11-27T00:00:00.000000000",
          "2023-11-20T00:00:00.000000000",
          "2023-11-13T00:00:00.000000000",
          "2023-11-06T00:00:00.000000000",
          "2023-10-30T00:00:00.000000000",
          "2023-10-23T00:00:00.000000000",
          "2023-10-16T00:00:00.000000000",
          "2023-10-09T00:00:00.000000000",
          "2023-10-02T00:00:00.000000000",
          "2023-09-25T00:00:00.000000000",
          "2023-09-18T00:00:00.000000000",
          "2023-09-11T00:00:00.000000000",
          "2023-09-04T00:00:00.000000000",
          "2023-08-28T00:00:00.000000000",
          "2023-08-21T00:00:00.000000000",
          "2023-08-14T00:00:00.000000000",
          "2023-08-07T00:00:00.000000000",
          "2023-07-31T00:00:00.000000000",
          "2023-07-24T00:00:00.000000000",
          "2023-07-17T00:00:00.000000000",
          "2023-07-10T00:00:00.000000000",
          "2023-07-03T00:00:00.000000000",
          "2023-06-26T00:00:00.000000000",
          "2023-06-19T00:00:00.000000000",
          "2023-06-12T00:00:00.000000000",
          "2023-06-05T00:00:00.000000000",
          "2023-05-29T00:00:00.000000000",
          "2023-05-22T00:00:00.000000000",
          "2023-05-15T00:00:00.000000000",
          "2023-05-08T00:00:00.000000000",
          "2023-05-01T00:00:00.000000000",
          "2023-04-24T00:00:00.000000000",
          "2023-04-17T00:00:00.000000000",
          "2023-04-10T00:00:00.000000000",
          "2023-04-03T00:00:00.000000000",
          "2023-03-27T00:00:00.000000000",
          "2023-03-20T00:00:00.000000000",
          "2023-03-13T00:00:00.000000000",
          "2023-03-06T00:00:00.000000000",
          "2023-02-27T00:00:00.000000000",
          "2023-02-20T00:00:00.000000000",
          "2023-01-02T00:00:00.000000000",
          "2022-11-07T00:00:00.000000000",
          "2022-10-24T00:00:00.000000000",
          "2022-10-17T00:00:00.000000000",
          "2022-10-10T00:00:00.000000000",
          "2022-10-03T00:00:00.000000000",
          "2022-09-26T00:00:00.000000000",
          "2022-09-19T00:00:00.000000000",
          "2022-09-05T00:00:00.000000000",
          "2022-07-18T00:00:00.000000000",
          "2022-07-11T00:00:00.000000000",
          "2022-07-04T00:00:00.000000000",
          "2022-06-27T00:00:00.000000000",
          "2022-06-13T00:00:00.000000000",
          "2022-06-06T00:00:00.000000000",
          "2022-05-30T00:00:00.000000000",
          "2022-05-23T00:00:00.000000000",
          "2022-05-16T00:00:00.000000000",
          "2022-05-09T00:00:00.000000000",
          "2022-04-25T00:00:00.000000000",
          "2022-04-18T00:00:00.000000000"
         ],
         "xaxis": "x",
         "y": {
          "bdata": "uO5GSSqAgEFxfZhlenqAQf+6k8iWVoBBbuZQ+d82gEHUL5GhMxiAQSP8C4Ib439Bfxsi+HWVf0H78VczSi1/QVfXYbyyxH1Bmp0FMCE6fUEac5d467J8QervpSMe23tBnB6Ukd4MekGLhzdtNxt5Qb08XWRT2HhBmBvM6NDsdkF7GvAIPEl2QZV/7eTgP3ZBgNa8qpI6dkFUbqJ6bDh2QRC1bU8MM3ZBEcaP50todUHxocQ7shh0QVdFeJBNiXJBENGoFV75cEFI4I9nr2hwQZT6sp7uMXBBj4mU1cFpb0Ebpja2ECpvQRkuq1XCt25BzH7d1X35bUEVA6QUy2ptQdJzC1Ub/WxBAFcyBLyHbEGTeeS5FPNrQfUR+DegXGtBAMTd+befakFZMPGQb9hpQZFVSnlk8GhBrtnK9JaDaEHWbrsONolnQTqUIR4HCmdBjuVdxVKEZkHMngSDd/RlQequbAq/kWVB3CkdMYIjZUEaMEheb9JkQXTzjV2zjWRBFQDjNoBLZEGnKBfvkitkQfwXiECiFmRBtuEwud4HZEHoHDxadfBjQXhKB2pv5mNBXYor1l3aY0EeozxH8s1jQSNJkNyHxGNBdCdYu0W2Y0Hmdi8VF6djQarXLV60mWNB5tROw6CBY0E9gTALqHpjQZDAH73Xb2NBmzg5gV5cY0EXm1bLfkljQUjF/wOmQWNBuoUu6yo7Y0EorXieATFjQbIS8y3vMGNBjnQG3PoqY0H9iN+MgCJjQUd6Ub7oD2NBLYJ/psgFY0FXP7aDVuViQe1O9wfsz2JBEOdhf6nKYkH9wNXZQcViQYdu9qw3vmJBKqe94/y4YkGKJWULYbViQftzUXlVr2JBVcITUfGjYkGMoLGiZ5tiQVzrC+UPlmJBflJty6QxYkG/cyjk6gliQdMV7GU382FBxTj/0wlzYUHO4zBSb6BbQUQ2kO9qpFZBLSgMrEPEVUGpTDGF079UQf9fdaclcFJBtoe9d7WMUUGgw3z99FFRQTF72doEEVFBOtBDVG/KUEEzMzOqhSBQQWcN3sczeEpBEK/rDd0zR0EyPPbp2JBDQUrXTGrZqzNBLnqnGjQYKUFMF2KlQiUVQVRvDaxPBgNB",
          "dtype": "f8"
         },
         "yaxis": "y"
        },
        {
         "marker": {
          "color": "#6baf36"
         },
         "name": "CUMULATIVE USDC SPENT ($403.5K)     ",
         "showlegend": true,
         "type": "bar",
         "x": [
          "2024-09-23T00:00:00.000000000",
          "2024-09-16T00:00:00.000000000",
          "2024-09-09T00:00:00.000000000",
          "2024-09-02T00:00:00.000000000",
          "2024-08-26T00:00:00.000000000",
          "2024-08-19T00:00:00.000000000",
          "2024-08-12T00:00:00.000000000",
          "2024-08-05T00:00:00.000000000",
          "2024-07-29T00:00:00.000000000",
          "2024-07-22T00:00:00.000000000",
          "2024-07-15T00:00:00.000000000",
          "2024-07-08T00:00:00.000000000",
          "2024-07-01T00:00:00.000000000",
          "2024-06-24T00:00:00.000000000",
          "2024-06-17T00:00:00.000000000",
          "2024-06-10T00:00:00.000000000",
          "2024-06-03T00:00:00.000000000",
          "2024-05-27T00:00:00.000000000",
          "2024-05-20T00:00:00.000000000",
          "2024-05-13T00:00:00.000000000",
          "2024-05-06T00:00:00.000000000",
          "2024-04-29T00:00:00.000000000",
          "2024-04-22T00:00:00.000000000",
          "2024-04-15T00:00:00.000000000",
          "2024-04-08T00:00:00.000000000",
          "2024-04-01T00:00:00.000000000",
          "2024-03-25T00:00:00.000000000",
          "2024-03-18T00:00:00.000000000",
          "2024-03-11T00:00:00.000000000",
          "2024-03-04T00:00:00.000000000",
          "2024-02-26T00:00:00.000000000",
          "2024-02-19T00:00:00.000000000",
          "2024-02-12T00:00:00.000000000",
          "2024-02-05T00:00:00.000000000",
          "2024-01-29T00:00:00.000000000",
          "2024-01-22T00:00:00.000000000",
          "2024-01-15T00:00:00.000000000",
          "2024-01-08T00:00:00.000000000",
          "2024-01-01T00:00:00.000000000",
          "2023-12-25T00:00:00.000000000",
          "2023-12-18T00:00:00.000000000",
          "2023-12-11T00:00:00.000000000",
          "2023-12-04T00:00:00.000000000",
          "2023-11-27T00:00:00.000000000",
          "2023-11-20T00:00:00.000000000",
          "2023-11-13T00:00:00.000000000",
          "2023-11-06T00:00:00.000000000",
          "2023-10-30T00:00:00.000000000",
          "2023-10-23T00:00:00.000000000",
          "2023-10-16T00:00:00.000000000",
          "2023-10-09T00:00:00.000000000",
          "2023-10-02T00:00:00.000000000",
          "2023-09-25T00:00:00.000000000",
          "2023-09-18T00:00:00.000000000",
          "2023-09-11T00:00:00.000000000",
          "2023-09-04T00:00:00.000000000",
          "2023-08-28T00:00:00.000000000",
          "2023-08-21T00:00:00.000000000",
          "2023-08-14T00:00:00.000000000",
          "2023-08-07T00:00:00.000000000",
          "2023-07-31T00:00:00.000000000",
          "2023-07-24T00:00:00.000000000",
          "2023-07-17T00:00:00.000000000",
          "2023-07-10T00:00:00.000000000",
          "2023-07-03T00:00:00.000000000",
          "2023-06-26T00:00:00.000000000",
          "2023-06-19T00:00:00.000000000",
          "2023-06-12T00:00:00.000000000",
          "2023-06-05T00:00:00.000000000",
          "2023-05-29T00:00:00.000000000",
          "2023-05-22T00:00:00.000000000",
          "2023-05-15T00:00:00.000000000",
          "2023-05-08T00:00:00.000000000",
          "2023-05-01T00:00:00.000000000",
          "2023-04-24T00:00:00.000000000",
          "2023-04-17T00:00:00.000000000",
          "2023-04-10T00:00:00.000000000",
          "2023-04-03T00:00:00.000000000",
          "2023-03-27T00:00:00.000000000",
          "2023-03-20T00:00:00.000000000",
          "2023-03-13T00:00:00.000000000",
          "2023-03-06T00:00:00.000000000",
          "2023-02-27T00:00:00.000000000",
          "2023-02-20T00:00:00.000000000",
          "2023-01-02T00:00:00.000000000",
          "2022-11-07T00:00:00.000000000",
          "2022-10-24T00:00:00.000000000",
          "2022-10-17T00:00:00.000000000",
          "2022-10-10T00:00:00.000000000",
          "2022-10-03T00:00:00.000000000",
          "2022-09-26T00:00:00.000000000",
          "2022-09-19T00:00:00.000000000",
          "2022-09-05T00:00:00.000000000",
          "2022-07-18T00:00:00.000000000",
          "2022-07-11T00:00:00.000000000",
          "2022-07-04T00:00:00.000000000",
          "2022-06-27T00:00:00.000000000",
          "2022-06-13T00:00:00.000000000",
          "2022-06-06T00:00:00.000000000",
          "2022-05-30T00:00:00.000000000",
          "2022-05-23T00:00:00.000000000",
          "2022-05-16T00:00:00.000000000",
          "2022-05-09T00:00:00.000000000",
          "2022-04-25T00:00:00.000000000",
          "2022-04-18T00:00:00.000000000"
         ],
         "xaxis": "x",
         "y": {
          "bdata": "WwJ+u+RahUGAI8D8L1KFQfG/uiDAG4VB0H0QtBrthEGfa8orV8CEQUkQdO8OgYRB5y8UpDA+hEHxyqlTnuGDQfd2m1sXo4JBw9134QkMgkE3p5TgU2yBQRjevnbrj4BBvE8LWKACfkGrbFF4bmR8QUjh1zhH/HtBmWMiszjneEEj7QfsZOB3Qdpsk7tb0HdBr3DoY3rHd0ETTeoto8N3QXR800xTundBijm8e9FmdkErwHl6uGt0QQhd0Znm3XFB0rjCn04Ab0H9rO1EqiBtQetRbNEaK2xBwIL93bsxakH2yINXO5hpQcPkhAZz82hBplJiKOD+Z0Fer3BltV5nQW2ZHpln82ZB1VbvOrJ1ZkH/81KrCdZlQfkZk8nrJWVBrROuczdTZEEZ6Ud/w2NjQf2FBXIbXWJBWggW2f3HYUFfNRuXQ1pgQZo3FzFar19BGLrtPdPeXkFi23Gmr1BeQTkg5FcEAV5B7gfX+vqtXUGAW+lcVG9dQT6mjF64QF1BlEwJfBIdXUG5VxzUoRBdQXx7c0j+CF1BCtxh5rkDXUE/q5yaU/pcQUrUAjXl9lxB7BU4/6ryXEFdozOdau5cQQvCF8L36lxB3mvQm8XlXEHDc6gsKeBcQY5IeQbX2lxBt/RfdpfQXEEb2VkPuM1cQTaYUHoGyVxB/DvBx5i/XEFn46Qe0rdcQS9GO96KtFxBVhkhs+GxXEHFOUut7q1cQYFMKF3orVxBXiN/7n6rXEHtYh+JwqdcQc+lAIw8oFxB162BOAycXEGl+deFyo5cQcY4qD4ThVxBLhP5nY+CXEFEukABtX9cQdKSnOT3e1xBy1xt9295XEF0lOUPvXdcQRRMGpCvdFxBf+SOn9tuXEGvd+jabmpcQRxkk8MyZ1xBTkejucMqXEG16BxxbR5cQQOIRGaCElxBjN0onFeRW0Hzo94pkvNXQcnho6lyd1VBpFpvDjP2VEGpD6DNx2FUQaUMqNF9GVNBI6vIu6GMUkF+rJUd5VVSQTlejbzzIFJB5377Uv3vUUEnYr9Gb4RRQW5nucdESk9BlnLgR1eqTEHYJXgCblVJQcpBLSZ2FUBBy05BIFkjN0H7B9PAAAYrQSxi1SIqoRhB",
          "dtype": "f8"
         },
         "yaxis": "y2"
        }
       ],
       "layout": {
        "autosize": true,
        "barmode": "stack",
        "font": {
         "color": "black",
         "family": "Cardo"
        },
        "height": 400,
        "hovermode": "x unified",
        "legend": {
         "bgcolor": "rgba(0,0,0,0)",
         "bordercolor": "rgba(0,0,0,0)",
         "borderwidth": 1,
         "orientation": "v",
         "traceorder": "normal",
         "x": 0.01,
         "xanchor": "left",
         "y": 1.05,
         "yanchor": "top"
        },
        "margin": {
         "t": 100
        },
        "template": {
         "data": {
          "bar": [
           {
            "error_x": {
             "color": "#2a3f5f"
            },
            "error_y": {
             "color": "#2a3f5f"
            },
            "marker": {
             "line": {
              "color": "white",
              "width": 0.5
             },
             "pattern": {
              "fillmode": "overlay",
              "size": 10,
              "solidity": 0.2
             }
            },
            "type": "bar"
           }
          ],
          "barpolar": [
           {
            "marker": {
             "line": {
              "color": "white",
              "width": 0.5
             },
             "pattern": {
              "fillmode": "overlay",
              "size": 10,
              "solidity": 0.2
             }
            },
            "type": "barpolar"
           }
          ],
          "carpet": [
           {
            "aaxis": {
             "endlinecolor": "#2a3f5f",
             "gridcolor": "#C8D4E3",
             "linecolor": "#C8D4E3",
             "minorgridcolor": "#C8D4E3",
             "startlinecolor": "#2a3f5f"
            },
            "baxis": {
             "endlinecolor": "#2a3f5f",
             "gridcolor": "#C8D4E3",
             "linecolor": "#C8D4E3",
             "minorgridcolor": "#C8D4E3",
             "startlinecolor": "#2a3f5f"
            },
            "type": "carpet"
           }
          ],
          "choropleth": [
           {
            "colorbar": {
             "outlinewidth": 0,
             "ticks": ""
            },
            "type": "choropleth"
           }
          ],
          "contour": [
           {
            "colorbar": {
             "outlinewidth": 0,
             "ticks": ""
            },
            "colorscale": [
             [
              0,
              "#0d0887"
             ],
             [
              0.1111111111111111,
              "#46039f"
             ],
             [
              0.2222222222222222,
              "#7201a8"
             ],
             [
              0.3333333333333333,
              "#9c179e"
             ],
             [
              0.4444444444444444,
              "#bd3786"
             ],
             [
              0.5555555555555556,
              "#d8576b"
             ],
             [
              0.6666666666666666,
              "#ed7953"
             ],
             [
              0.7777777777777778,
              "#fb9f3a"
             ],
             [
              0.8888888888888888,
              "#fdca26"
             ],
             [
              1,
              "#f0f921"
             ]
            ],
            "type": "contour"
           }
          ],
          "contourcarpet": [
           {
            "colorbar": {
             "outlinewidth": 0,
             "ticks": ""
            },
            "type": "contourcarpet"
           }
          ],
          "heatmap": [
           {
            "colorbar": {
             "outlinewidth": 0,
             "ticks": ""
            },
            "colorscale": [
             [
              0,
              "#0d0887"
             ],
             [
              0.1111111111111111,
              "#46039f"
             ],
             [
              0.2222222222222222,
              "#7201a8"
             ],
             [
              0.3333333333333333,
              "#9c179e"
             ],
             [
              0.4444444444444444,
              "#bd3786"
             ],
             [
              0.5555555555555556,
              "#d8576b"
             ],
             [
              0.6666666666666666,
              "#ed7953"
             ],
             [
              0.7777777777777778,
              "#fb9f3a"
             ],
             [
              0.8888888888888888,
              "#fdca26"
             ],
             [
              1,
              "#f0f921"
             ]
            ],
            "type": "heatmap"
           }
          ],
          "histogram": [
           {
            "marker": {
             "pattern": {
              "fillmode": "overlay",
              "size": 10,
              "solidity": 0.2
             }
            },
            "type": "histogram"
           }
          ],
          "histogram2d": [
           {
            "colorbar": {
             "outlinewidth": 0,
             "ticks": ""
            },
            "colorscale": [
             [
              0,
              "#0d0887"
             ],
             [
              0.1111111111111111,
              "#46039f"
             ],
             [
              0.2222222222222222,
              "#7201a8"
             ],
             [
              0.3333333333333333,
              "#9c179e"
             ],
             [
              0.4444444444444444,
              "#bd3786"
             ],
             [
              0.5555555555555556,
              "#d8576b"
             ],
             [
              0.6666666666666666,
              "#ed7953"
             ],
             [
              0.7777777777777778,
              "#fb9f3a"
             ],
             [
              0.8888888888888888,
              "#fdca26"
             ],
             [
              1,
              "#f0f921"
             ]
            ],
            "type": "histogram2d"
           }
          ],
          "histogram2dcontour": [
           {
            "colorbar": {
             "outlinewidth": 0,
             "ticks": ""
            },
            "colorscale": [
             [
              0,
              "#0d0887"
             ],
             [
              0.1111111111111111,
              "#46039f"
             ],
             [
              0.2222222222222222,
              "#7201a8"
             ],
             [
              0.3333333333333333,
              "#9c179e"
             ],
             [
              0.4444444444444444,
              "#bd3786"
             ],
             [
              0.5555555555555556,
              "#d8576b"
             ],
             [
              0.6666666666666666,
              "#ed7953"
             ],
             [
              0.7777777777777778,
              "#fb9f3a"
             ],
             [
              0.8888888888888888,
              "#fdca26"
             ],
             [
              1,
              "#f0f921"
             ]
            ],
            "type": "histogram2dcontour"
           }
          ],
          "mesh3d": [
           {
            "colorbar": {
             "outlinewidth": 0,
             "ticks": ""
            },
            "type": "mesh3d"
           }
          ],
          "parcoords": [
           {
            "line": {
             "colorbar": {
              "outlinewidth": 0,
              "ticks": ""
             }
            },
            "type": "parcoords"
           }
          ],
          "pie": [
           {
            "automargin": true,
            "type": "pie"
           }
          ],
          "scatter": [
           {
            "fillpattern": {
             "fillmode": "overlay",
             "size": 10,
             "solidity": 0.2
            },
            "type": "scatter"
           }
          ],
          "scatter3d": [
           {
            "line": {
             "colorbar": {
              "outlinewidth": 0,
              "ticks": ""
             }
            },
            "marker": {
             "colorbar": {
              "outlinewidth": 0,
              "ticks": ""
             }
            },
            "type": "scatter3d"
           }
          ],
          "scattercarpet": [
           {
            "marker": {
             "colorbar": {
              "outlinewidth": 0,
              "ticks": ""
             }
            },
            "type": "scattercarpet"
           }
          ],
          "scattergeo": [
           {
            "marker": {
             "colorbar": {
              "outlinewidth": 0,
              "ticks": ""
             }
            },
            "type": "scattergeo"
           }
          ],
          "scattergl": [
           {
            "marker": {
             "colorbar": {
              "outlinewidth": 0,
              "ticks": ""
             }
            },
            "type": "scattergl"
           }
          ],
          "scattermap": [
           {
            "marker": {
             "colorbar": {
              "outlinewidth": 0,
              "ticks": ""
             }
            },
            "type": "scattermap"
           }
          ],
          "scattermapbox": [
           {
            "marker": {
             "colorbar": {
              "outlinewidth": 0,
              "ticks": ""
             }
            },
            "type": "scattermapbox"
           }
          ],
          "scatterpolar": [
           {
            "marker": {
             "colorbar": {
              "outlinewidth": 0,
              "ticks": ""
             }
            },
            "type": "scatterpolar"
           }
          ],
          "scatterpolargl": [
           {
            "marker": {
             "colorbar": {
              "outlinewidth": 0,
              "ticks": ""
             }
            },
            "type": "scatterpolargl"
           }
          ],
          "scatterternary": [
           {
            "marker": {
             "colorbar": {
              "outlinewidth": 0,
              "ticks": ""
             }
            },
            "type": "scatterternary"
           }
          ],
          "surface": [
           {
            "colorbar": {
             "outlinewidth": 0,
             "ticks": ""
            },
            "colorscale": [
             [
              0,
              "#0d0887"
             ],
             [
              0.1111111111111111,
              "#46039f"
             ],
             [
              0.2222222222222222,
              "#7201a8"
             ],
             [
              0.3333333333333333,
              "#9c179e"
             ],
             [
              0.4444444444444444,
              "#bd3786"
             ],
             [
              0.5555555555555556,
              "#d8576b"
             ],
             [
              0.6666666666666666,
              "#ed7953"
             ],
             [
              0.7777777777777778,
              "#fb9f3a"
             ],
             [
              0.8888888888888888,
              "#fdca26"
             ],
             [
              1,
              "#f0f921"
             ]
            ],
            "type": "surface"
           }
          ],
          "table": [
           {
            "cells": {
             "fill": {
              "color": "#EBF0F8"
             },
             "line": {
              "color": "white"
             }
            },
            "header": {
             "fill": {
              "color": "#C8D4E3"
             },
             "line": {
              "color": "white"
             }
            },
            "type": "table"
           }
          ]
         },
         "layout": {
          "annotationdefaults": {
           "arrowcolor": "#2a3f5f",
           "arrowhead": 0,
           "arrowwidth": 1
          },
          "autotypenumbers": "strict",
          "coloraxis": {
           "colorbar": {
            "outlinewidth": 0,
            "ticks": ""
           }
          },
          "colorscale": {
           "diverging": [
            [
             0,
             "#8e0152"
            ],
            [
             0.1,
             "#c51b7d"
            ],
            [
             0.2,
             "#de77ae"
            ],
            [
             0.3,
             "#f1b6da"
            ],
            [
             0.4,
             "#fde0ef"
            ],
            [
             0.5,
             "#f7f7f7"
            ],
            [
             0.6,
             "#e6f5d0"
            ],
            [
             0.7,
             "#b8e186"
            ],
            [
             0.8,
             "#7fbc41"
            ],
            [
             0.9,
             "#4d9221"
            ],
            [
             1,
             "#276419"
            ]
           ],
           "sequential": [
            [
             0,
             "#0d0887"
            ],
            [
             0.1111111111111111,
             "#46039f"
            ],
            [
             0.2222222222222222,
             "#7201a8"
            ],
            [
             0.3333333333333333,
             "#9c179e"
            ],
            [
             0.4444444444444444,
             "#bd3786"
            ],
            [
             0.5555555555555556,
             "#d8576b"
            ],
            [
             0.6666666666666666,
             "#ed7953"
            ],
            [
             0.7777777777777778,
             "#fb9f3a"
            ],
            [
             0.8888888888888888,
             "#fdca26"
            ],
            [
             1,
             "#f0f921"
            ]
           ],
           "sequentialminus": [
            [
             0,
             "#0d0887"
            ],
            [
             0.1111111111111111,
             "#46039f"
            ],
            [
             0.2222222222222222,
             "#7201a8"
            ],
            [
             0.3333333333333333,
             "#9c179e"
            ],
            [
             0.4444444444444444,
             "#bd3786"
            ],
            [
             0.5555555555555556,
             "#d8576b"
            ],
            [
             0.6666666666666666,
             "#ed7953"
            ],
            [
             0.7777777777777778,
             "#fb9f3a"
            ],
            [
             0.8888888888888888,
             "#fdca26"
            ],
            [
             1,
             "#f0f921"
            ]
           ]
          },
          "colorway": [
           "#636efa",
           "#EF553B",
           "#00cc96",
           "#ab63fa",
           "#FFA15A",
           "#19d3f3",
           "#FF6692",
           "#B6E880",
           "#FF97FF",
           "#FECB52"
          ],
          "font": {
           "color": "#2a3f5f"
          },
          "geo": {
           "bgcolor": "white",
           "lakecolor": "white",
           "landcolor": "white",
           "showlakes": true,
           "showland": true,
           "subunitcolor": "#C8D4E3"
          },
          "hoverlabel": {
           "align": "left"
          },
          "hovermode": "closest",
          "mapbox": {
           "style": "light"
          },
          "paper_bgcolor": "white",
          "plot_bgcolor": "white",
          "polar": {
           "angularaxis": {
            "gridcolor": "#EBF0F8",
            "linecolor": "#EBF0F8",
            "ticks": ""
           },
           "bgcolor": "white",
           "radialaxis": {
            "gridcolor": "#EBF0F8",
            "linecolor": "#EBF0F8",
            "ticks": ""
           }
          },
          "scene": {
           "xaxis": {
            "backgroundcolor": "white",
            "gridcolor": "#DFE8F3",
            "gridwidth": 2,
            "linecolor": "#EBF0F8",
            "showbackground": true,
            "ticks": "",
            "zerolinecolor": "#EBF0F8"
           },
           "yaxis": {
            "backgroundcolor": "white",
            "gridcolor": "#DFE8F3",
            "gridwidth": 2,
            "linecolor": "#EBF0F8",
            "showbackground": true,
            "ticks": "",
            "zerolinecolor": "#EBF0F8"
           },
           "zaxis": {
            "backgroundcolor": "white",
            "gridcolor": "#DFE8F3",
            "gridwidth": 2,
            "linecolor": "#EBF0F8",
            "showbackground": true,
            "ticks": "",
            "zerolinecolor": "#EBF0F8"
           }
          },
          "shapedefaults": {
           "line": {
            "color": "#2a3f5f"
           }
          },
          "ternary": {
           "aaxis": {
            "gridcolor": "#DFE8F3",
            "linecolor": "#A2B1C6",
            "ticks": ""
           },
           "baxis": {
            "gridcolor": "#DFE8F3",
            "linecolor": "#A2B1C6",
            "ticks": ""
           },
           "bgcolor": "white",
           "caxis": {
            "gridcolor": "#DFE8F3",
            "linecolor": "#A2B1C6",
            "ticks": ""
           }
          },
          "title": {
           "x": 0.05
          },
          "xaxis": {
           "automargin": true,
           "gridcolor": "#EBF0F8",
           "linecolor": "#EBF0F8",
           "ticks": "",
           "title": {
            "standoff": 15
           },
           "zerolinecolor": "#EBF0F8",
           "zerolinewidth": 2
          },
          "yaxis": {
           "automargin": true,
           "gridcolor": "#EBF0F8",
           "linecolor": "#EBF0F8",
           "ticks": "",
           "title": {
            "standoff": 15
           },
           "zerolinecolor": "#EBF0F8",
           "zerolinewidth": 2
          }
         }
        },
        "title": {
         "font": {
          "color": "black",
          "family": "Cardo",
          "size": 27
         },
         "text": "<span style='color: black; font-weight: normal;'>$RAY Buybacks Over Time</span><br><sub style='font-size: 18px; color: black; font-weight: normal;'>Daily through 2024-09-23 00:00:00</sub>",
         "x": 0.5,
         "xanchor": "left",
         "y": 0.9,
         "yanchor": "top"
        },
        "width": 730,
        "xaxis": {
         "anchor": "y",
         "domain": [
          0,
          0.94
         ],
         "tickfont": {
          "color": "black"
         }
        },
        "yaxis": {
         "anchor": "x",
         "color": "#B6E880",
         "domain": [
          0,
          1
         ],
         "tickprefix": "",
         "title": {
          "text": "CUMULATIVE RAY BOUGHT"
         }
        },
        "yaxis2": {
         "anchor": "x",
         "color": "#6baf36",
         "overlaying": "y",
         "side": "right",
         "tickprefix": "$",
         "title": {
          "text": "CUMULATIVE USDC SPENT"
         }
        }
       }
      }
     },
     "metadata": {},
     "output_type": "display_data"
    },
    {
     "name": "stdout",
     "output_type": "stream",
     "text": [
      "Saving figure to: img\\$RAY Buybacks Over Time.png\n"
     ]
    }
   ],
   "source": [
    "cm = ChartMaker(shuffle_colors=True)\n",
    "cm.build(\n",
    "    df = test_df1,\n",
    "    axes_data=dict(y1=['cumulative_ray_bought'],\n",
    "                    y2=['cumulative_usdc_spent']),\n",
    "    title='$RAY Buybacks Over Time',\n",
    "    chart_type={'y1':'line','y2':'bar'},\n",
    "    options = {'margin':dict(t=100),'annotations':True,\n",
    "                'tickprefix':{'y2':'$'},'auto_title':True,\n",
    "                'show_legend':True,'legend_placement':{'x':0.01,'y':1.05}},\n",
    ")\n",
    "cm.add_title(\n",
    "    title='$RAY Buybacks Over Time',\n",
    "    subtitle=f'Daily through {test_df1.index.max()}',\n",
    "    x=0.5,\n",
    "    y=0.9\n",
    ")\n",
    "cm.add_annotations()\n",
    "cm.show_fig()\n",
    "cm.save_fig(save_directory='img')"
   ]
  },
  {
   "cell_type": "code",
   "execution_count": 7,
   "id": "7f447528",
   "metadata": {},
   "outputs": [
    {
     "name": "stdout",
     "output_type": "stream",
     "text": [
      "kind: None\n",
      "chart_type: {'y1': 'line', 'y2': 'bar'}\n"
     ]
    },
    {
     "data": {
      "application/vnd.plotly.v1+json": {
       "config": {
        "linkText": "Export to plot.ly",
        "plotlyServerURL": "https://plot.ly",
        "showLink": false
       },
       "data": [
        {
         "line": {
          "color": "#5d7e69",
          "width": 4
         },
         "mode": "lines",
         "name": "CUMULATIVE RAY BOUGHT (155.8K)     ",
         "showlegend": true,
         "type": "scatter",
         "x": [
          "2024-09-23T00:00:00.000000000",
          "2024-09-16T00:00:00.000000000",
          "2024-09-09T00:00:00.000000000",
          "2024-09-02T00:00:00.000000000",
          "2024-08-26T00:00:00.000000000",
          "2024-08-19T00:00:00.000000000",
          "2024-08-12T00:00:00.000000000",
          "2024-08-05T00:00:00.000000000",
          "2024-07-29T00:00:00.000000000",
          "2024-07-22T00:00:00.000000000",
          "2024-07-15T00:00:00.000000000",
          "2024-07-08T00:00:00.000000000",
          "2024-07-01T00:00:00.000000000",
          "2024-06-24T00:00:00.000000000",
          "2024-06-17T00:00:00.000000000",
          "2024-06-10T00:00:00.000000000",
          "2024-06-03T00:00:00.000000000",
          "2024-05-27T00:00:00.000000000",
          "2024-05-20T00:00:00.000000000",
          "2024-05-13T00:00:00.000000000",
          "2024-05-06T00:00:00.000000000",
          "2024-04-29T00:00:00.000000000",
          "2024-04-22T00:00:00.000000000",
          "2024-04-15T00:00:00.000000000",
          "2024-04-08T00:00:00.000000000",
          "2024-04-01T00:00:00.000000000",
          "2024-03-25T00:00:00.000000000",
          "2024-03-18T00:00:00.000000000",
          "2024-03-11T00:00:00.000000000",
          "2024-03-04T00:00:00.000000000",
          "2024-02-26T00:00:00.000000000",
          "2024-02-19T00:00:00.000000000",
          "2024-02-12T00:00:00.000000000",
          "2024-02-05T00:00:00.000000000",
          "2024-01-29T00:00:00.000000000",
          "2024-01-22T00:00:00.000000000",
          "2024-01-15T00:00:00.000000000",
          "2024-01-08T00:00:00.000000000",
          "2024-01-01T00:00:00.000000000",
          "2023-12-25T00:00:00.000000000",
          "2023-12-18T00:00:00.000000000",
          "2023-12-11T00:00:00.000000000",
          "2023-12-04T00:00:00.000000000",
          "2023-11-27T00:00:00.000000000",
          "2023-11-20T00:00:00.000000000",
          "2023-11-13T00:00:00.000000000",
          "2023-11-06T00:00:00.000000000",
          "2023-10-30T00:00:00.000000000",
          "2023-10-23T00:00:00.000000000",
          "2023-10-16T00:00:00.000000000",
          "2023-10-09T00:00:00.000000000",
          "2023-10-02T00:00:00.000000000",
          "2023-09-25T00:00:00.000000000",
          "2023-09-18T00:00:00.000000000",
          "2023-09-11T00:00:00.000000000",
          "2023-09-04T00:00:00.000000000",
          "2023-08-28T00:00:00.000000000",
          "2023-08-21T00:00:00.000000000",
          "2023-08-14T00:00:00.000000000",
          "2023-08-07T00:00:00.000000000",
          "2023-07-31T00:00:00.000000000",
          "2023-07-24T00:00:00.000000000",
          "2023-07-17T00:00:00.000000000",
          "2023-07-10T00:00:00.000000000",
          "2023-07-03T00:00:00.000000000",
          "2023-06-26T00:00:00.000000000",
          "2023-06-19T00:00:00.000000000",
          "2023-06-12T00:00:00.000000000",
          "2023-06-05T00:00:00.000000000",
          "2023-05-29T00:00:00.000000000",
          "2023-05-22T00:00:00.000000000",
          "2023-05-15T00:00:00.000000000",
          "2023-05-08T00:00:00.000000000",
          "2023-05-01T00:00:00.000000000",
          "2023-04-24T00:00:00.000000000",
          "2023-04-17T00:00:00.000000000",
          "2023-04-10T00:00:00.000000000",
          "2023-04-03T00:00:00.000000000",
          "2023-03-27T00:00:00.000000000",
          "2023-03-20T00:00:00.000000000",
          "2023-03-13T00:00:00.000000000",
          "2023-03-06T00:00:00.000000000",
          "2023-02-27T00:00:00.000000000",
          "2023-02-20T00:00:00.000000000",
          "2023-01-02T00:00:00.000000000",
          "2022-11-07T00:00:00.000000000",
          "2022-10-24T00:00:00.000000000",
          "2022-10-17T00:00:00.000000000",
          "2022-10-10T00:00:00.000000000",
          "2022-10-03T00:00:00.000000000",
          "2022-09-26T00:00:00.000000000",
          "2022-09-19T00:00:00.000000000",
          "2022-09-05T00:00:00.000000000",
          "2022-07-18T00:00:00.000000000",
          "2022-07-11T00:00:00.000000000",
          "2022-07-04T00:00:00.000000000",
          "2022-06-27T00:00:00.000000000",
          "2022-06-13T00:00:00.000000000",
          "2022-06-06T00:00:00.000000000",
          "2022-05-30T00:00:00.000000000",
          "2022-05-23T00:00:00.000000000",
          "2022-05-16T00:00:00.000000000",
          "2022-05-09T00:00:00.000000000",
          "2022-04-25T00:00:00.000000000",
          "2022-04-18T00:00:00.000000000"
         ],
         "xaxis": "x",
         "y": {
          "bdata": "uO5GSSqAgEFxfZhlenqAQf+6k8iWVoBBbuZQ+d82gEHUL5GhMxiAQSP8C4Ib439Bfxsi+HWVf0H78VczSi1/QVfXYbyyxH1Bmp0FMCE6fUEac5d467J8QervpSMe23tBnB6Ukd4MekGLhzdtNxt5Qb08XWRT2HhBmBvM6NDsdkF7GvAIPEl2QZV/7eTgP3ZBgNa8qpI6dkFUbqJ6bDh2QRC1bU8MM3ZBEcaP50todUHxocQ7shh0QVdFeJBNiXJBENGoFV75cEFI4I9nr2hwQZT6sp7uMXBBj4mU1cFpb0Ebpja2ECpvQRkuq1XCt25BzH7d1X35bUEVA6QUy2ptQdJzC1Ub/WxBAFcyBLyHbEGTeeS5FPNrQfUR+DegXGtBAMTd+befakFZMPGQb9hpQZFVSnlk8GhBrtnK9JaDaEHWbrsONolnQTqUIR4HCmdBjuVdxVKEZkHMngSDd/RlQequbAq/kWVB3CkdMYIjZUEaMEheb9JkQXTzjV2zjWRBFQDjNoBLZEGnKBfvkitkQfwXiECiFmRBtuEwud4HZEHoHDxadfBjQXhKB2pv5mNBXYor1l3aY0EeozxH8s1jQSNJkNyHxGNBdCdYu0W2Y0Hmdi8VF6djQarXLV60mWNB5tROw6CBY0E9gTALqHpjQZDAH73Xb2NBmzg5gV5cY0EXm1bLfkljQUjF/wOmQWNBuoUu6yo7Y0EorXieATFjQbIS8y3vMGNBjnQG3PoqY0H9iN+MgCJjQUd6Ub7oD2NBLYJ/psgFY0FXP7aDVuViQe1O9wfsz2JBEOdhf6nKYkH9wNXZQcViQYdu9qw3vmJBKqe94/y4YkGKJWULYbViQftzUXlVr2JBVcITUfGjYkGMoLGiZ5tiQVzrC+UPlmJBflJty6QxYkG/cyjk6gliQdMV7GU382FBxTj/0wlzYUHO4zBSb6BbQUQ2kO9qpFZBLSgMrEPEVUGpTDGF079UQf9fdaclcFJBtoe9d7WMUUGgw3z99FFRQTF72doEEVFBOtBDVG/KUEEzMzOqhSBQQWcN3sczeEpBEK/rDd0zR0EyPPbp2JBDQUrXTGrZqzNBLnqnGjQYKUFMF2KlQiUVQVRvDaxPBgNB",
          "dtype": "f8"
         },
         "yaxis": "y"
        },
        {
         "marker": {
          "color": "#cfff9e"
         },
         "name": "CUMULATIVE USDC SPENT ($403.5K)     ",
         "showlegend": true,
         "type": "bar",
         "x": [
          "2024-09-23T00:00:00.000000000",
          "2024-09-16T00:00:00.000000000",
          "2024-09-09T00:00:00.000000000",
          "2024-09-02T00:00:00.000000000",
          "2024-08-26T00:00:00.000000000",
          "2024-08-19T00:00:00.000000000",
          "2024-08-12T00:00:00.000000000",
          "2024-08-05T00:00:00.000000000",
          "2024-07-29T00:00:00.000000000",
          "2024-07-22T00:00:00.000000000",
          "2024-07-15T00:00:00.000000000",
          "2024-07-08T00:00:00.000000000",
          "2024-07-01T00:00:00.000000000",
          "2024-06-24T00:00:00.000000000",
          "2024-06-17T00:00:00.000000000",
          "2024-06-10T00:00:00.000000000",
          "2024-06-03T00:00:00.000000000",
          "2024-05-27T00:00:00.000000000",
          "2024-05-20T00:00:00.000000000",
          "2024-05-13T00:00:00.000000000",
          "2024-05-06T00:00:00.000000000",
          "2024-04-29T00:00:00.000000000",
          "2024-04-22T00:00:00.000000000",
          "2024-04-15T00:00:00.000000000",
          "2024-04-08T00:00:00.000000000",
          "2024-04-01T00:00:00.000000000",
          "2024-03-25T00:00:00.000000000",
          "2024-03-18T00:00:00.000000000",
          "2024-03-11T00:00:00.000000000",
          "2024-03-04T00:00:00.000000000",
          "2024-02-26T00:00:00.000000000",
          "2024-02-19T00:00:00.000000000",
          "2024-02-12T00:00:00.000000000",
          "2024-02-05T00:00:00.000000000",
          "2024-01-29T00:00:00.000000000",
          "2024-01-22T00:00:00.000000000",
          "2024-01-15T00:00:00.000000000",
          "2024-01-08T00:00:00.000000000",
          "2024-01-01T00:00:00.000000000",
          "2023-12-25T00:00:00.000000000",
          "2023-12-18T00:00:00.000000000",
          "2023-12-11T00:00:00.000000000",
          "2023-12-04T00:00:00.000000000",
          "2023-11-27T00:00:00.000000000",
          "2023-11-20T00:00:00.000000000",
          "2023-11-13T00:00:00.000000000",
          "2023-11-06T00:00:00.000000000",
          "2023-10-30T00:00:00.000000000",
          "2023-10-23T00:00:00.000000000",
          "2023-10-16T00:00:00.000000000",
          "2023-10-09T00:00:00.000000000",
          "2023-10-02T00:00:00.000000000",
          "2023-09-25T00:00:00.000000000",
          "2023-09-18T00:00:00.000000000",
          "2023-09-11T00:00:00.000000000",
          "2023-09-04T00:00:00.000000000",
          "2023-08-28T00:00:00.000000000",
          "2023-08-21T00:00:00.000000000",
          "2023-08-14T00:00:00.000000000",
          "2023-08-07T00:00:00.000000000",
          "2023-07-31T00:00:00.000000000",
          "2023-07-24T00:00:00.000000000",
          "2023-07-17T00:00:00.000000000",
          "2023-07-10T00:00:00.000000000",
          "2023-07-03T00:00:00.000000000",
          "2023-06-26T00:00:00.000000000",
          "2023-06-19T00:00:00.000000000",
          "2023-06-12T00:00:00.000000000",
          "2023-06-05T00:00:00.000000000",
          "2023-05-29T00:00:00.000000000",
          "2023-05-22T00:00:00.000000000",
          "2023-05-15T00:00:00.000000000",
          "2023-05-08T00:00:00.000000000",
          "2023-05-01T00:00:00.000000000",
          "2023-04-24T00:00:00.000000000",
          "2023-04-17T00:00:00.000000000",
          "2023-04-10T00:00:00.000000000",
          "2023-04-03T00:00:00.000000000",
          "2023-03-27T00:00:00.000000000",
          "2023-03-20T00:00:00.000000000",
          "2023-03-13T00:00:00.000000000",
          "2023-03-06T00:00:00.000000000",
          "2023-02-27T00:00:00.000000000",
          "2023-02-20T00:00:00.000000000",
          "2023-01-02T00:00:00.000000000",
          "2022-11-07T00:00:00.000000000",
          "2022-10-24T00:00:00.000000000",
          "2022-10-17T00:00:00.000000000",
          "2022-10-10T00:00:00.000000000",
          "2022-10-03T00:00:00.000000000",
          "2022-09-26T00:00:00.000000000",
          "2022-09-19T00:00:00.000000000",
          "2022-09-05T00:00:00.000000000",
          "2022-07-18T00:00:00.000000000",
          "2022-07-11T00:00:00.000000000",
          "2022-07-04T00:00:00.000000000",
          "2022-06-27T00:00:00.000000000",
          "2022-06-13T00:00:00.000000000",
          "2022-06-06T00:00:00.000000000",
          "2022-05-30T00:00:00.000000000",
          "2022-05-23T00:00:00.000000000",
          "2022-05-16T00:00:00.000000000",
          "2022-05-09T00:00:00.000000000",
          "2022-04-25T00:00:00.000000000",
          "2022-04-18T00:00:00.000000000"
         ],
         "xaxis": "x",
         "y": {
          "bdata": "WwJ+u+RahUGAI8D8L1KFQfG/uiDAG4VB0H0QtBrthEGfa8orV8CEQUkQdO8OgYRB5y8UpDA+hEHxyqlTnuGDQfd2m1sXo4JBw9134QkMgkE3p5TgU2yBQRjevnbrj4BBvE8LWKACfkGrbFF4bmR8QUjh1zhH/HtBmWMiszjneEEj7QfsZOB3Qdpsk7tb0HdBr3DoY3rHd0ETTeoto8N3QXR800xTundBijm8e9FmdkErwHl6uGt0QQhd0Znm3XFB0rjCn04Ab0H9rO1EqiBtQetRbNEaK2xBwIL93bsxakH2yINXO5hpQcPkhAZz82hBplJiKOD+Z0Fer3BltV5nQW2ZHpln82ZB1VbvOrJ1ZkH/81KrCdZlQfkZk8nrJWVBrROuczdTZEEZ6Ud/w2NjQf2FBXIbXWJBWggW2f3HYUFfNRuXQ1pgQZo3FzFar19BGLrtPdPeXkFi23Gmr1BeQTkg5FcEAV5B7gfX+vqtXUGAW+lcVG9dQT6mjF64QF1BlEwJfBIdXUG5VxzUoRBdQXx7c0j+CF1BCtxh5rkDXUE/q5yaU/pcQUrUAjXl9lxB7BU4/6ryXEFdozOdau5cQQvCF8L36lxB3mvQm8XlXEHDc6gsKeBcQY5IeQbX2lxBt/RfdpfQXEEb2VkPuM1cQTaYUHoGyVxB/DvBx5i/XEFn46Qe0rdcQS9GO96KtFxBVhkhs+GxXEHFOUut7q1cQYFMKF3orVxBXiN/7n6rXEHtYh+JwqdcQc+lAIw8oFxB162BOAycXEGl+deFyo5cQcY4qD4ThVxBLhP5nY+CXEFEukABtX9cQdKSnOT3e1xBy1xt9295XEF0lOUPvXdcQRRMGpCvdFxBf+SOn9tuXEGvd+jabmpcQRxkk8MyZ1xBTkejucMqXEG16BxxbR5cQQOIRGaCElxBjN0onFeRW0Hzo94pkvNXQcnho6lyd1VBpFpvDjP2VEGpD6DNx2FUQaUMqNF9GVNBI6vIu6GMUkF+rJUd5VVSQTlejbzzIFJB5377Uv3vUUEnYr9Gb4RRQW5nucdESk9BlnLgR1eqTEHYJXgCblVJQcpBLSZ2FUBBy05BIFkjN0H7B9PAAAYrQSxi1SIqoRhB",
          "dtype": "f8"
         },
         "yaxis": "y2"
        }
       ],
       "layout": {
        "autosize": true,
        "barmode": "stack",
        "font": {
         "color": "black",
         "family": "Cardo"
        },
        "height": 400,
        "hovermode": "x unified",
        "legend": {
         "bgcolor": "rgba(0,0,0,0)",
         "bordercolor": "rgba(0,0,0,0)",
         "borderwidth": 1,
         "orientation": "v",
         "traceorder": "normal",
         "x": 1.1,
         "xanchor": "left",
         "y": 1,
         "yanchor": "top"
        },
        "margin": {
         "t": 100
        },
        "template": {
         "data": {
          "bar": [
           {
            "error_x": {
             "color": "#2a3f5f"
            },
            "error_y": {
             "color": "#2a3f5f"
            },
            "marker": {
             "line": {
              "color": "white",
              "width": 0.5
             },
             "pattern": {
              "fillmode": "overlay",
              "size": 10,
              "solidity": 0.2
             }
            },
            "type": "bar"
           }
          ],
          "barpolar": [
           {
            "marker": {
             "line": {
              "color": "white",
              "width": 0.5
             },
             "pattern": {
              "fillmode": "overlay",
              "size": 10,
              "solidity": 0.2
             }
            },
            "type": "barpolar"
           }
          ],
          "carpet": [
           {
            "aaxis": {
             "endlinecolor": "#2a3f5f",
             "gridcolor": "#C8D4E3",
             "linecolor": "#C8D4E3",
             "minorgridcolor": "#C8D4E3",
             "startlinecolor": "#2a3f5f"
            },
            "baxis": {
             "endlinecolor": "#2a3f5f",
             "gridcolor": "#C8D4E3",
             "linecolor": "#C8D4E3",
             "minorgridcolor": "#C8D4E3",
             "startlinecolor": "#2a3f5f"
            },
            "type": "carpet"
           }
          ],
          "choropleth": [
           {
            "colorbar": {
             "outlinewidth": 0,
             "ticks": ""
            },
            "type": "choropleth"
           }
          ],
          "contour": [
           {
            "colorbar": {
             "outlinewidth": 0,
             "ticks": ""
            },
            "colorscale": [
             [
              0,
              "#0d0887"
             ],
             [
              0.1111111111111111,
              "#46039f"
             ],
             [
              0.2222222222222222,
              "#7201a8"
             ],
             [
              0.3333333333333333,
              "#9c179e"
             ],
             [
              0.4444444444444444,
              "#bd3786"
             ],
             [
              0.5555555555555556,
              "#d8576b"
             ],
             [
              0.6666666666666666,
              "#ed7953"
             ],
             [
              0.7777777777777778,
              "#fb9f3a"
             ],
             [
              0.8888888888888888,
              "#fdca26"
             ],
             [
              1,
              "#f0f921"
             ]
            ],
            "type": "contour"
           }
          ],
          "contourcarpet": [
           {
            "colorbar": {
             "outlinewidth": 0,
             "ticks": ""
            },
            "type": "contourcarpet"
           }
          ],
          "heatmap": [
           {
            "colorbar": {
             "outlinewidth": 0,
             "ticks": ""
            },
            "colorscale": [
             [
              0,
              "#0d0887"
             ],
             [
              0.1111111111111111,
              "#46039f"
             ],
             [
              0.2222222222222222,
              "#7201a8"
             ],
             [
              0.3333333333333333,
              "#9c179e"
             ],
             [
              0.4444444444444444,
              "#bd3786"
             ],
             [
              0.5555555555555556,
              "#d8576b"
             ],
             [
              0.6666666666666666,
              "#ed7953"
             ],
             [
              0.7777777777777778,
              "#fb9f3a"
             ],
             [
              0.8888888888888888,
              "#fdca26"
             ],
             [
              1,
              "#f0f921"
             ]
            ],
            "type": "heatmap"
           }
          ],
          "histogram": [
           {
            "marker": {
             "pattern": {
              "fillmode": "overlay",
              "size": 10,
              "solidity": 0.2
             }
            },
            "type": "histogram"
           }
          ],
          "histogram2d": [
           {
            "colorbar": {
             "outlinewidth": 0,
             "ticks": ""
            },
            "colorscale": [
             [
              0,
              "#0d0887"
             ],
             [
              0.1111111111111111,
              "#46039f"
             ],
             [
              0.2222222222222222,
              "#7201a8"
             ],
             [
              0.3333333333333333,
              "#9c179e"
             ],
             [
              0.4444444444444444,
              "#bd3786"
             ],
             [
              0.5555555555555556,
              "#d8576b"
             ],
             [
              0.6666666666666666,
              "#ed7953"
             ],
             [
              0.7777777777777778,
              "#fb9f3a"
             ],
             [
              0.8888888888888888,
              "#fdca26"
             ],
             [
              1,
              "#f0f921"
             ]
            ],
            "type": "histogram2d"
           }
          ],
          "histogram2dcontour": [
           {
            "colorbar": {
             "outlinewidth": 0,
             "ticks": ""
            },
            "colorscale": [
             [
              0,
              "#0d0887"
             ],
             [
              0.1111111111111111,
              "#46039f"
             ],
             [
              0.2222222222222222,
              "#7201a8"
             ],
             [
              0.3333333333333333,
              "#9c179e"
             ],
             [
              0.4444444444444444,
              "#bd3786"
             ],
             [
              0.5555555555555556,
              "#d8576b"
             ],
             [
              0.6666666666666666,
              "#ed7953"
             ],
             [
              0.7777777777777778,
              "#fb9f3a"
             ],
             [
              0.8888888888888888,
              "#fdca26"
             ],
             [
              1,
              "#f0f921"
             ]
            ],
            "type": "histogram2dcontour"
           }
          ],
          "mesh3d": [
           {
            "colorbar": {
             "outlinewidth": 0,
             "ticks": ""
            },
            "type": "mesh3d"
           }
          ],
          "parcoords": [
           {
            "line": {
             "colorbar": {
              "outlinewidth": 0,
              "ticks": ""
             }
            },
            "type": "parcoords"
           }
          ],
          "pie": [
           {
            "automargin": true,
            "type": "pie"
           }
          ],
          "scatter": [
           {
            "fillpattern": {
             "fillmode": "overlay",
             "size": 10,
             "solidity": 0.2
            },
            "type": "scatter"
           }
          ],
          "scatter3d": [
           {
            "line": {
             "colorbar": {
              "outlinewidth": 0,
              "ticks": ""
             }
            },
            "marker": {
             "colorbar": {
              "outlinewidth": 0,
              "ticks": ""
             }
            },
            "type": "scatter3d"
           }
          ],
          "scattercarpet": [
           {
            "marker": {
             "colorbar": {
              "outlinewidth": 0,
              "ticks": ""
             }
            },
            "type": "scattercarpet"
           }
          ],
          "scattergeo": [
           {
            "marker": {
             "colorbar": {
              "outlinewidth": 0,
              "ticks": ""
             }
            },
            "type": "scattergeo"
           }
          ],
          "scattergl": [
           {
            "marker": {
             "colorbar": {
              "outlinewidth": 0,
              "ticks": ""
             }
            },
            "type": "scattergl"
           }
          ],
          "scattermap": [
           {
            "marker": {
             "colorbar": {
              "outlinewidth": 0,
              "ticks": ""
             }
            },
            "type": "scattermap"
           }
          ],
          "scattermapbox": [
           {
            "marker": {
             "colorbar": {
              "outlinewidth": 0,
              "ticks": ""
             }
            },
            "type": "scattermapbox"
           }
          ],
          "scatterpolar": [
           {
            "marker": {
             "colorbar": {
              "outlinewidth": 0,
              "ticks": ""
             }
            },
            "type": "scatterpolar"
           }
          ],
          "scatterpolargl": [
           {
            "marker": {
             "colorbar": {
              "outlinewidth": 0,
              "ticks": ""
             }
            },
            "type": "scatterpolargl"
           }
          ],
          "scatterternary": [
           {
            "marker": {
             "colorbar": {
              "outlinewidth": 0,
              "ticks": ""
             }
            },
            "type": "scatterternary"
           }
          ],
          "surface": [
           {
            "colorbar": {
             "outlinewidth": 0,
             "ticks": ""
            },
            "colorscale": [
             [
              0,
              "#0d0887"
             ],
             [
              0.1111111111111111,
              "#46039f"
             ],
             [
              0.2222222222222222,
              "#7201a8"
             ],
             [
              0.3333333333333333,
              "#9c179e"
             ],
             [
              0.4444444444444444,
              "#bd3786"
             ],
             [
              0.5555555555555556,
              "#d8576b"
             ],
             [
              0.6666666666666666,
              "#ed7953"
             ],
             [
              0.7777777777777778,
              "#fb9f3a"
             ],
             [
              0.8888888888888888,
              "#fdca26"
             ],
             [
              1,
              "#f0f921"
             ]
            ],
            "type": "surface"
           }
          ],
          "table": [
           {
            "cells": {
             "fill": {
              "color": "#EBF0F8"
             },
             "line": {
              "color": "white"
             }
            },
            "header": {
             "fill": {
              "color": "#C8D4E3"
             },
             "line": {
              "color": "white"
             }
            },
            "type": "table"
           }
          ]
         },
         "layout": {
          "annotationdefaults": {
           "arrowcolor": "#2a3f5f",
           "arrowhead": 0,
           "arrowwidth": 1
          },
          "autotypenumbers": "strict",
          "coloraxis": {
           "colorbar": {
            "outlinewidth": 0,
            "ticks": ""
           }
          },
          "colorscale": {
           "diverging": [
            [
             0,
             "#8e0152"
            ],
            [
             0.1,
             "#c51b7d"
            ],
            [
             0.2,
             "#de77ae"
            ],
            [
             0.3,
             "#f1b6da"
            ],
            [
             0.4,
             "#fde0ef"
            ],
            [
             0.5,
             "#f7f7f7"
            ],
            [
             0.6,
             "#e6f5d0"
            ],
            [
             0.7,
             "#b8e186"
            ],
            [
             0.8,
             "#7fbc41"
            ],
            [
             0.9,
             "#4d9221"
            ],
            [
             1,
             "#276419"
            ]
           ],
           "sequential": [
            [
             0,
             "#0d0887"
            ],
            [
             0.1111111111111111,
             "#46039f"
            ],
            [
             0.2222222222222222,
             "#7201a8"
            ],
            [
             0.3333333333333333,
             "#9c179e"
            ],
            [
             0.4444444444444444,
             "#bd3786"
            ],
            [
             0.5555555555555556,
             "#d8576b"
            ],
            [
             0.6666666666666666,
             "#ed7953"
            ],
            [
             0.7777777777777778,
             "#fb9f3a"
            ],
            [
             0.8888888888888888,
             "#fdca26"
            ],
            [
             1,
             "#f0f921"
            ]
           ],
           "sequentialminus": [
            [
             0,
             "#0d0887"
            ],
            [
             0.1111111111111111,
             "#46039f"
            ],
            [
             0.2222222222222222,
             "#7201a8"
            ],
            [
             0.3333333333333333,
             "#9c179e"
            ],
            [
             0.4444444444444444,
             "#bd3786"
            ],
            [
             0.5555555555555556,
             "#d8576b"
            ],
            [
             0.6666666666666666,
             "#ed7953"
            ],
            [
             0.7777777777777778,
             "#fb9f3a"
            ],
            [
             0.8888888888888888,
             "#fdca26"
            ],
            [
             1,
             "#f0f921"
            ]
           ]
          },
          "colorway": [
           "#636efa",
           "#EF553B",
           "#00cc96",
           "#ab63fa",
           "#FFA15A",
           "#19d3f3",
           "#FF6692",
           "#B6E880",
           "#FF97FF",
           "#FECB52"
          ],
          "font": {
           "color": "#2a3f5f"
          },
          "geo": {
           "bgcolor": "white",
           "lakecolor": "white",
           "landcolor": "white",
           "showlakes": true,
           "showland": true,
           "subunitcolor": "#C8D4E3"
          },
          "hoverlabel": {
           "align": "left"
          },
          "hovermode": "closest",
          "mapbox": {
           "style": "light"
          },
          "paper_bgcolor": "white",
          "plot_bgcolor": "white",
          "polar": {
           "angularaxis": {
            "gridcolor": "#EBF0F8",
            "linecolor": "#EBF0F8",
            "ticks": ""
           },
           "bgcolor": "white",
           "radialaxis": {
            "gridcolor": "#EBF0F8",
            "linecolor": "#EBF0F8",
            "ticks": ""
           }
          },
          "scene": {
           "xaxis": {
            "backgroundcolor": "white",
            "gridcolor": "#DFE8F3",
            "gridwidth": 2,
            "linecolor": "#EBF0F8",
            "showbackground": true,
            "ticks": "",
            "zerolinecolor": "#EBF0F8"
           },
           "yaxis": {
            "backgroundcolor": "white",
            "gridcolor": "#DFE8F3",
            "gridwidth": 2,
            "linecolor": "#EBF0F8",
            "showbackground": true,
            "ticks": "",
            "zerolinecolor": "#EBF0F8"
           },
           "zaxis": {
            "backgroundcolor": "white",
            "gridcolor": "#DFE8F3",
            "gridwidth": 2,
            "linecolor": "#EBF0F8",
            "showbackground": true,
            "ticks": "",
            "zerolinecolor": "#EBF0F8"
           }
          },
          "shapedefaults": {
           "line": {
            "color": "#2a3f5f"
           }
          },
          "ternary": {
           "aaxis": {
            "gridcolor": "#DFE8F3",
            "linecolor": "#A2B1C6",
            "ticks": ""
           },
           "baxis": {
            "gridcolor": "#DFE8F3",
            "linecolor": "#A2B1C6",
            "ticks": ""
           },
           "bgcolor": "white",
           "caxis": {
            "gridcolor": "#DFE8F3",
            "linecolor": "#A2B1C6",
            "ticks": ""
           }
          },
          "title": {
           "x": 0.05
          },
          "xaxis": {
           "automargin": true,
           "gridcolor": "#EBF0F8",
           "linecolor": "#EBF0F8",
           "ticks": "",
           "title": {
            "standoff": 15
           },
           "zerolinecolor": "#EBF0F8",
           "zerolinewidth": 2
          },
          "yaxis": {
           "automargin": true,
           "gridcolor": "#EBF0F8",
           "linecolor": "#EBF0F8",
           "ticks": "",
           "title": {
            "standoff": 15
           },
           "zerolinecolor": "#EBF0F8",
           "zerolinewidth": 2
          }
         }
        },
        "title": {
         "font": {
          "color": "black",
          "family": "Cardo",
          "size": 27
         },
         "text": "<span style='color: black; font-weight: normal;'>$RAY Buybacks Over Time</span><br><sub style='font-size: 18px; color: black; font-weight: normal;'>Daily through 2024-09-23 00:00:00</sub>",
         "x": 0.1,
         "xanchor": "left",
         "y": 0.9,
         "yanchor": "top"
        },
        "width": 730,
        "xaxis": {
         "anchor": "y",
         "domain": [
          0,
          0.94
         ],
         "tickfont": {
          "color": "black"
         }
        },
        "yaxis": {
         "anchor": "x",
         "color": "#5d7e69",
         "domain": [
          0,
          1
         ],
         "tickprefix": "",
         "title": {
          "text": "CUMULATIVE RAY BOUGHT"
         }
        },
        "yaxis2": {
         "anchor": "x",
         "color": "#cfff9e",
         "overlaying": "y",
         "side": "right",
         "tickprefix": "$",
         "title": {
          "text": "CUMULATIVE USDC SPENT"
         }
        }
       }
      }
     },
     "metadata": {},
     "output_type": "display_data"
    },
    {
     "name": "stdout",
     "output_type": "stream",
     "text": [
      "Saving figure to: img\\$RAY Buybacks Over Time.png\n"
     ]
    }
   ],
   "source": [
    "cm = ChartMaker(shuffle_colors=True)\n",
    "cm.build(\n",
    "    df = test_df1,\n",
    "    axes_data=dict(y1=['cumulative_ray_bought'],\n",
    "                    y2=['cumulative_usdc_spent']),\n",
    "    title='$RAY Buybacks Over Time',\n",
    "    chart_type={'y1':'line','y2':'bar'},\n",
    "    options = {'margin':dict(t=100),'annotations':True,\n",
    "                'tickprefix':{'y2':'$'},'auto_title':True,\n",
    "                'show_legend':True,'legend_placement':{'x':1.1,'y':1}},\n",
    ")\n",
    "cm.add_title(\n",
    "    title='$RAY Buybacks Over Time',\n",
    "    subtitle=f'Daily through {test_df1.index.max()}',\n",
    "    x=0.1,\n",
    "    y=0.9\n",
    ")\n",
    "cm.add_annotations()\n",
    "cm.show_fig()\n",
    "cm.save_fig(save_directory='img')"
   ]
  },
  {
   "cell_type": "code",
   "execution_count": 8,
   "id": "64d67743",
   "metadata": {},
   "outputs": [
    {
     "data": {
      "text/html": [
       "<div>\n",
       "<style scoped>\n",
       "    .dataframe tbody tr th:only-of-type {\n",
       "        vertical-align: middle;\n",
       "    }\n",
       "\n",
       "    .dataframe tbody tr th {\n",
       "        vertical-align: top;\n",
       "    }\n",
       "\n",
       "    .dataframe thead th {\n",
       "        text-align: right;\n",
       "    }\n",
       "</style>\n",
       "<table border=\"1\" class=\"dataframe\">\n",
       "  <thead>\n",
       "    <tr style=\"text-align: right;\">\n",
       "      <th></th>\n",
       "      <th>chain</th>\n",
       "      <th>netflows - YTD</th>\n",
       "    </tr>\n",
       "  </thead>\n",
       "  <tbody>\n",
       "    <tr>\n",
       "      <th>0</th>\n",
       "      <td>Base</td>\n",
       "      <td>3000000000</td>\n",
       "    </tr>\n",
       "    <tr>\n",
       "      <th>1</th>\n",
       "      <td>Berachain</td>\n",
       "      <td>1300000000</td>\n",
       "    </tr>\n",
       "    <tr>\n",
       "      <th>2</th>\n",
       "      <td>Sonic</td>\n",
       "      <td>1200000000</td>\n",
       "    </tr>\n",
       "    <tr>\n",
       "      <th>3</th>\n",
       "      <td>Solana</td>\n",
       "      <td>440200000</td>\n",
       "    </tr>\n",
       "    <tr>\n",
       "      <th>4</th>\n",
       "      <td>Avalanche</td>\n",
       "      <td>-128100000</td>\n",
       "    </tr>\n",
       "    <tr>\n",
       "      <th>5</th>\n",
       "      <td>zkSync Era</td>\n",
       "      <td>-216100000</td>\n",
       "    </tr>\n",
       "    <tr>\n",
       "      <th>6</th>\n",
       "      <td>OP Mainnnet</td>\n",
       "      <td>-384900000</td>\n",
       "    </tr>\n",
       "    <tr>\n",
       "      <th>7</th>\n",
       "      <td>Blast</td>\n",
       "      <td>-448600000</td>\n",
       "    </tr>\n",
       "    <tr>\n",
       "      <th>8</th>\n",
       "      <td>Ethereum</td>\n",
       "      <td>-1400000000</td>\n",
       "    </tr>\n",
       "    <tr>\n",
       "      <th>9</th>\n",
       "      <td>Arbitrum</td>\n",
       "      <td>-3000000000</td>\n",
       "    </tr>\n",
       "  </tbody>\n",
       "</table>\n",
       "</div>"
      ],
      "text/plain": [
       "         chain  netflows - YTD\n",
       "0         Base      3000000000\n",
       "1    Berachain      1300000000\n",
       "2        Sonic      1200000000\n",
       "3       Solana       440200000\n",
       "4    Avalanche      -128100000\n",
       "5   zkSync Era      -216100000\n",
       "6  OP Mainnnet      -384900000\n",
       "7        Blast      -448600000\n",
       "8     Ethereum     -1400000000\n",
       "9     Arbitrum     -3000000000"
      ]
     },
     "execution_count": 8,
     "metadata": {},
     "output_type": "execute_result"
    }
   ],
   "source": [
    "test_dfbar = test_cleaner.to_df(r'data/flows_by_chain.csv')\n",
    "test_dfbar, time_freq =  test_cleaner.to_time(test_dfbar)\n",
    "test_dfbar"
   ]
  },
  {
   "cell_type": "code",
   "execution_count": 9,
   "id": "f1183d67",
   "metadata": {},
   "outputs": [
    {
     "name": "stdout",
     "output_type": "stream",
     "text": [
      "kind: None\n",
      "chart_type: {'y1': 'bar', 'y2': 'bar'}\n",
      "groupby and numcol passed\n"
     ]
    },
    {
     "data": {
      "application/vnd.plotly.v1+json": {
       "config": {
        "linkText": "Export to plot.ly",
        "plotlyServerURL": "https://plot.ly",
        "showLink": false
       },
       "data": [
        {
         "marker": {
          "color": "#d60000"
         },
         "name": "Base ($3.0B)",
         "showlegend": true,
         "type": "bar",
         "x": [
          "Base"
         ],
         "xaxis": "x",
         "y": [
          3000000000
         ],
         "yaxis": "y"
        },
        {
         "marker": {
          "color": "#15e18c"
         },
         "name": "Berachain ($1.3B)",
         "showlegend": true,
         "type": "bar",
         "x": [
          "Berachain"
         ],
         "xaxis": "x",
         "y": [
          1300000000
         ],
         "yaxis": "y"
        },
        {
         "marker": {
          "color": "#c38285"
         },
         "name": "Sonic ($1.2B)",
         "showlegend": true,
         "type": "bar",
         "x": [
          "Sonic"
         ],
         "xaxis": "x",
         "y": [
          1200000000
         ],
         "yaxis": "y"
        },
        {
         "marker": {
          "color": "#b1e400"
         },
         "name": "Solana ($440.2M)",
         "showlegend": true,
         "type": "bar",
         "x": [
          "Solana"
         ],
         "xaxis": "x",
         "y": [
          440200000
         ],
         "yaxis": "y"
        },
        {
         "marker": {
          "color": "#118e54"
         },
         "name": "Avalanche ($-128.1M)",
         "showlegend": true,
         "type": "bar",
         "x": [
          "Avalanche"
         ],
         "xaxis": "x",
         "y": [
          -128100000
         ],
         "yaxis": "y"
        },
        {
         "marker": {
          "color": "#a65628"
         },
         "name": "zkSync Era ($-216.1M)",
         "showlegend": true,
         "type": "bar",
         "x": [
          "zkSync Era"
         ],
         "xaxis": "x",
         "y": [
          -216100000
         ],
         "yaxis": "y"
        },
        {
         "marker": {
          "color": "#636EFA"
         },
         "name": "OP Mainnnet ($-384.9M)",
         "showlegend": true,
         "type": "bar",
         "x": [
          "OP Mainnnet"
         ],
         "xaxis": "x",
         "y": [
          -384900000
         ],
         "yaxis": "y"
        },
        {
         "marker": {
          "color": "#6466ef"
         },
         "name": "Blast ($-448.6M)",
         "showlegend": true,
         "type": "bar",
         "x": [
          "Blast"
         ],
         "xaxis": "x",
         "y": [
          -448600000
         ],
         "yaxis": "y"
        },
        {
         "marker": {
          "color": "#ac8399"
         },
         "name": "Ethereum ($-1.4B)",
         "showlegend": true,
         "type": "bar",
         "x": [
          "Ethereum"
         ],
         "xaxis": "x",
         "y": [
          -1400000000
         ],
         "yaxis": "y"
        },
        {
         "marker": {
          "color": "#79ae6b"
         },
         "name": "Arbitrum ($-3.0B)",
         "showlegend": true,
         "type": "bar",
         "x": [
          "Arbitrum"
         ],
         "xaxis": "x",
         "y": [
          -3000000000
         ],
         "yaxis": "y"
        }
       ],
       "layout": {
        "autosize": true,
        "barmode": "stack",
        "font": {
         "color": "black",
         "family": "Cardo"
        },
        "height": 400,
        "hovermode": "x unified",
        "legend": {
         "bgcolor": "rgba(0,0,0,0)",
         "bordercolor": "rgba(0,0,0,0)",
         "borderwidth": 1,
         "orientation": "v",
         "traceorder": "normal",
         "x": 1.1,
         "xanchor": "left",
         "y": 1,
         "yanchor": "top"
        },
        "margin": {
         "t": 100
        },
        "template": {
         "data": {
          "bar": [
           {
            "error_x": {
             "color": "#2a3f5f"
            },
            "error_y": {
             "color": "#2a3f5f"
            },
            "marker": {
             "line": {
              "color": "white",
              "width": 0.5
             },
             "pattern": {
              "fillmode": "overlay",
              "size": 10,
              "solidity": 0.2
             }
            },
            "type": "bar"
           }
          ],
          "barpolar": [
           {
            "marker": {
             "line": {
              "color": "white",
              "width": 0.5
             },
             "pattern": {
              "fillmode": "overlay",
              "size": 10,
              "solidity": 0.2
             }
            },
            "type": "barpolar"
           }
          ],
          "carpet": [
           {
            "aaxis": {
             "endlinecolor": "#2a3f5f",
             "gridcolor": "#C8D4E3",
             "linecolor": "#C8D4E3",
             "minorgridcolor": "#C8D4E3",
             "startlinecolor": "#2a3f5f"
            },
            "baxis": {
             "endlinecolor": "#2a3f5f",
             "gridcolor": "#C8D4E3",
             "linecolor": "#C8D4E3",
             "minorgridcolor": "#C8D4E3",
             "startlinecolor": "#2a3f5f"
            },
            "type": "carpet"
           }
          ],
          "choropleth": [
           {
            "colorbar": {
             "outlinewidth": 0,
             "ticks": ""
            },
            "type": "choropleth"
           }
          ],
          "contour": [
           {
            "colorbar": {
             "outlinewidth": 0,
             "ticks": ""
            },
            "colorscale": [
             [
              0,
              "#0d0887"
             ],
             [
              0.1111111111111111,
              "#46039f"
             ],
             [
              0.2222222222222222,
              "#7201a8"
             ],
             [
              0.3333333333333333,
              "#9c179e"
             ],
             [
              0.4444444444444444,
              "#bd3786"
             ],
             [
              0.5555555555555556,
              "#d8576b"
             ],
             [
              0.6666666666666666,
              "#ed7953"
             ],
             [
              0.7777777777777778,
              "#fb9f3a"
             ],
             [
              0.8888888888888888,
              "#fdca26"
             ],
             [
              1,
              "#f0f921"
             ]
            ],
            "type": "contour"
           }
          ],
          "contourcarpet": [
           {
            "colorbar": {
             "outlinewidth": 0,
             "ticks": ""
            },
            "type": "contourcarpet"
           }
          ],
          "heatmap": [
           {
            "colorbar": {
             "outlinewidth": 0,
             "ticks": ""
            },
            "colorscale": [
             [
              0,
              "#0d0887"
             ],
             [
              0.1111111111111111,
              "#46039f"
             ],
             [
              0.2222222222222222,
              "#7201a8"
             ],
             [
              0.3333333333333333,
              "#9c179e"
             ],
             [
              0.4444444444444444,
              "#bd3786"
             ],
             [
              0.5555555555555556,
              "#d8576b"
             ],
             [
              0.6666666666666666,
              "#ed7953"
             ],
             [
              0.7777777777777778,
              "#fb9f3a"
             ],
             [
              0.8888888888888888,
              "#fdca26"
             ],
             [
              1,
              "#f0f921"
             ]
            ],
            "type": "heatmap"
           }
          ],
          "histogram": [
           {
            "marker": {
             "pattern": {
              "fillmode": "overlay",
              "size": 10,
              "solidity": 0.2
             }
            },
            "type": "histogram"
           }
          ],
          "histogram2d": [
           {
            "colorbar": {
             "outlinewidth": 0,
             "ticks": ""
            },
            "colorscale": [
             [
              0,
              "#0d0887"
             ],
             [
              0.1111111111111111,
              "#46039f"
             ],
             [
              0.2222222222222222,
              "#7201a8"
             ],
             [
              0.3333333333333333,
              "#9c179e"
             ],
             [
              0.4444444444444444,
              "#bd3786"
             ],
             [
              0.5555555555555556,
              "#d8576b"
             ],
             [
              0.6666666666666666,
              "#ed7953"
             ],
             [
              0.7777777777777778,
              "#fb9f3a"
             ],
             [
              0.8888888888888888,
              "#fdca26"
             ],
             [
              1,
              "#f0f921"
             ]
            ],
            "type": "histogram2d"
           }
          ],
          "histogram2dcontour": [
           {
            "colorbar": {
             "outlinewidth": 0,
             "ticks": ""
            },
            "colorscale": [
             [
              0,
              "#0d0887"
             ],
             [
              0.1111111111111111,
              "#46039f"
             ],
             [
              0.2222222222222222,
              "#7201a8"
             ],
             [
              0.3333333333333333,
              "#9c179e"
             ],
             [
              0.4444444444444444,
              "#bd3786"
             ],
             [
              0.5555555555555556,
              "#d8576b"
             ],
             [
              0.6666666666666666,
              "#ed7953"
             ],
             [
              0.7777777777777778,
              "#fb9f3a"
             ],
             [
              0.8888888888888888,
              "#fdca26"
             ],
             [
              1,
              "#f0f921"
             ]
            ],
            "type": "histogram2dcontour"
           }
          ],
          "mesh3d": [
           {
            "colorbar": {
             "outlinewidth": 0,
             "ticks": ""
            },
            "type": "mesh3d"
           }
          ],
          "parcoords": [
           {
            "line": {
             "colorbar": {
              "outlinewidth": 0,
              "ticks": ""
             }
            },
            "type": "parcoords"
           }
          ],
          "pie": [
           {
            "automargin": true,
            "type": "pie"
           }
          ],
          "scatter": [
           {
            "fillpattern": {
             "fillmode": "overlay",
             "size": 10,
             "solidity": 0.2
            },
            "type": "scatter"
           }
          ],
          "scatter3d": [
           {
            "line": {
             "colorbar": {
              "outlinewidth": 0,
              "ticks": ""
             }
            },
            "marker": {
             "colorbar": {
              "outlinewidth": 0,
              "ticks": ""
             }
            },
            "type": "scatter3d"
           }
          ],
          "scattercarpet": [
           {
            "marker": {
             "colorbar": {
              "outlinewidth": 0,
              "ticks": ""
             }
            },
            "type": "scattercarpet"
           }
          ],
          "scattergeo": [
           {
            "marker": {
             "colorbar": {
              "outlinewidth": 0,
              "ticks": ""
             }
            },
            "type": "scattergeo"
           }
          ],
          "scattergl": [
           {
            "marker": {
             "colorbar": {
              "outlinewidth": 0,
              "ticks": ""
             }
            },
            "type": "scattergl"
           }
          ],
          "scattermap": [
           {
            "marker": {
             "colorbar": {
              "outlinewidth": 0,
              "ticks": ""
             }
            },
            "type": "scattermap"
           }
          ],
          "scattermapbox": [
           {
            "marker": {
             "colorbar": {
              "outlinewidth": 0,
              "ticks": ""
             }
            },
            "type": "scattermapbox"
           }
          ],
          "scatterpolar": [
           {
            "marker": {
             "colorbar": {
              "outlinewidth": 0,
              "ticks": ""
             }
            },
            "type": "scatterpolar"
           }
          ],
          "scatterpolargl": [
           {
            "marker": {
             "colorbar": {
              "outlinewidth": 0,
              "ticks": ""
             }
            },
            "type": "scatterpolargl"
           }
          ],
          "scatterternary": [
           {
            "marker": {
             "colorbar": {
              "outlinewidth": 0,
              "ticks": ""
             }
            },
            "type": "scatterternary"
           }
          ],
          "surface": [
           {
            "colorbar": {
             "outlinewidth": 0,
             "ticks": ""
            },
            "colorscale": [
             [
              0,
              "#0d0887"
             ],
             [
              0.1111111111111111,
              "#46039f"
             ],
             [
              0.2222222222222222,
              "#7201a8"
             ],
             [
              0.3333333333333333,
              "#9c179e"
             ],
             [
              0.4444444444444444,
              "#bd3786"
             ],
             [
              0.5555555555555556,
              "#d8576b"
             ],
             [
              0.6666666666666666,
              "#ed7953"
             ],
             [
              0.7777777777777778,
              "#fb9f3a"
             ],
             [
              0.8888888888888888,
              "#fdca26"
             ],
             [
              1,
              "#f0f921"
             ]
            ],
            "type": "surface"
           }
          ],
          "table": [
           {
            "cells": {
             "fill": {
              "color": "#EBF0F8"
             },
             "line": {
              "color": "white"
             }
            },
            "header": {
             "fill": {
              "color": "#C8D4E3"
             },
             "line": {
              "color": "white"
             }
            },
            "type": "table"
           }
          ]
         },
         "layout": {
          "annotationdefaults": {
           "arrowcolor": "#2a3f5f",
           "arrowhead": 0,
           "arrowwidth": 1
          },
          "autotypenumbers": "strict",
          "coloraxis": {
           "colorbar": {
            "outlinewidth": 0,
            "ticks": ""
           }
          },
          "colorscale": {
           "diverging": [
            [
             0,
             "#8e0152"
            ],
            [
             0.1,
             "#c51b7d"
            ],
            [
             0.2,
             "#de77ae"
            ],
            [
             0.3,
             "#f1b6da"
            ],
            [
             0.4,
             "#fde0ef"
            ],
            [
             0.5,
             "#f7f7f7"
            ],
            [
             0.6,
             "#e6f5d0"
            ],
            [
             0.7,
             "#b8e186"
            ],
            [
             0.8,
             "#7fbc41"
            ],
            [
             0.9,
             "#4d9221"
            ],
            [
             1,
             "#276419"
            ]
           ],
           "sequential": [
            [
             0,
             "#0d0887"
            ],
            [
             0.1111111111111111,
             "#46039f"
            ],
            [
             0.2222222222222222,
             "#7201a8"
            ],
            [
             0.3333333333333333,
             "#9c179e"
            ],
            [
             0.4444444444444444,
             "#bd3786"
            ],
            [
             0.5555555555555556,
             "#d8576b"
            ],
            [
             0.6666666666666666,
             "#ed7953"
            ],
            [
             0.7777777777777778,
             "#fb9f3a"
            ],
            [
             0.8888888888888888,
             "#fdca26"
            ],
            [
             1,
             "#f0f921"
            ]
           ],
           "sequentialminus": [
            [
             0,
             "#0d0887"
            ],
            [
             0.1111111111111111,
             "#46039f"
            ],
            [
             0.2222222222222222,
             "#7201a8"
            ],
            [
             0.3333333333333333,
             "#9c179e"
            ],
            [
             0.4444444444444444,
             "#bd3786"
            ],
            [
             0.5555555555555556,
             "#d8576b"
            ],
            [
             0.6666666666666666,
             "#ed7953"
            ],
            [
             0.7777777777777778,
             "#fb9f3a"
            ],
            [
             0.8888888888888888,
             "#fdca26"
            ],
            [
             1,
             "#f0f921"
            ]
           ]
          },
          "colorway": [
           "#636efa",
           "#EF553B",
           "#00cc96",
           "#ab63fa",
           "#FFA15A",
           "#19d3f3",
           "#FF6692",
           "#B6E880",
           "#FF97FF",
           "#FECB52"
          ],
          "font": {
           "color": "#2a3f5f"
          },
          "geo": {
           "bgcolor": "white",
           "lakecolor": "white",
           "landcolor": "white",
           "showlakes": true,
           "showland": true,
           "subunitcolor": "#C8D4E3"
          },
          "hoverlabel": {
           "align": "left"
          },
          "hovermode": "closest",
          "mapbox": {
           "style": "light"
          },
          "paper_bgcolor": "white",
          "plot_bgcolor": "white",
          "polar": {
           "angularaxis": {
            "gridcolor": "#EBF0F8",
            "linecolor": "#EBF0F8",
            "ticks": ""
           },
           "bgcolor": "white",
           "radialaxis": {
            "gridcolor": "#EBF0F8",
            "linecolor": "#EBF0F8",
            "ticks": ""
           }
          },
          "scene": {
           "xaxis": {
            "backgroundcolor": "white",
            "gridcolor": "#DFE8F3",
            "gridwidth": 2,
            "linecolor": "#EBF0F8",
            "showbackground": true,
            "ticks": "",
            "zerolinecolor": "#EBF0F8"
           },
           "yaxis": {
            "backgroundcolor": "white",
            "gridcolor": "#DFE8F3",
            "gridwidth": 2,
            "linecolor": "#EBF0F8",
            "showbackground": true,
            "ticks": "",
            "zerolinecolor": "#EBF0F8"
           },
           "zaxis": {
            "backgroundcolor": "white",
            "gridcolor": "#DFE8F3",
            "gridwidth": 2,
            "linecolor": "#EBF0F8",
            "showbackground": true,
            "ticks": "",
            "zerolinecolor": "#EBF0F8"
           }
          },
          "shapedefaults": {
           "line": {
            "color": "#2a3f5f"
           }
          },
          "ternary": {
           "aaxis": {
            "gridcolor": "#DFE8F3",
            "linecolor": "#A2B1C6",
            "ticks": ""
           },
           "baxis": {
            "gridcolor": "#DFE8F3",
            "linecolor": "#A2B1C6",
            "ticks": ""
           },
           "bgcolor": "white",
           "caxis": {
            "gridcolor": "#DFE8F3",
            "linecolor": "#A2B1C6",
            "ticks": ""
           }
          },
          "title": {
           "x": 0.05
          },
          "xaxis": {
           "automargin": true,
           "gridcolor": "#EBF0F8",
           "linecolor": "#EBF0F8",
           "ticks": "",
           "title": {
            "standoff": 15
           },
           "zerolinecolor": "#EBF0F8",
           "zerolinewidth": 2
          },
          "yaxis": {
           "automargin": true,
           "gridcolor": "#EBF0F8",
           "linecolor": "#EBF0F8",
           "ticks": "",
           "title": {
            "standoff": 15
           },
           "zerolinecolor": "#EBF0F8",
           "zerolinewidth": 2
          }
         }
        },
        "title": {
         "font": {
          "color": "black",
          "family": "Cardo",
          "size": 27
         },
         "text": "<span style='color: black; font-weight: normal;'>YTD Bridge Flows by Chain</span><br><sub style='font-size: 18px; color: black; font-weight: normal;'></sub>",
         "x": 0.1,
         "xanchor": "left",
         "y": 0.9,
         "yanchor": "top"
        },
        "width": 730,
        "xaxis": {
         "anchor": "y",
         "domain": [
          0,
          0.94
         ],
         "tickfont": {
          "color": "black"
         }
        },
        "yaxis": {
         "anchor": "x",
         "color": "black",
         "domain": [
          0,
          1
         ],
         "tickprefix": "$"
        },
        "yaxis2": {
         "anchor": "x",
         "color": "black",
         "overlaying": "y",
         "side": "right",
         "tickprefix": ""
        }
       }
      }
     },
     "metadata": {},
     "output_type": "display_data"
    }
   ],
   "source": [
    "cm = ChartMaker(shuffle_colors=True)\n",
    "cm.build(\n",
    "    df=test_dfbar,\n",
    "    groupby_col='chain', \n",
    "    num_col='netflows - YTD',\n",
    "    title='YTD Bridge Flows by Chain',\n",
    "    chart_type='bar',\n",
    "    options={\n",
    "        'margin': dict(t=100),\n",
    "        'annotations': True,\n",
    "        'tickprefix': {'y1': '$'},\n",
    "        'auto_title': True,\n",
    "        'show_legend': True,\n",
    "        'legend_placement': {'x': 1.1, 'y': 1}\n",
    "    }\n",
    ")\n",
    "cm.add_title(\n",
    "    x=0.1,\n",
    "    y=0.9\n",
    ")\n",
    "\n",
    "cm.show_fig()"
   ]
  },
  {
   "cell_type": "markdown",
   "id": "8e0000a3",
   "metadata": {},
   "source": [
    "# Pie"
   ]
  },
  {
   "cell_type": "code",
   "execution_count": 10,
   "id": "b5800ced",
   "metadata": {},
   "outputs": [
    {
     "data": {
      "text/html": [
       "<div>\n",
       "<style scoped>\n",
       "    .dataframe tbody tr th:only-of-type {\n",
       "        vertical-align: middle;\n",
       "    }\n",
       "\n",
       "    .dataframe tbody tr th {\n",
       "        vertical-align: top;\n",
       "    }\n",
       "\n",
       "    .dataframe thead th {\n",
       "        text-align: right;\n",
       "    }\n",
       "</style>\n",
       "<table border=\"1\" class=\"dataframe\">\n",
       "  <thead>\n",
       "    <tr style=\"text-align: right;\">\n",
       "      <th></th>\n",
       "      <th>CHAIN</th>\n",
       "      <th>TOTAL_VOLUME_BRIDGED</th>\n",
       "    </tr>\n",
       "  </thead>\n",
       "  <tbody>\n",
       "    <tr>\n",
       "      <th>0</th>\n",
       "      <td>Arbitrum</td>\n",
       "      <td>5.724014e+08</td>\n",
       "    </tr>\n",
       "    <tr>\n",
       "      <th>1</th>\n",
       "      <td>Ethereum</td>\n",
       "      <td>3.858281e+08</td>\n",
       "    </tr>\n",
       "    <tr>\n",
       "      <th>2</th>\n",
       "      <td>Avalanche</td>\n",
       "      <td>3.648964e+08</td>\n",
       "    </tr>\n",
       "    <tr>\n",
       "      <th>3</th>\n",
       "      <td>Polygon</td>\n",
       "      <td>3.231033e+08</td>\n",
       "    </tr>\n",
       "    <tr>\n",
       "      <th>4</th>\n",
       "      <td>Optimism</td>\n",
       "      <td>2.751040e+08</td>\n",
       "    </tr>\n",
       "    <tr>\n",
       "      <th>5</th>\n",
       "      <td>Base</td>\n",
       "      <td>2.330525e+08</td>\n",
       "    </tr>\n",
       "    <tr>\n",
       "      <th>6</th>\n",
       "      <td>BSC</td>\n",
       "      <td>4.250442e+05</td>\n",
       "    </tr>\n",
       "  </tbody>\n",
       "</table>\n",
       "</div>"
      ],
      "text/plain": [
       "       CHAIN  TOTAL_VOLUME_BRIDGED\n",
       "0   Arbitrum          5.724014e+08\n",
       "1   Ethereum          3.858281e+08\n",
       "2  Avalanche          3.648964e+08\n",
       "3    Polygon          3.231033e+08\n",
       "4   Optimism          2.751040e+08\n",
       "5       Base          2.330525e+08\n",
       "6        BSC          4.250442e+05"
      ]
     },
     "execution_count": 10,
     "metadata": {},
     "output_type": "execute_result"
    }
   ],
   "source": [
    "test_df2 = test_cleaner.to_df(r'data/stargate_1.csv')\n",
    "test_df2, time_freq =  test_cleaner.to_time(test_df2)\n",
    "test_df2.dropna(inplace=True)\n",
    "test_df2"
   ]
  },
  {
   "cell_type": "code",
   "execution_count": 26,
   "id": "7f06d616",
   "metadata": {},
   "outputs": [
    {
     "name": "stdout",
     "output_type": "stream",
     "text": [
      "df_copy:            TOTAL_VOLUME_BRIDGED\n",
      "CHAIN                          \n",
      "Arbitrum           5.724014e+08\n",
      "Avalanche          3.648964e+08\n",
      "BSC                4.250442e+05\n",
      "Base               2.330525e+08\n",
      "Ethereum           3.858281e+08\n",
      "Optimism           2.751040e+08\n",
      "Polygon            3.231033e+08\n"
     ]
    },
    {
     "data": {
      "application/vnd.plotly.v1+json": {
       "config": {
        "linkText": "Export to plot.ly",
        "plotlyServerURL": "https://plot.ly",
        "showLink": false
       },
       "data": [
        {
         "hole": 0,
         "labels": [
          "Arbitrum    ",
          "Ethereum    ",
          "Avalanche    ",
          "Polygon    ",
          "Optimism    ",
          "Base    ",
          "BSC    "
         ],
         "marker": {
          "colors": [
           "#00ebed",
           "#89dbb3",
           "#cdbfe4",
           "#baaa80",
           "#af5dd1",
           "#EF553B",
           "#0a8289",
           "#727790",
           "#778AAE",
           "#db72c8",
           "#705470",
           "rgb(188,128,189)",
           "#cfff9e",
           "#ffbad6",
           "#bf03b8",
           "#0064a3",
           "#e1b669",
           "#335726",
           "#c14103",
           "#c35dba",
           "#6baf36",
           "#a33b74",
           "#01824d",
           "#d442fd",
           "#34574d",
           "#a56b97",
           "#6d5b95",
           "#6e70aa",
           "#a55b6b",
           "#1f3400",
           "#00A08B",
           "#3b6d01",
           "#60006e",
           "#eb01c3",
           "#7cc6d8",
           "#87a8eb",
           "#ff7ed1",
           "#6e6e31",
           "#b3723b",
           "#48ffef",
           "#aa80cd",
           "#DA16FF",
           "#511CFB",
           "#a3bff6",
           "#72b8ff",
           "#eda5da",
           "#9467bd",
           "#aed1d4",
           "#1ca1ff",
           "#590f00",
           "#7b4b85",
           "#7ecaff",
           "#bc006b",
           "#547c72",
           "#c63189",
           "#8a85ae",
           "#ff3464",
           "#50807c",
           "#0D2A63",
           "#a19564",
           "#d6fbff",
           "#839564",
           "#876bd8",
           "#4d60b5",
           "#ba00fd",
           "#d88052",
           "#636EFA",
           "#dfbcda",
           "#a7423b",
           "#335769",
           "#e6a500",
           "#824638",
           "#7b4600",
           "#380000",
           "#c8c33f",
           "#f2db8a",
           "#7e2a8e",
           "#b58346",
           "#b6d4eb",
           "#d60000",
           "#aa5dca",
           "#915280",
           "#526077",
           "#8956af",
           "#487031",
           "#8c9ab1",
           "#f64470",
           "#11421c",
           "#086b83",
           "#03dae6",
           "#db7e01",
           "#018700",
           "#4b4f01",
           "#573b00",
           "#FF6692",
           "#856277",
           "#d48580",
           "#bceddb",
           "#dd662d",
           "#a1216b",
           "#d182a3",
           "#5901a3",
           "#f26952",
           "#00c846",
           "#ff548e",
           "#a08052",
           "#7cb569",
           "#cc9790",
           "#cd83bc",
           "#a17569",
           "#6ee956",
           "#ff8734",
           "#c38285",
           "#9387a7",
           "#e16e31",
           "#ff9703",
           "#599000",
           "#5d7e69",
           "#9900c4",
           "#d8b391",
           "#ac8399",
           "#07ef00",
           "#FB0D0D",
           "#9e0174",
           "#fb9ca7",
           "#6b9700",
           "#645472",
           "#0000dd",
           "#90318e",
           "#826723",
           "#b87500",
           "#222A2A",
           "#ac1a13",
           "#d89c89",
           "#60383b",
           "#862A16",
           "#fd1500",
           "#4d33ff",
           "#d14867",
           "#6dd4c1",
           "#afa5ff",
           "#a57bb8",
           "#dfcf5b",
           "#a795c6",
           "#59502a",
           "#2d9ed3",
           "#ff7752",
           "#e377c2",
           "#ed67ff",
           "#1859ff",
           "#ffa056",
           "#ffb500",
           "#446966",
           "#e2857e",
           "#87004f",
           "#009e7c",
           "#805059",
           "#ff9070",
           "#d19570",
           "#db9036",
           "#ff59da",
           "#832f33",
           "#6466ef",
           "rgb(217,217,217)",
           "#6C4516",
           "#9c5642",
           "#647748",
           "#d1b1eb",
           "#5979c8",
           "#d154a5",
           "#905b01",
           "#bac389",
           "#9c60a5",
           "#8a0031",
           "#2d6b4d",
           "#a75423",
           "#984ea3",
           "#bc66b8",
           "#79ae6b",
           "#a1cdff",
           "#eb0552",
           "#EB663B",
           "#ddd3a5",
           "#8e7b01",
           "#ba8c7c",
           "#FECB52",
           "#b5005e",
           "#623f28",
           "#2b7e60",
           "#4d4d79",
           "#316200",
           "#c67ee8",
           "#FFA15A",
           "#97414d",
           "#DA60CA",
           "#dad4ff",
           "#c46970",
           "#85c39a",
           "#ef52a3",
           "#d62728",
           "#aa3b36",
           "#59b5df",
           "#85d401",
           "#df4dcd",
           "#e82fa0",
           "#f90087",
           "#596d00",
           "#A777F1",
           "#9cffff",
           "#a0ba52",
           "#979548",
           "#d1afef",
           "#c395a5",
           "#fdf490",
           "#0054c1",
           "#9aaa85",
           "#00ba69",
           "#00d6a7",
           "#a65628",
           "#aa002d",
           "#ff49b1",
           "#ffd4ef",
           "#4985ff",
           "#829026",
           "#6b8567",
           "#5d213d",
           "#e47ba7",
           "#790000",
           "#b55662",
           "#b53a85",
           "#e6a872",
           "#e41a1c",
           "#e9ff79",
           "#9e698c",
           "#c144bc",
           "#16a300",
           "#da015d",
           "#dbbc95",
           "#bd6ea1",
           "#015438",
           "#7242a3",
           "#1f77b4",
           "#caff4f",
           "#b8ba01",
           "#ffa52f",
           "#755900",
           "#e28c62",
           "#f4bfb1",
           "#b89028",
           "rgb(141,211,199)",
           "#00753f",
           "#caaa5e",
           "rgb(251,128,114)",
           "#7bacb5",
           "#546744",
           "#93ac83",
           "#acaa59",
           "#afa501",
           "#fd77ff",
           "#568e5b",
           "#00cff9",
           "#6e00eb",
           "#c86e66",
           "#80d3dd",
           "#b3cd00",
           "rgb(252,205,229)",
           "#4f6e52",
           "#79525e",
           "#31d400",
           "#AB63FA",
           "#ffcd03",
           "#AF0038",
           "#aa6e66",
           "#ff9c87",
           "#49a150",
           "#005659",
           "#7ea59a",
           "#009aa0",
           "#b1e400",
           "#ffff33",
           "rgb(255,255,179)",
           "#00dfc3",
           "#9e6e31",
           "#a34ba8",
           "#b6cfaa",
           "#b33b01",
           "#c89a69",
           "#ff6989",
           "#642821",
           "#9946ae",
           "#e299b3",
           "#798a9e",
           "#bfbc4d",
           "#ff7f00",
           "#99acdd",
           "#377eb8",
           "#dbafc8",
           "#89ba00",
           "#bfedbc",
           "#729a7c",
           "#b8ac7e",
           "#80793d",
           "#70aacf",
           "#528549",
           "#b8009e",
           "#953f1f",
           "#6e5d00",
           "#db03b3",
           "#9cdb5d",
           "#6d7400",
           "#b3e8ef",
           "#97626b",
           "#855b89",
           "#2f5282",
           "#c3774f",
           "#7ecdf2",
           "#00b800",
           "rgb(255,237,111)",
           "#903400",
           "#9cfb75",
           "#00fdcf",
           "#b500ff",
           "#d195aa",
           "#ffaaf6",
           "#620042",
           "#01baf6",
           "#bf6d82",
           "#79893b",
           "#873472",
           "#70a3af",
           "#6e0099",
           "#916e56",
           "#c35b3d",
           "#8300cf",
           "rgb(128,177,211)",
           "#56831a",
           "#05b3aa",
           "#7f7f7f",
           "#ff82ed",
           "#95622f",
           "#67aa00",
           "#dfacb6",
           "#FF97FF",
           "#a101c3",
           "rgb(179,222,105)",
           "#a877ac",
           "#f77589",
           "#9ee2ff",
           "#38c1a1",
           "#e8013a",
           "#acaac8",
           "#59aa75",
           "#b6cd72",
           "#b15093",
           "#93a14f",
           "#8c564b",
           "#64c674",
           "#5b3a7c",
           "#d69a36",
           "#ae083f",
           "#80fb9a",
           "#60345b",
           "#e100e8",
           "#8970b1",
           "#eb605d",
           "#904f00",
           "#ff6200",
           "#dbb333",
           "#1CA71C",
           "#4daf4a",
           "#ba91cf",
           "#00e400",
           "#87d82f",
           "#eb4d00",
           "#f781bf",
           "#c33431",
           "#56642a",
           "#ff28fd",
           "#bac1df",
           "#009744",
           "#ac567c",
           "rgb(190,186,218)",
           "#006d2d",
           "#008069",
           "#8c3bff",
           "#bcbd22",
           "#e29ccf",
           "#9e4b00",
           "#00acc6",
           "#E15F99",
           "#878ed1",
           "#a32818",
           "#eb5ed4",
           "#77563b",
           "#ffc862",
           "#bcac52",
           "#4d230c",
           "#f2007b",
           "#05acc6",
           "#72af9e",
           "#6C7C32",
           "#0087b1",
           "#f9ff00",
           "#8c6677",
           "#a793e1",
           "#ca0044",
           "#e48eff",
           "#3abdc1",
           "#ff00cd",
           "#fb7c00",
           "#e49cff",
           "#17becf",
           "#c1bdfd",
           "#B68100",
           "#750D86",
           "#9e0399",
           "#909101",
           "#d3c37c",
           "#247c2a",
           "#8cc68e",
           "#00d493",
           "#00a316",
           "#6d6942",
           "#5d8c90",
           "#9a6900",
           "#2ca02c",
           "#bf90f2",
           "#8c7700",
           "#36429e",
           "#897490",
           "#95aa2a",
           "#5e7b87",
           "#a03a52",
           "#6e56ca",
           "#e14231",
           "#e25660",
           "#6b004f",
           "#46709e",
           "#c4668e",
           "#d4e29e",
           "#5e1123",
           "#da5480",
           "#a0e491",
           "#44d457",
           "#a1c8c8",
           "#89e4d8",
           "#c6a5c1",
           "#006e70",
           "#382d00",
           "#54823b",
           "#60b385",
           "#ff3628",
           "#773416",
           "#21d3ff",
           "#00CC96",
           "#c15603",
           "#FC0080",
           "#4801cc",
           "#c1a3c3",
           "#9affc3",
           "#91d370",
           "#b800d4",
           "#366962",
           "#B2828D",
           "#2b8ad4",
           "#b89500",
           "#629a7b",
           "#00c182",
           "#77975b",
           "#d3008c",
           "#e252ff",
           "#95fde2",
           "#fde1b1",
           "#ff3146",
           "#8c4470",
           "#959167",
           "#ff8ec8",
           "#c6002d",
           "#d8cf00",
           "#e205e2",
           "#bc9157",
           "#529e93",
           "#c68ecd",
           "#118e54",
           "#c672dd",
           "#FB00D1",
           "#919eb6",
           "#724967",
           "#a34d95",
           "rgb(253,180,98)",
           "#2E91E5",
           "#ac7700",
           "#8eba00",
           "#eda590",
           "#669c4d",
           "#c69eff",
           "#828056",
           "#d84621",
           "#56dd77",
           "#ba6efd",
           "#bcb6ff",
           "#b63862",
           "#97ff00",
           "#77c6ba",
           "#0774d8",
           "#97bca8",
           "#7e0175",
           "#00bda3",
           "#aea8d1",
           "#cae256",
           "#8abf5d",
           "#9eafc4",
           "#804f3d",
           "#f2cdff",
           "#B6E880",
           "#13cad1",
           "#afbc82",
           "#c85748",
           "#9738db",
           "#1626ff",
           "#f9eb4d",
           "#59e2ff",
           "#999999",
           "rgb(204,235,197)",
           "#15e18c",
           "#77a342",
           "#97833d",
           "#8a6d4f",
           "#2db152",
           "#91b5b6",
           "#00f4a1",
           "#826e8c",
           "#7b2f4f",
           "#ffc38e",
           "#ac8ca8",
           "#019e70",
           "#5949a3",
           "#8e6097",
           "#64b6ba",
           "#5db54b",
           "#a3832f",
           "#ff5238",
           "#a390af",
           "#b3bfda",
           "#ff97b1",
           "#e2afaf",
           "#004b00",
           "#ebffd4",
           "#ef72aa",
           "#a77b87",
           "#755726",
           "#5d95aa",
           "#364424",
           "#b1826d",
           "#cc7407",
           "#a55949",
           "#89bacf",
           "#4b9077",
           "#1616A7",
           "#aad4c1",
           "#f7807c",
           "#d60000",
           "#c136d6",
           "#698cbd",
           "#70cf4f",
           "#8287ff",
           "#008579",
           "#34bf00",
           "#19D3F3",
           "#4b9793",
           "#af6dff",
           "#00ff75",
           "#ba5e21",
           "#c84248",
           "#d6e8ff",
           "#018700",
           "#ff7f0e"
          ],
          "line": {
           "color": "white",
           "width": 0
          }
         },
         "showlegend": false,
         "textfont": {
          "color": "black",
          "family": "Cardo",
          "size": 12
         },
         "textinfo": "percent+label",
         "texttemplate": "%{label}<br>%{percent}",
         "type": "pie",
         "values": {
          "bdata": "7FG4bhMPwUGkcD3wRP+2QQrXY4Lgv7VBPQoXLypCs0GPwvUuwWWwQT0K164yyKtB4XoUrlDxGUE=",
          "dtype": "f8"
         }
        }
       ],
       "layout": {
        "annotations": [
         {
          "align": "center",
          "font": {
           "color": "black",
           "family": "Cardo",
           "size": 25
          },
          "showarrow": false,
          "text": "Total: $2.2B",
          "x": 0.5,
          "xref": "paper",
          "y": 0.5,
          "yref": "paper"
         }
        ],
        "font": {
         "family": "Cardo",
         "size": 16
        },
        "height": 400,
        "legend": {
         "bgcolor": "rgba(0,0,0,0)",
         "font": {
          "color": "black",
          "family": "Cardo",
          "size": 12
         },
         "itemsizing": "constant",
         "orientation": "v",
         "x": 1.1,
         "xanchor": "left",
         "y": 1,
         "yanchor": "top"
        },
        "margin": {
         "t": 100
        },
        "paper_bgcolor": "rgba(0,0,0,0)",
        "plot_bgcolor": "rgba(0,0,0,0)",
        "template": {
         "data": {
          "bar": [
           {
            "error_x": {
             "color": "#2a3f5f"
            },
            "error_y": {
             "color": "#2a3f5f"
            },
            "marker": {
             "line": {
              "color": "white",
              "width": 0.5
             },
             "pattern": {
              "fillmode": "overlay",
              "size": 10,
              "solidity": 0.2
             }
            },
            "type": "bar"
           }
          ],
          "barpolar": [
           {
            "marker": {
             "line": {
              "color": "white",
              "width": 0.5
             },
             "pattern": {
              "fillmode": "overlay",
              "size": 10,
              "solidity": 0.2
             }
            },
            "type": "barpolar"
           }
          ],
          "carpet": [
           {
            "aaxis": {
             "endlinecolor": "#2a3f5f",
             "gridcolor": "#C8D4E3",
             "linecolor": "#C8D4E3",
             "minorgridcolor": "#C8D4E3",
             "startlinecolor": "#2a3f5f"
            },
            "baxis": {
             "endlinecolor": "#2a3f5f",
             "gridcolor": "#C8D4E3",
             "linecolor": "#C8D4E3",
             "minorgridcolor": "#C8D4E3",
             "startlinecolor": "#2a3f5f"
            },
            "type": "carpet"
           }
          ],
          "choropleth": [
           {
            "colorbar": {
             "outlinewidth": 0,
             "ticks": ""
            },
            "type": "choropleth"
           }
          ],
          "contour": [
           {
            "colorbar": {
             "outlinewidth": 0,
             "ticks": ""
            },
            "colorscale": [
             [
              0,
              "#0d0887"
             ],
             [
              0.1111111111111111,
              "#46039f"
             ],
             [
              0.2222222222222222,
              "#7201a8"
             ],
             [
              0.3333333333333333,
              "#9c179e"
             ],
             [
              0.4444444444444444,
              "#bd3786"
             ],
             [
              0.5555555555555556,
              "#d8576b"
             ],
             [
              0.6666666666666666,
              "#ed7953"
             ],
             [
              0.7777777777777778,
              "#fb9f3a"
             ],
             [
              0.8888888888888888,
              "#fdca26"
             ],
             [
              1,
              "#f0f921"
             ]
            ],
            "type": "contour"
           }
          ],
          "contourcarpet": [
           {
            "colorbar": {
             "outlinewidth": 0,
             "ticks": ""
            },
            "type": "contourcarpet"
           }
          ],
          "heatmap": [
           {
            "colorbar": {
             "outlinewidth": 0,
             "ticks": ""
            },
            "colorscale": [
             [
              0,
              "#0d0887"
             ],
             [
              0.1111111111111111,
              "#46039f"
             ],
             [
              0.2222222222222222,
              "#7201a8"
             ],
             [
              0.3333333333333333,
              "#9c179e"
             ],
             [
              0.4444444444444444,
              "#bd3786"
             ],
             [
              0.5555555555555556,
              "#d8576b"
             ],
             [
              0.6666666666666666,
              "#ed7953"
             ],
             [
              0.7777777777777778,
              "#fb9f3a"
             ],
             [
              0.8888888888888888,
              "#fdca26"
             ],
             [
              1,
              "#f0f921"
             ]
            ],
            "type": "heatmap"
           }
          ],
          "histogram": [
           {
            "marker": {
             "pattern": {
              "fillmode": "overlay",
              "size": 10,
              "solidity": 0.2
             }
            },
            "type": "histogram"
           }
          ],
          "histogram2d": [
           {
            "colorbar": {
             "outlinewidth": 0,
             "ticks": ""
            },
            "colorscale": [
             [
              0,
              "#0d0887"
             ],
             [
              0.1111111111111111,
              "#46039f"
             ],
             [
              0.2222222222222222,
              "#7201a8"
             ],
             [
              0.3333333333333333,
              "#9c179e"
             ],
             [
              0.4444444444444444,
              "#bd3786"
             ],
             [
              0.5555555555555556,
              "#d8576b"
             ],
             [
              0.6666666666666666,
              "#ed7953"
             ],
             [
              0.7777777777777778,
              "#fb9f3a"
             ],
             [
              0.8888888888888888,
              "#fdca26"
             ],
             [
              1,
              "#f0f921"
             ]
            ],
            "type": "histogram2d"
           }
          ],
          "histogram2dcontour": [
           {
            "colorbar": {
             "outlinewidth": 0,
             "ticks": ""
            },
            "colorscale": [
             [
              0,
              "#0d0887"
             ],
             [
              0.1111111111111111,
              "#46039f"
             ],
             [
              0.2222222222222222,
              "#7201a8"
             ],
             [
              0.3333333333333333,
              "#9c179e"
             ],
             [
              0.4444444444444444,
              "#bd3786"
             ],
             [
              0.5555555555555556,
              "#d8576b"
             ],
             [
              0.6666666666666666,
              "#ed7953"
             ],
             [
              0.7777777777777778,
              "#fb9f3a"
             ],
             [
              0.8888888888888888,
              "#fdca26"
             ],
             [
              1,
              "#f0f921"
             ]
            ],
            "type": "histogram2dcontour"
           }
          ],
          "mesh3d": [
           {
            "colorbar": {
             "outlinewidth": 0,
             "ticks": ""
            },
            "type": "mesh3d"
           }
          ],
          "parcoords": [
           {
            "line": {
             "colorbar": {
              "outlinewidth": 0,
              "ticks": ""
             }
            },
            "type": "parcoords"
           }
          ],
          "pie": [
           {
            "automargin": true,
            "type": "pie"
           }
          ],
          "scatter": [
           {
            "fillpattern": {
             "fillmode": "overlay",
             "size": 10,
             "solidity": 0.2
            },
            "type": "scatter"
           }
          ],
          "scatter3d": [
           {
            "line": {
             "colorbar": {
              "outlinewidth": 0,
              "ticks": ""
             }
            },
            "marker": {
             "colorbar": {
              "outlinewidth": 0,
              "ticks": ""
             }
            },
            "type": "scatter3d"
           }
          ],
          "scattercarpet": [
           {
            "marker": {
             "colorbar": {
              "outlinewidth": 0,
              "ticks": ""
             }
            },
            "type": "scattercarpet"
           }
          ],
          "scattergeo": [
           {
            "marker": {
             "colorbar": {
              "outlinewidth": 0,
              "ticks": ""
             }
            },
            "type": "scattergeo"
           }
          ],
          "scattergl": [
           {
            "marker": {
             "colorbar": {
              "outlinewidth": 0,
              "ticks": ""
             }
            },
            "type": "scattergl"
           }
          ],
          "scattermap": [
           {
            "marker": {
             "colorbar": {
              "outlinewidth": 0,
              "ticks": ""
             }
            },
            "type": "scattermap"
           }
          ],
          "scattermapbox": [
           {
            "marker": {
             "colorbar": {
              "outlinewidth": 0,
              "ticks": ""
             }
            },
            "type": "scattermapbox"
           }
          ],
          "scatterpolar": [
           {
            "marker": {
             "colorbar": {
              "outlinewidth": 0,
              "ticks": ""
             }
            },
            "type": "scatterpolar"
           }
          ],
          "scatterpolargl": [
           {
            "marker": {
             "colorbar": {
              "outlinewidth": 0,
              "ticks": ""
             }
            },
            "type": "scatterpolargl"
           }
          ],
          "scatterternary": [
           {
            "marker": {
             "colorbar": {
              "outlinewidth": 0,
              "ticks": ""
             }
            },
            "type": "scatterternary"
           }
          ],
          "surface": [
           {
            "colorbar": {
             "outlinewidth": 0,
             "ticks": ""
            },
            "colorscale": [
             [
              0,
              "#0d0887"
             ],
             [
              0.1111111111111111,
              "#46039f"
             ],
             [
              0.2222222222222222,
              "#7201a8"
             ],
             [
              0.3333333333333333,
              "#9c179e"
             ],
             [
              0.4444444444444444,
              "#bd3786"
             ],
             [
              0.5555555555555556,
              "#d8576b"
             ],
             [
              0.6666666666666666,
              "#ed7953"
             ],
             [
              0.7777777777777778,
              "#fb9f3a"
             ],
             [
              0.8888888888888888,
              "#fdca26"
             ],
             [
              1,
              "#f0f921"
             ]
            ],
            "type": "surface"
           }
          ],
          "table": [
           {
            "cells": {
             "fill": {
              "color": "#EBF0F8"
             },
             "line": {
              "color": "white"
             }
            },
            "header": {
             "fill": {
              "color": "#C8D4E3"
             },
             "line": {
              "color": "white"
             }
            },
            "type": "table"
           }
          ]
         },
         "layout": {
          "annotationdefaults": {
           "arrowcolor": "#2a3f5f",
           "arrowhead": 0,
           "arrowwidth": 1
          },
          "autotypenumbers": "strict",
          "coloraxis": {
           "colorbar": {
            "outlinewidth": 0,
            "ticks": ""
           }
          },
          "colorscale": {
           "diverging": [
            [
             0,
             "#8e0152"
            ],
            [
             0.1,
             "#c51b7d"
            ],
            [
             0.2,
             "#de77ae"
            ],
            [
             0.3,
             "#f1b6da"
            ],
            [
             0.4,
             "#fde0ef"
            ],
            [
             0.5,
             "#f7f7f7"
            ],
            [
             0.6,
             "#e6f5d0"
            ],
            [
             0.7,
             "#b8e186"
            ],
            [
             0.8,
             "#7fbc41"
            ],
            [
             0.9,
             "#4d9221"
            ],
            [
             1,
             "#276419"
            ]
           ],
           "sequential": [
            [
             0,
             "#0d0887"
            ],
            [
             0.1111111111111111,
             "#46039f"
            ],
            [
             0.2222222222222222,
             "#7201a8"
            ],
            [
             0.3333333333333333,
             "#9c179e"
            ],
            [
             0.4444444444444444,
             "#bd3786"
            ],
            [
             0.5555555555555556,
             "#d8576b"
            ],
            [
             0.6666666666666666,
             "#ed7953"
            ],
            [
             0.7777777777777778,
             "#fb9f3a"
            ],
            [
             0.8888888888888888,
             "#fdca26"
            ],
            [
             1,
             "#f0f921"
            ]
           ],
           "sequentialminus": [
            [
             0,
             "#0d0887"
            ],
            [
             0.1111111111111111,
             "#46039f"
            ],
            [
             0.2222222222222222,
             "#7201a8"
            ],
            [
             0.3333333333333333,
             "#9c179e"
            ],
            [
             0.4444444444444444,
             "#bd3786"
            ],
            [
             0.5555555555555556,
             "#d8576b"
            ],
            [
             0.6666666666666666,
             "#ed7953"
            ],
            [
             0.7777777777777778,
             "#fb9f3a"
            ],
            [
             0.8888888888888888,
             "#fdca26"
            ],
            [
             1,
             "#f0f921"
            ]
           ]
          },
          "colorway": [
           "#636efa",
           "#EF553B",
           "#00cc96",
           "#ab63fa",
           "#FFA15A",
           "#19d3f3",
           "#FF6692",
           "#B6E880",
           "#FF97FF",
           "#FECB52"
          ],
          "font": {
           "color": "#2a3f5f"
          },
          "geo": {
           "bgcolor": "white",
           "lakecolor": "white",
           "landcolor": "white",
           "showlakes": true,
           "showland": true,
           "subunitcolor": "#C8D4E3"
          },
          "hoverlabel": {
           "align": "left"
          },
          "hovermode": "closest",
          "mapbox": {
           "style": "light"
          },
          "paper_bgcolor": "white",
          "plot_bgcolor": "white",
          "polar": {
           "angularaxis": {
            "gridcolor": "#EBF0F8",
            "linecolor": "#EBF0F8",
            "ticks": ""
           },
           "bgcolor": "white",
           "radialaxis": {
            "gridcolor": "#EBF0F8",
            "linecolor": "#EBF0F8",
            "ticks": ""
           }
          },
          "scene": {
           "xaxis": {
            "backgroundcolor": "white",
            "gridcolor": "#DFE8F3",
            "gridwidth": 2,
            "linecolor": "#EBF0F8",
            "showbackground": true,
            "ticks": "",
            "zerolinecolor": "#EBF0F8"
           },
           "yaxis": {
            "backgroundcolor": "white",
            "gridcolor": "#DFE8F3",
            "gridwidth": 2,
            "linecolor": "#EBF0F8",
            "showbackground": true,
            "ticks": "",
            "zerolinecolor": "#EBF0F8"
           },
           "zaxis": {
            "backgroundcolor": "white",
            "gridcolor": "#DFE8F3",
            "gridwidth": 2,
            "linecolor": "#EBF0F8",
            "showbackground": true,
            "ticks": "",
            "zerolinecolor": "#EBF0F8"
           }
          },
          "shapedefaults": {
           "line": {
            "color": "#2a3f5f"
           }
          },
          "ternary": {
           "aaxis": {
            "gridcolor": "#DFE8F3",
            "linecolor": "#A2B1C6",
            "ticks": ""
           },
           "baxis": {
            "gridcolor": "#DFE8F3",
            "linecolor": "#A2B1C6",
            "ticks": ""
           },
           "bgcolor": "white",
           "caxis": {
            "gridcolor": "#DFE8F3",
            "linecolor": "#A2B1C6",
            "ticks": ""
           }
          },
          "title": {
           "x": 0.05
          },
          "xaxis": {
           "automargin": true,
           "gridcolor": "#EBF0F8",
           "linecolor": "#EBF0F8",
           "ticks": "",
           "title": {
            "standoff": 15
           },
           "zerolinecolor": "#EBF0F8",
           "zerolinewidth": 2
          },
          "yaxis": {
           "automargin": true,
           "gridcolor": "#EBF0F8",
           "linecolor": "#EBF0F8",
           "ticks": "",
           "title": {
            "standoff": 15
           },
           "zerolinecolor": "#EBF0F8",
           "zerolinewidth": 2
          }
         }
        },
        "title": {
         "font": {
          "color": "black",
          "family": "Cardo",
          "size": 27
         },
         "text": "<span style='color: black; font-weight: normal;'>Stargate Bridge Vol by Chain</span><br><sub style='font-size: 18px; color: black; font-weight: normal;'>Volume through 2025-04-01</sub>",
         "x": 0.1,
         "xanchor": "left",
         "y": 0.9,
         "yanchor": "top"
        },
        "width": 730
       }
      }
     },
     "metadata": {},
     "output_type": "display_data"
    }
   ],
   "source": [
    "cm = ChartMaker(shuffle_colors=True)\n",
    "cm.build(\n",
    "    df = test_df2,\n",
    "    # axes_data = {'x':'CHAIN','y1':['TOTAL_VOLUME_BRIDGED']},\n",
    "    groupby_col='CHAIN',\n",
    "    num_col='TOTAL_VOLUME_BRIDGED',\n",
    "    title='Stargate Bridge Vol by Chain',\n",
    "    chart_type='pie',\n",
    "    options = {\n",
    "        'margin':dict(t=100),'annotations':True,\n",
    "        'tickprefix':{'y1':'$'},'hole_size':0,\n",
    "        'line_width':0,\n",
    "        'texttemplate':'%{label}<br>%{percent}',\n",
    "        'show_legend':False,'legend_placement':{'x':1.1,'y':1},\n",
    "        'textinfo':'percent+label'\n",
    "    }\n",
    ")\n",
    "cm.add_title(\n",
    "    subtitle=f'Volume through 2025-04-01',\n",
    "    x=0.1,\n",
    "    y=0.9\n",
    ")\n",
    "cm.show_fig()"
   ]
  },
  {
   "cell_type": "markdown",
   "id": "e7a5d0dc",
   "metadata": {},
   "source": [
    "# Heatmap"
   ]
  },
  {
   "cell_type": "code",
   "execution_count": 13,
   "id": "d2aabae2",
   "metadata": {},
   "outputs": [
    {
     "data": {
      "text/html": [
       "<div>\n",
       "<style scoped>\n",
       "    .dataframe tbody tr th:only-of-type {\n",
       "        vertical-align: middle;\n",
       "    }\n",
       "\n",
       "    .dataframe tbody tr th {\n",
       "        vertical-align: top;\n",
       "    }\n",
       "\n",
       "    .dataframe thead th {\n",
       "        text-align: right;\n",
       "    }\n",
       "</style>\n",
       "<table border=\"1\" class=\"dataframe\">\n",
       "  <thead>\n",
       "    <tr style=\"text-align: right;\">\n",
       "      <th></th>\n",
       "      <th>EARLIEST_DATE</th>\n",
       "      <th>DIFFERENCE</th>\n",
       "      <th>NEW_USER</th>\n",
       "      <th>EXISTING_USER</th>\n",
       "      <th>RETENTION_RATE</th>\n",
       "    </tr>\n",
       "  </thead>\n",
       "  <tbody>\n",
       "    <tr>\n",
       "      <th>0</th>\n",
       "      <td>2024-03-01 00:00:00.000</td>\n",
       "      <td>1.0</td>\n",
       "      <td>843476.0</td>\n",
       "      <td>274611.0</td>\n",
       "      <td>0.33</td>\n",
       "    </tr>\n",
       "    <tr>\n",
       "      <th>1</th>\n",
       "      <td>2024-03-01 00:00:00.000</td>\n",
       "      <td>2.0</td>\n",
       "      <td>843476.0</td>\n",
       "      <td>151950.0</td>\n",
       "      <td>0.18</td>\n",
       "    </tr>\n",
       "    <tr>\n",
       "      <th>2</th>\n",
       "      <td>2024-03-01 00:00:00.000</td>\n",
       "      <td>3.0</td>\n",
       "      <td>843476.0</td>\n",
       "      <td>109154.0</td>\n",
       "      <td>0.13</td>\n",
       "    </tr>\n",
       "    <tr>\n",
       "      <th>3</th>\n",
       "      <td>2024-03-01 00:00:00.000</td>\n",
       "      <td>4.0</td>\n",
       "      <td>843476.0</td>\n",
       "      <td>83953.0</td>\n",
       "      <td>0.10</td>\n",
       "    </tr>\n",
       "    <tr>\n",
       "      <th>4</th>\n",
       "      <td>2024-03-01 00:00:00.000</td>\n",
       "      <td>5.0</td>\n",
       "      <td>843476.0</td>\n",
       "      <td>55130.0</td>\n",
       "      <td>0.07</td>\n",
       "    </tr>\n",
       "    <tr>\n",
       "      <th>...</th>\n",
       "      <td>...</td>\n",
       "      <td>...</td>\n",
       "      <td>...</td>\n",
       "      <td>...</td>\n",
       "      <td>...</td>\n",
       "    </tr>\n",
       "    <tr>\n",
       "      <th>61</th>\n",
       "      <td>2024-11-01 00:00:00.000</td>\n",
       "      <td>2.0</td>\n",
       "      <td>249898.0</td>\n",
       "      <td>26928.0</td>\n",
       "      <td>0.11</td>\n",
       "    </tr>\n",
       "    <tr>\n",
       "      <th>62</th>\n",
       "      <td>2024-11-01 00:00:00.000</td>\n",
       "      <td>3.0</td>\n",
       "      <td>249898.0</td>\n",
       "      <td>16600.0</td>\n",
       "      <td>0.07</td>\n",
       "    </tr>\n",
       "    <tr>\n",
       "      <th>63</th>\n",
       "      <td>2024-12-01 00:00:00.000</td>\n",
       "      <td>1.0</td>\n",
       "      <td>374656.0</td>\n",
       "      <td>60645.0</td>\n",
       "      <td>0.16</td>\n",
       "    </tr>\n",
       "    <tr>\n",
       "      <th>64</th>\n",
       "      <td>2024-12-01 00:00:00.000</td>\n",
       "      <td>2.0</td>\n",
       "      <td>374656.0</td>\n",
       "      <td>33138.0</td>\n",
       "      <td>0.09</td>\n",
       "    </tr>\n",
       "    <tr>\n",
       "      <th>65</th>\n",
       "      <td>2025-01-01 00:00:00.000</td>\n",
       "      <td>1.0</td>\n",
       "      <td>384440.0</td>\n",
       "      <td>47336.0</td>\n",
       "      <td>0.12</td>\n",
       "    </tr>\n",
       "  </tbody>\n",
       "</table>\n",
       "<p>66 rows × 5 columns</p>\n",
       "</div>"
      ],
      "text/plain": [
       "              EARLIEST_DATE  DIFFERENCE  NEW_USER  EXISTING_USER  \\\n",
       "0   2024-03-01 00:00:00.000         1.0  843476.0       274611.0   \n",
       "1   2024-03-01 00:00:00.000         2.0  843476.0       151950.0   \n",
       "2   2024-03-01 00:00:00.000         3.0  843476.0       109154.0   \n",
       "3   2024-03-01 00:00:00.000         4.0  843476.0        83953.0   \n",
       "4   2024-03-01 00:00:00.000         5.0  843476.0        55130.0   \n",
       "..                      ...         ...       ...            ...   \n",
       "61  2024-11-01 00:00:00.000         2.0  249898.0        26928.0   \n",
       "62  2024-11-01 00:00:00.000         3.0  249898.0        16600.0   \n",
       "63  2024-12-01 00:00:00.000         1.0  374656.0        60645.0   \n",
       "64  2024-12-01 00:00:00.000         2.0  374656.0        33138.0   \n",
       "65  2025-01-01 00:00:00.000         1.0  384440.0        47336.0   \n",
       "\n",
       "    RETENTION_RATE  \n",
       "0             0.33  \n",
       "1             0.18  \n",
       "2             0.13  \n",
       "3             0.10  \n",
       "4             0.07  \n",
       "..             ...  \n",
       "61            0.11  \n",
       "62            0.07  \n",
       "63            0.16  \n",
       "64            0.09  \n",
       "65            0.12  \n",
       "\n",
       "[66 rows x 5 columns]"
      ]
     },
     "execution_count": 13,
     "metadata": {},
     "output_type": "execute_result"
    }
   ],
   "source": [
    "test_df3 = test_cleaner.to_df(r'data/stargate_2.csv')\n",
    "test_df3, time_freq =  test_cleaner.to_time(test_df3)\n",
    "test_df3 = test_df3.dropna()\n",
    "test_df3"
   ]
  },
  {
   "cell_type": "code",
   "execution_count": 14,
   "id": "7db8cc1b",
   "metadata": {},
   "outputs": [
    {
     "name": "stdout",
     "output_type": "stream",
     "text": [
      "kind: heatmap\n",
      "chart_type: heatmap\n",
      "kind: heatmap\n"
     ]
    },
    {
     "data": {
      "application/vnd.plotly.v1+json": {
       "config": {
        "linkText": "Export to plot.ly",
        "plotlyServerURL": "https://plot.ly",
        "showLink": false
       },
       "data": [
        {
         "colorbar": {
          "tickfont": {
           "color": "black",
           "size": 12
          },
          "title": {
           "font": {
            "color": "black",
            "size": 12
           },
           "text": "Retention Rate"
          }
         },
         "colorscale": [
          [
           0,
           "white"
          ],
          [
           1,
           "#1f77b4"
          ]
         ],
         "type": "heatmap",
         "x": {
          "bdata": "AAAAAAAA8D8AAAAAAAAAQAAAAAAAAAhAAAAAAAAAEEAAAAAAAAAUQAAAAAAAABhAAAAAAAAAHEAAAAAAAAAgQAAAAAAAACJAAAAAAAAAJEAAAAAAAAAmQAAAAAAAAPA/AAAAAAAAAEAAAAAAAAAIQAAAAAAAABBAAAAAAAAAFEAAAAAAAAAYQAAAAAAAABxAAAAAAAAAIEAAAAAAAAAiQAAAAAAAACRAAAAAAAAA8D8AAAAAAAAAQAAAAAAAAAhAAAAAAAAAEEAAAAAAAAAUQAAAAAAAABhAAAAAAAAAHEAAAAAAAAAgQAAAAAAAACJAAAAAAAAA8D8AAAAAAAAAQAAAAAAAAAhAAAAAAAAAEEAAAAAAAAAUQAAAAAAAABhAAAAAAAAAHEAAAAAAAAAgQAAAAAAAAPA/AAAAAAAAAEAAAAAAAAAIQAAAAAAAABBAAAAAAAAAFEAAAAAAAAAYQAAAAAAAABxAAAAAAAAA8D8AAAAAAAAAQAAAAAAAAAhAAAAAAAAAEEAAAAAAAAAUQAAAAAAAABhAAAAAAAAA8D8AAAAAAAAAQAAAAAAAAAhAAAAAAAAAEEAAAAAAAAAUQAAAAAAAAPA/AAAAAAAAAEAAAAAAAAAIQAAAAAAAABBAAAAAAAAA8D8AAAAAAAAAQAAAAAAAAAhAAAAAAAAA8D8AAAAAAAAAQAAAAAAAAPA/",
          "dtype": "f8"
         },
         "y": [
          "2024-03-01 00:00:00.000",
          "2024-03-01 00:00:00.000",
          "2024-03-01 00:00:00.000",
          "2024-03-01 00:00:00.000",
          "2024-03-01 00:00:00.000",
          "2024-03-01 00:00:00.000",
          "2024-03-01 00:00:00.000",
          "2024-03-01 00:00:00.000",
          "2024-03-01 00:00:00.000",
          "2024-03-01 00:00:00.000",
          "2024-03-01 00:00:00.000",
          "2024-04-01 00:00:00.000",
          "2024-04-01 00:00:00.000",
          "2024-04-01 00:00:00.000",
          "2024-04-01 00:00:00.000",
          "2024-04-01 00:00:00.000",
          "2024-04-01 00:00:00.000",
          "2024-04-01 00:00:00.000",
          "2024-04-01 00:00:00.000",
          "2024-04-01 00:00:00.000",
          "2024-04-01 00:00:00.000",
          "2024-05-01 00:00:00.000",
          "2024-05-01 00:00:00.000",
          "2024-05-01 00:00:00.000",
          "2024-05-01 00:00:00.000",
          "2024-05-01 00:00:00.000",
          "2024-05-01 00:00:00.000",
          "2024-05-01 00:00:00.000",
          "2024-05-01 00:00:00.000",
          "2024-05-01 00:00:00.000",
          "2024-06-01 00:00:00.000",
          "2024-06-01 00:00:00.000",
          "2024-06-01 00:00:00.000",
          "2024-06-01 00:00:00.000",
          "2024-06-01 00:00:00.000",
          "2024-06-01 00:00:00.000",
          "2024-06-01 00:00:00.000",
          "2024-06-01 00:00:00.000",
          "2024-07-01 00:00:00.000",
          "2024-07-01 00:00:00.000",
          "2024-07-01 00:00:00.000",
          "2024-07-01 00:00:00.000",
          "2024-07-01 00:00:00.000",
          "2024-07-01 00:00:00.000",
          "2024-07-01 00:00:00.000",
          "2024-08-01 00:00:00.000",
          "2024-08-01 00:00:00.000",
          "2024-08-01 00:00:00.000",
          "2024-08-01 00:00:00.000",
          "2024-08-01 00:00:00.000",
          "2024-08-01 00:00:00.000",
          "2024-09-01 00:00:00.000",
          "2024-09-01 00:00:00.000",
          "2024-09-01 00:00:00.000",
          "2024-09-01 00:00:00.000",
          "2024-09-01 00:00:00.000",
          "2024-10-01 00:00:00.000",
          "2024-10-01 00:00:00.000",
          "2024-10-01 00:00:00.000",
          "2024-10-01 00:00:00.000",
          "2024-11-01 00:00:00.000",
          "2024-11-01 00:00:00.000",
          "2024-11-01 00:00:00.000",
          "2024-12-01 00:00:00.000",
          "2024-12-01 00:00:00.000",
          "2025-01-01 00:00:00.000"
         ],
         "z": {
          "bdata": "H4XrUbge1T8K16NwPQrHP6RwPQrXo8A/mpmZmZmZuT/sUbgeheuxP7gehetRuK4/7FG4HoXrsT+4HoXrUbiuPwrXo3A9Crc/exSuR+F6tD+4HoXrUbiuP8P1KFyPwsU/KVyPwvUovD97FK5H4Xq0P5qZmZmZmak/exSuR+F6pD+amZmZmZmpP5qZmZmZmak/uB6F61G4rj+4HoXrUbiuP5qZmZmZmak/MzMzMzMzwz+amZmZmZm5P7gehetRuK4/mpmZmZmZqT+4HoXrUbiuP5qZmZmZmak/uB6F61G4rj+4HoXrUbiuP5qZmZmZmak/uB6F61G4vj/sUbgeheuxP5qZmZmZmak/uB6F61G4rj+amZmZmZmpP+xRuB6F67E/uB6F61G4rj+amZmZmZmpP5qZmZmZmbk/uB6F61G4rj/sUbgeheuxP7gehetRuK4/7FG4HoXrsT+4HoXrUbiuP7gehetRuK4/mpmZmZmZuT97FK5H4Xq0P+xRuB6F67E/7FG4HoXrsT+4HoXrUbiuP5qZmZmZmak/pHA9CtejwD8K16NwPQq3P5qZmZmZmbk/exSuR+F6tD/sUbgeheuxP8P1KFyPwsU/7FG4HoXrwT+4HoXrUbi+PwrXo3A9Crc/w/UoXI/CxT8pXI/C9Si8P+xRuB6F67E/exSuR+F6xD8K16NwPQq3P7gehetRuL4/",
          "dtype": "f8"
         }
        }
       ],
       "layout": {
        "font": {
         "color": "black",
         "size": 16
        },
        "height": 400,
        "margin": {
         "t": 100
        },
        "paper_bgcolor": "rgba(0,0,0,0)",
        "plot_bgcolor": "rgba(0,0,0,0)",
        "template": {
         "data": {
          "bar": [
           {
            "error_x": {
             "color": "#2a3f5f"
            },
            "error_y": {
             "color": "#2a3f5f"
            },
            "marker": {
             "line": {
              "color": "#E5ECF6",
              "width": 0.5
             },
             "pattern": {
              "fillmode": "overlay",
              "size": 10,
              "solidity": 0.2
             }
            },
            "type": "bar"
           }
          ],
          "barpolar": [
           {
            "marker": {
             "line": {
              "color": "#E5ECF6",
              "width": 0.5
             },
             "pattern": {
              "fillmode": "overlay",
              "size": 10,
              "solidity": 0.2
             }
            },
            "type": "barpolar"
           }
          ],
          "carpet": [
           {
            "aaxis": {
             "endlinecolor": "#2a3f5f",
             "gridcolor": "white",
             "linecolor": "white",
             "minorgridcolor": "white",
             "startlinecolor": "#2a3f5f"
            },
            "baxis": {
             "endlinecolor": "#2a3f5f",
             "gridcolor": "white",
             "linecolor": "white",
             "minorgridcolor": "white",
             "startlinecolor": "#2a3f5f"
            },
            "type": "carpet"
           }
          ],
          "choropleth": [
           {
            "colorbar": {
             "outlinewidth": 0,
             "ticks": ""
            },
            "type": "choropleth"
           }
          ],
          "contour": [
           {
            "colorbar": {
             "outlinewidth": 0,
             "ticks": ""
            },
            "colorscale": [
             [
              0,
              "#0d0887"
             ],
             [
              0.1111111111111111,
              "#46039f"
             ],
             [
              0.2222222222222222,
              "#7201a8"
             ],
             [
              0.3333333333333333,
              "#9c179e"
             ],
             [
              0.4444444444444444,
              "#bd3786"
             ],
             [
              0.5555555555555556,
              "#d8576b"
             ],
             [
              0.6666666666666666,
              "#ed7953"
             ],
             [
              0.7777777777777778,
              "#fb9f3a"
             ],
             [
              0.8888888888888888,
              "#fdca26"
             ],
             [
              1,
              "#f0f921"
             ]
            ],
            "type": "contour"
           }
          ],
          "contourcarpet": [
           {
            "colorbar": {
             "outlinewidth": 0,
             "ticks": ""
            },
            "type": "contourcarpet"
           }
          ],
          "heatmap": [
           {
            "colorbar": {
             "outlinewidth": 0,
             "ticks": ""
            },
            "colorscale": [
             [
              0,
              "#0d0887"
             ],
             [
              0.1111111111111111,
              "#46039f"
             ],
             [
              0.2222222222222222,
              "#7201a8"
             ],
             [
              0.3333333333333333,
              "#9c179e"
             ],
             [
              0.4444444444444444,
              "#bd3786"
             ],
             [
              0.5555555555555556,
              "#d8576b"
             ],
             [
              0.6666666666666666,
              "#ed7953"
             ],
             [
              0.7777777777777778,
              "#fb9f3a"
             ],
             [
              0.8888888888888888,
              "#fdca26"
             ],
             [
              1,
              "#f0f921"
             ]
            ],
            "type": "heatmap"
           }
          ],
          "histogram": [
           {
            "marker": {
             "pattern": {
              "fillmode": "overlay",
              "size": 10,
              "solidity": 0.2
             }
            },
            "type": "histogram"
           }
          ],
          "histogram2d": [
           {
            "colorbar": {
             "outlinewidth": 0,
             "ticks": ""
            },
            "colorscale": [
             [
              0,
              "#0d0887"
             ],
             [
              0.1111111111111111,
              "#46039f"
             ],
             [
              0.2222222222222222,
              "#7201a8"
             ],
             [
              0.3333333333333333,
              "#9c179e"
             ],
             [
              0.4444444444444444,
              "#bd3786"
             ],
             [
              0.5555555555555556,
              "#d8576b"
             ],
             [
              0.6666666666666666,
              "#ed7953"
             ],
             [
              0.7777777777777778,
              "#fb9f3a"
             ],
             [
              0.8888888888888888,
              "#fdca26"
             ],
             [
              1,
              "#f0f921"
             ]
            ],
            "type": "histogram2d"
           }
          ],
          "histogram2dcontour": [
           {
            "colorbar": {
             "outlinewidth": 0,
             "ticks": ""
            },
            "colorscale": [
             [
              0,
              "#0d0887"
             ],
             [
              0.1111111111111111,
              "#46039f"
             ],
             [
              0.2222222222222222,
              "#7201a8"
             ],
             [
              0.3333333333333333,
              "#9c179e"
             ],
             [
              0.4444444444444444,
              "#bd3786"
             ],
             [
              0.5555555555555556,
              "#d8576b"
             ],
             [
              0.6666666666666666,
              "#ed7953"
             ],
             [
              0.7777777777777778,
              "#fb9f3a"
             ],
             [
              0.8888888888888888,
              "#fdca26"
             ],
             [
              1,
              "#f0f921"
             ]
            ],
            "type": "histogram2dcontour"
           }
          ],
          "mesh3d": [
           {
            "colorbar": {
             "outlinewidth": 0,
             "ticks": ""
            },
            "type": "mesh3d"
           }
          ],
          "parcoords": [
           {
            "line": {
             "colorbar": {
              "outlinewidth": 0,
              "ticks": ""
             }
            },
            "type": "parcoords"
           }
          ],
          "pie": [
           {
            "automargin": true,
            "type": "pie"
           }
          ],
          "scatter": [
           {
            "fillpattern": {
             "fillmode": "overlay",
             "size": 10,
             "solidity": 0.2
            },
            "type": "scatter"
           }
          ],
          "scatter3d": [
           {
            "line": {
             "colorbar": {
              "outlinewidth": 0,
              "ticks": ""
             }
            },
            "marker": {
             "colorbar": {
              "outlinewidth": 0,
              "ticks": ""
             }
            },
            "type": "scatter3d"
           }
          ],
          "scattercarpet": [
           {
            "marker": {
             "colorbar": {
              "outlinewidth": 0,
              "ticks": ""
             }
            },
            "type": "scattercarpet"
           }
          ],
          "scattergeo": [
           {
            "marker": {
             "colorbar": {
              "outlinewidth": 0,
              "ticks": ""
             }
            },
            "type": "scattergeo"
           }
          ],
          "scattergl": [
           {
            "marker": {
             "colorbar": {
              "outlinewidth": 0,
              "ticks": ""
             }
            },
            "type": "scattergl"
           }
          ],
          "scattermap": [
           {
            "marker": {
             "colorbar": {
              "outlinewidth": 0,
              "ticks": ""
             }
            },
            "type": "scattermap"
           }
          ],
          "scattermapbox": [
           {
            "marker": {
             "colorbar": {
              "outlinewidth": 0,
              "ticks": ""
             }
            },
            "type": "scattermapbox"
           }
          ],
          "scatterpolar": [
           {
            "marker": {
             "colorbar": {
              "outlinewidth": 0,
              "ticks": ""
             }
            },
            "type": "scatterpolar"
           }
          ],
          "scatterpolargl": [
           {
            "marker": {
             "colorbar": {
              "outlinewidth": 0,
              "ticks": ""
             }
            },
            "type": "scatterpolargl"
           }
          ],
          "scatterternary": [
           {
            "marker": {
             "colorbar": {
              "outlinewidth": 0,
              "ticks": ""
             }
            },
            "type": "scatterternary"
           }
          ],
          "surface": [
           {
            "colorbar": {
             "outlinewidth": 0,
             "ticks": ""
            },
            "colorscale": [
             [
              0,
              "#0d0887"
             ],
             [
              0.1111111111111111,
              "#46039f"
             ],
             [
              0.2222222222222222,
              "#7201a8"
             ],
             [
              0.3333333333333333,
              "#9c179e"
             ],
             [
              0.4444444444444444,
              "#bd3786"
             ],
             [
              0.5555555555555556,
              "#d8576b"
             ],
             [
              0.6666666666666666,
              "#ed7953"
             ],
             [
              0.7777777777777778,
              "#fb9f3a"
             ],
             [
              0.8888888888888888,
              "#fdca26"
             ],
             [
              1,
              "#f0f921"
             ]
            ],
            "type": "surface"
           }
          ],
          "table": [
           {
            "cells": {
             "fill": {
              "color": "#EBF0F8"
             },
             "line": {
              "color": "white"
             }
            },
            "header": {
             "fill": {
              "color": "#C8D4E3"
             },
             "line": {
              "color": "white"
             }
            },
            "type": "table"
           }
          ]
         },
         "layout": {
          "annotationdefaults": {
           "arrowcolor": "#2a3f5f",
           "arrowhead": 0,
           "arrowwidth": 1
          },
          "autotypenumbers": "strict",
          "coloraxis": {
           "colorbar": {
            "outlinewidth": 0,
            "ticks": ""
           }
          },
          "colorscale": {
           "diverging": [
            [
             0,
             "#8e0152"
            ],
            [
             0.1,
             "#c51b7d"
            ],
            [
             0.2,
             "#de77ae"
            ],
            [
             0.3,
             "#f1b6da"
            ],
            [
             0.4,
             "#fde0ef"
            ],
            [
             0.5,
             "#f7f7f7"
            ],
            [
             0.6,
             "#e6f5d0"
            ],
            [
             0.7,
             "#b8e186"
            ],
            [
             0.8,
             "#7fbc41"
            ],
            [
             0.9,
             "#4d9221"
            ],
            [
             1,
             "#276419"
            ]
           ],
           "sequential": [
            [
             0,
             "#0d0887"
            ],
            [
             0.1111111111111111,
             "#46039f"
            ],
            [
             0.2222222222222222,
             "#7201a8"
            ],
            [
             0.3333333333333333,
             "#9c179e"
            ],
            [
             0.4444444444444444,
             "#bd3786"
            ],
            [
             0.5555555555555556,
             "#d8576b"
            ],
            [
             0.6666666666666666,
             "#ed7953"
            ],
            [
             0.7777777777777778,
             "#fb9f3a"
            ],
            [
             0.8888888888888888,
             "#fdca26"
            ],
            [
             1,
             "#f0f921"
            ]
           ],
           "sequentialminus": [
            [
             0,
             "#0d0887"
            ],
            [
             0.1111111111111111,
             "#46039f"
            ],
            [
             0.2222222222222222,
             "#7201a8"
            ],
            [
             0.3333333333333333,
             "#9c179e"
            ],
            [
             0.4444444444444444,
             "#bd3786"
            ],
            [
             0.5555555555555556,
             "#d8576b"
            ],
            [
             0.6666666666666666,
             "#ed7953"
            ],
            [
             0.7777777777777778,
             "#fb9f3a"
            ],
            [
             0.8888888888888888,
             "#fdca26"
            ],
            [
             1,
             "#f0f921"
            ]
           ]
          },
          "colorway": [
           "#636efa",
           "#EF553B",
           "#00cc96",
           "#ab63fa",
           "#FFA15A",
           "#19d3f3",
           "#FF6692",
           "#B6E880",
           "#FF97FF",
           "#FECB52"
          ],
          "font": {
           "color": "#2a3f5f"
          },
          "geo": {
           "bgcolor": "white",
           "lakecolor": "white",
           "landcolor": "#E5ECF6",
           "showlakes": true,
           "showland": true,
           "subunitcolor": "white"
          },
          "hoverlabel": {
           "align": "left"
          },
          "hovermode": "closest",
          "mapbox": {
           "style": "light"
          },
          "paper_bgcolor": "white",
          "plot_bgcolor": "#E5ECF6",
          "polar": {
           "angularaxis": {
            "gridcolor": "white",
            "linecolor": "white",
            "ticks": ""
           },
           "bgcolor": "#E5ECF6",
           "radialaxis": {
            "gridcolor": "white",
            "linecolor": "white",
            "ticks": ""
           }
          },
          "scene": {
           "xaxis": {
            "backgroundcolor": "#E5ECF6",
            "gridcolor": "white",
            "gridwidth": 2,
            "linecolor": "white",
            "showbackground": true,
            "ticks": "",
            "zerolinecolor": "white"
           },
           "yaxis": {
            "backgroundcolor": "#E5ECF6",
            "gridcolor": "white",
            "gridwidth": 2,
            "linecolor": "white",
            "showbackground": true,
            "ticks": "",
            "zerolinecolor": "white"
           },
           "zaxis": {
            "backgroundcolor": "#E5ECF6",
            "gridcolor": "white",
            "gridwidth": 2,
            "linecolor": "white",
            "showbackground": true,
            "ticks": "",
            "zerolinecolor": "white"
           }
          },
          "shapedefaults": {
           "line": {
            "color": "#2a3f5f"
           }
          },
          "ternary": {
           "aaxis": {
            "gridcolor": "white",
            "linecolor": "white",
            "ticks": ""
           },
           "baxis": {
            "gridcolor": "white",
            "linecolor": "white",
            "ticks": ""
           },
           "bgcolor": "#E5ECF6",
           "caxis": {
            "gridcolor": "white",
            "linecolor": "white",
            "ticks": ""
           }
          },
          "title": {
           "x": 0.05
          },
          "xaxis": {
           "automargin": true,
           "gridcolor": "white",
           "linecolor": "white",
           "ticks": "",
           "title": {
            "standoff": 15
           },
           "zerolinecolor": "white",
           "zerolinewidth": 2
          },
          "yaxis": {
           "automargin": true,
           "gridcolor": "white",
           "linecolor": "white",
           "ticks": "",
           "title": {
            "standoff": 15
           },
           "zerolinecolor": "white",
           "zerolinewidth": 2
          }
         }
        },
        "title": {
         "font": {
          "color": "black",
          "family": "Cardo",
          "size": 27
         },
         "text": "<span style='color: black; font-weight: normal;'>Stargate User Retention Over Time</span><br><sub style='font-size: 18px; color: black; font-weight: normal;'>Though 2025-01-01 00:00:00.000</sub>",
         "x": 0.1,
         "xanchor": "left",
         "y": 0.9,
         "yanchor": "top"
        },
        "width": 730,
        "xaxis": {
         "ticksuffix": "%",
         "title": {
          "text": "Difference"
         }
        },
        "yaxis": {
         "title": {
          "text": "Earliest Date"
         }
        }
       }
      }
     },
     "metadata": {},
     "output_type": "display_data"
    }
   ],
   "source": [
    "cm = ChartMaker(shuffle_colors=True)\n",
    "cm.build(\n",
    "    df = test_df3,\n",
    "    axes_data={'x': 'DIFFERENCE', 'y1': ['EARLIEST_DATE']},\n",
    "    num_col='RETENTION_RATE',\n",
    "    title='Stargate User Retention Over Time',\n",
    "    chart_type='heatmap',\n",
    "    options = {\n",
    "        'margin':dict(t=100),\n",
    "        'ticksuffix':{'y1':'%'},\n",
    "        'show_legend':True,'legend_placement':{'x':1.1,'y':1},\n",
    "    }\n",
    ")\n",
    "cm.add_title(\n",
    "    subtitle=f\"Though {test_df3['EARLIEST_DATE'].max()}\",\n",
    "    x=0.1,\n",
    "    y=0.9\n",
    ")\n",
    "cm.show_fig()"
   ]
  },
  {
   "cell_type": "markdown",
   "id": "4c82a7e8",
   "metadata": {},
   "source": [
    "# With Live Data"
   ]
  },
  {
   "cell_type": "code",
   "execution_count": 15,
   "id": "d1e2ec9e",
   "metadata": {},
   "outputs": [],
   "source": [
    "# from defiquant import active_addresses, flipside_api_results"
   ]
  },
  {
   "cell_type": "code",
   "execution_count": 16,
   "id": "3b558806",
   "metadata": {},
   "outputs": [],
   "source": [
    "rlusd = '0x8292Bb45bf1Ee4d140127049757C2E0fF06317eD'\n",
    "address = rlusd.lower()\n",
    "network = 'ethereum'\n",
    "start_date = '2024-12-01'\n",
    "freq = 'm'"
   ]
  },
  {
   "cell_type": "code",
   "execution_count": 18,
   "id": "0fc4159e",
   "metadata": {},
   "outputs": [],
   "source": [
    "rlusd_addresses_data_og = pd.read_csv('data/rlusd_active_addresses.csv')"
   ]
  },
  {
   "cell_type": "code",
   "execution_count": 19,
   "id": "9b076fcf",
   "metadata": {},
   "outputs": [],
   "source": [
    "rlusd_addresses_data = rlusd_addresses_data_og.copy()"
   ]
  },
  {
   "cell_type": "code",
   "execution_count": 20,
   "id": "915b64a8",
   "metadata": {},
   "outputs": [
    {
     "data": {
      "text/html": [
       "<div>\n",
       "<style scoped>\n",
       "    .dataframe tbody tr th:only-of-type {\n",
       "        vertical-align: middle;\n",
       "    }\n",
       "\n",
       "    .dataframe tbody tr th {\n",
       "        vertical-align: top;\n",
       "    }\n",
       "\n",
       "    .dataframe thead th {\n",
       "        text-align: right;\n",
       "    }\n",
       "</style>\n",
       "<table border=\"1\" class=\"dataframe\">\n",
       "  <thead>\n",
       "    <tr style=\"text-align: right;\">\n",
       "      <th></th>\n",
       "      <th>active_addresses</th>\n",
       "      <th>__row_index</th>\n",
       "    </tr>\n",
       "    <tr>\n",
       "      <th>dt</th>\n",
       "      <th></th>\n",
       "      <th></th>\n",
       "    </tr>\n",
       "  </thead>\n",
       "  <tbody>\n",
       "    <tr>\n",
       "      <th>2024-12-01</th>\n",
       "      <td>163</td>\n",
       "      <td>0</td>\n",
       "    </tr>\n",
       "    <tr>\n",
       "      <th>2025-01-01</th>\n",
       "      <td>439</td>\n",
       "      <td>1</td>\n",
       "    </tr>\n",
       "    <tr>\n",
       "      <th>2025-02-01</th>\n",
       "      <td>710</td>\n",
       "      <td>2</td>\n",
       "    </tr>\n",
       "    <tr>\n",
       "      <th>2025-03-01</th>\n",
       "      <td>683</td>\n",
       "      <td>3</td>\n",
       "    </tr>\n",
       "    <tr>\n",
       "      <th>2025-04-01</th>\n",
       "      <td>238</td>\n",
       "      <td>4</td>\n",
       "    </tr>\n",
       "  </tbody>\n",
       "</table>\n",
       "</div>"
      ],
      "text/plain": [
       "            active_addresses  __row_index\n",
       "dt                                       \n",
       "2024-12-01               163            0\n",
       "2025-01-01               439            1\n",
       "2025-02-01               710            2\n",
       "2025-03-01               683            3\n",
       "2025-04-01               238            4"
      ]
     },
     "execution_count": 20,
     "metadata": {},
     "output_type": "execute_result"
    }
   ],
   "source": [
    "rlusd_addresses_data, freq = test_cleaner.to_time(rlusd_addresses_data)\n",
    "rlusd_addresses_data"
   ]
  },
  {
   "cell_type": "code",
   "execution_count": 21,
   "id": "4c40e73a",
   "metadata": {},
   "outputs": [
    {
     "data": {
      "text/plain": [
       "'MS'"
      ]
     },
     "execution_count": 21,
     "metadata": {},
     "output_type": "execute_result"
    }
   ],
   "source": [
    "freq"
   ]
  },
  {
   "cell_type": "code",
   "execution_count": 22,
   "id": "2c9ebada",
   "metadata": {},
   "outputs": [],
   "source": [
    "rlusd_addresses_data = test_cleaner.clean_dates(rlusd_addresses_data,freq)"
   ]
  },
  {
   "cell_type": "code",
   "execution_count": 23,
   "id": "d6ca0aa5",
   "metadata": {},
   "outputs": [
    {
     "data": {
      "text/html": [
       "<div>\n",
       "<style scoped>\n",
       "    .dataframe tbody tr th:only-of-type {\n",
       "        vertical-align: middle;\n",
       "    }\n",
       "\n",
       "    .dataframe tbody tr th {\n",
       "        vertical-align: top;\n",
       "    }\n",
       "\n",
       "    .dataframe thead th {\n",
       "        text-align: right;\n",
       "    }\n",
       "</style>\n",
       "<table border=\"1\" class=\"dataframe\">\n",
       "  <thead>\n",
       "    <tr style=\"text-align: right;\">\n",
       "      <th></th>\n",
       "      <th>active_addresses</th>\n",
       "      <th>__row_index</th>\n",
       "    </tr>\n",
       "    <tr>\n",
       "      <th>dt</th>\n",
       "      <th></th>\n",
       "      <th></th>\n",
       "    </tr>\n",
       "  </thead>\n",
       "  <tbody>\n",
       "    <tr>\n",
       "      <th>2024-12-01</th>\n",
       "      <td>163</td>\n",
       "      <td>0</td>\n",
       "    </tr>\n",
       "    <tr>\n",
       "      <th>2025-01-01</th>\n",
       "      <td>439</td>\n",
       "      <td>1</td>\n",
       "    </tr>\n",
       "    <tr>\n",
       "      <th>2025-02-01</th>\n",
       "      <td>710</td>\n",
       "      <td>2</td>\n",
       "    </tr>\n",
       "    <tr>\n",
       "      <th>2025-03-01</th>\n",
       "      <td>683</td>\n",
       "      <td>3</td>\n",
       "    </tr>\n",
       "  </tbody>\n",
       "</table>\n",
       "</div>"
      ],
      "text/plain": [
       "            active_addresses  __row_index\n",
       "dt                                       \n",
       "2024-12-01               163            0\n",
       "2025-01-01               439            1\n",
       "2025-02-01               710            2\n",
       "2025-03-01               683            3"
      ]
     },
     "execution_count": 23,
     "metadata": {},
     "output_type": "execute_result"
    }
   ],
   "source": [
    "rlusd_addresses_data"
   ]
  },
  {
   "cell_type": "code",
   "execution_count": 24,
   "id": "64e79a45",
   "metadata": {},
   "outputs": [
    {
     "name": "stdout",
     "output_type": "stream",
     "text": [
      "kind: None\n",
      "chart_type: {'y1': 'bar'}\n",
      "df:             active_addresses  __row_index\n",
      "dt                                       \n",
      "2024-12-01               163            0\n",
      "2025-01-01               439            1\n",
      "2025-02-01               710            2\n",
      "2025-03-01               683            3\n",
      "first_idx: 2024-12-01 00:00:00\n",
      "last_idx: 2025-03-01 00:00:00\n"
     ]
    },
    {
     "data": {
      "application/vnd.plotly.v1+json": {
       "config": {
        "linkText": "Export to plot.ly",
        "plotlyServerURL": "https://plot.ly",
        "showLink": false
       },
       "data": [
        {
         "marker": {
          "color": "#7cb569"
         },
         "name": "ACTIVE ADDRESSES (683)     ",
         "showlegend": false,
         "type": "bar",
         "x": [
          "2024-12-01T00:00:00.000000000",
          "2025-01-01T00:00:00.000000000",
          "2025-02-01T00:00:00.000000000",
          "2025-03-01T00:00:00.000000000"
         ],
         "xaxis": "x",
         "y": {
          "bdata": "owC3AcYCqwI=",
          "dtype": "i2"
         },
         "yaxis": "y"
        }
       ],
       "layout": {
        "annotations": [
         {
          "arrowcolor": "black",
          "arrowhead": 2,
          "arrowsize": 1.5,
          "arrowwidth": 1.5,
          "ax": 10,
          "ay": -50,
          "font": {
           "color": "black",
           "family": "Cardo",
           "size": 12
          },
          "showarrow": true,
          "text": "Mar. 01, 2025:<br>683",
          "x": "2025-03-01T00:00:00",
          "xref": "x",
          "y": 683,
          "yref": "y"
         },
         {
          "arrowcolor": "black",
          "arrowhead": 2,
          "arrowsize": 1.5,
          "arrowwidth": 1.5,
          "ax": 10,
          "ay": -50,
          "font": {
           "color": "black",
           "family": "Cardo",
           "size": 12
          },
          "showarrow": true,
          "text": "Dec. 01, 2024:<br>163",
          "x": "2024-12-01T00:00:00",
          "xref": "x",
          "y": 163,
          "yref": "y"
         },
         {
          "arrowcolor": "black",
          "arrowhead": 2,
          "arrowsize": 1.5,
          "arrowwidth": 1.5,
          "ax": -10,
          "ay": -50,
          "font": {
           "color": "black",
           "family": "Cardo",
           "size": 12
          },
          "showarrow": true,
          "text": "Feb. 01, 2025:<br>710 (ATH)",
          "x": "2025-02-01T00:00:00",
          "xref": "x",
          "y": 710,
          "yref": "y"
         }
        ],
        "autosize": true,
        "barmode": "stack",
        "font": {
         "color": "black",
         "family": "Cardo"
        },
        "height": 400,
        "hovermode": "x unified",
        "legend": {
         "bgcolor": "rgba(0,0,0,0)",
         "bordercolor": "rgba(0,0,0,0)",
         "borderwidth": 1,
         "orientation": "v",
         "traceorder": "normal",
         "x": 0.01,
         "xanchor": "left",
         "y": 1.1,
         "yanchor": "top"
        },
        "margin": {
         "t": 125
        },
        "template": {
         "data": {
          "bar": [
           {
            "error_x": {
             "color": "#2a3f5f"
            },
            "error_y": {
             "color": "#2a3f5f"
            },
            "marker": {
             "line": {
              "color": "white",
              "width": 0.5
             },
             "pattern": {
              "fillmode": "overlay",
              "size": 10,
              "solidity": 0.2
             }
            },
            "type": "bar"
           }
          ],
          "barpolar": [
           {
            "marker": {
             "line": {
              "color": "white",
              "width": 0.5
             },
             "pattern": {
              "fillmode": "overlay",
              "size": 10,
              "solidity": 0.2
             }
            },
            "type": "barpolar"
           }
          ],
          "carpet": [
           {
            "aaxis": {
             "endlinecolor": "#2a3f5f",
             "gridcolor": "#C8D4E3",
             "linecolor": "#C8D4E3",
             "minorgridcolor": "#C8D4E3",
             "startlinecolor": "#2a3f5f"
            },
            "baxis": {
             "endlinecolor": "#2a3f5f",
             "gridcolor": "#C8D4E3",
             "linecolor": "#C8D4E3",
             "minorgridcolor": "#C8D4E3",
             "startlinecolor": "#2a3f5f"
            },
            "type": "carpet"
           }
          ],
          "choropleth": [
           {
            "colorbar": {
             "outlinewidth": 0,
             "ticks": ""
            },
            "type": "choropleth"
           }
          ],
          "contour": [
           {
            "colorbar": {
             "outlinewidth": 0,
             "ticks": ""
            },
            "colorscale": [
             [
              0,
              "#0d0887"
             ],
             [
              0.1111111111111111,
              "#46039f"
             ],
             [
              0.2222222222222222,
              "#7201a8"
             ],
             [
              0.3333333333333333,
              "#9c179e"
             ],
             [
              0.4444444444444444,
              "#bd3786"
             ],
             [
              0.5555555555555556,
              "#d8576b"
             ],
             [
              0.6666666666666666,
              "#ed7953"
             ],
             [
              0.7777777777777778,
              "#fb9f3a"
             ],
             [
              0.8888888888888888,
              "#fdca26"
             ],
             [
              1,
              "#f0f921"
             ]
            ],
            "type": "contour"
           }
          ],
          "contourcarpet": [
           {
            "colorbar": {
             "outlinewidth": 0,
             "ticks": ""
            },
            "type": "contourcarpet"
           }
          ],
          "heatmap": [
           {
            "colorbar": {
             "outlinewidth": 0,
             "ticks": ""
            },
            "colorscale": [
             [
              0,
              "#0d0887"
             ],
             [
              0.1111111111111111,
              "#46039f"
             ],
             [
              0.2222222222222222,
              "#7201a8"
             ],
             [
              0.3333333333333333,
              "#9c179e"
             ],
             [
              0.4444444444444444,
              "#bd3786"
             ],
             [
              0.5555555555555556,
              "#d8576b"
             ],
             [
              0.6666666666666666,
              "#ed7953"
             ],
             [
              0.7777777777777778,
              "#fb9f3a"
             ],
             [
              0.8888888888888888,
              "#fdca26"
             ],
             [
              1,
              "#f0f921"
             ]
            ],
            "type": "heatmap"
           }
          ],
          "histogram": [
           {
            "marker": {
             "pattern": {
              "fillmode": "overlay",
              "size": 10,
              "solidity": 0.2
             }
            },
            "type": "histogram"
           }
          ],
          "histogram2d": [
           {
            "colorbar": {
             "outlinewidth": 0,
             "ticks": ""
            },
            "colorscale": [
             [
              0,
              "#0d0887"
             ],
             [
              0.1111111111111111,
              "#46039f"
             ],
             [
              0.2222222222222222,
              "#7201a8"
             ],
             [
              0.3333333333333333,
              "#9c179e"
             ],
             [
              0.4444444444444444,
              "#bd3786"
             ],
             [
              0.5555555555555556,
              "#d8576b"
             ],
             [
              0.6666666666666666,
              "#ed7953"
             ],
             [
              0.7777777777777778,
              "#fb9f3a"
             ],
             [
              0.8888888888888888,
              "#fdca26"
             ],
             [
              1,
              "#f0f921"
             ]
            ],
            "type": "histogram2d"
           }
          ],
          "histogram2dcontour": [
           {
            "colorbar": {
             "outlinewidth": 0,
             "ticks": ""
            },
            "colorscale": [
             [
              0,
              "#0d0887"
             ],
             [
              0.1111111111111111,
              "#46039f"
             ],
             [
              0.2222222222222222,
              "#7201a8"
             ],
             [
              0.3333333333333333,
              "#9c179e"
             ],
             [
              0.4444444444444444,
              "#bd3786"
             ],
             [
              0.5555555555555556,
              "#d8576b"
             ],
             [
              0.6666666666666666,
              "#ed7953"
             ],
             [
              0.7777777777777778,
              "#fb9f3a"
             ],
             [
              0.8888888888888888,
              "#fdca26"
             ],
             [
              1,
              "#f0f921"
             ]
            ],
            "type": "histogram2dcontour"
           }
          ],
          "mesh3d": [
           {
            "colorbar": {
             "outlinewidth": 0,
             "ticks": ""
            },
            "type": "mesh3d"
           }
          ],
          "parcoords": [
           {
            "line": {
             "colorbar": {
              "outlinewidth": 0,
              "ticks": ""
             }
            },
            "type": "parcoords"
           }
          ],
          "pie": [
           {
            "automargin": true,
            "type": "pie"
           }
          ],
          "scatter": [
           {
            "fillpattern": {
             "fillmode": "overlay",
             "size": 10,
             "solidity": 0.2
            },
            "type": "scatter"
           }
          ],
          "scatter3d": [
           {
            "line": {
             "colorbar": {
              "outlinewidth": 0,
              "ticks": ""
             }
            },
            "marker": {
             "colorbar": {
              "outlinewidth": 0,
              "ticks": ""
             }
            },
            "type": "scatter3d"
           }
          ],
          "scattercarpet": [
           {
            "marker": {
             "colorbar": {
              "outlinewidth": 0,
              "ticks": ""
             }
            },
            "type": "scattercarpet"
           }
          ],
          "scattergeo": [
           {
            "marker": {
             "colorbar": {
              "outlinewidth": 0,
              "ticks": ""
             }
            },
            "type": "scattergeo"
           }
          ],
          "scattergl": [
           {
            "marker": {
             "colorbar": {
              "outlinewidth": 0,
              "ticks": ""
             }
            },
            "type": "scattergl"
           }
          ],
          "scattermap": [
           {
            "marker": {
             "colorbar": {
              "outlinewidth": 0,
              "ticks": ""
             }
            },
            "type": "scattermap"
           }
          ],
          "scattermapbox": [
           {
            "marker": {
             "colorbar": {
              "outlinewidth": 0,
              "ticks": ""
             }
            },
            "type": "scattermapbox"
           }
          ],
          "scatterpolar": [
           {
            "marker": {
             "colorbar": {
              "outlinewidth": 0,
              "ticks": ""
             }
            },
            "type": "scatterpolar"
           }
          ],
          "scatterpolargl": [
           {
            "marker": {
             "colorbar": {
              "outlinewidth": 0,
              "ticks": ""
             }
            },
            "type": "scatterpolargl"
           }
          ],
          "scatterternary": [
           {
            "marker": {
             "colorbar": {
              "outlinewidth": 0,
              "ticks": ""
             }
            },
            "type": "scatterternary"
           }
          ],
          "surface": [
           {
            "colorbar": {
             "outlinewidth": 0,
             "ticks": ""
            },
            "colorscale": [
             [
              0,
              "#0d0887"
             ],
             [
              0.1111111111111111,
              "#46039f"
             ],
             [
              0.2222222222222222,
              "#7201a8"
             ],
             [
              0.3333333333333333,
              "#9c179e"
             ],
             [
              0.4444444444444444,
              "#bd3786"
             ],
             [
              0.5555555555555556,
              "#d8576b"
             ],
             [
              0.6666666666666666,
              "#ed7953"
             ],
             [
              0.7777777777777778,
              "#fb9f3a"
             ],
             [
              0.8888888888888888,
              "#fdca26"
             ],
             [
              1,
              "#f0f921"
             ]
            ],
            "type": "surface"
           }
          ],
          "table": [
           {
            "cells": {
             "fill": {
              "color": "#EBF0F8"
             },
             "line": {
              "color": "white"
             }
            },
            "header": {
             "fill": {
              "color": "#C8D4E3"
             },
             "line": {
              "color": "white"
             }
            },
            "type": "table"
           }
          ]
         },
         "layout": {
          "annotationdefaults": {
           "arrowcolor": "#2a3f5f",
           "arrowhead": 0,
           "arrowwidth": 1
          },
          "autotypenumbers": "strict",
          "coloraxis": {
           "colorbar": {
            "outlinewidth": 0,
            "ticks": ""
           }
          },
          "colorscale": {
           "diverging": [
            [
             0,
             "#8e0152"
            ],
            [
             0.1,
             "#c51b7d"
            ],
            [
             0.2,
             "#de77ae"
            ],
            [
             0.3,
             "#f1b6da"
            ],
            [
             0.4,
             "#fde0ef"
            ],
            [
             0.5,
             "#f7f7f7"
            ],
            [
             0.6,
             "#e6f5d0"
            ],
            [
             0.7,
             "#b8e186"
            ],
            [
             0.8,
             "#7fbc41"
            ],
            [
             0.9,
             "#4d9221"
            ],
            [
             1,
             "#276419"
            ]
           ],
           "sequential": [
            [
             0,
             "#0d0887"
            ],
            [
             0.1111111111111111,
             "#46039f"
            ],
            [
             0.2222222222222222,
             "#7201a8"
            ],
            [
             0.3333333333333333,
             "#9c179e"
            ],
            [
             0.4444444444444444,
             "#bd3786"
            ],
            [
             0.5555555555555556,
             "#d8576b"
            ],
            [
             0.6666666666666666,
             "#ed7953"
            ],
            [
             0.7777777777777778,
             "#fb9f3a"
            ],
            [
             0.8888888888888888,
             "#fdca26"
            ],
            [
             1,
             "#f0f921"
            ]
           ],
           "sequentialminus": [
            [
             0,
             "#0d0887"
            ],
            [
             0.1111111111111111,
             "#46039f"
            ],
            [
             0.2222222222222222,
             "#7201a8"
            ],
            [
             0.3333333333333333,
             "#9c179e"
            ],
            [
             0.4444444444444444,
             "#bd3786"
            ],
            [
             0.5555555555555556,
             "#d8576b"
            ],
            [
             0.6666666666666666,
             "#ed7953"
            ],
            [
             0.7777777777777778,
             "#fb9f3a"
            ],
            [
             0.8888888888888888,
             "#fdca26"
            ],
            [
             1,
             "#f0f921"
            ]
           ]
          },
          "colorway": [
           "#636efa",
           "#EF553B",
           "#00cc96",
           "#ab63fa",
           "#FFA15A",
           "#19d3f3",
           "#FF6692",
           "#B6E880",
           "#FF97FF",
           "#FECB52"
          ],
          "font": {
           "color": "#2a3f5f"
          },
          "geo": {
           "bgcolor": "white",
           "lakecolor": "white",
           "landcolor": "white",
           "showlakes": true,
           "showland": true,
           "subunitcolor": "#C8D4E3"
          },
          "hoverlabel": {
           "align": "left"
          },
          "hovermode": "closest",
          "mapbox": {
           "style": "light"
          },
          "paper_bgcolor": "white",
          "plot_bgcolor": "white",
          "polar": {
           "angularaxis": {
            "gridcolor": "#EBF0F8",
            "linecolor": "#EBF0F8",
            "ticks": ""
           },
           "bgcolor": "white",
           "radialaxis": {
            "gridcolor": "#EBF0F8",
            "linecolor": "#EBF0F8",
            "ticks": ""
           }
          },
          "scene": {
           "xaxis": {
            "backgroundcolor": "white",
            "gridcolor": "#DFE8F3",
            "gridwidth": 2,
            "linecolor": "#EBF0F8",
            "showbackground": true,
            "ticks": "",
            "zerolinecolor": "#EBF0F8"
           },
           "yaxis": {
            "backgroundcolor": "white",
            "gridcolor": "#DFE8F3",
            "gridwidth": 2,
            "linecolor": "#EBF0F8",
            "showbackground": true,
            "ticks": "",
            "zerolinecolor": "#EBF0F8"
           },
           "zaxis": {
            "backgroundcolor": "white",
            "gridcolor": "#DFE8F3",
            "gridwidth": 2,
            "linecolor": "#EBF0F8",
            "showbackground": true,
            "ticks": "",
            "zerolinecolor": "#EBF0F8"
           }
          },
          "shapedefaults": {
           "line": {
            "color": "#2a3f5f"
           }
          },
          "ternary": {
           "aaxis": {
            "gridcolor": "#DFE8F3",
            "linecolor": "#A2B1C6",
            "ticks": ""
           },
           "baxis": {
            "gridcolor": "#DFE8F3",
            "linecolor": "#A2B1C6",
            "ticks": ""
           },
           "bgcolor": "white",
           "caxis": {
            "gridcolor": "#DFE8F3",
            "linecolor": "#A2B1C6",
            "ticks": ""
           }
          },
          "title": {
           "x": 0.05
          },
          "xaxis": {
           "automargin": true,
           "gridcolor": "#EBF0F8",
           "linecolor": "#EBF0F8",
           "ticks": "",
           "title": {
            "standoff": 15
           },
           "zerolinecolor": "#EBF0F8",
           "zerolinewidth": 2
          },
          "yaxis": {
           "automargin": true,
           "gridcolor": "#EBF0F8",
           "linecolor": "#EBF0F8",
           "ticks": "",
           "title": {
            "standoff": 15
           },
           "zerolinecolor": "#EBF0F8",
           "zerolinewidth": 2
          }
         }
        },
        "title": {
         "font": {
          "color": "black",
          "family": "Cardo",
          "size": 27
         },
         "text": "<span style='color: black; font-weight: normal;'>$RLUSD Ethereum Active Addresses<br>Over Time</span><br><sub style='font-size: 18px; color: black; font-weight: normal;'>Monthly through 2025-03-01 00:00:00</sub>",
         "x": 0.2,
         "xanchor": "left",
         "y": 0.9,
         "yanchor": "top"
        },
        "width": 730,
        "xaxis": {
         "anchor": "y",
         "domain": [
          0,
          0.94
         ],
         "tickfont": {
          "color": "black"
         },
         "tickformat": "%b %d <br>%y"
        },
        "yaxis": {
         "anchor": "x",
         "color": "black",
         "domain": [
          0,
          1
         ],
         "tickformat": ""
        },
        "yaxis2": {
         "anchor": "x",
         "color": "black",
         "overlaying": "y",
         "side": "right",
         "tickformat": ""
        }
       }
      }
     },
     "metadata": {},
     "output_type": "display_data"
    }
   ],
   "source": [
    "cm = ChartMaker(shuffle_colors=True)\n",
    "cm.build(\n",
    "    df = rlusd_addresses_data,\n",
    "    axes_data=dict(y1=['active_addresses']),\n",
    "    title='$RLUSD Ethereum Active Addresses<br>Over Time',\n",
    "    chart_type={'y1':'bar'},\n",
    "    options = {\n",
    "        'margin':dict(t=125),\n",
    "        'annotations':True,\n",
    "        'tickformat': dict(x='%b %d <br>%y'),\n",
    "        'decimals': False\n",
    "    },\n",
    ")\n",
    "cm.add_title(\n",
    "    subtitle=f'Monthly through {rlusd_addresses_data.index.max()}',\n",
    "    x=0.2,\n",
    "    y=0.9\n",
    ")\n",
    "cm.add_annotations()\n",
    "cm.show_fig()"
   ]
  },
  {
   "cell_type": "code",
   "execution_count": 25,
   "id": "326aec96",
   "metadata": {},
   "outputs": [
    {
     "data": {
      "text/html": [
       "<div>\n",
       "<style scoped>\n",
       "    .dataframe tbody tr th:only-of-type {\n",
       "        vertical-align: middle;\n",
       "    }\n",
       "\n",
       "    .dataframe tbody tr th {\n",
       "        vertical-align: top;\n",
       "    }\n",
       "\n",
       "    .dataframe thead th {\n",
       "        text-align: right;\n",
       "    }\n",
       "</style>\n",
       "<table border=\"1\" class=\"dataframe\">\n",
       "  <thead>\n",
       "    <tr style=\"text-align: right;\">\n",
       "      <th></th>\n",
       "      <th>active_addresses</th>\n",
       "      <th>__row_index</th>\n",
       "    </tr>\n",
       "    <tr>\n",
       "      <th>dt</th>\n",
       "      <th></th>\n",
       "      <th></th>\n",
       "    </tr>\n",
       "  </thead>\n",
       "  <tbody>\n",
       "    <tr>\n",
       "      <th>2024-12-01</th>\n",
       "      <td>163</td>\n",
       "      <td>0</td>\n",
       "    </tr>\n",
       "    <tr>\n",
       "      <th>2025-01-01</th>\n",
       "      <td>439</td>\n",
       "      <td>1</td>\n",
       "    </tr>\n",
       "    <tr>\n",
       "      <th>2025-02-01</th>\n",
       "      <td>710</td>\n",
       "      <td>2</td>\n",
       "    </tr>\n",
       "    <tr>\n",
       "      <th>2025-03-01</th>\n",
       "      <td>683</td>\n",
       "      <td>3</td>\n",
       "    </tr>\n",
       "  </tbody>\n",
       "</table>\n",
       "</div>"
      ],
      "text/plain": [
       "            active_addresses  __row_index\n",
       "dt                                       \n",
       "2024-12-01               163            0\n",
       "2025-01-01               439            1\n",
       "2025-02-01               710            2\n",
       "2025-03-01               683            3"
      ]
     },
     "execution_count": 25,
     "metadata": {},
     "output_type": "execute_result"
    }
   ],
   "source": [
    "cm.return_df()\n"
   ]
  },
  {
   "cell_type": "code",
   "execution_count": null,
   "id": "bbadc141",
   "metadata": {},
   "outputs": [],
   "source": []
  }
 ],
 "metadata": {
  "kernelspec": {
   "display_name": "test_env",
   "language": "python",
   "name": "python3"
  },
  "language_info": {
   "codemirror_mode": {
    "name": "ipython",
    "version": 3
   },
   "file_extension": ".py",
   "mimetype": "text/x-python",
   "name": "python",
   "nbconvert_exporter": "python",
   "pygments_lexer": "ipython3",
   "version": "3.11.9"
  }
 },
 "nbformat": 4,
 "nbformat_minor": 5
}
