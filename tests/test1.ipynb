{
 "cells": [
  {
   "cell_type": "code",
   "execution_count": 1,
   "id": "3f519d12",
   "metadata": {},
   "outputs": [],
   "source": [
    "import pandas as pd\n",
    "from dfcleaner import DFCleaner\n",
    "from chartengineer import ChartMaker\n",
    "import os"
   ]
  },
  {
   "cell_type": "code",
   "execution_count": 2,
   "id": "202fc5ea",
   "metadata": {},
   "outputs": [],
   "source": [
    "# os.chdir('..')"
   ]
  },
  {
   "cell_type": "code",
   "execution_count": 3,
   "id": "1d6132e6",
   "metadata": {},
   "outputs": [
    {
     "data": {
      "text/plain": [
       "'e:\\\\Projects\\\\chartengineer\\\\tests'"
      ]
     },
     "execution_count": 3,
     "metadata": {},
     "output_type": "execute_result"
    }
   ],
   "source": [
    "os.getcwd()"
   ]
  },
  {
   "cell_type": "code",
   "execution_count": 4,
   "id": "de4f4ca5",
   "metadata": {},
   "outputs": [],
   "source": [
    "test_cleaner = DFCleaner()"
   ]
  },
  {
   "cell_type": "code",
   "execution_count": 5,
   "id": "a016df75",
   "metadata": {},
   "outputs": [
    {
     "data": {
      "text/html": [
       "<div>\n",
       "<style scoped>\n",
       "    .dataframe tbody tr th:only-of-type {\n",
       "        vertical-align: middle;\n",
       "    }\n",
       "\n",
       "    .dataframe tbody tr th {\n",
       "        vertical-align: top;\n",
       "    }\n",
       "\n",
       "    .dataframe thead th {\n",
       "        text-align: right;\n",
       "    }\n",
       "</style>\n",
       "<table border=\"1\" class=\"dataframe\">\n",
       "  <thead>\n",
       "    <tr style=\"text-align: right;\">\n",
       "      <th></th>\n",
       "      <th>ray_bought</th>\n",
       "      <th>cumulative_ray_bought</th>\n",
       "      <th>usdc_amount</th>\n",
       "      <th>cumulative_usdc_spent</th>\n",
       "    </tr>\n",
       "    <tr>\n",
       "      <th>block_date</th>\n",
       "      <th></th>\n",
       "      <th></th>\n",
       "      <th></th>\n",
       "      <th></th>\n",
       "    </tr>\n",
       "  </thead>\n",
       "  <tbody>\n",
       "    <tr>\n",
       "      <th>2024-09-23</th>\n",
       "      <td>4.658846e+04</td>\n",
       "      <td>3.460436e+07</td>\n",
       "      <td>7.131984e+04</td>\n",
       "      <td>4.478479e+07</td>\n",
       "    </tr>\n",
       "    <tr>\n",
       "      <th>2024-09-16</th>\n",
       "      <td>2.940036e+05</td>\n",
       "      <td>3.455777e+07</td>\n",
       "      <td>4.459475e+05</td>\n",
       "      <td>4.471347e+07</td>\n",
       "    </tr>\n",
       "    <tr>\n",
       "      <th>2024-09-09</th>\n",
       "      <td>2.598019e+05</td>\n",
       "      <td>3.426377e+07</td>\n",
       "      <td>3.821256e+05</td>\n",
       "      <td>4.426752e+07</td>\n",
       "    </tr>\n",
       "    <tr>\n",
       "      <th>2024-09-02</th>\n",
       "      <td>2.512750e+05</td>\n",
       "      <td>3.400397e+07</td>\n",
       "      <td>3.667050e+05</td>\n",
       "      <td>4.388540e+07</td>\n",
       "    </tr>\n",
       "    <tr>\n",
       "      <th>2024-08-26</th>\n",
       "      <td>3.166041e+05</td>\n",
       "      <td>3.375269e+07</td>\n",
       "      <td>5.184075e+05</td>\n",
       "      <td>4.351869e+07</td>\n",
       "    </tr>\n",
       "    <tr>\n",
       "      <th>...</th>\n",
       "      <td>...</td>\n",
       "      <td>...</td>\n",
       "      <td>...</td>\n",
       "      <td>...</td>\n",
       "    </tr>\n",
       "    <tr>\n",
       "      <th>2022-05-23</th>\n",
       "      <td>1.275352e+06</td>\n",
       "      <td>2.564530e+06</td>\n",
       "      <td>1.212400e+06</td>\n",
       "      <td>3.320540e+06</td>\n",
       "    </tr>\n",
       "    <tr>\n",
       "      <th>2022-05-16</th>\n",
       "      <td>4.668794e+05</td>\n",
       "      <td>1.289177e+06</td>\n",
       "      <td>5.917632e+05</td>\n",
       "      <td>2.108140e+06</td>\n",
       "    </tr>\n",
       "    <tr>\n",
       "      <th>2022-05-09</th>\n",
       "      <td>4.758494e+05</td>\n",
       "      <td>8.222981e+05</td>\n",
       "      <td>6.308727e+05</td>\n",
       "      <td>1.516377e+06</td>\n",
       "    </tr>\n",
       "    <tr>\n",
       "      <th>2022-04-25</th>\n",
       "      <td>1.905987e+05</td>\n",
       "      <td>3.464487e+05</td>\n",
       "      <td>4.819738e+05</td>\n",
       "      <td>8.855044e+05</td>\n",
       "    </tr>\n",
       "    <tr>\n",
       "      <th>2022-04-18</th>\n",
       "      <td>1.558500e+05</td>\n",
       "      <td>1.558500e+05</td>\n",
       "      <td>4.035305e+05</td>\n",
       "      <td>4.035305e+05</td>\n",
       "    </tr>\n",
       "  </tbody>\n",
       "</table>\n",
       "<p>105 rows × 4 columns</p>\n",
       "</div>"
      ],
      "text/plain": [
       "              ray_bought  cumulative_ray_bought   usdc_amount  \\\n",
       "block_date                                                      \n",
       "2024-09-23  4.658846e+04           3.460436e+07  7.131984e+04   \n",
       "2024-09-16  2.940036e+05           3.455777e+07  4.459475e+05   \n",
       "2024-09-09  2.598019e+05           3.426377e+07  3.821256e+05   \n",
       "2024-09-02  2.512750e+05           3.400397e+07  3.667050e+05   \n",
       "2024-08-26  3.166041e+05           3.375269e+07  5.184075e+05   \n",
       "...                  ...                    ...           ...   \n",
       "2022-05-23  1.275352e+06           2.564530e+06  1.212400e+06   \n",
       "2022-05-16  4.668794e+05           1.289177e+06  5.917632e+05   \n",
       "2022-05-09  4.758494e+05           8.222981e+05  6.308727e+05   \n",
       "2022-04-25  1.905987e+05           3.464487e+05  4.819738e+05   \n",
       "2022-04-18  1.558500e+05           1.558500e+05  4.035305e+05   \n",
       "\n",
       "            cumulative_usdc_spent  \n",
       "block_date                         \n",
       "2024-09-23           4.478479e+07  \n",
       "2024-09-16           4.471347e+07  \n",
       "2024-09-09           4.426752e+07  \n",
       "2024-09-02           4.388540e+07  \n",
       "2024-08-26           4.351869e+07  \n",
       "...                           ...  \n",
       "2022-05-23           3.320540e+06  \n",
       "2022-05-16           2.108140e+06  \n",
       "2022-05-09           1.516377e+06  \n",
       "2022-04-25           8.855044e+05  \n",
       "2022-04-18           4.035305e+05  \n",
       "\n",
       "[105 rows x 4 columns]"
      ]
     },
     "execution_count": 5,
     "metadata": {},
     "output_type": "execute_result"
    }
   ],
   "source": [
    "test_df1 = test_cleaner.to_df(r'data/$RAY_Buyback_2024_09_25.csv')\n",
    "test_df1, time_freq =  test_cleaner.to_time(test_df1)\n",
    "test_df1"
   ]
  },
  {
   "cell_type": "code",
   "execution_count": 8,
   "id": "0f082d0b",
   "metadata": {},
   "outputs": [
    {
     "data": {
      "application/vnd.plotly.v1+json": {
       "config": {
        "linkText": "Export to plot.ly",
        "plotlyServerURL": "https://plot.ly",
        "showLink": false
       },
       "data": [
        {
         "line": {
          "color": "#00CC96",
          "width": 4
         },
         "mode": "lines",
         "name": "CUMULATIVE RAY BOUGHT (155.8K)     ",
         "showlegend": true,
         "type": "scatter",
         "x": [
          "2024-09-23T00:00:00.000000000",
          "2024-09-16T00:00:00.000000000",
          "2024-09-09T00:00:00.000000000",
          "2024-09-02T00:00:00.000000000",
          "2024-08-26T00:00:00.000000000",
          "2024-08-19T00:00:00.000000000",
          "2024-08-12T00:00:00.000000000",
          "2024-08-05T00:00:00.000000000",
          "2024-07-29T00:00:00.000000000",
          "2024-07-22T00:00:00.000000000",
          "2024-07-15T00:00:00.000000000",
          "2024-07-08T00:00:00.000000000",
          "2024-07-01T00:00:00.000000000",
          "2024-06-24T00:00:00.000000000",
          "2024-06-17T00:00:00.000000000",
          "2024-06-10T00:00:00.000000000",
          "2024-06-03T00:00:00.000000000",
          "2024-05-27T00:00:00.000000000",
          "2024-05-20T00:00:00.000000000",
          "2024-05-13T00:00:00.000000000",
          "2024-05-06T00:00:00.000000000",
          "2024-04-29T00:00:00.000000000",
          "2024-04-22T00:00:00.000000000",
          "2024-04-15T00:00:00.000000000",
          "2024-04-08T00:00:00.000000000",
          "2024-04-01T00:00:00.000000000",
          "2024-03-25T00:00:00.000000000",
          "2024-03-18T00:00:00.000000000",
          "2024-03-11T00:00:00.000000000",
          "2024-03-04T00:00:00.000000000",
          "2024-02-26T00:00:00.000000000",
          "2024-02-19T00:00:00.000000000",
          "2024-02-12T00:00:00.000000000",
          "2024-02-05T00:00:00.000000000",
          "2024-01-29T00:00:00.000000000",
          "2024-01-22T00:00:00.000000000",
          "2024-01-15T00:00:00.000000000",
          "2024-01-08T00:00:00.000000000",
          "2024-01-01T00:00:00.000000000",
          "2023-12-25T00:00:00.000000000",
          "2023-12-18T00:00:00.000000000",
          "2023-12-11T00:00:00.000000000",
          "2023-12-04T00:00:00.000000000",
          "2023-11-27T00:00:00.000000000",
          "2023-11-20T00:00:00.000000000",
          "2023-11-13T00:00:00.000000000",
          "2023-11-06T00:00:00.000000000",
          "2023-10-30T00:00:00.000000000",
          "2023-10-23T00:00:00.000000000",
          "2023-10-16T00:00:00.000000000",
          "2023-10-09T00:00:00.000000000",
          "2023-10-02T00:00:00.000000000",
          "2023-09-25T00:00:00.000000000",
          "2023-09-18T00:00:00.000000000",
          "2023-09-11T00:00:00.000000000",
          "2023-09-04T00:00:00.000000000",
          "2023-08-28T00:00:00.000000000",
          "2023-08-21T00:00:00.000000000",
          "2023-08-14T00:00:00.000000000",
          "2023-08-07T00:00:00.000000000",
          "2023-07-31T00:00:00.000000000",
          "2023-07-24T00:00:00.000000000",
          "2023-07-17T00:00:00.000000000",
          "2023-07-10T00:00:00.000000000",
          "2023-07-03T00:00:00.000000000",
          "2023-06-26T00:00:00.000000000",
          "2023-06-19T00:00:00.000000000",
          "2023-06-12T00:00:00.000000000",
          "2023-06-05T00:00:00.000000000",
          "2023-05-29T00:00:00.000000000",
          "2023-05-22T00:00:00.000000000",
          "2023-05-15T00:00:00.000000000",
          "2023-05-08T00:00:00.000000000",
          "2023-05-01T00:00:00.000000000",
          "2023-04-24T00:00:00.000000000",
          "2023-04-17T00:00:00.000000000",
          "2023-04-10T00:00:00.000000000",
          "2023-04-03T00:00:00.000000000",
          "2023-03-27T00:00:00.000000000",
          "2023-03-20T00:00:00.000000000",
          "2023-03-13T00:00:00.000000000",
          "2023-03-06T00:00:00.000000000",
          "2023-02-27T00:00:00.000000000",
          "2023-02-20T00:00:00.000000000",
          "2023-01-02T00:00:00.000000000",
          "2022-11-07T00:00:00.000000000",
          "2022-10-24T00:00:00.000000000",
          "2022-10-17T00:00:00.000000000",
          "2022-10-10T00:00:00.000000000",
          "2022-10-03T00:00:00.000000000",
          "2022-09-26T00:00:00.000000000",
          "2022-09-19T00:00:00.000000000",
          "2022-09-05T00:00:00.000000000",
          "2022-07-18T00:00:00.000000000",
          "2022-07-11T00:00:00.000000000",
          "2022-07-04T00:00:00.000000000",
          "2022-06-27T00:00:00.000000000",
          "2022-06-13T00:00:00.000000000",
          "2022-06-06T00:00:00.000000000",
          "2022-05-30T00:00:00.000000000",
          "2022-05-23T00:00:00.000000000",
          "2022-05-16T00:00:00.000000000",
          "2022-05-09T00:00:00.000000000",
          "2022-04-25T00:00:00.000000000",
          "2022-04-18T00:00:00.000000000"
         ],
         "xaxis": "x",
         "y": {
          "bdata": "uO5GSSqAgEFxfZhlenqAQf+6k8iWVoBBbuZQ+d82gEHUL5GhMxiAQSP8C4Ib439Bfxsi+HWVf0H78VczSi1/QVfXYbyyxH1Bmp0FMCE6fUEac5d467J8QervpSMe23tBnB6Ukd4MekGLhzdtNxt5Qb08XWRT2HhBmBvM6NDsdkF7GvAIPEl2QZV/7eTgP3ZBgNa8qpI6dkFUbqJ6bDh2QRC1bU8MM3ZBEcaP50todUHxocQ7shh0QVdFeJBNiXJBENGoFV75cEFI4I9nr2hwQZT6sp7uMXBBj4mU1cFpb0Ebpja2ECpvQRkuq1XCt25BzH7d1X35bUEVA6QUy2ptQdJzC1Ub/WxBAFcyBLyHbEGTeeS5FPNrQfUR+DegXGtBAMTd+befakFZMPGQb9hpQZFVSnlk8GhBrtnK9JaDaEHWbrsONolnQTqUIR4HCmdBjuVdxVKEZkHMngSDd/RlQequbAq/kWVB3CkdMYIjZUEaMEheb9JkQXTzjV2zjWRBFQDjNoBLZEGnKBfvkitkQfwXiECiFmRBtuEwud4HZEHoHDxadfBjQXhKB2pv5mNBXYor1l3aY0EeozxH8s1jQSNJkNyHxGNBdCdYu0W2Y0Hmdi8VF6djQarXLV60mWNB5tROw6CBY0E9gTALqHpjQZDAH73Xb2NBmzg5gV5cY0EXm1bLfkljQUjF/wOmQWNBuoUu6yo7Y0EorXieATFjQbIS8y3vMGNBjnQG3PoqY0H9iN+MgCJjQUd6Ub7oD2NBLYJ/psgFY0FXP7aDVuViQe1O9wfsz2JBEOdhf6nKYkH9wNXZQcViQYdu9qw3vmJBKqe94/y4YkGKJWULYbViQftzUXlVr2JBVcITUfGjYkGMoLGiZ5tiQVzrC+UPlmJBflJty6QxYkG/cyjk6gliQdMV7GU382FBxTj/0wlzYUHO4zBSb6BbQUQ2kO9qpFZBLSgMrEPEVUGpTDGF079UQf9fdaclcFJBtoe9d7WMUUGgw3z99FFRQTF72doEEVFBOtBDVG/KUEEzMzOqhSBQQWcN3sczeEpBEK/rDd0zR0EyPPbp2JBDQUrXTGrZqzNBLnqnGjQYKUFMF2KlQiUVQVRvDaxPBgNB",
          "dtype": "f8"
         },
         "yaxis": "y"
        },
        {
         "marker": {
          "color": "#af6dff"
         },
         "name": "CUMULATIVE USDC SPENT ($403.5K)     ",
         "showlegend": true,
         "type": "bar",
         "x": [
          "2024-09-23T00:00:00.000000000",
          "2024-09-16T00:00:00.000000000",
          "2024-09-09T00:00:00.000000000",
          "2024-09-02T00:00:00.000000000",
          "2024-08-26T00:00:00.000000000",
          "2024-08-19T00:00:00.000000000",
          "2024-08-12T00:00:00.000000000",
          "2024-08-05T00:00:00.000000000",
          "2024-07-29T00:00:00.000000000",
          "2024-07-22T00:00:00.000000000",
          "2024-07-15T00:00:00.000000000",
          "2024-07-08T00:00:00.000000000",
          "2024-07-01T00:00:00.000000000",
          "2024-06-24T00:00:00.000000000",
          "2024-06-17T00:00:00.000000000",
          "2024-06-10T00:00:00.000000000",
          "2024-06-03T00:00:00.000000000",
          "2024-05-27T00:00:00.000000000",
          "2024-05-20T00:00:00.000000000",
          "2024-05-13T00:00:00.000000000",
          "2024-05-06T00:00:00.000000000",
          "2024-04-29T00:00:00.000000000",
          "2024-04-22T00:00:00.000000000",
          "2024-04-15T00:00:00.000000000",
          "2024-04-08T00:00:00.000000000",
          "2024-04-01T00:00:00.000000000",
          "2024-03-25T00:00:00.000000000",
          "2024-03-18T00:00:00.000000000",
          "2024-03-11T00:00:00.000000000",
          "2024-03-04T00:00:00.000000000",
          "2024-02-26T00:00:00.000000000",
          "2024-02-19T00:00:00.000000000",
          "2024-02-12T00:00:00.000000000",
          "2024-02-05T00:00:00.000000000",
          "2024-01-29T00:00:00.000000000",
          "2024-01-22T00:00:00.000000000",
          "2024-01-15T00:00:00.000000000",
          "2024-01-08T00:00:00.000000000",
          "2024-01-01T00:00:00.000000000",
          "2023-12-25T00:00:00.000000000",
          "2023-12-18T00:00:00.000000000",
          "2023-12-11T00:00:00.000000000",
          "2023-12-04T00:00:00.000000000",
          "2023-11-27T00:00:00.000000000",
          "2023-11-20T00:00:00.000000000",
          "2023-11-13T00:00:00.000000000",
          "2023-11-06T00:00:00.000000000",
          "2023-10-30T00:00:00.000000000",
          "2023-10-23T00:00:00.000000000",
          "2023-10-16T00:00:00.000000000",
          "2023-10-09T00:00:00.000000000",
          "2023-10-02T00:00:00.000000000",
          "2023-09-25T00:00:00.000000000",
          "2023-09-18T00:00:00.000000000",
          "2023-09-11T00:00:00.000000000",
          "2023-09-04T00:00:00.000000000",
          "2023-08-28T00:00:00.000000000",
          "2023-08-21T00:00:00.000000000",
          "2023-08-14T00:00:00.000000000",
          "2023-08-07T00:00:00.000000000",
          "2023-07-31T00:00:00.000000000",
          "2023-07-24T00:00:00.000000000",
          "2023-07-17T00:00:00.000000000",
          "2023-07-10T00:00:00.000000000",
          "2023-07-03T00:00:00.000000000",
          "2023-06-26T00:00:00.000000000",
          "2023-06-19T00:00:00.000000000",
          "2023-06-12T00:00:00.000000000",
          "2023-06-05T00:00:00.000000000",
          "2023-05-29T00:00:00.000000000",
          "2023-05-22T00:00:00.000000000",
          "2023-05-15T00:00:00.000000000",
          "2023-05-08T00:00:00.000000000",
          "2023-05-01T00:00:00.000000000",
          "2023-04-24T00:00:00.000000000",
          "2023-04-17T00:00:00.000000000",
          "2023-04-10T00:00:00.000000000",
          "2023-04-03T00:00:00.000000000",
          "2023-03-27T00:00:00.000000000",
          "2023-03-20T00:00:00.000000000",
          "2023-03-13T00:00:00.000000000",
          "2023-03-06T00:00:00.000000000",
          "2023-02-27T00:00:00.000000000",
          "2023-02-20T00:00:00.000000000",
          "2023-01-02T00:00:00.000000000",
          "2022-11-07T00:00:00.000000000",
          "2022-10-24T00:00:00.000000000",
          "2022-10-17T00:00:00.000000000",
          "2022-10-10T00:00:00.000000000",
          "2022-10-03T00:00:00.000000000",
          "2022-09-26T00:00:00.000000000",
          "2022-09-19T00:00:00.000000000",
          "2022-09-05T00:00:00.000000000",
          "2022-07-18T00:00:00.000000000",
          "2022-07-11T00:00:00.000000000",
          "2022-07-04T00:00:00.000000000",
          "2022-06-27T00:00:00.000000000",
          "2022-06-13T00:00:00.000000000",
          "2022-06-06T00:00:00.000000000",
          "2022-05-30T00:00:00.000000000",
          "2022-05-23T00:00:00.000000000",
          "2022-05-16T00:00:00.000000000",
          "2022-05-09T00:00:00.000000000",
          "2022-04-25T00:00:00.000000000",
          "2022-04-18T00:00:00.000000000"
         ],
         "xaxis": "x",
         "y": {
          "bdata": "WwJ+u+RahUGAI8D8L1KFQfG/uiDAG4VB0H0QtBrthEGfa8orV8CEQUkQdO8OgYRB5y8UpDA+hEHxyqlTnuGDQfd2m1sXo4JBw9134QkMgkE3p5TgU2yBQRjevnbrj4BBvE8LWKACfkGrbFF4bmR8QUjh1zhH/HtBmWMiszjneEEj7QfsZOB3Qdpsk7tb0HdBr3DoY3rHd0ETTeoto8N3QXR800xTundBijm8e9FmdkErwHl6uGt0QQhd0Znm3XFB0rjCn04Ab0H9rO1EqiBtQetRbNEaK2xBwIL93bsxakH2yINXO5hpQcPkhAZz82hBplJiKOD+Z0Fer3BltV5nQW2ZHpln82ZB1VbvOrJ1ZkH/81KrCdZlQfkZk8nrJWVBrROuczdTZEEZ6Ud/w2NjQf2FBXIbXWJBWggW2f3HYUFfNRuXQ1pgQZo3FzFar19BGLrtPdPeXkFi23Gmr1BeQTkg5FcEAV5B7gfX+vqtXUGAW+lcVG9dQT6mjF64QF1BlEwJfBIdXUG5VxzUoRBdQXx7c0j+CF1BCtxh5rkDXUE/q5yaU/pcQUrUAjXl9lxB7BU4/6ryXEFdozOdau5cQQvCF8L36lxB3mvQm8XlXEHDc6gsKeBcQY5IeQbX2lxBt/RfdpfQXEEb2VkPuM1cQTaYUHoGyVxB/DvBx5i/XEFn46Qe0rdcQS9GO96KtFxBVhkhs+GxXEHFOUut7q1cQYFMKF3orVxBXiN/7n6rXEHtYh+JwqdcQc+lAIw8oFxB162BOAycXEGl+deFyo5cQcY4qD4ThVxBLhP5nY+CXEFEukABtX9cQdKSnOT3e1xBy1xt9295XEF0lOUPvXdcQRRMGpCvdFxBf+SOn9tuXEGvd+jabmpcQRxkk8MyZ1xBTkejucMqXEG16BxxbR5cQQOIRGaCElxBjN0onFeRW0Hzo94pkvNXQcnho6lyd1VBpFpvDjP2VEGpD6DNx2FUQaUMqNF9GVNBI6vIu6GMUkF+rJUd5VVSQTlejbzzIFJB5377Uv3vUUEnYr9Gb4RRQW5nucdESk9BlnLgR1eqTEHYJXgCblVJQcpBLSZ2FUBBy05BIFkjN0H7B9PAAAYrQSxi1SIqoRhB",
          "dtype": "f8"
         },
         "yaxis": "y2"
        }
       ],
       "layout": {
        "autosize": true,
        "barmode": "stack",
        "font": {
         "color": "black",
         "family": "Cardo"
        },
        "height": 400,
        "hovermode": "x unified",
        "legend": {
         "bgcolor": "rgba(0,0,0,0)",
         "bordercolor": "rgba(0,0,0,0)",
         "borderwidth": 1,
         "orientation": "v",
         "traceorder": "normal",
         "x": 0.01,
         "xanchor": "left",
         "y": 1.1,
         "yanchor": "top"
        },
        "margin": {
         "t": 100
        },
        "template": {
         "data": {
          "bar": [
           {
            "error_x": {
             "color": "#2a3f5f"
            },
            "error_y": {
             "color": "#2a3f5f"
            },
            "marker": {
             "line": {
              "color": "white",
              "width": 0.5
             },
             "pattern": {
              "fillmode": "overlay",
              "size": 10,
              "solidity": 0.2
             }
            },
            "type": "bar"
           }
          ],
          "barpolar": [
           {
            "marker": {
             "line": {
              "color": "white",
              "width": 0.5
             },
             "pattern": {
              "fillmode": "overlay",
              "size": 10,
              "solidity": 0.2
             }
            },
            "type": "barpolar"
           }
          ],
          "carpet": [
           {
            "aaxis": {
             "endlinecolor": "#2a3f5f",
             "gridcolor": "#C8D4E3",
             "linecolor": "#C8D4E3",
             "minorgridcolor": "#C8D4E3",
             "startlinecolor": "#2a3f5f"
            },
            "baxis": {
             "endlinecolor": "#2a3f5f",
             "gridcolor": "#C8D4E3",
             "linecolor": "#C8D4E3",
             "minorgridcolor": "#C8D4E3",
             "startlinecolor": "#2a3f5f"
            },
            "type": "carpet"
           }
          ],
          "choropleth": [
           {
            "colorbar": {
             "outlinewidth": 0,
             "ticks": ""
            },
            "type": "choropleth"
           }
          ],
          "contour": [
           {
            "colorbar": {
             "outlinewidth": 0,
             "ticks": ""
            },
            "colorscale": [
             [
              0,
              "#0d0887"
             ],
             [
              0.1111111111111111,
              "#46039f"
             ],
             [
              0.2222222222222222,
              "#7201a8"
             ],
             [
              0.3333333333333333,
              "#9c179e"
             ],
             [
              0.4444444444444444,
              "#bd3786"
             ],
             [
              0.5555555555555556,
              "#d8576b"
             ],
             [
              0.6666666666666666,
              "#ed7953"
             ],
             [
              0.7777777777777778,
              "#fb9f3a"
             ],
             [
              0.8888888888888888,
              "#fdca26"
             ],
             [
              1,
              "#f0f921"
             ]
            ],
            "type": "contour"
           }
          ],
          "contourcarpet": [
           {
            "colorbar": {
             "outlinewidth": 0,
             "ticks": ""
            },
            "type": "contourcarpet"
           }
          ],
          "heatmap": [
           {
            "colorbar": {
             "outlinewidth": 0,
             "ticks": ""
            },
            "colorscale": [
             [
              0,
              "#0d0887"
             ],
             [
              0.1111111111111111,
              "#46039f"
             ],
             [
              0.2222222222222222,
              "#7201a8"
             ],
             [
              0.3333333333333333,
              "#9c179e"
             ],
             [
              0.4444444444444444,
              "#bd3786"
             ],
             [
              0.5555555555555556,
              "#d8576b"
             ],
             [
              0.6666666666666666,
              "#ed7953"
             ],
             [
              0.7777777777777778,
              "#fb9f3a"
             ],
             [
              0.8888888888888888,
              "#fdca26"
             ],
             [
              1,
              "#f0f921"
             ]
            ],
            "type": "heatmap"
           }
          ],
          "histogram": [
           {
            "marker": {
             "pattern": {
              "fillmode": "overlay",
              "size": 10,
              "solidity": 0.2
             }
            },
            "type": "histogram"
           }
          ],
          "histogram2d": [
           {
            "colorbar": {
             "outlinewidth": 0,
             "ticks": ""
            },
            "colorscale": [
             [
              0,
              "#0d0887"
             ],
             [
              0.1111111111111111,
              "#46039f"
             ],
             [
              0.2222222222222222,
              "#7201a8"
             ],
             [
              0.3333333333333333,
              "#9c179e"
             ],
             [
              0.4444444444444444,
              "#bd3786"
             ],
             [
              0.5555555555555556,
              "#d8576b"
             ],
             [
              0.6666666666666666,
              "#ed7953"
             ],
             [
              0.7777777777777778,
              "#fb9f3a"
             ],
             [
              0.8888888888888888,
              "#fdca26"
             ],
             [
              1,
              "#f0f921"
             ]
            ],
            "type": "histogram2d"
           }
          ],
          "histogram2dcontour": [
           {
            "colorbar": {
             "outlinewidth": 0,
             "ticks": ""
            },
            "colorscale": [
             [
              0,
              "#0d0887"
             ],
             [
              0.1111111111111111,
              "#46039f"
             ],
             [
              0.2222222222222222,
              "#7201a8"
             ],
             [
              0.3333333333333333,
              "#9c179e"
             ],
             [
              0.4444444444444444,
              "#bd3786"
             ],
             [
              0.5555555555555556,
              "#d8576b"
             ],
             [
              0.6666666666666666,
              "#ed7953"
             ],
             [
              0.7777777777777778,
              "#fb9f3a"
             ],
             [
              0.8888888888888888,
              "#fdca26"
             ],
             [
              1,
              "#f0f921"
             ]
            ],
            "type": "histogram2dcontour"
           }
          ],
          "mesh3d": [
           {
            "colorbar": {
             "outlinewidth": 0,
             "ticks": ""
            },
            "type": "mesh3d"
           }
          ],
          "parcoords": [
           {
            "line": {
             "colorbar": {
              "outlinewidth": 0,
              "ticks": ""
             }
            },
            "type": "parcoords"
           }
          ],
          "pie": [
           {
            "automargin": true,
            "type": "pie"
           }
          ],
          "scatter": [
           {
            "fillpattern": {
             "fillmode": "overlay",
             "size": 10,
             "solidity": 0.2
            },
            "type": "scatter"
           }
          ],
          "scatter3d": [
           {
            "line": {
             "colorbar": {
              "outlinewidth": 0,
              "ticks": ""
             }
            },
            "marker": {
             "colorbar": {
              "outlinewidth": 0,
              "ticks": ""
             }
            },
            "type": "scatter3d"
           }
          ],
          "scattercarpet": [
           {
            "marker": {
             "colorbar": {
              "outlinewidth": 0,
              "ticks": ""
             }
            },
            "type": "scattercarpet"
           }
          ],
          "scattergeo": [
           {
            "marker": {
             "colorbar": {
              "outlinewidth": 0,
              "ticks": ""
             }
            },
            "type": "scattergeo"
           }
          ],
          "scattergl": [
           {
            "marker": {
             "colorbar": {
              "outlinewidth": 0,
              "ticks": ""
             }
            },
            "type": "scattergl"
           }
          ],
          "scattermap": [
           {
            "marker": {
             "colorbar": {
              "outlinewidth": 0,
              "ticks": ""
             }
            },
            "type": "scattermap"
           }
          ],
          "scattermapbox": [
           {
            "marker": {
             "colorbar": {
              "outlinewidth": 0,
              "ticks": ""
             }
            },
            "type": "scattermapbox"
           }
          ],
          "scatterpolar": [
           {
            "marker": {
             "colorbar": {
              "outlinewidth": 0,
              "ticks": ""
             }
            },
            "type": "scatterpolar"
           }
          ],
          "scatterpolargl": [
           {
            "marker": {
             "colorbar": {
              "outlinewidth": 0,
              "ticks": ""
             }
            },
            "type": "scatterpolargl"
           }
          ],
          "scatterternary": [
           {
            "marker": {
             "colorbar": {
              "outlinewidth": 0,
              "ticks": ""
             }
            },
            "type": "scatterternary"
           }
          ],
          "surface": [
           {
            "colorbar": {
             "outlinewidth": 0,
             "ticks": ""
            },
            "colorscale": [
             [
              0,
              "#0d0887"
             ],
             [
              0.1111111111111111,
              "#46039f"
             ],
             [
              0.2222222222222222,
              "#7201a8"
             ],
             [
              0.3333333333333333,
              "#9c179e"
             ],
             [
              0.4444444444444444,
              "#bd3786"
             ],
             [
              0.5555555555555556,
              "#d8576b"
             ],
             [
              0.6666666666666666,
              "#ed7953"
             ],
             [
              0.7777777777777778,
              "#fb9f3a"
             ],
             [
              0.8888888888888888,
              "#fdca26"
             ],
             [
              1,
              "#f0f921"
             ]
            ],
            "type": "surface"
           }
          ],
          "table": [
           {
            "cells": {
             "fill": {
              "color": "#EBF0F8"
             },
             "line": {
              "color": "white"
             }
            },
            "header": {
             "fill": {
              "color": "#C8D4E3"
             },
             "line": {
              "color": "white"
             }
            },
            "type": "table"
           }
          ]
         },
         "layout": {
          "annotationdefaults": {
           "arrowcolor": "#2a3f5f",
           "arrowhead": 0,
           "arrowwidth": 1
          },
          "autotypenumbers": "strict",
          "coloraxis": {
           "colorbar": {
            "outlinewidth": 0,
            "ticks": ""
           }
          },
          "colorscale": {
           "diverging": [
            [
             0,
             "#8e0152"
            ],
            [
             0.1,
             "#c51b7d"
            ],
            [
             0.2,
             "#de77ae"
            ],
            [
             0.3,
             "#f1b6da"
            ],
            [
             0.4,
             "#fde0ef"
            ],
            [
             0.5,
             "#f7f7f7"
            ],
            [
             0.6,
             "#e6f5d0"
            ],
            [
             0.7,
             "#b8e186"
            ],
            [
             0.8,
             "#7fbc41"
            ],
            [
             0.9,
             "#4d9221"
            ],
            [
             1,
             "#276419"
            ]
           ],
           "sequential": [
            [
             0,
             "#0d0887"
            ],
            [
             0.1111111111111111,
             "#46039f"
            ],
            [
             0.2222222222222222,
             "#7201a8"
            ],
            [
             0.3333333333333333,
             "#9c179e"
            ],
            [
             0.4444444444444444,
             "#bd3786"
            ],
            [
             0.5555555555555556,
             "#d8576b"
            ],
            [
             0.6666666666666666,
             "#ed7953"
            ],
            [
             0.7777777777777778,
             "#fb9f3a"
            ],
            [
             0.8888888888888888,
             "#fdca26"
            ],
            [
             1,
             "#f0f921"
            ]
           ],
           "sequentialminus": [
            [
             0,
             "#0d0887"
            ],
            [
             0.1111111111111111,
             "#46039f"
            ],
            [
             0.2222222222222222,
             "#7201a8"
            ],
            [
             0.3333333333333333,
             "#9c179e"
            ],
            [
             0.4444444444444444,
             "#bd3786"
            ],
            [
             0.5555555555555556,
             "#d8576b"
            ],
            [
             0.6666666666666666,
             "#ed7953"
            ],
            [
             0.7777777777777778,
             "#fb9f3a"
            ],
            [
             0.8888888888888888,
             "#fdca26"
            ],
            [
             1,
             "#f0f921"
            ]
           ]
          },
          "colorway": [
           "#636efa",
           "#EF553B",
           "#00cc96",
           "#ab63fa",
           "#FFA15A",
           "#19d3f3",
           "#FF6692",
           "#B6E880",
           "#FF97FF",
           "#FECB52"
          ],
          "font": {
           "color": "#2a3f5f"
          },
          "geo": {
           "bgcolor": "white",
           "lakecolor": "white",
           "landcolor": "white",
           "showlakes": true,
           "showland": true,
           "subunitcolor": "#C8D4E3"
          },
          "hoverlabel": {
           "align": "left"
          },
          "hovermode": "closest",
          "mapbox": {
           "style": "light"
          },
          "paper_bgcolor": "white",
          "plot_bgcolor": "white",
          "polar": {
           "angularaxis": {
            "gridcolor": "#EBF0F8",
            "linecolor": "#EBF0F8",
            "ticks": ""
           },
           "bgcolor": "white",
           "radialaxis": {
            "gridcolor": "#EBF0F8",
            "linecolor": "#EBF0F8",
            "ticks": ""
           }
          },
          "scene": {
           "xaxis": {
            "backgroundcolor": "white",
            "gridcolor": "#DFE8F3",
            "gridwidth": 2,
            "linecolor": "#EBF0F8",
            "showbackground": true,
            "ticks": "",
            "zerolinecolor": "#EBF0F8"
           },
           "yaxis": {
            "backgroundcolor": "white",
            "gridcolor": "#DFE8F3",
            "gridwidth": 2,
            "linecolor": "#EBF0F8",
            "showbackground": true,
            "ticks": "",
            "zerolinecolor": "#EBF0F8"
           },
           "zaxis": {
            "backgroundcolor": "white",
            "gridcolor": "#DFE8F3",
            "gridwidth": 2,
            "linecolor": "#EBF0F8",
            "showbackground": true,
            "ticks": "",
            "zerolinecolor": "#EBF0F8"
           }
          },
          "shapedefaults": {
           "line": {
            "color": "#2a3f5f"
           }
          },
          "ternary": {
           "aaxis": {
            "gridcolor": "#DFE8F3",
            "linecolor": "#A2B1C6",
            "ticks": ""
           },
           "baxis": {
            "gridcolor": "#DFE8F3",
            "linecolor": "#A2B1C6",
            "ticks": ""
           },
           "bgcolor": "white",
           "caxis": {
            "gridcolor": "#DFE8F3",
            "linecolor": "#A2B1C6",
            "ticks": ""
           }
          },
          "title": {
           "x": 0.05
          },
          "xaxis": {
           "automargin": true,
           "gridcolor": "#EBF0F8",
           "linecolor": "#EBF0F8",
           "ticks": "",
           "title": {
            "standoff": 15
           },
           "zerolinecolor": "#EBF0F8",
           "zerolinewidth": 2
          },
          "yaxis": {
           "automargin": true,
           "gridcolor": "#EBF0F8",
           "linecolor": "#EBF0F8",
           "ticks": "",
           "title": {
            "standoff": 15
           },
           "zerolinecolor": "#EBF0F8",
           "zerolinewidth": 2
          }
         }
        },
        "title": {
         "font": {
          "color": "black",
          "family": "Cardo",
          "size": 27
         },
         "text": "<span style='color: black; font-weight: normal;'>$RAY Buybacks Over Time</span><br><sub style='font-size: 18px; color: black; font-weight: normal;'>Daily through 2024-09-23 00:00:00</sub>",
         "x": 0.25,
         "xanchor": "left",
         "y": 0.9,
         "yanchor": "top"
        },
        "width": 730,
        "xaxis": {
         "anchor": "y",
         "domain": [
          0,
          0.94
         ],
         "tickfont": {
          "color": "black"
         }
        },
        "yaxis": {
         "anchor": "x",
         "color": "#00CC96",
         "domain": [
          0,
          1
         ],
         "tickprefix": "",
         "title": {
          "text": "CUMULATIVE RAY BOUGHT"
         }
        },
        "yaxis2": {
         "anchor": "x",
         "color": "#af6dff",
         "overlaying": "y",
         "side": "right",
         "tickprefix": "$",
         "title": {
          "text": "CUMULATIVE USDC SPENT"
         }
        }
       }
      }
     },
     "metadata": {},
     "output_type": "display_data"
    },
    {
     "name": "stdout",
     "output_type": "stream",
     "text": [
      "Saving figure to: img\\$RAY Buybacks Over Time.png\n"
     ]
    }
   ],
   "source": [
    "cm = ChartMaker(shuffle_colors=True)\n",
    "cm.build(\n",
    "    df = test_df1,\n",
    "    axes_data=dict(y1=['cumulative_ray_bought'],\n",
    "                    y2=['cumulative_usdc_spent']),\n",
    "    title='$RAY Buybacks Over Time',\n",
    "    chart_type={'y1':'line','y2':'bar'},\n",
    "    options = {'margin':dict(t=100),'annotations':True,\n",
    "                'tickprefix':{'y2':'$'},'auto_title':True,\n",
    "                'show_legend':True},\n",
    ")\n",
    "cm.add_title(\n",
    "    title='$RAY Buybacks Over Time',\n",
    "    subtitle=f'Daily through {test_df1.index.max()}',\n",
    "    x=0.25,\n",
    "    y=0.9\n",
    ")\n",
    "cm.add_annotations()\n",
    "cm.show_fig()\n",
    "cm.save_fig(save_directory='img')"
   ]
  },
  {
   "cell_type": "code",
   "execution_count": 7,
   "id": "7f447528",
   "metadata": {},
   "outputs": [
    {
     "name": "stdout",
     "output_type": "stream",
     "text": [
      "last_text: Sep. 23, 2024:<br>34.6M\n"
     ]
    },
    {
     "data": {
      "application/vnd.plotly.v1+json": {
       "config": {
        "linkText": "Export to plot.ly",
        "plotlyServerURL": "https://plot.ly",
        "showLink": false
       },
       "data": [
        {
         "line": {
          "color": "#2E91E5",
          "width": 4
         },
         "mode": "lines",
         "name": "CUMULATIVE RAY BOUGHT (155.8K)     ",
         "showlegend": false,
         "type": "scatter",
         "x": [
          "2024-09-23T00:00:00.000000000",
          "2024-09-16T00:00:00.000000000",
          "2024-09-09T00:00:00.000000000",
          "2024-09-02T00:00:00.000000000",
          "2024-08-26T00:00:00.000000000",
          "2024-08-19T00:00:00.000000000",
          "2024-08-12T00:00:00.000000000",
          "2024-08-05T00:00:00.000000000",
          "2024-07-29T00:00:00.000000000",
          "2024-07-22T00:00:00.000000000",
          "2024-07-15T00:00:00.000000000",
          "2024-07-08T00:00:00.000000000",
          "2024-07-01T00:00:00.000000000",
          "2024-06-24T00:00:00.000000000",
          "2024-06-17T00:00:00.000000000",
          "2024-06-10T00:00:00.000000000",
          "2024-06-03T00:00:00.000000000",
          "2024-05-27T00:00:00.000000000",
          "2024-05-20T00:00:00.000000000",
          "2024-05-13T00:00:00.000000000",
          "2024-05-06T00:00:00.000000000",
          "2024-04-29T00:00:00.000000000",
          "2024-04-22T00:00:00.000000000",
          "2024-04-15T00:00:00.000000000",
          "2024-04-08T00:00:00.000000000",
          "2024-04-01T00:00:00.000000000",
          "2024-03-25T00:00:00.000000000",
          "2024-03-18T00:00:00.000000000",
          "2024-03-11T00:00:00.000000000",
          "2024-03-04T00:00:00.000000000",
          "2024-02-26T00:00:00.000000000",
          "2024-02-19T00:00:00.000000000",
          "2024-02-12T00:00:00.000000000",
          "2024-02-05T00:00:00.000000000",
          "2024-01-29T00:00:00.000000000",
          "2024-01-22T00:00:00.000000000",
          "2024-01-15T00:00:00.000000000",
          "2024-01-08T00:00:00.000000000",
          "2024-01-01T00:00:00.000000000",
          "2023-12-25T00:00:00.000000000",
          "2023-12-18T00:00:00.000000000",
          "2023-12-11T00:00:00.000000000",
          "2023-12-04T00:00:00.000000000",
          "2023-11-27T00:00:00.000000000",
          "2023-11-20T00:00:00.000000000",
          "2023-11-13T00:00:00.000000000",
          "2023-11-06T00:00:00.000000000",
          "2023-10-30T00:00:00.000000000",
          "2023-10-23T00:00:00.000000000",
          "2023-10-16T00:00:00.000000000",
          "2023-10-09T00:00:00.000000000",
          "2023-10-02T00:00:00.000000000",
          "2023-09-25T00:00:00.000000000",
          "2023-09-18T00:00:00.000000000",
          "2023-09-11T00:00:00.000000000",
          "2023-09-04T00:00:00.000000000",
          "2023-08-28T00:00:00.000000000",
          "2023-08-21T00:00:00.000000000",
          "2023-08-14T00:00:00.000000000",
          "2023-08-07T00:00:00.000000000",
          "2023-07-31T00:00:00.000000000",
          "2023-07-24T00:00:00.000000000",
          "2023-07-17T00:00:00.000000000",
          "2023-07-10T00:00:00.000000000",
          "2023-07-03T00:00:00.000000000",
          "2023-06-26T00:00:00.000000000",
          "2023-06-19T00:00:00.000000000",
          "2023-06-12T00:00:00.000000000",
          "2023-06-05T00:00:00.000000000",
          "2023-05-29T00:00:00.000000000",
          "2023-05-22T00:00:00.000000000",
          "2023-05-15T00:00:00.000000000",
          "2023-05-08T00:00:00.000000000",
          "2023-05-01T00:00:00.000000000",
          "2023-04-24T00:00:00.000000000",
          "2023-04-17T00:00:00.000000000",
          "2023-04-10T00:00:00.000000000",
          "2023-04-03T00:00:00.000000000",
          "2023-03-27T00:00:00.000000000",
          "2023-03-20T00:00:00.000000000",
          "2023-03-13T00:00:00.000000000",
          "2023-03-06T00:00:00.000000000",
          "2023-02-27T00:00:00.000000000",
          "2023-02-20T00:00:00.000000000",
          "2023-01-02T00:00:00.000000000",
          "2022-11-07T00:00:00.000000000",
          "2022-10-24T00:00:00.000000000",
          "2022-10-17T00:00:00.000000000",
          "2022-10-10T00:00:00.000000000",
          "2022-10-03T00:00:00.000000000",
          "2022-09-26T00:00:00.000000000",
          "2022-09-19T00:00:00.000000000",
          "2022-09-05T00:00:00.000000000",
          "2022-07-18T00:00:00.000000000",
          "2022-07-11T00:00:00.000000000",
          "2022-07-04T00:00:00.000000000",
          "2022-06-27T00:00:00.000000000",
          "2022-06-13T00:00:00.000000000",
          "2022-06-06T00:00:00.000000000",
          "2022-05-30T00:00:00.000000000",
          "2022-05-23T00:00:00.000000000",
          "2022-05-16T00:00:00.000000000",
          "2022-05-09T00:00:00.000000000",
          "2022-04-25T00:00:00.000000000",
          "2022-04-18T00:00:00.000000000"
         ],
         "xaxis": "x",
         "y": {
          "bdata": "uO5GSSqAgEFxfZhlenqAQf+6k8iWVoBBbuZQ+d82gEHUL5GhMxiAQSP8C4Ib439Bfxsi+HWVf0H78VczSi1/QVfXYbyyxH1Bmp0FMCE6fUEac5d467J8QervpSMe23tBnB6Ukd4MekGLhzdtNxt5Qb08XWRT2HhBmBvM6NDsdkF7GvAIPEl2QZV/7eTgP3ZBgNa8qpI6dkFUbqJ6bDh2QRC1bU8MM3ZBEcaP50todUHxocQ7shh0QVdFeJBNiXJBENGoFV75cEFI4I9nr2hwQZT6sp7uMXBBj4mU1cFpb0Ebpja2ECpvQRkuq1XCt25BzH7d1X35bUEVA6QUy2ptQdJzC1Ub/WxBAFcyBLyHbEGTeeS5FPNrQfUR+DegXGtBAMTd+befakFZMPGQb9hpQZFVSnlk8GhBrtnK9JaDaEHWbrsONolnQTqUIR4HCmdBjuVdxVKEZkHMngSDd/RlQequbAq/kWVB3CkdMYIjZUEaMEheb9JkQXTzjV2zjWRBFQDjNoBLZEGnKBfvkitkQfwXiECiFmRBtuEwud4HZEHoHDxadfBjQXhKB2pv5mNBXYor1l3aY0EeozxH8s1jQSNJkNyHxGNBdCdYu0W2Y0Hmdi8VF6djQarXLV60mWNB5tROw6CBY0E9gTALqHpjQZDAH73Xb2NBmzg5gV5cY0EXm1bLfkljQUjF/wOmQWNBuoUu6yo7Y0EorXieATFjQbIS8y3vMGNBjnQG3PoqY0H9iN+MgCJjQUd6Ub7oD2NBLYJ/psgFY0FXP7aDVuViQe1O9wfsz2JBEOdhf6nKYkH9wNXZQcViQYdu9qw3vmJBKqe94/y4YkGKJWULYbViQftzUXlVr2JBVcITUfGjYkGMoLGiZ5tiQVzrC+UPlmJBflJty6QxYkG/cyjk6gliQdMV7GU382FBxTj/0wlzYUHO4zBSb6BbQUQ2kO9qpFZBLSgMrEPEVUGpTDGF079UQf9fdaclcFJBtoe9d7WMUUGgw3z99FFRQTF72doEEVFBOtBDVG/KUEEzMzOqhSBQQWcN3sczeEpBEK/rDd0zR0EyPPbp2JBDQUrXTGrZqzNBLnqnGjQYKUFMF2KlQiUVQVRvDaxPBgNB",
          "dtype": "f8"
         },
         "yaxis": "y"
        }
       ],
       "layout": {
        "annotations": [
         {
          "arrowcolor": "black",
          "arrowhead": 2,
          "arrowsize": 1.5,
          "arrowwidth": 1.5,
          "ax": -100,
          "ay": -50,
          "font": {
           "color": "black",
           "family": "Cardo",
           "size": 12
          },
          "showarrow": true,
          "text": "Sep. 23, 2024:<br>34.6M",
          "x": "2024-09-23T00:00:00",
          "xref": "x",
          "y": 34604361.15963501,
          "yref": "y"
         },
         {
          "arrowcolor": "black",
          "arrowhead": 2,
          "arrowsize": 1.5,
          "arrowwidth": 1.5,
          "ax": 50,
          "ay": -50,
          "font": {
           "color": "black",
           "family": "Cardo",
           "size": 12
          },
          "showarrow": true,
          "text": "Apr. 18, 2022:<br>155.8K",
          "x": "2022-04-18T00:00:00",
          "xref": "x",
          "y": 155849.95901,
          "yref": "y"
         }
        ],
        "autosize": true,
        "barmode": "stack",
        "font": {
         "color": "black",
         "family": "Cardo"
        },
        "height": 400,
        "hovermode": "x unified",
        "legend": {
         "bgcolor": "rgba(0,0,0,0)",
         "bordercolor": "rgba(0,0,0,0)",
         "borderwidth": 1,
         "orientation": "v",
         "traceorder": "normal",
         "x": 0.01,
         "xanchor": "left",
         "y": 1.1,
         "yanchor": "top"
        },
        "margin": {
         "t": 100
        },
        "template": {
         "data": {
          "bar": [
           {
            "error_x": {
             "color": "#2a3f5f"
            },
            "error_y": {
             "color": "#2a3f5f"
            },
            "marker": {
             "line": {
              "color": "white",
              "width": 0.5
             },
             "pattern": {
              "fillmode": "overlay",
              "size": 10,
              "solidity": 0.2
             }
            },
            "type": "bar"
           }
          ],
          "barpolar": [
           {
            "marker": {
             "line": {
              "color": "white",
              "width": 0.5
             },
             "pattern": {
              "fillmode": "overlay",
              "size": 10,
              "solidity": 0.2
             }
            },
            "type": "barpolar"
           }
          ],
          "carpet": [
           {
            "aaxis": {
             "endlinecolor": "#2a3f5f",
             "gridcolor": "#C8D4E3",
             "linecolor": "#C8D4E3",
             "minorgridcolor": "#C8D4E3",
             "startlinecolor": "#2a3f5f"
            },
            "baxis": {
             "endlinecolor": "#2a3f5f",
             "gridcolor": "#C8D4E3",
             "linecolor": "#C8D4E3",
             "minorgridcolor": "#C8D4E3",
             "startlinecolor": "#2a3f5f"
            },
            "type": "carpet"
           }
          ],
          "choropleth": [
           {
            "colorbar": {
             "outlinewidth": 0,
             "ticks": ""
            },
            "type": "choropleth"
           }
          ],
          "contour": [
           {
            "colorbar": {
             "outlinewidth": 0,
             "ticks": ""
            },
            "colorscale": [
             [
              0,
              "#0d0887"
             ],
             [
              0.1111111111111111,
              "#46039f"
             ],
             [
              0.2222222222222222,
              "#7201a8"
             ],
             [
              0.3333333333333333,
              "#9c179e"
             ],
             [
              0.4444444444444444,
              "#bd3786"
             ],
             [
              0.5555555555555556,
              "#d8576b"
             ],
             [
              0.6666666666666666,
              "#ed7953"
             ],
             [
              0.7777777777777778,
              "#fb9f3a"
             ],
             [
              0.8888888888888888,
              "#fdca26"
             ],
             [
              1,
              "#f0f921"
             ]
            ],
            "type": "contour"
           }
          ],
          "contourcarpet": [
           {
            "colorbar": {
             "outlinewidth": 0,
             "ticks": ""
            },
            "type": "contourcarpet"
           }
          ],
          "heatmap": [
           {
            "colorbar": {
             "outlinewidth": 0,
             "ticks": ""
            },
            "colorscale": [
             [
              0,
              "#0d0887"
             ],
             [
              0.1111111111111111,
              "#46039f"
             ],
             [
              0.2222222222222222,
              "#7201a8"
             ],
             [
              0.3333333333333333,
              "#9c179e"
             ],
             [
              0.4444444444444444,
              "#bd3786"
             ],
             [
              0.5555555555555556,
              "#d8576b"
             ],
             [
              0.6666666666666666,
              "#ed7953"
             ],
             [
              0.7777777777777778,
              "#fb9f3a"
             ],
             [
              0.8888888888888888,
              "#fdca26"
             ],
             [
              1,
              "#f0f921"
             ]
            ],
            "type": "heatmap"
           }
          ],
          "histogram": [
           {
            "marker": {
             "pattern": {
              "fillmode": "overlay",
              "size": 10,
              "solidity": 0.2
             }
            },
            "type": "histogram"
           }
          ],
          "histogram2d": [
           {
            "colorbar": {
             "outlinewidth": 0,
             "ticks": ""
            },
            "colorscale": [
             [
              0,
              "#0d0887"
             ],
             [
              0.1111111111111111,
              "#46039f"
             ],
             [
              0.2222222222222222,
              "#7201a8"
             ],
             [
              0.3333333333333333,
              "#9c179e"
             ],
             [
              0.4444444444444444,
              "#bd3786"
             ],
             [
              0.5555555555555556,
              "#d8576b"
             ],
             [
              0.6666666666666666,
              "#ed7953"
             ],
             [
              0.7777777777777778,
              "#fb9f3a"
             ],
             [
              0.8888888888888888,
              "#fdca26"
             ],
             [
              1,
              "#f0f921"
             ]
            ],
            "type": "histogram2d"
           }
          ],
          "histogram2dcontour": [
           {
            "colorbar": {
             "outlinewidth": 0,
             "ticks": ""
            },
            "colorscale": [
             [
              0,
              "#0d0887"
             ],
             [
              0.1111111111111111,
              "#46039f"
             ],
             [
              0.2222222222222222,
              "#7201a8"
             ],
             [
              0.3333333333333333,
              "#9c179e"
             ],
             [
              0.4444444444444444,
              "#bd3786"
             ],
             [
              0.5555555555555556,
              "#d8576b"
             ],
             [
              0.6666666666666666,
              "#ed7953"
             ],
             [
              0.7777777777777778,
              "#fb9f3a"
             ],
             [
              0.8888888888888888,
              "#fdca26"
             ],
             [
              1,
              "#f0f921"
             ]
            ],
            "type": "histogram2dcontour"
           }
          ],
          "mesh3d": [
           {
            "colorbar": {
             "outlinewidth": 0,
             "ticks": ""
            },
            "type": "mesh3d"
           }
          ],
          "parcoords": [
           {
            "line": {
             "colorbar": {
              "outlinewidth": 0,
              "ticks": ""
             }
            },
            "type": "parcoords"
           }
          ],
          "pie": [
           {
            "automargin": true,
            "type": "pie"
           }
          ],
          "scatter": [
           {
            "fillpattern": {
             "fillmode": "overlay",
             "size": 10,
             "solidity": 0.2
            },
            "type": "scatter"
           }
          ],
          "scatter3d": [
           {
            "line": {
             "colorbar": {
              "outlinewidth": 0,
              "ticks": ""
             }
            },
            "marker": {
             "colorbar": {
              "outlinewidth": 0,
              "ticks": ""
             }
            },
            "type": "scatter3d"
           }
          ],
          "scattercarpet": [
           {
            "marker": {
             "colorbar": {
              "outlinewidth": 0,
              "ticks": ""
             }
            },
            "type": "scattercarpet"
           }
          ],
          "scattergeo": [
           {
            "marker": {
             "colorbar": {
              "outlinewidth": 0,
              "ticks": ""
             }
            },
            "type": "scattergeo"
           }
          ],
          "scattergl": [
           {
            "marker": {
             "colorbar": {
              "outlinewidth": 0,
              "ticks": ""
             }
            },
            "type": "scattergl"
           }
          ],
          "scattermap": [
           {
            "marker": {
             "colorbar": {
              "outlinewidth": 0,
              "ticks": ""
             }
            },
            "type": "scattermap"
           }
          ],
          "scattermapbox": [
           {
            "marker": {
             "colorbar": {
              "outlinewidth": 0,
              "ticks": ""
             }
            },
            "type": "scattermapbox"
           }
          ],
          "scatterpolar": [
           {
            "marker": {
             "colorbar": {
              "outlinewidth": 0,
              "ticks": ""
             }
            },
            "type": "scatterpolar"
           }
          ],
          "scatterpolargl": [
           {
            "marker": {
             "colorbar": {
              "outlinewidth": 0,
              "ticks": ""
             }
            },
            "type": "scatterpolargl"
           }
          ],
          "scatterternary": [
           {
            "marker": {
             "colorbar": {
              "outlinewidth": 0,
              "ticks": ""
             }
            },
            "type": "scatterternary"
           }
          ],
          "surface": [
           {
            "colorbar": {
             "outlinewidth": 0,
             "ticks": ""
            },
            "colorscale": [
             [
              0,
              "#0d0887"
             ],
             [
              0.1111111111111111,
              "#46039f"
             ],
             [
              0.2222222222222222,
              "#7201a8"
             ],
             [
              0.3333333333333333,
              "#9c179e"
             ],
             [
              0.4444444444444444,
              "#bd3786"
             ],
             [
              0.5555555555555556,
              "#d8576b"
             ],
             [
              0.6666666666666666,
              "#ed7953"
             ],
             [
              0.7777777777777778,
              "#fb9f3a"
             ],
             [
              0.8888888888888888,
              "#fdca26"
             ],
             [
              1,
              "#f0f921"
             ]
            ],
            "type": "surface"
           }
          ],
          "table": [
           {
            "cells": {
             "fill": {
              "color": "#EBF0F8"
             },
             "line": {
              "color": "white"
             }
            },
            "header": {
             "fill": {
              "color": "#C8D4E3"
             },
             "line": {
              "color": "white"
             }
            },
            "type": "table"
           }
          ]
         },
         "layout": {
          "annotationdefaults": {
           "arrowcolor": "#2a3f5f",
           "arrowhead": 0,
           "arrowwidth": 1
          },
          "autotypenumbers": "strict",
          "coloraxis": {
           "colorbar": {
            "outlinewidth": 0,
            "ticks": ""
           }
          },
          "colorscale": {
           "diverging": [
            [
             0,
             "#8e0152"
            ],
            [
             0.1,
             "#c51b7d"
            ],
            [
             0.2,
             "#de77ae"
            ],
            [
             0.3,
             "#f1b6da"
            ],
            [
             0.4,
             "#fde0ef"
            ],
            [
             0.5,
             "#f7f7f7"
            ],
            [
             0.6,
             "#e6f5d0"
            ],
            [
             0.7,
             "#b8e186"
            ],
            [
             0.8,
             "#7fbc41"
            ],
            [
             0.9,
             "#4d9221"
            ],
            [
             1,
             "#276419"
            ]
           ],
           "sequential": [
            [
             0,
             "#0d0887"
            ],
            [
             0.1111111111111111,
             "#46039f"
            ],
            [
             0.2222222222222222,
             "#7201a8"
            ],
            [
             0.3333333333333333,
             "#9c179e"
            ],
            [
             0.4444444444444444,
             "#bd3786"
            ],
            [
             0.5555555555555556,
             "#d8576b"
            ],
            [
             0.6666666666666666,
             "#ed7953"
            ],
            [
             0.7777777777777778,
             "#fb9f3a"
            ],
            [
             0.8888888888888888,
             "#fdca26"
            ],
            [
             1,
             "#f0f921"
            ]
           ],
           "sequentialminus": [
            [
             0,
             "#0d0887"
            ],
            [
             0.1111111111111111,
             "#46039f"
            ],
            [
             0.2222222222222222,
             "#7201a8"
            ],
            [
             0.3333333333333333,
             "#9c179e"
            ],
            [
             0.4444444444444444,
             "#bd3786"
            ],
            [
             0.5555555555555556,
             "#d8576b"
            ],
            [
             0.6666666666666666,
             "#ed7953"
            ],
            [
             0.7777777777777778,
             "#fb9f3a"
            ],
            [
             0.8888888888888888,
             "#fdca26"
            ],
            [
             1,
             "#f0f921"
            ]
           ]
          },
          "colorway": [
           "#636efa",
           "#EF553B",
           "#00cc96",
           "#ab63fa",
           "#FFA15A",
           "#19d3f3",
           "#FF6692",
           "#B6E880",
           "#FF97FF",
           "#FECB52"
          ],
          "font": {
           "color": "#2a3f5f"
          },
          "geo": {
           "bgcolor": "white",
           "lakecolor": "white",
           "landcolor": "white",
           "showlakes": true,
           "showland": true,
           "subunitcolor": "#C8D4E3"
          },
          "hoverlabel": {
           "align": "left"
          },
          "hovermode": "closest",
          "mapbox": {
           "style": "light"
          },
          "paper_bgcolor": "white",
          "plot_bgcolor": "white",
          "polar": {
           "angularaxis": {
            "gridcolor": "#EBF0F8",
            "linecolor": "#EBF0F8",
            "ticks": ""
           },
           "bgcolor": "white",
           "radialaxis": {
            "gridcolor": "#EBF0F8",
            "linecolor": "#EBF0F8",
            "ticks": ""
           }
          },
          "scene": {
           "xaxis": {
            "backgroundcolor": "white",
            "gridcolor": "#DFE8F3",
            "gridwidth": 2,
            "linecolor": "#EBF0F8",
            "showbackground": true,
            "ticks": "",
            "zerolinecolor": "#EBF0F8"
           },
           "yaxis": {
            "backgroundcolor": "white",
            "gridcolor": "#DFE8F3",
            "gridwidth": 2,
            "linecolor": "#EBF0F8",
            "showbackground": true,
            "ticks": "",
            "zerolinecolor": "#EBF0F8"
           },
           "zaxis": {
            "backgroundcolor": "white",
            "gridcolor": "#DFE8F3",
            "gridwidth": 2,
            "linecolor": "#EBF0F8",
            "showbackground": true,
            "ticks": "",
            "zerolinecolor": "#EBF0F8"
           }
          },
          "shapedefaults": {
           "line": {
            "color": "#2a3f5f"
           }
          },
          "ternary": {
           "aaxis": {
            "gridcolor": "#DFE8F3",
            "linecolor": "#A2B1C6",
            "ticks": ""
           },
           "baxis": {
            "gridcolor": "#DFE8F3",
            "linecolor": "#A2B1C6",
            "ticks": ""
           },
           "bgcolor": "white",
           "caxis": {
            "gridcolor": "#DFE8F3",
            "linecolor": "#A2B1C6",
            "ticks": ""
           }
          },
          "title": {
           "x": 0.05
          },
          "xaxis": {
           "automargin": true,
           "gridcolor": "#EBF0F8",
           "linecolor": "#EBF0F8",
           "ticks": "",
           "title": {
            "standoff": 15
           },
           "zerolinecolor": "#EBF0F8",
           "zerolinewidth": 2
          },
          "yaxis": {
           "automargin": true,
           "gridcolor": "#EBF0F8",
           "linecolor": "#EBF0F8",
           "ticks": "",
           "title": {
            "standoff": 15
           },
           "zerolinecolor": "#EBF0F8",
           "zerolinewidth": 2
          }
         }
        },
        "title": {
         "font": {
          "color": "black",
          "family": "Cardo",
          "size": 27
         },
         "text": "<span style='color: black; font-weight: normal;'>$RAY Buybacks Over Time</span><br><sub style='font-size: 18px; color: black; font-weight: normal;'>Daily through 2024-09-23 00:00:00</sub>",
         "x": 0.25,
         "xanchor": "left",
         "y": 0.9,
         "yanchor": "top"
        },
        "width": 730,
        "xaxis": {
         "anchor": "y",
         "domain": [
          0,
          0.94
         ],
         "tickfont": {
          "color": "black"
         }
        },
        "yaxis": {
         "anchor": "x",
         "color": "black",
         "domain": [
          0,
          1
         ]
        },
        "yaxis2": {
         "anchor": "x",
         "color": "black",
         "overlaying": "y",
         "side": "right"
        }
       }
      }
     },
     "metadata": {},
     "output_type": "display_data"
    },
    {
     "name": "stdout",
     "output_type": "stream",
     "text": [
      "Saving figure to: img\\$RAY Buybacks Over Time.png\n"
     ]
    }
   ],
   "source": [
    "cm = ChartMaker()\n",
    "cm.build(\n",
    "    df = test_df1,\n",
    "    axes_data=dict(y1=['cumulative_ray_bought']),\n",
    "    title='$RAY Buybacks Over Time',\n",
    "    options = {'margin':dict(t=100),'annotations':True},\n",
    ")\n",
    "cm.add_title(\n",
    "    title='$RAY Buybacks Over Time',\n",
    "    subtitle=f'Daily through {test_df1.index.max()}',\n",
    "    x=0.25,\n",
    "    y=0.9\n",
    ")\n",
    "cm.add_annotations()\n",
    "cm.show_fig()\n",
    "cm.save_fig(save_directory='img')"
   ]
  }
 ],
 "metadata": {
  "kernelspec": {
   "display_name": "test_env",
   "language": "python",
   "name": "python3"
  },
  "language_info": {
   "codemirror_mode": {
    "name": "ipython",
    "version": 3
   },
   "file_extension": ".py",
   "mimetype": "text/x-python",
   "name": "python",
   "nbconvert_exporter": "python",
   "pygments_lexer": "ipython3",
   "version": "3.11.9"
  }
 },
 "nbformat": 4,
 "nbformat_minor": 5
}
