{
 "cells": [
  {
   "cell_type": "code",
   "execution_count": 1,
   "id": "3f519d12",
   "metadata": {},
   "outputs": [],
   "source": [
    "import pandas as pd\n",
    "from dfcleaner import DFCleaner\n",
    "from chartengineer import ChartMaker\n",
    "import os"
   ]
  },
  {
   "cell_type": "code",
   "execution_count": 2,
   "id": "1d6132e6",
   "metadata": {},
   "outputs": [
    {
     "data": {
      "text/plain": [
       "'c:\\\\Users\\\\Brandyn\\\\projects\\\\chartengineer\\\\tests'"
      ]
     },
     "execution_count": 2,
     "metadata": {},
     "output_type": "execute_result"
    }
   ],
   "source": [
    "os.getcwd()"
   ]
  },
  {
   "cell_type": "code",
   "execution_count": 3,
   "id": "de4f4ca5",
   "metadata": {},
   "outputs": [],
   "source": [
    "test_cleaner = DFCleaner()"
   ]
  },
  {
   "cell_type": "markdown",
   "id": "83ab0a8d",
   "metadata": {},
   "source": [
    "# Line, Bar, Line and Bar"
   ]
  },
  {
   "cell_type": "code",
   "execution_count": 4,
   "id": "a016df75",
   "metadata": {},
   "outputs": [
    {
     "data": {
      "text/html": [
       "<div>\n",
       "<style scoped>\n",
       "    .dataframe tbody tr th:only-of-type {\n",
       "        vertical-align: middle;\n",
       "    }\n",
       "\n",
       "    .dataframe tbody tr th {\n",
       "        vertical-align: top;\n",
       "    }\n",
       "\n",
       "    .dataframe thead th {\n",
       "        text-align: right;\n",
       "    }\n",
       "</style>\n",
       "<table border=\"1\" class=\"dataframe\">\n",
       "  <thead>\n",
       "    <tr style=\"text-align: right;\">\n",
       "      <th></th>\n",
       "      <th>ray_bought</th>\n",
       "      <th>cumulative_ray_bought</th>\n",
       "      <th>usdc_amount</th>\n",
       "      <th>cumulative_usdc_spent</th>\n",
       "    </tr>\n",
       "    <tr>\n",
       "      <th>block_date</th>\n",
       "      <th></th>\n",
       "      <th></th>\n",
       "      <th></th>\n",
       "      <th></th>\n",
       "    </tr>\n",
       "  </thead>\n",
       "  <tbody>\n",
       "    <tr>\n",
       "      <th>2024-09-23</th>\n",
       "      <td>4.658846e+04</td>\n",
       "      <td>3.460436e+07</td>\n",
       "      <td>7.131984e+04</td>\n",
       "      <td>4.478479e+07</td>\n",
       "    </tr>\n",
       "    <tr>\n",
       "      <th>2024-09-16</th>\n",
       "      <td>2.940036e+05</td>\n",
       "      <td>3.455777e+07</td>\n",
       "      <td>4.459475e+05</td>\n",
       "      <td>4.471347e+07</td>\n",
       "    </tr>\n",
       "    <tr>\n",
       "      <th>2024-09-09</th>\n",
       "      <td>2.598019e+05</td>\n",
       "      <td>3.426377e+07</td>\n",
       "      <td>3.821256e+05</td>\n",
       "      <td>4.426752e+07</td>\n",
       "    </tr>\n",
       "    <tr>\n",
       "      <th>2024-09-02</th>\n",
       "      <td>2.512750e+05</td>\n",
       "      <td>3.400397e+07</td>\n",
       "      <td>3.667050e+05</td>\n",
       "      <td>4.388540e+07</td>\n",
       "    </tr>\n",
       "    <tr>\n",
       "      <th>2024-08-26</th>\n",
       "      <td>3.166041e+05</td>\n",
       "      <td>3.375269e+07</td>\n",
       "      <td>5.184075e+05</td>\n",
       "      <td>4.351869e+07</td>\n",
       "    </tr>\n",
       "    <tr>\n",
       "      <th>...</th>\n",
       "      <td>...</td>\n",
       "      <td>...</td>\n",
       "      <td>...</td>\n",
       "      <td>...</td>\n",
       "    </tr>\n",
       "    <tr>\n",
       "      <th>2022-05-23</th>\n",
       "      <td>1.275352e+06</td>\n",
       "      <td>2.564530e+06</td>\n",
       "      <td>1.212400e+06</td>\n",
       "      <td>3.320540e+06</td>\n",
       "    </tr>\n",
       "    <tr>\n",
       "      <th>2022-05-16</th>\n",
       "      <td>4.668794e+05</td>\n",
       "      <td>1.289177e+06</td>\n",
       "      <td>5.917632e+05</td>\n",
       "      <td>2.108140e+06</td>\n",
       "    </tr>\n",
       "    <tr>\n",
       "      <th>2022-05-09</th>\n",
       "      <td>4.758494e+05</td>\n",
       "      <td>8.222981e+05</td>\n",
       "      <td>6.308727e+05</td>\n",
       "      <td>1.516377e+06</td>\n",
       "    </tr>\n",
       "    <tr>\n",
       "      <th>2022-04-25</th>\n",
       "      <td>1.905987e+05</td>\n",
       "      <td>3.464487e+05</td>\n",
       "      <td>4.819738e+05</td>\n",
       "      <td>8.855044e+05</td>\n",
       "    </tr>\n",
       "    <tr>\n",
       "      <th>2022-04-18</th>\n",
       "      <td>1.558500e+05</td>\n",
       "      <td>1.558500e+05</td>\n",
       "      <td>4.035305e+05</td>\n",
       "      <td>4.035305e+05</td>\n",
       "    </tr>\n",
       "  </tbody>\n",
       "</table>\n",
       "<p>105 rows × 4 columns</p>\n",
       "</div>"
      ],
      "text/plain": [
       "              ray_bought  cumulative_ray_bought   usdc_amount  \\\n",
       "block_date                                                      \n",
       "2024-09-23  4.658846e+04           3.460436e+07  7.131984e+04   \n",
       "2024-09-16  2.940036e+05           3.455777e+07  4.459475e+05   \n",
       "2024-09-09  2.598019e+05           3.426377e+07  3.821256e+05   \n",
       "2024-09-02  2.512750e+05           3.400397e+07  3.667050e+05   \n",
       "2024-08-26  3.166041e+05           3.375269e+07  5.184075e+05   \n",
       "...                  ...                    ...           ...   \n",
       "2022-05-23  1.275352e+06           2.564530e+06  1.212400e+06   \n",
       "2022-05-16  4.668794e+05           1.289177e+06  5.917632e+05   \n",
       "2022-05-09  4.758494e+05           8.222981e+05  6.308727e+05   \n",
       "2022-04-25  1.905987e+05           3.464487e+05  4.819738e+05   \n",
       "2022-04-18  1.558500e+05           1.558500e+05  4.035305e+05   \n",
       "\n",
       "            cumulative_usdc_spent  \n",
       "block_date                         \n",
       "2024-09-23           4.478479e+07  \n",
       "2024-09-16           4.471347e+07  \n",
       "2024-09-09           4.426752e+07  \n",
       "2024-09-02           4.388540e+07  \n",
       "2024-08-26           4.351869e+07  \n",
       "...                           ...  \n",
       "2022-05-23           3.320540e+06  \n",
       "2022-05-16           2.108140e+06  \n",
       "2022-05-09           1.516377e+06  \n",
       "2022-04-25           8.855044e+05  \n",
       "2022-04-18           4.035305e+05  \n",
       "\n",
       "[105 rows x 4 columns]"
      ]
     },
     "execution_count": 4,
     "metadata": {},
     "output_type": "execute_result"
    }
   ],
   "source": [
    "test_df1 = test_cleaner.to_df(r'data/$RAY_Buyback_2024_09_25.csv')\n",
    "test_df1, time_freq =  test_cleaner.to_time(test_df1)\n",
    "test_df1"
   ]
  },
  {
   "cell_type": "code",
   "execution_count": 5,
   "id": "0f082d0b",
   "metadata": {},
   "outputs": [
    {
     "name": "stdout",
     "output_type": "stream",
     "text": [
      "kind: None\n",
      "chart_type: {'y1': 'line', 'y2': 'bar'}\n",
      "trace_args: {'x': DatetimeIndex(['2024-09-23', '2024-09-16', '2024-09-09', '2024-09-02',\n",
      "               '2024-08-26', '2024-08-19', '2024-08-12', '2024-08-05',\n",
      "               '2024-07-29', '2024-07-22',\n",
      "               ...\n",
      "               '2022-07-04', '2022-06-27', '2022-06-13', '2022-06-06',\n",
      "               '2022-05-30', '2022-05-23', '2022-05-16', '2022-05-09',\n",
      "               '2022-04-25', '2022-04-18'],\n",
      "              dtype='datetime64[ns]', name='block_date', length=105, freq=None), 'y': block_date\n",
      "2024-09-23    3.460436e+07\n",
      "2024-09-16    3.455777e+07\n",
      "2024-09-09    3.426377e+07\n",
      "2024-09-02    3.400397e+07\n",
      "2024-08-26    3.375269e+07\n",
      "                  ...     \n",
      "2022-05-23    2.564530e+06\n",
      "2022-05-16    1.289177e+06\n",
      "2022-05-09    8.222981e+05\n",
      "2022-04-25    3.464487e+05\n",
      "2022-04-18    1.558500e+05\n",
      "Name: cumulative_ray_bought, Length: 105, dtype: float64, 'name': 'CUMULATIVE RAY BOUGHT (155.8K)     ', 'text': None, 'textposition': None, 'showlegend': True}\n",
      "trace_args: {'x': DatetimeIndex(['2024-09-23', '2024-09-16', '2024-09-09', '2024-09-02',\n",
      "               '2024-08-26', '2024-08-19', '2024-08-12', '2024-08-05',\n",
      "               '2024-07-29', '2024-07-22',\n",
      "               ...\n",
      "               '2022-07-04', '2022-06-27', '2022-06-13', '2022-06-06',\n",
      "               '2022-05-30', '2022-05-23', '2022-05-16', '2022-05-09',\n",
      "               '2022-04-25', '2022-04-18'],\n",
      "              dtype='datetime64[ns]', name='block_date', length=105, freq=None), 'y': block_date\n",
      "2024-09-23    4.478479e+07\n",
      "2024-09-16    4.471347e+07\n",
      "2024-09-09    4.426752e+07\n",
      "2024-09-02    4.388540e+07\n",
      "2024-08-26    4.351869e+07\n",
      "                  ...     \n",
      "2022-05-23    3.320540e+06\n",
      "2022-05-16    2.108140e+06\n",
      "2022-05-09    1.516377e+06\n",
      "2022-04-25    8.855044e+05\n",
      "2022-04-18    4.035305e+05\n",
      "Name: cumulative_usdc_spent, Length: 105, dtype: float64, 'name': 'CUMULATIVE USDC SPENT ($403.5K)     ', 'text': None, 'textposition': None, 'showlegend': True}\n"
     ]
    },
    {
     "data": {
      "application/vnd.plotly.v1+json": {
       "config": {
        "linkText": "Export to plot.ly",
        "plotlyServerURL": "https://plot.ly",
        "showLink": false
       },
       "data": [
        {
         "line": {
          "color": "#086b83",
          "width": 4
         },
         "mode": "lines",
         "name": "CUMULATIVE RAY BOUGHT (155.8K)     ",
         "showlegend": true,
         "type": "scatter",
         "x": [
          "2024-09-23T00:00:00.000000000",
          "2024-09-16T00:00:00.000000000",
          "2024-09-09T00:00:00.000000000",
          "2024-09-02T00:00:00.000000000",
          "2024-08-26T00:00:00.000000000",
          "2024-08-19T00:00:00.000000000",
          "2024-08-12T00:00:00.000000000",
          "2024-08-05T00:00:00.000000000",
          "2024-07-29T00:00:00.000000000",
          "2024-07-22T00:00:00.000000000",
          "2024-07-15T00:00:00.000000000",
          "2024-07-08T00:00:00.000000000",
          "2024-07-01T00:00:00.000000000",
          "2024-06-24T00:00:00.000000000",
          "2024-06-17T00:00:00.000000000",
          "2024-06-10T00:00:00.000000000",
          "2024-06-03T00:00:00.000000000",
          "2024-05-27T00:00:00.000000000",
          "2024-05-20T00:00:00.000000000",
          "2024-05-13T00:00:00.000000000",
          "2024-05-06T00:00:00.000000000",
          "2024-04-29T00:00:00.000000000",
          "2024-04-22T00:00:00.000000000",
          "2024-04-15T00:00:00.000000000",
          "2024-04-08T00:00:00.000000000",
          "2024-04-01T00:00:00.000000000",
          "2024-03-25T00:00:00.000000000",
          "2024-03-18T00:00:00.000000000",
          "2024-03-11T00:00:00.000000000",
          "2024-03-04T00:00:00.000000000",
          "2024-02-26T00:00:00.000000000",
          "2024-02-19T00:00:00.000000000",
          "2024-02-12T00:00:00.000000000",
          "2024-02-05T00:00:00.000000000",
          "2024-01-29T00:00:00.000000000",
          "2024-01-22T00:00:00.000000000",
          "2024-01-15T00:00:00.000000000",
          "2024-01-08T00:00:00.000000000",
          "2024-01-01T00:00:00.000000000",
          "2023-12-25T00:00:00.000000000",
          "2023-12-18T00:00:00.000000000",
          "2023-12-11T00:00:00.000000000",
          "2023-12-04T00:00:00.000000000",
          "2023-11-27T00:00:00.000000000",
          "2023-11-20T00:00:00.000000000",
          "2023-11-13T00:00:00.000000000",
          "2023-11-06T00:00:00.000000000",
          "2023-10-30T00:00:00.000000000",
          "2023-10-23T00:00:00.000000000",
          "2023-10-16T00:00:00.000000000",
          "2023-10-09T00:00:00.000000000",
          "2023-10-02T00:00:00.000000000",
          "2023-09-25T00:00:00.000000000",
          "2023-09-18T00:00:00.000000000",
          "2023-09-11T00:00:00.000000000",
          "2023-09-04T00:00:00.000000000",
          "2023-08-28T00:00:00.000000000",
          "2023-08-21T00:00:00.000000000",
          "2023-08-14T00:00:00.000000000",
          "2023-08-07T00:00:00.000000000",
          "2023-07-31T00:00:00.000000000",
          "2023-07-24T00:00:00.000000000",
          "2023-07-17T00:00:00.000000000",
          "2023-07-10T00:00:00.000000000",
          "2023-07-03T00:00:00.000000000",
          "2023-06-26T00:00:00.000000000",
          "2023-06-19T00:00:00.000000000",
          "2023-06-12T00:00:00.000000000",
          "2023-06-05T00:00:00.000000000",
          "2023-05-29T00:00:00.000000000",
          "2023-05-22T00:00:00.000000000",
          "2023-05-15T00:00:00.000000000",
          "2023-05-08T00:00:00.000000000",
          "2023-05-01T00:00:00.000000000",
          "2023-04-24T00:00:00.000000000",
          "2023-04-17T00:00:00.000000000",
          "2023-04-10T00:00:00.000000000",
          "2023-04-03T00:00:00.000000000",
          "2023-03-27T00:00:00.000000000",
          "2023-03-20T00:00:00.000000000",
          "2023-03-13T00:00:00.000000000",
          "2023-03-06T00:00:00.000000000",
          "2023-02-27T00:00:00.000000000",
          "2023-02-20T00:00:00.000000000",
          "2023-01-02T00:00:00.000000000",
          "2022-11-07T00:00:00.000000000",
          "2022-10-24T00:00:00.000000000",
          "2022-10-17T00:00:00.000000000",
          "2022-10-10T00:00:00.000000000",
          "2022-10-03T00:00:00.000000000",
          "2022-09-26T00:00:00.000000000",
          "2022-09-19T00:00:00.000000000",
          "2022-09-05T00:00:00.000000000",
          "2022-07-18T00:00:00.000000000",
          "2022-07-11T00:00:00.000000000",
          "2022-07-04T00:00:00.000000000",
          "2022-06-27T00:00:00.000000000",
          "2022-06-13T00:00:00.000000000",
          "2022-06-06T00:00:00.000000000",
          "2022-05-30T00:00:00.000000000",
          "2022-05-23T00:00:00.000000000",
          "2022-05-16T00:00:00.000000000",
          "2022-05-09T00:00:00.000000000",
          "2022-04-25T00:00:00.000000000",
          "2022-04-18T00:00:00.000000000"
         ],
         "xaxis": "x",
         "y": {
          "bdata": "uO5GSSqAgEFxfZhlenqAQf+6k8iWVoBBbuZQ+d82gEHUL5GhMxiAQSP8C4Ib439Bfxsi+HWVf0H78VczSi1/QVfXYbyyxH1Bmp0FMCE6fUEac5d467J8QervpSMe23tBnB6Ukd4MekGLhzdtNxt5Qb08XWRT2HhBmBvM6NDsdkF7GvAIPEl2QZV/7eTgP3ZBgNa8qpI6dkFUbqJ6bDh2QRC1bU8MM3ZBEcaP50todUHxocQ7shh0QVdFeJBNiXJBENGoFV75cEFI4I9nr2hwQZT6sp7uMXBBj4mU1cFpb0Ebpja2ECpvQRkuq1XCt25BzH7d1X35bUEVA6QUy2ptQdJzC1Ub/WxBAFcyBLyHbEGTeeS5FPNrQfUR+DegXGtBAMTd+befakFZMPGQb9hpQZFVSnlk8GhBrtnK9JaDaEHWbrsONolnQTqUIR4HCmdBjuVdxVKEZkHMngSDd/RlQequbAq/kWVB3CkdMYIjZUEaMEheb9JkQXTzjV2zjWRBFQDjNoBLZEGnKBfvkitkQfwXiECiFmRBtuEwud4HZEHoHDxadfBjQXhKB2pv5mNBXYor1l3aY0EeozxH8s1jQSNJkNyHxGNBdCdYu0W2Y0Hmdi8VF6djQarXLV60mWNB5tROw6CBY0E9gTALqHpjQZDAH73Xb2NBmzg5gV5cY0EXm1bLfkljQUjF/wOmQWNBuoUu6yo7Y0EorXieATFjQbIS8y3vMGNBjnQG3PoqY0H9iN+MgCJjQUd6Ub7oD2NBLYJ/psgFY0FXP7aDVuViQe1O9wfsz2JBEOdhf6nKYkH9wNXZQcViQYdu9qw3vmJBKqe94/y4YkGKJWULYbViQftzUXlVr2JBVcITUfGjYkGMoLGiZ5tiQVzrC+UPlmJBflJty6QxYkG/cyjk6gliQdMV7GU382FBxTj/0wlzYUHO4zBSb6BbQUQ2kO9qpFZBLSgMrEPEVUGpTDGF079UQf9fdaclcFJBtoe9d7WMUUGgw3z99FFRQTF72doEEVFBOtBDVG/KUEEzMzOqhSBQQWcN3sczeEpBEK/rDd0zR0EyPPbp2JBDQUrXTGrZqzNBLnqnGjQYKUFMF2KlQiUVQVRvDaxPBgNB",
          "dtype": "f8"
         },
         "yaxis": "y"
        },
        {
         "marker": {
          "color": "#31d400"
         },
         "name": "CUMULATIVE USDC SPENT ($403.5K)     ",
         "showlegend": true,
         "type": "bar",
         "x": [
          "2024-09-23T00:00:00.000000000",
          "2024-09-16T00:00:00.000000000",
          "2024-09-09T00:00:00.000000000",
          "2024-09-02T00:00:00.000000000",
          "2024-08-26T00:00:00.000000000",
          "2024-08-19T00:00:00.000000000",
          "2024-08-12T00:00:00.000000000",
          "2024-08-05T00:00:00.000000000",
          "2024-07-29T00:00:00.000000000",
          "2024-07-22T00:00:00.000000000",
          "2024-07-15T00:00:00.000000000",
          "2024-07-08T00:00:00.000000000",
          "2024-07-01T00:00:00.000000000",
          "2024-06-24T00:00:00.000000000",
          "2024-06-17T00:00:00.000000000",
          "2024-06-10T00:00:00.000000000",
          "2024-06-03T00:00:00.000000000",
          "2024-05-27T00:00:00.000000000",
          "2024-05-20T00:00:00.000000000",
          "2024-05-13T00:00:00.000000000",
          "2024-05-06T00:00:00.000000000",
          "2024-04-29T00:00:00.000000000",
          "2024-04-22T00:00:00.000000000",
          "2024-04-15T00:00:00.000000000",
          "2024-04-08T00:00:00.000000000",
          "2024-04-01T00:00:00.000000000",
          "2024-03-25T00:00:00.000000000",
          "2024-03-18T00:00:00.000000000",
          "2024-03-11T00:00:00.000000000",
          "2024-03-04T00:00:00.000000000",
          "2024-02-26T00:00:00.000000000",
          "2024-02-19T00:00:00.000000000",
          "2024-02-12T00:00:00.000000000",
          "2024-02-05T00:00:00.000000000",
          "2024-01-29T00:00:00.000000000",
          "2024-01-22T00:00:00.000000000",
          "2024-01-15T00:00:00.000000000",
          "2024-01-08T00:00:00.000000000",
          "2024-01-01T00:00:00.000000000",
          "2023-12-25T00:00:00.000000000",
          "2023-12-18T00:00:00.000000000",
          "2023-12-11T00:00:00.000000000",
          "2023-12-04T00:00:00.000000000",
          "2023-11-27T00:00:00.000000000",
          "2023-11-20T00:00:00.000000000",
          "2023-11-13T00:00:00.000000000",
          "2023-11-06T00:00:00.000000000",
          "2023-10-30T00:00:00.000000000",
          "2023-10-23T00:00:00.000000000",
          "2023-10-16T00:00:00.000000000",
          "2023-10-09T00:00:00.000000000",
          "2023-10-02T00:00:00.000000000",
          "2023-09-25T00:00:00.000000000",
          "2023-09-18T00:00:00.000000000",
          "2023-09-11T00:00:00.000000000",
          "2023-09-04T00:00:00.000000000",
          "2023-08-28T00:00:00.000000000",
          "2023-08-21T00:00:00.000000000",
          "2023-08-14T00:00:00.000000000",
          "2023-08-07T00:00:00.000000000",
          "2023-07-31T00:00:00.000000000",
          "2023-07-24T00:00:00.000000000",
          "2023-07-17T00:00:00.000000000",
          "2023-07-10T00:00:00.000000000",
          "2023-07-03T00:00:00.000000000",
          "2023-06-26T00:00:00.000000000",
          "2023-06-19T00:00:00.000000000",
          "2023-06-12T00:00:00.000000000",
          "2023-06-05T00:00:00.000000000",
          "2023-05-29T00:00:00.000000000",
          "2023-05-22T00:00:00.000000000",
          "2023-05-15T00:00:00.000000000",
          "2023-05-08T00:00:00.000000000",
          "2023-05-01T00:00:00.000000000",
          "2023-04-24T00:00:00.000000000",
          "2023-04-17T00:00:00.000000000",
          "2023-04-10T00:00:00.000000000",
          "2023-04-03T00:00:00.000000000",
          "2023-03-27T00:00:00.000000000",
          "2023-03-20T00:00:00.000000000",
          "2023-03-13T00:00:00.000000000",
          "2023-03-06T00:00:00.000000000",
          "2023-02-27T00:00:00.000000000",
          "2023-02-20T00:00:00.000000000",
          "2023-01-02T00:00:00.000000000",
          "2022-11-07T00:00:00.000000000",
          "2022-10-24T00:00:00.000000000",
          "2022-10-17T00:00:00.000000000",
          "2022-10-10T00:00:00.000000000",
          "2022-10-03T00:00:00.000000000",
          "2022-09-26T00:00:00.000000000",
          "2022-09-19T00:00:00.000000000",
          "2022-09-05T00:00:00.000000000",
          "2022-07-18T00:00:00.000000000",
          "2022-07-11T00:00:00.000000000",
          "2022-07-04T00:00:00.000000000",
          "2022-06-27T00:00:00.000000000",
          "2022-06-13T00:00:00.000000000",
          "2022-06-06T00:00:00.000000000",
          "2022-05-30T00:00:00.000000000",
          "2022-05-23T00:00:00.000000000",
          "2022-05-16T00:00:00.000000000",
          "2022-05-09T00:00:00.000000000",
          "2022-04-25T00:00:00.000000000",
          "2022-04-18T00:00:00.000000000"
         ],
         "xaxis": "x",
         "y": {
          "bdata": "WwJ+u+RahUGAI8D8L1KFQfG/uiDAG4VB0H0QtBrthEGfa8orV8CEQUkQdO8OgYRB5y8UpDA+hEHxyqlTnuGDQfd2m1sXo4JBw9134QkMgkE3p5TgU2yBQRjevnbrj4BBvE8LWKACfkGrbFF4bmR8QUjh1zhH/HtBmWMiszjneEEj7QfsZOB3Qdpsk7tb0HdBr3DoY3rHd0ETTeoto8N3QXR800xTundBijm8e9FmdkErwHl6uGt0QQhd0Znm3XFB0rjCn04Ab0H9rO1EqiBtQetRbNEaK2xBwIL93bsxakH2yINXO5hpQcPkhAZz82hBplJiKOD+Z0Fer3BltV5nQW2ZHpln82ZB1VbvOrJ1ZkH/81KrCdZlQfkZk8nrJWVBrROuczdTZEEZ6Ud/w2NjQf2FBXIbXWJBWggW2f3HYUFfNRuXQ1pgQZo3FzFar19BGLrtPdPeXkFi23Gmr1BeQTkg5FcEAV5B7gfX+vqtXUGAW+lcVG9dQT6mjF64QF1BlEwJfBIdXUG5VxzUoRBdQXx7c0j+CF1BCtxh5rkDXUE/q5yaU/pcQUrUAjXl9lxB7BU4/6ryXEFdozOdau5cQQvCF8L36lxB3mvQm8XlXEHDc6gsKeBcQY5IeQbX2lxBt/RfdpfQXEEb2VkPuM1cQTaYUHoGyVxB/DvBx5i/XEFn46Qe0rdcQS9GO96KtFxBVhkhs+GxXEHFOUut7q1cQYFMKF3orVxBXiN/7n6rXEHtYh+JwqdcQc+lAIw8oFxB162BOAycXEGl+deFyo5cQcY4qD4ThVxBLhP5nY+CXEFEukABtX9cQdKSnOT3e1xBy1xt9295XEF0lOUPvXdcQRRMGpCvdFxBf+SOn9tuXEGvd+jabmpcQRxkk8MyZ1xBTkejucMqXEG16BxxbR5cQQOIRGaCElxBjN0onFeRW0Hzo94pkvNXQcnho6lyd1VBpFpvDjP2VEGpD6DNx2FUQaUMqNF9GVNBI6vIu6GMUkF+rJUd5VVSQTlejbzzIFJB5377Uv3vUUEnYr9Gb4RRQW5nucdESk9BlnLgR1eqTEHYJXgCblVJQcpBLSZ2FUBBy05BIFkjN0H7B9PAAAYrQSxi1SIqoRhB",
          "dtype": "f8"
         },
         "yaxis": "y2"
        }
       ],
       "layout": {
        "autosize": true,
        "barmode": "stack",
        "font": {
         "color": "black",
         "family": "Cardo",
         "size": 16
        },
        "height": 400,
        "hovermode": "x unified",
        "legend": {
         "bgcolor": "rgba(0,0,0,0)",
         "bordercolor": "rgba(0,0,0,0)",
         "borderwidth": 1,
         "font": {
          "color": "black",
          "family": "Cardo",
          "size": 12
         },
         "orientation": "v",
         "traceorder": "normal",
         "x": 0.01,
         "xanchor": "left",
         "y": 1.05,
         "yanchor": "top"
        },
        "margin": {
         "t": 100
        },
        "template": {
         "data": {
          "bar": [
           {
            "error_x": {
             "color": "#2a3f5f"
            },
            "error_y": {
             "color": "#2a3f5f"
            },
            "marker": {
             "line": {
              "color": "white",
              "width": 0.5
             },
             "pattern": {
              "fillmode": "overlay",
              "size": 10,
              "solidity": 0.2
             }
            },
            "type": "bar"
           }
          ],
          "barpolar": [
           {
            "marker": {
             "line": {
              "color": "white",
              "width": 0.5
             },
             "pattern": {
              "fillmode": "overlay",
              "size": 10,
              "solidity": 0.2
             }
            },
            "type": "barpolar"
           }
          ],
          "carpet": [
           {
            "aaxis": {
             "endlinecolor": "#2a3f5f",
             "gridcolor": "#C8D4E3",
             "linecolor": "#C8D4E3",
             "minorgridcolor": "#C8D4E3",
             "startlinecolor": "#2a3f5f"
            },
            "baxis": {
             "endlinecolor": "#2a3f5f",
             "gridcolor": "#C8D4E3",
             "linecolor": "#C8D4E3",
             "minorgridcolor": "#C8D4E3",
             "startlinecolor": "#2a3f5f"
            },
            "type": "carpet"
           }
          ],
          "choropleth": [
           {
            "colorbar": {
             "outlinewidth": 0,
             "ticks": ""
            },
            "type": "choropleth"
           }
          ],
          "contour": [
           {
            "colorbar": {
             "outlinewidth": 0,
             "ticks": ""
            },
            "colorscale": [
             [
              0,
              "#0d0887"
             ],
             [
              0.1111111111111111,
              "#46039f"
             ],
             [
              0.2222222222222222,
              "#7201a8"
             ],
             [
              0.3333333333333333,
              "#9c179e"
             ],
             [
              0.4444444444444444,
              "#bd3786"
             ],
             [
              0.5555555555555556,
              "#d8576b"
             ],
             [
              0.6666666666666666,
              "#ed7953"
             ],
             [
              0.7777777777777778,
              "#fb9f3a"
             ],
             [
              0.8888888888888888,
              "#fdca26"
             ],
             [
              1,
              "#f0f921"
             ]
            ],
            "type": "contour"
           }
          ],
          "contourcarpet": [
           {
            "colorbar": {
             "outlinewidth": 0,
             "ticks": ""
            },
            "type": "contourcarpet"
           }
          ],
          "heatmap": [
           {
            "colorbar": {
             "outlinewidth": 0,
             "ticks": ""
            },
            "colorscale": [
             [
              0,
              "#0d0887"
             ],
             [
              0.1111111111111111,
              "#46039f"
             ],
             [
              0.2222222222222222,
              "#7201a8"
             ],
             [
              0.3333333333333333,
              "#9c179e"
             ],
             [
              0.4444444444444444,
              "#bd3786"
             ],
             [
              0.5555555555555556,
              "#d8576b"
             ],
             [
              0.6666666666666666,
              "#ed7953"
             ],
             [
              0.7777777777777778,
              "#fb9f3a"
             ],
             [
              0.8888888888888888,
              "#fdca26"
             ],
             [
              1,
              "#f0f921"
             ]
            ],
            "type": "heatmap"
           }
          ],
          "histogram": [
           {
            "marker": {
             "pattern": {
              "fillmode": "overlay",
              "size": 10,
              "solidity": 0.2
             }
            },
            "type": "histogram"
           }
          ],
          "histogram2d": [
           {
            "colorbar": {
             "outlinewidth": 0,
             "ticks": ""
            },
            "colorscale": [
             [
              0,
              "#0d0887"
             ],
             [
              0.1111111111111111,
              "#46039f"
             ],
             [
              0.2222222222222222,
              "#7201a8"
             ],
             [
              0.3333333333333333,
              "#9c179e"
             ],
             [
              0.4444444444444444,
              "#bd3786"
             ],
             [
              0.5555555555555556,
              "#d8576b"
             ],
             [
              0.6666666666666666,
              "#ed7953"
             ],
             [
              0.7777777777777778,
              "#fb9f3a"
             ],
             [
              0.8888888888888888,
              "#fdca26"
             ],
             [
              1,
              "#f0f921"
             ]
            ],
            "type": "histogram2d"
           }
          ],
          "histogram2dcontour": [
           {
            "colorbar": {
             "outlinewidth": 0,
             "ticks": ""
            },
            "colorscale": [
             [
              0,
              "#0d0887"
             ],
             [
              0.1111111111111111,
              "#46039f"
             ],
             [
              0.2222222222222222,
              "#7201a8"
             ],
             [
              0.3333333333333333,
              "#9c179e"
             ],
             [
              0.4444444444444444,
              "#bd3786"
             ],
             [
              0.5555555555555556,
              "#d8576b"
             ],
             [
              0.6666666666666666,
              "#ed7953"
             ],
             [
              0.7777777777777778,
              "#fb9f3a"
             ],
             [
              0.8888888888888888,
              "#fdca26"
             ],
             [
              1,
              "#f0f921"
             ]
            ],
            "type": "histogram2dcontour"
           }
          ],
          "mesh3d": [
           {
            "colorbar": {
             "outlinewidth": 0,
             "ticks": ""
            },
            "type": "mesh3d"
           }
          ],
          "parcoords": [
           {
            "line": {
             "colorbar": {
              "outlinewidth": 0,
              "ticks": ""
             }
            },
            "type": "parcoords"
           }
          ],
          "pie": [
           {
            "automargin": true,
            "type": "pie"
           }
          ],
          "scatter": [
           {
            "fillpattern": {
             "fillmode": "overlay",
             "size": 10,
             "solidity": 0.2
            },
            "type": "scatter"
           }
          ],
          "scatter3d": [
           {
            "line": {
             "colorbar": {
              "outlinewidth": 0,
              "ticks": ""
             }
            },
            "marker": {
             "colorbar": {
              "outlinewidth": 0,
              "ticks": ""
             }
            },
            "type": "scatter3d"
           }
          ],
          "scattercarpet": [
           {
            "marker": {
             "colorbar": {
              "outlinewidth": 0,
              "ticks": ""
             }
            },
            "type": "scattercarpet"
           }
          ],
          "scattergeo": [
           {
            "marker": {
             "colorbar": {
              "outlinewidth": 0,
              "ticks": ""
             }
            },
            "type": "scattergeo"
           }
          ],
          "scattergl": [
           {
            "marker": {
             "colorbar": {
              "outlinewidth": 0,
              "ticks": ""
             }
            },
            "type": "scattergl"
           }
          ],
          "scattermap": [
           {
            "marker": {
             "colorbar": {
              "outlinewidth": 0,
              "ticks": ""
             }
            },
            "type": "scattermap"
           }
          ],
          "scattermapbox": [
           {
            "marker": {
             "colorbar": {
              "outlinewidth": 0,
              "ticks": ""
             }
            },
            "type": "scattermapbox"
           }
          ],
          "scatterpolar": [
           {
            "marker": {
             "colorbar": {
              "outlinewidth": 0,
              "ticks": ""
             }
            },
            "type": "scatterpolar"
           }
          ],
          "scatterpolargl": [
           {
            "marker": {
             "colorbar": {
              "outlinewidth": 0,
              "ticks": ""
             }
            },
            "type": "scatterpolargl"
           }
          ],
          "scatterternary": [
           {
            "marker": {
             "colorbar": {
              "outlinewidth": 0,
              "ticks": ""
             }
            },
            "type": "scatterternary"
           }
          ],
          "surface": [
           {
            "colorbar": {
             "outlinewidth": 0,
             "ticks": ""
            },
            "colorscale": [
             [
              0,
              "#0d0887"
             ],
             [
              0.1111111111111111,
              "#46039f"
             ],
             [
              0.2222222222222222,
              "#7201a8"
             ],
             [
              0.3333333333333333,
              "#9c179e"
             ],
             [
              0.4444444444444444,
              "#bd3786"
             ],
             [
              0.5555555555555556,
              "#d8576b"
             ],
             [
              0.6666666666666666,
              "#ed7953"
             ],
             [
              0.7777777777777778,
              "#fb9f3a"
             ],
             [
              0.8888888888888888,
              "#fdca26"
             ],
             [
              1,
              "#f0f921"
             ]
            ],
            "type": "surface"
           }
          ],
          "table": [
           {
            "cells": {
             "fill": {
              "color": "#EBF0F8"
             },
             "line": {
              "color": "white"
             }
            },
            "header": {
             "fill": {
              "color": "#C8D4E3"
             },
             "line": {
              "color": "white"
             }
            },
            "type": "table"
           }
          ]
         },
         "layout": {
          "annotationdefaults": {
           "arrowcolor": "#2a3f5f",
           "arrowhead": 0,
           "arrowwidth": 1
          },
          "autotypenumbers": "strict",
          "coloraxis": {
           "colorbar": {
            "outlinewidth": 0,
            "ticks": ""
           }
          },
          "colorscale": {
           "diverging": [
            [
             0,
             "#8e0152"
            ],
            [
             0.1,
             "#c51b7d"
            ],
            [
             0.2,
             "#de77ae"
            ],
            [
             0.3,
             "#f1b6da"
            ],
            [
             0.4,
             "#fde0ef"
            ],
            [
             0.5,
             "#f7f7f7"
            ],
            [
             0.6,
             "#e6f5d0"
            ],
            [
             0.7,
             "#b8e186"
            ],
            [
             0.8,
             "#7fbc41"
            ],
            [
             0.9,
             "#4d9221"
            ],
            [
             1,
             "#276419"
            ]
           ],
           "sequential": [
            [
             0,
             "#0d0887"
            ],
            [
             0.1111111111111111,
             "#46039f"
            ],
            [
             0.2222222222222222,
             "#7201a8"
            ],
            [
             0.3333333333333333,
             "#9c179e"
            ],
            [
             0.4444444444444444,
             "#bd3786"
            ],
            [
             0.5555555555555556,
             "#d8576b"
            ],
            [
             0.6666666666666666,
             "#ed7953"
            ],
            [
             0.7777777777777778,
             "#fb9f3a"
            ],
            [
             0.8888888888888888,
             "#fdca26"
            ],
            [
             1,
             "#f0f921"
            ]
           ],
           "sequentialminus": [
            [
             0,
             "#0d0887"
            ],
            [
             0.1111111111111111,
             "#46039f"
            ],
            [
             0.2222222222222222,
             "#7201a8"
            ],
            [
             0.3333333333333333,
             "#9c179e"
            ],
            [
             0.4444444444444444,
             "#bd3786"
            ],
            [
             0.5555555555555556,
             "#d8576b"
            ],
            [
             0.6666666666666666,
             "#ed7953"
            ],
            [
             0.7777777777777778,
             "#fb9f3a"
            ],
            [
             0.8888888888888888,
             "#fdca26"
            ],
            [
             1,
             "#f0f921"
            ]
           ]
          },
          "colorway": [
           "#636efa",
           "#EF553B",
           "#00cc96",
           "#ab63fa",
           "#FFA15A",
           "#19d3f3",
           "#FF6692",
           "#B6E880",
           "#FF97FF",
           "#FECB52"
          ],
          "font": {
           "color": "#2a3f5f"
          },
          "geo": {
           "bgcolor": "white",
           "lakecolor": "white",
           "landcolor": "white",
           "showlakes": true,
           "showland": true,
           "subunitcolor": "#C8D4E3"
          },
          "hoverlabel": {
           "align": "left"
          },
          "hovermode": "closest",
          "mapbox": {
           "style": "light"
          },
          "paper_bgcolor": "white",
          "plot_bgcolor": "white",
          "polar": {
           "angularaxis": {
            "gridcolor": "#EBF0F8",
            "linecolor": "#EBF0F8",
            "ticks": ""
           },
           "bgcolor": "white",
           "radialaxis": {
            "gridcolor": "#EBF0F8",
            "linecolor": "#EBF0F8",
            "ticks": ""
           }
          },
          "scene": {
           "xaxis": {
            "backgroundcolor": "white",
            "gridcolor": "#DFE8F3",
            "gridwidth": 2,
            "linecolor": "#EBF0F8",
            "showbackground": true,
            "ticks": "",
            "zerolinecolor": "#EBF0F8"
           },
           "yaxis": {
            "backgroundcolor": "white",
            "gridcolor": "#DFE8F3",
            "gridwidth": 2,
            "linecolor": "#EBF0F8",
            "showbackground": true,
            "ticks": "",
            "zerolinecolor": "#EBF0F8"
           },
           "zaxis": {
            "backgroundcolor": "white",
            "gridcolor": "#DFE8F3",
            "gridwidth": 2,
            "linecolor": "#EBF0F8",
            "showbackground": true,
            "ticks": "",
            "zerolinecolor": "#EBF0F8"
           }
          },
          "shapedefaults": {
           "line": {
            "color": "#2a3f5f"
           }
          },
          "ternary": {
           "aaxis": {
            "gridcolor": "#DFE8F3",
            "linecolor": "#A2B1C6",
            "ticks": ""
           },
           "baxis": {
            "gridcolor": "#DFE8F3",
            "linecolor": "#A2B1C6",
            "ticks": ""
           },
           "bgcolor": "white",
           "caxis": {
            "gridcolor": "#DFE8F3",
            "linecolor": "#A2B1C6",
            "ticks": ""
           }
          },
          "title": {
           "x": 0.05
          },
          "xaxis": {
           "automargin": true,
           "gridcolor": "#EBF0F8",
           "linecolor": "#EBF0F8",
           "ticks": "",
           "title": {
            "standoff": 15
           },
           "zerolinecolor": "#EBF0F8",
           "zerolinewidth": 2
          },
          "yaxis": {
           "automargin": true,
           "gridcolor": "#EBF0F8",
           "linecolor": "#EBF0F8",
           "ticks": "",
           "title": {
            "standoff": 15
           },
           "zerolinecolor": "#EBF0F8",
           "zerolinewidth": 2
          }
         }
        },
        "title": {
         "font": {
          "color": "black",
          "family": "Cardo",
          "size": 27
         },
         "text": "<span style='color: black; font-weight: normal;'>$RAY Buybacks Over Time</span><br><sub style='font-size: 18px; color: black; font-weight: normal;'>Daily through 2024-09-23 00:00:00</sub>",
         "x": 0.5,
         "xanchor": "left",
         "y": 0.9,
         "yanchor": "top"
        },
        "width": 730,
        "xaxis": {
         "anchor": "y",
         "domain": [
          0,
          0.94
         ],
         "tickfont": {
          "color": "black"
         }
        },
        "yaxis": {
         "anchor": "x",
         "color": "#086b83",
         "domain": [
          0,
          1
         ],
         "showticklabels": true,
         "tickprefix": "",
         "title": {
          "text": "CUMULATIVE RAY BOUGHT"
         }
        },
        "yaxis2": {
         "anchor": "x",
         "color": "#31d400",
         "overlaying": "y",
         "side": "right",
         "tickprefix": "$",
         "title": {
          "text": "CUMULATIVE USDC SPENT"
         }
        }
       }
      }
     },
     "metadata": {},
     "output_type": "display_data"
    },
    {
     "name": "stdout",
     "output_type": "stream",
     "text": [
      "Saving figure to: img\\$RAY Buybacks Over Time.png\n"
     ]
    }
   ],
   "source": [
    "cm = ChartMaker(shuffle_colors=True)\n",
    "cm.build(\n",
    "    df = test_df1,\n",
    "    axes_data=dict(y1=['cumulative_ray_bought'],\n",
    "                    y2=['cumulative_usdc_spent']),\n",
    "    title='$RAY Buybacks Over Time',\n",
    "    chart_type={'y1':'line','y2':'bar'},\n",
    "    options = {'margin':dict(t=100),'annotations':True,\n",
    "                'tickprefix':{'y2':'$'},'auto_title':True,\n",
    "                'show_legend':True,'legend_placement':{'x':0.01,'y':1.05}},\n",
    ")\n",
    "cm.add_title(\n",
    "    title='$RAY Buybacks Over Time',\n",
    "    subtitle=f'Daily through {test_df1.index.max()}',\n",
    "    x=0.5,\n",
    "    y=0.9\n",
    ")\n",
    "cm.add_annotations()\n",
    "cm.show_fig()\n",
    "cm.save_fig(save_directory='img')"
   ]
  },
  {
   "cell_type": "code",
   "execution_count": 6,
   "id": "7f447528",
   "metadata": {},
   "outputs": [
    {
     "name": "stdout",
     "output_type": "stream",
     "text": [
      "kind: None\n",
      "chart_type: {'y1': 'line', 'y2': 'bar'}\n",
      "trace_args: {'x': DatetimeIndex(['2024-09-23', '2024-09-16', '2024-09-09', '2024-09-02',\n",
      "               '2024-08-26', '2024-08-19', '2024-08-12', '2024-08-05',\n",
      "               '2024-07-29', '2024-07-22',\n",
      "               ...\n",
      "               '2022-07-04', '2022-06-27', '2022-06-13', '2022-06-06',\n",
      "               '2022-05-30', '2022-05-23', '2022-05-16', '2022-05-09',\n",
      "               '2022-04-25', '2022-04-18'],\n",
      "              dtype='datetime64[ns]', name='block_date', length=105, freq=None), 'y': block_date\n",
      "2024-09-23    3.460436e+07\n",
      "2024-09-16    3.455777e+07\n",
      "2024-09-09    3.426377e+07\n",
      "2024-09-02    3.400397e+07\n",
      "2024-08-26    3.375269e+07\n",
      "                  ...     \n",
      "2022-05-23    2.564530e+06\n",
      "2022-05-16    1.289177e+06\n",
      "2022-05-09    8.222981e+05\n",
      "2022-04-25    3.464487e+05\n",
      "2022-04-18    1.558500e+05\n",
      "Name: cumulative_ray_bought, Length: 105, dtype: float64, 'name': 'CUMULATIVE RAY BOUGHT (155.8K)     ', 'text': None, 'textposition': None, 'showlegend': True}\n",
      "trace_args: {'x': DatetimeIndex(['2024-09-23', '2024-09-16', '2024-09-09', '2024-09-02',\n",
      "               '2024-08-26', '2024-08-19', '2024-08-12', '2024-08-05',\n",
      "               '2024-07-29', '2024-07-22',\n",
      "               ...\n",
      "               '2022-07-04', '2022-06-27', '2022-06-13', '2022-06-06',\n",
      "               '2022-05-30', '2022-05-23', '2022-05-16', '2022-05-09',\n",
      "               '2022-04-25', '2022-04-18'],\n",
      "              dtype='datetime64[ns]', name='block_date', length=105, freq=None), 'y': block_date\n",
      "2024-09-23    4.478479e+07\n",
      "2024-09-16    4.471347e+07\n",
      "2024-09-09    4.426752e+07\n",
      "2024-09-02    4.388540e+07\n",
      "2024-08-26    4.351869e+07\n",
      "                  ...     \n",
      "2022-05-23    3.320540e+06\n",
      "2022-05-16    2.108140e+06\n",
      "2022-05-09    1.516377e+06\n",
      "2022-04-25    8.855044e+05\n",
      "2022-04-18    4.035305e+05\n",
      "Name: cumulative_usdc_spent, Length: 105, dtype: float64, 'name': 'CUMULATIVE USDC SPENT ($403.5K)     ', 'text': None, 'textposition': None, 'showlegend': True}\n"
     ]
    },
    {
     "data": {
      "application/vnd.plotly.v1+json": {
       "config": {
        "linkText": "Export to plot.ly",
        "plotlyServerURL": "https://plot.ly",
        "showLink": false
       },
       "data": [
        {
         "line": {
          "color": "#cc7407",
          "width": 4
         },
         "mode": "lines",
         "name": "CUMULATIVE RAY BOUGHT (155.8K)     ",
         "showlegend": true,
         "type": "scatter",
         "x": [
          "2024-09-23T00:00:00.000000000",
          "2024-09-16T00:00:00.000000000",
          "2024-09-09T00:00:00.000000000",
          "2024-09-02T00:00:00.000000000",
          "2024-08-26T00:00:00.000000000",
          "2024-08-19T00:00:00.000000000",
          "2024-08-12T00:00:00.000000000",
          "2024-08-05T00:00:00.000000000",
          "2024-07-29T00:00:00.000000000",
          "2024-07-22T00:00:00.000000000",
          "2024-07-15T00:00:00.000000000",
          "2024-07-08T00:00:00.000000000",
          "2024-07-01T00:00:00.000000000",
          "2024-06-24T00:00:00.000000000",
          "2024-06-17T00:00:00.000000000",
          "2024-06-10T00:00:00.000000000",
          "2024-06-03T00:00:00.000000000",
          "2024-05-27T00:00:00.000000000",
          "2024-05-20T00:00:00.000000000",
          "2024-05-13T00:00:00.000000000",
          "2024-05-06T00:00:00.000000000",
          "2024-04-29T00:00:00.000000000",
          "2024-04-22T00:00:00.000000000",
          "2024-04-15T00:00:00.000000000",
          "2024-04-08T00:00:00.000000000",
          "2024-04-01T00:00:00.000000000",
          "2024-03-25T00:00:00.000000000",
          "2024-03-18T00:00:00.000000000",
          "2024-03-11T00:00:00.000000000",
          "2024-03-04T00:00:00.000000000",
          "2024-02-26T00:00:00.000000000",
          "2024-02-19T00:00:00.000000000",
          "2024-02-12T00:00:00.000000000",
          "2024-02-05T00:00:00.000000000",
          "2024-01-29T00:00:00.000000000",
          "2024-01-22T00:00:00.000000000",
          "2024-01-15T00:00:00.000000000",
          "2024-01-08T00:00:00.000000000",
          "2024-01-01T00:00:00.000000000",
          "2023-12-25T00:00:00.000000000",
          "2023-12-18T00:00:00.000000000",
          "2023-12-11T00:00:00.000000000",
          "2023-12-04T00:00:00.000000000",
          "2023-11-27T00:00:00.000000000",
          "2023-11-20T00:00:00.000000000",
          "2023-11-13T00:00:00.000000000",
          "2023-11-06T00:00:00.000000000",
          "2023-10-30T00:00:00.000000000",
          "2023-10-23T00:00:00.000000000",
          "2023-10-16T00:00:00.000000000",
          "2023-10-09T00:00:00.000000000",
          "2023-10-02T00:00:00.000000000",
          "2023-09-25T00:00:00.000000000",
          "2023-09-18T00:00:00.000000000",
          "2023-09-11T00:00:00.000000000",
          "2023-09-04T00:00:00.000000000",
          "2023-08-28T00:00:00.000000000",
          "2023-08-21T00:00:00.000000000",
          "2023-08-14T00:00:00.000000000",
          "2023-08-07T00:00:00.000000000",
          "2023-07-31T00:00:00.000000000",
          "2023-07-24T00:00:00.000000000",
          "2023-07-17T00:00:00.000000000",
          "2023-07-10T00:00:00.000000000",
          "2023-07-03T00:00:00.000000000",
          "2023-06-26T00:00:00.000000000",
          "2023-06-19T00:00:00.000000000",
          "2023-06-12T00:00:00.000000000",
          "2023-06-05T00:00:00.000000000",
          "2023-05-29T00:00:00.000000000",
          "2023-05-22T00:00:00.000000000",
          "2023-05-15T00:00:00.000000000",
          "2023-05-08T00:00:00.000000000",
          "2023-05-01T00:00:00.000000000",
          "2023-04-24T00:00:00.000000000",
          "2023-04-17T00:00:00.000000000",
          "2023-04-10T00:00:00.000000000",
          "2023-04-03T00:00:00.000000000",
          "2023-03-27T00:00:00.000000000",
          "2023-03-20T00:00:00.000000000",
          "2023-03-13T00:00:00.000000000",
          "2023-03-06T00:00:00.000000000",
          "2023-02-27T00:00:00.000000000",
          "2023-02-20T00:00:00.000000000",
          "2023-01-02T00:00:00.000000000",
          "2022-11-07T00:00:00.000000000",
          "2022-10-24T00:00:00.000000000",
          "2022-10-17T00:00:00.000000000",
          "2022-10-10T00:00:00.000000000",
          "2022-10-03T00:00:00.000000000",
          "2022-09-26T00:00:00.000000000",
          "2022-09-19T00:00:00.000000000",
          "2022-09-05T00:00:00.000000000",
          "2022-07-18T00:00:00.000000000",
          "2022-07-11T00:00:00.000000000",
          "2022-07-04T00:00:00.000000000",
          "2022-06-27T00:00:00.000000000",
          "2022-06-13T00:00:00.000000000",
          "2022-06-06T00:00:00.000000000",
          "2022-05-30T00:00:00.000000000",
          "2022-05-23T00:00:00.000000000",
          "2022-05-16T00:00:00.000000000",
          "2022-05-09T00:00:00.000000000",
          "2022-04-25T00:00:00.000000000",
          "2022-04-18T00:00:00.000000000"
         ],
         "xaxis": "x",
         "y": {
          "bdata": "uO5GSSqAgEFxfZhlenqAQf+6k8iWVoBBbuZQ+d82gEHUL5GhMxiAQSP8C4Ib439Bfxsi+HWVf0H78VczSi1/QVfXYbyyxH1Bmp0FMCE6fUEac5d467J8QervpSMe23tBnB6Ukd4MekGLhzdtNxt5Qb08XWRT2HhBmBvM6NDsdkF7GvAIPEl2QZV/7eTgP3ZBgNa8qpI6dkFUbqJ6bDh2QRC1bU8MM3ZBEcaP50todUHxocQ7shh0QVdFeJBNiXJBENGoFV75cEFI4I9nr2hwQZT6sp7uMXBBj4mU1cFpb0Ebpja2ECpvQRkuq1XCt25BzH7d1X35bUEVA6QUy2ptQdJzC1Ub/WxBAFcyBLyHbEGTeeS5FPNrQfUR+DegXGtBAMTd+befakFZMPGQb9hpQZFVSnlk8GhBrtnK9JaDaEHWbrsONolnQTqUIR4HCmdBjuVdxVKEZkHMngSDd/RlQequbAq/kWVB3CkdMYIjZUEaMEheb9JkQXTzjV2zjWRBFQDjNoBLZEGnKBfvkitkQfwXiECiFmRBtuEwud4HZEHoHDxadfBjQXhKB2pv5mNBXYor1l3aY0EeozxH8s1jQSNJkNyHxGNBdCdYu0W2Y0Hmdi8VF6djQarXLV60mWNB5tROw6CBY0E9gTALqHpjQZDAH73Xb2NBmzg5gV5cY0EXm1bLfkljQUjF/wOmQWNBuoUu6yo7Y0EorXieATFjQbIS8y3vMGNBjnQG3PoqY0H9iN+MgCJjQUd6Ub7oD2NBLYJ/psgFY0FXP7aDVuViQe1O9wfsz2JBEOdhf6nKYkH9wNXZQcViQYdu9qw3vmJBKqe94/y4YkGKJWULYbViQftzUXlVr2JBVcITUfGjYkGMoLGiZ5tiQVzrC+UPlmJBflJty6QxYkG/cyjk6gliQdMV7GU382FBxTj/0wlzYUHO4zBSb6BbQUQ2kO9qpFZBLSgMrEPEVUGpTDGF079UQf9fdaclcFJBtoe9d7WMUUGgw3z99FFRQTF72doEEVFBOtBDVG/KUEEzMzOqhSBQQWcN3sczeEpBEK/rDd0zR0EyPPbp2JBDQUrXTGrZqzNBLnqnGjQYKUFMF2KlQiUVQVRvDaxPBgNB",
          "dtype": "f8"
         },
         "yaxis": "y"
        },
        {
         "marker": {
          "color": "#5d213d"
         },
         "name": "CUMULATIVE USDC SPENT ($403.5K)     ",
         "showlegend": true,
         "type": "bar",
         "x": [
          "2024-09-23T00:00:00.000000000",
          "2024-09-16T00:00:00.000000000",
          "2024-09-09T00:00:00.000000000",
          "2024-09-02T00:00:00.000000000",
          "2024-08-26T00:00:00.000000000",
          "2024-08-19T00:00:00.000000000",
          "2024-08-12T00:00:00.000000000",
          "2024-08-05T00:00:00.000000000",
          "2024-07-29T00:00:00.000000000",
          "2024-07-22T00:00:00.000000000",
          "2024-07-15T00:00:00.000000000",
          "2024-07-08T00:00:00.000000000",
          "2024-07-01T00:00:00.000000000",
          "2024-06-24T00:00:00.000000000",
          "2024-06-17T00:00:00.000000000",
          "2024-06-10T00:00:00.000000000",
          "2024-06-03T00:00:00.000000000",
          "2024-05-27T00:00:00.000000000",
          "2024-05-20T00:00:00.000000000",
          "2024-05-13T00:00:00.000000000",
          "2024-05-06T00:00:00.000000000",
          "2024-04-29T00:00:00.000000000",
          "2024-04-22T00:00:00.000000000",
          "2024-04-15T00:00:00.000000000",
          "2024-04-08T00:00:00.000000000",
          "2024-04-01T00:00:00.000000000",
          "2024-03-25T00:00:00.000000000",
          "2024-03-18T00:00:00.000000000",
          "2024-03-11T00:00:00.000000000",
          "2024-03-04T00:00:00.000000000",
          "2024-02-26T00:00:00.000000000",
          "2024-02-19T00:00:00.000000000",
          "2024-02-12T00:00:00.000000000",
          "2024-02-05T00:00:00.000000000",
          "2024-01-29T00:00:00.000000000",
          "2024-01-22T00:00:00.000000000",
          "2024-01-15T00:00:00.000000000",
          "2024-01-08T00:00:00.000000000",
          "2024-01-01T00:00:00.000000000",
          "2023-12-25T00:00:00.000000000",
          "2023-12-18T00:00:00.000000000",
          "2023-12-11T00:00:00.000000000",
          "2023-12-04T00:00:00.000000000",
          "2023-11-27T00:00:00.000000000",
          "2023-11-20T00:00:00.000000000",
          "2023-11-13T00:00:00.000000000",
          "2023-11-06T00:00:00.000000000",
          "2023-10-30T00:00:00.000000000",
          "2023-10-23T00:00:00.000000000",
          "2023-10-16T00:00:00.000000000",
          "2023-10-09T00:00:00.000000000",
          "2023-10-02T00:00:00.000000000",
          "2023-09-25T00:00:00.000000000",
          "2023-09-18T00:00:00.000000000",
          "2023-09-11T00:00:00.000000000",
          "2023-09-04T00:00:00.000000000",
          "2023-08-28T00:00:00.000000000",
          "2023-08-21T00:00:00.000000000",
          "2023-08-14T00:00:00.000000000",
          "2023-08-07T00:00:00.000000000",
          "2023-07-31T00:00:00.000000000",
          "2023-07-24T00:00:00.000000000",
          "2023-07-17T00:00:00.000000000",
          "2023-07-10T00:00:00.000000000",
          "2023-07-03T00:00:00.000000000",
          "2023-06-26T00:00:00.000000000",
          "2023-06-19T00:00:00.000000000",
          "2023-06-12T00:00:00.000000000",
          "2023-06-05T00:00:00.000000000",
          "2023-05-29T00:00:00.000000000",
          "2023-05-22T00:00:00.000000000",
          "2023-05-15T00:00:00.000000000",
          "2023-05-08T00:00:00.000000000",
          "2023-05-01T00:00:00.000000000",
          "2023-04-24T00:00:00.000000000",
          "2023-04-17T00:00:00.000000000",
          "2023-04-10T00:00:00.000000000",
          "2023-04-03T00:00:00.000000000",
          "2023-03-27T00:00:00.000000000",
          "2023-03-20T00:00:00.000000000",
          "2023-03-13T00:00:00.000000000",
          "2023-03-06T00:00:00.000000000",
          "2023-02-27T00:00:00.000000000",
          "2023-02-20T00:00:00.000000000",
          "2023-01-02T00:00:00.000000000",
          "2022-11-07T00:00:00.000000000",
          "2022-10-24T00:00:00.000000000",
          "2022-10-17T00:00:00.000000000",
          "2022-10-10T00:00:00.000000000",
          "2022-10-03T00:00:00.000000000",
          "2022-09-26T00:00:00.000000000",
          "2022-09-19T00:00:00.000000000",
          "2022-09-05T00:00:00.000000000",
          "2022-07-18T00:00:00.000000000",
          "2022-07-11T00:00:00.000000000",
          "2022-07-04T00:00:00.000000000",
          "2022-06-27T00:00:00.000000000",
          "2022-06-13T00:00:00.000000000",
          "2022-06-06T00:00:00.000000000",
          "2022-05-30T00:00:00.000000000",
          "2022-05-23T00:00:00.000000000",
          "2022-05-16T00:00:00.000000000",
          "2022-05-09T00:00:00.000000000",
          "2022-04-25T00:00:00.000000000",
          "2022-04-18T00:00:00.000000000"
         ],
         "xaxis": "x",
         "y": {
          "bdata": "WwJ+u+RahUGAI8D8L1KFQfG/uiDAG4VB0H0QtBrthEGfa8orV8CEQUkQdO8OgYRB5y8UpDA+hEHxyqlTnuGDQfd2m1sXo4JBw9134QkMgkE3p5TgU2yBQRjevnbrj4BBvE8LWKACfkGrbFF4bmR8QUjh1zhH/HtBmWMiszjneEEj7QfsZOB3Qdpsk7tb0HdBr3DoY3rHd0ETTeoto8N3QXR800xTundBijm8e9FmdkErwHl6uGt0QQhd0Znm3XFB0rjCn04Ab0H9rO1EqiBtQetRbNEaK2xBwIL93bsxakH2yINXO5hpQcPkhAZz82hBplJiKOD+Z0Fer3BltV5nQW2ZHpln82ZB1VbvOrJ1ZkH/81KrCdZlQfkZk8nrJWVBrROuczdTZEEZ6Ud/w2NjQf2FBXIbXWJBWggW2f3HYUFfNRuXQ1pgQZo3FzFar19BGLrtPdPeXkFi23Gmr1BeQTkg5FcEAV5B7gfX+vqtXUGAW+lcVG9dQT6mjF64QF1BlEwJfBIdXUG5VxzUoRBdQXx7c0j+CF1BCtxh5rkDXUE/q5yaU/pcQUrUAjXl9lxB7BU4/6ryXEFdozOdau5cQQvCF8L36lxB3mvQm8XlXEHDc6gsKeBcQY5IeQbX2lxBt/RfdpfQXEEb2VkPuM1cQTaYUHoGyVxB/DvBx5i/XEFn46Qe0rdcQS9GO96KtFxBVhkhs+GxXEHFOUut7q1cQYFMKF3orVxBXiN/7n6rXEHtYh+JwqdcQc+lAIw8oFxB162BOAycXEGl+deFyo5cQcY4qD4ThVxBLhP5nY+CXEFEukABtX9cQdKSnOT3e1xBy1xt9295XEF0lOUPvXdcQRRMGpCvdFxBf+SOn9tuXEGvd+jabmpcQRxkk8MyZ1xBTkejucMqXEG16BxxbR5cQQOIRGaCElxBjN0onFeRW0Hzo94pkvNXQcnho6lyd1VBpFpvDjP2VEGpD6DNx2FUQaUMqNF9GVNBI6vIu6GMUkF+rJUd5VVSQTlejbzzIFJB5377Uv3vUUEnYr9Gb4RRQW5nucdESk9BlnLgR1eqTEHYJXgCblVJQcpBLSZ2FUBBy05BIFkjN0H7B9PAAAYrQSxi1SIqoRhB",
          "dtype": "f8"
         },
         "yaxis": "y2"
        }
       ],
       "layout": {
        "autosize": true,
        "barmode": "stack",
        "font": {
         "color": "black",
         "family": "Cardo",
         "size": 16
        },
        "height": 400,
        "hovermode": "x unified",
        "legend": {
         "bgcolor": "rgba(0,0,0,0)",
         "bordercolor": "rgba(0,0,0,0)",
         "borderwidth": 1,
         "font": {
          "color": "black",
          "family": "Cardo",
          "size": 12
         },
         "orientation": "v",
         "traceorder": "normal",
         "x": 1.1,
         "xanchor": "left",
         "y": 1,
         "yanchor": "top"
        },
        "margin": {
         "t": 100
        },
        "template": {
         "data": {
          "bar": [
           {
            "error_x": {
             "color": "#2a3f5f"
            },
            "error_y": {
             "color": "#2a3f5f"
            },
            "marker": {
             "line": {
              "color": "white",
              "width": 0.5
             },
             "pattern": {
              "fillmode": "overlay",
              "size": 10,
              "solidity": 0.2
             }
            },
            "type": "bar"
           }
          ],
          "barpolar": [
           {
            "marker": {
             "line": {
              "color": "white",
              "width": 0.5
             },
             "pattern": {
              "fillmode": "overlay",
              "size": 10,
              "solidity": 0.2
             }
            },
            "type": "barpolar"
           }
          ],
          "carpet": [
           {
            "aaxis": {
             "endlinecolor": "#2a3f5f",
             "gridcolor": "#C8D4E3",
             "linecolor": "#C8D4E3",
             "minorgridcolor": "#C8D4E3",
             "startlinecolor": "#2a3f5f"
            },
            "baxis": {
             "endlinecolor": "#2a3f5f",
             "gridcolor": "#C8D4E3",
             "linecolor": "#C8D4E3",
             "minorgridcolor": "#C8D4E3",
             "startlinecolor": "#2a3f5f"
            },
            "type": "carpet"
           }
          ],
          "choropleth": [
           {
            "colorbar": {
             "outlinewidth": 0,
             "ticks": ""
            },
            "type": "choropleth"
           }
          ],
          "contour": [
           {
            "colorbar": {
             "outlinewidth": 0,
             "ticks": ""
            },
            "colorscale": [
             [
              0,
              "#0d0887"
             ],
             [
              0.1111111111111111,
              "#46039f"
             ],
             [
              0.2222222222222222,
              "#7201a8"
             ],
             [
              0.3333333333333333,
              "#9c179e"
             ],
             [
              0.4444444444444444,
              "#bd3786"
             ],
             [
              0.5555555555555556,
              "#d8576b"
             ],
             [
              0.6666666666666666,
              "#ed7953"
             ],
             [
              0.7777777777777778,
              "#fb9f3a"
             ],
             [
              0.8888888888888888,
              "#fdca26"
             ],
             [
              1,
              "#f0f921"
             ]
            ],
            "type": "contour"
           }
          ],
          "contourcarpet": [
           {
            "colorbar": {
             "outlinewidth": 0,
             "ticks": ""
            },
            "type": "contourcarpet"
           }
          ],
          "heatmap": [
           {
            "colorbar": {
             "outlinewidth": 0,
             "ticks": ""
            },
            "colorscale": [
             [
              0,
              "#0d0887"
             ],
             [
              0.1111111111111111,
              "#46039f"
             ],
             [
              0.2222222222222222,
              "#7201a8"
             ],
             [
              0.3333333333333333,
              "#9c179e"
             ],
             [
              0.4444444444444444,
              "#bd3786"
             ],
             [
              0.5555555555555556,
              "#d8576b"
             ],
             [
              0.6666666666666666,
              "#ed7953"
             ],
             [
              0.7777777777777778,
              "#fb9f3a"
             ],
             [
              0.8888888888888888,
              "#fdca26"
             ],
             [
              1,
              "#f0f921"
             ]
            ],
            "type": "heatmap"
           }
          ],
          "histogram": [
           {
            "marker": {
             "pattern": {
              "fillmode": "overlay",
              "size": 10,
              "solidity": 0.2
             }
            },
            "type": "histogram"
           }
          ],
          "histogram2d": [
           {
            "colorbar": {
             "outlinewidth": 0,
             "ticks": ""
            },
            "colorscale": [
             [
              0,
              "#0d0887"
             ],
             [
              0.1111111111111111,
              "#46039f"
             ],
             [
              0.2222222222222222,
              "#7201a8"
             ],
             [
              0.3333333333333333,
              "#9c179e"
             ],
             [
              0.4444444444444444,
              "#bd3786"
             ],
             [
              0.5555555555555556,
              "#d8576b"
             ],
             [
              0.6666666666666666,
              "#ed7953"
             ],
             [
              0.7777777777777778,
              "#fb9f3a"
             ],
             [
              0.8888888888888888,
              "#fdca26"
             ],
             [
              1,
              "#f0f921"
             ]
            ],
            "type": "histogram2d"
           }
          ],
          "histogram2dcontour": [
           {
            "colorbar": {
             "outlinewidth": 0,
             "ticks": ""
            },
            "colorscale": [
             [
              0,
              "#0d0887"
             ],
             [
              0.1111111111111111,
              "#46039f"
             ],
             [
              0.2222222222222222,
              "#7201a8"
             ],
             [
              0.3333333333333333,
              "#9c179e"
             ],
             [
              0.4444444444444444,
              "#bd3786"
             ],
             [
              0.5555555555555556,
              "#d8576b"
             ],
             [
              0.6666666666666666,
              "#ed7953"
             ],
             [
              0.7777777777777778,
              "#fb9f3a"
             ],
             [
              0.8888888888888888,
              "#fdca26"
             ],
             [
              1,
              "#f0f921"
             ]
            ],
            "type": "histogram2dcontour"
           }
          ],
          "mesh3d": [
           {
            "colorbar": {
             "outlinewidth": 0,
             "ticks": ""
            },
            "type": "mesh3d"
           }
          ],
          "parcoords": [
           {
            "line": {
             "colorbar": {
              "outlinewidth": 0,
              "ticks": ""
             }
            },
            "type": "parcoords"
           }
          ],
          "pie": [
           {
            "automargin": true,
            "type": "pie"
           }
          ],
          "scatter": [
           {
            "fillpattern": {
             "fillmode": "overlay",
             "size": 10,
             "solidity": 0.2
            },
            "type": "scatter"
           }
          ],
          "scatter3d": [
           {
            "line": {
             "colorbar": {
              "outlinewidth": 0,
              "ticks": ""
             }
            },
            "marker": {
             "colorbar": {
              "outlinewidth": 0,
              "ticks": ""
             }
            },
            "type": "scatter3d"
           }
          ],
          "scattercarpet": [
           {
            "marker": {
             "colorbar": {
              "outlinewidth": 0,
              "ticks": ""
             }
            },
            "type": "scattercarpet"
           }
          ],
          "scattergeo": [
           {
            "marker": {
             "colorbar": {
              "outlinewidth": 0,
              "ticks": ""
             }
            },
            "type": "scattergeo"
           }
          ],
          "scattergl": [
           {
            "marker": {
             "colorbar": {
              "outlinewidth": 0,
              "ticks": ""
             }
            },
            "type": "scattergl"
           }
          ],
          "scattermap": [
           {
            "marker": {
             "colorbar": {
              "outlinewidth": 0,
              "ticks": ""
             }
            },
            "type": "scattermap"
           }
          ],
          "scattermapbox": [
           {
            "marker": {
             "colorbar": {
              "outlinewidth": 0,
              "ticks": ""
             }
            },
            "type": "scattermapbox"
           }
          ],
          "scatterpolar": [
           {
            "marker": {
             "colorbar": {
              "outlinewidth": 0,
              "ticks": ""
             }
            },
            "type": "scatterpolar"
           }
          ],
          "scatterpolargl": [
           {
            "marker": {
             "colorbar": {
              "outlinewidth": 0,
              "ticks": ""
             }
            },
            "type": "scatterpolargl"
           }
          ],
          "scatterternary": [
           {
            "marker": {
             "colorbar": {
              "outlinewidth": 0,
              "ticks": ""
             }
            },
            "type": "scatterternary"
           }
          ],
          "surface": [
           {
            "colorbar": {
             "outlinewidth": 0,
             "ticks": ""
            },
            "colorscale": [
             [
              0,
              "#0d0887"
             ],
             [
              0.1111111111111111,
              "#46039f"
             ],
             [
              0.2222222222222222,
              "#7201a8"
             ],
             [
              0.3333333333333333,
              "#9c179e"
             ],
             [
              0.4444444444444444,
              "#bd3786"
             ],
             [
              0.5555555555555556,
              "#d8576b"
             ],
             [
              0.6666666666666666,
              "#ed7953"
             ],
             [
              0.7777777777777778,
              "#fb9f3a"
             ],
             [
              0.8888888888888888,
              "#fdca26"
             ],
             [
              1,
              "#f0f921"
             ]
            ],
            "type": "surface"
           }
          ],
          "table": [
           {
            "cells": {
             "fill": {
              "color": "#EBF0F8"
             },
             "line": {
              "color": "white"
             }
            },
            "header": {
             "fill": {
              "color": "#C8D4E3"
             },
             "line": {
              "color": "white"
             }
            },
            "type": "table"
           }
          ]
         },
         "layout": {
          "annotationdefaults": {
           "arrowcolor": "#2a3f5f",
           "arrowhead": 0,
           "arrowwidth": 1
          },
          "autotypenumbers": "strict",
          "coloraxis": {
           "colorbar": {
            "outlinewidth": 0,
            "ticks": ""
           }
          },
          "colorscale": {
           "diverging": [
            [
             0,
             "#8e0152"
            ],
            [
             0.1,
             "#c51b7d"
            ],
            [
             0.2,
             "#de77ae"
            ],
            [
             0.3,
             "#f1b6da"
            ],
            [
             0.4,
             "#fde0ef"
            ],
            [
             0.5,
             "#f7f7f7"
            ],
            [
             0.6,
             "#e6f5d0"
            ],
            [
             0.7,
             "#b8e186"
            ],
            [
             0.8,
             "#7fbc41"
            ],
            [
             0.9,
             "#4d9221"
            ],
            [
             1,
             "#276419"
            ]
           ],
           "sequential": [
            [
             0,
             "#0d0887"
            ],
            [
             0.1111111111111111,
             "#46039f"
            ],
            [
             0.2222222222222222,
             "#7201a8"
            ],
            [
             0.3333333333333333,
             "#9c179e"
            ],
            [
             0.4444444444444444,
             "#bd3786"
            ],
            [
             0.5555555555555556,
             "#d8576b"
            ],
            [
             0.6666666666666666,
             "#ed7953"
            ],
            [
             0.7777777777777778,
             "#fb9f3a"
            ],
            [
             0.8888888888888888,
             "#fdca26"
            ],
            [
             1,
             "#f0f921"
            ]
           ],
           "sequentialminus": [
            [
             0,
             "#0d0887"
            ],
            [
             0.1111111111111111,
             "#46039f"
            ],
            [
             0.2222222222222222,
             "#7201a8"
            ],
            [
             0.3333333333333333,
             "#9c179e"
            ],
            [
             0.4444444444444444,
             "#bd3786"
            ],
            [
             0.5555555555555556,
             "#d8576b"
            ],
            [
             0.6666666666666666,
             "#ed7953"
            ],
            [
             0.7777777777777778,
             "#fb9f3a"
            ],
            [
             0.8888888888888888,
             "#fdca26"
            ],
            [
             1,
             "#f0f921"
            ]
           ]
          },
          "colorway": [
           "#636efa",
           "#EF553B",
           "#00cc96",
           "#ab63fa",
           "#FFA15A",
           "#19d3f3",
           "#FF6692",
           "#B6E880",
           "#FF97FF",
           "#FECB52"
          ],
          "font": {
           "color": "#2a3f5f"
          },
          "geo": {
           "bgcolor": "white",
           "lakecolor": "white",
           "landcolor": "white",
           "showlakes": true,
           "showland": true,
           "subunitcolor": "#C8D4E3"
          },
          "hoverlabel": {
           "align": "left"
          },
          "hovermode": "closest",
          "mapbox": {
           "style": "light"
          },
          "paper_bgcolor": "white",
          "plot_bgcolor": "white",
          "polar": {
           "angularaxis": {
            "gridcolor": "#EBF0F8",
            "linecolor": "#EBF0F8",
            "ticks": ""
           },
           "bgcolor": "white",
           "radialaxis": {
            "gridcolor": "#EBF0F8",
            "linecolor": "#EBF0F8",
            "ticks": ""
           }
          },
          "scene": {
           "xaxis": {
            "backgroundcolor": "white",
            "gridcolor": "#DFE8F3",
            "gridwidth": 2,
            "linecolor": "#EBF0F8",
            "showbackground": true,
            "ticks": "",
            "zerolinecolor": "#EBF0F8"
           },
           "yaxis": {
            "backgroundcolor": "white",
            "gridcolor": "#DFE8F3",
            "gridwidth": 2,
            "linecolor": "#EBF0F8",
            "showbackground": true,
            "ticks": "",
            "zerolinecolor": "#EBF0F8"
           },
           "zaxis": {
            "backgroundcolor": "white",
            "gridcolor": "#DFE8F3",
            "gridwidth": 2,
            "linecolor": "#EBF0F8",
            "showbackground": true,
            "ticks": "",
            "zerolinecolor": "#EBF0F8"
           }
          },
          "shapedefaults": {
           "line": {
            "color": "#2a3f5f"
           }
          },
          "ternary": {
           "aaxis": {
            "gridcolor": "#DFE8F3",
            "linecolor": "#A2B1C6",
            "ticks": ""
           },
           "baxis": {
            "gridcolor": "#DFE8F3",
            "linecolor": "#A2B1C6",
            "ticks": ""
           },
           "bgcolor": "white",
           "caxis": {
            "gridcolor": "#DFE8F3",
            "linecolor": "#A2B1C6",
            "ticks": ""
           }
          },
          "title": {
           "x": 0.05
          },
          "xaxis": {
           "automargin": true,
           "gridcolor": "#EBF0F8",
           "linecolor": "#EBF0F8",
           "ticks": "",
           "title": {
            "standoff": 15
           },
           "zerolinecolor": "#EBF0F8",
           "zerolinewidth": 2
          },
          "yaxis": {
           "automargin": true,
           "gridcolor": "#EBF0F8",
           "linecolor": "#EBF0F8",
           "ticks": "",
           "title": {
            "standoff": 15
           },
           "zerolinecolor": "#EBF0F8",
           "zerolinewidth": 2
          }
         }
        },
        "title": {
         "font": {
          "color": "black",
          "family": "Cardo",
          "size": 27
         },
         "text": "<span style='color: black; font-weight: normal;'>$RAY Buybacks Over Time</span><br><sub style='font-size: 18px; color: black; font-weight: normal;'>Daily through 2024-09-23 00:00:00</sub>",
         "x": 0.1,
         "xanchor": "left",
         "y": 0.9,
         "yanchor": "top"
        },
        "width": 730,
        "xaxis": {
         "anchor": "y",
         "domain": [
          0,
          0.94
         ],
         "tickfont": {
          "color": "black"
         }
        },
        "yaxis": {
         "anchor": "x",
         "color": "#cc7407",
         "domain": [
          0,
          1
         ],
         "showticklabels": true,
         "tickprefix": "",
         "title": {
          "text": "CUMULATIVE RAY BOUGHT"
         }
        },
        "yaxis2": {
         "anchor": "x",
         "color": "#5d213d",
         "overlaying": "y",
         "side": "right",
         "tickprefix": "$",
         "title": {
          "text": "CUMULATIVE USDC SPENT"
         }
        }
       }
      }
     },
     "metadata": {},
     "output_type": "display_data"
    },
    {
     "name": "stdout",
     "output_type": "stream",
     "text": [
      "Saving figure to: img\\$RAY Buybacks Over Time.png\n"
     ]
    }
   ],
   "source": [
    "cm = ChartMaker(shuffle_colors=True)\n",
    "cm.build(\n",
    "    df = test_df1,\n",
    "    axes_data=dict(y1=['cumulative_ray_bought'],\n",
    "                    y2=['cumulative_usdc_spent']),\n",
    "    title='$RAY Buybacks Over Time',\n",
    "    chart_type={'y1':'line','y2':'bar'},\n",
    "    options = {'margin':dict(t=100),'annotations':True,\n",
    "                'tickprefix':{'y2':'$'},'auto_title':True,\n",
    "                'show_legend':True,'legend_placement':{'x':1.1,'y':1}},\n",
    ")\n",
    "cm.add_title(\n",
    "    title='$RAY Buybacks Over Time',\n",
    "    subtitle=f'Daily through {test_df1.index.max()}',\n",
    "    x=0.1,\n",
    "    y=0.9\n",
    ")\n",
    "cm.add_annotations()\n",
    "cm.show_fig()\n",
    "cm.save_fig(save_directory='img')"
   ]
  },
  {
   "cell_type": "code",
   "execution_count": 7,
   "id": "64d67743",
   "metadata": {},
   "outputs": [
    {
     "data": {
      "text/html": [
       "<div>\n",
       "<style scoped>\n",
       "    .dataframe tbody tr th:only-of-type {\n",
       "        vertical-align: middle;\n",
       "    }\n",
       "\n",
       "    .dataframe tbody tr th {\n",
       "        vertical-align: top;\n",
       "    }\n",
       "\n",
       "    .dataframe thead th {\n",
       "        text-align: right;\n",
       "    }\n",
       "</style>\n",
       "<table border=\"1\" class=\"dataframe\">\n",
       "  <thead>\n",
       "    <tr style=\"text-align: right;\">\n",
       "      <th></th>\n",
       "      <th>chain</th>\n",
       "      <th>netflows - YTD</th>\n",
       "    </tr>\n",
       "  </thead>\n",
       "  <tbody>\n",
       "    <tr>\n",
       "      <th>0</th>\n",
       "      <td>Base</td>\n",
       "      <td>3000000000</td>\n",
       "    </tr>\n",
       "    <tr>\n",
       "      <th>1</th>\n",
       "      <td>Berachain</td>\n",
       "      <td>1300000000</td>\n",
       "    </tr>\n",
       "    <tr>\n",
       "      <th>2</th>\n",
       "      <td>Sonic</td>\n",
       "      <td>1200000000</td>\n",
       "    </tr>\n",
       "    <tr>\n",
       "      <th>3</th>\n",
       "      <td>Solana</td>\n",
       "      <td>440200000</td>\n",
       "    </tr>\n",
       "    <tr>\n",
       "      <th>4</th>\n",
       "      <td>Avalanche</td>\n",
       "      <td>-128100000</td>\n",
       "    </tr>\n",
       "    <tr>\n",
       "      <th>5</th>\n",
       "      <td>zkSync Era</td>\n",
       "      <td>-216100000</td>\n",
       "    </tr>\n",
       "    <tr>\n",
       "      <th>6</th>\n",
       "      <td>OP Mainnnet</td>\n",
       "      <td>-384900000</td>\n",
       "    </tr>\n",
       "    <tr>\n",
       "      <th>7</th>\n",
       "      <td>Blast</td>\n",
       "      <td>-448600000</td>\n",
       "    </tr>\n",
       "    <tr>\n",
       "      <th>8</th>\n",
       "      <td>Ethereum</td>\n",
       "      <td>-1400000000</td>\n",
       "    </tr>\n",
       "    <tr>\n",
       "      <th>9</th>\n",
       "      <td>Arbitrum</td>\n",
       "      <td>-3000000000</td>\n",
       "    </tr>\n",
       "  </tbody>\n",
       "</table>\n",
       "</div>"
      ],
      "text/plain": [
       "         chain  netflows - YTD\n",
       "0         Base      3000000000\n",
       "1    Berachain      1300000000\n",
       "2        Sonic      1200000000\n",
       "3       Solana       440200000\n",
       "4    Avalanche      -128100000\n",
       "5   zkSync Era      -216100000\n",
       "6  OP Mainnnet      -384900000\n",
       "7        Blast      -448600000\n",
       "8     Ethereum     -1400000000\n",
       "9     Arbitrum     -3000000000"
      ]
     },
     "execution_count": 7,
     "metadata": {},
     "output_type": "execute_result"
    }
   ],
   "source": [
    "test_dfbar = test_cleaner.to_df(r'data/flows_by_chain.csv')\n",
    "test_dfbar, time_freq =  test_cleaner.to_time(test_dfbar)\n",
    "test_dfbar"
   ]
  },
  {
   "cell_type": "code",
   "execution_count": 8,
   "id": "f1183d67",
   "metadata": {},
   "outputs": [
    {
     "name": "stdout",
     "output_type": "stream",
     "text": [
      "kind: None\n",
      "chart_type: {'y1': 'bar', 'y2': 'bar'}\n",
      "groupby and numcol passed\n",
      "textposition: outside\n",
      "textposition: outside\n",
      "textposition: outside\n",
      "textposition: outside\n",
      "textposition: outside\n",
      "textposition: outside\n",
      "textposition: outside\n",
      "textposition: outside\n",
      "textposition: outside\n",
      "textposition: outside\n"
     ]
    },
    {
     "data": {
      "application/vnd.plotly.v1+json": {
       "config": {
        "linkText": "Export to plot.ly",
        "plotlyServerURL": "https://plot.ly",
        "showLink": false
       },
       "data": [
        {
         "marker": {
          "color": "#bc9157"
         },
         "name": "Base ($3.0B)",
         "showlegend": false,
         "text": [
          "$3.0B"
         ],
         "textposition": "outside",
         "type": "bar",
         "x": [
          "Base"
         ],
         "xaxis": "x",
         "y": [
          3000000000
         ],
         "yaxis": "y"
        },
        {
         "marker": {
          "color": "#ff82ed"
         },
         "name": "Berachain ($1.3B)",
         "showlegend": false,
         "text": [
          "$1.3B"
         ],
         "textposition": "outside",
         "type": "bar",
         "x": [
          "Berachain"
         ],
         "xaxis": "x",
         "y": [
          1300000000
         ],
         "yaxis": "y"
        },
        {
         "marker": {
          "color": "#00753f"
         },
         "name": "Sonic ($1.2B)",
         "showlegend": false,
         "text": [
          "$1.2B"
         ],
         "textposition": "outside",
         "type": "bar",
         "x": [
          "Sonic"
         ],
         "xaxis": "x",
         "y": [
          1200000000
         ],
         "yaxis": "y"
        },
        {
         "marker": {
          "color": "#ba91cf"
         },
         "name": "Solana ($440.2M)",
         "showlegend": false,
         "text": [
          "$440.2M"
         ],
         "textposition": "outside",
         "type": "bar",
         "x": [
          "Solana"
         ],
         "xaxis": "x",
         "y": [
          440200000
         ],
         "yaxis": "y"
        },
        {
         "marker": {
          "color": "#5e7b87"
         },
         "name": "Avalanche ($-128.1M)",
         "showlegend": false,
         "text": [
          "$-128.1M"
         ],
         "textposition": "outside",
         "type": "bar",
         "x": [
          "Avalanche"
         ],
         "xaxis": "x",
         "y": [
          -128100000
         ],
         "yaxis": "y"
        },
        {
         "marker": {
          "color": "#01824d"
         },
         "name": "zkSync Era ($-216.1M)",
         "showlegend": false,
         "text": [
          "$-216.1M"
         ],
         "textposition": "outside",
         "type": "bar",
         "x": [
          "zkSync Era"
         ],
         "xaxis": "x",
         "y": [
          -216100000
         ],
         "yaxis": "y"
        },
        {
         "marker": {
          "color": "#364424"
         },
         "name": "OP Mainnnet ($-384.9M)",
         "showlegend": false,
         "text": [
          "$-384.9M"
         ],
         "textposition": "outside",
         "type": "bar",
         "x": [
          "OP Mainnnet"
         ],
         "xaxis": "x",
         "y": [
          -384900000
         ],
         "yaxis": "y"
        },
        {
         "marker": {
          "color": "#b8ac7e"
         },
         "name": "Blast ($-448.6M)",
         "showlegend": false,
         "text": [
          "$-448.6M"
         ],
         "textposition": "outside",
         "type": "bar",
         "x": [
          "Blast"
         ],
         "xaxis": "x",
         "y": [
          -448600000
         ],
         "yaxis": "y"
        },
        {
         "marker": {
          "color": "#4daf4a"
         },
         "name": "Ethereum ($-1.4B)",
         "showlegend": false,
         "text": [
          "$-1.4B"
         ],
         "textposition": "outside",
         "type": "bar",
         "x": [
          "Ethereum"
         ],
         "xaxis": "x",
         "y": [
          -1400000000
         ],
         "yaxis": "y"
        },
        {
         "marker": {
          "color": "#FC0080"
         },
         "name": "Arbitrum ($-3.0B)",
         "showlegend": false,
         "text": [
          "$-3.0B"
         ],
         "textposition": "outside",
         "type": "bar",
         "x": [
          "Arbitrum"
         ],
         "xaxis": "x",
         "y": [
          -3000000000
         ],
         "yaxis": "y"
        }
       ],
       "layout": {
        "autosize": true,
        "barmode": "stack",
        "font": {
         "color": "black",
         "family": "Cardo",
         "size": 16
        },
        "height": 400,
        "hovermode": "x unified",
        "legend": {
         "bgcolor": "rgba(0,0,0,0)",
         "bordercolor": "rgba(0,0,0,0)",
         "borderwidth": 1,
         "font": {
          "color": "black",
          "family": "Cardo",
          "size": 12
         },
         "orientation": "v",
         "traceorder": "normal",
         "x": 1.1,
         "xanchor": "left",
         "y": 1,
         "yanchor": "top"
        },
        "margin": {
         "t": 100
        },
        "template": {
         "data": {
          "bar": [
           {
            "error_x": {
             "color": "#2a3f5f"
            },
            "error_y": {
             "color": "#2a3f5f"
            },
            "marker": {
             "line": {
              "color": "white",
              "width": 0.5
             },
             "pattern": {
              "fillmode": "overlay",
              "size": 10,
              "solidity": 0.2
             }
            },
            "type": "bar"
           }
          ],
          "barpolar": [
           {
            "marker": {
             "line": {
              "color": "white",
              "width": 0.5
             },
             "pattern": {
              "fillmode": "overlay",
              "size": 10,
              "solidity": 0.2
             }
            },
            "type": "barpolar"
           }
          ],
          "carpet": [
           {
            "aaxis": {
             "endlinecolor": "#2a3f5f",
             "gridcolor": "#C8D4E3",
             "linecolor": "#C8D4E3",
             "minorgridcolor": "#C8D4E3",
             "startlinecolor": "#2a3f5f"
            },
            "baxis": {
             "endlinecolor": "#2a3f5f",
             "gridcolor": "#C8D4E3",
             "linecolor": "#C8D4E3",
             "minorgridcolor": "#C8D4E3",
             "startlinecolor": "#2a3f5f"
            },
            "type": "carpet"
           }
          ],
          "choropleth": [
           {
            "colorbar": {
             "outlinewidth": 0,
             "ticks": ""
            },
            "type": "choropleth"
           }
          ],
          "contour": [
           {
            "colorbar": {
             "outlinewidth": 0,
             "ticks": ""
            },
            "colorscale": [
             [
              0,
              "#0d0887"
             ],
             [
              0.1111111111111111,
              "#46039f"
             ],
             [
              0.2222222222222222,
              "#7201a8"
             ],
             [
              0.3333333333333333,
              "#9c179e"
             ],
             [
              0.4444444444444444,
              "#bd3786"
             ],
             [
              0.5555555555555556,
              "#d8576b"
             ],
             [
              0.6666666666666666,
              "#ed7953"
             ],
             [
              0.7777777777777778,
              "#fb9f3a"
             ],
             [
              0.8888888888888888,
              "#fdca26"
             ],
             [
              1,
              "#f0f921"
             ]
            ],
            "type": "contour"
           }
          ],
          "contourcarpet": [
           {
            "colorbar": {
             "outlinewidth": 0,
             "ticks": ""
            },
            "type": "contourcarpet"
           }
          ],
          "heatmap": [
           {
            "colorbar": {
             "outlinewidth": 0,
             "ticks": ""
            },
            "colorscale": [
             [
              0,
              "#0d0887"
             ],
             [
              0.1111111111111111,
              "#46039f"
             ],
             [
              0.2222222222222222,
              "#7201a8"
             ],
             [
              0.3333333333333333,
              "#9c179e"
             ],
             [
              0.4444444444444444,
              "#bd3786"
             ],
             [
              0.5555555555555556,
              "#d8576b"
             ],
             [
              0.6666666666666666,
              "#ed7953"
             ],
             [
              0.7777777777777778,
              "#fb9f3a"
             ],
             [
              0.8888888888888888,
              "#fdca26"
             ],
             [
              1,
              "#f0f921"
             ]
            ],
            "type": "heatmap"
           }
          ],
          "histogram": [
           {
            "marker": {
             "pattern": {
              "fillmode": "overlay",
              "size": 10,
              "solidity": 0.2
             }
            },
            "type": "histogram"
           }
          ],
          "histogram2d": [
           {
            "colorbar": {
             "outlinewidth": 0,
             "ticks": ""
            },
            "colorscale": [
             [
              0,
              "#0d0887"
             ],
             [
              0.1111111111111111,
              "#46039f"
             ],
             [
              0.2222222222222222,
              "#7201a8"
             ],
             [
              0.3333333333333333,
              "#9c179e"
             ],
             [
              0.4444444444444444,
              "#bd3786"
             ],
             [
              0.5555555555555556,
              "#d8576b"
             ],
             [
              0.6666666666666666,
              "#ed7953"
             ],
             [
              0.7777777777777778,
              "#fb9f3a"
             ],
             [
              0.8888888888888888,
              "#fdca26"
             ],
             [
              1,
              "#f0f921"
             ]
            ],
            "type": "histogram2d"
           }
          ],
          "histogram2dcontour": [
           {
            "colorbar": {
             "outlinewidth": 0,
             "ticks": ""
            },
            "colorscale": [
             [
              0,
              "#0d0887"
             ],
             [
              0.1111111111111111,
              "#46039f"
             ],
             [
              0.2222222222222222,
              "#7201a8"
             ],
             [
              0.3333333333333333,
              "#9c179e"
             ],
             [
              0.4444444444444444,
              "#bd3786"
             ],
             [
              0.5555555555555556,
              "#d8576b"
             ],
             [
              0.6666666666666666,
              "#ed7953"
             ],
             [
              0.7777777777777778,
              "#fb9f3a"
             ],
             [
              0.8888888888888888,
              "#fdca26"
             ],
             [
              1,
              "#f0f921"
             ]
            ],
            "type": "histogram2dcontour"
           }
          ],
          "mesh3d": [
           {
            "colorbar": {
             "outlinewidth": 0,
             "ticks": ""
            },
            "type": "mesh3d"
           }
          ],
          "parcoords": [
           {
            "line": {
             "colorbar": {
              "outlinewidth": 0,
              "ticks": ""
             }
            },
            "type": "parcoords"
           }
          ],
          "pie": [
           {
            "automargin": true,
            "type": "pie"
           }
          ],
          "scatter": [
           {
            "fillpattern": {
             "fillmode": "overlay",
             "size": 10,
             "solidity": 0.2
            },
            "type": "scatter"
           }
          ],
          "scatter3d": [
           {
            "line": {
             "colorbar": {
              "outlinewidth": 0,
              "ticks": ""
             }
            },
            "marker": {
             "colorbar": {
              "outlinewidth": 0,
              "ticks": ""
             }
            },
            "type": "scatter3d"
           }
          ],
          "scattercarpet": [
           {
            "marker": {
             "colorbar": {
              "outlinewidth": 0,
              "ticks": ""
             }
            },
            "type": "scattercarpet"
           }
          ],
          "scattergeo": [
           {
            "marker": {
             "colorbar": {
              "outlinewidth": 0,
              "ticks": ""
             }
            },
            "type": "scattergeo"
           }
          ],
          "scattergl": [
           {
            "marker": {
             "colorbar": {
              "outlinewidth": 0,
              "ticks": ""
             }
            },
            "type": "scattergl"
           }
          ],
          "scattermap": [
           {
            "marker": {
             "colorbar": {
              "outlinewidth": 0,
              "ticks": ""
             }
            },
            "type": "scattermap"
           }
          ],
          "scattermapbox": [
           {
            "marker": {
             "colorbar": {
              "outlinewidth": 0,
              "ticks": ""
             }
            },
            "type": "scattermapbox"
           }
          ],
          "scatterpolar": [
           {
            "marker": {
             "colorbar": {
              "outlinewidth": 0,
              "ticks": ""
             }
            },
            "type": "scatterpolar"
           }
          ],
          "scatterpolargl": [
           {
            "marker": {
             "colorbar": {
              "outlinewidth": 0,
              "ticks": ""
             }
            },
            "type": "scatterpolargl"
           }
          ],
          "scatterternary": [
           {
            "marker": {
             "colorbar": {
              "outlinewidth": 0,
              "ticks": ""
             }
            },
            "type": "scatterternary"
           }
          ],
          "surface": [
           {
            "colorbar": {
             "outlinewidth": 0,
             "ticks": ""
            },
            "colorscale": [
             [
              0,
              "#0d0887"
             ],
             [
              0.1111111111111111,
              "#46039f"
             ],
             [
              0.2222222222222222,
              "#7201a8"
             ],
             [
              0.3333333333333333,
              "#9c179e"
             ],
             [
              0.4444444444444444,
              "#bd3786"
             ],
             [
              0.5555555555555556,
              "#d8576b"
             ],
             [
              0.6666666666666666,
              "#ed7953"
             ],
             [
              0.7777777777777778,
              "#fb9f3a"
             ],
             [
              0.8888888888888888,
              "#fdca26"
             ],
             [
              1,
              "#f0f921"
             ]
            ],
            "type": "surface"
           }
          ],
          "table": [
           {
            "cells": {
             "fill": {
              "color": "#EBF0F8"
             },
             "line": {
              "color": "white"
             }
            },
            "header": {
             "fill": {
              "color": "#C8D4E3"
             },
             "line": {
              "color": "white"
             }
            },
            "type": "table"
           }
          ]
         },
         "layout": {
          "annotationdefaults": {
           "arrowcolor": "#2a3f5f",
           "arrowhead": 0,
           "arrowwidth": 1
          },
          "autotypenumbers": "strict",
          "coloraxis": {
           "colorbar": {
            "outlinewidth": 0,
            "ticks": ""
           }
          },
          "colorscale": {
           "diverging": [
            [
             0,
             "#8e0152"
            ],
            [
             0.1,
             "#c51b7d"
            ],
            [
             0.2,
             "#de77ae"
            ],
            [
             0.3,
             "#f1b6da"
            ],
            [
             0.4,
             "#fde0ef"
            ],
            [
             0.5,
             "#f7f7f7"
            ],
            [
             0.6,
             "#e6f5d0"
            ],
            [
             0.7,
             "#b8e186"
            ],
            [
             0.8,
             "#7fbc41"
            ],
            [
             0.9,
             "#4d9221"
            ],
            [
             1,
             "#276419"
            ]
           ],
           "sequential": [
            [
             0,
             "#0d0887"
            ],
            [
             0.1111111111111111,
             "#46039f"
            ],
            [
             0.2222222222222222,
             "#7201a8"
            ],
            [
             0.3333333333333333,
             "#9c179e"
            ],
            [
             0.4444444444444444,
             "#bd3786"
            ],
            [
             0.5555555555555556,
             "#d8576b"
            ],
            [
             0.6666666666666666,
             "#ed7953"
            ],
            [
             0.7777777777777778,
             "#fb9f3a"
            ],
            [
             0.8888888888888888,
             "#fdca26"
            ],
            [
             1,
             "#f0f921"
            ]
           ],
           "sequentialminus": [
            [
             0,
             "#0d0887"
            ],
            [
             0.1111111111111111,
             "#46039f"
            ],
            [
             0.2222222222222222,
             "#7201a8"
            ],
            [
             0.3333333333333333,
             "#9c179e"
            ],
            [
             0.4444444444444444,
             "#bd3786"
            ],
            [
             0.5555555555555556,
             "#d8576b"
            ],
            [
             0.6666666666666666,
             "#ed7953"
            ],
            [
             0.7777777777777778,
             "#fb9f3a"
            ],
            [
             0.8888888888888888,
             "#fdca26"
            ],
            [
             1,
             "#f0f921"
            ]
           ]
          },
          "colorway": [
           "#636efa",
           "#EF553B",
           "#00cc96",
           "#ab63fa",
           "#FFA15A",
           "#19d3f3",
           "#FF6692",
           "#B6E880",
           "#FF97FF",
           "#FECB52"
          ],
          "font": {
           "color": "#2a3f5f"
          },
          "geo": {
           "bgcolor": "white",
           "lakecolor": "white",
           "landcolor": "white",
           "showlakes": true,
           "showland": true,
           "subunitcolor": "#C8D4E3"
          },
          "hoverlabel": {
           "align": "left"
          },
          "hovermode": "closest",
          "mapbox": {
           "style": "light"
          },
          "paper_bgcolor": "white",
          "plot_bgcolor": "white",
          "polar": {
           "angularaxis": {
            "gridcolor": "#EBF0F8",
            "linecolor": "#EBF0F8",
            "ticks": ""
           },
           "bgcolor": "white",
           "radialaxis": {
            "gridcolor": "#EBF0F8",
            "linecolor": "#EBF0F8",
            "ticks": ""
           }
          },
          "scene": {
           "xaxis": {
            "backgroundcolor": "white",
            "gridcolor": "#DFE8F3",
            "gridwidth": 2,
            "linecolor": "#EBF0F8",
            "showbackground": true,
            "ticks": "",
            "zerolinecolor": "#EBF0F8"
           },
           "yaxis": {
            "backgroundcolor": "white",
            "gridcolor": "#DFE8F3",
            "gridwidth": 2,
            "linecolor": "#EBF0F8",
            "showbackground": true,
            "ticks": "",
            "zerolinecolor": "#EBF0F8"
           },
           "zaxis": {
            "backgroundcolor": "white",
            "gridcolor": "#DFE8F3",
            "gridwidth": 2,
            "linecolor": "#EBF0F8",
            "showbackground": true,
            "ticks": "",
            "zerolinecolor": "#EBF0F8"
           }
          },
          "shapedefaults": {
           "line": {
            "color": "#2a3f5f"
           }
          },
          "ternary": {
           "aaxis": {
            "gridcolor": "#DFE8F3",
            "linecolor": "#A2B1C6",
            "ticks": ""
           },
           "baxis": {
            "gridcolor": "#DFE8F3",
            "linecolor": "#A2B1C6",
            "ticks": ""
           },
           "bgcolor": "white",
           "caxis": {
            "gridcolor": "#DFE8F3",
            "linecolor": "#A2B1C6",
            "ticks": ""
           }
          },
          "title": {
           "x": 0.05
          },
          "xaxis": {
           "automargin": true,
           "gridcolor": "#EBF0F8",
           "linecolor": "#EBF0F8",
           "ticks": "",
           "title": {
            "standoff": 15
           },
           "zerolinecolor": "#EBF0F8",
           "zerolinewidth": 2
          },
          "yaxis": {
           "automargin": true,
           "gridcolor": "#EBF0F8",
           "linecolor": "#EBF0F8",
           "ticks": "",
           "title": {
            "standoff": 15
           },
           "zerolinecolor": "#EBF0F8",
           "zerolinewidth": 2
          }
         }
        },
        "title": {
         "font": {
          "color": "black",
          "family": "Cardo",
          "size": 27
         },
         "text": "<span style='color: black; font-weight: normal;'>YTD Bridge Flows by Chain</span><br><sub style='font-size: 18px; color: black; font-weight: normal;'></sub>",
         "x": 0.1,
         "xanchor": "left",
         "y": 0.9,
         "yanchor": "top"
        },
        "width": 730,
        "xaxis": {
         "anchor": "y",
         "domain": [
          0,
          0.94
         ],
         "tickfont": {
          "color": "black"
         }
        },
        "yaxis": {
         "anchor": "x",
         "color": "rgba(0,0,0,0)",
         "domain": [
          0,
          1
         ],
         "range": [
          -3900000000,
          3900000000
         ],
         "showticklabels": false,
         "tickformat": "",
         "tickprefix": "",
         "ticksuffix": "",
         "title": {
          "text": ""
         }
        },
        "yaxis2": {
         "anchor": "x",
         "color": "black",
         "overlaying": "y",
         "side": "right",
         "tickprefix": ""
        }
       }
      }
     },
     "metadata": {},
     "output_type": "display_data"
    }
   ],
   "source": [
    "cm = ChartMaker(shuffle_colors=True)\n",
    "cm.build(\n",
    "    df=test_dfbar,\n",
    "    groupby_col='chain', \n",
    "    num_col='netflows - YTD',\n",
    "    title='YTD Bridge Flows by Chain',\n",
    "    chart_type='bar',\n",
    "    options={\n",
    "        'margin': dict(t=100),\n",
    "        'annotations': True,\n",
    "        'tickprefix': {'y1': '$'},\n",
    "        'auto_title': True,\n",
    "        'show_legend': False,\n",
    "        'show_text':True,\n",
    "        'textposition':'outside',\n",
    "        'legend_placement': {'x': 1.1, 'y': 1}\n",
    "    }\n",
    ")\n",
    "cm.add_title(\n",
    "    x=0.1,\n",
    "    y=0.9\n",
    ")\n",
    "\n",
    "cm.show_fig()"
   ]
  },
  {
   "cell_type": "markdown",
   "id": "8e0000a3",
   "metadata": {},
   "source": [
    "# Pie"
   ]
  },
  {
   "cell_type": "code",
   "execution_count": 9,
   "id": "b5800ced",
   "metadata": {},
   "outputs": [
    {
     "data": {
      "text/html": [
       "<div>\n",
       "<style scoped>\n",
       "    .dataframe tbody tr th:only-of-type {\n",
       "        vertical-align: middle;\n",
       "    }\n",
       "\n",
       "    .dataframe tbody tr th {\n",
       "        vertical-align: top;\n",
       "    }\n",
       "\n",
       "    .dataframe thead th {\n",
       "        text-align: right;\n",
       "    }\n",
       "</style>\n",
       "<table border=\"1\" class=\"dataframe\">\n",
       "  <thead>\n",
       "    <tr style=\"text-align: right;\">\n",
       "      <th></th>\n",
       "      <th>CHAIN</th>\n",
       "      <th>TOTAL_VOLUME_BRIDGED</th>\n",
       "    </tr>\n",
       "  </thead>\n",
       "  <tbody>\n",
       "    <tr>\n",
       "      <th>0</th>\n",
       "      <td>Arbitrum</td>\n",
       "      <td>5.724014e+08</td>\n",
       "    </tr>\n",
       "    <tr>\n",
       "      <th>1</th>\n",
       "      <td>Ethereum</td>\n",
       "      <td>3.858281e+08</td>\n",
       "    </tr>\n",
       "    <tr>\n",
       "      <th>2</th>\n",
       "      <td>Avalanche</td>\n",
       "      <td>3.648964e+08</td>\n",
       "    </tr>\n",
       "    <tr>\n",
       "      <th>3</th>\n",
       "      <td>Polygon</td>\n",
       "      <td>3.231033e+08</td>\n",
       "    </tr>\n",
       "    <tr>\n",
       "      <th>4</th>\n",
       "      <td>Optimism</td>\n",
       "      <td>2.751040e+08</td>\n",
       "    </tr>\n",
       "    <tr>\n",
       "      <th>5</th>\n",
       "      <td>Base</td>\n",
       "      <td>2.330525e+08</td>\n",
       "    </tr>\n",
       "    <tr>\n",
       "      <th>6</th>\n",
       "      <td>BSC</td>\n",
       "      <td>4.250442e+05</td>\n",
       "    </tr>\n",
       "  </tbody>\n",
       "</table>\n",
       "</div>"
      ],
      "text/plain": [
       "       CHAIN  TOTAL_VOLUME_BRIDGED\n",
       "0   Arbitrum          5.724014e+08\n",
       "1   Ethereum          3.858281e+08\n",
       "2  Avalanche          3.648964e+08\n",
       "3    Polygon          3.231033e+08\n",
       "4   Optimism          2.751040e+08\n",
       "5       Base          2.330525e+08\n",
       "6        BSC          4.250442e+05"
      ]
     },
     "execution_count": 9,
     "metadata": {},
     "output_type": "execute_result"
    }
   ],
   "source": [
    "test_df2 = test_cleaner.to_df(r'data/stargate_1.csv')\n",
    "test_df2, time_freq =  test_cleaner.to_time(test_df2)\n",
    "test_df2.dropna(inplace=True)\n",
    "test_df2"
   ]
  },
  {
   "cell_type": "code",
   "execution_count": 10,
   "id": "7f06d616",
   "metadata": {},
   "outputs": [
    {
     "name": "stdout",
     "output_type": "stream",
     "text": [
      "df_copy:            TOTAL_VOLUME_BRIDGED\n",
      "CHAIN                          \n",
      "Arbitrum           5.724014e+08\n",
      "Avalanche          3.648964e+08\n",
      "BSC                4.250442e+05\n",
      "Base               2.330525e+08\n",
      "Ethereum           3.858281e+08\n",
      "Optimism           2.751040e+08\n",
      "Polygon            3.231033e+08\n"
     ]
    },
    {
     "data": {
      "application/vnd.plotly.v1+json": {
       "config": {
        "linkText": "Export to plot.ly",
        "plotlyServerURL": "https://plot.ly",
        "showLink": false
       },
       "data": [
        {
         "hole": 0.5,
         "labels": [
          "Arbitrum    ",
          "Ethereum    ",
          "Avalanche    ",
          "Polygon    ",
          "Optimism    ",
          "Base    ",
          "BSC    "
         ],
         "marker": {
          "colors": [
           "#c1bdfd",
           "rgb(188,128,189)",
           "#36429e",
           "#e1b669",
           "#93ac83",
           "#6e56ca",
           "#aea8d1",
           "#984ea3",
           "#599000",
           "#97ff00",
           "#f4bfb1",
           "#00753f",
           "#b87500",
           "#5d213d",
           "#97bca8",
           "#1859ff",
           "#ff49b1",
           "#4f6e52",
           "#6b004f",
           "#ff9703",
           "#00acc6",
           "#A777F1",
           "#db9036",
           "#56dd77",
           "#a3bff6",
           "#31d400",
           "#5e7b87",
           "#8e7b01",
           "#9c60a5",
           "#0774d8",
           "#9738db",
           "#85c39a",
           "#d3c37c",
           "#eb5ed4",
           "#ffd4ef",
           "#21d3ff",
           "#05b3aa",
           "#ff82ed",
           "#00a316",
           "#6e70aa",
           "#d19570",
           "#a34d95",
           "#ff8734",
           "#77c6ba",
           "#839564",
           "#dd662d",
           "#547c72",
           "#DA60CA",
           "#086b83",
           "#97414d",
           "#7e2a8e",
           "#e377c2",
           "#a0ba52",
           "#d69a36",
           "#e29ccf",
           "#750D86",
           "#00CC96",
           "#a1216b",
           "#1ca1ff",
           "#97833d",
           "#0000dd",
           "#ca0044",
           "#7ecdf2",
           "#0a8289",
           "#ff548e",
           "#829026",
           "#80793d",
           "#e6a500",
           "#f26952",
           "#ff28fd",
           "#5901a3",
           "#a19564",
           "#6d5b95",
           "#89dbb3",
           "#97626b",
           "#5b3a7c",
           "#645472",
           "#f9eb4d",
           "#80fb9a",
           "#009744",
           "#f2db8a",
           "rgb(253,180,98)",
           "#46709e",
           "#c4668e",
           "#E15F99",
           "#ba8c7c",
           "#546744",
           "rgb(204,235,197)",
           "#e8013a",
           "#805059",
           "#ffc38e",
           "#01baf6",
           "#f90087",
           "#2d6b4d",
           "#9cffff",
           "#7bacb5",
           "#364424",
           "#ff59da",
           "#729a7c",
           "#a1c8c8",
           "#bd6ea1",
           "#2ca02c",
           "#77a342",
           "#caaa5e",
           "#91d370",
           "#623f28",
           "#bc66b8",
           "#ba00fd",
           "#629a7b",
           "#647748",
           "#4b9077",
           "#8c4470",
           "#a1cdff",
           "#6C7C32",
           "#2b7e60",
           "#0087b1",
           "#0054c1",
           "#8956af",
           "#c1a3c3",
           "#EF553B",
           "#919eb6",
           "#a03a52",
           "#d154a5",
           "#e6a872",
           "#bc9157",
           "#ebffd4",
           "#a17569",
           "#ba91cf",
           "#c38285",
           "#af5dd1",
           "#dbbc95",
           "#7b4b85",
           "#832f33",
           "#a56b97",
           "#f77589",
           "#eb0552",
           "#669c4d",
           "#7ea59a",
           "#da015d",
           "#EB663B",
           "#aed1d4",
           "#ff3146",
           "#d3008c",
           "#e2857e",
           "#eb01c3",
           "#5979c8",
           "#247c2a",
           "#b5005e",
           "#77975b",
           "#38c1a1",
           "#c6002d",
           "#93a14f",
           "#6C4516",
           "#b58346",
           "#c136d6",
           "#9900c4",
           "#15e18c",
           "rgb(217,217,217)",
           "#ff9070",
           "#4b9793",
           "#a65628",
           "#85d401",
           "#382d00",
           "#904f00",
           "#9affc3",
           "#dbb333",
           "#366962",
           "#aa002d",
           "#e252ff",
           "#00ff75",
           "#7242a3",
           "#9e0174",
           "#00cff9",
           "#d8cf00",
           "#c69eff",
           "#caff4f",
           "#2db152",
           "#b33b01",
           "#979548",
           "#636EFA",
           "#34bf00",
           "#4985ff",
           "#d84621",
           "#ef52a3",
           "#018700",
           "#8970b1",
           "#c14103",
           "#a57bb8",
           "#44d457",
           "#aa6e66",
           "#ac567c",
           "#fd77ff",
           "rgb(128,177,211)",
           "#b3cd00",
           "#ffaaf6",
           "#6b9700",
           "#a101c3",
           "#00c182",
           "#8300cf",
           "#db7e01",
           "#d195aa",
           "#a877ac",
           "#9946ae",
           "#573b00",
           "#ba5e21",
           "#446966",
           "#8287ff",
           "#6e6e31",
           "#59aa75",
           "#db72c8",
           "#903400",
           "#ff9c87",
           "#89bacf",
           "#bcbd22",
           "#00ebed",
           "#d1afef",
           "#11421c",
           "#c8c33f",
           "#5d7e69",
           "#03dae6",
           "#9e0399",
           "#89e4d8",
           "#826723",
           "#4d4d79",
           "#eb4d00",
           "#34574d",
           "#fde1b1",
           "#bac389",
           "#b89028",
           "#da5480",
           "#ff6200",
           "#bac1df",
           "#e205e2",
           "#8eba00",
           "#acaac8",
           "#d8b391",
           "#FF6692",
           "#b3723b",
           "#b1e400",
           "#773416",
           "#d182a3",
           "#bcb6ff",
           "rgb(255,255,179)",
           "#72b8ff",
           "#8cc68e",
           "#bceddb",
           "#fb9ca7",
           "#60345b",
           "#95aa2a",
           "#e9ff79",
           "#755726",
           "#00c846",
           "#d14867",
           "#8a85ae",
           "#7ecaff",
           "#778AAE",
           "#56831a",
           "#b89500",
           "#df4dcd",
           "#8c9ab1",
           "#335726",
           "#6d6942",
           "#a795c6",
           "#9cdb5d",
           "#ffcd03",
           "#77563b",
           "#824638",
           "#60b385",
           "#9a6900",
           "#c144bc",
           "#7b2f4f",
           "#c3774f",
           "#cc9790",
           "#6466ef",
           "#e48eff",
           "#aa5dca",
           "#009e7c",
           "#b1826d",
           "#c89a69",
           "#590f00",
           "#ffa52f",
           "rgb(179,222,105)",
           "#316200",
           "#95622f",
           "#60383b",
           "#a7423b",
           "#13cad1",
           "#b6d4eb",
           "#9ee2ff",
           "#ffff33",
           "#acaa59",
           "#798a9e",
           "#e49cff",
           "#8abf5d",
           "#ff3464",
           "#724967",
           "#eda590",
           "#FECB52",
           "#dad4ff",
           "#9467bd",
           "#aa3b36",
           "#05acc6",
           "#ae083f",
           "#17becf",
           "#c67ee8",
           "#862A16",
           "#a55b6b",
           "#00A08B",
           "#ac7700",
           "#d89c89",
           "#baaa80",
           "rgb(141,211,199)",
           "#72af9e",
           "rgb(190,186,218)",
           "#4d230c",
           "#d6e8ff",
           "#c84248",
           "#b3bfda",
           "#2f5282",
           "#005659",
           "#568e5b",
           "#ff6989",
           "#5e1123",
           "#cd83bc",
           "#00ba69",
           "#19D3F3",
           "#00e400",
           "#B6E880",
           "#dfbcda",
           "#87004f",
           "#AB63FA",
           "#aad4c1",
           "#ac1a13",
           "#d4e29e",
           "#d1b1eb",
           "#79893b",
           "#f64470",
           "#855b89",
           "#59b5df",
           "#826e8c",
           "#cae256",
           "#db03b3",
           "#70a3af",
           "#e28c62",
           "#8e6097",
           "#ac8ca8",
           "#FC0080",
           "#3b6d01",
           "#5d8c90",
           "#511CFB",
           "#e16e31",
           "#018700",
           "#a3832f",
           "#ddd3a5",
           "#1CA71C",
           "#b6cfaa",
           "#008069",
           "#00fdcf",
           "#8a6d4f",
           "#e2afaf",
           "#e25660",
           "#B68100",
           "#ffb500",
           "#cfff9e",
           "#7cb569",
           "#b53a85",
           "#b3e8ef",
           "#a75423",
           "#790000",
           "#b8ba01",
           "#0064a3",
           "#fd1500",
           "#8a0031",
           "#ef72aa",
           "#ff3628",
           "#b15093",
           "#91b5b6",
           "#1f77b4",
           "#4d60b5",
           "#c395a5",
           "#bfedbc",
           "#ff8ec8",
           "#698cbd",
           "#999999",
           "#528549",
           "#60006e",
           "#9387a7",
           "#5d95aa",
           "#dbafc8",
           "#856277",
           "#1f3400",
           "#f781bf",
           "#006d2d",
           "#526077",
           "#fb7c00",
           "#dfcf5b",
           "#FB0D0D",
           "#a34ba8",
           "#755900",
           "#529e93",
           "#a77b87",
           "#335769",
           "#e100e8",
           "#a08052",
           "#79525e",
           "#af6dff",
           "#222A2A",
           "#c15603",
           "#79ae6b",
           "#d6fbff",
           "#905b01",
           "#6e5d00",
           "#015438",
           "#ffa056",
           "rgb(251,128,114)",
           "#7b4600",
           "#a793e1",
           "#596d00",
           "#bfbc4d",
           "#59e2ff",
           "#2d9ed3",
           "#4d33ff",
           "#f2007b",
           "#f2cdff",
           "#FFA15A",
           "#bcac52",
           "#c35b3d",
           "#FB00D1",
           "#b6cd72",
           "#70aacf",
           "#8c3bff",
           "#50807c",
           "#ff7f0e",
           "#009aa0",
           "#c6a5c1",
           "#9eafc4",
           "#2E91E5",
           "#d48580",
           "#e41a1c",
           "#64c674",
           "#ffbad6",
           "#cdbfe4",
           "#0D2A63",
           "#7cc6d8",
           "#a55949",
           "#d60000",
           "#54823b",
           "#AF0038",
           "#95fde2",
           "#d442fd",
           "#019e70",
           "#f7807c",
           "#b8ac7e",
           "#006e70",
           "#1616A7",
           "#afbc82",
           "#ed67ff",
           "#ffc862",
           "#9e698c",
           "#5949a3",
           "#ff7752",
           "#9c5642",
           "#727790",
           "#07ef00",
           "#878ed1",
           "#e82fa0",
           "#8c6677",
           "#6d7400",
           "#59502a",
           "#9aaa85",
           "#ff7ed1",
           "#3abdc1",
           "#b8009e",
           "#7e0175",
           "#dfacb6",
           "#876bd8",
           "#2b8ad4",
           "#f9ff00",
           "#16a300",
           "#80d3dd",
           "#B2828D",
           "#620042",
           "#b500ff",
           "#00dfc3",
           "#008579",
           "#d88052",
           "#897490",
           "#afa5ff",
           "#873472",
           "#bf03b8",
           "#00f4a1",
           "#ff97b1",
           "#87d82f",
           "#b800d4",
           "#00d6a7",
           "#6e00eb",
           "#bf6d82",
           "#b63862",
           "#ba6efd",
           "#c86e66",
           "#e14231",
           "#a390af",
           "#00d493",
           "#953f1f",
           "#d62728",
           "#fdf490",
           "#aa80cd",
           "#c63189",
           "#705470",
           "#a33b74",
           "#9cfb75",
           "#00bda3",
           "#804f3d",
           "#915280",
           "#828056",
           "#ff5238",
           "#90318e",
           "#004b00",
           "#70cf4f",
           "#ff7f00",
           "#00b800",
           "#118e54",
           "#64b6ba",
           "#9e6e31",
           "#DA16FF",
           "#b55662",
           "#bc006b",
           "#6baf36",
           "#377eb8",
           "#FF97FF",
           "#eda5da",
           "#e299b3",
           "#6dd4c1",
           "#487031",
           "#380000",
           "#87a8eb",
           "#5db54b",
           "#99acdd",
           "#6ee956",
           "rgb(255,237,111)",
           "rgb(252,205,229)",
           "#67aa00",
           "#916e56",
           "#4daf4a",
           "#cc7407",
           "#afa501",
           "#959167",
           "#56642a",
           "#6b8567",
           "#909101",
           "#49a150",
           "#ff00cd",
           "#ac8399",
           "#c68ecd",
           "#6e0099",
           "#48ffef",
           "#c33431",
           "#a32818",
           "#a0e491",
           "#8c7700",
           "#4b4f01",
           "#bf90f2",
           "#eb605d",
           "#642821",
           "#d60000",
           "#7f7f7f",
           "#1626ff",
           "#c85748",
           "#c672dd",
           "#c46970",
           "#8c564b",
           "#89ba00",
           "#c35dba",
           "#e47ba7",
           "#9e4b00",
           "#01824d",
           "#4801cc"
          ],
          "line": {
           "color": "white",
           "width": 0
          }
         },
         "showlegend": false,
         "textfont": {
          "color": "black",
          "family": "Cardo",
          "size": 12
         },
         "textinfo": "percent+label",
         "texttemplate": "%{label}<br>%{percent}",
         "type": "pie",
         "values": {
          "bdata": "7FG4bhMPwUGkcD3wRP+2QQrXY4Lgv7VBPQoXLypCs0GPwvUuwWWwQT0K164yyKtB4XoUrlDxGUE=",
          "dtype": "f8"
         }
        }
       ],
       "layout": {
        "annotations": [
         {
          "align": "center",
          "font": {
           "color": "black",
           "family": "Cardo",
           "size": 25
          },
          "showarrow": false,
          "text": "Total: $2.2B",
          "x": 0.5,
          "xref": "paper",
          "y": 0.5,
          "yref": "paper"
         }
        ],
        "font": {
         "family": "Cardo",
         "size": 16
        },
        "height": 400,
        "legend": {
         "bgcolor": "rgba(0,0,0,0)",
         "font": {
          "color": "black",
          "family": "Cardo",
          "size": 12
         },
         "itemsizing": "constant",
         "orientation": "v",
         "x": 1.1,
         "xanchor": "left",
         "y": 1,
         "yanchor": "top"
        },
        "margin": {
         "t": 100
        },
        "paper_bgcolor": "rgba(0,0,0,0)",
        "plot_bgcolor": "rgba(0,0,0,0)",
        "template": {
         "data": {
          "bar": [
           {
            "error_x": {
             "color": "#2a3f5f"
            },
            "error_y": {
             "color": "#2a3f5f"
            },
            "marker": {
             "line": {
              "color": "white",
              "width": 0.5
             },
             "pattern": {
              "fillmode": "overlay",
              "size": 10,
              "solidity": 0.2
             }
            },
            "type": "bar"
           }
          ],
          "barpolar": [
           {
            "marker": {
             "line": {
              "color": "white",
              "width": 0.5
             },
             "pattern": {
              "fillmode": "overlay",
              "size": 10,
              "solidity": 0.2
             }
            },
            "type": "barpolar"
           }
          ],
          "carpet": [
           {
            "aaxis": {
             "endlinecolor": "#2a3f5f",
             "gridcolor": "#C8D4E3",
             "linecolor": "#C8D4E3",
             "minorgridcolor": "#C8D4E3",
             "startlinecolor": "#2a3f5f"
            },
            "baxis": {
             "endlinecolor": "#2a3f5f",
             "gridcolor": "#C8D4E3",
             "linecolor": "#C8D4E3",
             "minorgridcolor": "#C8D4E3",
             "startlinecolor": "#2a3f5f"
            },
            "type": "carpet"
           }
          ],
          "choropleth": [
           {
            "colorbar": {
             "outlinewidth": 0,
             "ticks": ""
            },
            "type": "choropleth"
           }
          ],
          "contour": [
           {
            "colorbar": {
             "outlinewidth": 0,
             "ticks": ""
            },
            "colorscale": [
             [
              0,
              "#0d0887"
             ],
             [
              0.1111111111111111,
              "#46039f"
             ],
             [
              0.2222222222222222,
              "#7201a8"
             ],
             [
              0.3333333333333333,
              "#9c179e"
             ],
             [
              0.4444444444444444,
              "#bd3786"
             ],
             [
              0.5555555555555556,
              "#d8576b"
             ],
             [
              0.6666666666666666,
              "#ed7953"
             ],
             [
              0.7777777777777778,
              "#fb9f3a"
             ],
             [
              0.8888888888888888,
              "#fdca26"
             ],
             [
              1,
              "#f0f921"
             ]
            ],
            "type": "contour"
           }
          ],
          "contourcarpet": [
           {
            "colorbar": {
             "outlinewidth": 0,
             "ticks": ""
            },
            "type": "contourcarpet"
           }
          ],
          "heatmap": [
           {
            "colorbar": {
             "outlinewidth": 0,
             "ticks": ""
            },
            "colorscale": [
             [
              0,
              "#0d0887"
             ],
             [
              0.1111111111111111,
              "#46039f"
             ],
             [
              0.2222222222222222,
              "#7201a8"
             ],
             [
              0.3333333333333333,
              "#9c179e"
             ],
             [
              0.4444444444444444,
              "#bd3786"
             ],
             [
              0.5555555555555556,
              "#d8576b"
             ],
             [
              0.6666666666666666,
              "#ed7953"
             ],
             [
              0.7777777777777778,
              "#fb9f3a"
             ],
             [
              0.8888888888888888,
              "#fdca26"
             ],
             [
              1,
              "#f0f921"
             ]
            ],
            "type": "heatmap"
           }
          ],
          "histogram": [
           {
            "marker": {
             "pattern": {
              "fillmode": "overlay",
              "size": 10,
              "solidity": 0.2
             }
            },
            "type": "histogram"
           }
          ],
          "histogram2d": [
           {
            "colorbar": {
             "outlinewidth": 0,
             "ticks": ""
            },
            "colorscale": [
             [
              0,
              "#0d0887"
             ],
             [
              0.1111111111111111,
              "#46039f"
             ],
             [
              0.2222222222222222,
              "#7201a8"
             ],
             [
              0.3333333333333333,
              "#9c179e"
             ],
             [
              0.4444444444444444,
              "#bd3786"
             ],
             [
              0.5555555555555556,
              "#d8576b"
             ],
             [
              0.6666666666666666,
              "#ed7953"
             ],
             [
              0.7777777777777778,
              "#fb9f3a"
             ],
             [
              0.8888888888888888,
              "#fdca26"
             ],
             [
              1,
              "#f0f921"
             ]
            ],
            "type": "histogram2d"
           }
          ],
          "histogram2dcontour": [
           {
            "colorbar": {
             "outlinewidth": 0,
             "ticks": ""
            },
            "colorscale": [
             [
              0,
              "#0d0887"
             ],
             [
              0.1111111111111111,
              "#46039f"
             ],
             [
              0.2222222222222222,
              "#7201a8"
             ],
             [
              0.3333333333333333,
              "#9c179e"
             ],
             [
              0.4444444444444444,
              "#bd3786"
             ],
             [
              0.5555555555555556,
              "#d8576b"
             ],
             [
              0.6666666666666666,
              "#ed7953"
             ],
             [
              0.7777777777777778,
              "#fb9f3a"
             ],
             [
              0.8888888888888888,
              "#fdca26"
             ],
             [
              1,
              "#f0f921"
             ]
            ],
            "type": "histogram2dcontour"
           }
          ],
          "mesh3d": [
           {
            "colorbar": {
             "outlinewidth": 0,
             "ticks": ""
            },
            "type": "mesh3d"
           }
          ],
          "parcoords": [
           {
            "line": {
             "colorbar": {
              "outlinewidth": 0,
              "ticks": ""
             }
            },
            "type": "parcoords"
           }
          ],
          "pie": [
           {
            "automargin": true,
            "type": "pie"
           }
          ],
          "scatter": [
           {
            "fillpattern": {
             "fillmode": "overlay",
             "size": 10,
             "solidity": 0.2
            },
            "type": "scatter"
           }
          ],
          "scatter3d": [
           {
            "line": {
             "colorbar": {
              "outlinewidth": 0,
              "ticks": ""
             }
            },
            "marker": {
             "colorbar": {
              "outlinewidth": 0,
              "ticks": ""
             }
            },
            "type": "scatter3d"
           }
          ],
          "scattercarpet": [
           {
            "marker": {
             "colorbar": {
              "outlinewidth": 0,
              "ticks": ""
             }
            },
            "type": "scattercarpet"
           }
          ],
          "scattergeo": [
           {
            "marker": {
             "colorbar": {
              "outlinewidth": 0,
              "ticks": ""
             }
            },
            "type": "scattergeo"
           }
          ],
          "scattergl": [
           {
            "marker": {
             "colorbar": {
              "outlinewidth": 0,
              "ticks": ""
             }
            },
            "type": "scattergl"
           }
          ],
          "scattermap": [
           {
            "marker": {
             "colorbar": {
              "outlinewidth": 0,
              "ticks": ""
             }
            },
            "type": "scattermap"
           }
          ],
          "scattermapbox": [
           {
            "marker": {
             "colorbar": {
              "outlinewidth": 0,
              "ticks": ""
             }
            },
            "type": "scattermapbox"
           }
          ],
          "scatterpolar": [
           {
            "marker": {
             "colorbar": {
              "outlinewidth": 0,
              "ticks": ""
             }
            },
            "type": "scatterpolar"
           }
          ],
          "scatterpolargl": [
           {
            "marker": {
             "colorbar": {
              "outlinewidth": 0,
              "ticks": ""
             }
            },
            "type": "scatterpolargl"
           }
          ],
          "scatterternary": [
           {
            "marker": {
             "colorbar": {
              "outlinewidth": 0,
              "ticks": ""
             }
            },
            "type": "scatterternary"
           }
          ],
          "surface": [
           {
            "colorbar": {
             "outlinewidth": 0,
             "ticks": ""
            },
            "colorscale": [
             [
              0,
              "#0d0887"
             ],
             [
              0.1111111111111111,
              "#46039f"
             ],
             [
              0.2222222222222222,
              "#7201a8"
             ],
             [
              0.3333333333333333,
              "#9c179e"
             ],
             [
              0.4444444444444444,
              "#bd3786"
             ],
             [
              0.5555555555555556,
              "#d8576b"
             ],
             [
              0.6666666666666666,
              "#ed7953"
             ],
             [
              0.7777777777777778,
              "#fb9f3a"
             ],
             [
              0.8888888888888888,
              "#fdca26"
             ],
             [
              1,
              "#f0f921"
             ]
            ],
            "type": "surface"
           }
          ],
          "table": [
           {
            "cells": {
             "fill": {
              "color": "#EBF0F8"
             },
             "line": {
              "color": "white"
             }
            },
            "header": {
             "fill": {
              "color": "#C8D4E3"
             },
             "line": {
              "color": "white"
             }
            },
            "type": "table"
           }
          ]
         },
         "layout": {
          "annotationdefaults": {
           "arrowcolor": "#2a3f5f",
           "arrowhead": 0,
           "arrowwidth": 1
          },
          "autotypenumbers": "strict",
          "coloraxis": {
           "colorbar": {
            "outlinewidth": 0,
            "ticks": ""
           }
          },
          "colorscale": {
           "diverging": [
            [
             0,
             "#8e0152"
            ],
            [
             0.1,
             "#c51b7d"
            ],
            [
             0.2,
             "#de77ae"
            ],
            [
             0.3,
             "#f1b6da"
            ],
            [
             0.4,
             "#fde0ef"
            ],
            [
             0.5,
             "#f7f7f7"
            ],
            [
             0.6,
             "#e6f5d0"
            ],
            [
             0.7,
             "#b8e186"
            ],
            [
             0.8,
             "#7fbc41"
            ],
            [
             0.9,
             "#4d9221"
            ],
            [
             1,
             "#276419"
            ]
           ],
           "sequential": [
            [
             0,
             "#0d0887"
            ],
            [
             0.1111111111111111,
             "#46039f"
            ],
            [
             0.2222222222222222,
             "#7201a8"
            ],
            [
             0.3333333333333333,
             "#9c179e"
            ],
            [
             0.4444444444444444,
             "#bd3786"
            ],
            [
             0.5555555555555556,
             "#d8576b"
            ],
            [
             0.6666666666666666,
             "#ed7953"
            ],
            [
             0.7777777777777778,
             "#fb9f3a"
            ],
            [
             0.8888888888888888,
             "#fdca26"
            ],
            [
             1,
             "#f0f921"
            ]
           ],
           "sequentialminus": [
            [
             0,
             "#0d0887"
            ],
            [
             0.1111111111111111,
             "#46039f"
            ],
            [
             0.2222222222222222,
             "#7201a8"
            ],
            [
             0.3333333333333333,
             "#9c179e"
            ],
            [
             0.4444444444444444,
             "#bd3786"
            ],
            [
             0.5555555555555556,
             "#d8576b"
            ],
            [
             0.6666666666666666,
             "#ed7953"
            ],
            [
             0.7777777777777778,
             "#fb9f3a"
            ],
            [
             0.8888888888888888,
             "#fdca26"
            ],
            [
             1,
             "#f0f921"
            ]
           ]
          },
          "colorway": [
           "#636efa",
           "#EF553B",
           "#00cc96",
           "#ab63fa",
           "#FFA15A",
           "#19d3f3",
           "#FF6692",
           "#B6E880",
           "#FF97FF",
           "#FECB52"
          ],
          "font": {
           "color": "#2a3f5f"
          },
          "geo": {
           "bgcolor": "white",
           "lakecolor": "white",
           "landcolor": "white",
           "showlakes": true,
           "showland": true,
           "subunitcolor": "#C8D4E3"
          },
          "hoverlabel": {
           "align": "left"
          },
          "hovermode": "closest",
          "mapbox": {
           "style": "light"
          },
          "paper_bgcolor": "white",
          "plot_bgcolor": "white",
          "polar": {
           "angularaxis": {
            "gridcolor": "#EBF0F8",
            "linecolor": "#EBF0F8",
            "ticks": ""
           },
           "bgcolor": "white",
           "radialaxis": {
            "gridcolor": "#EBF0F8",
            "linecolor": "#EBF0F8",
            "ticks": ""
           }
          },
          "scene": {
           "xaxis": {
            "backgroundcolor": "white",
            "gridcolor": "#DFE8F3",
            "gridwidth": 2,
            "linecolor": "#EBF0F8",
            "showbackground": true,
            "ticks": "",
            "zerolinecolor": "#EBF0F8"
           },
           "yaxis": {
            "backgroundcolor": "white",
            "gridcolor": "#DFE8F3",
            "gridwidth": 2,
            "linecolor": "#EBF0F8",
            "showbackground": true,
            "ticks": "",
            "zerolinecolor": "#EBF0F8"
           },
           "zaxis": {
            "backgroundcolor": "white",
            "gridcolor": "#DFE8F3",
            "gridwidth": 2,
            "linecolor": "#EBF0F8",
            "showbackground": true,
            "ticks": "",
            "zerolinecolor": "#EBF0F8"
           }
          },
          "shapedefaults": {
           "line": {
            "color": "#2a3f5f"
           }
          },
          "ternary": {
           "aaxis": {
            "gridcolor": "#DFE8F3",
            "linecolor": "#A2B1C6",
            "ticks": ""
           },
           "baxis": {
            "gridcolor": "#DFE8F3",
            "linecolor": "#A2B1C6",
            "ticks": ""
           },
           "bgcolor": "white",
           "caxis": {
            "gridcolor": "#DFE8F3",
            "linecolor": "#A2B1C6",
            "ticks": ""
           }
          },
          "title": {
           "x": 0.05
          },
          "xaxis": {
           "automargin": true,
           "gridcolor": "#EBF0F8",
           "linecolor": "#EBF0F8",
           "ticks": "",
           "title": {
            "standoff": 15
           },
           "zerolinecolor": "#EBF0F8",
           "zerolinewidth": 2
          },
          "yaxis": {
           "automargin": true,
           "gridcolor": "#EBF0F8",
           "linecolor": "#EBF0F8",
           "ticks": "",
           "title": {
            "standoff": 15
           },
           "zerolinecolor": "#EBF0F8",
           "zerolinewidth": 2
          }
         }
        },
        "title": {
         "font": {
          "color": "black",
          "family": "Cardo",
          "size": 27
         },
         "text": "<span style='color: black; font-weight: normal;'>Stargate Bridge Vol by Chain</span><br><sub style='font-size: 18px; color: black; font-weight: normal;'>Volume through 2025-04-01</sub>",
         "x": 0.1,
         "xanchor": "left",
         "y": 0.9,
         "yanchor": "top"
        },
        "width": 730
       }
      }
     },
     "metadata": {},
     "output_type": "display_data"
    }
   ],
   "source": [
    "cm = ChartMaker(shuffle_colors=True)\n",
    "cm.build(\n",
    "    df = test_df2,\n",
    "    # axes_data = {'x':'CHAIN','y1':['TOTAL_VOLUME_BRIDGED']},\n",
    "    groupby_col='CHAIN',\n",
    "    num_col='TOTAL_VOLUME_BRIDGED',\n",
    "    title='Stargate Bridge Vol by Chain',\n",
    "    chart_type='pie',\n",
    "    options = {\n",
    "        'margin':dict(t=100),'annotations':True,\n",
    "        'tickprefix':{'y1':'$'},'hole_size':0.5,\n",
    "        'line_width':0,\n",
    "        'texttemplate':'%{label}<br>%{percent}',\n",
    "        'show_legend':False,'legend_placement':{'x':1.1,'y':1},\n",
    "        'textinfo':'percent+label'\n",
    "    }\n",
    ")\n",
    "cm.add_title(\n",
    "    subtitle=f'Volume through 2025-04-01',\n",
    "    x=0.1,\n",
    "    y=0.9\n",
    ")\n",
    "cm.show_fig()"
   ]
  },
  {
   "cell_type": "markdown",
   "id": "e7a5d0dc",
   "metadata": {},
   "source": [
    "# Heatmap"
   ]
  },
  {
   "cell_type": "code",
   "execution_count": 11,
   "id": "d2aabae2",
   "metadata": {},
   "outputs": [
    {
     "data": {
      "text/html": [
       "<div>\n",
       "<style scoped>\n",
       "    .dataframe tbody tr th:only-of-type {\n",
       "        vertical-align: middle;\n",
       "    }\n",
       "\n",
       "    .dataframe tbody tr th {\n",
       "        vertical-align: top;\n",
       "    }\n",
       "\n",
       "    .dataframe thead th {\n",
       "        text-align: right;\n",
       "    }\n",
       "</style>\n",
       "<table border=\"1\" class=\"dataframe\">\n",
       "  <thead>\n",
       "    <tr style=\"text-align: right;\">\n",
       "      <th></th>\n",
       "      <th>EARLIEST_DATE</th>\n",
       "      <th>DIFFERENCE</th>\n",
       "      <th>NEW_USER</th>\n",
       "      <th>EXISTING_USER</th>\n",
       "      <th>RETENTION_RATE</th>\n",
       "    </tr>\n",
       "  </thead>\n",
       "  <tbody>\n",
       "    <tr>\n",
       "      <th>0</th>\n",
       "      <td>2024-03-01 00:00:00.000</td>\n",
       "      <td>1.0</td>\n",
       "      <td>843476.0</td>\n",
       "      <td>274611.0</td>\n",
       "      <td>0.33</td>\n",
       "    </tr>\n",
       "    <tr>\n",
       "      <th>1</th>\n",
       "      <td>2024-03-01 00:00:00.000</td>\n",
       "      <td>2.0</td>\n",
       "      <td>843476.0</td>\n",
       "      <td>151950.0</td>\n",
       "      <td>0.18</td>\n",
       "    </tr>\n",
       "    <tr>\n",
       "      <th>2</th>\n",
       "      <td>2024-03-01 00:00:00.000</td>\n",
       "      <td>3.0</td>\n",
       "      <td>843476.0</td>\n",
       "      <td>109154.0</td>\n",
       "      <td>0.13</td>\n",
       "    </tr>\n",
       "    <tr>\n",
       "      <th>3</th>\n",
       "      <td>2024-03-01 00:00:00.000</td>\n",
       "      <td>4.0</td>\n",
       "      <td>843476.0</td>\n",
       "      <td>83953.0</td>\n",
       "      <td>0.10</td>\n",
       "    </tr>\n",
       "    <tr>\n",
       "      <th>4</th>\n",
       "      <td>2024-03-01 00:00:00.000</td>\n",
       "      <td>5.0</td>\n",
       "      <td>843476.0</td>\n",
       "      <td>55130.0</td>\n",
       "      <td>0.07</td>\n",
       "    </tr>\n",
       "    <tr>\n",
       "      <th>...</th>\n",
       "      <td>...</td>\n",
       "      <td>...</td>\n",
       "      <td>...</td>\n",
       "      <td>...</td>\n",
       "      <td>...</td>\n",
       "    </tr>\n",
       "    <tr>\n",
       "      <th>61</th>\n",
       "      <td>2024-11-01 00:00:00.000</td>\n",
       "      <td>2.0</td>\n",
       "      <td>249898.0</td>\n",
       "      <td>26928.0</td>\n",
       "      <td>0.11</td>\n",
       "    </tr>\n",
       "    <tr>\n",
       "      <th>62</th>\n",
       "      <td>2024-11-01 00:00:00.000</td>\n",
       "      <td>3.0</td>\n",
       "      <td>249898.0</td>\n",
       "      <td>16600.0</td>\n",
       "      <td>0.07</td>\n",
       "    </tr>\n",
       "    <tr>\n",
       "      <th>63</th>\n",
       "      <td>2024-12-01 00:00:00.000</td>\n",
       "      <td>1.0</td>\n",
       "      <td>374656.0</td>\n",
       "      <td>60645.0</td>\n",
       "      <td>0.16</td>\n",
       "    </tr>\n",
       "    <tr>\n",
       "      <th>64</th>\n",
       "      <td>2024-12-01 00:00:00.000</td>\n",
       "      <td>2.0</td>\n",
       "      <td>374656.0</td>\n",
       "      <td>33138.0</td>\n",
       "      <td>0.09</td>\n",
       "    </tr>\n",
       "    <tr>\n",
       "      <th>65</th>\n",
       "      <td>2025-01-01 00:00:00.000</td>\n",
       "      <td>1.0</td>\n",
       "      <td>384440.0</td>\n",
       "      <td>47336.0</td>\n",
       "      <td>0.12</td>\n",
       "    </tr>\n",
       "  </tbody>\n",
       "</table>\n",
       "<p>66 rows × 5 columns</p>\n",
       "</div>"
      ],
      "text/plain": [
       "              EARLIEST_DATE  DIFFERENCE  NEW_USER  EXISTING_USER  \\\n",
       "0   2024-03-01 00:00:00.000         1.0  843476.0       274611.0   \n",
       "1   2024-03-01 00:00:00.000         2.0  843476.0       151950.0   \n",
       "2   2024-03-01 00:00:00.000         3.0  843476.0       109154.0   \n",
       "3   2024-03-01 00:00:00.000         4.0  843476.0        83953.0   \n",
       "4   2024-03-01 00:00:00.000         5.0  843476.0        55130.0   \n",
       "..                      ...         ...       ...            ...   \n",
       "61  2024-11-01 00:00:00.000         2.0  249898.0        26928.0   \n",
       "62  2024-11-01 00:00:00.000         3.0  249898.0        16600.0   \n",
       "63  2024-12-01 00:00:00.000         1.0  374656.0        60645.0   \n",
       "64  2024-12-01 00:00:00.000         2.0  374656.0        33138.0   \n",
       "65  2025-01-01 00:00:00.000         1.0  384440.0        47336.0   \n",
       "\n",
       "    RETENTION_RATE  \n",
       "0             0.33  \n",
       "1             0.18  \n",
       "2             0.13  \n",
       "3             0.10  \n",
       "4             0.07  \n",
       "..             ...  \n",
       "61            0.11  \n",
       "62            0.07  \n",
       "63            0.16  \n",
       "64            0.09  \n",
       "65            0.12  \n",
       "\n",
       "[66 rows x 5 columns]"
      ]
     },
     "execution_count": 11,
     "metadata": {},
     "output_type": "execute_result"
    }
   ],
   "source": [
    "test_df3 = test_cleaner.to_df(r'data/stargate_2.csv')\n",
    "test_df3, time_freq =  test_cleaner.to_time(test_df3)\n",
    "test_df3 = test_df3.dropna()\n",
    "test_df3"
   ]
  },
  {
   "cell_type": "code",
   "execution_count": 12,
   "id": "7db8cc1b",
   "metadata": {},
   "outputs": [
    {
     "name": "stdout",
     "output_type": "stream",
     "text": [
      "kind: heatmap\n",
      "chart_type: heatmap\n",
      "kind: heatmap\n",
      "font_size: 16\n"
     ]
    },
    {
     "data": {
      "application/vnd.plotly.v1+json": {
       "config": {
        "linkText": "Export to plot.ly",
        "plotlyServerURL": "https://plot.ly",
        "showLink": false
       },
       "data": [
        {
         "colorbar": {
          "tickfont": {
           "color": "black",
           "size": 12
          },
          "title": {
           "font": {
            "color": "black",
            "size": 12
           },
           "text": "Retention Rate"
          }
         },
         "colorscale": [
          [
           0,
           "white"
          ],
          [
           1,
           "#1f77b4"
          ]
         ],
         "type": "heatmap",
         "x": {
          "bdata": "AAAAAAAA8D8AAAAAAAAAQAAAAAAAAAhAAAAAAAAAEEAAAAAAAAAUQAAAAAAAABhAAAAAAAAAHEAAAAAAAAAgQAAAAAAAACJAAAAAAAAAJEAAAAAAAAAmQAAAAAAAAPA/AAAAAAAAAEAAAAAAAAAIQAAAAAAAABBAAAAAAAAAFEAAAAAAAAAYQAAAAAAAABxAAAAAAAAAIEAAAAAAAAAiQAAAAAAAACRAAAAAAAAA8D8AAAAAAAAAQAAAAAAAAAhAAAAAAAAAEEAAAAAAAAAUQAAAAAAAABhAAAAAAAAAHEAAAAAAAAAgQAAAAAAAACJAAAAAAAAA8D8AAAAAAAAAQAAAAAAAAAhAAAAAAAAAEEAAAAAAAAAUQAAAAAAAABhAAAAAAAAAHEAAAAAAAAAgQAAAAAAAAPA/AAAAAAAAAEAAAAAAAAAIQAAAAAAAABBAAAAAAAAAFEAAAAAAAAAYQAAAAAAAABxAAAAAAAAA8D8AAAAAAAAAQAAAAAAAAAhAAAAAAAAAEEAAAAAAAAAUQAAAAAAAABhAAAAAAAAA8D8AAAAAAAAAQAAAAAAAAAhAAAAAAAAAEEAAAAAAAAAUQAAAAAAAAPA/AAAAAAAAAEAAAAAAAAAIQAAAAAAAABBAAAAAAAAA8D8AAAAAAAAAQAAAAAAAAAhAAAAAAAAA8D8AAAAAAAAAQAAAAAAAAPA/",
          "dtype": "f8"
         },
         "y": [
          "2024-03-01 00:00:00.000",
          "2024-03-01 00:00:00.000",
          "2024-03-01 00:00:00.000",
          "2024-03-01 00:00:00.000",
          "2024-03-01 00:00:00.000",
          "2024-03-01 00:00:00.000",
          "2024-03-01 00:00:00.000",
          "2024-03-01 00:00:00.000",
          "2024-03-01 00:00:00.000",
          "2024-03-01 00:00:00.000",
          "2024-03-01 00:00:00.000",
          "2024-04-01 00:00:00.000",
          "2024-04-01 00:00:00.000",
          "2024-04-01 00:00:00.000",
          "2024-04-01 00:00:00.000",
          "2024-04-01 00:00:00.000",
          "2024-04-01 00:00:00.000",
          "2024-04-01 00:00:00.000",
          "2024-04-01 00:00:00.000",
          "2024-04-01 00:00:00.000",
          "2024-04-01 00:00:00.000",
          "2024-05-01 00:00:00.000",
          "2024-05-01 00:00:00.000",
          "2024-05-01 00:00:00.000",
          "2024-05-01 00:00:00.000",
          "2024-05-01 00:00:00.000",
          "2024-05-01 00:00:00.000",
          "2024-05-01 00:00:00.000",
          "2024-05-01 00:00:00.000",
          "2024-05-01 00:00:00.000",
          "2024-06-01 00:00:00.000",
          "2024-06-01 00:00:00.000",
          "2024-06-01 00:00:00.000",
          "2024-06-01 00:00:00.000",
          "2024-06-01 00:00:00.000",
          "2024-06-01 00:00:00.000",
          "2024-06-01 00:00:00.000",
          "2024-06-01 00:00:00.000",
          "2024-07-01 00:00:00.000",
          "2024-07-01 00:00:00.000",
          "2024-07-01 00:00:00.000",
          "2024-07-01 00:00:00.000",
          "2024-07-01 00:00:00.000",
          "2024-07-01 00:00:00.000",
          "2024-07-01 00:00:00.000",
          "2024-08-01 00:00:00.000",
          "2024-08-01 00:00:00.000",
          "2024-08-01 00:00:00.000",
          "2024-08-01 00:00:00.000",
          "2024-08-01 00:00:00.000",
          "2024-08-01 00:00:00.000",
          "2024-09-01 00:00:00.000",
          "2024-09-01 00:00:00.000",
          "2024-09-01 00:00:00.000",
          "2024-09-01 00:00:00.000",
          "2024-09-01 00:00:00.000",
          "2024-10-01 00:00:00.000",
          "2024-10-01 00:00:00.000",
          "2024-10-01 00:00:00.000",
          "2024-10-01 00:00:00.000",
          "2024-11-01 00:00:00.000",
          "2024-11-01 00:00:00.000",
          "2024-11-01 00:00:00.000",
          "2024-12-01 00:00:00.000",
          "2024-12-01 00:00:00.000",
          "2025-01-01 00:00:00.000"
         ],
         "z": {
          "bdata": "H4XrUbge1T8K16NwPQrHP6RwPQrXo8A/mpmZmZmZuT/sUbgeheuxP7gehetRuK4/7FG4HoXrsT+4HoXrUbiuPwrXo3A9Crc/exSuR+F6tD+4HoXrUbiuP8P1KFyPwsU/KVyPwvUovD97FK5H4Xq0P5qZmZmZmak/exSuR+F6pD+amZmZmZmpP5qZmZmZmak/uB6F61G4rj+4HoXrUbiuP5qZmZmZmak/MzMzMzMzwz+amZmZmZm5P7gehetRuK4/mpmZmZmZqT+4HoXrUbiuP5qZmZmZmak/uB6F61G4rj+4HoXrUbiuP5qZmZmZmak/uB6F61G4vj/sUbgeheuxP5qZmZmZmak/uB6F61G4rj+amZmZmZmpP+xRuB6F67E/uB6F61G4rj+amZmZmZmpP5qZmZmZmbk/uB6F61G4rj/sUbgeheuxP7gehetRuK4/7FG4HoXrsT+4HoXrUbiuP7gehetRuK4/mpmZmZmZuT97FK5H4Xq0P+xRuB6F67E/7FG4HoXrsT+4HoXrUbiuP5qZmZmZmak/pHA9CtejwD8K16NwPQq3P5qZmZmZmbk/exSuR+F6tD/sUbgeheuxP8P1KFyPwsU/7FG4HoXrwT+4HoXrUbi+PwrXo3A9Crc/w/UoXI/CxT8pXI/C9Si8P+xRuB6F67E/exSuR+F6xD8K16NwPQq3P7gehetRuL4/",
          "dtype": "f8"
         }
        }
       ],
       "layout": {
        "font": {
         "color": "black",
         "size": 16
        },
        "height": 400,
        "margin": {
         "t": 100
        },
        "paper_bgcolor": "rgba(0,0,0,0)",
        "plot_bgcolor": "rgba(0,0,0,0)",
        "template": {
         "data": {
          "bar": [
           {
            "error_x": {
             "color": "#2a3f5f"
            },
            "error_y": {
             "color": "#2a3f5f"
            },
            "marker": {
             "line": {
              "color": "#E5ECF6",
              "width": 0.5
             },
             "pattern": {
              "fillmode": "overlay",
              "size": 10,
              "solidity": 0.2
             }
            },
            "type": "bar"
           }
          ],
          "barpolar": [
           {
            "marker": {
             "line": {
              "color": "#E5ECF6",
              "width": 0.5
             },
             "pattern": {
              "fillmode": "overlay",
              "size": 10,
              "solidity": 0.2
             }
            },
            "type": "barpolar"
           }
          ],
          "carpet": [
           {
            "aaxis": {
             "endlinecolor": "#2a3f5f",
             "gridcolor": "white",
             "linecolor": "white",
             "minorgridcolor": "white",
             "startlinecolor": "#2a3f5f"
            },
            "baxis": {
             "endlinecolor": "#2a3f5f",
             "gridcolor": "white",
             "linecolor": "white",
             "minorgridcolor": "white",
             "startlinecolor": "#2a3f5f"
            },
            "type": "carpet"
           }
          ],
          "choropleth": [
           {
            "colorbar": {
             "outlinewidth": 0,
             "ticks": ""
            },
            "type": "choropleth"
           }
          ],
          "contour": [
           {
            "colorbar": {
             "outlinewidth": 0,
             "ticks": ""
            },
            "colorscale": [
             [
              0,
              "#0d0887"
             ],
             [
              0.1111111111111111,
              "#46039f"
             ],
             [
              0.2222222222222222,
              "#7201a8"
             ],
             [
              0.3333333333333333,
              "#9c179e"
             ],
             [
              0.4444444444444444,
              "#bd3786"
             ],
             [
              0.5555555555555556,
              "#d8576b"
             ],
             [
              0.6666666666666666,
              "#ed7953"
             ],
             [
              0.7777777777777778,
              "#fb9f3a"
             ],
             [
              0.8888888888888888,
              "#fdca26"
             ],
             [
              1,
              "#f0f921"
             ]
            ],
            "type": "contour"
           }
          ],
          "contourcarpet": [
           {
            "colorbar": {
             "outlinewidth": 0,
             "ticks": ""
            },
            "type": "contourcarpet"
           }
          ],
          "heatmap": [
           {
            "colorbar": {
             "outlinewidth": 0,
             "ticks": ""
            },
            "colorscale": [
             [
              0,
              "#0d0887"
             ],
             [
              0.1111111111111111,
              "#46039f"
             ],
             [
              0.2222222222222222,
              "#7201a8"
             ],
             [
              0.3333333333333333,
              "#9c179e"
             ],
             [
              0.4444444444444444,
              "#bd3786"
             ],
             [
              0.5555555555555556,
              "#d8576b"
             ],
             [
              0.6666666666666666,
              "#ed7953"
             ],
             [
              0.7777777777777778,
              "#fb9f3a"
             ],
             [
              0.8888888888888888,
              "#fdca26"
             ],
             [
              1,
              "#f0f921"
             ]
            ],
            "type": "heatmap"
           }
          ],
          "histogram": [
           {
            "marker": {
             "pattern": {
              "fillmode": "overlay",
              "size": 10,
              "solidity": 0.2
             }
            },
            "type": "histogram"
           }
          ],
          "histogram2d": [
           {
            "colorbar": {
             "outlinewidth": 0,
             "ticks": ""
            },
            "colorscale": [
             [
              0,
              "#0d0887"
             ],
             [
              0.1111111111111111,
              "#46039f"
             ],
             [
              0.2222222222222222,
              "#7201a8"
             ],
             [
              0.3333333333333333,
              "#9c179e"
             ],
             [
              0.4444444444444444,
              "#bd3786"
             ],
             [
              0.5555555555555556,
              "#d8576b"
             ],
             [
              0.6666666666666666,
              "#ed7953"
             ],
             [
              0.7777777777777778,
              "#fb9f3a"
             ],
             [
              0.8888888888888888,
              "#fdca26"
             ],
             [
              1,
              "#f0f921"
             ]
            ],
            "type": "histogram2d"
           }
          ],
          "histogram2dcontour": [
           {
            "colorbar": {
             "outlinewidth": 0,
             "ticks": ""
            },
            "colorscale": [
             [
              0,
              "#0d0887"
             ],
             [
              0.1111111111111111,
              "#46039f"
             ],
             [
              0.2222222222222222,
              "#7201a8"
             ],
             [
              0.3333333333333333,
              "#9c179e"
             ],
             [
              0.4444444444444444,
              "#bd3786"
             ],
             [
              0.5555555555555556,
              "#d8576b"
             ],
             [
              0.6666666666666666,
              "#ed7953"
             ],
             [
              0.7777777777777778,
              "#fb9f3a"
             ],
             [
              0.8888888888888888,
              "#fdca26"
             ],
             [
              1,
              "#f0f921"
             ]
            ],
            "type": "histogram2dcontour"
           }
          ],
          "mesh3d": [
           {
            "colorbar": {
             "outlinewidth": 0,
             "ticks": ""
            },
            "type": "mesh3d"
           }
          ],
          "parcoords": [
           {
            "line": {
             "colorbar": {
              "outlinewidth": 0,
              "ticks": ""
             }
            },
            "type": "parcoords"
           }
          ],
          "pie": [
           {
            "automargin": true,
            "type": "pie"
           }
          ],
          "scatter": [
           {
            "fillpattern": {
             "fillmode": "overlay",
             "size": 10,
             "solidity": 0.2
            },
            "type": "scatter"
           }
          ],
          "scatter3d": [
           {
            "line": {
             "colorbar": {
              "outlinewidth": 0,
              "ticks": ""
             }
            },
            "marker": {
             "colorbar": {
              "outlinewidth": 0,
              "ticks": ""
             }
            },
            "type": "scatter3d"
           }
          ],
          "scattercarpet": [
           {
            "marker": {
             "colorbar": {
              "outlinewidth": 0,
              "ticks": ""
             }
            },
            "type": "scattercarpet"
           }
          ],
          "scattergeo": [
           {
            "marker": {
             "colorbar": {
              "outlinewidth": 0,
              "ticks": ""
             }
            },
            "type": "scattergeo"
           }
          ],
          "scattergl": [
           {
            "marker": {
             "colorbar": {
              "outlinewidth": 0,
              "ticks": ""
             }
            },
            "type": "scattergl"
           }
          ],
          "scattermap": [
           {
            "marker": {
             "colorbar": {
              "outlinewidth": 0,
              "ticks": ""
             }
            },
            "type": "scattermap"
           }
          ],
          "scattermapbox": [
           {
            "marker": {
             "colorbar": {
              "outlinewidth": 0,
              "ticks": ""
             }
            },
            "type": "scattermapbox"
           }
          ],
          "scatterpolar": [
           {
            "marker": {
             "colorbar": {
              "outlinewidth": 0,
              "ticks": ""
             }
            },
            "type": "scatterpolar"
           }
          ],
          "scatterpolargl": [
           {
            "marker": {
             "colorbar": {
              "outlinewidth": 0,
              "ticks": ""
             }
            },
            "type": "scatterpolargl"
           }
          ],
          "scatterternary": [
           {
            "marker": {
             "colorbar": {
              "outlinewidth": 0,
              "ticks": ""
             }
            },
            "type": "scatterternary"
           }
          ],
          "surface": [
           {
            "colorbar": {
             "outlinewidth": 0,
             "ticks": ""
            },
            "colorscale": [
             [
              0,
              "#0d0887"
             ],
             [
              0.1111111111111111,
              "#46039f"
             ],
             [
              0.2222222222222222,
              "#7201a8"
             ],
             [
              0.3333333333333333,
              "#9c179e"
             ],
             [
              0.4444444444444444,
              "#bd3786"
             ],
             [
              0.5555555555555556,
              "#d8576b"
             ],
             [
              0.6666666666666666,
              "#ed7953"
             ],
             [
              0.7777777777777778,
              "#fb9f3a"
             ],
             [
              0.8888888888888888,
              "#fdca26"
             ],
             [
              1,
              "#f0f921"
             ]
            ],
            "type": "surface"
           }
          ],
          "table": [
           {
            "cells": {
             "fill": {
              "color": "#EBF0F8"
             },
             "line": {
              "color": "white"
             }
            },
            "header": {
             "fill": {
              "color": "#C8D4E3"
             },
             "line": {
              "color": "white"
             }
            },
            "type": "table"
           }
          ]
         },
         "layout": {
          "annotationdefaults": {
           "arrowcolor": "#2a3f5f",
           "arrowhead": 0,
           "arrowwidth": 1
          },
          "autotypenumbers": "strict",
          "coloraxis": {
           "colorbar": {
            "outlinewidth": 0,
            "ticks": ""
           }
          },
          "colorscale": {
           "diverging": [
            [
             0,
             "#8e0152"
            ],
            [
             0.1,
             "#c51b7d"
            ],
            [
             0.2,
             "#de77ae"
            ],
            [
             0.3,
             "#f1b6da"
            ],
            [
             0.4,
             "#fde0ef"
            ],
            [
             0.5,
             "#f7f7f7"
            ],
            [
             0.6,
             "#e6f5d0"
            ],
            [
             0.7,
             "#b8e186"
            ],
            [
             0.8,
             "#7fbc41"
            ],
            [
             0.9,
             "#4d9221"
            ],
            [
             1,
             "#276419"
            ]
           ],
           "sequential": [
            [
             0,
             "#0d0887"
            ],
            [
             0.1111111111111111,
             "#46039f"
            ],
            [
             0.2222222222222222,
             "#7201a8"
            ],
            [
             0.3333333333333333,
             "#9c179e"
            ],
            [
             0.4444444444444444,
             "#bd3786"
            ],
            [
             0.5555555555555556,
             "#d8576b"
            ],
            [
             0.6666666666666666,
             "#ed7953"
            ],
            [
             0.7777777777777778,
             "#fb9f3a"
            ],
            [
             0.8888888888888888,
             "#fdca26"
            ],
            [
             1,
             "#f0f921"
            ]
           ],
           "sequentialminus": [
            [
             0,
             "#0d0887"
            ],
            [
             0.1111111111111111,
             "#46039f"
            ],
            [
             0.2222222222222222,
             "#7201a8"
            ],
            [
             0.3333333333333333,
             "#9c179e"
            ],
            [
             0.4444444444444444,
             "#bd3786"
            ],
            [
             0.5555555555555556,
             "#d8576b"
            ],
            [
             0.6666666666666666,
             "#ed7953"
            ],
            [
             0.7777777777777778,
             "#fb9f3a"
            ],
            [
             0.8888888888888888,
             "#fdca26"
            ],
            [
             1,
             "#f0f921"
            ]
           ]
          },
          "colorway": [
           "#636efa",
           "#EF553B",
           "#00cc96",
           "#ab63fa",
           "#FFA15A",
           "#19d3f3",
           "#FF6692",
           "#B6E880",
           "#FF97FF",
           "#FECB52"
          ],
          "font": {
           "color": "#2a3f5f"
          },
          "geo": {
           "bgcolor": "white",
           "lakecolor": "white",
           "landcolor": "#E5ECF6",
           "showlakes": true,
           "showland": true,
           "subunitcolor": "white"
          },
          "hoverlabel": {
           "align": "left"
          },
          "hovermode": "closest",
          "mapbox": {
           "style": "light"
          },
          "paper_bgcolor": "white",
          "plot_bgcolor": "#E5ECF6",
          "polar": {
           "angularaxis": {
            "gridcolor": "white",
            "linecolor": "white",
            "ticks": ""
           },
           "bgcolor": "#E5ECF6",
           "radialaxis": {
            "gridcolor": "white",
            "linecolor": "white",
            "ticks": ""
           }
          },
          "scene": {
           "xaxis": {
            "backgroundcolor": "#E5ECF6",
            "gridcolor": "white",
            "gridwidth": 2,
            "linecolor": "white",
            "showbackground": true,
            "ticks": "",
            "zerolinecolor": "white"
           },
           "yaxis": {
            "backgroundcolor": "#E5ECF6",
            "gridcolor": "white",
            "gridwidth": 2,
            "linecolor": "white",
            "showbackground": true,
            "ticks": "",
            "zerolinecolor": "white"
           },
           "zaxis": {
            "backgroundcolor": "#E5ECF6",
            "gridcolor": "white",
            "gridwidth": 2,
            "linecolor": "white",
            "showbackground": true,
            "ticks": "",
            "zerolinecolor": "white"
           }
          },
          "shapedefaults": {
           "line": {
            "color": "#2a3f5f"
           }
          },
          "ternary": {
           "aaxis": {
            "gridcolor": "white",
            "linecolor": "white",
            "ticks": ""
           },
           "baxis": {
            "gridcolor": "white",
            "linecolor": "white",
            "ticks": ""
           },
           "bgcolor": "#E5ECF6",
           "caxis": {
            "gridcolor": "white",
            "linecolor": "white",
            "ticks": ""
           }
          },
          "title": {
           "x": 0.05
          },
          "xaxis": {
           "automargin": true,
           "gridcolor": "white",
           "linecolor": "white",
           "ticks": "",
           "title": {
            "standoff": 15
           },
           "zerolinecolor": "white",
           "zerolinewidth": 2
          },
          "yaxis": {
           "automargin": true,
           "gridcolor": "white",
           "linecolor": "white",
           "ticks": "",
           "title": {
            "standoff": 15
           },
           "zerolinecolor": "white",
           "zerolinewidth": 2
          }
         }
        },
        "title": {
         "font": {
          "color": "black",
          "family": "Cardo",
          "size": 27
         },
         "text": "<span style='color: black; font-weight: normal;'>Stargate User Retention Over Time</span><br><sub style='font-size: 18px; color: black; font-weight: normal;'>Though 2025-01-01 00:00:00.000</sub>",
         "x": 0.1,
         "xanchor": "left",
         "y": 0.9,
         "yanchor": "top"
        },
        "width": 730,
        "xaxis": {
         "ticksuffix": "%",
         "title": {
          "text": "Difference"
         }
        },
        "yaxis": {
         "title": {
          "text": "Earliest Date"
         }
        }
       }
      }
     },
     "metadata": {},
     "output_type": "display_data"
    }
   ],
   "source": [
    "cm = ChartMaker(shuffle_colors=True)\n",
    "cm.build(\n",
    "    df = test_df3,\n",
    "    axes_data={'x': 'DIFFERENCE', 'y1': ['EARLIEST_DATE']},\n",
    "    num_col='RETENTION_RATE',\n",
    "    title='Stargate User Retention Over Time',\n",
    "    chart_type='heatmap',\n",
    "    options = {\n",
    "        'margin':dict(t=100),\n",
    "        'ticksuffix':{'y1':'%'},\n",
    "        'show_legend':True,'legend_placement':{'x':1.1,'y':1},\n",
    "    }\n",
    ")\n",
    "cm.add_title(\n",
    "    subtitle=f\"Though {test_df3['EARLIEST_DATE'].max()}\",\n",
    "    x=0.1,\n",
    "    y=0.9\n",
    ")\n",
    "cm.show_fig()"
   ]
  },
  {
   "cell_type": "markdown",
   "id": "4c82a7e8",
   "metadata": {},
   "source": [
    "# With Live Data"
   ]
  },
  {
   "cell_type": "code",
   "execution_count": 23,
   "id": "1cb61f54",
   "metadata": {},
   "outputs": [],
   "source": [
    "crosschain_dex_stats = pd.read_csv('data/dex_stats.csv').dropna()\n",
    "\n",
    "crosschain_dex_stats,freq = test_cleaner.to_time(crosschain_dex_stats)\n",
    "crosschain_dex_stats = test_cleaner.clean_dates(crosschain_dex_stats,freq)"
   ]
  },
  {
   "cell_type": "code",
   "execution_count": 24,
   "id": "c05020c1",
   "metadata": {},
   "outputs": [],
   "source": [
    "crosschain_dex_stats = crosschain_dex_stats[~crosschain_dex_stats['BLOCKCHAIN'].isin(['osmosis','solana'])]"
   ]
  },
  {
   "cell_type": "code",
   "execution_count": 25,
   "id": "0b63b763",
   "metadata": {},
   "outputs": [
    {
     "name": "stdout",
     "output_type": "stream",
     "text": [
      "kind: None\n",
      "chart_type: {'y1': 'bar'}\n",
      "groupby and numcol passed\n"
     ]
    },
    {
     "data": {
      "application/vnd.plotly.v1+json": {
       "config": {
        "linkText": "Export to plot.ly",
        "plotlyServerURL": "https://plot.ly",
        "showLink": false
       },
       "data": [
        {
         "marker": {
          "color": "#629a7b"
         },
         "name": "ethereum ($780.5M)",
         "showlegend": true,
         "textposition": "auto",
         "type": "bar",
         "x": [
          "2024-04-17T00:00:00.000000000",
          "2024-04-18T00:00:00.000000000",
          "2024-04-19T00:00:00.000000000",
          "2024-04-20T00:00:00.000000000",
          "2024-04-21T00:00:00.000000000",
          "2024-04-22T00:00:00.000000000",
          "2024-04-23T00:00:00.000000000",
          "2024-04-24T00:00:00.000000000",
          "2024-04-25T00:00:00.000000000",
          "2024-04-26T00:00:00.000000000",
          "2024-04-27T00:00:00.000000000",
          "2024-04-28T00:00:00.000000000",
          "2024-04-29T00:00:00.000000000",
          "2024-04-30T00:00:00.000000000",
          "2024-05-01T00:00:00.000000000",
          "2024-05-02T00:00:00.000000000",
          "2024-05-03T00:00:00.000000000",
          "2024-05-04T00:00:00.000000000",
          "2024-05-05T00:00:00.000000000",
          "2024-05-06T00:00:00.000000000",
          "2024-05-07T00:00:00.000000000",
          "2024-05-08T00:00:00.000000000",
          "2024-05-09T00:00:00.000000000",
          "2024-05-10T00:00:00.000000000",
          "2024-05-11T00:00:00.000000000",
          "2024-05-12T00:00:00.000000000",
          "2024-05-13T00:00:00.000000000",
          "2024-05-14T00:00:00.000000000",
          "2024-05-15T00:00:00.000000000",
          "2024-05-16T00:00:00.000000000",
          "2024-05-17T00:00:00.000000000",
          "2024-05-18T00:00:00.000000000",
          "2024-05-19T00:00:00.000000000",
          "2024-05-20T00:00:00.000000000",
          "2024-05-21T00:00:00.000000000",
          "2024-05-22T00:00:00.000000000",
          "2024-05-23T00:00:00.000000000",
          "2024-05-24T00:00:00.000000000",
          "2024-05-25T00:00:00.000000000",
          "2024-05-26T00:00:00.000000000",
          "2024-05-27T00:00:00.000000000",
          "2024-05-28T00:00:00.000000000",
          "2024-05-29T00:00:00.000000000",
          "2024-05-30T00:00:00.000000000",
          "2024-05-31T00:00:00.000000000",
          "2024-06-01T00:00:00.000000000",
          "2024-06-02T00:00:00.000000000",
          "2024-06-03T00:00:00.000000000",
          "2024-06-04T00:00:00.000000000",
          "2024-06-05T00:00:00.000000000",
          "2024-06-06T00:00:00.000000000",
          "2024-06-07T00:00:00.000000000",
          "2024-06-08T00:00:00.000000000",
          "2024-06-09T00:00:00.000000000",
          "2024-06-10T00:00:00.000000000",
          "2024-06-11T00:00:00.000000000",
          "2024-06-12T00:00:00.000000000",
          "2024-06-13T00:00:00.000000000",
          "2024-06-14T00:00:00.000000000",
          "2024-06-15T00:00:00.000000000",
          "2024-06-16T00:00:00.000000000",
          "2024-06-17T00:00:00.000000000",
          "2024-06-18T00:00:00.000000000",
          "2024-06-19T00:00:00.000000000",
          "2024-06-20T00:00:00.000000000",
          "2024-06-21T00:00:00.000000000",
          "2024-06-22T00:00:00.000000000",
          "2024-06-23T00:00:00.000000000",
          "2024-06-24T00:00:00.000000000",
          "2024-06-25T00:00:00.000000000",
          "2024-06-26T00:00:00.000000000",
          "2024-06-27T00:00:00.000000000",
          "2024-06-28T00:00:00.000000000",
          "2024-06-29T00:00:00.000000000",
          "2024-06-30T00:00:00.000000000",
          "2024-07-01T00:00:00.000000000",
          "2024-07-02T00:00:00.000000000",
          "2024-07-03T00:00:00.000000000",
          "2024-07-04T00:00:00.000000000",
          "2024-07-05T00:00:00.000000000",
          "2024-07-06T00:00:00.000000000",
          "2024-07-07T00:00:00.000000000",
          "2024-07-08T00:00:00.000000000",
          "2024-07-09T00:00:00.000000000",
          "2024-07-10T00:00:00.000000000",
          "2024-07-11T00:00:00.000000000",
          "2024-07-12T00:00:00.000000000",
          "2024-07-13T00:00:00.000000000",
          "2024-07-14T00:00:00.000000000",
          "2024-07-15T00:00:00.000000000",
          "2024-07-16T00:00:00.000000000",
          "2024-07-17T00:00:00.000000000",
          "2024-07-18T00:00:00.000000000",
          "2024-07-19T00:00:00.000000000",
          "2024-07-20T00:00:00.000000000",
          "2024-07-21T00:00:00.000000000",
          "2024-07-22T00:00:00.000000000",
          "2024-07-23T00:00:00.000000000",
          "2024-07-24T00:00:00.000000000",
          "2024-07-25T00:00:00.000000000",
          "2024-07-26T00:00:00.000000000",
          "2024-07-27T00:00:00.000000000",
          "2024-07-28T00:00:00.000000000",
          "2024-07-29T00:00:00.000000000",
          "2024-07-30T00:00:00.000000000",
          "2024-07-31T00:00:00.000000000",
          "2024-08-01T00:00:00.000000000",
          "2024-08-02T00:00:00.000000000",
          "2024-08-03T00:00:00.000000000",
          "2024-08-04T00:00:00.000000000",
          "2024-08-05T00:00:00.000000000",
          "2024-08-06T00:00:00.000000000",
          "2024-08-07T00:00:00.000000000",
          "2024-08-08T00:00:00.000000000",
          "2024-08-09T00:00:00.000000000",
          "2024-08-10T00:00:00.000000000",
          "2024-08-11T00:00:00.000000000",
          "2024-08-12T00:00:00.000000000",
          "2024-08-13T00:00:00.000000000",
          "2024-08-14T00:00:00.000000000",
          "2024-08-15T00:00:00.000000000",
          "2024-08-16T00:00:00.000000000",
          "2024-08-17T00:00:00.000000000",
          "2024-08-18T00:00:00.000000000",
          "2024-08-19T00:00:00.000000000",
          "2024-08-20T00:00:00.000000000",
          "2024-08-21T00:00:00.000000000",
          "2024-08-22T00:00:00.000000000",
          "2024-08-23T00:00:00.000000000",
          "2024-08-24T00:00:00.000000000",
          "2024-08-25T00:00:00.000000000",
          "2024-08-26T00:00:00.000000000",
          "2024-08-27T00:00:00.000000000",
          "2024-08-28T00:00:00.000000000",
          "2024-08-29T00:00:00.000000000",
          "2024-08-30T00:00:00.000000000",
          "2024-08-31T00:00:00.000000000",
          "2024-09-01T00:00:00.000000000",
          "2024-09-02T00:00:00.000000000",
          "2024-09-03T00:00:00.000000000",
          "2024-09-04T00:00:00.000000000",
          "2024-09-05T00:00:00.000000000",
          "2024-09-06T00:00:00.000000000",
          "2024-09-07T00:00:00.000000000",
          "2024-09-08T00:00:00.000000000",
          "2024-09-09T00:00:00.000000000",
          "2024-09-10T00:00:00.000000000",
          "2024-09-11T00:00:00.000000000",
          "2024-09-12T00:00:00.000000000",
          "2024-09-13T00:00:00.000000000",
          "2024-09-14T00:00:00.000000000",
          "2024-09-15T00:00:00.000000000",
          "2024-09-16T00:00:00.000000000",
          "2024-09-17T00:00:00.000000000",
          "2024-09-18T00:00:00.000000000",
          "2024-09-19T00:00:00.000000000",
          "2024-09-20T00:00:00.000000000",
          "2024-09-21T00:00:00.000000000",
          "2024-09-22T00:00:00.000000000",
          "2024-09-23T00:00:00.000000000",
          "2024-09-24T00:00:00.000000000",
          "2024-09-25T00:00:00.000000000",
          "2024-09-26T00:00:00.000000000",
          "2024-09-27T00:00:00.000000000",
          "2024-09-28T00:00:00.000000000",
          "2024-09-29T00:00:00.000000000",
          "2024-09-30T00:00:00.000000000",
          "2024-10-01T00:00:00.000000000",
          "2024-10-02T00:00:00.000000000",
          "2024-10-03T00:00:00.000000000",
          "2024-10-04T00:00:00.000000000",
          "2024-10-05T00:00:00.000000000",
          "2024-10-06T00:00:00.000000000",
          "2024-10-07T00:00:00.000000000",
          "2024-10-08T00:00:00.000000000",
          "2024-10-09T00:00:00.000000000",
          "2024-10-10T00:00:00.000000000",
          "2024-10-11T00:00:00.000000000",
          "2024-10-12T00:00:00.000000000",
          "2024-10-13T00:00:00.000000000",
          "2024-10-14T00:00:00.000000000",
          "2024-10-15T00:00:00.000000000",
          "2024-10-16T00:00:00.000000000",
          "2024-10-17T00:00:00.000000000",
          "2024-10-18T00:00:00.000000000",
          "2024-10-19T00:00:00.000000000",
          "2024-10-20T00:00:00.000000000",
          "2024-10-21T00:00:00.000000000",
          "2024-10-22T00:00:00.000000000",
          "2024-10-23T00:00:00.000000000",
          "2024-10-24T00:00:00.000000000",
          "2024-10-25T00:00:00.000000000",
          "2024-10-26T00:00:00.000000000",
          "2024-10-27T00:00:00.000000000",
          "2024-10-28T00:00:00.000000000",
          "2024-10-29T00:00:00.000000000",
          "2024-10-30T00:00:00.000000000",
          "2024-10-31T00:00:00.000000000",
          "2024-11-01T00:00:00.000000000",
          "2024-11-02T00:00:00.000000000",
          "2024-11-03T00:00:00.000000000",
          "2024-11-04T00:00:00.000000000",
          "2024-11-05T00:00:00.000000000",
          "2024-11-06T00:00:00.000000000",
          "2024-11-07T00:00:00.000000000",
          "2024-11-08T00:00:00.000000000",
          "2024-11-09T00:00:00.000000000",
          "2024-11-10T00:00:00.000000000",
          "2024-11-11T00:00:00.000000000",
          "2024-11-12T00:00:00.000000000",
          "2024-11-13T00:00:00.000000000",
          "2024-11-14T00:00:00.000000000",
          "2024-11-15T00:00:00.000000000",
          "2024-11-16T00:00:00.000000000",
          "2024-11-17T00:00:00.000000000",
          "2024-11-18T00:00:00.000000000",
          "2024-11-19T00:00:00.000000000",
          "2024-11-20T00:00:00.000000000",
          "2024-11-21T00:00:00.000000000",
          "2024-11-22T00:00:00.000000000",
          "2024-11-23T00:00:00.000000000",
          "2024-11-24T00:00:00.000000000",
          "2024-11-25T00:00:00.000000000",
          "2024-11-26T00:00:00.000000000",
          "2024-11-27T00:00:00.000000000",
          "2024-11-28T00:00:00.000000000",
          "2024-11-29T00:00:00.000000000",
          "2024-11-30T00:00:00.000000000",
          "2024-12-01T00:00:00.000000000",
          "2024-12-02T00:00:00.000000000",
          "2024-12-03T00:00:00.000000000",
          "2024-12-04T00:00:00.000000000",
          "2024-12-05T00:00:00.000000000",
          "2024-12-06T00:00:00.000000000",
          "2024-12-07T00:00:00.000000000",
          "2024-12-08T00:00:00.000000000",
          "2024-12-09T00:00:00.000000000",
          "2024-12-10T00:00:00.000000000",
          "2024-12-11T00:00:00.000000000",
          "2024-12-12T00:00:00.000000000",
          "2024-12-13T00:00:00.000000000",
          "2024-12-14T00:00:00.000000000",
          "2024-12-15T00:00:00.000000000",
          "2024-12-16T00:00:00.000000000",
          "2024-12-17T00:00:00.000000000",
          "2024-12-18T00:00:00.000000000",
          "2024-12-19T00:00:00.000000000",
          "2024-12-20T00:00:00.000000000",
          "2024-12-21T00:00:00.000000000",
          "2024-12-22T00:00:00.000000000",
          "2024-12-23T00:00:00.000000000",
          "2024-12-24T00:00:00.000000000",
          "2024-12-25T00:00:00.000000000",
          "2024-12-26T00:00:00.000000000",
          "2024-12-27T00:00:00.000000000",
          "2024-12-28T00:00:00.000000000",
          "2024-12-29T00:00:00.000000000",
          "2024-12-30T00:00:00.000000000",
          "2024-12-31T00:00:00.000000000",
          "2025-01-01T00:00:00.000000000",
          "2025-01-02T00:00:00.000000000",
          "2025-01-03T00:00:00.000000000",
          "2025-01-04T00:00:00.000000000",
          "2025-01-05T00:00:00.000000000",
          "2025-01-06T00:00:00.000000000",
          "2025-01-07T00:00:00.000000000",
          "2025-01-08T00:00:00.000000000",
          "2025-01-09T00:00:00.000000000",
          "2025-01-10T00:00:00.000000000",
          "2025-01-11T00:00:00.000000000",
          "2025-01-12T00:00:00.000000000",
          "2025-01-13T00:00:00.000000000",
          "2025-01-14T00:00:00.000000000",
          "2025-01-15T00:00:00.000000000",
          "2025-01-16T00:00:00.000000000",
          "2025-01-17T00:00:00.000000000",
          "2025-01-18T00:00:00.000000000",
          "2025-01-19T00:00:00.000000000",
          "2025-01-20T00:00:00.000000000",
          "2025-01-21T00:00:00.000000000",
          "2025-01-22T00:00:00.000000000",
          "2025-01-23T00:00:00.000000000",
          "2025-01-24T00:00:00.000000000",
          "2025-01-25T00:00:00.000000000",
          "2025-01-26T00:00:00.000000000",
          "2025-01-27T00:00:00.000000000",
          "2025-01-28T00:00:00.000000000",
          "2025-01-29T00:00:00.000000000",
          "2025-01-30T00:00:00.000000000",
          "2025-01-31T00:00:00.000000000",
          "2025-02-01T00:00:00.000000000",
          "2025-02-02T00:00:00.000000000",
          "2025-02-03T00:00:00.000000000",
          "2025-02-04T00:00:00.000000000",
          "2025-02-05T00:00:00.000000000",
          "2025-02-06T00:00:00.000000000",
          "2025-02-07T00:00:00.000000000",
          "2025-02-08T00:00:00.000000000",
          "2025-02-09T00:00:00.000000000",
          "2025-02-10T00:00:00.000000000",
          "2025-02-11T00:00:00.000000000",
          "2025-02-12T00:00:00.000000000",
          "2025-02-13T00:00:00.000000000",
          "2025-02-14T00:00:00.000000000",
          "2025-02-15T00:00:00.000000000",
          "2025-02-16T00:00:00.000000000",
          "2025-02-17T00:00:00.000000000",
          "2025-02-18T00:00:00.000000000",
          "2025-02-19T00:00:00.000000000",
          "2025-02-20T00:00:00.000000000",
          "2025-02-21T00:00:00.000000000",
          "2025-02-22T00:00:00.000000000",
          "2025-02-23T00:00:00.000000000",
          "2025-02-24T00:00:00.000000000",
          "2025-02-25T00:00:00.000000000",
          "2025-02-26T00:00:00.000000000",
          "2025-02-27T00:00:00.000000000",
          "2025-02-28T00:00:00.000000000",
          "2025-03-01T00:00:00.000000000",
          "2025-03-02T00:00:00.000000000",
          "2025-03-03T00:00:00.000000000",
          "2025-03-04T00:00:00.000000000",
          "2025-03-05T00:00:00.000000000",
          "2025-03-06T00:00:00.000000000",
          "2025-03-07T00:00:00.000000000",
          "2025-03-08T00:00:00.000000000",
          "2025-03-09T00:00:00.000000000",
          "2025-03-10T00:00:00.000000000",
          "2025-03-11T00:00:00.000000000",
          "2025-03-12T00:00:00.000000000",
          "2025-03-13T00:00:00.000000000",
          "2025-03-14T00:00:00.000000000",
          "2025-03-15T00:00:00.000000000",
          "2025-03-16T00:00:00.000000000",
          "2025-03-17T00:00:00.000000000",
          "2025-03-18T00:00:00.000000000",
          "2025-03-19T00:00:00.000000000",
          "2025-03-20T00:00:00.000000000",
          "2025-03-21T00:00:00.000000000",
          "2025-03-22T00:00:00.000000000",
          "2025-03-23T00:00:00.000000000",
          "2025-03-24T00:00:00.000000000",
          "2025-03-25T00:00:00.000000000",
          "2025-03-26T00:00:00.000000000",
          "2025-03-27T00:00:00.000000000",
          "2025-03-28T00:00:00.000000000",
          "2025-03-29T00:00:00.000000000",
          "2025-03-30T00:00:00.000000000",
          "2025-03-31T00:00:00.000000000",
          "2025-04-01T00:00:00.000000000",
          "2025-04-02T00:00:00.000000000",
          "2025-04-03T00:00:00.000000000",
          "2025-04-04T00:00:00.000000000",
          "2025-04-05T00:00:00.000000000",
          "2025-04-06T00:00:00.000000000",
          "2025-04-07T00:00:00.000000000",
          "2025-04-08T00:00:00.000000000",
          "2025-04-09T00:00:00.000000000",
          "2025-04-10T00:00:00.000000000",
          "2025-04-11T00:00:00.000000000",
          "2025-04-12T00:00:00.000000000",
          "2025-04-13T00:00:00.000000000",
          "2025-04-14T00:00:00.000000000",
          "2025-04-15T00:00:00.000000000"
         ],
         "xaxis": "x",
         "y": {
          "bdata": "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",
          "dtype": "f8"
         },
         "yaxis": "y"
        },
        {
         "marker": {
          "color": "#c3774f"
         },
         "name": "base ($591.7M)",
         "showlegend": true,
         "textposition": "auto",
         "type": "bar",
         "x": [
          "2024-04-17T00:00:00.000000000",
          "2024-04-18T00:00:00.000000000",
          "2024-04-19T00:00:00.000000000",
          "2024-04-20T00:00:00.000000000",
          "2024-04-21T00:00:00.000000000",
          "2024-04-22T00:00:00.000000000",
          "2024-04-23T00:00:00.000000000",
          "2024-04-24T00:00:00.000000000",
          "2024-04-25T00:00:00.000000000",
          "2024-04-26T00:00:00.000000000",
          "2024-04-27T00:00:00.000000000",
          "2024-04-28T00:00:00.000000000",
          "2024-04-29T00:00:00.000000000",
          "2024-04-30T00:00:00.000000000",
          "2024-05-01T00:00:00.000000000",
          "2024-05-02T00:00:00.000000000",
          "2024-05-03T00:00:00.000000000",
          "2024-05-04T00:00:00.000000000",
          "2024-05-05T00:00:00.000000000",
          "2024-05-06T00:00:00.000000000",
          "2024-05-07T00:00:00.000000000",
          "2024-05-08T00:00:00.000000000",
          "2024-05-09T00:00:00.000000000",
          "2024-05-10T00:00:00.000000000",
          "2024-05-11T00:00:00.000000000",
          "2024-05-12T00:00:00.000000000",
          "2024-05-13T00:00:00.000000000",
          "2024-05-14T00:00:00.000000000",
          "2024-05-15T00:00:00.000000000",
          "2024-05-16T00:00:00.000000000",
          "2024-05-17T00:00:00.000000000",
          "2024-05-18T00:00:00.000000000",
          "2024-05-19T00:00:00.000000000",
          "2024-05-20T00:00:00.000000000",
          "2024-05-21T00:00:00.000000000",
          "2024-05-22T00:00:00.000000000",
          "2024-05-23T00:00:00.000000000",
          "2024-05-24T00:00:00.000000000",
          "2024-05-25T00:00:00.000000000",
          "2024-05-26T00:00:00.000000000",
          "2024-05-27T00:00:00.000000000",
          "2024-05-28T00:00:00.000000000",
          "2024-05-29T00:00:00.000000000",
          "2024-05-30T00:00:00.000000000",
          "2024-05-31T00:00:00.000000000",
          "2024-06-01T00:00:00.000000000",
          "2024-06-02T00:00:00.000000000",
          "2024-06-03T00:00:00.000000000",
          "2024-06-04T00:00:00.000000000",
          "2024-06-05T00:00:00.000000000",
          "2024-06-06T00:00:00.000000000",
          "2024-06-07T00:00:00.000000000",
          "2024-06-08T00:00:00.000000000",
          "2024-06-09T00:00:00.000000000",
          "2024-06-10T00:00:00.000000000",
          "2024-06-11T00:00:00.000000000",
          "2024-06-12T00:00:00.000000000",
          "2024-06-13T00:00:00.000000000",
          "2024-06-14T00:00:00.000000000",
          "2024-06-15T00:00:00.000000000",
          "2024-06-16T00:00:00.000000000",
          "2024-06-17T00:00:00.000000000",
          "2024-06-18T00:00:00.000000000",
          "2024-06-19T00:00:00.000000000",
          "2024-06-20T00:00:00.000000000",
          "2024-06-21T00:00:00.000000000",
          "2024-06-22T00:00:00.000000000",
          "2024-06-23T00:00:00.000000000",
          "2024-06-24T00:00:00.000000000",
          "2024-06-25T00:00:00.000000000",
          "2024-06-26T00:00:00.000000000",
          "2024-06-27T00:00:00.000000000",
          "2024-06-28T00:00:00.000000000",
          "2024-06-29T00:00:00.000000000",
          "2024-06-30T00:00:00.000000000",
          "2024-07-01T00:00:00.000000000",
          "2024-07-02T00:00:00.000000000",
          "2024-07-03T00:00:00.000000000",
          "2024-07-04T00:00:00.000000000",
          "2024-07-05T00:00:00.000000000",
          "2024-07-06T00:00:00.000000000",
          "2024-07-07T00:00:00.000000000",
          "2024-07-08T00:00:00.000000000",
          "2024-07-09T00:00:00.000000000",
          "2024-07-10T00:00:00.000000000",
          "2024-07-11T00:00:00.000000000",
          "2024-07-12T00:00:00.000000000",
          "2024-07-13T00:00:00.000000000",
          "2024-07-14T00:00:00.000000000",
          "2024-07-15T00:00:00.000000000",
          "2024-07-16T00:00:00.000000000",
          "2024-07-17T00:00:00.000000000",
          "2024-07-18T00:00:00.000000000",
          "2024-07-19T00:00:00.000000000",
          "2024-07-20T00:00:00.000000000",
          "2024-07-21T00:00:00.000000000",
          "2024-07-22T00:00:00.000000000",
          "2024-07-23T00:00:00.000000000",
          "2024-07-24T00:00:00.000000000",
          "2024-07-25T00:00:00.000000000",
          "2024-07-26T00:00:00.000000000",
          "2024-07-27T00:00:00.000000000",
          "2024-07-28T00:00:00.000000000",
          "2024-07-29T00:00:00.000000000",
          "2024-07-30T00:00:00.000000000",
          "2024-07-31T00:00:00.000000000",
          "2024-08-01T00:00:00.000000000",
          "2024-08-02T00:00:00.000000000",
          "2024-08-03T00:00:00.000000000",
          "2024-08-04T00:00:00.000000000",
          "2024-08-05T00:00:00.000000000",
          "2024-08-06T00:00:00.000000000",
          "2024-08-07T00:00:00.000000000",
          "2024-08-08T00:00:00.000000000",
          "2024-08-09T00:00:00.000000000",
          "2024-08-10T00:00:00.000000000",
          "2024-08-11T00:00:00.000000000",
          "2024-08-12T00:00:00.000000000",
          "2024-08-13T00:00:00.000000000",
          "2024-08-14T00:00:00.000000000",
          "2024-08-15T00:00:00.000000000",
          "2024-08-16T00:00:00.000000000",
          "2024-08-17T00:00:00.000000000",
          "2024-08-18T00:00:00.000000000",
          "2024-08-19T00:00:00.000000000",
          "2024-08-20T00:00:00.000000000",
          "2024-08-21T00:00:00.000000000",
          "2024-08-22T00:00:00.000000000",
          "2024-08-23T00:00:00.000000000",
          "2024-08-24T00:00:00.000000000",
          "2024-08-25T00:00:00.000000000",
          "2024-08-26T00:00:00.000000000",
          "2024-08-27T00:00:00.000000000",
          "2024-08-28T00:00:00.000000000",
          "2024-08-29T00:00:00.000000000",
          "2024-08-30T00:00:00.000000000",
          "2024-08-31T00:00:00.000000000",
          "2024-09-01T00:00:00.000000000",
          "2024-09-02T00:00:00.000000000",
          "2024-09-03T00:00:00.000000000",
          "2024-09-04T00:00:00.000000000",
          "2024-09-05T00:00:00.000000000",
          "2024-09-06T00:00:00.000000000",
          "2024-09-07T00:00:00.000000000",
          "2024-09-08T00:00:00.000000000",
          "2024-09-09T00:00:00.000000000",
          "2024-09-10T00:00:00.000000000",
          "2024-09-11T00:00:00.000000000",
          "2024-09-12T00:00:00.000000000",
          "2024-09-13T00:00:00.000000000",
          "2024-09-14T00:00:00.000000000",
          "2024-09-15T00:00:00.000000000",
          "2024-09-16T00:00:00.000000000",
          "2024-09-17T00:00:00.000000000",
          "2024-09-18T00:00:00.000000000",
          "2024-09-19T00:00:00.000000000",
          "2024-09-20T00:00:00.000000000",
          "2024-09-21T00:00:00.000000000",
          "2024-09-22T00:00:00.000000000",
          "2024-09-23T00:00:00.000000000",
          "2024-09-24T00:00:00.000000000",
          "2024-09-25T00:00:00.000000000",
          "2024-09-26T00:00:00.000000000",
          "2024-09-27T00:00:00.000000000",
          "2024-09-28T00:00:00.000000000",
          "2024-09-29T00:00:00.000000000",
          "2024-09-30T00:00:00.000000000",
          "2024-10-01T00:00:00.000000000",
          "2024-10-02T00:00:00.000000000",
          "2024-10-03T00:00:00.000000000",
          "2024-10-04T00:00:00.000000000",
          "2024-10-05T00:00:00.000000000",
          "2024-10-06T00:00:00.000000000",
          "2024-10-07T00:00:00.000000000",
          "2024-10-08T00:00:00.000000000",
          "2024-10-09T00:00:00.000000000",
          "2024-10-10T00:00:00.000000000",
          "2024-10-11T00:00:00.000000000",
          "2024-10-12T00:00:00.000000000",
          "2024-10-13T00:00:00.000000000",
          "2024-10-14T00:00:00.000000000",
          "2024-10-15T00:00:00.000000000",
          "2024-10-16T00:00:00.000000000",
          "2024-10-17T00:00:00.000000000",
          "2024-10-18T00:00:00.000000000",
          "2024-10-19T00:00:00.000000000",
          "2024-10-20T00:00:00.000000000",
          "2024-10-21T00:00:00.000000000",
          "2024-10-22T00:00:00.000000000",
          "2024-10-23T00:00:00.000000000",
          "2024-10-24T00:00:00.000000000",
          "2024-10-25T00:00:00.000000000",
          "2024-10-26T00:00:00.000000000",
          "2024-10-27T00:00:00.000000000",
          "2024-10-28T00:00:00.000000000",
          "2024-10-29T00:00:00.000000000",
          "2024-10-30T00:00:00.000000000",
          "2024-10-31T00:00:00.000000000",
          "2024-11-01T00:00:00.000000000",
          "2024-11-02T00:00:00.000000000",
          "2024-11-03T00:00:00.000000000",
          "2024-11-04T00:00:00.000000000",
          "2024-11-05T00:00:00.000000000",
          "2024-11-06T00:00:00.000000000",
          "2024-11-07T00:00:00.000000000",
          "2024-11-08T00:00:00.000000000",
          "2024-11-09T00:00:00.000000000",
          "2024-11-10T00:00:00.000000000",
          "2024-11-11T00:00:00.000000000",
          "2024-11-12T00:00:00.000000000",
          "2024-11-13T00:00:00.000000000",
          "2024-11-14T00:00:00.000000000",
          "2024-11-15T00:00:00.000000000",
          "2024-11-16T00:00:00.000000000",
          "2024-11-17T00:00:00.000000000",
          "2024-11-18T00:00:00.000000000",
          "2024-11-19T00:00:00.000000000",
          "2024-11-20T00:00:00.000000000",
          "2024-11-21T00:00:00.000000000",
          "2024-11-22T00:00:00.000000000",
          "2024-11-23T00:00:00.000000000",
          "2024-11-24T00:00:00.000000000",
          "2024-11-25T00:00:00.000000000",
          "2024-11-26T00:00:00.000000000",
          "2024-11-27T00:00:00.000000000",
          "2024-11-28T00:00:00.000000000",
          "2024-11-29T00:00:00.000000000",
          "2024-11-30T00:00:00.000000000",
          "2024-12-01T00:00:00.000000000",
          "2024-12-02T00:00:00.000000000",
          "2024-12-03T00:00:00.000000000",
          "2024-12-04T00:00:00.000000000",
          "2024-12-05T00:00:00.000000000",
          "2024-12-06T00:00:00.000000000",
          "2024-12-07T00:00:00.000000000",
          "2024-12-08T00:00:00.000000000",
          "2024-12-09T00:00:00.000000000",
          "2024-12-10T00:00:00.000000000",
          "2024-12-11T00:00:00.000000000",
          "2024-12-12T00:00:00.000000000",
          "2024-12-13T00:00:00.000000000",
          "2024-12-14T00:00:00.000000000",
          "2024-12-15T00:00:00.000000000",
          "2024-12-16T00:00:00.000000000",
          "2024-12-17T00:00:00.000000000",
          "2024-12-18T00:00:00.000000000",
          "2024-12-19T00:00:00.000000000",
          "2024-12-20T00:00:00.000000000",
          "2024-12-21T00:00:00.000000000",
          "2024-12-22T00:00:00.000000000",
          "2024-12-23T00:00:00.000000000",
          "2024-12-24T00:00:00.000000000",
          "2024-12-25T00:00:00.000000000",
          "2024-12-26T00:00:00.000000000",
          "2024-12-27T00:00:00.000000000",
          "2024-12-28T00:00:00.000000000",
          "2024-12-29T00:00:00.000000000",
          "2024-12-30T00:00:00.000000000",
          "2024-12-31T00:00:00.000000000",
          "2025-01-01T00:00:00.000000000",
          "2025-01-02T00:00:00.000000000",
          "2025-01-03T00:00:00.000000000",
          "2025-01-04T00:00:00.000000000",
          "2025-01-05T00:00:00.000000000",
          "2025-01-06T00:00:00.000000000",
          "2025-01-07T00:00:00.000000000",
          "2025-01-08T00:00:00.000000000",
          "2025-01-09T00:00:00.000000000",
          "2025-01-10T00:00:00.000000000",
          "2025-01-11T00:00:00.000000000",
          "2025-01-12T00:00:00.000000000",
          "2025-01-13T00:00:00.000000000",
          "2025-01-14T00:00:00.000000000",
          "2025-01-15T00:00:00.000000000",
          "2025-01-16T00:00:00.000000000",
          "2025-01-17T00:00:00.000000000",
          "2025-01-18T00:00:00.000000000",
          "2025-01-19T00:00:00.000000000",
          "2025-01-20T00:00:00.000000000",
          "2025-01-21T00:00:00.000000000",
          "2025-01-22T00:00:00.000000000",
          "2025-01-23T00:00:00.000000000",
          "2025-01-24T00:00:00.000000000",
          "2025-01-25T00:00:00.000000000",
          "2025-01-26T00:00:00.000000000",
          "2025-01-27T00:00:00.000000000",
          "2025-01-28T00:00:00.000000000",
          "2025-01-29T00:00:00.000000000",
          "2025-01-30T00:00:00.000000000",
          "2025-01-31T00:00:00.000000000",
          "2025-02-01T00:00:00.000000000",
          "2025-02-02T00:00:00.000000000",
          "2025-02-03T00:00:00.000000000",
          "2025-02-04T00:00:00.000000000",
          "2025-02-05T00:00:00.000000000",
          "2025-02-06T00:00:00.000000000",
          "2025-02-07T00:00:00.000000000",
          "2025-02-08T00:00:00.000000000",
          "2025-02-09T00:00:00.000000000",
          "2025-02-10T00:00:00.000000000",
          "2025-02-11T00:00:00.000000000",
          "2025-02-12T00:00:00.000000000",
          "2025-02-13T00:00:00.000000000",
          "2025-02-14T00:00:00.000000000",
          "2025-02-15T00:00:00.000000000",
          "2025-02-16T00:00:00.000000000",
          "2025-02-17T00:00:00.000000000",
          "2025-02-18T00:00:00.000000000",
          "2025-02-19T00:00:00.000000000",
          "2025-02-20T00:00:00.000000000",
          "2025-02-21T00:00:00.000000000",
          "2025-02-22T00:00:00.000000000",
          "2025-02-23T00:00:00.000000000",
          "2025-02-24T00:00:00.000000000",
          "2025-02-25T00:00:00.000000000",
          "2025-02-26T00:00:00.000000000",
          "2025-02-27T00:00:00.000000000",
          "2025-02-28T00:00:00.000000000",
          "2025-03-01T00:00:00.000000000",
          "2025-03-02T00:00:00.000000000",
          "2025-03-03T00:00:00.000000000",
          "2025-03-04T00:00:00.000000000",
          "2025-03-05T00:00:00.000000000",
          "2025-03-06T00:00:00.000000000",
          "2025-03-07T00:00:00.000000000",
          "2025-03-08T00:00:00.000000000",
          "2025-03-09T00:00:00.000000000",
          "2025-03-10T00:00:00.000000000",
          "2025-03-11T00:00:00.000000000",
          "2025-03-12T00:00:00.000000000",
          "2025-03-13T00:00:00.000000000",
          "2025-03-14T00:00:00.000000000",
          "2025-03-15T00:00:00.000000000",
          "2025-03-16T00:00:00.000000000",
          "2025-03-17T00:00:00.000000000",
          "2025-03-18T00:00:00.000000000",
          "2025-03-19T00:00:00.000000000",
          "2025-03-20T00:00:00.000000000",
          "2025-03-21T00:00:00.000000000",
          "2025-03-22T00:00:00.000000000",
          "2025-03-23T00:00:00.000000000",
          "2025-03-24T00:00:00.000000000",
          "2025-03-25T00:00:00.000000000",
          "2025-03-26T00:00:00.000000000",
          "2025-03-27T00:00:00.000000000",
          "2025-03-28T00:00:00.000000000",
          "2025-03-29T00:00:00.000000000",
          "2025-03-30T00:00:00.000000000",
          "2025-03-31T00:00:00.000000000",
          "2025-04-01T00:00:00.000000000",
          "2025-04-02T00:00:00.000000000",
          "2025-04-03T00:00:00.000000000",
          "2025-04-04T00:00:00.000000000",
          "2025-04-05T00:00:00.000000000",
          "2025-04-06T00:00:00.000000000",
          "2025-04-07T00:00:00.000000000",
          "2025-04-08T00:00:00.000000000",
          "2025-04-09T00:00:00.000000000",
          "2025-04-10T00:00:00.000000000",
          "2025-04-11T00:00:00.000000000",
          "2025-04-12T00:00:00.000000000",
          "2025-04-13T00:00:00.000000000",
          "2025-04-14T00:00:00.000000000",
          "2025-04-15T00:00:00.000000000"
         ],
         "xaxis": "x",
         "y": {
          "bdata": "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",
          "dtype": "f8"
         },
         "yaxis": "y"
        },
        {
         "marker": {
          "color": "#e2afaf"
         },
         "name": "bsc ($526.2M)",
         "showlegend": true,
         "textposition": "auto",
         "type": "bar",
         "x": [
          "2024-04-17T00:00:00.000000000",
          "2024-04-18T00:00:00.000000000",
          "2024-04-19T00:00:00.000000000",
          "2024-04-20T00:00:00.000000000",
          "2024-04-21T00:00:00.000000000",
          "2024-04-22T00:00:00.000000000",
          "2024-04-23T00:00:00.000000000",
          "2024-04-24T00:00:00.000000000",
          "2024-04-25T00:00:00.000000000",
          "2024-04-26T00:00:00.000000000",
          "2024-04-27T00:00:00.000000000",
          "2024-04-28T00:00:00.000000000",
          "2024-04-29T00:00:00.000000000",
          "2024-04-30T00:00:00.000000000",
          "2024-05-01T00:00:00.000000000",
          "2024-05-02T00:00:00.000000000",
          "2024-05-03T00:00:00.000000000",
          "2024-05-04T00:00:00.000000000",
          "2024-05-05T00:00:00.000000000",
          "2024-05-06T00:00:00.000000000",
          "2024-05-07T00:00:00.000000000",
          "2024-05-08T00:00:00.000000000",
          "2024-05-09T00:00:00.000000000",
          "2024-05-10T00:00:00.000000000",
          "2024-05-11T00:00:00.000000000",
          "2024-05-12T00:00:00.000000000",
          "2024-05-13T00:00:00.000000000",
          "2024-05-14T00:00:00.000000000",
          "2024-05-15T00:00:00.000000000",
          "2024-05-16T00:00:00.000000000",
          "2024-05-17T00:00:00.000000000",
          "2024-05-18T00:00:00.000000000",
          "2024-05-19T00:00:00.000000000",
          "2024-05-20T00:00:00.000000000",
          "2024-05-21T00:00:00.000000000",
          "2024-05-22T00:00:00.000000000",
          "2024-05-23T00:00:00.000000000",
          "2024-05-24T00:00:00.000000000",
          "2024-05-25T00:00:00.000000000",
          "2024-05-26T00:00:00.000000000",
          "2024-05-27T00:00:00.000000000",
          "2024-05-28T00:00:00.000000000",
          "2024-05-29T00:00:00.000000000",
          "2024-05-30T00:00:00.000000000",
          "2024-05-31T00:00:00.000000000",
          "2024-06-01T00:00:00.000000000",
          "2024-06-02T00:00:00.000000000",
          "2024-06-03T00:00:00.000000000",
          "2024-06-04T00:00:00.000000000",
          "2024-06-05T00:00:00.000000000",
          "2024-06-06T00:00:00.000000000",
          "2024-06-07T00:00:00.000000000",
          "2024-06-08T00:00:00.000000000",
          "2024-06-09T00:00:00.000000000",
          "2024-06-10T00:00:00.000000000",
          "2024-06-11T00:00:00.000000000",
          "2024-06-12T00:00:00.000000000",
          "2024-06-13T00:00:00.000000000",
          "2024-06-14T00:00:00.000000000",
          "2024-06-15T00:00:00.000000000",
          "2024-06-16T00:00:00.000000000",
          "2024-06-17T00:00:00.000000000",
          "2024-06-18T00:00:00.000000000",
          "2024-06-19T00:00:00.000000000",
          "2024-06-20T00:00:00.000000000",
          "2024-06-21T00:00:00.000000000",
          "2024-06-22T00:00:00.000000000",
          "2024-06-23T00:00:00.000000000",
          "2024-06-24T00:00:00.000000000",
          "2024-06-25T00:00:00.000000000",
          "2024-06-26T00:00:00.000000000",
          "2024-06-27T00:00:00.000000000",
          "2024-06-28T00:00:00.000000000",
          "2024-06-29T00:00:00.000000000",
          "2024-06-30T00:00:00.000000000",
          "2024-07-01T00:00:00.000000000",
          "2024-07-02T00:00:00.000000000",
          "2024-07-03T00:00:00.000000000",
          "2024-07-04T00:00:00.000000000",
          "2024-07-05T00:00:00.000000000",
          "2024-07-06T00:00:00.000000000",
          "2024-07-07T00:00:00.000000000",
          "2024-07-08T00:00:00.000000000",
          "2024-07-09T00:00:00.000000000",
          "2024-07-10T00:00:00.000000000",
          "2024-07-11T00:00:00.000000000",
          "2024-07-12T00:00:00.000000000",
          "2024-07-13T00:00:00.000000000",
          "2024-07-14T00:00:00.000000000",
          "2024-07-15T00:00:00.000000000",
          "2024-07-16T00:00:00.000000000",
          "2024-07-17T00:00:00.000000000",
          "2024-07-18T00:00:00.000000000",
          "2024-07-19T00:00:00.000000000",
          "2024-07-20T00:00:00.000000000",
          "2024-07-21T00:00:00.000000000",
          "2024-07-22T00:00:00.000000000",
          "2024-07-23T00:00:00.000000000",
          "2024-07-24T00:00:00.000000000",
          "2024-07-25T00:00:00.000000000",
          "2024-07-26T00:00:00.000000000",
          "2024-07-27T00:00:00.000000000",
          "2024-07-28T00:00:00.000000000",
          "2024-07-29T00:00:00.000000000",
          "2024-07-30T00:00:00.000000000",
          "2024-07-31T00:00:00.000000000",
          "2024-08-01T00:00:00.000000000",
          "2024-08-02T00:00:00.000000000",
          "2024-08-03T00:00:00.000000000",
          "2024-08-04T00:00:00.000000000",
          "2024-08-05T00:00:00.000000000",
          "2024-08-06T00:00:00.000000000",
          "2024-08-07T00:00:00.000000000",
          "2024-08-08T00:00:00.000000000",
          "2024-08-09T00:00:00.000000000",
          "2024-08-10T00:00:00.000000000",
          "2024-08-11T00:00:00.000000000",
          "2024-08-12T00:00:00.000000000",
          "2024-08-13T00:00:00.000000000",
          "2024-08-14T00:00:00.000000000",
          "2024-08-15T00:00:00.000000000",
          "2024-08-16T00:00:00.000000000",
          "2024-08-17T00:00:00.000000000",
          "2024-08-18T00:00:00.000000000",
          "2024-08-19T00:00:00.000000000",
          "2024-08-20T00:00:00.000000000",
          "2024-08-21T00:00:00.000000000",
          "2024-08-22T00:00:00.000000000",
          "2024-08-23T00:00:00.000000000",
          "2024-08-24T00:00:00.000000000",
          "2024-08-25T00:00:00.000000000",
          "2024-08-26T00:00:00.000000000",
          "2024-08-27T00:00:00.000000000",
          "2024-08-28T00:00:00.000000000",
          "2024-08-29T00:00:00.000000000",
          "2024-08-30T00:00:00.000000000",
          "2024-08-31T00:00:00.000000000",
          "2024-09-01T00:00:00.000000000",
          "2024-09-02T00:00:00.000000000",
          "2024-09-03T00:00:00.000000000",
          "2024-09-04T00:00:00.000000000",
          "2024-09-05T00:00:00.000000000",
          "2024-09-06T00:00:00.000000000",
          "2024-09-07T00:00:00.000000000",
          "2024-09-08T00:00:00.000000000",
          "2024-09-09T00:00:00.000000000",
          "2024-09-10T00:00:00.000000000",
          "2024-09-11T00:00:00.000000000",
          "2024-09-12T00:00:00.000000000",
          "2024-09-13T00:00:00.000000000",
          "2024-09-14T00:00:00.000000000",
          "2024-09-15T00:00:00.000000000",
          "2024-09-16T00:00:00.000000000",
          "2024-09-17T00:00:00.000000000",
          "2024-09-18T00:00:00.000000000",
          "2024-09-19T00:00:00.000000000",
          "2024-09-20T00:00:00.000000000",
          "2024-09-21T00:00:00.000000000",
          "2024-09-22T00:00:00.000000000",
          "2024-09-23T00:00:00.000000000",
          "2024-09-24T00:00:00.000000000",
          "2024-09-25T00:00:00.000000000",
          "2024-09-26T00:00:00.000000000",
          "2024-09-27T00:00:00.000000000",
          "2024-09-28T00:00:00.000000000",
          "2024-09-29T00:00:00.000000000",
          "2024-09-30T00:00:00.000000000",
          "2024-10-01T00:00:00.000000000",
          "2024-10-02T00:00:00.000000000",
          "2024-10-03T00:00:00.000000000",
          "2024-10-04T00:00:00.000000000",
          "2024-10-05T00:00:00.000000000",
          "2024-10-06T00:00:00.000000000",
          "2024-10-07T00:00:00.000000000",
          "2024-10-08T00:00:00.000000000",
          "2024-10-09T00:00:00.000000000",
          "2024-10-10T00:00:00.000000000",
          "2024-10-11T00:00:00.000000000",
          "2024-10-12T00:00:00.000000000",
          "2024-10-13T00:00:00.000000000",
          "2024-10-14T00:00:00.000000000",
          "2024-10-15T00:00:00.000000000",
          "2024-10-16T00:00:00.000000000",
          "2024-10-17T00:00:00.000000000",
          "2024-10-18T00:00:00.000000000",
          "2024-10-19T00:00:00.000000000",
          "2024-10-20T00:00:00.000000000",
          "2024-10-21T00:00:00.000000000",
          "2024-10-22T00:00:00.000000000",
          "2024-10-23T00:00:00.000000000",
          "2024-10-24T00:00:00.000000000",
          "2024-10-25T00:00:00.000000000",
          "2024-10-26T00:00:00.000000000",
          "2024-10-27T00:00:00.000000000",
          "2024-10-28T00:00:00.000000000",
          "2024-10-29T00:00:00.000000000",
          "2024-10-30T00:00:00.000000000",
          "2024-10-31T00:00:00.000000000",
          "2024-11-01T00:00:00.000000000",
          "2024-11-02T00:00:00.000000000",
          "2024-11-03T00:00:00.000000000",
          "2024-11-04T00:00:00.000000000",
          "2024-11-05T00:00:00.000000000",
          "2024-11-06T00:00:00.000000000",
          "2024-11-07T00:00:00.000000000",
          "2024-11-08T00:00:00.000000000",
          "2024-11-09T00:00:00.000000000",
          "2024-11-10T00:00:00.000000000",
          "2024-11-11T00:00:00.000000000",
          "2024-11-12T00:00:00.000000000",
          "2024-11-13T00:00:00.000000000",
          "2024-11-14T00:00:00.000000000",
          "2024-11-15T00:00:00.000000000",
          "2024-11-16T00:00:00.000000000",
          "2024-11-17T00:00:00.000000000",
          "2024-11-18T00:00:00.000000000",
          "2024-11-19T00:00:00.000000000",
          "2024-11-20T00:00:00.000000000",
          "2024-11-21T00:00:00.000000000",
          "2024-11-22T00:00:00.000000000",
          "2024-11-23T00:00:00.000000000",
          "2024-11-24T00:00:00.000000000",
          "2024-11-25T00:00:00.000000000",
          "2024-11-26T00:00:00.000000000",
          "2024-11-27T00:00:00.000000000",
          "2024-11-28T00:00:00.000000000",
          "2024-11-29T00:00:00.000000000",
          "2024-11-30T00:00:00.000000000",
          "2024-12-01T00:00:00.000000000",
          "2024-12-02T00:00:00.000000000",
          "2024-12-03T00:00:00.000000000",
          "2024-12-04T00:00:00.000000000",
          "2024-12-05T00:00:00.000000000",
          "2024-12-06T00:00:00.000000000",
          "2024-12-07T00:00:00.000000000",
          "2024-12-08T00:00:00.000000000",
          "2024-12-09T00:00:00.000000000",
          "2024-12-10T00:00:00.000000000",
          "2024-12-11T00:00:00.000000000",
          "2024-12-12T00:00:00.000000000",
          "2024-12-13T00:00:00.000000000",
          "2024-12-14T00:00:00.000000000",
          "2024-12-15T00:00:00.000000000",
          "2024-12-16T00:00:00.000000000",
          "2024-12-17T00:00:00.000000000",
          "2024-12-18T00:00:00.000000000",
          "2024-12-19T00:00:00.000000000",
          "2024-12-20T00:00:00.000000000",
          "2024-12-21T00:00:00.000000000",
          "2024-12-22T00:00:00.000000000",
          "2024-12-23T00:00:00.000000000",
          "2024-12-24T00:00:00.000000000",
          "2024-12-25T00:00:00.000000000",
          "2024-12-26T00:00:00.000000000",
          "2024-12-27T00:00:00.000000000",
          "2024-12-28T00:00:00.000000000",
          "2024-12-29T00:00:00.000000000",
          "2024-12-30T00:00:00.000000000",
          "2024-12-31T00:00:00.000000000",
          "2025-01-01T00:00:00.000000000",
          "2025-01-02T00:00:00.000000000",
          "2025-01-03T00:00:00.000000000",
          "2025-01-04T00:00:00.000000000",
          "2025-01-05T00:00:00.000000000",
          "2025-01-06T00:00:00.000000000",
          "2025-01-07T00:00:00.000000000",
          "2025-01-08T00:00:00.000000000",
          "2025-01-09T00:00:00.000000000",
          "2025-01-10T00:00:00.000000000",
          "2025-01-11T00:00:00.000000000",
          "2025-01-12T00:00:00.000000000",
          "2025-01-13T00:00:00.000000000",
          "2025-01-14T00:00:00.000000000",
          "2025-01-15T00:00:00.000000000",
          "2025-01-16T00:00:00.000000000",
          "2025-01-17T00:00:00.000000000",
          "2025-01-18T00:00:00.000000000",
          "2025-01-19T00:00:00.000000000",
          "2025-01-20T00:00:00.000000000",
          "2025-01-21T00:00:00.000000000",
          "2025-01-22T00:00:00.000000000",
          "2025-01-23T00:00:00.000000000",
          "2025-01-24T00:00:00.000000000",
          "2025-01-25T00:00:00.000000000",
          "2025-01-26T00:00:00.000000000",
          "2025-01-27T00:00:00.000000000",
          "2025-01-28T00:00:00.000000000",
          "2025-01-29T00:00:00.000000000",
          "2025-01-30T00:00:00.000000000",
          "2025-01-31T00:00:00.000000000",
          "2025-02-01T00:00:00.000000000",
          "2025-02-02T00:00:00.000000000",
          "2025-02-03T00:00:00.000000000",
          "2025-02-04T00:00:00.000000000",
          "2025-02-05T00:00:00.000000000",
          "2025-02-06T00:00:00.000000000",
          "2025-02-07T00:00:00.000000000",
          "2025-02-08T00:00:00.000000000",
          "2025-02-09T00:00:00.000000000",
          "2025-02-10T00:00:00.000000000",
          "2025-02-11T00:00:00.000000000",
          "2025-02-12T00:00:00.000000000",
          "2025-02-13T00:00:00.000000000",
          "2025-02-14T00:00:00.000000000",
          "2025-02-15T00:00:00.000000000",
          "2025-02-16T00:00:00.000000000",
          "2025-02-17T00:00:00.000000000",
          "2025-02-18T00:00:00.000000000",
          "2025-02-19T00:00:00.000000000",
          "2025-02-20T00:00:00.000000000",
          "2025-02-21T00:00:00.000000000",
          "2025-02-22T00:00:00.000000000",
          "2025-02-23T00:00:00.000000000",
          "2025-02-24T00:00:00.000000000",
          "2025-02-25T00:00:00.000000000",
          "2025-02-26T00:00:00.000000000",
          "2025-02-27T00:00:00.000000000",
          "2025-02-28T00:00:00.000000000",
          "2025-03-01T00:00:00.000000000",
          "2025-03-02T00:00:00.000000000",
          "2025-03-03T00:00:00.000000000",
          "2025-03-04T00:00:00.000000000",
          "2025-03-05T00:00:00.000000000",
          "2025-03-06T00:00:00.000000000",
          "2025-03-07T00:00:00.000000000",
          "2025-03-08T00:00:00.000000000",
          "2025-03-09T00:00:00.000000000",
          "2025-03-10T00:00:00.000000000",
          "2025-03-11T00:00:00.000000000",
          "2025-03-12T00:00:00.000000000",
          "2025-03-13T00:00:00.000000000",
          "2025-03-14T00:00:00.000000000",
          "2025-03-15T00:00:00.000000000",
          "2025-03-16T00:00:00.000000000",
          "2025-03-17T00:00:00.000000000",
          "2025-03-18T00:00:00.000000000",
          "2025-03-19T00:00:00.000000000",
          "2025-03-20T00:00:00.000000000",
          "2025-03-21T00:00:00.000000000",
          "2025-03-22T00:00:00.000000000",
          "2025-03-23T00:00:00.000000000",
          "2025-03-24T00:00:00.000000000",
          "2025-03-25T00:00:00.000000000",
          "2025-03-26T00:00:00.000000000",
          "2025-03-27T00:00:00.000000000",
          "2025-03-28T00:00:00.000000000",
          "2025-03-29T00:00:00.000000000",
          "2025-03-30T00:00:00.000000000",
          "2025-03-31T00:00:00.000000000",
          "2025-04-01T00:00:00.000000000",
          "2025-04-02T00:00:00.000000000",
          "2025-04-03T00:00:00.000000000",
          "2025-04-04T00:00:00.000000000",
          "2025-04-05T00:00:00.000000000",
          "2025-04-06T00:00:00.000000000",
          "2025-04-07T00:00:00.000000000",
          "2025-04-08T00:00:00.000000000",
          "2025-04-09T00:00:00.000000000",
          "2025-04-10T00:00:00.000000000",
          "2025-04-11T00:00:00.000000000",
          "2025-04-12T00:00:00.000000000",
          "2025-04-13T00:00:00.000000000",
          "2025-04-14T00:00:00.000000000",
          "2025-04-15T00:00:00.000000000"
         ],
         "xaxis": "x",
         "y": {
          "bdata": "4XpUo25ZwEE9ChfRPBK+QXsUThLi+8RBpHD9U5+cuEGF6xEe5SS3QT0K92OhwcJBUrieQINyvUGF6zFsDWbAQWZm5mucwrxBMzOzY1optUFI4Tq7/jOzQexReFnV07BBzcwMxtgys0E9CpdgbB7AQaRw/ftvQb9BzcwMjxNutEE9ChdPTFC0Qa5HYWk1vKxB16PwLO8Mq0F7FG7QOsu1QUjh+rkzr7JB7FF4VP4Os0E9Chfnos+zQSlcz4l5/rJB7FE4o1+aqkFxPQpv1GmnQVK43lNPTrRBcT0KuqqAs0FSuJ4dYQa4QYXrEUxw3LNBj8J1gZLLsEH2KFwXP6ioQT0KV+sqXqxB7FG43JSnwEEUriewzPHDQVK4PrZYB8BB7FE4c3EFxEGF6xH/ERK2QeF6FFRm36pBPQpXPs2QrEFI4TpZPTizQfYo3PjGhbVBFK5HFWHTskFI4XpTIrewQXE9CjwMX69B9ihczvB9o0FI4Xr5/76rQcP1KELzRLlBXI9CNbcFwEEpXA91gLnIQexRWEr8KcBBH4Wr/DomwUE9Clc6Kg6xQQAAAAnypqtBKVwPsgHouEEpXE/JcN6+QY/CtZKdubtBPQpXyWXHuEGPwjXWbDK1Qdej8AgzB6xBj8J1WiULp0EK16PZKAm2QYXr0aSktrtBrkfh3a3DtEEzM7OtN+SzQSlcjzreJrFBMzOz5+aUpUHhepS1S5SsQc3MTHx7hLpBXI/CPohCsUFcj0K7HdStQQrXY4+/87BBXI+CU4QcsUG4HoVdH5ejQUjh+kODzKtB9ijc4R/ErkG4HoVNQBavQbgehUsQiLNBcT1KNfpAvEF7FA6cMJbDQa5HYS889q9BFK4HUWhKsUE9Cheh+ke+QbgeBYxyh7BBFK5HTqytrkG4HoVzd9CzQeF6lL7nG69BexSuJyFVp0FI4fp2HJ+qQc3MzMRFSrlBj8J1mkKyvEEUrgfRwyG0QY/CNcE7ELFBFK4HcVDntUHXo3DMjluvQexR+GggR7JB9ijcvFeOt0HsUTjwqES6QXsULknUALFBMzOzY6zMtkGF69FsKyOuQZqZ2emnvbFBCtcjQJwgpEEpXI/6neKyQT0KV5ynv7BB4XrUCu2zskFmZqZMfwC5QXE9it07aLlBmplZ5qdot0Efhasza1S7QeF61GRDPdVBmplZluBIvkFcj0I21Ee7QR+Fa07xzrlBFK6HRu5ks0EzM7PKpnynQdejcO4OI7BBXI/CMLgxtUGamZkOBV6xQRSuR9AsyLFBZmamH/Z9s0G4HsUywfOxQY/CdXAfuapBSOE6yQQKsEHNzAz3vQWxQR+FK04EmbpBPQpXs5SVu0EzM7PtpE/HQZqZWaBarcJBpHC9cacguUHhetQgAimzQRSux5u0nrhBj8L1kc6zvUFxPYpnrzC5QcP16CWWYLZB7FH48wKbtkFI4frHda2rQUjhuh2f0rJBhesRRKVwtEHhetT6Dxy0QY/CNZtmcbdBexSuHz10tEGF65H0rPm6QQrX436CdbFB7FE4nqlmrEGamdma41a2QcP1aFLAxLVBFK7HLVIZuUFI4frDEz64QY/CNUj3wLZB16NwbFK8rUFcjwKMgvOyQXsULgY1f71BXI9COaZ9tEFSuN5koxq5QaRwPcsnWb9Bj8J14qilvUGkcH2v1/u1QQrXo0btQbZB16MwiUp8wUEK12Nzx6e9QY/CtX5cJ71BUrg+k10KwEGPwtU3OxHGQYXrUTyQSLtBuB7FStZauUHhevTNelbAQY/C1f1F1cVB16MwYFbsv0GPwrX4zn+7Qa5HoTk3LbhB7FH4zizus0FSuF57rPexQQAAwJH3tL5Bj8I1nojkvUEAAMD344u8QeF6lObK97hBmpmZQXOSt0GPwjXUawqzQexReIz3/7BBKVyPaZM7vUG4HoVqZ6XBQdejsJvJkr5BuB4F7Ii7uEHXozB6qXy3QY/CNQ6iaLFB9iicnpM7s0HherQTNQTBQY/CtUqH7LtBuB5FHwKTwUH2KNxn99S3QWZmpgxUJ71BXI9CjBEmtEFSuB4T2O2tQQrXY91RnLhBmpmZY3l4vUGuRyFhAN64QcP16FhBSb1BmpmZoYdtukEzM7Oyi3exQR+F6wenq7RBzczMnmGxuEHNzEzD0QC3QdejEBG5NslBzczs8DmqwUFSuF7AXe2+QY/CtfPcmcBBmpl5FBRcykHsUZiemy/PQSlcv9l95dJBw/UIL9th0EFSuD70bLnRQa5HgbKpSclBZmbmYAqJxEFxPUpjboLGQWZmxtK6CMdBAACA+bEBxEEK18PN1s/EQXE9Ss5ubMlBhevRBzRzx0GamdkqwjLNQbgeBa7rWMxBPQrnk6Bg0UEAAOCu5xDQQa5HoQj2ZspBZmYG7JGwxkGkcF2uI1jCQT0Kt/5Ki8NBCtfDLOvTwUGuR2HQQq/MQZqZifDbaNBBKVwfvY8n2UHNzLxFLO7SQRSupxiPMMZBpHD9vmtRw0FI4fqoOabBQYXrQTzbtNFBCtdjYIWG0UEUrqfiUS/GQXsULud/IsxBPQr3pNjmwkHsUfhuCpm/QR+F69V19L1BPQoX1PojykGF63H4SfbGQXsULsep5c5BXI9imrK/zEEUrqftZ5/MQbgepftAZMFBKVxPoVPCvUFSuD7RzVrDQfYo3FjjSb5B16PwCpcFukGamRllEmbAQT0K1+edtr1BzcwM5sctuUGPwrXk69y8QTMz04LXn8FBUrieZt+5wEHD9ag0u+O1QTMzsyR5679BcT0KYS9jv0HD9Whmyje6QeF6VG3or7VBSOFalndpwEHD9SjIGoXDQexR+Fi8/MJBexSOaacxwEHNzMwfCnDDQYXrkWxNqrNBexQusXnat0HD9ciyVhbCQYXr0TTFDLpB4Xo0V+KkwEFI4dp1Cu3AQexRuM67+MRBzcxMXurNx0EzMxNTDAvQQVK4nu35SdJBpHCdzq0ay0GF6/F2DubEQexROLxtwstBMzMzBQYMwkEpXE/mukq6QfYonH2/67hBSOHa5dHWxEGuRyH944DAQYXrsRrTccBB7FE4MtymukGamTnWoiTAQbgexZSFFbhBMzNTGQLOxUEUrldk0JrTQcP1yDqN+sVBXI8CpS8swEGF67HgG7fFQZqZebLOdcNBw/WIHJxj0kG4HiWLMTTgQfYoHEeQxM5BH4VrS0D5z0FI4ZprS6LVQfYoTCmGFuVBmpkRJ5oL4EEK16O2FovRQSlcf6cwXdBB9ihc+5K+zEF7FF6ntYrRQSlcX399HNFBrkfB7zi6yUEUruc67T7OQT0Kl5JMcMdBuB5Ft8vMwUE9Cnf+ZZ7JQT0KF9x95cxBMzPzEfLRykF7FK690DfDQZqZGdhEBclBPQo30tjTxEGPwjUBkDrOQWZm5kwRF8pBMzOTiN29yEEzM7OcCyfCQcP16GzUQcNBAAAgqDRLxEGkcN3t9NzAQcP1qPiXMbdB16PQP0OgxUFxPao5BzfIQcP1CJrfWsFBXI8i5B+twkGamRm/FPe+QVK4PsKrf8JBuB6FfAf5xkEpXF/9NNjSQVK4XrR2mdRBFK6nmdNI1EFcj4K47wfPQRSuBxvpHNBBw/XIb491x0EAAABYQH29QeF6dHwbDMRBj8IVO5FYwkFI4foYqoi/QRSuJzzdxc5BAAAADNL1ukG4HkUAq2K5QfYo3J1/57ZBKVyPESxBvEFmZqaZaUi+QexRuGViU8FBexSuy1ovv0FmZmagudW5QdejsEa6QrFBMzMzRw12ukFcjwJOIbvFQa5HIeOqO7hB7FE4URPbwUEfhWusJGK6QTMzc/B9hrlBPQpXvqwKu0FxPQqI9ji8QT0KF01Vbb9B16Mw6uRdv0E=",
          "dtype": "f8"
         },
         "yaxis": "y"
        },
        {
         "marker": {
          "color": "#87004f"
         },
         "name": "arbitrum ($403.4M)",
         "showlegend": true,
         "textposition": "auto",
         "type": "bar",
         "x": [
          "2024-04-17T00:00:00.000000000",
          "2024-04-18T00:00:00.000000000",
          "2024-04-19T00:00:00.000000000",
          "2024-04-20T00:00:00.000000000",
          "2024-04-21T00:00:00.000000000",
          "2024-04-22T00:00:00.000000000",
          "2024-04-23T00:00:00.000000000",
          "2024-04-24T00:00:00.000000000",
          "2024-04-25T00:00:00.000000000",
          "2024-04-26T00:00:00.000000000",
          "2024-04-27T00:00:00.000000000",
          "2024-04-28T00:00:00.000000000",
          "2024-04-29T00:00:00.000000000",
          "2024-04-30T00:00:00.000000000",
          "2024-05-01T00:00:00.000000000",
          "2024-05-02T00:00:00.000000000",
          "2024-05-03T00:00:00.000000000",
          "2024-05-04T00:00:00.000000000",
          "2024-05-05T00:00:00.000000000",
          "2024-05-06T00:00:00.000000000",
          "2024-05-07T00:00:00.000000000",
          "2024-05-08T00:00:00.000000000",
          "2024-05-09T00:00:00.000000000",
          "2024-05-10T00:00:00.000000000",
          "2024-05-11T00:00:00.000000000",
          "2024-05-12T00:00:00.000000000",
          "2024-05-13T00:00:00.000000000",
          "2024-05-14T00:00:00.000000000",
          "2024-05-15T00:00:00.000000000",
          "2024-05-16T00:00:00.000000000",
          "2024-05-17T00:00:00.000000000",
          "2024-05-18T00:00:00.000000000",
          "2024-05-19T00:00:00.000000000",
          "2024-05-20T00:00:00.000000000",
          "2024-05-21T00:00:00.000000000",
          "2024-05-22T00:00:00.000000000",
          "2024-05-23T00:00:00.000000000",
          "2024-05-24T00:00:00.000000000",
          "2024-05-25T00:00:00.000000000",
          "2024-05-26T00:00:00.000000000",
          "2024-05-27T00:00:00.000000000",
          "2024-05-28T00:00:00.000000000",
          "2024-05-29T00:00:00.000000000",
          "2024-05-30T00:00:00.000000000",
          "2024-05-31T00:00:00.000000000",
          "2024-06-01T00:00:00.000000000",
          "2024-06-02T00:00:00.000000000",
          "2024-06-03T00:00:00.000000000",
          "2024-06-04T00:00:00.000000000",
          "2024-06-05T00:00:00.000000000",
          "2024-06-06T00:00:00.000000000",
          "2024-06-07T00:00:00.000000000",
          "2024-06-08T00:00:00.000000000",
          "2024-06-09T00:00:00.000000000",
          "2024-06-10T00:00:00.000000000",
          "2024-06-11T00:00:00.000000000",
          "2024-06-12T00:00:00.000000000",
          "2024-06-13T00:00:00.000000000",
          "2024-06-14T00:00:00.000000000",
          "2024-06-15T00:00:00.000000000",
          "2024-06-16T00:00:00.000000000",
          "2024-06-17T00:00:00.000000000",
          "2024-06-18T00:00:00.000000000",
          "2024-06-19T00:00:00.000000000",
          "2024-06-20T00:00:00.000000000",
          "2024-06-21T00:00:00.000000000",
          "2024-06-22T00:00:00.000000000",
          "2024-06-23T00:00:00.000000000",
          "2024-06-24T00:00:00.000000000",
          "2024-06-25T00:00:00.000000000",
          "2024-06-26T00:00:00.000000000",
          "2024-06-27T00:00:00.000000000",
          "2024-06-28T00:00:00.000000000",
          "2024-06-29T00:00:00.000000000",
          "2024-06-30T00:00:00.000000000",
          "2024-07-01T00:00:00.000000000",
          "2024-07-02T00:00:00.000000000",
          "2024-07-03T00:00:00.000000000",
          "2024-07-04T00:00:00.000000000",
          "2024-07-05T00:00:00.000000000",
          "2024-07-06T00:00:00.000000000",
          "2024-07-07T00:00:00.000000000",
          "2024-07-08T00:00:00.000000000",
          "2024-07-09T00:00:00.000000000",
          "2024-07-10T00:00:00.000000000",
          "2024-07-11T00:00:00.000000000",
          "2024-07-12T00:00:00.000000000",
          "2024-07-13T00:00:00.000000000",
          "2024-07-14T00:00:00.000000000",
          "2024-07-15T00:00:00.000000000",
          "2024-07-16T00:00:00.000000000",
          "2024-07-17T00:00:00.000000000",
          "2024-07-18T00:00:00.000000000",
          "2024-07-19T00:00:00.000000000",
          "2024-07-20T00:00:00.000000000",
          "2024-07-21T00:00:00.000000000",
          "2024-07-22T00:00:00.000000000",
          "2024-07-23T00:00:00.000000000",
          "2024-07-24T00:00:00.000000000",
          "2024-07-25T00:00:00.000000000",
          "2024-07-26T00:00:00.000000000",
          "2024-07-27T00:00:00.000000000",
          "2024-07-28T00:00:00.000000000",
          "2024-07-29T00:00:00.000000000",
          "2024-07-30T00:00:00.000000000",
          "2024-07-31T00:00:00.000000000",
          "2024-08-01T00:00:00.000000000",
          "2024-08-02T00:00:00.000000000",
          "2024-08-03T00:00:00.000000000",
          "2024-08-04T00:00:00.000000000",
          "2024-08-05T00:00:00.000000000",
          "2024-08-06T00:00:00.000000000",
          "2024-08-07T00:00:00.000000000",
          "2024-08-08T00:00:00.000000000",
          "2024-08-09T00:00:00.000000000",
          "2024-08-10T00:00:00.000000000",
          "2024-08-11T00:00:00.000000000",
          "2024-08-12T00:00:00.000000000",
          "2024-08-13T00:00:00.000000000",
          "2024-08-14T00:00:00.000000000",
          "2024-08-15T00:00:00.000000000",
          "2024-08-16T00:00:00.000000000",
          "2024-08-17T00:00:00.000000000",
          "2024-08-18T00:00:00.000000000",
          "2024-08-19T00:00:00.000000000",
          "2024-08-20T00:00:00.000000000",
          "2024-08-21T00:00:00.000000000",
          "2024-08-22T00:00:00.000000000",
          "2024-08-23T00:00:00.000000000",
          "2024-08-24T00:00:00.000000000",
          "2024-08-25T00:00:00.000000000",
          "2024-08-26T00:00:00.000000000",
          "2024-08-27T00:00:00.000000000",
          "2024-08-28T00:00:00.000000000",
          "2024-08-29T00:00:00.000000000",
          "2024-08-30T00:00:00.000000000",
          "2024-08-31T00:00:00.000000000",
          "2024-09-01T00:00:00.000000000",
          "2024-09-02T00:00:00.000000000",
          "2024-09-03T00:00:00.000000000",
          "2024-09-04T00:00:00.000000000",
          "2024-09-05T00:00:00.000000000",
          "2024-09-06T00:00:00.000000000",
          "2024-09-07T00:00:00.000000000",
          "2024-09-08T00:00:00.000000000",
          "2024-09-09T00:00:00.000000000",
          "2024-09-10T00:00:00.000000000",
          "2024-09-11T00:00:00.000000000",
          "2024-09-12T00:00:00.000000000",
          "2024-09-13T00:00:00.000000000",
          "2024-09-14T00:00:00.000000000",
          "2024-09-15T00:00:00.000000000",
          "2024-09-16T00:00:00.000000000",
          "2024-09-17T00:00:00.000000000",
          "2024-09-18T00:00:00.000000000",
          "2024-09-19T00:00:00.000000000",
          "2024-09-20T00:00:00.000000000",
          "2024-09-21T00:00:00.000000000",
          "2024-09-22T00:00:00.000000000",
          "2024-09-23T00:00:00.000000000",
          "2024-09-24T00:00:00.000000000",
          "2024-09-25T00:00:00.000000000",
          "2024-09-26T00:00:00.000000000",
          "2024-09-27T00:00:00.000000000",
          "2024-09-28T00:00:00.000000000",
          "2024-09-29T00:00:00.000000000",
          "2024-09-30T00:00:00.000000000",
          "2024-10-01T00:00:00.000000000",
          "2024-10-02T00:00:00.000000000",
          "2024-10-03T00:00:00.000000000",
          "2024-10-04T00:00:00.000000000",
          "2024-10-05T00:00:00.000000000",
          "2024-10-06T00:00:00.000000000",
          "2024-10-07T00:00:00.000000000",
          "2024-10-08T00:00:00.000000000",
          "2024-10-09T00:00:00.000000000",
          "2024-10-10T00:00:00.000000000",
          "2024-10-11T00:00:00.000000000",
          "2024-10-12T00:00:00.000000000",
          "2024-10-13T00:00:00.000000000",
          "2024-10-14T00:00:00.000000000",
          "2024-10-15T00:00:00.000000000",
          "2024-10-16T00:00:00.000000000",
          "2024-10-17T00:00:00.000000000",
          "2024-10-18T00:00:00.000000000",
          "2024-10-19T00:00:00.000000000",
          "2024-10-20T00:00:00.000000000",
          "2024-10-21T00:00:00.000000000",
          "2024-10-22T00:00:00.000000000",
          "2024-10-23T00:00:00.000000000",
          "2024-10-24T00:00:00.000000000",
          "2024-10-25T00:00:00.000000000",
          "2024-10-26T00:00:00.000000000",
          "2024-10-27T00:00:00.000000000",
          "2024-10-28T00:00:00.000000000",
          "2024-10-29T00:00:00.000000000",
          "2024-10-30T00:00:00.000000000",
          "2024-10-31T00:00:00.000000000",
          "2024-11-01T00:00:00.000000000",
          "2024-11-02T00:00:00.000000000",
          "2024-11-03T00:00:00.000000000",
          "2024-11-04T00:00:00.000000000",
          "2024-11-05T00:00:00.000000000",
          "2024-11-06T00:00:00.000000000",
          "2024-11-07T00:00:00.000000000",
          "2024-11-08T00:00:00.000000000",
          "2024-11-09T00:00:00.000000000",
          "2024-11-10T00:00:00.000000000",
          "2024-11-11T00:00:00.000000000",
          "2024-11-12T00:00:00.000000000",
          "2024-11-13T00:00:00.000000000",
          "2024-11-14T00:00:00.000000000",
          "2024-11-15T00:00:00.000000000",
          "2024-11-16T00:00:00.000000000",
          "2024-11-17T00:00:00.000000000",
          "2024-11-18T00:00:00.000000000",
          "2024-11-19T00:00:00.000000000",
          "2024-11-20T00:00:00.000000000",
          "2024-11-21T00:00:00.000000000",
          "2024-11-22T00:00:00.000000000",
          "2024-11-23T00:00:00.000000000",
          "2024-11-24T00:00:00.000000000",
          "2024-11-25T00:00:00.000000000",
          "2024-11-26T00:00:00.000000000",
          "2024-11-27T00:00:00.000000000",
          "2024-11-28T00:00:00.000000000",
          "2024-11-29T00:00:00.000000000",
          "2024-11-30T00:00:00.000000000",
          "2024-12-01T00:00:00.000000000",
          "2024-12-02T00:00:00.000000000",
          "2024-12-03T00:00:00.000000000",
          "2024-12-04T00:00:00.000000000",
          "2024-12-05T00:00:00.000000000",
          "2024-12-06T00:00:00.000000000",
          "2024-12-07T00:00:00.000000000",
          "2024-12-08T00:00:00.000000000",
          "2024-12-09T00:00:00.000000000",
          "2024-12-10T00:00:00.000000000",
          "2024-12-11T00:00:00.000000000",
          "2024-12-12T00:00:00.000000000",
          "2024-12-13T00:00:00.000000000",
          "2024-12-14T00:00:00.000000000",
          "2024-12-15T00:00:00.000000000",
          "2024-12-16T00:00:00.000000000",
          "2024-12-17T00:00:00.000000000",
          "2024-12-18T00:00:00.000000000",
          "2024-12-19T00:00:00.000000000",
          "2024-12-20T00:00:00.000000000",
          "2024-12-21T00:00:00.000000000",
          "2024-12-22T00:00:00.000000000",
          "2024-12-23T00:00:00.000000000",
          "2024-12-24T00:00:00.000000000",
          "2024-12-25T00:00:00.000000000",
          "2024-12-26T00:00:00.000000000",
          "2024-12-27T00:00:00.000000000",
          "2024-12-28T00:00:00.000000000",
          "2024-12-29T00:00:00.000000000",
          "2024-12-30T00:00:00.000000000",
          "2024-12-31T00:00:00.000000000",
          "2025-01-01T00:00:00.000000000",
          "2025-01-02T00:00:00.000000000",
          "2025-01-03T00:00:00.000000000",
          "2025-01-04T00:00:00.000000000",
          "2025-01-05T00:00:00.000000000",
          "2025-01-06T00:00:00.000000000",
          "2025-01-07T00:00:00.000000000",
          "2025-01-08T00:00:00.000000000",
          "2025-01-09T00:00:00.000000000",
          "2025-01-10T00:00:00.000000000",
          "2025-01-11T00:00:00.000000000",
          "2025-01-12T00:00:00.000000000",
          "2025-01-13T00:00:00.000000000",
          "2025-01-14T00:00:00.000000000",
          "2025-01-15T00:00:00.000000000",
          "2025-01-16T00:00:00.000000000",
          "2025-01-17T00:00:00.000000000",
          "2025-01-18T00:00:00.000000000",
          "2025-01-19T00:00:00.000000000",
          "2025-01-20T00:00:00.000000000",
          "2025-01-21T00:00:00.000000000",
          "2025-01-22T00:00:00.000000000",
          "2025-01-23T00:00:00.000000000",
          "2025-01-24T00:00:00.000000000",
          "2025-01-25T00:00:00.000000000",
          "2025-01-26T00:00:00.000000000",
          "2025-01-27T00:00:00.000000000",
          "2025-01-28T00:00:00.000000000",
          "2025-01-29T00:00:00.000000000",
          "2025-01-30T00:00:00.000000000",
          "2025-01-31T00:00:00.000000000",
          "2025-02-01T00:00:00.000000000",
          "2025-02-02T00:00:00.000000000",
          "2025-02-03T00:00:00.000000000",
          "2025-02-04T00:00:00.000000000",
          "2025-02-05T00:00:00.000000000",
          "2025-02-06T00:00:00.000000000",
          "2025-02-07T00:00:00.000000000",
          "2025-02-08T00:00:00.000000000",
          "2025-02-09T00:00:00.000000000",
          "2025-02-10T00:00:00.000000000",
          "2025-02-11T00:00:00.000000000",
          "2025-02-12T00:00:00.000000000",
          "2025-02-13T00:00:00.000000000",
          "2025-02-14T00:00:00.000000000",
          "2025-02-15T00:00:00.000000000",
          "2025-02-16T00:00:00.000000000",
          "2025-02-17T00:00:00.000000000",
          "2025-02-18T00:00:00.000000000",
          "2025-02-19T00:00:00.000000000",
          "2025-02-20T00:00:00.000000000",
          "2025-02-21T00:00:00.000000000",
          "2025-02-22T00:00:00.000000000",
          "2025-02-23T00:00:00.000000000",
          "2025-02-24T00:00:00.000000000",
          "2025-02-25T00:00:00.000000000",
          "2025-02-26T00:00:00.000000000",
          "2025-02-27T00:00:00.000000000",
          "2025-02-28T00:00:00.000000000",
          "2025-03-01T00:00:00.000000000",
          "2025-03-02T00:00:00.000000000",
          "2025-03-03T00:00:00.000000000",
          "2025-03-04T00:00:00.000000000",
          "2025-03-05T00:00:00.000000000",
          "2025-03-06T00:00:00.000000000",
          "2025-03-07T00:00:00.000000000",
          "2025-03-08T00:00:00.000000000",
          "2025-03-09T00:00:00.000000000",
          "2025-03-10T00:00:00.000000000",
          "2025-03-11T00:00:00.000000000",
          "2025-03-12T00:00:00.000000000",
          "2025-03-13T00:00:00.000000000",
          "2025-03-14T00:00:00.000000000",
          "2025-03-15T00:00:00.000000000",
          "2025-03-16T00:00:00.000000000",
          "2025-03-17T00:00:00.000000000",
          "2025-03-18T00:00:00.000000000",
          "2025-03-19T00:00:00.000000000",
          "2025-03-20T00:00:00.000000000",
          "2025-03-21T00:00:00.000000000",
          "2025-03-22T00:00:00.000000000",
          "2025-03-23T00:00:00.000000000",
          "2025-03-24T00:00:00.000000000",
          "2025-03-25T00:00:00.000000000",
          "2025-03-26T00:00:00.000000000",
          "2025-03-27T00:00:00.000000000",
          "2025-03-28T00:00:00.000000000",
          "2025-03-29T00:00:00.000000000",
          "2025-03-30T00:00:00.000000000",
          "2025-03-31T00:00:00.000000000",
          "2025-04-01T00:00:00.000000000",
          "2025-04-02T00:00:00.000000000",
          "2025-04-03T00:00:00.000000000",
          "2025-04-04T00:00:00.000000000",
          "2025-04-05T00:00:00.000000000",
          "2025-04-06T00:00:00.000000000",
          "2025-04-07T00:00:00.000000000",
          "2025-04-08T00:00:00.000000000",
          "2025-04-09T00:00:00.000000000",
          "2025-04-10T00:00:00.000000000",
          "2025-04-11T00:00:00.000000000",
          "2025-04-12T00:00:00.000000000",
          "2025-04-13T00:00:00.000000000",
          "2025-04-14T00:00:00.000000000",
          "2025-04-15T00:00:00.000000000"
         ],
         "xaxis": "x",
         "y": {
          "bdata": "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",
          "dtype": "f8"
         },
         "yaxis": "y"
        },
        {
         "marker": {
          "color": "#b3e8ef"
         },
         "name": "avalanche ($99.4M)",
         "showlegend": true,
         "textposition": "auto",
         "type": "bar",
         "x": [
          "2024-04-17T00:00:00.000000000",
          "2024-04-18T00:00:00.000000000",
          "2024-04-19T00:00:00.000000000",
          "2024-04-20T00:00:00.000000000",
          "2024-04-21T00:00:00.000000000",
          "2024-04-22T00:00:00.000000000",
          "2024-04-23T00:00:00.000000000",
          "2024-04-24T00:00:00.000000000",
          "2024-04-25T00:00:00.000000000",
          "2024-04-26T00:00:00.000000000",
          "2024-04-27T00:00:00.000000000",
          "2024-04-28T00:00:00.000000000",
          "2024-04-29T00:00:00.000000000",
          "2024-04-30T00:00:00.000000000",
          "2024-05-01T00:00:00.000000000",
          "2024-05-02T00:00:00.000000000",
          "2024-05-03T00:00:00.000000000",
          "2024-05-04T00:00:00.000000000",
          "2024-05-05T00:00:00.000000000",
          "2024-05-06T00:00:00.000000000",
          "2024-05-07T00:00:00.000000000",
          "2024-05-08T00:00:00.000000000",
          "2024-05-09T00:00:00.000000000",
          "2024-05-10T00:00:00.000000000",
          "2024-05-11T00:00:00.000000000",
          "2024-05-12T00:00:00.000000000",
          "2024-05-13T00:00:00.000000000",
          "2024-05-14T00:00:00.000000000",
          "2024-05-15T00:00:00.000000000",
          "2024-05-16T00:00:00.000000000",
          "2024-05-17T00:00:00.000000000",
          "2024-05-18T00:00:00.000000000",
          "2024-05-19T00:00:00.000000000",
          "2024-05-20T00:00:00.000000000",
          "2024-05-21T00:00:00.000000000",
          "2024-05-22T00:00:00.000000000",
          "2024-05-23T00:00:00.000000000",
          "2024-05-24T00:00:00.000000000",
          "2024-05-25T00:00:00.000000000",
          "2024-05-26T00:00:00.000000000",
          "2024-05-27T00:00:00.000000000",
          "2024-05-28T00:00:00.000000000",
          "2024-05-29T00:00:00.000000000",
          "2024-05-30T00:00:00.000000000",
          "2024-05-31T00:00:00.000000000",
          "2024-06-01T00:00:00.000000000",
          "2024-06-02T00:00:00.000000000",
          "2024-06-03T00:00:00.000000000",
          "2024-06-04T00:00:00.000000000",
          "2024-06-05T00:00:00.000000000",
          "2024-06-06T00:00:00.000000000",
          "2024-06-07T00:00:00.000000000",
          "2024-06-08T00:00:00.000000000",
          "2024-06-09T00:00:00.000000000",
          "2024-06-10T00:00:00.000000000",
          "2024-06-11T00:00:00.000000000",
          "2024-06-12T00:00:00.000000000",
          "2024-06-13T00:00:00.000000000",
          "2024-06-14T00:00:00.000000000",
          "2024-06-15T00:00:00.000000000",
          "2024-06-16T00:00:00.000000000",
          "2024-06-17T00:00:00.000000000",
          "2024-06-18T00:00:00.000000000",
          "2024-06-19T00:00:00.000000000",
          "2024-06-20T00:00:00.000000000",
          "2024-06-21T00:00:00.000000000",
          "2024-06-22T00:00:00.000000000",
          "2024-06-23T00:00:00.000000000",
          "2024-06-24T00:00:00.000000000",
          "2024-06-25T00:00:00.000000000",
          "2024-06-26T00:00:00.000000000",
          "2024-06-27T00:00:00.000000000",
          "2024-06-28T00:00:00.000000000",
          "2024-06-29T00:00:00.000000000",
          "2024-06-30T00:00:00.000000000",
          "2024-07-01T00:00:00.000000000",
          "2024-07-02T00:00:00.000000000",
          "2024-07-03T00:00:00.000000000",
          "2024-07-04T00:00:00.000000000",
          "2024-07-05T00:00:00.000000000",
          "2024-07-06T00:00:00.000000000",
          "2024-07-07T00:00:00.000000000",
          "2024-07-08T00:00:00.000000000",
          "2024-07-09T00:00:00.000000000",
          "2024-07-10T00:00:00.000000000",
          "2024-07-11T00:00:00.000000000",
          "2024-07-12T00:00:00.000000000",
          "2024-07-13T00:00:00.000000000",
          "2024-07-14T00:00:00.000000000",
          "2024-07-15T00:00:00.000000000",
          "2024-07-16T00:00:00.000000000",
          "2024-07-17T00:00:00.000000000",
          "2024-07-18T00:00:00.000000000",
          "2024-07-19T00:00:00.000000000",
          "2024-07-20T00:00:00.000000000",
          "2024-07-21T00:00:00.000000000",
          "2024-07-22T00:00:00.000000000",
          "2024-07-23T00:00:00.000000000",
          "2024-07-24T00:00:00.000000000",
          "2024-07-25T00:00:00.000000000",
          "2024-07-26T00:00:00.000000000",
          "2024-07-27T00:00:00.000000000",
          "2024-07-28T00:00:00.000000000",
          "2024-07-29T00:00:00.000000000",
          "2024-07-30T00:00:00.000000000",
          "2024-07-31T00:00:00.000000000",
          "2024-08-01T00:00:00.000000000",
          "2024-08-02T00:00:00.000000000",
          "2024-08-03T00:00:00.000000000",
          "2024-08-04T00:00:00.000000000",
          "2024-08-05T00:00:00.000000000",
          "2024-08-06T00:00:00.000000000",
          "2024-08-07T00:00:00.000000000",
          "2024-08-08T00:00:00.000000000",
          "2024-08-09T00:00:00.000000000",
          "2024-08-10T00:00:00.000000000",
          "2024-08-11T00:00:00.000000000",
          "2024-08-12T00:00:00.000000000",
          "2024-08-13T00:00:00.000000000",
          "2024-08-14T00:00:00.000000000",
          "2024-08-15T00:00:00.000000000",
          "2024-08-16T00:00:00.000000000",
          "2024-08-17T00:00:00.000000000",
          "2024-08-18T00:00:00.000000000",
          "2024-08-19T00:00:00.000000000",
          "2024-08-20T00:00:00.000000000",
          "2024-08-21T00:00:00.000000000",
          "2024-08-22T00:00:00.000000000",
          "2024-08-23T00:00:00.000000000",
          "2024-08-24T00:00:00.000000000",
          "2024-08-25T00:00:00.000000000",
          "2024-08-26T00:00:00.000000000",
          "2024-08-27T00:00:00.000000000",
          "2024-08-28T00:00:00.000000000",
          "2024-08-29T00:00:00.000000000",
          "2024-08-30T00:00:00.000000000",
          "2024-08-31T00:00:00.000000000",
          "2024-09-01T00:00:00.000000000",
          "2024-09-02T00:00:00.000000000",
          "2024-09-03T00:00:00.000000000",
          "2024-09-04T00:00:00.000000000",
          "2024-09-05T00:00:00.000000000",
          "2024-09-06T00:00:00.000000000",
          "2024-09-07T00:00:00.000000000",
          "2024-09-08T00:00:00.000000000",
          "2024-09-09T00:00:00.000000000",
          "2024-09-10T00:00:00.000000000",
          "2024-09-11T00:00:00.000000000",
          "2024-09-12T00:00:00.000000000",
          "2024-09-13T00:00:00.000000000",
          "2024-09-14T00:00:00.000000000",
          "2024-09-15T00:00:00.000000000",
          "2024-09-16T00:00:00.000000000",
          "2024-09-17T00:00:00.000000000",
          "2024-09-18T00:00:00.000000000",
          "2024-09-19T00:00:00.000000000",
          "2024-09-20T00:00:00.000000000",
          "2024-09-21T00:00:00.000000000",
          "2024-09-22T00:00:00.000000000",
          "2024-09-23T00:00:00.000000000",
          "2024-09-24T00:00:00.000000000",
          "2024-09-25T00:00:00.000000000",
          "2024-09-26T00:00:00.000000000",
          "2024-09-27T00:00:00.000000000",
          "2024-09-28T00:00:00.000000000",
          "2024-09-29T00:00:00.000000000",
          "2024-09-30T00:00:00.000000000",
          "2024-10-01T00:00:00.000000000",
          "2024-10-02T00:00:00.000000000",
          "2024-10-03T00:00:00.000000000",
          "2024-10-04T00:00:00.000000000",
          "2024-10-05T00:00:00.000000000",
          "2024-10-06T00:00:00.000000000",
          "2024-10-07T00:00:00.000000000",
          "2024-10-08T00:00:00.000000000",
          "2024-10-09T00:00:00.000000000",
          "2024-10-10T00:00:00.000000000",
          "2024-10-11T00:00:00.000000000",
          "2024-10-12T00:00:00.000000000",
          "2024-10-13T00:00:00.000000000",
          "2024-10-14T00:00:00.000000000",
          "2024-10-15T00:00:00.000000000",
          "2024-10-16T00:00:00.000000000",
          "2024-10-17T00:00:00.000000000",
          "2024-10-18T00:00:00.000000000",
          "2024-10-19T00:00:00.000000000",
          "2024-10-20T00:00:00.000000000",
          "2024-10-21T00:00:00.000000000",
          "2024-10-22T00:00:00.000000000",
          "2024-10-23T00:00:00.000000000",
          "2024-10-24T00:00:00.000000000",
          "2024-10-25T00:00:00.000000000",
          "2024-10-26T00:00:00.000000000",
          "2024-10-27T00:00:00.000000000",
          "2024-10-28T00:00:00.000000000",
          "2024-10-29T00:00:00.000000000",
          "2024-10-30T00:00:00.000000000",
          "2024-10-31T00:00:00.000000000",
          "2024-11-01T00:00:00.000000000",
          "2024-11-02T00:00:00.000000000",
          "2024-11-03T00:00:00.000000000",
          "2024-11-04T00:00:00.000000000",
          "2024-11-05T00:00:00.000000000",
          "2024-11-06T00:00:00.000000000",
          "2024-11-07T00:00:00.000000000",
          "2024-11-08T00:00:00.000000000",
          "2024-11-09T00:00:00.000000000",
          "2024-11-10T00:00:00.000000000",
          "2024-11-11T00:00:00.000000000",
          "2024-11-12T00:00:00.000000000",
          "2024-11-13T00:00:00.000000000",
          "2024-11-14T00:00:00.000000000",
          "2024-11-15T00:00:00.000000000",
          "2024-11-16T00:00:00.000000000",
          "2024-11-17T00:00:00.000000000",
          "2024-11-18T00:00:00.000000000",
          "2024-11-19T00:00:00.000000000",
          "2024-11-20T00:00:00.000000000",
          "2024-11-21T00:00:00.000000000",
          "2024-11-22T00:00:00.000000000",
          "2024-11-23T00:00:00.000000000",
          "2024-11-24T00:00:00.000000000",
          "2024-11-25T00:00:00.000000000",
          "2024-11-26T00:00:00.000000000",
          "2024-11-27T00:00:00.000000000",
          "2024-11-28T00:00:00.000000000",
          "2024-11-29T00:00:00.000000000",
          "2024-11-30T00:00:00.000000000",
          "2024-12-01T00:00:00.000000000",
          "2024-12-02T00:00:00.000000000",
          "2024-12-03T00:00:00.000000000",
          "2024-12-04T00:00:00.000000000",
          "2024-12-05T00:00:00.000000000",
          "2024-12-06T00:00:00.000000000",
          "2024-12-07T00:00:00.000000000",
          "2024-12-08T00:00:00.000000000",
          "2024-12-09T00:00:00.000000000",
          "2024-12-10T00:00:00.000000000",
          "2024-12-11T00:00:00.000000000",
          "2024-12-12T00:00:00.000000000",
          "2024-12-13T00:00:00.000000000",
          "2024-12-14T00:00:00.000000000",
          "2024-12-15T00:00:00.000000000",
          "2024-12-16T00:00:00.000000000",
          "2024-12-17T00:00:00.000000000",
          "2024-12-18T00:00:00.000000000",
          "2024-12-19T00:00:00.000000000",
          "2024-12-20T00:00:00.000000000",
          "2024-12-21T00:00:00.000000000",
          "2024-12-22T00:00:00.000000000",
          "2024-12-23T00:00:00.000000000",
          "2024-12-24T00:00:00.000000000",
          "2024-12-25T00:00:00.000000000",
          "2024-12-26T00:00:00.000000000",
          "2024-12-27T00:00:00.000000000",
          "2024-12-28T00:00:00.000000000",
          "2024-12-29T00:00:00.000000000",
          "2024-12-30T00:00:00.000000000",
          "2024-12-31T00:00:00.000000000",
          "2025-01-01T00:00:00.000000000",
          "2025-01-02T00:00:00.000000000",
          "2025-01-03T00:00:00.000000000",
          "2025-01-04T00:00:00.000000000",
          "2025-01-05T00:00:00.000000000",
          "2025-01-06T00:00:00.000000000",
          "2025-01-07T00:00:00.000000000",
          "2025-01-08T00:00:00.000000000",
          "2025-01-09T00:00:00.000000000",
          "2025-01-10T00:00:00.000000000",
          "2025-01-11T00:00:00.000000000",
          "2025-01-12T00:00:00.000000000",
          "2025-01-13T00:00:00.000000000",
          "2025-01-14T00:00:00.000000000",
          "2025-01-15T00:00:00.000000000",
          "2025-01-16T00:00:00.000000000",
          "2025-01-17T00:00:00.000000000",
          "2025-01-18T00:00:00.000000000",
          "2025-01-19T00:00:00.000000000",
          "2025-01-20T00:00:00.000000000",
          "2025-01-21T00:00:00.000000000",
          "2025-01-22T00:00:00.000000000",
          "2025-01-23T00:00:00.000000000",
          "2025-01-24T00:00:00.000000000",
          "2025-01-25T00:00:00.000000000",
          "2025-01-26T00:00:00.000000000",
          "2025-01-27T00:00:00.000000000",
          "2025-01-28T00:00:00.000000000",
          "2025-01-29T00:00:00.000000000",
          "2025-01-30T00:00:00.000000000",
          "2025-01-31T00:00:00.000000000",
          "2025-02-01T00:00:00.000000000",
          "2025-02-02T00:00:00.000000000",
          "2025-02-03T00:00:00.000000000",
          "2025-02-04T00:00:00.000000000",
          "2025-02-05T00:00:00.000000000",
          "2025-02-06T00:00:00.000000000",
          "2025-02-07T00:00:00.000000000",
          "2025-02-08T00:00:00.000000000",
          "2025-02-09T00:00:00.000000000",
          "2025-02-10T00:00:00.000000000",
          "2025-02-11T00:00:00.000000000",
          "2025-02-12T00:00:00.000000000",
          "2025-02-13T00:00:00.000000000",
          "2025-02-14T00:00:00.000000000",
          "2025-02-15T00:00:00.000000000",
          "2025-02-16T00:00:00.000000000",
          "2025-02-17T00:00:00.000000000",
          "2025-02-18T00:00:00.000000000",
          "2025-02-19T00:00:00.000000000",
          "2025-02-20T00:00:00.000000000",
          "2025-02-21T00:00:00.000000000",
          "2025-02-22T00:00:00.000000000",
          "2025-02-23T00:00:00.000000000",
          "2025-02-24T00:00:00.000000000",
          "2025-02-25T00:00:00.000000000",
          "2025-02-26T00:00:00.000000000",
          "2025-02-27T00:00:00.000000000",
          "2025-02-28T00:00:00.000000000",
          "2025-03-01T00:00:00.000000000",
          "2025-03-02T00:00:00.000000000",
          "2025-03-03T00:00:00.000000000",
          "2025-03-04T00:00:00.000000000",
          "2025-03-05T00:00:00.000000000",
          "2025-03-06T00:00:00.000000000",
          "2025-03-07T00:00:00.000000000",
          "2025-03-08T00:00:00.000000000",
          "2025-03-09T00:00:00.000000000",
          "2025-03-10T00:00:00.000000000",
          "2025-03-11T00:00:00.000000000",
          "2025-03-12T00:00:00.000000000",
          "2025-03-13T00:00:00.000000000",
          "2025-03-14T00:00:00.000000000",
          "2025-03-15T00:00:00.000000000",
          "2025-03-16T00:00:00.000000000",
          "2025-03-17T00:00:00.000000000",
          "2025-03-18T00:00:00.000000000",
          "2025-03-19T00:00:00.000000000",
          "2025-03-20T00:00:00.000000000",
          "2025-03-21T00:00:00.000000000",
          "2025-03-22T00:00:00.000000000",
          "2025-03-23T00:00:00.000000000",
          "2025-03-24T00:00:00.000000000",
          "2025-03-25T00:00:00.000000000",
          "2025-03-26T00:00:00.000000000",
          "2025-03-27T00:00:00.000000000",
          "2025-03-28T00:00:00.000000000",
          "2025-03-29T00:00:00.000000000",
          "2025-03-30T00:00:00.000000000",
          "2025-03-31T00:00:00.000000000",
          "2025-04-01T00:00:00.000000000",
          "2025-04-02T00:00:00.000000000",
          "2025-04-03T00:00:00.000000000",
          "2025-04-04T00:00:00.000000000",
          "2025-04-05T00:00:00.000000000",
          "2025-04-06T00:00:00.000000000",
          "2025-04-07T00:00:00.000000000",
          "2025-04-08T00:00:00.000000000",
          "2025-04-09T00:00:00.000000000",
          "2025-04-10T00:00:00.000000000",
          "2025-04-11T00:00:00.000000000",
          "2025-04-12T00:00:00.000000000",
          "2025-04-13T00:00:00.000000000",
          "2025-04-14T00:00:00.000000000",
          "2025-04-15T00:00:00.000000000"
         ],
         "xaxis": "x",
         "y": {
          "bdata": "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",
          "dtype": "f8"
         },
         "yaxis": "y"
        },
        {
         "marker": {
          "color": "#878ed1"
         },
         "name": "polygon ($57.7M)",
         "showlegend": true,
         "textposition": "auto",
         "type": "bar",
         "x": [
          "2024-04-17T00:00:00.000000000",
          "2024-04-18T00:00:00.000000000",
          "2024-04-19T00:00:00.000000000",
          "2024-04-20T00:00:00.000000000",
          "2024-04-21T00:00:00.000000000",
          "2024-04-22T00:00:00.000000000",
          "2024-04-23T00:00:00.000000000",
          "2024-04-24T00:00:00.000000000",
          "2024-04-25T00:00:00.000000000",
          "2024-04-26T00:00:00.000000000",
          "2024-04-27T00:00:00.000000000",
          "2024-04-28T00:00:00.000000000",
          "2024-04-29T00:00:00.000000000",
          "2024-04-30T00:00:00.000000000",
          "2024-05-01T00:00:00.000000000",
          "2024-05-02T00:00:00.000000000",
          "2024-05-03T00:00:00.000000000",
          "2024-05-04T00:00:00.000000000",
          "2024-05-05T00:00:00.000000000",
          "2024-05-06T00:00:00.000000000",
          "2024-05-07T00:00:00.000000000",
          "2024-05-08T00:00:00.000000000",
          "2024-05-09T00:00:00.000000000",
          "2024-05-10T00:00:00.000000000",
          "2024-05-11T00:00:00.000000000",
          "2024-05-12T00:00:00.000000000",
          "2024-05-13T00:00:00.000000000",
          "2024-05-14T00:00:00.000000000",
          "2024-05-15T00:00:00.000000000",
          "2024-05-16T00:00:00.000000000",
          "2024-05-17T00:00:00.000000000",
          "2024-05-18T00:00:00.000000000",
          "2024-05-19T00:00:00.000000000",
          "2024-05-20T00:00:00.000000000",
          "2024-05-21T00:00:00.000000000",
          "2024-05-22T00:00:00.000000000",
          "2024-05-23T00:00:00.000000000",
          "2024-05-24T00:00:00.000000000",
          "2024-05-25T00:00:00.000000000",
          "2024-05-26T00:00:00.000000000",
          "2024-05-27T00:00:00.000000000",
          "2024-05-28T00:00:00.000000000",
          "2024-05-29T00:00:00.000000000",
          "2024-05-30T00:00:00.000000000",
          "2024-05-31T00:00:00.000000000",
          "2024-06-01T00:00:00.000000000",
          "2024-06-02T00:00:00.000000000",
          "2024-06-03T00:00:00.000000000",
          "2024-06-04T00:00:00.000000000",
          "2024-06-05T00:00:00.000000000",
          "2024-06-06T00:00:00.000000000",
          "2024-06-07T00:00:00.000000000",
          "2024-06-08T00:00:00.000000000",
          "2024-06-09T00:00:00.000000000",
          "2024-06-10T00:00:00.000000000",
          "2024-06-11T00:00:00.000000000",
          "2024-06-12T00:00:00.000000000",
          "2024-06-13T00:00:00.000000000",
          "2024-06-14T00:00:00.000000000",
          "2024-06-15T00:00:00.000000000",
          "2024-06-16T00:00:00.000000000",
          "2024-06-17T00:00:00.000000000",
          "2024-06-18T00:00:00.000000000",
          "2024-06-19T00:00:00.000000000",
          "2024-06-20T00:00:00.000000000",
          "2024-06-21T00:00:00.000000000",
          "2024-06-22T00:00:00.000000000",
          "2024-06-23T00:00:00.000000000",
          "2024-06-24T00:00:00.000000000",
          "2024-06-25T00:00:00.000000000",
          "2024-06-26T00:00:00.000000000",
          "2024-06-27T00:00:00.000000000",
          "2024-06-28T00:00:00.000000000",
          "2024-06-29T00:00:00.000000000",
          "2024-06-30T00:00:00.000000000",
          "2024-07-01T00:00:00.000000000",
          "2024-07-02T00:00:00.000000000",
          "2024-07-03T00:00:00.000000000",
          "2024-07-04T00:00:00.000000000",
          "2024-07-05T00:00:00.000000000",
          "2024-07-06T00:00:00.000000000",
          "2024-07-07T00:00:00.000000000",
          "2024-07-08T00:00:00.000000000",
          "2024-07-09T00:00:00.000000000",
          "2024-07-10T00:00:00.000000000",
          "2024-07-11T00:00:00.000000000",
          "2024-07-12T00:00:00.000000000",
          "2024-07-13T00:00:00.000000000",
          "2024-07-14T00:00:00.000000000",
          "2024-07-15T00:00:00.000000000",
          "2024-07-16T00:00:00.000000000",
          "2024-07-17T00:00:00.000000000",
          "2024-07-18T00:00:00.000000000",
          "2024-07-19T00:00:00.000000000",
          "2024-07-20T00:00:00.000000000",
          "2024-07-21T00:00:00.000000000",
          "2024-07-22T00:00:00.000000000",
          "2024-07-23T00:00:00.000000000",
          "2024-07-24T00:00:00.000000000",
          "2024-07-25T00:00:00.000000000",
          "2024-07-26T00:00:00.000000000",
          "2024-07-27T00:00:00.000000000",
          "2024-07-28T00:00:00.000000000",
          "2024-07-29T00:00:00.000000000",
          "2024-07-30T00:00:00.000000000",
          "2024-07-31T00:00:00.000000000",
          "2024-08-01T00:00:00.000000000",
          "2024-08-02T00:00:00.000000000",
          "2024-08-03T00:00:00.000000000",
          "2024-08-04T00:00:00.000000000",
          "2024-08-05T00:00:00.000000000",
          "2024-08-06T00:00:00.000000000",
          "2024-08-07T00:00:00.000000000",
          "2024-08-08T00:00:00.000000000",
          "2024-08-09T00:00:00.000000000",
          "2024-08-10T00:00:00.000000000",
          "2024-08-11T00:00:00.000000000",
          "2024-08-12T00:00:00.000000000",
          "2024-08-13T00:00:00.000000000",
          "2024-08-14T00:00:00.000000000",
          "2024-08-15T00:00:00.000000000",
          "2024-08-16T00:00:00.000000000",
          "2024-08-17T00:00:00.000000000",
          "2024-08-18T00:00:00.000000000",
          "2024-08-19T00:00:00.000000000",
          "2024-08-20T00:00:00.000000000",
          "2024-08-21T00:00:00.000000000",
          "2024-08-22T00:00:00.000000000",
          "2024-08-23T00:00:00.000000000",
          "2024-08-24T00:00:00.000000000",
          "2024-08-25T00:00:00.000000000",
          "2024-08-26T00:00:00.000000000",
          "2024-08-27T00:00:00.000000000",
          "2024-08-28T00:00:00.000000000",
          "2024-08-29T00:00:00.000000000",
          "2024-08-30T00:00:00.000000000",
          "2024-08-31T00:00:00.000000000",
          "2024-09-01T00:00:00.000000000",
          "2024-09-02T00:00:00.000000000",
          "2024-09-03T00:00:00.000000000",
          "2024-09-04T00:00:00.000000000",
          "2024-09-05T00:00:00.000000000",
          "2024-09-06T00:00:00.000000000",
          "2024-09-07T00:00:00.000000000",
          "2024-09-08T00:00:00.000000000",
          "2024-09-09T00:00:00.000000000",
          "2024-09-10T00:00:00.000000000",
          "2024-09-11T00:00:00.000000000",
          "2024-09-12T00:00:00.000000000",
          "2024-09-13T00:00:00.000000000",
          "2024-09-14T00:00:00.000000000",
          "2024-09-15T00:00:00.000000000",
          "2024-09-16T00:00:00.000000000",
          "2024-09-17T00:00:00.000000000",
          "2024-09-18T00:00:00.000000000",
          "2024-09-19T00:00:00.000000000",
          "2024-09-20T00:00:00.000000000",
          "2024-09-21T00:00:00.000000000",
          "2024-09-22T00:00:00.000000000",
          "2024-09-23T00:00:00.000000000",
          "2024-09-24T00:00:00.000000000",
          "2024-09-25T00:00:00.000000000",
          "2024-09-26T00:00:00.000000000",
          "2024-09-27T00:00:00.000000000",
          "2024-09-28T00:00:00.000000000",
          "2024-09-29T00:00:00.000000000",
          "2024-09-30T00:00:00.000000000",
          "2024-10-01T00:00:00.000000000",
          "2024-10-02T00:00:00.000000000",
          "2024-10-03T00:00:00.000000000",
          "2024-10-04T00:00:00.000000000",
          "2024-10-05T00:00:00.000000000",
          "2024-10-06T00:00:00.000000000",
          "2024-10-07T00:00:00.000000000",
          "2024-10-08T00:00:00.000000000",
          "2024-10-09T00:00:00.000000000",
          "2024-10-10T00:00:00.000000000",
          "2024-10-11T00:00:00.000000000",
          "2024-10-12T00:00:00.000000000",
          "2024-10-13T00:00:00.000000000",
          "2024-10-14T00:00:00.000000000",
          "2024-10-15T00:00:00.000000000",
          "2024-10-16T00:00:00.000000000",
          "2024-10-17T00:00:00.000000000",
          "2024-10-18T00:00:00.000000000",
          "2024-10-19T00:00:00.000000000",
          "2024-10-20T00:00:00.000000000",
          "2024-10-21T00:00:00.000000000",
          "2024-10-22T00:00:00.000000000",
          "2024-10-23T00:00:00.000000000",
          "2024-10-24T00:00:00.000000000",
          "2024-10-25T00:00:00.000000000",
          "2024-10-26T00:00:00.000000000",
          "2024-10-27T00:00:00.000000000",
          "2024-10-28T00:00:00.000000000",
          "2024-10-29T00:00:00.000000000",
          "2024-10-30T00:00:00.000000000",
          "2024-10-31T00:00:00.000000000",
          "2024-11-01T00:00:00.000000000",
          "2024-11-02T00:00:00.000000000",
          "2024-11-03T00:00:00.000000000",
          "2024-11-04T00:00:00.000000000",
          "2024-11-05T00:00:00.000000000",
          "2024-11-06T00:00:00.000000000",
          "2024-11-07T00:00:00.000000000",
          "2024-11-08T00:00:00.000000000",
          "2024-11-09T00:00:00.000000000",
          "2024-11-10T00:00:00.000000000",
          "2024-11-11T00:00:00.000000000",
          "2024-11-12T00:00:00.000000000",
          "2024-11-13T00:00:00.000000000",
          "2024-11-14T00:00:00.000000000",
          "2024-11-15T00:00:00.000000000",
          "2024-11-16T00:00:00.000000000",
          "2024-11-17T00:00:00.000000000",
          "2024-11-18T00:00:00.000000000",
          "2024-11-19T00:00:00.000000000",
          "2024-11-20T00:00:00.000000000",
          "2024-11-21T00:00:00.000000000",
          "2024-11-22T00:00:00.000000000",
          "2024-11-23T00:00:00.000000000",
          "2024-11-24T00:00:00.000000000",
          "2024-11-25T00:00:00.000000000",
          "2024-11-26T00:00:00.000000000",
          "2024-11-27T00:00:00.000000000",
          "2024-11-28T00:00:00.000000000",
          "2024-11-29T00:00:00.000000000",
          "2024-11-30T00:00:00.000000000",
          "2024-12-01T00:00:00.000000000",
          "2024-12-02T00:00:00.000000000",
          "2024-12-03T00:00:00.000000000",
          "2024-12-04T00:00:00.000000000",
          "2024-12-05T00:00:00.000000000",
          "2024-12-06T00:00:00.000000000",
          "2024-12-07T00:00:00.000000000",
          "2024-12-08T00:00:00.000000000",
          "2024-12-09T00:00:00.000000000",
          "2024-12-10T00:00:00.000000000",
          "2024-12-11T00:00:00.000000000",
          "2024-12-12T00:00:00.000000000",
          "2024-12-13T00:00:00.000000000",
          "2024-12-14T00:00:00.000000000",
          "2024-12-15T00:00:00.000000000",
          "2024-12-16T00:00:00.000000000",
          "2024-12-17T00:00:00.000000000",
          "2024-12-18T00:00:00.000000000",
          "2024-12-19T00:00:00.000000000",
          "2024-12-20T00:00:00.000000000",
          "2024-12-21T00:00:00.000000000",
          "2024-12-22T00:00:00.000000000",
          "2024-12-23T00:00:00.000000000",
          "2024-12-24T00:00:00.000000000",
          "2024-12-25T00:00:00.000000000",
          "2024-12-26T00:00:00.000000000",
          "2024-12-27T00:00:00.000000000",
          "2024-12-28T00:00:00.000000000",
          "2024-12-29T00:00:00.000000000",
          "2024-12-30T00:00:00.000000000",
          "2024-12-31T00:00:00.000000000",
          "2025-01-01T00:00:00.000000000",
          "2025-01-02T00:00:00.000000000",
          "2025-01-03T00:00:00.000000000",
          "2025-01-04T00:00:00.000000000",
          "2025-01-05T00:00:00.000000000",
          "2025-01-06T00:00:00.000000000",
          "2025-01-07T00:00:00.000000000",
          "2025-01-08T00:00:00.000000000",
          "2025-01-09T00:00:00.000000000",
          "2025-01-10T00:00:00.000000000",
          "2025-01-11T00:00:00.000000000",
          "2025-01-12T00:00:00.000000000",
          "2025-01-13T00:00:00.000000000",
          "2025-01-14T00:00:00.000000000",
          "2025-01-15T00:00:00.000000000",
          "2025-01-16T00:00:00.000000000",
          "2025-01-17T00:00:00.000000000",
          "2025-01-18T00:00:00.000000000",
          "2025-01-19T00:00:00.000000000",
          "2025-01-20T00:00:00.000000000",
          "2025-01-21T00:00:00.000000000",
          "2025-01-22T00:00:00.000000000",
          "2025-01-23T00:00:00.000000000",
          "2025-01-24T00:00:00.000000000",
          "2025-01-25T00:00:00.000000000",
          "2025-01-26T00:00:00.000000000",
          "2025-01-27T00:00:00.000000000",
          "2025-01-28T00:00:00.000000000",
          "2025-01-29T00:00:00.000000000",
          "2025-01-30T00:00:00.000000000",
          "2025-01-31T00:00:00.000000000",
          "2025-02-01T00:00:00.000000000",
          "2025-02-02T00:00:00.000000000",
          "2025-02-03T00:00:00.000000000",
          "2025-02-04T00:00:00.000000000",
          "2025-02-05T00:00:00.000000000",
          "2025-02-06T00:00:00.000000000",
          "2025-02-07T00:00:00.000000000",
          "2025-02-08T00:00:00.000000000",
          "2025-02-09T00:00:00.000000000",
          "2025-02-10T00:00:00.000000000",
          "2025-02-11T00:00:00.000000000",
          "2025-02-12T00:00:00.000000000",
          "2025-02-13T00:00:00.000000000",
          "2025-02-14T00:00:00.000000000",
          "2025-02-15T00:00:00.000000000",
          "2025-02-16T00:00:00.000000000",
          "2025-02-17T00:00:00.000000000",
          "2025-02-18T00:00:00.000000000",
          "2025-02-19T00:00:00.000000000",
          "2025-02-20T00:00:00.000000000",
          "2025-02-21T00:00:00.000000000",
          "2025-02-22T00:00:00.000000000",
          "2025-02-23T00:00:00.000000000",
          "2025-02-24T00:00:00.000000000",
          "2025-02-25T00:00:00.000000000",
          "2025-02-26T00:00:00.000000000",
          "2025-02-27T00:00:00.000000000",
          "2025-02-28T00:00:00.000000000",
          "2025-03-01T00:00:00.000000000",
          "2025-03-02T00:00:00.000000000",
          "2025-03-03T00:00:00.000000000",
          "2025-03-04T00:00:00.000000000",
          "2025-03-05T00:00:00.000000000",
          "2025-03-06T00:00:00.000000000",
          "2025-03-07T00:00:00.000000000",
          "2025-03-08T00:00:00.000000000",
          "2025-03-09T00:00:00.000000000",
          "2025-03-10T00:00:00.000000000",
          "2025-03-11T00:00:00.000000000",
          "2025-03-12T00:00:00.000000000",
          "2025-03-13T00:00:00.000000000",
          "2025-03-14T00:00:00.000000000",
          "2025-03-15T00:00:00.000000000",
          "2025-03-16T00:00:00.000000000",
          "2025-03-17T00:00:00.000000000",
          "2025-03-18T00:00:00.000000000",
          "2025-03-19T00:00:00.000000000",
          "2025-03-20T00:00:00.000000000",
          "2025-03-21T00:00:00.000000000",
          "2025-03-22T00:00:00.000000000",
          "2025-03-23T00:00:00.000000000",
          "2025-03-24T00:00:00.000000000",
          "2025-03-25T00:00:00.000000000",
          "2025-03-26T00:00:00.000000000",
          "2025-03-27T00:00:00.000000000",
          "2025-03-28T00:00:00.000000000",
          "2025-03-29T00:00:00.000000000",
          "2025-03-30T00:00:00.000000000",
          "2025-03-31T00:00:00.000000000",
          "2025-04-01T00:00:00.000000000",
          "2025-04-02T00:00:00.000000000",
          "2025-04-03T00:00:00.000000000",
          "2025-04-04T00:00:00.000000000",
          "2025-04-05T00:00:00.000000000",
          "2025-04-06T00:00:00.000000000",
          "2025-04-07T00:00:00.000000000",
          "2025-04-08T00:00:00.000000000",
          "2025-04-09T00:00:00.000000000",
          "2025-04-10T00:00:00.000000000",
          "2025-04-11T00:00:00.000000000",
          "2025-04-12T00:00:00.000000000",
          "2025-04-13T00:00:00.000000000",
          "2025-04-14T00:00:00.000000000",
          "2025-04-15T00:00:00.000000000"
         ],
         "xaxis": "x",
         "y": {
          "bdata": "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",
          "dtype": "f8"
         },
         "yaxis": "y"
        },
        {
         "marker": {
          "color": "#aa3b36"
         },
         "name": "optimism ($17.4M)",
         "showlegend": true,
         "textposition": "auto",
         "type": "bar",
         "x": [
          "2024-04-17T00:00:00.000000000",
          "2024-04-18T00:00:00.000000000",
          "2024-04-19T00:00:00.000000000",
          "2024-04-20T00:00:00.000000000",
          "2024-04-21T00:00:00.000000000",
          "2024-04-22T00:00:00.000000000",
          "2024-04-23T00:00:00.000000000",
          "2024-04-24T00:00:00.000000000",
          "2024-04-25T00:00:00.000000000",
          "2024-04-26T00:00:00.000000000",
          "2024-04-27T00:00:00.000000000",
          "2024-04-28T00:00:00.000000000",
          "2024-04-29T00:00:00.000000000",
          "2024-04-30T00:00:00.000000000",
          "2024-05-01T00:00:00.000000000",
          "2024-05-02T00:00:00.000000000",
          "2024-05-03T00:00:00.000000000",
          "2024-05-04T00:00:00.000000000",
          "2024-05-05T00:00:00.000000000",
          "2024-05-06T00:00:00.000000000",
          "2024-05-07T00:00:00.000000000",
          "2024-05-08T00:00:00.000000000",
          "2024-05-09T00:00:00.000000000",
          "2024-05-10T00:00:00.000000000",
          "2024-05-11T00:00:00.000000000",
          "2024-05-12T00:00:00.000000000",
          "2024-05-13T00:00:00.000000000",
          "2024-05-14T00:00:00.000000000",
          "2024-05-15T00:00:00.000000000",
          "2024-05-16T00:00:00.000000000",
          "2024-05-17T00:00:00.000000000",
          "2024-05-18T00:00:00.000000000",
          "2024-05-19T00:00:00.000000000",
          "2024-05-20T00:00:00.000000000",
          "2024-05-21T00:00:00.000000000",
          "2024-05-22T00:00:00.000000000",
          "2024-05-23T00:00:00.000000000",
          "2024-05-24T00:00:00.000000000",
          "2024-05-25T00:00:00.000000000",
          "2024-05-26T00:00:00.000000000",
          "2024-05-27T00:00:00.000000000",
          "2024-05-28T00:00:00.000000000",
          "2024-05-29T00:00:00.000000000",
          "2024-05-30T00:00:00.000000000",
          "2024-05-31T00:00:00.000000000",
          "2024-06-01T00:00:00.000000000",
          "2024-06-02T00:00:00.000000000",
          "2024-06-03T00:00:00.000000000",
          "2024-06-04T00:00:00.000000000",
          "2024-06-05T00:00:00.000000000",
          "2024-06-06T00:00:00.000000000",
          "2024-06-07T00:00:00.000000000",
          "2024-06-08T00:00:00.000000000",
          "2024-06-09T00:00:00.000000000",
          "2024-06-10T00:00:00.000000000",
          "2024-06-11T00:00:00.000000000",
          "2024-06-12T00:00:00.000000000",
          "2024-06-13T00:00:00.000000000",
          "2024-06-14T00:00:00.000000000",
          "2024-06-15T00:00:00.000000000",
          "2024-06-16T00:00:00.000000000",
          "2024-06-17T00:00:00.000000000",
          "2024-06-18T00:00:00.000000000",
          "2024-06-19T00:00:00.000000000",
          "2024-06-20T00:00:00.000000000",
          "2024-06-21T00:00:00.000000000",
          "2024-06-22T00:00:00.000000000",
          "2024-06-23T00:00:00.000000000",
          "2024-06-24T00:00:00.000000000",
          "2024-06-25T00:00:00.000000000",
          "2024-06-26T00:00:00.000000000",
          "2024-06-27T00:00:00.000000000",
          "2024-06-28T00:00:00.000000000",
          "2024-06-29T00:00:00.000000000",
          "2024-06-30T00:00:00.000000000",
          "2024-07-01T00:00:00.000000000",
          "2024-07-02T00:00:00.000000000",
          "2024-07-03T00:00:00.000000000",
          "2024-07-04T00:00:00.000000000",
          "2024-07-05T00:00:00.000000000",
          "2024-07-06T00:00:00.000000000",
          "2024-07-07T00:00:00.000000000",
          "2024-07-08T00:00:00.000000000",
          "2024-07-09T00:00:00.000000000",
          "2024-07-10T00:00:00.000000000",
          "2024-07-11T00:00:00.000000000",
          "2024-07-12T00:00:00.000000000",
          "2024-07-13T00:00:00.000000000",
          "2024-07-14T00:00:00.000000000",
          "2024-07-15T00:00:00.000000000",
          "2024-07-16T00:00:00.000000000",
          "2024-07-17T00:00:00.000000000",
          "2024-07-18T00:00:00.000000000",
          "2024-07-19T00:00:00.000000000",
          "2024-07-20T00:00:00.000000000",
          "2024-07-21T00:00:00.000000000",
          "2024-07-22T00:00:00.000000000",
          "2024-07-23T00:00:00.000000000",
          "2024-07-24T00:00:00.000000000",
          "2024-07-25T00:00:00.000000000",
          "2024-07-26T00:00:00.000000000",
          "2024-07-27T00:00:00.000000000",
          "2024-07-28T00:00:00.000000000",
          "2024-07-29T00:00:00.000000000",
          "2024-07-30T00:00:00.000000000",
          "2024-07-31T00:00:00.000000000",
          "2024-08-01T00:00:00.000000000",
          "2024-08-02T00:00:00.000000000",
          "2024-08-03T00:00:00.000000000",
          "2024-08-04T00:00:00.000000000",
          "2024-08-05T00:00:00.000000000",
          "2024-08-06T00:00:00.000000000",
          "2024-08-07T00:00:00.000000000",
          "2024-08-08T00:00:00.000000000",
          "2024-08-09T00:00:00.000000000",
          "2024-08-10T00:00:00.000000000",
          "2024-08-11T00:00:00.000000000",
          "2024-08-12T00:00:00.000000000",
          "2024-08-13T00:00:00.000000000",
          "2024-08-14T00:00:00.000000000",
          "2024-08-15T00:00:00.000000000",
          "2024-08-16T00:00:00.000000000",
          "2024-08-17T00:00:00.000000000",
          "2024-08-18T00:00:00.000000000",
          "2024-08-19T00:00:00.000000000",
          "2024-08-20T00:00:00.000000000",
          "2024-08-21T00:00:00.000000000",
          "2024-08-22T00:00:00.000000000",
          "2024-08-23T00:00:00.000000000",
          "2024-08-24T00:00:00.000000000",
          "2024-08-25T00:00:00.000000000",
          "2024-08-26T00:00:00.000000000",
          "2024-08-27T00:00:00.000000000",
          "2024-08-28T00:00:00.000000000",
          "2024-08-29T00:00:00.000000000",
          "2024-08-30T00:00:00.000000000",
          "2024-08-31T00:00:00.000000000",
          "2024-09-01T00:00:00.000000000",
          "2024-09-02T00:00:00.000000000",
          "2024-09-03T00:00:00.000000000",
          "2024-09-04T00:00:00.000000000",
          "2024-09-05T00:00:00.000000000",
          "2024-09-06T00:00:00.000000000",
          "2024-09-07T00:00:00.000000000",
          "2024-09-08T00:00:00.000000000",
          "2024-09-09T00:00:00.000000000",
          "2024-09-10T00:00:00.000000000",
          "2024-09-11T00:00:00.000000000",
          "2024-09-12T00:00:00.000000000",
          "2024-09-13T00:00:00.000000000",
          "2024-09-14T00:00:00.000000000",
          "2024-09-15T00:00:00.000000000",
          "2024-09-16T00:00:00.000000000",
          "2024-09-17T00:00:00.000000000",
          "2024-09-18T00:00:00.000000000",
          "2024-09-19T00:00:00.000000000",
          "2024-09-20T00:00:00.000000000",
          "2024-09-21T00:00:00.000000000",
          "2024-09-22T00:00:00.000000000",
          "2024-09-23T00:00:00.000000000",
          "2024-09-24T00:00:00.000000000",
          "2024-09-25T00:00:00.000000000",
          "2024-09-26T00:00:00.000000000",
          "2024-09-27T00:00:00.000000000",
          "2024-09-28T00:00:00.000000000",
          "2024-09-29T00:00:00.000000000",
          "2024-09-30T00:00:00.000000000",
          "2024-10-01T00:00:00.000000000",
          "2024-10-02T00:00:00.000000000",
          "2024-10-03T00:00:00.000000000",
          "2024-10-04T00:00:00.000000000",
          "2024-10-05T00:00:00.000000000",
          "2024-10-06T00:00:00.000000000",
          "2024-10-07T00:00:00.000000000",
          "2024-10-08T00:00:00.000000000",
          "2024-10-09T00:00:00.000000000",
          "2024-10-10T00:00:00.000000000",
          "2024-10-11T00:00:00.000000000",
          "2024-10-12T00:00:00.000000000",
          "2024-10-13T00:00:00.000000000",
          "2024-10-14T00:00:00.000000000",
          "2024-10-15T00:00:00.000000000",
          "2024-10-16T00:00:00.000000000",
          "2024-10-17T00:00:00.000000000",
          "2024-10-18T00:00:00.000000000",
          "2024-10-19T00:00:00.000000000",
          "2024-10-20T00:00:00.000000000",
          "2024-10-21T00:00:00.000000000",
          "2024-10-22T00:00:00.000000000",
          "2024-10-23T00:00:00.000000000",
          "2024-10-24T00:00:00.000000000",
          "2024-10-25T00:00:00.000000000",
          "2024-10-26T00:00:00.000000000",
          "2024-10-27T00:00:00.000000000",
          "2024-10-28T00:00:00.000000000",
          "2024-10-29T00:00:00.000000000",
          "2024-10-30T00:00:00.000000000",
          "2024-10-31T00:00:00.000000000",
          "2024-11-01T00:00:00.000000000",
          "2024-11-02T00:00:00.000000000",
          "2024-11-03T00:00:00.000000000",
          "2024-11-04T00:00:00.000000000",
          "2024-11-05T00:00:00.000000000",
          "2024-11-06T00:00:00.000000000",
          "2024-11-07T00:00:00.000000000",
          "2024-11-08T00:00:00.000000000",
          "2024-11-09T00:00:00.000000000",
          "2024-11-10T00:00:00.000000000",
          "2024-11-11T00:00:00.000000000",
          "2024-11-12T00:00:00.000000000",
          "2024-11-13T00:00:00.000000000",
          "2024-11-14T00:00:00.000000000",
          "2024-11-15T00:00:00.000000000",
          "2024-11-16T00:00:00.000000000",
          "2024-11-17T00:00:00.000000000",
          "2024-11-18T00:00:00.000000000",
          "2024-11-19T00:00:00.000000000",
          "2024-11-20T00:00:00.000000000",
          "2024-11-21T00:00:00.000000000",
          "2024-11-22T00:00:00.000000000",
          "2024-11-23T00:00:00.000000000",
          "2024-11-24T00:00:00.000000000",
          "2024-11-25T00:00:00.000000000",
          "2024-11-26T00:00:00.000000000",
          "2024-11-27T00:00:00.000000000",
          "2024-11-28T00:00:00.000000000",
          "2024-11-29T00:00:00.000000000",
          "2024-11-30T00:00:00.000000000",
          "2024-12-01T00:00:00.000000000",
          "2024-12-02T00:00:00.000000000",
          "2024-12-03T00:00:00.000000000",
          "2024-12-04T00:00:00.000000000",
          "2024-12-05T00:00:00.000000000",
          "2024-12-06T00:00:00.000000000",
          "2024-12-07T00:00:00.000000000",
          "2024-12-08T00:00:00.000000000",
          "2024-12-09T00:00:00.000000000",
          "2024-12-10T00:00:00.000000000",
          "2024-12-11T00:00:00.000000000",
          "2024-12-12T00:00:00.000000000",
          "2024-12-13T00:00:00.000000000",
          "2024-12-14T00:00:00.000000000",
          "2024-12-15T00:00:00.000000000",
          "2024-12-16T00:00:00.000000000",
          "2024-12-17T00:00:00.000000000",
          "2024-12-18T00:00:00.000000000",
          "2024-12-19T00:00:00.000000000",
          "2024-12-20T00:00:00.000000000",
          "2024-12-21T00:00:00.000000000",
          "2024-12-22T00:00:00.000000000",
          "2024-12-23T00:00:00.000000000",
          "2024-12-24T00:00:00.000000000",
          "2024-12-25T00:00:00.000000000",
          "2024-12-26T00:00:00.000000000",
          "2024-12-27T00:00:00.000000000",
          "2024-12-28T00:00:00.000000000",
          "2024-12-29T00:00:00.000000000",
          "2024-12-30T00:00:00.000000000",
          "2024-12-31T00:00:00.000000000",
          "2025-01-01T00:00:00.000000000",
          "2025-01-02T00:00:00.000000000",
          "2025-01-03T00:00:00.000000000",
          "2025-01-04T00:00:00.000000000",
          "2025-01-05T00:00:00.000000000",
          "2025-01-06T00:00:00.000000000",
          "2025-01-07T00:00:00.000000000",
          "2025-01-08T00:00:00.000000000",
          "2025-01-09T00:00:00.000000000",
          "2025-01-10T00:00:00.000000000",
          "2025-01-11T00:00:00.000000000",
          "2025-01-12T00:00:00.000000000",
          "2025-01-13T00:00:00.000000000",
          "2025-01-14T00:00:00.000000000",
          "2025-01-15T00:00:00.000000000",
          "2025-01-16T00:00:00.000000000",
          "2025-01-17T00:00:00.000000000",
          "2025-01-18T00:00:00.000000000",
          "2025-01-19T00:00:00.000000000",
          "2025-01-20T00:00:00.000000000",
          "2025-01-21T00:00:00.000000000",
          "2025-01-22T00:00:00.000000000",
          "2025-01-23T00:00:00.000000000",
          "2025-01-24T00:00:00.000000000",
          "2025-01-25T00:00:00.000000000",
          "2025-01-26T00:00:00.000000000",
          "2025-01-27T00:00:00.000000000",
          "2025-01-28T00:00:00.000000000",
          "2025-01-29T00:00:00.000000000",
          "2025-01-30T00:00:00.000000000",
          "2025-01-31T00:00:00.000000000",
          "2025-02-01T00:00:00.000000000",
          "2025-02-02T00:00:00.000000000",
          "2025-02-03T00:00:00.000000000",
          "2025-02-04T00:00:00.000000000",
          "2025-02-05T00:00:00.000000000",
          "2025-02-06T00:00:00.000000000",
          "2025-02-07T00:00:00.000000000",
          "2025-02-08T00:00:00.000000000",
          "2025-02-09T00:00:00.000000000",
          "2025-02-10T00:00:00.000000000",
          "2025-02-11T00:00:00.000000000",
          "2025-02-12T00:00:00.000000000",
          "2025-02-13T00:00:00.000000000",
          "2025-02-14T00:00:00.000000000",
          "2025-02-15T00:00:00.000000000",
          "2025-02-16T00:00:00.000000000",
          "2025-02-17T00:00:00.000000000",
          "2025-02-18T00:00:00.000000000",
          "2025-02-19T00:00:00.000000000",
          "2025-02-20T00:00:00.000000000",
          "2025-02-21T00:00:00.000000000",
          "2025-02-22T00:00:00.000000000",
          "2025-02-23T00:00:00.000000000",
          "2025-02-24T00:00:00.000000000",
          "2025-02-25T00:00:00.000000000",
          "2025-02-26T00:00:00.000000000",
          "2025-02-27T00:00:00.000000000",
          "2025-02-28T00:00:00.000000000",
          "2025-03-01T00:00:00.000000000",
          "2025-03-02T00:00:00.000000000",
          "2025-03-03T00:00:00.000000000",
          "2025-03-04T00:00:00.000000000",
          "2025-03-05T00:00:00.000000000",
          "2025-03-06T00:00:00.000000000",
          "2025-03-07T00:00:00.000000000",
          "2025-03-08T00:00:00.000000000",
          "2025-03-09T00:00:00.000000000",
          "2025-03-10T00:00:00.000000000",
          "2025-03-11T00:00:00.000000000",
          "2025-03-12T00:00:00.000000000",
          "2025-03-13T00:00:00.000000000",
          "2025-03-14T00:00:00.000000000",
          "2025-03-15T00:00:00.000000000",
          "2025-03-16T00:00:00.000000000",
          "2025-03-17T00:00:00.000000000",
          "2025-03-18T00:00:00.000000000",
          "2025-03-19T00:00:00.000000000",
          "2025-03-20T00:00:00.000000000",
          "2025-03-21T00:00:00.000000000",
          "2025-03-22T00:00:00.000000000",
          "2025-03-23T00:00:00.000000000",
          "2025-03-24T00:00:00.000000000",
          "2025-03-25T00:00:00.000000000",
          "2025-03-26T00:00:00.000000000",
          "2025-03-27T00:00:00.000000000",
          "2025-03-28T00:00:00.000000000",
          "2025-03-29T00:00:00.000000000",
          "2025-03-30T00:00:00.000000000",
          "2025-03-31T00:00:00.000000000",
          "2025-04-01T00:00:00.000000000",
          "2025-04-02T00:00:00.000000000",
          "2025-04-03T00:00:00.000000000",
          "2025-04-04T00:00:00.000000000",
          "2025-04-05T00:00:00.000000000",
          "2025-04-06T00:00:00.000000000",
          "2025-04-07T00:00:00.000000000",
          "2025-04-08T00:00:00.000000000",
          "2025-04-09T00:00:00.000000000",
          "2025-04-10T00:00:00.000000000",
          "2025-04-11T00:00:00.000000000",
          "2025-04-12T00:00:00.000000000",
          "2025-04-13T00:00:00.000000000",
          "2025-04-14T00:00:00.000000000",
          "2025-04-15T00:00:00.000000000"
         ],
         "xaxis": "x",
         "y": {
          "bdata": "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",
          "dtype": "f8"
         },
         "yaxis": "y"
        },
        {
         "marker": {
          "color": "#979548"
         },
         "name": "gnosis ($4.6M)",
         "showlegend": true,
         "textposition": "auto",
         "type": "bar",
         "x": [
          "2024-04-17T00:00:00.000000000",
          "2024-04-18T00:00:00.000000000",
          "2024-04-19T00:00:00.000000000",
          "2024-04-20T00:00:00.000000000",
          "2024-04-21T00:00:00.000000000",
          "2024-04-22T00:00:00.000000000",
          "2024-04-23T00:00:00.000000000",
          "2024-04-24T00:00:00.000000000",
          "2024-04-25T00:00:00.000000000",
          "2024-04-26T00:00:00.000000000",
          "2024-04-27T00:00:00.000000000",
          "2024-04-28T00:00:00.000000000",
          "2024-04-29T00:00:00.000000000",
          "2024-04-30T00:00:00.000000000",
          "2024-05-01T00:00:00.000000000",
          "2024-05-02T00:00:00.000000000",
          "2024-05-03T00:00:00.000000000",
          "2024-05-04T00:00:00.000000000",
          "2024-05-05T00:00:00.000000000",
          "2024-05-06T00:00:00.000000000",
          "2024-05-07T00:00:00.000000000",
          "2024-05-08T00:00:00.000000000",
          "2024-05-09T00:00:00.000000000",
          "2024-05-10T00:00:00.000000000",
          "2024-05-11T00:00:00.000000000",
          "2024-05-12T00:00:00.000000000",
          "2024-05-13T00:00:00.000000000",
          "2024-05-14T00:00:00.000000000",
          "2024-05-15T00:00:00.000000000",
          "2024-05-16T00:00:00.000000000",
          "2024-05-17T00:00:00.000000000",
          "2024-05-18T00:00:00.000000000",
          "2024-05-19T00:00:00.000000000",
          "2024-05-20T00:00:00.000000000",
          "2024-05-21T00:00:00.000000000",
          "2024-05-22T00:00:00.000000000",
          "2024-05-23T00:00:00.000000000",
          "2024-05-24T00:00:00.000000000",
          "2024-05-25T00:00:00.000000000",
          "2024-05-26T00:00:00.000000000",
          "2024-05-27T00:00:00.000000000",
          "2024-05-28T00:00:00.000000000",
          "2024-05-29T00:00:00.000000000",
          "2024-05-30T00:00:00.000000000",
          "2024-05-31T00:00:00.000000000",
          "2024-06-01T00:00:00.000000000",
          "2024-06-02T00:00:00.000000000",
          "2024-06-03T00:00:00.000000000",
          "2024-06-04T00:00:00.000000000",
          "2024-06-05T00:00:00.000000000",
          "2024-06-06T00:00:00.000000000",
          "2024-06-07T00:00:00.000000000",
          "2024-06-08T00:00:00.000000000",
          "2024-06-09T00:00:00.000000000",
          "2024-06-10T00:00:00.000000000",
          "2024-06-11T00:00:00.000000000",
          "2024-06-12T00:00:00.000000000",
          "2024-06-13T00:00:00.000000000",
          "2024-06-14T00:00:00.000000000",
          "2024-06-15T00:00:00.000000000",
          "2024-06-16T00:00:00.000000000",
          "2024-06-17T00:00:00.000000000",
          "2024-06-18T00:00:00.000000000",
          "2024-06-19T00:00:00.000000000",
          "2024-06-20T00:00:00.000000000",
          "2024-06-21T00:00:00.000000000",
          "2024-06-22T00:00:00.000000000",
          "2024-06-23T00:00:00.000000000",
          "2024-06-24T00:00:00.000000000",
          "2024-06-25T00:00:00.000000000",
          "2024-06-26T00:00:00.000000000",
          "2024-06-27T00:00:00.000000000",
          "2024-06-28T00:00:00.000000000",
          "2024-06-29T00:00:00.000000000",
          "2024-06-30T00:00:00.000000000",
          "2024-07-01T00:00:00.000000000",
          "2024-07-02T00:00:00.000000000",
          "2024-07-03T00:00:00.000000000",
          "2024-07-04T00:00:00.000000000",
          "2024-07-05T00:00:00.000000000",
          "2024-07-06T00:00:00.000000000",
          "2024-07-07T00:00:00.000000000",
          "2024-07-08T00:00:00.000000000",
          "2024-07-09T00:00:00.000000000",
          "2024-07-10T00:00:00.000000000",
          "2024-07-11T00:00:00.000000000",
          "2024-07-12T00:00:00.000000000",
          "2024-07-13T00:00:00.000000000",
          "2024-07-14T00:00:00.000000000",
          "2024-07-15T00:00:00.000000000",
          "2024-07-16T00:00:00.000000000",
          "2024-07-17T00:00:00.000000000",
          "2024-07-18T00:00:00.000000000",
          "2024-07-19T00:00:00.000000000",
          "2024-07-20T00:00:00.000000000",
          "2024-07-21T00:00:00.000000000",
          "2024-07-22T00:00:00.000000000",
          "2024-07-23T00:00:00.000000000",
          "2024-07-24T00:00:00.000000000",
          "2024-07-25T00:00:00.000000000",
          "2024-07-26T00:00:00.000000000",
          "2024-07-27T00:00:00.000000000",
          "2024-07-28T00:00:00.000000000",
          "2024-07-29T00:00:00.000000000",
          "2024-07-30T00:00:00.000000000",
          "2024-07-31T00:00:00.000000000",
          "2024-08-01T00:00:00.000000000",
          "2024-08-02T00:00:00.000000000",
          "2024-08-03T00:00:00.000000000",
          "2024-08-04T00:00:00.000000000",
          "2024-08-05T00:00:00.000000000",
          "2024-08-06T00:00:00.000000000",
          "2024-08-07T00:00:00.000000000",
          "2024-08-08T00:00:00.000000000",
          "2024-08-09T00:00:00.000000000",
          "2024-08-10T00:00:00.000000000",
          "2024-08-11T00:00:00.000000000",
          "2024-08-12T00:00:00.000000000",
          "2024-08-13T00:00:00.000000000",
          "2024-08-14T00:00:00.000000000",
          "2024-08-15T00:00:00.000000000",
          "2024-08-16T00:00:00.000000000",
          "2024-08-17T00:00:00.000000000",
          "2024-08-18T00:00:00.000000000",
          "2024-08-19T00:00:00.000000000",
          "2024-08-20T00:00:00.000000000",
          "2024-08-21T00:00:00.000000000",
          "2024-08-22T00:00:00.000000000",
          "2024-08-23T00:00:00.000000000",
          "2024-08-24T00:00:00.000000000",
          "2024-08-25T00:00:00.000000000",
          "2024-08-26T00:00:00.000000000",
          "2024-08-27T00:00:00.000000000",
          "2024-08-28T00:00:00.000000000",
          "2024-08-29T00:00:00.000000000",
          "2024-08-30T00:00:00.000000000",
          "2024-08-31T00:00:00.000000000",
          "2024-09-01T00:00:00.000000000",
          "2024-09-02T00:00:00.000000000",
          "2024-09-03T00:00:00.000000000",
          "2024-09-04T00:00:00.000000000",
          "2024-09-05T00:00:00.000000000",
          "2024-09-06T00:00:00.000000000",
          "2024-09-07T00:00:00.000000000",
          "2024-09-08T00:00:00.000000000",
          "2024-09-09T00:00:00.000000000",
          "2024-09-10T00:00:00.000000000",
          "2024-09-11T00:00:00.000000000",
          "2024-09-12T00:00:00.000000000",
          "2024-09-13T00:00:00.000000000",
          "2024-09-14T00:00:00.000000000",
          "2024-09-15T00:00:00.000000000",
          "2024-09-16T00:00:00.000000000",
          "2024-09-17T00:00:00.000000000",
          "2024-09-18T00:00:00.000000000",
          "2024-09-19T00:00:00.000000000",
          "2024-09-20T00:00:00.000000000",
          "2024-09-21T00:00:00.000000000",
          "2024-09-22T00:00:00.000000000",
          "2024-09-23T00:00:00.000000000",
          "2024-09-24T00:00:00.000000000",
          "2024-09-25T00:00:00.000000000",
          "2024-09-26T00:00:00.000000000",
          "2024-09-27T00:00:00.000000000",
          "2024-09-28T00:00:00.000000000",
          "2024-09-29T00:00:00.000000000",
          "2024-09-30T00:00:00.000000000",
          "2024-10-01T00:00:00.000000000",
          "2024-10-02T00:00:00.000000000",
          "2024-10-03T00:00:00.000000000",
          "2024-10-04T00:00:00.000000000",
          "2024-10-05T00:00:00.000000000",
          "2024-10-06T00:00:00.000000000",
          "2024-10-07T00:00:00.000000000",
          "2024-10-08T00:00:00.000000000",
          "2024-10-09T00:00:00.000000000",
          "2024-10-10T00:00:00.000000000",
          "2024-10-11T00:00:00.000000000",
          "2024-10-12T00:00:00.000000000",
          "2024-10-13T00:00:00.000000000",
          "2024-10-14T00:00:00.000000000",
          "2024-10-15T00:00:00.000000000",
          "2024-10-16T00:00:00.000000000",
          "2024-10-17T00:00:00.000000000",
          "2024-10-18T00:00:00.000000000",
          "2024-10-19T00:00:00.000000000",
          "2024-10-20T00:00:00.000000000",
          "2024-10-21T00:00:00.000000000",
          "2024-10-22T00:00:00.000000000",
          "2024-10-23T00:00:00.000000000",
          "2024-10-24T00:00:00.000000000",
          "2024-10-25T00:00:00.000000000",
          "2024-10-26T00:00:00.000000000",
          "2024-10-27T00:00:00.000000000",
          "2024-10-28T00:00:00.000000000",
          "2024-10-29T00:00:00.000000000",
          "2024-10-30T00:00:00.000000000",
          "2024-10-31T00:00:00.000000000",
          "2024-11-01T00:00:00.000000000",
          "2024-11-02T00:00:00.000000000",
          "2024-11-03T00:00:00.000000000",
          "2024-11-04T00:00:00.000000000",
          "2024-11-05T00:00:00.000000000",
          "2024-11-06T00:00:00.000000000",
          "2024-11-07T00:00:00.000000000",
          "2024-11-08T00:00:00.000000000",
          "2024-11-09T00:00:00.000000000",
          "2024-11-10T00:00:00.000000000",
          "2024-11-11T00:00:00.000000000",
          "2024-11-12T00:00:00.000000000",
          "2024-11-13T00:00:00.000000000",
          "2024-11-14T00:00:00.000000000",
          "2024-11-15T00:00:00.000000000",
          "2024-11-16T00:00:00.000000000",
          "2024-11-17T00:00:00.000000000",
          "2024-11-18T00:00:00.000000000",
          "2024-11-19T00:00:00.000000000",
          "2024-11-20T00:00:00.000000000",
          "2024-11-21T00:00:00.000000000",
          "2024-11-22T00:00:00.000000000",
          "2024-11-23T00:00:00.000000000",
          "2024-11-24T00:00:00.000000000",
          "2024-11-25T00:00:00.000000000",
          "2024-11-26T00:00:00.000000000",
          "2024-11-27T00:00:00.000000000",
          "2024-11-28T00:00:00.000000000",
          "2024-11-29T00:00:00.000000000",
          "2024-11-30T00:00:00.000000000",
          "2024-12-01T00:00:00.000000000",
          "2024-12-02T00:00:00.000000000",
          "2024-12-03T00:00:00.000000000",
          "2024-12-04T00:00:00.000000000",
          "2024-12-05T00:00:00.000000000",
          "2024-12-06T00:00:00.000000000",
          "2024-12-07T00:00:00.000000000",
          "2024-12-08T00:00:00.000000000",
          "2024-12-09T00:00:00.000000000",
          "2024-12-10T00:00:00.000000000",
          "2024-12-11T00:00:00.000000000",
          "2024-12-12T00:00:00.000000000",
          "2024-12-13T00:00:00.000000000",
          "2024-12-14T00:00:00.000000000",
          "2024-12-15T00:00:00.000000000",
          "2024-12-16T00:00:00.000000000",
          "2024-12-17T00:00:00.000000000",
          "2024-12-18T00:00:00.000000000",
          "2024-12-19T00:00:00.000000000",
          "2024-12-20T00:00:00.000000000",
          "2024-12-21T00:00:00.000000000",
          "2024-12-22T00:00:00.000000000",
          "2024-12-23T00:00:00.000000000",
          "2024-12-24T00:00:00.000000000",
          "2024-12-25T00:00:00.000000000",
          "2024-12-26T00:00:00.000000000",
          "2024-12-27T00:00:00.000000000",
          "2024-12-28T00:00:00.000000000",
          "2024-12-29T00:00:00.000000000",
          "2024-12-30T00:00:00.000000000",
          "2024-12-31T00:00:00.000000000",
          "2025-01-01T00:00:00.000000000",
          "2025-01-02T00:00:00.000000000",
          "2025-01-03T00:00:00.000000000",
          "2025-01-04T00:00:00.000000000",
          "2025-01-05T00:00:00.000000000",
          "2025-01-06T00:00:00.000000000",
          "2025-01-07T00:00:00.000000000",
          "2025-01-08T00:00:00.000000000",
          "2025-01-09T00:00:00.000000000",
          "2025-01-10T00:00:00.000000000",
          "2025-01-11T00:00:00.000000000",
          "2025-01-12T00:00:00.000000000",
          "2025-01-13T00:00:00.000000000",
          "2025-01-14T00:00:00.000000000",
          "2025-01-15T00:00:00.000000000",
          "2025-01-16T00:00:00.000000000",
          "2025-01-17T00:00:00.000000000",
          "2025-01-18T00:00:00.000000000",
          "2025-01-19T00:00:00.000000000",
          "2025-01-20T00:00:00.000000000",
          "2025-01-21T00:00:00.000000000",
          "2025-01-22T00:00:00.000000000",
          "2025-01-23T00:00:00.000000000",
          "2025-01-24T00:00:00.000000000",
          "2025-01-25T00:00:00.000000000",
          "2025-01-26T00:00:00.000000000",
          "2025-01-27T00:00:00.000000000",
          "2025-01-28T00:00:00.000000000",
          "2025-01-29T00:00:00.000000000",
          "2025-01-30T00:00:00.000000000",
          "2025-01-31T00:00:00.000000000",
          "2025-02-01T00:00:00.000000000",
          "2025-02-02T00:00:00.000000000",
          "2025-02-03T00:00:00.000000000",
          "2025-02-04T00:00:00.000000000",
          "2025-02-05T00:00:00.000000000",
          "2025-02-06T00:00:00.000000000",
          "2025-02-07T00:00:00.000000000",
          "2025-02-08T00:00:00.000000000",
          "2025-02-09T00:00:00.000000000",
          "2025-02-10T00:00:00.000000000",
          "2025-02-11T00:00:00.000000000",
          "2025-02-12T00:00:00.000000000",
          "2025-02-13T00:00:00.000000000",
          "2025-02-14T00:00:00.000000000",
          "2025-02-15T00:00:00.000000000",
          "2025-02-16T00:00:00.000000000",
          "2025-02-17T00:00:00.000000000",
          "2025-02-18T00:00:00.000000000",
          "2025-02-19T00:00:00.000000000",
          "2025-02-20T00:00:00.000000000",
          "2025-02-21T00:00:00.000000000",
          "2025-02-22T00:00:00.000000000",
          "2025-02-23T00:00:00.000000000",
          "2025-02-24T00:00:00.000000000",
          "2025-02-25T00:00:00.000000000",
          "2025-02-26T00:00:00.000000000",
          "2025-02-27T00:00:00.000000000",
          "2025-02-28T00:00:00.000000000",
          "2025-03-01T00:00:00.000000000",
          "2025-03-02T00:00:00.000000000",
          "2025-03-03T00:00:00.000000000",
          "2025-03-04T00:00:00.000000000",
          "2025-03-05T00:00:00.000000000",
          "2025-03-06T00:00:00.000000000",
          "2025-03-07T00:00:00.000000000",
          "2025-03-08T00:00:00.000000000",
          "2025-03-09T00:00:00.000000000",
          "2025-03-10T00:00:00.000000000",
          "2025-03-11T00:00:00.000000000",
          "2025-03-12T00:00:00.000000000",
          "2025-03-13T00:00:00.000000000",
          "2025-03-14T00:00:00.000000000",
          "2025-03-15T00:00:00.000000000",
          "2025-03-16T00:00:00.000000000",
          "2025-03-17T00:00:00.000000000",
          "2025-03-18T00:00:00.000000000",
          "2025-03-19T00:00:00.000000000",
          "2025-03-20T00:00:00.000000000",
          "2025-03-21T00:00:00.000000000",
          "2025-03-22T00:00:00.000000000",
          "2025-03-23T00:00:00.000000000",
          "2025-03-24T00:00:00.000000000",
          "2025-03-25T00:00:00.000000000",
          "2025-03-26T00:00:00.000000000",
          "2025-03-27T00:00:00.000000000",
          "2025-03-28T00:00:00.000000000",
          "2025-03-29T00:00:00.000000000",
          "2025-03-30T00:00:00.000000000",
          "2025-03-31T00:00:00.000000000",
          "2025-04-01T00:00:00.000000000",
          "2025-04-02T00:00:00.000000000",
          "2025-04-03T00:00:00.000000000",
          "2025-04-04T00:00:00.000000000",
          "2025-04-05T00:00:00.000000000",
          "2025-04-06T00:00:00.000000000",
          "2025-04-07T00:00:00.000000000",
          "2025-04-08T00:00:00.000000000",
          "2025-04-09T00:00:00.000000000",
          "2025-04-10T00:00:00.000000000",
          "2025-04-11T00:00:00.000000000",
          "2025-04-12T00:00:00.000000000",
          "2025-04-13T00:00:00.000000000",
          "2025-04-14T00:00:00.000000000",
          "2025-04-15T00:00:00.000000000"
         ],
         "xaxis": "x",
         "y": {
          "bdata": "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",
          "dtype": "f8"
         },
         "yaxis": "y"
        },
        {
         "marker": {
          "color": "#AF0038"
         },
         "name": "blast ($2.2M)",
         "showlegend": true,
         "textposition": "auto",
         "type": "bar",
         "x": [
          "2024-04-17T00:00:00.000000000",
          "2024-04-18T00:00:00.000000000",
          "2024-04-19T00:00:00.000000000",
          "2024-04-20T00:00:00.000000000",
          "2024-04-21T00:00:00.000000000",
          "2024-04-22T00:00:00.000000000",
          "2024-04-23T00:00:00.000000000",
          "2024-04-24T00:00:00.000000000",
          "2024-04-25T00:00:00.000000000",
          "2024-04-26T00:00:00.000000000",
          "2024-04-27T00:00:00.000000000",
          "2024-04-28T00:00:00.000000000",
          "2024-04-29T00:00:00.000000000",
          "2024-04-30T00:00:00.000000000",
          "2024-05-01T00:00:00.000000000",
          "2024-05-02T00:00:00.000000000",
          "2024-05-03T00:00:00.000000000",
          "2024-05-04T00:00:00.000000000",
          "2024-05-05T00:00:00.000000000",
          "2024-05-06T00:00:00.000000000",
          "2024-05-07T00:00:00.000000000",
          "2024-05-08T00:00:00.000000000",
          "2024-05-09T00:00:00.000000000",
          "2024-05-10T00:00:00.000000000",
          "2024-05-11T00:00:00.000000000",
          "2024-05-12T00:00:00.000000000",
          "2024-05-13T00:00:00.000000000",
          "2024-05-14T00:00:00.000000000",
          "2024-05-15T00:00:00.000000000",
          "2024-05-16T00:00:00.000000000",
          "2024-05-17T00:00:00.000000000",
          "2024-05-18T00:00:00.000000000",
          "2024-05-19T00:00:00.000000000",
          "2024-05-20T00:00:00.000000000",
          "2024-05-21T00:00:00.000000000",
          "2024-05-22T00:00:00.000000000",
          "2024-05-23T00:00:00.000000000",
          "2024-05-24T00:00:00.000000000",
          "2024-05-25T00:00:00.000000000",
          "2024-05-26T00:00:00.000000000",
          "2024-05-27T00:00:00.000000000",
          "2024-05-28T00:00:00.000000000",
          "2024-05-29T00:00:00.000000000",
          "2024-05-30T00:00:00.000000000",
          "2024-05-31T00:00:00.000000000",
          "2024-06-01T00:00:00.000000000",
          "2024-06-02T00:00:00.000000000",
          "2024-06-03T00:00:00.000000000",
          "2024-06-04T00:00:00.000000000",
          "2024-06-05T00:00:00.000000000",
          "2024-06-06T00:00:00.000000000",
          "2024-06-07T00:00:00.000000000",
          "2024-06-08T00:00:00.000000000",
          "2024-06-09T00:00:00.000000000",
          "2024-06-10T00:00:00.000000000",
          "2024-06-11T00:00:00.000000000",
          "2024-06-12T00:00:00.000000000",
          "2024-06-13T00:00:00.000000000",
          "2024-06-14T00:00:00.000000000",
          "2024-06-15T00:00:00.000000000",
          "2024-06-16T00:00:00.000000000",
          "2024-06-17T00:00:00.000000000",
          "2024-06-18T00:00:00.000000000",
          "2024-06-19T00:00:00.000000000",
          "2024-06-20T00:00:00.000000000",
          "2024-06-21T00:00:00.000000000",
          "2024-06-22T00:00:00.000000000",
          "2024-06-23T00:00:00.000000000",
          "2024-06-24T00:00:00.000000000",
          "2024-06-25T00:00:00.000000000",
          "2024-06-26T00:00:00.000000000",
          "2024-06-27T00:00:00.000000000",
          "2024-06-28T00:00:00.000000000",
          "2024-06-29T00:00:00.000000000",
          "2024-06-30T00:00:00.000000000",
          "2024-07-01T00:00:00.000000000",
          "2024-07-02T00:00:00.000000000",
          "2024-07-03T00:00:00.000000000",
          "2024-07-04T00:00:00.000000000",
          "2024-07-05T00:00:00.000000000",
          "2024-07-06T00:00:00.000000000",
          "2024-07-07T00:00:00.000000000",
          "2024-07-08T00:00:00.000000000",
          "2024-07-09T00:00:00.000000000",
          "2024-07-10T00:00:00.000000000",
          "2024-07-11T00:00:00.000000000",
          "2024-07-12T00:00:00.000000000",
          "2024-07-13T00:00:00.000000000",
          "2024-07-14T00:00:00.000000000",
          "2024-07-15T00:00:00.000000000",
          "2024-07-16T00:00:00.000000000",
          "2024-07-17T00:00:00.000000000",
          "2024-07-18T00:00:00.000000000",
          "2024-07-19T00:00:00.000000000",
          "2024-07-20T00:00:00.000000000",
          "2024-07-21T00:00:00.000000000",
          "2024-07-22T00:00:00.000000000",
          "2024-07-23T00:00:00.000000000",
          "2024-07-24T00:00:00.000000000",
          "2024-07-25T00:00:00.000000000",
          "2024-07-26T00:00:00.000000000",
          "2024-07-27T00:00:00.000000000",
          "2024-07-28T00:00:00.000000000",
          "2024-07-29T00:00:00.000000000",
          "2024-07-30T00:00:00.000000000",
          "2024-07-31T00:00:00.000000000",
          "2024-08-01T00:00:00.000000000",
          "2024-08-02T00:00:00.000000000",
          "2024-08-03T00:00:00.000000000",
          "2024-08-04T00:00:00.000000000",
          "2024-08-05T00:00:00.000000000",
          "2024-08-06T00:00:00.000000000",
          "2024-08-07T00:00:00.000000000",
          "2024-08-08T00:00:00.000000000",
          "2024-08-09T00:00:00.000000000",
          "2024-08-10T00:00:00.000000000",
          "2024-08-11T00:00:00.000000000",
          "2024-08-12T00:00:00.000000000",
          "2024-08-13T00:00:00.000000000",
          "2024-08-14T00:00:00.000000000",
          "2024-08-15T00:00:00.000000000",
          "2024-08-16T00:00:00.000000000",
          "2024-08-17T00:00:00.000000000",
          "2024-08-18T00:00:00.000000000",
          "2024-08-19T00:00:00.000000000",
          "2024-08-20T00:00:00.000000000",
          "2024-08-21T00:00:00.000000000",
          "2024-08-22T00:00:00.000000000",
          "2024-08-23T00:00:00.000000000",
          "2024-08-24T00:00:00.000000000",
          "2024-08-25T00:00:00.000000000",
          "2024-08-26T00:00:00.000000000",
          "2024-08-27T00:00:00.000000000",
          "2024-08-28T00:00:00.000000000",
          "2024-08-29T00:00:00.000000000",
          "2024-08-30T00:00:00.000000000",
          "2024-08-31T00:00:00.000000000",
          "2024-09-01T00:00:00.000000000",
          "2024-09-02T00:00:00.000000000",
          "2024-09-03T00:00:00.000000000",
          "2024-09-04T00:00:00.000000000",
          "2024-09-05T00:00:00.000000000",
          "2024-09-06T00:00:00.000000000",
          "2024-09-07T00:00:00.000000000",
          "2024-09-08T00:00:00.000000000",
          "2024-09-09T00:00:00.000000000",
          "2024-09-10T00:00:00.000000000",
          "2024-09-11T00:00:00.000000000",
          "2024-09-12T00:00:00.000000000",
          "2024-09-13T00:00:00.000000000",
          "2024-09-14T00:00:00.000000000",
          "2024-09-15T00:00:00.000000000",
          "2024-09-16T00:00:00.000000000",
          "2024-09-17T00:00:00.000000000",
          "2024-09-18T00:00:00.000000000",
          "2024-09-19T00:00:00.000000000",
          "2024-09-20T00:00:00.000000000",
          "2024-09-21T00:00:00.000000000",
          "2024-09-22T00:00:00.000000000",
          "2024-09-23T00:00:00.000000000",
          "2024-09-24T00:00:00.000000000",
          "2024-09-25T00:00:00.000000000",
          "2024-09-26T00:00:00.000000000",
          "2024-09-27T00:00:00.000000000",
          "2024-09-28T00:00:00.000000000",
          "2024-09-29T00:00:00.000000000",
          "2024-09-30T00:00:00.000000000",
          "2024-10-01T00:00:00.000000000",
          "2024-10-02T00:00:00.000000000",
          "2024-10-03T00:00:00.000000000",
          "2024-10-04T00:00:00.000000000",
          "2024-10-05T00:00:00.000000000",
          "2024-10-06T00:00:00.000000000",
          "2024-10-07T00:00:00.000000000",
          "2024-10-08T00:00:00.000000000",
          "2024-10-09T00:00:00.000000000",
          "2024-10-10T00:00:00.000000000",
          "2024-10-11T00:00:00.000000000",
          "2024-10-12T00:00:00.000000000",
          "2024-10-13T00:00:00.000000000",
          "2024-10-14T00:00:00.000000000",
          "2024-10-15T00:00:00.000000000",
          "2024-10-16T00:00:00.000000000",
          "2024-10-17T00:00:00.000000000",
          "2024-10-18T00:00:00.000000000",
          "2024-10-19T00:00:00.000000000",
          "2024-10-20T00:00:00.000000000",
          "2024-10-21T00:00:00.000000000",
          "2024-10-22T00:00:00.000000000",
          "2024-10-23T00:00:00.000000000",
          "2024-10-24T00:00:00.000000000",
          "2024-10-25T00:00:00.000000000",
          "2024-10-26T00:00:00.000000000",
          "2024-10-27T00:00:00.000000000",
          "2024-10-28T00:00:00.000000000",
          "2024-10-29T00:00:00.000000000",
          "2024-10-30T00:00:00.000000000",
          "2024-10-31T00:00:00.000000000",
          "2024-11-01T00:00:00.000000000",
          "2024-11-02T00:00:00.000000000",
          "2024-11-03T00:00:00.000000000",
          "2024-11-04T00:00:00.000000000",
          "2024-11-05T00:00:00.000000000",
          "2024-11-06T00:00:00.000000000",
          "2024-11-07T00:00:00.000000000",
          "2024-11-08T00:00:00.000000000",
          "2024-11-09T00:00:00.000000000",
          "2024-11-10T00:00:00.000000000",
          "2024-11-11T00:00:00.000000000",
          "2024-11-12T00:00:00.000000000",
          "2024-11-13T00:00:00.000000000",
          "2024-11-14T00:00:00.000000000",
          "2024-11-15T00:00:00.000000000",
          "2024-11-16T00:00:00.000000000",
          "2024-11-17T00:00:00.000000000",
          "2024-11-18T00:00:00.000000000",
          "2024-11-19T00:00:00.000000000",
          "2024-11-20T00:00:00.000000000",
          "2024-11-21T00:00:00.000000000",
          "2024-11-22T00:00:00.000000000",
          "2024-11-23T00:00:00.000000000",
          "2024-11-24T00:00:00.000000000",
          "2024-11-25T00:00:00.000000000",
          "2024-11-26T00:00:00.000000000",
          "2024-11-27T00:00:00.000000000",
          "2024-11-28T00:00:00.000000000",
          "2024-11-29T00:00:00.000000000",
          "2024-11-30T00:00:00.000000000",
          "2024-12-01T00:00:00.000000000",
          "2024-12-02T00:00:00.000000000",
          "2024-12-03T00:00:00.000000000",
          "2024-12-04T00:00:00.000000000",
          "2024-12-05T00:00:00.000000000",
          "2024-12-06T00:00:00.000000000",
          "2024-12-07T00:00:00.000000000",
          "2024-12-08T00:00:00.000000000",
          "2024-12-09T00:00:00.000000000",
          "2024-12-10T00:00:00.000000000",
          "2024-12-11T00:00:00.000000000",
          "2024-12-12T00:00:00.000000000",
          "2024-12-13T00:00:00.000000000",
          "2024-12-14T00:00:00.000000000",
          "2024-12-15T00:00:00.000000000",
          "2024-12-16T00:00:00.000000000",
          "2024-12-17T00:00:00.000000000",
          "2024-12-18T00:00:00.000000000",
          "2024-12-19T00:00:00.000000000",
          "2024-12-20T00:00:00.000000000",
          "2024-12-21T00:00:00.000000000",
          "2024-12-22T00:00:00.000000000",
          "2024-12-23T00:00:00.000000000",
          "2024-12-24T00:00:00.000000000",
          "2024-12-25T00:00:00.000000000",
          "2024-12-26T00:00:00.000000000",
          "2024-12-27T00:00:00.000000000",
          "2024-12-28T00:00:00.000000000",
          "2024-12-29T00:00:00.000000000",
          "2024-12-30T00:00:00.000000000",
          "2024-12-31T00:00:00.000000000",
          "2025-01-01T00:00:00.000000000",
          "2025-01-02T00:00:00.000000000",
          "2025-01-03T00:00:00.000000000",
          "2025-01-04T00:00:00.000000000",
          "2025-01-05T00:00:00.000000000",
          "2025-01-06T00:00:00.000000000",
          "2025-01-07T00:00:00.000000000",
          "2025-01-08T00:00:00.000000000",
          "2025-01-09T00:00:00.000000000",
          "2025-01-10T00:00:00.000000000",
          "2025-01-11T00:00:00.000000000",
          "2025-01-12T00:00:00.000000000",
          "2025-01-13T00:00:00.000000000",
          "2025-01-14T00:00:00.000000000",
          "2025-01-15T00:00:00.000000000",
          "2025-01-16T00:00:00.000000000",
          "2025-01-17T00:00:00.000000000",
          "2025-01-18T00:00:00.000000000",
          "2025-01-19T00:00:00.000000000",
          "2025-01-20T00:00:00.000000000",
          "2025-01-21T00:00:00.000000000",
          "2025-01-22T00:00:00.000000000",
          "2025-01-23T00:00:00.000000000",
          "2025-01-24T00:00:00.000000000",
          "2025-01-25T00:00:00.000000000",
          "2025-01-26T00:00:00.000000000",
          "2025-01-27T00:00:00.000000000",
          "2025-01-28T00:00:00.000000000",
          "2025-01-29T00:00:00.000000000",
          "2025-01-30T00:00:00.000000000",
          "2025-01-31T00:00:00.000000000",
          "2025-02-01T00:00:00.000000000",
          "2025-02-02T00:00:00.000000000",
          "2025-02-03T00:00:00.000000000",
          "2025-02-04T00:00:00.000000000",
          "2025-02-05T00:00:00.000000000",
          "2025-02-06T00:00:00.000000000",
          "2025-02-07T00:00:00.000000000",
          "2025-02-08T00:00:00.000000000",
          "2025-02-09T00:00:00.000000000",
          "2025-02-10T00:00:00.000000000",
          "2025-02-11T00:00:00.000000000",
          "2025-02-12T00:00:00.000000000",
          "2025-02-13T00:00:00.000000000",
          "2025-02-14T00:00:00.000000000",
          "2025-02-15T00:00:00.000000000",
          "2025-02-16T00:00:00.000000000",
          "2025-02-17T00:00:00.000000000",
          "2025-02-18T00:00:00.000000000",
          "2025-02-19T00:00:00.000000000",
          "2025-02-20T00:00:00.000000000",
          "2025-02-21T00:00:00.000000000",
          "2025-02-22T00:00:00.000000000",
          "2025-02-23T00:00:00.000000000",
          "2025-02-24T00:00:00.000000000",
          "2025-02-25T00:00:00.000000000",
          "2025-02-26T00:00:00.000000000",
          "2025-02-27T00:00:00.000000000",
          "2025-02-28T00:00:00.000000000",
          "2025-03-01T00:00:00.000000000",
          "2025-03-02T00:00:00.000000000",
          "2025-03-03T00:00:00.000000000",
          "2025-03-04T00:00:00.000000000",
          "2025-03-05T00:00:00.000000000",
          "2025-03-06T00:00:00.000000000",
          "2025-03-07T00:00:00.000000000",
          "2025-03-08T00:00:00.000000000",
          "2025-03-09T00:00:00.000000000",
          "2025-03-10T00:00:00.000000000",
          "2025-03-11T00:00:00.000000000",
          "2025-03-12T00:00:00.000000000",
          "2025-03-13T00:00:00.000000000",
          "2025-03-14T00:00:00.000000000",
          "2025-03-15T00:00:00.000000000",
          "2025-03-16T00:00:00.000000000",
          "2025-03-17T00:00:00.000000000",
          "2025-03-18T00:00:00.000000000",
          "2025-03-19T00:00:00.000000000",
          "2025-03-20T00:00:00.000000000",
          "2025-03-21T00:00:00.000000000",
          "2025-03-22T00:00:00.000000000",
          "2025-03-23T00:00:00.000000000",
          "2025-03-24T00:00:00.000000000",
          "2025-03-25T00:00:00.000000000",
          "2025-03-26T00:00:00.000000000",
          "2025-03-27T00:00:00.000000000",
          "2025-03-28T00:00:00.000000000",
          "2025-03-29T00:00:00.000000000",
          "2025-03-30T00:00:00.000000000",
          "2025-03-31T00:00:00.000000000",
          "2025-04-01T00:00:00.000000000",
          "2025-04-02T00:00:00.000000000",
          "2025-04-03T00:00:00.000000000"
         ],
         "xaxis": "x",
         "y": {
          "bdata": "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",
          "dtype": "f8"
         },
         "yaxis": "y"
        },
        {
         "marker": {
          "color": "#ef52a3"
         },
         "name": "near ($4.3K)",
         "showlegend": true,
         "textposition": "auto",
         "type": "bar",
         "x": [
          "2024-04-17T00:00:00.000000000",
          "2024-04-18T00:00:00.000000000",
          "2024-04-19T00:00:00.000000000",
          "2024-04-20T00:00:00.000000000",
          "2024-04-21T00:00:00.000000000",
          "2024-04-22T00:00:00.000000000",
          "2024-04-23T00:00:00.000000000",
          "2024-04-24T00:00:00.000000000",
          "2024-04-25T00:00:00.000000000",
          "2024-04-26T00:00:00.000000000",
          "2024-04-27T00:00:00.000000000",
          "2024-04-28T00:00:00.000000000",
          "2024-04-29T00:00:00.000000000",
          "2024-04-30T00:00:00.000000000",
          "2024-05-01T00:00:00.000000000",
          "2024-05-02T00:00:00.000000000",
          "2024-05-03T00:00:00.000000000",
          "2024-05-04T00:00:00.000000000",
          "2024-05-05T00:00:00.000000000",
          "2024-05-06T00:00:00.000000000",
          "2024-05-07T00:00:00.000000000",
          "2024-05-08T00:00:00.000000000",
          "2024-05-09T00:00:00.000000000",
          "2024-05-10T00:00:00.000000000",
          "2024-05-11T00:00:00.000000000",
          "2024-05-12T00:00:00.000000000",
          "2024-05-13T00:00:00.000000000",
          "2024-05-14T00:00:00.000000000",
          "2024-05-15T00:00:00.000000000",
          "2024-05-16T00:00:00.000000000",
          "2024-05-17T00:00:00.000000000",
          "2024-05-18T00:00:00.000000000",
          "2024-05-19T00:00:00.000000000",
          "2024-05-20T00:00:00.000000000",
          "2024-05-21T00:00:00.000000000",
          "2024-05-22T00:00:00.000000000",
          "2024-05-23T00:00:00.000000000",
          "2024-05-24T00:00:00.000000000",
          "2024-05-25T00:00:00.000000000",
          "2024-05-26T00:00:00.000000000",
          "2024-05-27T00:00:00.000000000",
          "2024-05-28T00:00:00.000000000",
          "2024-05-29T00:00:00.000000000",
          "2024-05-30T00:00:00.000000000",
          "2024-05-31T00:00:00.000000000",
          "2024-06-01T00:00:00.000000000",
          "2024-06-02T00:00:00.000000000",
          "2024-06-03T00:00:00.000000000",
          "2024-06-04T00:00:00.000000000",
          "2024-06-05T00:00:00.000000000",
          "2024-06-06T00:00:00.000000000",
          "2024-06-07T00:00:00.000000000",
          "2024-06-08T00:00:00.000000000",
          "2024-06-09T00:00:00.000000000",
          "2024-06-10T00:00:00.000000000",
          "2024-06-11T00:00:00.000000000",
          "2024-06-12T00:00:00.000000000",
          "2024-06-13T00:00:00.000000000",
          "2024-06-14T00:00:00.000000000",
          "2024-06-15T00:00:00.000000000",
          "2024-06-16T00:00:00.000000000",
          "2024-06-17T00:00:00.000000000",
          "2024-06-18T00:00:00.000000000",
          "2024-06-19T00:00:00.000000000",
          "2024-06-20T00:00:00.000000000",
          "2024-06-21T00:00:00.000000000",
          "2024-06-22T00:00:00.000000000",
          "2024-06-23T00:00:00.000000000",
          "2024-06-24T00:00:00.000000000",
          "2024-06-25T00:00:00.000000000",
          "2024-06-26T00:00:00.000000000",
          "2024-06-27T00:00:00.000000000",
          "2024-06-28T00:00:00.000000000",
          "2024-06-29T00:00:00.000000000",
          "2024-06-30T00:00:00.000000000",
          "2024-07-01T00:00:00.000000000",
          "2024-07-02T00:00:00.000000000",
          "2024-07-03T00:00:00.000000000",
          "2024-07-04T00:00:00.000000000",
          "2024-07-05T00:00:00.000000000",
          "2024-07-06T00:00:00.000000000",
          "2024-07-07T00:00:00.000000000",
          "2024-07-08T00:00:00.000000000",
          "2024-07-09T00:00:00.000000000",
          "2024-07-10T00:00:00.000000000",
          "2024-07-11T00:00:00.000000000",
          "2024-07-12T00:00:00.000000000",
          "2024-07-13T00:00:00.000000000",
          "2024-07-14T00:00:00.000000000",
          "2024-07-15T00:00:00.000000000",
          "2024-07-16T00:00:00.000000000",
          "2024-07-17T00:00:00.000000000",
          "2024-07-18T00:00:00.000000000",
          "2024-07-19T00:00:00.000000000",
          "2024-07-20T00:00:00.000000000",
          "2024-07-21T00:00:00.000000000",
          "2024-07-22T00:00:00.000000000",
          "2024-07-23T00:00:00.000000000",
          "2024-07-24T00:00:00.000000000",
          "2024-07-25T00:00:00.000000000",
          "2024-07-26T00:00:00.000000000",
          "2024-07-27T00:00:00.000000000",
          "2024-07-28T00:00:00.000000000",
          "2024-07-29T00:00:00.000000000",
          "2024-07-30T00:00:00.000000000",
          "2024-07-31T00:00:00.000000000",
          "2024-08-01T00:00:00.000000000",
          "2024-08-02T00:00:00.000000000",
          "2024-08-03T00:00:00.000000000",
          "2024-08-04T00:00:00.000000000",
          "2024-08-05T00:00:00.000000000",
          "2024-08-06T00:00:00.000000000",
          "2024-08-07T00:00:00.000000000",
          "2024-08-08T00:00:00.000000000",
          "2024-08-09T00:00:00.000000000",
          "2024-08-10T00:00:00.000000000",
          "2024-08-11T00:00:00.000000000",
          "2024-08-12T00:00:00.000000000",
          "2024-08-13T00:00:00.000000000",
          "2024-08-14T00:00:00.000000000",
          "2024-08-15T00:00:00.000000000",
          "2024-08-16T00:00:00.000000000",
          "2024-08-17T00:00:00.000000000",
          "2024-08-18T00:00:00.000000000",
          "2024-08-19T00:00:00.000000000",
          "2024-08-20T00:00:00.000000000",
          "2024-08-21T00:00:00.000000000",
          "2024-08-22T00:00:00.000000000",
          "2024-08-23T00:00:00.000000000",
          "2024-08-24T00:00:00.000000000",
          "2024-08-25T00:00:00.000000000",
          "2024-08-26T00:00:00.000000000",
          "2024-08-27T00:00:00.000000000",
          "2024-08-28T00:00:00.000000000",
          "2024-08-29T00:00:00.000000000",
          "2024-08-30T00:00:00.000000000",
          "2024-08-31T00:00:00.000000000",
          "2024-09-01T00:00:00.000000000",
          "2024-09-02T00:00:00.000000000",
          "2024-09-03T00:00:00.000000000",
          "2024-09-04T00:00:00.000000000",
          "2024-09-05T00:00:00.000000000",
          "2024-09-06T00:00:00.000000000",
          "2024-09-07T00:00:00.000000000",
          "2024-09-08T00:00:00.000000000",
          "2024-09-09T00:00:00.000000000",
          "2024-09-10T00:00:00.000000000",
          "2024-09-11T00:00:00.000000000",
          "2024-09-12T00:00:00.000000000",
          "2024-09-13T00:00:00.000000000",
          "2024-09-14T00:00:00.000000000",
          "2024-09-15T00:00:00.000000000",
          "2024-09-16T00:00:00.000000000",
          "2024-09-17T00:00:00.000000000",
          "2024-09-18T00:00:00.000000000",
          "2024-09-19T00:00:00.000000000",
          "2024-09-20T00:00:00.000000000",
          "2024-09-21T00:00:00.000000000",
          "2024-09-22T00:00:00.000000000",
          "2024-09-23T00:00:00.000000000",
          "2024-09-24T00:00:00.000000000",
          "2024-09-25T00:00:00.000000000",
          "2024-09-26T00:00:00.000000000",
          "2024-09-27T00:00:00.000000000",
          "2024-09-28T00:00:00.000000000",
          "2024-09-29T00:00:00.000000000",
          "2024-09-30T00:00:00.000000000",
          "2024-10-01T00:00:00.000000000",
          "2024-10-02T00:00:00.000000000",
          "2024-10-03T00:00:00.000000000",
          "2024-10-04T00:00:00.000000000",
          "2024-10-05T00:00:00.000000000",
          "2024-10-06T00:00:00.000000000",
          "2024-10-07T00:00:00.000000000",
          "2024-10-08T00:00:00.000000000",
          "2024-10-09T00:00:00.000000000",
          "2024-10-10T00:00:00.000000000",
          "2024-10-11T00:00:00.000000000",
          "2024-10-12T00:00:00.000000000",
          "2024-10-13T00:00:00.000000000",
          "2024-10-14T00:00:00.000000000",
          "2024-10-15T00:00:00.000000000",
          "2024-10-16T00:00:00.000000000",
          "2024-10-17T00:00:00.000000000",
          "2024-10-18T00:00:00.000000000",
          "2024-10-19T00:00:00.000000000",
          "2024-10-20T00:00:00.000000000",
          "2024-10-21T00:00:00.000000000",
          "2024-10-22T00:00:00.000000000",
          "2024-10-23T00:00:00.000000000",
          "2024-10-24T00:00:00.000000000",
          "2024-10-25T00:00:00.000000000",
          "2024-10-26T00:00:00.000000000",
          "2024-10-27T00:00:00.000000000",
          "2024-10-28T00:00:00.000000000",
          "2024-10-29T00:00:00.000000000",
          "2024-10-30T00:00:00.000000000",
          "2024-10-31T00:00:00.000000000",
          "2024-11-01T00:00:00.000000000",
          "2024-11-02T00:00:00.000000000",
          "2024-11-03T00:00:00.000000000",
          "2024-11-04T00:00:00.000000000",
          "2024-11-05T00:00:00.000000000",
          "2024-11-06T00:00:00.000000000",
          "2024-11-07T00:00:00.000000000",
          "2024-11-08T00:00:00.000000000",
          "2024-11-09T00:00:00.000000000",
          "2024-11-10T00:00:00.000000000",
          "2024-11-11T00:00:00.000000000",
          "2024-11-12T00:00:00.000000000",
          "2024-11-13T00:00:00.000000000",
          "2024-11-14T00:00:00.000000000",
          "2024-11-15T00:00:00.000000000",
          "2024-11-16T00:00:00.000000000",
          "2024-11-17T00:00:00.000000000",
          "2024-11-18T00:00:00.000000000",
          "2024-11-19T00:00:00.000000000",
          "2024-11-20T00:00:00.000000000",
          "2024-11-21T00:00:00.000000000",
          "2024-11-22T00:00:00.000000000",
          "2024-11-23T00:00:00.000000000",
          "2024-11-24T00:00:00.000000000",
          "2024-11-25T00:00:00.000000000",
          "2024-11-26T00:00:00.000000000",
          "2024-11-27T00:00:00.000000000",
          "2024-11-28T00:00:00.000000000",
          "2024-11-29T00:00:00.000000000",
          "2024-11-30T00:00:00.000000000",
          "2024-12-01T00:00:00.000000000",
          "2024-12-02T00:00:00.000000000",
          "2024-12-03T00:00:00.000000000",
          "2024-12-04T00:00:00.000000000",
          "2024-12-05T00:00:00.000000000",
          "2024-12-06T00:00:00.000000000",
          "2024-12-07T00:00:00.000000000",
          "2024-12-08T00:00:00.000000000",
          "2024-12-09T00:00:00.000000000",
          "2024-12-10T00:00:00.000000000",
          "2024-12-11T00:00:00.000000000",
          "2024-12-12T00:00:00.000000000",
          "2024-12-13T00:00:00.000000000",
          "2024-12-14T00:00:00.000000000",
          "2024-12-15T00:00:00.000000000",
          "2024-12-16T00:00:00.000000000",
          "2024-12-17T00:00:00.000000000",
          "2024-12-18T00:00:00.000000000",
          "2024-12-19T00:00:00.000000000",
          "2024-12-20T00:00:00.000000000",
          "2024-12-21T00:00:00.000000000",
          "2024-12-22T00:00:00.000000000",
          "2024-12-23T00:00:00.000000000",
          "2024-12-24T00:00:00.000000000",
          "2024-12-25T00:00:00.000000000",
          "2024-12-26T00:00:00.000000000",
          "2024-12-27T00:00:00.000000000",
          "2024-12-28T00:00:00.000000000",
          "2024-12-29T00:00:00.000000000",
          "2024-12-30T00:00:00.000000000",
          "2024-12-31T00:00:00.000000000",
          "2025-01-01T00:00:00.000000000",
          "2025-01-02T00:00:00.000000000",
          "2025-01-03T00:00:00.000000000",
          "2025-01-04T00:00:00.000000000",
          "2025-01-05T00:00:00.000000000",
          "2025-01-06T00:00:00.000000000",
          "2025-01-07T00:00:00.000000000",
          "2025-01-08T00:00:00.000000000",
          "2025-01-09T00:00:00.000000000",
          "2025-01-10T00:00:00.000000000",
          "2025-01-11T00:00:00.000000000",
          "2025-01-12T00:00:00.000000000",
          "2025-01-13T00:00:00.000000000",
          "2025-01-14T00:00:00.000000000",
          "2025-01-15T00:00:00.000000000",
          "2025-01-16T00:00:00.000000000",
          "2025-01-17T00:00:00.000000000",
          "2025-01-18T00:00:00.000000000",
          "2025-01-19T00:00:00.000000000",
          "2025-01-20T00:00:00.000000000",
          "2025-01-21T00:00:00.000000000",
          "2025-01-22T00:00:00.000000000",
          "2025-01-23T00:00:00.000000000",
          "2025-01-24T00:00:00.000000000",
          "2025-01-25T00:00:00.000000000",
          "2025-01-26T00:00:00.000000000",
          "2025-01-27T00:00:00.000000000",
          "2025-01-28T00:00:00.000000000",
          "2025-01-29T00:00:00.000000000",
          "2025-01-30T00:00:00.000000000",
          "2025-01-31T00:00:00.000000000",
          "2025-02-01T00:00:00.000000000",
          "2025-02-02T00:00:00.000000000",
          "2025-02-03T00:00:00.000000000",
          "2025-02-04T00:00:00.000000000",
          "2025-02-05T00:00:00.000000000",
          "2025-02-06T00:00:00.000000000",
          "2025-02-07T00:00:00.000000000",
          "2025-02-08T00:00:00.000000000",
          "2025-02-09T00:00:00.000000000",
          "2025-02-10T00:00:00.000000000",
          "2025-02-11T00:00:00.000000000",
          "2025-02-12T00:00:00.000000000",
          "2025-02-13T00:00:00.000000000",
          "2025-02-14T00:00:00.000000000",
          "2025-02-15T00:00:00.000000000",
          "2025-02-16T00:00:00.000000000",
          "2025-02-17T00:00:00.000000000",
          "2025-02-18T00:00:00.000000000",
          "2025-02-19T00:00:00.000000000",
          "2025-02-20T00:00:00.000000000",
          "2025-02-21T00:00:00.000000000",
          "2025-02-22T00:00:00.000000000",
          "2025-02-23T00:00:00.000000000",
          "2025-02-24T00:00:00.000000000",
          "2025-02-25T00:00:00.000000000",
          "2025-02-26T00:00:00.000000000",
          "2025-02-27T00:00:00.000000000",
          "2025-02-28T00:00:00.000000000",
          "2025-03-01T00:00:00.000000000",
          "2025-03-02T00:00:00.000000000",
          "2025-03-03T00:00:00.000000000",
          "2025-03-04T00:00:00.000000000",
          "2025-03-05T00:00:00.000000000",
          "2025-03-06T00:00:00.000000000",
          "2025-03-07T00:00:00.000000000",
          "2025-03-08T00:00:00.000000000",
          "2025-03-09T00:00:00.000000000",
          "2025-03-10T00:00:00.000000000",
          "2025-03-11T00:00:00.000000000",
          "2025-03-12T00:00:00.000000000",
          "2025-03-13T00:00:00.000000000",
          "2025-03-14T00:00:00.000000000",
          "2025-03-15T00:00:00.000000000",
          "2025-03-16T00:00:00.000000000",
          "2025-03-17T00:00:00.000000000",
          "2025-03-18T00:00:00.000000000",
          "2025-03-19T00:00:00.000000000",
          "2025-03-20T00:00:00.000000000",
          "2025-03-21T00:00:00.000000000",
          "2025-03-22T00:00:00.000000000",
          "2025-03-23T00:00:00.000000000",
          "2025-03-24T00:00:00.000000000",
          "2025-03-25T00:00:00.000000000",
          "2025-03-26T00:00:00.000000000",
          "2025-03-27T00:00:00.000000000",
          "2025-03-28T00:00:00.000000000",
          "2025-03-29T00:00:00.000000000",
          "2025-03-30T00:00:00.000000000",
          "2025-03-31T00:00:00.000000000",
          "2025-04-01T00:00:00.000000000",
          "2025-04-02T00:00:00.000000000",
          "2025-04-03T00:00:00.000000000",
          "2025-04-04T00:00:00.000000000",
          "2025-04-05T00:00:00.000000000",
          "2025-04-06T00:00:00.000000000",
          "2025-04-07T00:00:00.000000000",
          "2025-04-08T00:00:00.000000000",
          "2025-04-09T00:00:00.000000000",
          "2025-04-10T00:00:00.000000000",
          "2025-04-11T00:00:00.000000000",
          "2025-04-12T00:00:00.000000000",
          "2025-04-13T00:00:00.000000000",
          "2025-04-14T00:00:00.000000000",
          "2025-04-15T00:00:00.000000000"
         ],
         "xaxis": "x",
         "y": {
          "bdata": "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",
          "dtype": "f8"
         },
         "yaxis": "y"
        }
       ],
       "layout": {
        "autosize": true,
        "barmode": "stack",
        "font": {
         "color": "black",
         "family": "Cardo",
         "size": 16
        },
        "height": 600,
        "hovermode": "x unified",
        "legend": {
         "bgcolor": "rgba(0,0,0,0)",
         "bordercolor": "rgba(0,0,0,0)",
         "borderwidth": 1,
         "font": {
          "color": "black",
          "family": "Cardo",
          "size": 12
         },
         "orientation": "v",
         "traceorder": "normal",
         "x": 0.01,
         "xanchor": "left",
         "y": 1.1,
         "yanchor": "top"
        },
        "margin": {
         "t": 125
        },
        "template": {
         "data": {
          "bar": [
           {
            "error_x": {
             "color": "#2a3f5f"
            },
            "error_y": {
             "color": "#2a3f5f"
            },
            "marker": {
             "line": {
              "color": "white",
              "width": 0.5
             },
             "pattern": {
              "fillmode": "overlay",
              "size": 10,
              "solidity": 0.2
             }
            },
            "type": "bar"
           }
          ],
          "barpolar": [
           {
            "marker": {
             "line": {
              "color": "white",
              "width": 0.5
             },
             "pattern": {
              "fillmode": "overlay",
              "size": 10,
              "solidity": 0.2
             }
            },
            "type": "barpolar"
           }
          ],
          "carpet": [
           {
            "aaxis": {
             "endlinecolor": "#2a3f5f",
             "gridcolor": "#C8D4E3",
             "linecolor": "#C8D4E3",
             "minorgridcolor": "#C8D4E3",
             "startlinecolor": "#2a3f5f"
            },
            "baxis": {
             "endlinecolor": "#2a3f5f",
             "gridcolor": "#C8D4E3",
             "linecolor": "#C8D4E3",
             "minorgridcolor": "#C8D4E3",
             "startlinecolor": "#2a3f5f"
            },
            "type": "carpet"
           }
          ],
          "choropleth": [
           {
            "colorbar": {
             "outlinewidth": 0,
             "ticks": ""
            },
            "type": "choropleth"
           }
          ],
          "contour": [
           {
            "colorbar": {
             "outlinewidth": 0,
             "ticks": ""
            },
            "colorscale": [
             [
              0,
              "#0d0887"
             ],
             [
              0.1111111111111111,
              "#46039f"
             ],
             [
              0.2222222222222222,
              "#7201a8"
             ],
             [
              0.3333333333333333,
              "#9c179e"
             ],
             [
              0.4444444444444444,
              "#bd3786"
             ],
             [
              0.5555555555555556,
              "#d8576b"
             ],
             [
              0.6666666666666666,
              "#ed7953"
             ],
             [
              0.7777777777777778,
              "#fb9f3a"
             ],
             [
              0.8888888888888888,
              "#fdca26"
             ],
             [
              1,
              "#f0f921"
             ]
            ],
            "type": "contour"
           }
          ],
          "contourcarpet": [
           {
            "colorbar": {
             "outlinewidth": 0,
             "ticks": ""
            },
            "type": "contourcarpet"
           }
          ],
          "heatmap": [
           {
            "colorbar": {
             "outlinewidth": 0,
             "ticks": ""
            },
            "colorscale": [
             [
              0,
              "#0d0887"
             ],
             [
              0.1111111111111111,
              "#46039f"
             ],
             [
              0.2222222222222222,
              "#7201a8"
             ],
             [
              0.3333333333333333,
              "#9c179e"
             ],
             [
              0.4444444444444444,
              "#bd3786"
             ],
             [
              0.5555555555555556,
              "#d8576b"
             ],
             [
              0.6666666666666666,
              "#ed7953"
             ],
             [
              0.7777777777777778,
              "#fb9f3a"
             ],
             [
              0.8888888888888888,
              "#fdca26"
             ],
             [
              1,
              "#f0f921"
             ]
            ],
            "type": "heatmap"
           }
          ],
          "histogram": [
           {
            "marker": {
             "pattern": {
              "fillmode": "overlay",
              "size": 10,
              "solidity": 0.2
             }
            },
            "type": "histogram"
           }
          ],
          "histogram2d": [
           {
            "colorbar": {
             "outlinewidth": 0,
             "ticks": ""
            },
            "colorscale": [
             [
              0,
              "#0d0887"
             ],
             [
              0.1111111111111111,
              "#46039f"
             ],
             [
              0.2222222222222222,
              "#7201a8"
             ],
             [
              0.3333333333333333,
              "#9c179e"
             ],
             [
              0.4444444444444444,
              "#bd3786"
             ],
             [
              0.5555555555555556,
              "#d8576b"
             ],
             [
              0.6666666666666666,
              "#ed7953"
             ],
             [
              0.7777777777777778,
              "#fb9f3a"
             ],
             [
              0.8888888888888888,
              "#fdca26"
             ],
             [
              1,
              "#f0f921"
             ]
            ],
            "type": "histogram2d"
           }
          ],
          "histogram2dcontour": [
           {
            "colorbar": {
             "outlinewidth": 0,
             "ticks": ""
            },
            "colorscale": [
             [
              0,
              "#0d0887"
             ],
             [
              0.1111111111111111,
              "#46039f"
             ],
             [
              0.2222222222222222,
              "#7201a8"
             ],
             [
              0.3333333333333333,
              "#9c179e"
             ],
             [
              0.4444444444444444,
              "#bd3786"
             ],
             [
              0.5555555555555556,
              "#d8576b"
             ],
             [
              0.6666666666666666,
              "#ed7953"
             ],
             [
              0.7777777777777778,
              "#fb9f3a"
             ],
             [
              0.8888888888888888,
              "#fdca26"
             ],
             [
              1,
              "#f0f921"
             ]
            ],
            "type": "histogram2dcontour"
           }
          ],
          "mesh3d": [
           {
            "colorbar": {
             "outlinewidth": 0,
             "ticks": ""
            },
            "type": "mesh3d"
           }
          ],
          "parcoords": [
           {
            "line": {
             "colorbar": {
              "outlinewidth": 0,
              "ticks": ""
             }
            },
            "type": "parcoords"
           }
          ],
          "pie": [
           {
            "automargin": true,
            "type": "pie"
           }
          ],
          "scatter": [
           {
            "fillpattern": {
             "fillmode": "overlay",
             "size": 10,
             "solidity": 0.2
            },
            "type": "scatter"
           }
          ],
          "scatter3d": [
           {
            "line": {
             "colorbar": {
              "outlinewidth": 0,
              "ticks": ""
             }
            },
            "marker": {
             "colorbar": {
              "outlinewidth": 0,
              "ticks": ""
             }
            },
            "type": "scatter3d"
           }
          ],
          "scattercarpet": [
           {
            "marker": {
             "colorbar": {
              "outlinewidth": 0,
              "ticks": ""
             }
            },
            "type": "scattercarpet"
           }
          ],
          "scattergeo": [
           {
            "marker": {
             "colorbar": {
              "outlinewidth": 0,
              "ticks": ""
             }
            },
            "type": "scattergeo"
           }
          ],
          "scattergl": [
           {
            "marker": {
             "colorbar": {
              "outlinewidth": 0,
              "ticks": ""
             }
            },
            "type": "scattergl"
           }
          ],
          "scattermap": [
           {
            "marker": {
             "colorbar": {
              "outlinewidth": 0,
              "ticks": ""
             }
            },
            "type": "scattermap"
           }
          ],
          "scattermapbox": [
           {
            "marker": {
             "colorbar": {
              "outlinewidth": 0,
              "ticks": ""
             }
            },
            "type": "scattermapbox"
           }
          ],
          "scatterpolar": [
           {
            "marker": {
             "colorbar": {
              "outlinewidth": 0,
              "ticks": ""
             }
            },
            "type": "scatterpolar"
           }
          ],
          "scatterpolargl": [
           {
            "marker": {
             "colorbar": {
              "outlinewidth": 0,
              "ticks": ""
             }
            },
            "type": "scatterpolargl"
           }
          ],
          "scatterternary": [
           {
            "marker": {
             "colorbar": {
              "outlinewidth": 0,
              "ticks": ""
             }
            },
            "type": "scatterternary"
           }
          ],
          "surface": [
           {
            "colorbar": {
             "outlinewidth": 0,
             "ticks": ""
            },
            "colorscale": [
             [
              0,
              "#0d0887"
             ],
             [
              0.1111111111111111,
              "#46039f"
             ],
             [
              0.2222222222222222,
              "#7201a8"
             ],
             [
              0.3333333333333333,
              "#9c179e"
             ],
             [
              0.4444444444444444,
              "#bd3786"
             ],
             [
              0.5555555555555556,
              "#d8576b"
             ],
             [
              0.6666666666666666,
              "#ed7953"
             ],
             [
              0.7777777777777778,
              "#fb9f3a"
             ],
             [
              0.8888888888888888,
              "#fdca26"
             ],
             [
              1,
              "#f0f921"
             ]
            ],
            "type": "surface"
           }
          ],
          "table": [
           {
            "cells": {
             "fill": {
              "color": "#EBF0F8"
             },
             "line": {
              "color": "white"
             }
            },
            "header": {
             "fill": {
              "color": "#C8D4E3"
             },
             "line": {
              "color": "white"
             }
            },
            "type": "table"
           }
          ]
         },
         "layout": {
          "annotationdefaults": {
           "arrowcolor": "#2a3f5f",
           "arrowhead": 0,
           "arrowwidth": 1
          },
          "autotypenumbers": "strict",
          "coloraxis": {
           "colorbar": {
            "outlinewidth": 0,
            "ticks": ""
           }
          },
          "colorscale": {
           "diverging": [
            [
             0,
             "#8e0152"
            ],
            [
             0.1,
             "#c51b7d"
            ],
            [
             0.2,
             "#de77ae"
            ],
            [
             0.3,
             "#f1b6da"
            ],
            [
             0.4,
             "#fde0ef"
            ],
            [
             0.5,
             "#f7f7f7"
            ],
            [
             0.6,
             "#e6f5d0"
            ],
            [
             0.7,
             "#b8e186"
            ],
            [
             0.8,
             "#7fbc41"
            ],
            [
             0.9,
             "#4d9221"
            ],
            [
             1,
             "#276419"
            ]
           ],
           "sequential": [
            [
             0,
             "#0d0887"
            ],
            [
             0.1111111111111111,
             "#46039f"
            ],
            [
             0.2222222222222222,
             "#7201a8"
            ],
            [
             0.3333333333333333,
             "#9c179e"
            ],
            [
             0.4444444444444444,
             "#bd3786"
            ],
            [
             0.5555555555555556,
             "#d8576b"
            ],
            [
             0.6666666666666666,
             "#ed7953"
            ],
            [
             0.7777777777777778,
             "#fb9f3a"
            ],
            [
             0.8888888888888888,
             "#fdca26"
            ],
            [
             1,
             "#f0f921"
            ]
           ],
           "sequentialminus": [
            [
             0,
             "#0d0887"
            ],
            [
             0.1111111111111111,
             "#46039f"
            ],
            [
             0.2222222222222222,
             "#7201a8"
            ],
            [
             0.3333333333333333,
             "#9c179e"
            ],
            [
             0.4444444444444444,
             "#bd3786"
            ],
            [
             0.5555555555555556,
             "#d8576b"
            ],
            [
             0.6666666666666666,
             "#ed7953"
            ],
            [
             0.7777777777777778,
             "#fb9f3a"
            ],
            [
             0.8888888888888888,
             "#fdca26"
            ],
            [
             1,
             "#f0f921"
            ]
           ]
          },
          "colorway": [
           "#636efa",
           "#EF553B",
           "#00cc96",
           "#ab63fa",
           "#FFA15A",
           "#19d3f3",
           "#FF6692",
           "#B6E880",
           "#FF97FF",
           "#FECB52"
          ],
          "font": {
           "color": "#2a3f5f"
          },
          "geo": {
           "bgcolor": "white",
           "lakecolor": "white",
           "landcolor": "white",
           "showlakes": true,
           "showland": true,
           "subunitcolor": "#C8D4E3"
          },
          "hoverlabel": {
           "align": "left"
          },
          "hovermode": "closest",
          "mapbox": {
           "style": "light"
          },
          "paper_bgcolor": "white",
          "plot_bgcolor": "white",
          "polar": {
           "angularaxis": {
            "gridcolor": "#EBF0F8",
            "linecolor": "#EBF0F8",
            "ticks": ""
           },
           "bgcolor": "white",
           "radialaxis": {
            "gridcolor": "#EBF0F8",
            "linecolor": "#EBF0F8",
            "ticks": ""
           }
          },
          "scene": {
           "xaxis": {
            "backgroundcolor": "white",
            "gridcolor": "#DFE8F3",
            "gridwidth": 2,
            "linecolor": "#EBF0F8",
            "showbackground": true,
            "ticks": "",
            "zerolinecolor": "#EBF0F8"
           },
           "yaxis": {
            "backgroundcolor": "white",
            "gridcolor": "#DFE8F3",
            "gridwidth": 2,
            "linecolor": "#EBF0F8",
            "showbackground": true,
            "ticks": "",
            "zerolinecolor": "#EBF0F8"
           },
           "zaxis": {
            "backgroundcolor": "white",
            "gridcolor": "#DFE8F3",
            "gridwidth": 2,
            "linecolor": "#EBF0F8",
            "showbackground": true,
            "ticks": "",
            "zerolinecolor": "#EBF0F8"
           }
          },
          "shapedefaults": {
           "line": {
            "color": "#2a3f5f"
           }
          },
          "ternary": {
           "aaxis": {
            "gridcolor": "#DFE8F3",
            "linecolor": "#A2B1C6",
            "ticks": ""
           },
           "baxis": {
            "gridcolor": "#DFE8F3",
            "linecolor": "#A2B1C6",
            "ticks": ""
           },
           "bgcolor": "white",
           "caxis": {
            "gridcolor": "#DFE8F3",
            "linecolor": "#A2B1C6",
            "ticks": ""
           }
          },
          "title": {
           "x": 0.05
          },
          "xaxis": {
           "automargin": true,
           "gridcolor": "#EBF0F8",
           "linecolor": "#EBF0F8",
           "ticks": "",
           "title": {
            "standoff": 15
           },
           "zerolinecolor": "#EBF0F8",
           "zerolinewidth": 2
          },
          "yaxis": {
           "automargin": true,
           "gridcolor": "#EBF0F8",
           "linecolor": "#EBF0F8",
           "ticks": "",
           "title": {
            "standoff": 15
           },
           "zerolinecolor": "#EBF0F8",
           "zerolinewidth": 2
          }
         }
        },
        "title": {
         "font": {
          "color": "black",
          "family": "Cardo",
          "size": 27
         },
         "text": "<span style='color: black; font-weight: normal;'>DEX Volume by Blockchain</span><br><sub style='font-size: 18px; color: black; font-weight: normal;'>Daily through 2025-04-15 00:00:00</sub>",
         "x": 0.2,
         "xanchor": "left",
         "y": 0.9,
         "yanchor": "top"
        },
        "width": 1000,
        "xaxis": {
         "anchor": "y",
         "domain": [
          0,
          0.94
         ],
         "tickfont": {
          "color": "black"
         },
         "tickformat": "%b %d <br>%y"
        },
        "yaxis": {
         "anchor": "x",
         "color": "black",
         "domain": [
          0,
          1
         ],
         "showticklabels": true,
         "tickformat": "",
         "tickprefix": "$"
        },
        "yaxis2": {
         "anchor": "x",
         "color": "black",
         "overlaying": "y",
         "side": "right",
         "tickformat": "",
         "tickprefix": ""
        }
       }
      }
     },
     "metadata": {},
     "output_type": "display_data"
    }
   ],
   "source": [
    "cm = ChartMaker(shuffle_colors=True)\n",
    "cm.build(\n",
    "    df = crosschain_dex_stats,\n",
    "    groupby_col='BLOCKCHAIN',\n",
    "    num_col='VOLUME',\n",
    "    title='DEX Volume by Blockchain',\n",
    "    chart_type={'y1':'bar'},\n",
    "    options = {\n",
    "        'margin':dict(t=125),\n",
    "        'annotations':False,\n",
    "        'tickformat': dict(x='%b %d <br>%y'),\n",
    "        'tickprefix':{'y1':'$'},\n",
    "        'decimals': True,\n",
    "        \"dimensions\": dict(width=1000, height=600),\n",
    "    },\n",
    ")\n",
    "cm.add_title(\n",
    "    subtitle=f'Daily through {crosschain_dex_stats.index.max()}',\n",
    "    x=0.2,\n",
    "    y=0.9\n",
    ")\n",
    "# cm.add_annotations()\n",
    "cm.show_fig()"
   ]
  },
  {
   "cell_type": "code",
   "execution_count": 16,
   "id": "3b558806",
   "metadata": {},
   "outputs": [],
   "source": [
    "rlusd = '0x8292Bb45bf1Ee4d140127049757C2E0fF06317eD'\n",
    "address = rlusd.lower()\n",
    "network = 'ethereum'\n",
    "start_date = '2024-12-01'\n",
    "freq = 'm'"
   ]
  },
  {
   "cell_type": "code",
   "execution_count": 27,
   "id": "0fc4159e",
   "metadata": {},
   "outputs": [],
   "source": [
    "rlusd_addresses_data_og = pd.read_csv('data/rlusd_active_addresses.csv')"
   ]
  },
  {
   "cell_type": "code",
   "execution_count": 28,
   "id": "9b076fcf",
   "metadata": {},
   "outputs": [],
   "source": [
    "rlusd_addresses_data = rlusd_addresses_data_og.copy()"
   ]
  },
  {
   "cell_type": "code",
   "execution_count": 29,
   "id": "915b64a8",
   "metadata": {},
   "outputs": [
    {
     "data": {
      "text/html": [
       "<div>\n",
       "<style scoped>\n",
       "    .dataframe tbody tr th:only-of-type {\n",
       "        vertical-align: middle;\n",
       "    }\n",
       "\n",
       "    .dataframe tbody tr th {\n",
       "        vertical-align: top;\n",
       "    }\n",
       "\n",
       "    .dataframe thead th {\n",
       "        text-align: right;\n",
       "    }\n",
       "</style>\n",
       "<table border=\"1\" class=\"dataframe\">\n",
       "  <thead>\n",
       "    <tr style=\"text-align: right;\">\n",
       "      <th></th>\n",
       "      <th>active_addresses</th>\n",
       "      <th>__row_index</th>\n",
       "    </tr>\n",
       "    <tr>\n",
       "      <th>dt</th>\n",
       "      <th></th>\n",
       "      <th></th>\n",
       "    </tr>\n",
       "  </thead>\n",
       "  <tbody>\n",
       "    <tr>\n",
       "      <th>2024-12-01</th>\n",
       "      <td>163</td>\n",
       "      <td>0</td>\n",
       "    </tr>\n",
       "    <tr>\n",
       "      <th>2025-01-01</th>\n",
       "      <td>439</td>\n",
       "      <td>1</td>\n",
       "    </tr>\n",
       "    <tr>\n",
       "      <th>2025-02-01</th>\n",
       "      <td>710</td>\n",
       "      <td>2</td>\n",
       "    </tr>\n",
       "    <tr>\n",
       "      <th>2025-03-01</th>\n",
       "      <td>683</td>\n",
       "      <td>3</td>\n",
       "    </tr>\n",
       "    <tr>\n",
       "      <th>2025-04-01</th>\n",
       "      <td>238</td>\n",
       "      <td>4</td>\n",
       "    </tr>\n",
       "  </tbody>\n",
       "</table>\n",
       "</div>"
      ],
      "text/plain": [
       "            active_addresses  __row_index\n",
       "dt                                       \n",
       "2024-12-01               163            0\n",
       "2025-01-01               439            1\n",
       "2025-02-01               710            2\n",
       "2025-03-01               683            3\n",
       "2025-04-01               238            4"
      ]
     },
     "execution_count": 29,
     "metadata": {},
     "output_type": "execute_result"
    }
   ],
   "source": [
    "rlusd_addresses_data, freq = test_cleaner.to_time(rlusd_addresses_data)\n",
    "rlusd_addresses_data"
   ]
  },
  {
   "cell_type": "code",
   "execution_count": 30,
   "id": "4c40e73a",
   "metadata": {},
   "outputs": [
    {
     "data": {
      "text/plain": [
       "'MS'"
      ]
     },
     "execution_count": 30,
     "metadata": {},
     "output_type": "execute_result"
    }
   ],
   "source": [
    "freq"
   ]
  },
  {
   "cell_type": "code",
   "execution_count": 31,
   "id": "2c9ebada",
   "metadata": {},
   "outputs": [],
   "source": [
    "rlusd_addresses_data = test_cleaner.clean_dates(rlusd_addresses_data,freq)"
   ]
  },
  {
   "cell_type": "code",
   "execution_count": 32,
   "id": "d6ca0aa5",
   "metadata": {},
   "outputs": [
    {
     "data": {
      "text/html": [
       "<div>\n",
       "<style scoped>\n",
       "    .dataframe tbody tr th:only-of-type {\n",
       "        vertical-align: middle;\n",
       "    }\n",
       "\n",
       "    .dataframe tbody tr th {\n",
       "        vertical-align: top;\n",
       "    }\n",
       "\n",
       "    .dataframe thead th {\n",
       "        text-align: right;\n",
       "    }\n",
       "</style>\n",
       "<table border=\"1\" class=\"dataframe\">\n",
       "  <thead>\n",
       "    <tr style=\"text-align: right;\">\n",
       "      <th></th>\n",
       "      <th>active_addresses</th>\n",
       "      <th>__row_index</th>\n",
       "    </tr>\n",
       "    <tr>\n",
       "      <th>dt</th>\n",
       "      <th></th>\n",
       "      <th></th>\n",
       "    </tr>\n",
       "  </thead>\n",
       "  <tbody>\n",
       "    <tr>\n",
       "      <th>2024-12-01</th>\n",
       "      <td>163</td>\n",
       "      <td>0</td>\n",
       "    </tr>\n",
       "    <tr>\n",
       "      <th>2025-01-01</th>\n",
       "      <td>439</td>\n",
       "      <td>1</td>\n",
       "    </tr>\n",
       "    <tr>\n",
       "      <th>2025-02-01</th>\n",
       "      <td>710</td>\n",
       "      <td>2</td>\n",
       "    </tr>\n",
       "    <tr>\n",
       "      <th>2025-03-01</th>\n",
       "      <td>683</td>\n",
       "      <td>3</td>\n",
       "    </tr>\n",
       "  </tbody>\n",
       "</table>\n",
       "</div>"
      ],
      "text/plain": [
       "            active_addresses  __row_index\n",
       "dt                                       \n",
       "2024-12-01               163            0\n",
       "2025-01-01               439            1\n",
       "2025-02-01               710            2\n",
       "2025-03-01               683            3"
      ]
     },
     "execution_count": 32,
     "metadata": {},
     "output_type": "execute_result"
    }
   ],
   "source": [
    "rlusd_addresses_data"
   ]
  },
  {
   "cell_type": "code",
   "execution_count": 34,
   "id": "64e79a45",
   "metadata": {},
   "outputs": [
    {
     "name": "stdout",
     "output_type": "stream",
     "text": [
      "kind: None\n",
      "chart_type: {'y1': 'bar'}\n",
      "text_bool: True\n",
      "trace_args: {'x': DatetimeIndex(['2024-12-01', '2025-01-01', '2025-02-01', '2025-03-01'], dtype='datetime64[ns]', name='dt', freq='MS'), 'y': dt\n",
      "2024-12-01    163\n",
      "2025-01-01    439\n",
      "2025-02-01    710\n",
      "2025-03-01    683\n",
      "Freq: MS, Name: active_addresses, dtype: int64, 'name': 'ACTIVE ADDRESSES (683)     ', 'text': ['163', '439', '710', '683'], 'textposition': 'outside', 'showlegend': False}\n",
      "df:             active_addresses  __row_index\n",
      "dt                                       \n",
      "2024-12-01               163            0\n",
      "2025-01-01               439            1\n",
      "2025-02-01               710            2\n",
      "2025-03-01               683            3\n",
      "first_idx: 2024-12-01 00:00:00\n",
      "last_idx: 2025-03-01 00:00:00\n"
     ]
    },
    {
     "data": {
      "application/vnd.plotly.v1+json": {
       "config": {
        "linkText": "Export to plot.ly",
        "plotlyServerURL": "https://plot.ly",
        "showLink": false
       },
       "data": [
        {
         "marker": {
          "color": "#b3e8ef"
         },
         "name": "ACTIVE ADDRESSES (683)     ",
         "showlegend": false,
         "text": [
          "163",
          "439",
          "710",
          "683"
         ],
         "textposition": "outside",
         "type": "bar",
         "x": [
          "2024-12-01T00:00:00.000000000",
          "2025-01-01T00:00:00.000000000",
          "2025-02-01T00:00:00.000000000",
          "2025-03-01T00:00:00.000000000"
         ],
         "xaxis": "x",
         "y": {
          "bdata": "owC3AcYCqwI=",
          "dtype": "i2"
         },
         "yaxis": "y"
        }
       ],
       "layout": {
        "autosize": true,
        "barmode": "stack",
        "font": {
         "color": "black",
         "family": "Cardo",
         "size": 16
        },
        "height": 400,
        "hovermode": "x unified",
        "legend": {
         "bgcolor": "rgba(0,0,0,0)",
         "bordercolor": "rgba(0,0,0,0)",
         "borderwidth": 1,
         "font": {
          "color": "black",
          "family": "Cardo",
          "size": 12
         },
         "orientation": "v",
         "traceorder": "normal",
         "x": 0.01,
         "xanchor": "left",
         "y": 1.1,
         "yanchor": "top"
        },
        "margin": {
         "t": 125
        },
        "template": {
         "data": {
          "bar": [
           {
            "error_x": {
             "color": "#2a3f5f"
            },
            "error_y": {
             "color": "#2a3f5f"
            },
            "marker": {
             "line": {
              "color": "white",
              "width": 0.5
             },
             "pattern": {
              "fillmode": "overlay",
              "size": 10,
              "solidity": 0.2
             }
            },
            "type": "bar"
           }
          ],
          "barpolar": [
           {
            "marker": {
             "line": {
              "color": "white",
              "width": 0.5
             },
             "pattern": {
              "fillmode": "overlay",
              "size": 10,
              "solidity": 0.2
             }
            },
            "type": "barpolar"
           }
          ],
          "carpet": [
           {
            "aaxis": {
             "endlinecolor": "#2a3f5f",
             "gridcolor": "#C8D4E3",
             "linecolor": "#C8D4E3",
             "minorgridcolor": "#C8D4E3",
             "startlinecolor": "#2a3f5f"
            },
            "baxis": {
             "endlinecolor": "#2a3f5f",
             "gridcolor": "#C8D4E3",
             "linecolor": "#C8D4E3",
             "minorgridcolor": "#C8D4E3",
             "startlinecolor": "#2a3f5f"
            },
            "type": "carpet"
           }
          ],
          "choropleth": [
           {
            "colorbar": {
             "outlinewidth": 0,
             "ticks": ""
            },
            "type": "choropleth"
           }
          ],
          "contour": [
           {
            "colorbar": {
             "outlinewidth": 0,
             "ticks": ""
            },
            "colorscale": [
             [
              0,
              "#0d0887"
             ],
             [
              0.1111111111111111,
              "#46039f"
             ],
             [
              0.2222222222222222,
              "#7201a8"
             ],
             [
              0.3333333333333333,
              "#9c179e"
             ],
             [
              0.4444444444444444,
              "#bd3786"
             ],
             [
              0.5555555555555556,
              "#d8576b"
             ],
             [
              0.6666666666666666,
              "#ed7953"
             ],
             [
              0.7777777777777778,
              "#fb9f3a"
             ],
             [
              0.8888888888888888,
              "#fdca26"
             ],
             [
              1,
              "#f0f921"
             ]
            ],
            "type": "contour"
           }
          ],
          "contourcarpet": [
           {
            "colorbar": {
             "outlinewidth": 0,
             "ticks": ""
            },
            "type": "contourcarpet"
           }
          ],
          "heatmap": [
           {
            "colorbar": {
             "outlinewidth": 0,
             "ticks": ""
            },
            "colorscale": [
             [
              0,
              "#0d0887"
             ],
             [
              0.1111111111111111,
              "#46039f"
             ],
             [
              0.2222222222222222,
              "#7201a8"
             ],
             [
              0.3333333333333333,
              "#9c179e"
             ],
             [
              0.4444444444444444,
              "#bd3786"
             ],
             [
              0.5555555555555556,
              "#d8576b"
             ],
             [
              0.6666666666666666,
              "#ed7953"
             ],
             [
              0.7777777777777778,
              "#fb9f3a"
             ],
             [
              0.8888888888888888,
              "#fdca26"
             ],
             [
              1,
              "#f0f921"
             ]
            ],
            "type": "heatmap"
           }
          ],
          "histogram": [
           {
            "marker": {
             "pattern": {
              "fillmode": "overlay",
              "size": 10,
              "solidity": 0.2
             }
            },
            "type": "histogram"
           }
          ],
          "histogram2d": [
           {
            "colorbar": {
             "outlinewidth": 0,
             "ticks": ""
            },
            "colorscale": [
             [
              0,
              "#0d0887"
             ],
             [
              0.1111111111111111,
              "#46039f"
             ],
             [
              0.2222222222222222,
              "#7201a8"
             ],
             [
              0.3333333333333333,
              "#9c179e"
             ],
             [
              0.4444444444444444,
              "#bd3786"
             ],
             [
              0.5555555555555556,
              "#d8576b"
             ],
             [
              0.6666666666666666,
              "#ed7953"
             ],
             [
              0.7777777777777778,
              "#fb9f3a"
             ],
             [
              0.8888888888888888,
              "#fdca26"
             ],
             [
              1,
              "#f0f921"
             ]
            ],
            "type": "histogram2d"
           }
          ],
          "histogram2dcontour": [
           {
            "colorbar": {
             "outlinewidth": 0,
             "ticks": ""
            },
            "colorscale": [
             [
              0,
              "#0d0887"
             ],
             [
              0.1111111111111111,
              "#46039f"
             ],
             [
              0.2222222222222222,
              "#7201a8"
             ],
             [
              0.3333333333333333,
              "#9c179e"
             ],
             [
              0.4444444444444444,
              "#bd3786"
             ],
             [
              0.5555555555555556,
              "#d8576b"
             ],
             [
              0.6666666666666666,
              "#ed7953"
             ],
             [
              0.7777777777777778,
              "#fb9f3a"
             ],
             [
              0.8888888888888888,
              "#fdca26"
             ],
             [
              1,
              "#f0f921"
             ]
            ],
            "type": "histogram2dcontour"
           }
          ],
          "mesh3d": [
           {
            "colorbar": {
             "outlinewidth": 0,
             "ticks": ""
            },
            "type": "mesh3d"
           }
          ],
          "parcoords": [
           {
            "line": {
             "colorbar": {
              "outlinewidth": 0,
              "ticks": ""
             }
            },
            "type": "parcoords"
           }
          ],
          "pie": [
           {
            "automargin": true,
            "type": "pie"
           }
          ],
          "scatter": [
           {
            "fillpattern": {
             "fillmode": "overlay",
             "size": 10,
             "solidity": 0.2
            },
            "type": "scatter"
           }
          ],
          "scatter3d": [
           {
            "line": {
             "colorbar": {
              "outlinewidth": 0,
              "ticks": ""
             }
            },
            "marker": {
             "colorbar": {
              "outlinewidth": 0,
              "ticks": ""
             }
            },
            "type": "scatter3d"
           }
          ],
          "scattercarpet": [
           {
            "marker": {
             "colorbar": {
              "outlinewidth": 0,
              "ticks": ""
             }
            },
            "type": "scattercarpet"
           }
          ],
          "scattergeo": [
           {
            "marker": {
             "colorbar": {
              "outlinewidth": 0,
              "ticks": ""
             }
            },
            "type": "scattergeo"
           }
          ],
          "scattergl": [
           {
            "marker": {
             "colorbar": {
              "outlinewidth": 0,
              "ticks": ""
             }
            },
            "type": "scattergl"
           }
          ],
          "scattermap": [
           {
            "marker": {
             "colorbar": {
              "outlinewidth": 0,
              "ticks": ""
             }
            },
            "type": "scattermap"
           }
          ],
          "scattermapbox": [
           {
            "marker": {
             "colorbar": {
              "outlinewidth": 0,
              "ticks": ""
             }
            },
            "type": "scattermapbox"
           }
          ],
          "scatterpolar": [
           {
            "marker": {
             "colorbar": {
              "outlinewidth": 0,
              "ticks": ""
             }
            },
            "type": "scatterpolar"
           }
          ],
          "scatterpolargl": [
           {
            "marker": {
             "colorbar": {
              "outlinewidth": 0,
              "ticks": ""
             }
            },
            "type": "scatterpolargl"
           }
          ],
          "scatterternary": [
           {
            "marker": {
             "colorbar": {
              "outlinewidth": 0,
              "ticks": ""
             }
            },
            "type": "scatterternary"
           }
          ],
          "surface": [
           {
            "colorbar": {
             "outlinewidth": 0,
             "ticks": ""
            },
            "colorscale": [
             [
              0,
              "#0d0887"
             ],
             [
              0.1111111111111111,
              "#46039f"
             ],
             [
              0.2222222222222222,
              "#7201a8"
             ],
             [
              0.3333333333333333,
              "#9c179e"
             ],
             [
              0.4444444444444444,
              "#bd3786"
             ],
             [
              0.5555555555555556,
              "#d8576b"
             ],
             [
              0.6666666666666666,
              "#ed7953"
             ],
             [
              0.7777777777777778,
              "#fb9f3a"
             ],
             [
              0.8888888888888888,
              "#fdca26"
             ],
             [
              1,
              "#f0f921"
             ]
            ],
            "type": "surface"
           }
          ],
          "table": [
           {
            "cells": {
             "fill": {
              "color": "#EBF0F8"
             },
             "line": {
              "color": "white"
             }
            },
            "header": {
             "fill": {
              "color": "#C8D4E3"
             },
             "line": {
              "color": "white"
             }
            },
            "type": "table"
           }
          ]
         },
         "layout": {
          "annotationdefaults": {
           "arrowcolor": "#2a3f5f",
           "arrowhead": 0,
           "arrowwidth": 1
          },
          "autotypenumbers": "strict",
          "coloraxis": {
           "colorbar": {
            "outlinewidth": 0,
            "ticks": ""
           }
          },
          "colorscale": {
           "diverging": [
            [
             0,
             "#8e0152"
            ],
            [
             0.1,
             "#c51b7d"
            ],
            [
             0.2,
             "#de77ae"
            ],
            [
             0.3,
             "#f1b6da"
            ],
            [
             0.4,
             "#fde0ef"
            ],
            [
             0.5,
             "#f7f7f7"
            ],
            [
             0.6,
             "#e6f5d0"
            ],
            [
             0.7,
             "#b8e186"
            ],
            [
             0.8,
             "#7fbc41"
            ],
            [
             0.9,
             "#4d9221"
            ],
            [
             1,
             "#276419"
            ]
           ],
           "sequential": [
            [
             0,
             "#0d0887"
            ],
            [
             0.1111111111111111,
             "#46039f"
            ],
            [
             0.2222222222222222,
             "#7201a8"
            ],
            [
             0.3333333333333333,
             "#9c179e"
            ],
            [
             0.4444444444444444,
             "#bd3786"
            ],
            [
             0.5555555555555556,
             "#d8576b"
            ],
            [
             0.6666666666666666,
             "#ed7953"
            ],
            [
             0.7777777777777778,
             "#fb9f3a"
            ],
            [
             0.8888888888888888,
             "#fdca26"
            ],
            [
             1,
             "#f0f921"
            ]
           ],
           "sequentialminus": [
            [
             0,
             "#0d0887"
            ],
            [
             0.1111111111111111,
             "#46039f"
            ],
            [
             0.2222222222222222,
             "#7201a8"
            ],
            [
             0.3333333333333333,
             "#9c179e"
            ],
            [
             0.4444444444444444,
             "#bd3786"
            ],
            [
             0.5555555555555556,
             "#d8576b"
            ],
            [
             0.6666666666666666,
             "#ed7953"
            ],
            [
             0.7777777777777778,
             "#fb9f3a"
            ],
            [
             0.8888888888888888,
             "#fdca26"
            ],
            [
             1,
             "#f0f921"
            ]
           ]
          },
          "colorway": [
           "#636efa",
           "#EF553B",
           "#00cc96",
           "#ab63fa",
           "#FFA15A",
           "#19d3f3",
           "#FF6692",
           "#B6E880",
           "#FF97FF",
           "#FECB52"
          ],
          "font": {
           "color": "#2a3f5f"
          },
          "geo": {
           "bgcolor": "white",
           "lakecolor": "white",
           "landcolor": "white",
           "showlakes": true,
           "showland": true,
           "subunitcolor": "#C8D4E3"
          },
          "hoverlabel": {
           "align": "left"
          },
          "hovermode": "closest",
          "mapbox": {
           "style": "light"
          },
          "paper_bgcolor": "white",
          "plot_bgcolor": "white",
          "polar": {
           "angularaxis": {
            "gridcolor": "#EBF0F8",
            "linecolor": "#EBF0F8",
            "ticks": ""
           },
           "bgcolor": "white",
           "radialaxis": {
            "gridcolor": "#EBF0F8",
            "linecolor": "#EBF0F8",
            "ticks": ""
           }
          },
          "scene": {
           "xaxis": {
            "backgroundcolor": "white",
            "gridcolor": "#DFE8F3",
            "gridwidth": 2,
            "linecolor": "#EBF0F8",
            "showbackground": true,
            "ticks": "",
            "zerolinecolor": "#EBF0F8"
           },
           "yaxis": {
            "backgroundcolor": "white",
            "gridcolor": "#DFE8F3",
            "gridwidth": 2,
            "linecolor": "#EBF0F8",
            "showbackground": true,
            "ticks": "",
            "zerolinecolor": "#EBF0F8"
           },
           "zaxis": {
            "backgroundcolor": "white",
            "gridcolor": "#DFE8F3",
            "gridwidth": 2,
            "linecolor": "#EBF0F8",
            "showbackground": true,
            "ticks": "",
            "zerolinecolor": "#EBF0F8"
           }
          },
          "shapedefaults": {
           "line": {
            "color": "#2a3f5f"
           }
          },
          "ternary": {
           "aaxis": {
            "gridcolor": "#DFE8F3",
            "linecolor": "#A2B1C6",
            "ticks": ""
           },
           "baxis": {
            "gridcolor": "#DFE8F3",
            "linecolor": "#A2B1C6",
            "ticks": ""
           },
           "bgcolor": "white",
           "caxis": {
            "gridcolor": "#DFE8F3",
            "linecolor": "#A2B1C6",
            "ticks": ""
           }
          },
          "title": {
           "x": 0.05
          },
          "xaxis": {
           "automargin": true,
           "gridcolor": "#EBF0F8",
           "linecolor": "#EBF0F8",
           "ticks": "",
           "title": {
            "standoff": 15
           },
           "zerolinecolor": "#EBF0F8",
           "zerolinewidth": 2
          },
          "yaxis": {
           "automargin": true,
           "gridcolor": "#EBF0F8",
           "linecolor": "#EBF0F8",
           "ticks": "",
           "title": {
            "standoff": 15
           },
           "zerolinecolor": "#EBF0F8",
           "zerolinewidth": 2
          }
         }
        },
        "title": {
         "font": {
          "color": "black",
          "family": "Cardo",
          "size": 27
         },
         "text": "<span style='color: black; font-weight: normal;'>$RLUSD Ethereum Active Addresses<br>Over Time</span><br><sub style='font-size: 18px; color: black; font-weight: normal;'>Monthly through 2025-03-01 00:00:00</sub>",
         "x": 0.2,
         "xanchor": "left",
         "y": 0.9,
         "yanchor": "top"
        },
        "width": 730,
        "xaxis": {
         "anchor": "y",
         "domain": [
          0,
          0.94
         ],
         "tickfont": {
          "color": "black"
         },
         "tickformat": "%b %d <br>%y"
        },
        "yaxis": {
         "anchor": "x",
         "color": "rgba(0,0,0,0)",
         "domain": [
          0,
          1
         ],
         "range": [
          0,
          792.05
         ],
         "showticklabels": false,
         "tickformat": "",
         "tickprefix": "",
         "ticksuffix": "",
         "title": {
          "text": ""
         }
        },
        "yaxis2": {
         "anchor": "x",
         "color": "black",
         "overlaying": "y",
         "side": "right",
         "tickformat": ""
        }
       }
      }
     },
     "metadata": {},
     "output_type": "display_data"
    }
   ],
   "source": [
    "cm = ChartMaker(shuffle_colors=True)\n",
    "cm.build(\n",
    "    df = rlusd_addresses_data,\n",
    "    axes_data=dict(y1=['active_addresses']),\n",
    "    title='$RLUSD Ethereum Active Addresses<br>Over Time',\n",
    "    chart_type={'y1':'bar'},\n",
    "    options = {\n",
    "        'margin':dict(t=125),\n",
    "        'annotations':False,\n",
    "        'show_text':True,\n",
    "        'textposition':'outside',\n",
    "        'tickformat': dict(x='%b %d <br>%y'),\n",
    "        'decimals': False\n",
    "    },\n",
    ")\n",
    "cm.add_title(\n",
    "    subtitle=f'Monthly through {rlusd_addresses_data.index.max()}',\n",
    "    x=0.2,\n",
    "    y=0.9\n",
    ")\n",
    "cm.add_annotations()\n",
    "cm.show_fig()"
   ]
  },
  {
   "cell_type": "code",
   "execution_count": 25,
   "id": "326aec96",
   "metadata": {},
   "outputs": [
    {
     "data": {
      "text/html": [
       "<div>\n",
       "<style scoped>\n",
       "    .dataframe tbody tr th:only-of-type {\n",
       "        vertical-align: middle;\n",
       "    }\n",
       "\n",
       "    .dataframe tbody tr th {\n",
       "        vertical-align: top;\n",
       "    }\n",
       "\n",
       "    .dataframe thead th {\n",
       "        text-align: right;\n",
       "    }\n",
       "</style>\n",
       "<table border=\"1\" class=\"dataframe\">\n",
       "  <thead>\n",
       "    <tr style=\"text-align: right;\">\n",
       "      <th></th>\n",
       "      <th>active_addresses</th>\n",
       "      <th>__row_index</th>\n",
       "    </tr>\n",
       "    <tr>\n",
       "      <th>dt</th>\n",
       "      <th></th>\n",
       "      <th></th>\n",
       "    </tr>\n",
       "  </thead>\n",
       "  <tbody>\n",
       "    <tr>\n",
       "      <th>2024-12-01</th>\n",
       "      <td>163</td>\n",
       "      <td>0</td>\n",
       "    </tr>\n",
       "    <tr>\n",
       "      <th>2025-01-01</th>\n",
       "      <td>439</td>\n",
       "      <td>1</td>\n",
       "    </tr>\n",
       "    <tr>\n",
       "      <th>2025-02-01</th>\n",
       "      <td>710</td>\n",
       "      <td>2</td>\n",
       "    </tr>\n",
       "    <tr>\n",
       "      <th>2025-03-01</th>\n",
       "      <td>683</td>\n",
       "      <td>3</td>\n",
       "    </tr>\n",
       "  </tbody>\n",
       "</table>\n",
       "</div>"
      ],
      "text/plain": [
       "            active_addresses  __row_index\n",
       "dt                                       \n",
       "2024-12-01               163            0\n",
       "2025-01-01               439            1\n",
       "2025-02-01               710            2\n",
       "2025-03-01               683            3"
      ]
     },
     "execution_count": 25,
     "metadata": {},
     "output_type": "execute_result"
    }
   ],
   "source": [
    "cm.return_df()\n"
   ]
  },
  {
   "cell_type": "code",
   "execution_count": null,
   "id": "bbadc141",
   "metadata": {},
   "outputs": [],
   "source": []
  }
 ],
 "metadata": {
  "kernelspec": {
   "display_name": "chartengineer_env",
   "language": "python",
   "name": "chartengineer_env"
  },
  "language_info": {
   "codemirror_mode": {
    "name": "ipython",
    "version": 3
   },
   "file_extension": ".py",
   "mimetype": "text/x-python",
   "name": "python",
   "nbconvert_exporter": "python",
   "pygments_lexer": "ipython3",
   "version": "3.12.4"
  }
 },
 "nbformat": 4,
 "nbformat_minor": 5
}
